{
 "cells": [
  {
   "cell_type": "code",
   "execution_count": 55,
   "metadata": {
    "collapsed": true,
    "ExecuteTime": {
     "start_time": "2023-04-06T10:32:46.848347Z",
     "end_time": "2023-04-06T10:32:48.094538Z"
    }
   },
   "outputs": [
    {
     "data": {
      "text/plain": "      timePeriod  index                                            rawText\n0  180X.POS.rand      1                               The_DT hon_NN ._SENT\n1  180X.POS.rand      2  The_DT gallant_JJ general_NN who_WP commanded_...\n2  180X.POS.rand      3  But_CC ,_, Mr._NP Pitt_NP said_VBD ,_, he_PP d...\n3  180X.POS.rand      4  And_CC Dr._NP Hussey_NP ,_, who_WP informs_VBZ...\n4  180X.POS.rand      5  In_IN former_JJ times_NNS and_CC in_IN former_...",
      "text/html": "<div>\n<style scoped>\n    .dataframe tbody tr th:only-of-type {\n        vertical-align: middle;\n    }\n\n    .dataframe tbody tr th {\n        vertical-align: top;\n    }\n\n    .dataframe thead th {\n        text-align: right;\n    }\n</style>\n<table border=\"1\" class=\"dataframe\">\n  <thead>\n    <tr style=\"text-align: right;\">\n      <th></th>\n      <th>timePeriod</th>\n      <th>index</th>\n      <th>rawText</th>\n    </tr>\n  </thead>\n  <tbody>\n    <tr>\n      <th>0</th>\n      <td>180X.POS.rand</td>\n      <td>1</td>\n      <td>The_DT hon_NN ._SENT</td>\n    </tr>\n    <tr>\n      <th>1</th>\n      <td>180X.POS.rand</td>\n      <td>2</td>\n      <td>The_DT gallant_JJ general_NN who_WP commanded_...</td>\n    </tr>\n    <tr>\n      <th>2</th>\n      <td>180X.POS.rand</td>\n      <td>3</td>\n      <td>But_CC ,_, Mr._NP Pitt_NP said_VBD ,_, he_PP d...</td>\n    </tr>\n    <tr>\n      <th>3</th>\n      <td>180X.POS.rand</td>\n      <td>4</td>\n      <td>And_CC Dr._NP Hussey_NP ,_, who_WP informs_VBZ...</td>\n    </tr>\n    <tr>\n      <th>4</th>\n      <td>180X.POS.rand</td>\n      <td>5</td>\n      <td>In_IN former_JJ times_NNS and_CC in_IN former_...</td>\n    </tr>\n  </tbody>\n</table>\n</div>"
     },
     "execution_count": 55,
     "metadata": {},
     "output_type": "execute_result"
    }
   ],
   "source": [
    "import pandas as pd\n",
    "import os\n",
    "\n",
    "papers = pd.read_csv(\n",
    "    \"./rawData/sampler_10ktexts_perdecade.ALL2.tsv\",\n",
    "    sep='\\t',\n",
    "    names=[\"timePeriod\", \"index\", \"rawText\"]\n",
    ")\n",
    "\n",
    "papers.head()"
   ]
  },
  {
   "cell_type": "code",
   "execution_count": 56,
   "outputs": [
    {
     "data": {
      "text/plain": "  timePeriod  index                                            rawText\n0       1800      1                               The_DT hon_NN ._SENT\n1       1800      2  The_DT gallant_JJ general_NN who_WP commanded_...\n2       1800      3  But_CC ,_, Mr._NP Pitt_NP said_VBD ,_, he_PP d...\n3       1800      4  And_CC Dr._NP Hussey_NP ,_, who_WP informs_VBZ...\n4       1800      5  In_IN former_JJ times_NNS and_CC in_IN former_...",
      "text/html": "<div>\n<style scoped>\n    .dataframe tbody tr th:only-of-type {\n        vertical-align: middle;\n    }\n\n    .dataframe tbody tr th {\n        vertical-align: top;\n    }\n\n    .dataframe thead th {\n        text-align: right;\n    }\n</style>\n<table border=\"1\" class=\"dataframe\">\n  <thead>\n    <tr style=\"text-align: right;\">\n      <th></th>\n      <th>timePeriod</th>\n      <th>index</th>\n      <th>rawText</th>\n    </tr>\n  </thead>\n  <tbody>\n    <tr>\n      <th>0</th>\n      <td>1800</td>\n      <td>1</td>\n      <td>The_DT hon_NN ._SENT</td>\n    </tr>\n    <tr>\n      <th>1</th>\n      <td>1800</td>\n      <td>2</td>\n      <td>The_DT gallant_JJ general_NN who_WP commanded_...</td>\n    </tr>\n    <tr>\n      <th>2</th>\n      <td>1800</td>\n      <td>3</td>\n      <td>But_CC ,_, Mr._NP Pitt_NP said_VBD ,_, he_PP d...</td>\n    </tr>\n    <tr>\n      <th>3</th>\n      <td>1800</td>\n      <td>4</td>\n      <td>And_CC Dr._NP Hussey_NP ,_, who_WP informs_VBZ...</td>\n    </tr>\n    <tr>\n      <th>4</th>\n      <td>1800</td>\n      <td>5</td>\n      <td>In_IN former_JJ times_NNS and_CC in_IN former_...</td>\n    </tr>\n  </tbody>\n</table>\n</div>"
     },
     "execution_count": 56,
     "metadata": {},
     "output_type": "execute_result"
    }
   ],
   "source": [
    "papers['timePeriod'] = papers['timePeriod'].map(lambda x: x.rstrip('X.POS.rand'))\n",
    "papers['timePeriod'] = papers['timePeriod'].astype(str) + '0'\n",
    "papers.head()"
   ],
   "metadata": {
    "collapsed": false,
    "ExecuteTime": {
     "start_time": "2023-04-06T10:32:49.033335Z",
     "end_time": "2023-04-06T10:32:49.154679Z"
    }
   }
  },
  {
   "cell_type": "code",
   "execution_count": 70,
   "outputs": [
    {
     "data": {
      "text/plain": "  timePeriod  index                                            rawText\n0 1800-01-01      1                               The_DT hon_NN ._SENT\n1 1800-01-01      2  The_DT gallant_JJ general_NN who_WP commanded_...\n2 1800-01-01      3  But_CC ,_, Mr._NP Pitt_NP said_VBD ,_, he_PP d...\n3 1800-01-01      4  And_CC Dr._NP Hussey_NP ,_, who_WP informs_VBZ...\n4 1800-01-01      5  In_IN former_JJ times_NNS and_CC in_IN former_...",
      "text/html": "<div>\n<style scoped>\n    .dataframe tbody tr th:only-of-type {\n        vertical-align: middle;\n    }\n\n    .dataframe tbody tr th {\n        vertical-align: top;\n    }\n\n    .dataframe thead th {\n        text-align: right;\n    }\n</style>\n<table border=\"1\" class=\"dataframe\">\n  <thead>\n    <tr style=\"text-align: right;\">\n      <th></th>\n      <th>timePeriod</th>\n      <th>index</th>\n      <th>rawText</th>\n    </tr>\n  </thead>\n  <tbody>\n    <tr>\n      <th>0</th>\n      <td>1800-01-01</td>\n      <td>1</td>\n      <td>The_DT hon_NN ._SENT</td>\n    </tr>\n    <tr>\n      <th>1</th>\n      <td>1800-01-01</td>\n      <td>2</td>\n      <td>The_DT gallant_JJ general_NN who_WP commanded_...</td>\n    </tr>\n    <tr>\n      <th>2</th>\n      <td>1800-01-01</td>\n      <td>3</td>\n      <td>But_CC ,_, Mr._NP Pitt_NP said_VBD ,_, he_PP d...</td>\n    </tr>\n    <tr>\n      <th>3</th>\n      <td>1800-01-01</td>\n      <td>4</td>\n      <td>And_CC Dr._NP Hussey_NP ,_, who_WP informs_VBZ...</td>\n    </tr>\n    <tr>\n      <th>4</th>\n      <td>1800-01-01</td>\n      <td>5</td>\n      <td>In_IN former_JJ times_NNS and_CC in_IN former_...</td>\n    </tr>\n  </tbody>\n</table>\n</div>"
     },
     "execution_count": 70,
     "metadata": {},
     "output_type": "execute_result"
    }
   ],
   "source": [
    "papers['timePeriod'] = pd.to_datetime(papers['timePeriod'], format='%Y')\n",
    "papers['timePeriod'] = pd.DatetimeIndex(papers['timePeriod']) #.year\n",
    "papers.head()"
   ],
   "metadata": {
    "collapsed": false,
    "ExecuteTime": {
     "start_time": "2023-04-06T10:37:15.240445Z",
     "end_time": "2023-04-06T10:37:15.286261Z"
    }
   }
  },
  {
   "cell_type": "code",
   "execution_count": 78,
   "outputs": [
    {
     "data": {
      "text/plain": "  timePeriod  index                                            rawText   \n0 1800-01-01      1                               The_DT hon_NN ._SENT  \\\n1 1800-01-01      2  The_DT gallant_JJ general_NN who_WP commanded_...   \n2 1800-01-01      3  But_CC ,_, Mr._NP Pitt_NP said_VBD ,_, he_PP d...   \n3 1800-01-01      4  And_CC Dr._NP Hussey_NP ,_, who_WP informs_VBZ...   \n4 1800-01-01      5  In_IN former_JJ times_NNS and_CC in_IN former_...   \n\n                                       processedText  \n0                               The_DT hon_NN ._SENT  \n1  The_DT gallant_JJ general_NN who_WP commanded_...  \n2  But_CC ,_, Mr._NP Pitt_NP said_VBD ,_, he_PP d...  \n3  And_CC Dr._NP Hussey_NP ,_, who_WP informs_VBZ...  \n4  In_IN former_JJ times_NNS and_CC in_IN former_...  ",
      "text/html": "<div>\n<style scoped>\n    .dataframe tbody tr th:only-of-type {\n        vertical-align: middle;\n    }\n\n    .dataframe tbody tr th {\n        vertical-align: top;\n    }\n\n    .dataframe thead th {\n        text-align: right;\n    }\n</style>\n<table border=\"1\" class=\"dataframe\">\n  <thead>\n    <tr style=\"text-align: right;\">\n      <th></th>\n      <th>timePeriod</th>\n      <th>index</th>\n      <th>rawText</th>\n      <th>processedText</th>\n    </tr>\n  </thead>\n  <tbody>\n    <tr>\n      <th>0</th>\n      <td>1800-01-01</td>\n      <td>1</td>\n      <td>The_DT hon_NN ._SENT</td>\n      <td>The_DT hon_NN ._SENT</td>\n    </tr>\n    <tr>\n      <th>1</th>\n      <td>1800-01-01</td>\n      <td>2</td>\n      <td>The_DT gallant_JJ general_NN who_WP commanded_...</td>\n      <td>The_DT gallant_JJ general_NN who_WP commanded_...</td>\n    </tr>\n    <tr>\n      <th>2</th>\n      <td>1800-01-01</td>\n      <td>3</td>\n      <td>But_CC ,_, Mr._NP Pitt_NP said_VBD ,_, he_PP d...</td>\n      <td>But_CC ,_, Mr._NP Pitt_NP said_VBD ,_, he_PP d...</td>\n    </tr>\n    <tr>\n      <th>3</th>\n      <td>1800-01-01</td>\n      <td>4</td>\n      <td>And_CC Dr._NP Hussey_NP ,_, who_WP informs_VBZ...</td>\n      <td>And_CC Dr._NP Hussey_NP ,_, who_WP informs_VBZ...</td>\n    </tr>\n    <tr>\n      <th>4</th>\n      <td>1800-01-01</td>\n      <td>5</td>\n      <td>In_IN former_JJ times_NNS and_CC in_IN former_...</td>\n      <td>In_IN former_JJ times_NNS and_CC in_IN former_...</td>\n    </tr>\n  </tbody>\n</table>\n</div>"
     },
     "execution_count": 78,
     "metadata": {},
     "output_type": "execute_result"
    }
   ],
   "source": [
    "reducedPapers = papers[papers[\"timePeriod\"].isin(pd.date_range(\"1800-01-01\", \"1830-01-01\"))]\n",
    "reducedPapers.head()"
   ],
   "metadata": {
    "collapsed": false,
    "ExecuteTime": {
     "start_time": "2023-04-06T10:46:26.031738Z",
     "end_time": "2023-04-06T10:46:26.094237Z"
    }
   }
  },
  {
   "cell_type": "code",
   "execution_count": 72,
   "outputs": [
    {
     "name": "stderr",
     "output_type": "stream",
     "text": [
      "[nltk_data] Downloading package stopwords to\n",
      "[nltk_data]     C:\\Users\\sandr\\AppData\\Roaming\\nltk_data...\n",
      "[nltk_data]   Package stopwords is already up-to-date!\n"
     ]
    },
    {
     "data": {
      "text/plain": "  timePeriod  index                                            rawText   \n0 1800-01-01      1                               The_DT hon_NN ._SENT  \\\n1 1800-01-01      2  The_DT gallant_JJ general_NN who_WP commanded_...   \n2 1800-01-01      3  But_CC ,_, Mr._NP Pitt_NP said_VBD ,_, he_PP d...   \n3 1800-01-01      4  And_CC Dr._NP Hussey_NP ,_, who_WP informs_VBZ...   \n4 1800-01-01      5  In_IN former_JJ times_NNS and_CC in_IN former_...   \n\n                                       processedText  \n0                               The_DT hon_NN ._SENT  \n1  The_DT gallant_JJ general_NN who_WP commanded_...  \n2  But_CC ,_, Mr._NP Pitt_NP said_VBD ,_, he_PP d...  \n3  And_CC Dr._NP Hussey_NP ,_, who_WP informs_VBZ...  \n4  In_IN former_JJ times_NNS and_CC in_IN former_...  ",
      "text/html": "<div>\n<style scoped>\n    .dataframe tbody tr th:only-of-type {\n        vertical-align: middle;\n    }\n\n    .dataframe tbody tr th {\n        vertical-align: top;\n    }\n\n    .dataframe thead th {\n        text-align: right;\n    }\n</style>\n<table border=\"1\" class=\"dataframe\">\n  <thead>\n    <tr style=\"text-align: right;\">\n      <th></th>\n      <th>timePeriod</th>\n      <th>index</th>\n      <th>rawText</th>\n      <th>processedText</th>\n    </tr>\n  </thead>\n  <tbody>\n    <tr>\n      <th>0</th>\n      <td>1800-01-01</td>\n      <td>1</td>\n      <td>The_DT hon_NN ._SENT</td>\n      <td>The_DT hon_NN ._SENT</td>\n    </tr>\n    <tr>\n      <th>1</th>\n      <td>1800-01-01</td>\n      <td>2</td>\n      <td>The_DT gallant_JJ general_NN who_WP commanded_...</td>\n      <td>The_DT gallant_JJ general_NN who_WP commanded_...</td>\n    </tr>\n    <tr>\n      <th>2</th>\n      <td>1800-01-01</td>\n      <td>3</td>\n      <td>But_CC ,_, Mr._NP Pitt_NP said_VBD ,_, he_PP d...</td>\n      <td>But_CC ,_, Mr._NP Pitt_NP said_VBD ,_, he_PP d...</td>\n    </tr>\n    <tr>\n      <th>3</th>\n      <td>1800-01-01</td>\n      <td>4</td>\n      <td>And_CC Dr._NP Hussey_NP ,_, who_WP informs_VBZ...</td>\n      <td>And_CC Dr._NP Hussey_NP ,_, who_WP informs_VBZ...</td>\n    </tr>\n    <tr>\n      <th>4</th>\n      <td>1800-01-01</td>\n      <td>5</td>\n      <td>In_IN former_JJ times_NNS and_CC in_IN former_...</td>\n      <td>In_IN former_JJ times_NNS and_CC in_IN former_...</td>\n    </tr>\n  </tbody>\n</table>\n</div>"
     },
     "execution_count": 72,
     "metadata": {},
     "output_type": "execute_result"
    }
   ],
   "source": [
    "import nltk\n",
    "nltk.download('stopwords')\n",
    "from nltk.corpus import stopwords\n",
    "\n",
    "stop_words = stopwords.words('english')\n",
    "reducedPapers['processedText'] = reducedPapers['rawText'].apply(lambda x: ' '.join([word for word in x.split()\n",
    "    if word.lower() not in stop_words]))\n",
    "reducedPapers.head()"
   ],
   "metadata": {
    "collapsed": false,
    "ExecuteTime": {
     "start_time": "2023-04-06T10:37:25.721655Z",
     "end_time": "2023-04-06T10:37:46.625525Z"
    }
   }
  },
  {
   "cell_type": "code",
   "execution_count": 73,
   "outputs": [],
   "source": [
    "from umap import UMAP\n",
    "umap_model = UMAP(n_neighbors=15,\n",
    "                  n_components=5,\n",
    "                  min_dist=0.0,\n",
    "                  metric='cosine',\n",
    "                  random_state=100)"
   ],
   "metadata": {
    "collapsed": false,
    "ExecuteTime": {
     "start_time": "2023-04-06T10:37:50.195883Z",
     "end_time": "2023-04-06T10:37:50.213788Z"
    }
   }
  },
  {
   "cell_type": "code",
   "execution_count": 74,
   "outputs": [],
   "source": [
    "from sklearn.feature_extraction.text import CountVectorizer\n",
    "vectorizer_model = CountVectorizer() #stop_words=stopwords if added stopwords"
   ],
   "metadata": {
    "collapsed": false,
    "ExecuteTime": {
     "start_time": "2023-04-06T10:37:55.238203Z",
     "end_time": "2023-04-06T10:37:55.247861Z"
    }
   }
  },
  {
   "cell_type": "code",
   "execution_count": 84,
   "outputs": [],
   "source": [
    "from bertopic import BERTopic\n",
    "topic_model = BERTopic(language=\"english\",\n",
    "                       calculate_probabilities=True,\n",
    "                       top_n_words=4,\n",
    "                       #nr_topics=10,\n",
    "                       min_topic_size=10,\n",
    "                       n_gram_range=(1,1),\n",
    "                       verbose=True,\n",
    "                        vectorizer_model=vectorizer_model\n",
    "                       )\n"
   ],
   "metadata": {
    "collapsed": false,
    "ExecuteTime": {
     "start_time": "2023-04-06T10:57:11.313802Z",
     "end_time": "2023-04-06T10:57:11.329459Z"
    }
   }
  },
  {
   "cell_type": "markdown",
   "source": [],
   "metadata": {
    "collapsed": false
   }
  },
  {
   "cell_type": "code",
   "execution_count": null,
   "outputs": [
    {
     "data": {
      "text/plain": "Batches:   0%|          | 0/5048 [00:00<?, ?it/s]",
      "application/vnd.jupyter.widget-view+json": {
       "version_major": 2,
       "version_minor": 0,
       "model_id": "a18f6b9e10204dbbb85af3d4b3fd502b"
      }
     },
     "metadata": {},
     "output_type": "display_data"
    }
   ],
   "source": [
    "topics = topic_model.fit_transform(papers['processedText'])\n",
    "topic_model.get_topic_info()"
   ],
   "metadata": {
    "collapsed": false,
    "pycharm": {
     "is_executing": true
    }
   }
  },
  {
   "cell_type": "code",
   "execution_count": 18,
   "outputs": [
    {
     "ename": "NameError",
     "evalue": "name 'papers' is not defined",
     "output_type": "error",
     "traceback": [
      "\u001B[1;31m---------------------------------------------------------------------------\u001B[0m",
      "\u001B[1;31mNameError\u001B[0m                                 Traceback (most recent call last)",
      "Cell \u001B[1;32mIn[18], line 1\u001B[0m\n\u001B[1;32m----> 1\u001B[0m topics_over_time \u001B[38;5;241m=\u001B[39m topic_model\u001B[38;5;241m.\u001B[39mtopics_over_time(\u001B[43mpapers\u001B[49m[\u001B[38;5;124m'\u001B[39m\u001B[38;5;124mprocessedText\u001B[39m\u001B[38;5;124m'\u001B[39m],\n\u001B[0;32m      2\u001B[0m                                                 papers[\u001B[38;5;124m'\u001B[39m\u001B[38;5;124mtimePeriod\u001B[39m\u001B[38;5;124m'\u001B[39m],\n\u001B[0;32m      3\u001B[0m                                                 global_tuning\u001B[38;5;241m=\u001B[39m\u001B[38;5;28;01mTrue\u001B[39;00m,\n\u001B[0;32m      4\u001B[0m                                               evolution_tuning\u001B[38;5;241m=\u001B[39m\u001B[38;5;28;01mTrue\u001B[39;00m,\n\u001B[0;32m      5\u001B[0m                                                 nr_bins\u001B[38;5;241m=\u001B[39m\u001B[38;5;241m13\u001B[39m)\n",
      "\u001B[1;31mNameError\u001B[0m: name 'papers' is not defined"
     ]
    }
   ],
   "source": [
    "topics_over_time = topic_model.topics_over_time(reducedPapers['processedText'],\n",
    "                                                reducedPapers['timePeriod'],\n",
    "                                                global_tuning=True,\n",
    "                                              evolution_tuning=True,\n",
    "                                                nr_bins=13)"
   ],
   "metadata": {
    "collapsed": false
   }
  },
  {
   "cell_type": "code",
   "execution_count": null,
   "outputs": [],
   "source": [
    "topics_over_time.head()"
   ],
   "metadata": {
    "collapsed": false
   }
  },
  {
   "cell_type": "code",
   "execution_count": null,
   "outputs": [],
   "source": [
    "topic_model.visualize_topics_over_time(topics_over_time, top_n_topics=5)"
   ],
   "metadata": {
    "collapsed": false
   }
  },
  {
   "cell_type": "code",
   "execution_count": null,
   "outputs": [],
   "source": [
    "topic_model.visualize_topics_over_time(topics_over_time, topics=[1, 2])"
   ],
   "metadata": {
    "collapsed": false
   }
  },
  {
   "cell_type": "code",
   "execution_count": null,
   "outputs": [],
   "source": [
    "topic_model.visualize_topics()"
   ],
   "metadata": {
    "collapsed": false
   }
  },
  {
   "cell_type": "code",
   "execution_count": null,
   "outputs": [],
   "source": [
    "similar_topics, similarity = topic_model.find_topics(\"motor\", top_n=5)"
   ],
   "metadata": {
    "collapsed": false
   }
  },
  {
   "cell_type": "code",
   "execution_count": null,
   "outputs": [],
   "source": [
    "topic_model.get_topic(similar_topics[0])"
   ],
   "metadata": {
    "collapsed": false
   }
  }
 ],
 "metadata": {
  "kernelspec": {
   "display_name": "Python 3",
   "language": "python",
   "name": "python3"
  },
  "language_info": {
   "codemirror_mode": {
    "name": "ipython",
    "version": 2
   },
   "file_extension": ".py",
   "mimetype": "text/x-python",
   "name": "python",
   "nbconvert_exporter": "python",
   "pygments_lexer": "ipython2",
   "version": "2.7.6"
  }
 },
 "nbformat": 4,
 "nbformat_minor": 0
}
