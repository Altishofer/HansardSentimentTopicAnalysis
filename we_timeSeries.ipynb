{
 "cells": [
  {
   "cell_type": "code",
   "execution_count": 1,
   "outputs": [
    {
     "data": {
      "text/plain": "       Unnamed: 0  timePeriod  index   \n21802       21802  1820-01-01   9981  \\\n21803       21803  1820-01-01   9982   \n21804       21804  1820-01-01   9983   \n21805       21805  1820-01-01   9984   \n21806       21806  1820-01-01   9985   \n\n                                                 rawText   \n21802  The_DT governor-general_NN of_IN India_NP had_...  \\\n21803  We_PP have_VBP disdained_VBN to_TO run_VB a_DT...   \n21804  Mr._NP Philips_NP thought_VBD it_PP quite_RB u...   \n21805  The_DT chief_JJ justice_NN sent_VBN into_IN th...   \n21806  _'' <lb/> Lord_NP Bacon_NP adds_VBZ this_DT br...   \n\n                                           processedText  \n21802  india applied individual punishment prescribed...  \n21803  disdained run race popularity nation order sec...  \n21804  philip thought quite unworthy house time occup...  \n21805  chief justice sent court common plea ask opini...  \n21806  lord bacon add brief sentence pregnant truth o...  ",
      "text/html": "<div>\n<style scoped>\n    .dataframe tbody tr th:only-of-type {\n        vertical-align: middle;\n    }\n\n    .dataframe tbody tr th {\n        vertical-align: top;\n    }\n\n    .dataframe thead th {\n        text-align: right;\n    }\n</style>\n<table border=\"1\" class=\"dataframe\">\n  <thead>\n    <tr style=\"text-align: right;\">\n      <th></th>\n      <th>Unnamed: 0</th>\n      <th>timePeriod</th>\n      <th>index</th>\n      <th>rawText</th>\n      <th>processedText</th>\n    </tr>\n  </thead>\n  <tbody>\n    <tr>\n      <th>21802</th>\n      <td>21802</td>\n      <td>1820-01-01</td>\n      <td>9981</td>\n      <td>The_DT governor-general_NN of_IN India_NP had_...</td>\n      <td>india applied individual punishment prescribed...</td>\n    </tr>\n    <tr>\n      <th>21803</th>\n      <td>21803</td>\n      <td>1820-01-01</td>\n      <td>9982</td>\n      <td>We_PP have_VBP disdained_VBN to_TO run_VB a_DT...</td>\n      <td>disdained run race popularity nation order sec...</td>\n    </tr>\n    <tr>\n      <th>21804</th>\n      <td>21804</td>\n      <td>1820-01-01</td>\n      <td>9983</td>\n      <td>Mr._NP Philips_NP thought_VBD it_PP quite_RB u...</td>\n      <td>philip thought quite unworthy house time occup...</td>\n    </tr>\n    <tr>\n      <th>21805</th>\n      <td>21805</td>\n      <td>1820-01-01</td>\n      <td>9984</td>\n      <td>The_DT chief_JJ justice_NN sent_VBN into_IN th...</td>\n      <td>chief justice sent court common plea ask opini...</td>\n    </tr>\n    <tr>\n      <th>21806</th>\n      <td>21806</td>\n      <td>1820-01-01</td>\n      <td>9985</td>\n      <td>_'' &lt;lb/&gt; Lord_NP Bacon_NP adds_VBZ this_DT br...</td>\n      <td>lord bacon add brief sentence pregnant truth o...</td>\n    </tr>\n  </tbody>\n</table>\n</div>"
     },
     "execution_count": 1,
     "metadata": {},
     "output_type": "execute_result"
    }
   ],
   "source": [
    "import pandas as pd\n",
    "\n",
    "reducedPapers = pd.read_csv(\n",
    "    \"./processedData/processedData.csv\",\n",
    "    sep=','\n",
    ")\n",
    "\n",
    "reducedPapers.tail()"
   ],
   "metadata": {
    "collapsed": false,
    "ExecuteTime": {
     "start_time": "2023-04-09T22:11:35.594457Z",
     "end_time": "2023-04-09T22:11:36.075982Z"
    }
   }
  },
  {
   "cell_type": "code",
   "execution_count": 2,
   "outputs": [],
   "source": [
    "from umap import UMAP\n",
    "umap_model = UMAP(n_neighbors=30,\n",
    "                  n_components=10,\n",
    "                  min_dist=0.1,\n",
    "                  metric='cosine',\n",
    "                  random_state=100)"
   ],
   "metadata": {
    "collapsed": false,
    "ExecuteTime": {
     "start_time": "2023-04-09T22:11:37.279769Z",
     "end_time": "2023-04-09T22:11:42.234651Z"
    }
   }
  },
  {
   "cell_type": "code",
   "execution_count": 3,
   "outputs": [],
   "source": [
    "from sklearn.feature_extraction.text import CountVectorizer\n",
    "vectorizer_model = CountVectorizer() #stop_words=stopwords if added stopwords"
   ],
   "metadata": {
    "collapsed": false,
    "ExecuteTime": {
     "start_time": "2023-04-09T22:11:47.081663Z",
     "end_time": "2023-04-09T22:11:47.097323Z"
    }
   }
  },
  {
   "cell_type": "code",
   "execution_count": 4,
   "outputs": [],
   "source": [
    "from bertopic import BERTopic\n",
    "\n",
    "topic_model = BERTopic(language=\"english\",\n",
    "                       calculate_probabilities=True,\n",
    "                       top_n_words=4,\n",
    "                       nr_topics=50,\n",
    "                       min_topic_size=50,\n",
    "                       n_gram_range=(1,2),\n",
    "                       verbose=True\n",
    "                       )\n"
   ],
   "metadata": {
    "collapsed": false,
    "ExecuteTime": {
     "start_time": "2023-04-09T22:11:48.145437Z",
     "end_time": "2023-04-09T22:11:52.011686Z"
    }
   }
  },
  {
   "cell_type": "code",
   "execution_count": null,
   "outputs": [],
   "source": [],
   "metadata": {
    "collapsed": false
   }
  },
  {
   "cell_type": "code",
   "execution_count": 5,
   "outputs": [
    {
     "data": {
      "text/plain": "Batches:   0%|          | 0/682 [00:00<?, ?it/s]",
      "application/vnd.jupyter.widget-view+json": {
       "version_major": 2,
       "version_minor": 0,
       "model_id": "953cbdcff12042caa6f4491d37d658dc"
      }
     },
     "metadata": {},
     "output_type": "display_data"
    },
    {
     "name": "stderr",
     "output_type": "stream",
     "text": [
      "2023-04-09 22:14:50,279 - BERTopic - Transformed documents to Embeddings\n",
      "2023-04-09 22:15:21,028 - BERTopic - Reduced dimensionality\n",
      "2023-04-09 22:15:26,336 - BERTopic - Clustered reduced embeddings\n",
      "2023-04-09 22:15:29,498 - BERTopic - Reduced number of topics from 6 to 6\n"
     ]
    },
    {
     "data": {
      "text/plain": "   Topic  Count                                         Name\n0     -1    195                         -1_td_tr td_tr_td td\n1      0    487                 0_nan_nan nan_esq nan_simeon\n2      1    349                1_gent gent_gent_gen_gen gent\n3      2    200  2_right right_right_indeed right_right even\n4      3     63                      3_li_li li_including_le\n5      4  20513                     4_would_house_could_upon",
      "text/html": "<div>\n<style scoped>\n    .dataframe tbody tr th:only-of-type {\n        vertical-align: middle;\n    }\n\n    .dataframe tbody tr th {\n        vertical-align: top;\n    }\n\n    .dataframe thead th {\n        text-align: right;\n    }\n</style>\n<table border=\"1\" class=\"dataframe\">\n  <thead>\n    <tr style=\"text-align: right;\">\n      <th></th>\n      <th>Topic</th>\n      <th>Count</th>\n      <th>Name</th>\n    </tr>\n  </thead>\n  <tbody>\n    <tr>\n      <th>0</th>\n      <td>-1</td>\n      <td>195</td>\n      <td>-1_td_tr td_tr_td td</td>\n    </tr>\n    <tr>\n      <th>1</th>\n      <td>0</td>\n      <td>487</td>\n      <td>0_nan_nan nan_esq nan_simeon</td>\n    </tr>\n    <tr>\n      <th>2</th>\n      <td>1</td>\n      <td>349</td>\n      <td>1_gent gent_gent_gen_gen gent</td>\n    </tr>\n    <tr>\n      <th>3</th>\n      <td>2</td>\n      <td>200</td>\n      <td>2_right right_right_indeed right_right even</td>\n    </tr>\n    <tr>\n      <th>4</th>\n      <td>3</td>\n      <td>63</td>\n      <td>3_li_li li_including_le</td>\n    </tr>\n    <tr>\n      <th>5</th>\n      <td>4</td>\n      <td>20513</td>\n      <td>4_would_house_could_upon</td>\n    </tr>\n  </tbody>\n</table>\n</div>"
     },
     "execution_count": 5,
     "metadata": {},
     "output_type": "execute_result"
    }
   ],
   "source": [
    "import pickle\n",
    "reducedPapers.loc[:, 'processedText'] = reducedPapers['processedText'].astype(\"str\")\n",
    "\n",
    "topics = topic_model.fit_transform(reducedPapers['processedText'])\n",
    "with open('./processedData/topics.pickle', 'wb') as f:\n",
    "    pickle.dump(topics, f)\n",
    "topic_model.get_topic_info()"
   ],
   "metadata": {
    "collapsed": false,
    "ExecuteTime": {
     "start_time": "2023-04-09T22:11:57.840037Z",
     "end_time": "2023-04-09T22:15:29.576255Z"
    }
   }
  },
  {
   "cell_type": "code",
   "execution_count": 6,
   "outputs": [],
   "source": [
    "import pickle\n",
    "with open('./processedData/topics.pickle', 'rb') as f:\n",
    "    topics = pickle.load(f)"
   ],
   "metadata": {
    "collapsed": false,
    "ExecuteTime": {
     "start_time": "2023-04-09T22:49:00.690030Z",
     "end_time": "2023-04-09T22:49:00.752332Z"
    }
   }
  },
  {
   "cell_type": "code",
   "execution_count": 52,
   "outputs": [
    {
     "name": "stderr",
     "output_type": "stream",
     "text": [
      "13it [05:52, 27.13s/it]\n"
     ]
    }
   ],
   "source": [
    "topics_over_time = topic_model.topics_over_time(reducedPapers['processedText'],\n",
    "                                                reducedPapers['timePeriod'],\n",
    "                                                global_tuning=True,\n",
    "                                              evolution_tuning=True,\n",
    "                                                nr_bins=13)\n",
    "with open('./processedData/topics_over_time.pickle', 'wb') as f:\n",
    "    pickle.dump(topics_over_time, f)"
   ],
   "metadata": {
    "collapsed": false,
    "ExecuteTime": {
     "start_time": "2023-04-09T17:47:46.712258Z",
     "end_time": "2023-04-09T17:53:42.259739Z"
    }
   }
  },
  {
   "cell_type": "code",
   "execution_count": 53,
   "outputs": [
    {
     "data": {
      "text/plain": "   Topic                                              Words  Frequency   \n0     -1                          would, house, lord, could       7592  \\\n1      0  gentleman, chancellor, chancellor exchequer, e...        989   \n2      1                       hon, right, would, right hon        824   \n3      2                       army, officer, war, military        839   \n4      3       parliament, committee, amendment, government        399   \n\n                Timestamp  \n0 1799-10-19 22:50:52.800  \n1 1799-10-19 22:50:52.800  \n2 1799-10-19 22:50:52.800  \n3 1799-10-19 22:50:52.800  \n4 1799-10-19 22:50:52.800  ",
      "text/html": "<div>\n<style scoped>\n    .dataframe tbody tr th:only-of-type {\n        vertical-align: middle;\n    }\n\n    .dataframe tbody tr th {\n        vertical-align: top;\n    }\n\n    .dataframe thead th {\n        text-align: right;\n    }\n</style>\n<table border=\"1\" class=\"dataframe\">\n  <thead>\n    <tr style=\"text-align: right;\">\n      <th></th>\n      <th>Topic</th>\n      <th>Words</th>\n      <th>Frequency</th>\n      <th>Timestamp</th>\n    </tr>\n  </thead>\n  <tbody>\n    <tr>\n      <th>0</th>\n      <td>-1</td>\n      <td>would, house, lord, could</td>\n      <td>7592</td>\n      <td>1799-10-19 22:50:52.800</td>\n    </tr>\n    <tr>\n      <th>1</th>\n      <td>0</td>\n      <td>gentleman, chancellor, chancellor exchequer, e...</td>\n      <td>989</td>\n      <td>1799-10-19 22:50:52.800</td>\n    </tr>\n    <tr>\n      <th>2</th>\n      <td>1</td>\n      <td>hon, right, would, right hon</td>\n      <td>824</td>\n      <td>1799-10-19 22:50:52.800</td>\n    </tr>\n    <tr>\n      <th>3</th>\n      <td>2</td>\n      <td>army, officer, war, military</td>\n      <td>839</td>\n      <td>1799-10-19 22:50:52.800</td>\n    </tr>\n    <tr>\n      <th>4</th>\n      <td>3</td>\n      <td>parliament, committee, amendment, government</td>\n      <td>399</td>\n      <td>1799-10-19 22:50:52.800</td>\n    </tr>\n  </tbody>\n</table>\n</div>"
     },
     "execution_count": 53,
     "metadata": {},
     "output_type": "execute_result"
    }
   ],
   "source": [
    "import pickle\n",
    "with open('./processedData/topics_over_time.pickle', 'rb') as f:\n",
    "    topics_over_time = pickle.load(f)\n",
    "topics_over_time.head()\n"
   ],
   "metadata": {
    "collapsed": false,
    "ExecuteTime": {
     "start_time": "2023-04-09T17:53:53.524774Z",
     "end_time": "2023-04-09T17:53:53.619438Z"
    }
   }
  },
  {
   "cell_type": "code",
   "execution_count": 65,
   "outputs": [
    {
     "data": {
      "application/vnd.plotly.v1+json": {
       "data": [
        {
         "hoverinfo": "text",
         "hovertext": [
          "<b>Topic 0</b><br>Words: gentleman, chancellor, chancellor exchequer, exchequer",
          "<b>Topic 0</b><br>Words: gentleman, mr, noble, baronet",
          "<b>Topic 0</b><br>Words: gentleman, mr, baronet, noble",
          "<b>Topic 0</b><br>Words: mr, gentleman, mr mr, noble",
          "<b>Topic 0</b><br>Words: mr, mr mr, gentleman, mr gentleman",
          "<b>Topic 0</b><br>Words: mr, mr mr, gentleman, mr gentleman",
          "<b>Topic 0</b><br>Words: mr, mr mr, gentleman, mr gentleman",
          "<b>Topic 0</b><br>Words: gentleman, noble, chancellor, mr",
          "<b>Topic 0</b><br>Words: gentleman, chancellor, chancellor exchequer, minister",
          "<b>Topic 0</b><br>Words: gentleman, minister, secretary, mr",
          "<b>Topic 0</b><br>Words: gentleman, minister, lord, noble",
          "<b>Topic 0</b><br>Words: gentleman, minister, lord, noble",
          "<b>Topic 0</b><br>Words: minister, noble, baroness, lord"
         ],
         "marker": {
          "color": "#E69F00"
         },
         "mode": "lines",
         "name": "0_mr_gentleman_mr mr_noble",
         "x": [
          "1799-10-19T22:50:52.800000",
          "1815-05-22T01:50:46.153845",
          "1830-10-09T03:41:32.307692",
          "1846-02-26T05:32:18.461538",
          "1861-07-16T07:23:04.615384",
          "1876-12-03T09:13:50.769230",
          "1892-04-22T11:04:36.923076",
          "1907-09-11T12:55:23.076922",
          "1923-01-29T14:46:09.230769",
          "1938-06-18T16:36:55.384615",
          "1953-11-05T18:27:41.538461",
          "1969-03-25T20:18:27.692307",
          "1984-08-12T22:09:13.846153"
         ],
         "y": [
          989,
          1230,
          673,
          1715,
          797,
          1961,
          1022,
          996,
          468,
          1001,
          510,
          1062,
          1242
         ],
         "type": "scatter"
        },
        {
         "hoverinfo": "text",
         "hovertext": [
          "<b>Topic 1</b><br>Words: hon, right, would, right hon",
          "<b>Topic 1</b><br>Words: hon, would, right, right hon",
          "<b>Topic 1</b><br>Words: hon, would, right, right hon",
          "<b>Topic 1</b><br>Words: hon, right, would, right hon",
          "<b>Topic 1</b><br>Words: hon, would, right, right hon",
          "<b>Topic 1</b><br>Words: hon, right hon, right, would",
          "<b>Topic 1</b><br>Words: hon, right, right hon, would",
          "<b>Topic 1</b><br>Words: hon, right, right hon, would",
          "<b>Topic 1</b><br>Words: hon, right, right hon, would",
          "<b>Topic 1</b><br>Words: hon, right, right hon, would",
          "<b>Topic 1</b><br>Words: hon, right, right hon, hon hon",
          "<b>Topic 1</b><br>Words: hon, right, right hon, hon hon",
          "<b>Topic 1</b><br>Words: hon, hon hon, right, right hon"
         ],
         "marker": {
          "color": "#56B4E9"
         },
         "mode": "lines",
         "name": "1_hon_right_right hon_would",
         "x": [
          "1799-10-19T22:50:52.800000",
          "1815-05-22T01:50:46.153845",
          "1830-10-09T03:41:32.307692",
          "1846-02-26T05:32:18.461538",
          "1861-07-16T07:23:04.615384",
          "1876-12-03T09:13:50.769230",
          "1892-04-22T11:04:36.923076",
          "1907-09-11T12:55:23.076922",
          "1923-01-29T14:46:09.230769",
          "1938-06-18T16:36:55.384615",
          "1953-11-05T18:27:41.538461",
          "1969-03-25T20:18:27.692307",
          "1984-08-12T22:09:13.846153"
         ],
         "y": [
          824,
          814,
          470,
          927,
          474,
          1096,
          475,
          1056,
          531,
          1036,
          545,
          1073,
          945
         ],
         "type": "scatter"
        },
        {
         "hoverinfo": "text",
         "hovertext": [
          "<b>Topic 2</b><br>Words: army, officer, war, military",
          "<b>Topic 2</b><br>Words: child, ship, trade, officer",
          "<b>Topic 2</b><br>Words: education, ship, trade, school",
          "<b>Topic 2</b><br>Words: school, education, ship, would",
          "<b>Topic 2</b><br>Words: school, child, education, board",
          "<b>Topic 2</b><br>Words: school, education, admiralty, board",
          "<b>Topic 2</b><br>Words: school, education, board, child",
          "<b>Topic 2</b><br>Words: trade, school, war, education",
          "<b>Topic 2</b><br>Words: trade, unemployment, child, war",
          "<b>Topic 2</b><br>Words: school, trade, child, war",
          "<b>Topic 2</b><br>Words: child, trade, education, school",
          "<b>Topic 2</b><br>Words: child, school, education, union",
          "<b>Topic 2</b><br>Words: child, school, education, teacher"
         ],
         "marker": {
          "color": "#009E73"
         },
         "mode": "lines",
         "name": "2_school_child_education_trade",
         "x": [
          "1799-10-19T22:50:52.800000",
          "1815-05-22T01:50:46.153845",
          "1830-10-09T03:41:32.307692",
          "1846-02-26T05:32:18.461538",
          "1861-07-16T07:23:04.615384",
          "1876-12-03T09:13:50.769230",
          "1892-04-22T11:04:36.923076",
          "1907-09-11T12:55:23.076922",
          "1923-01-29T14:46:09.230769",
          "1938-06-18T16:36:55.384615",
          "1953-11-05T18:27:41.538461",
          "1969-03-25T20:18:27.692307",
          "1984-08-12T22:09:13.846153"
         ],
         "y": [
          839,
          490,
          341,
          881,
          515,
          741,
          529,
          1184,
          547,
          1048,
          537,
          979,
          1191
         ],
         "type": "scatter"
        },
        {
         "hoverinfo": "text",
         "hovertext": [
          "<b>Topic 3</b><br>Words: parliament, committee, amendment, government",
          "<b>Topic 3</b><br>Words: parliament, committee, amendment, would",
          "<b>Topic 3</b><br>Words: parliament, amendment, committee, government",
          "<b>Topic 3</b><br>Words: committee, amendment, parliament, government",
          "<b>Topic 3</b><br>Words: amendment, committee, government, vote",
          "<b>Topic 3</b><br>Words: amendment, committee, government, parliament",
          "<b>Topic 3</b><br>Words: amendment, committee, government, parliament",
          "<b>Topic 3</b><br>Words: amendment, committee, government, parliament",
          "<b>Topic 3</b><br>Words: amendment, committee, government, parliament",
          "<b>Topic 3</b><br>Words: amendment, committee, government, parliament",
          "<b>Topic 3</b><br>Words: amendment, committee, government, parliament",
          "<b>Topic 3</b><br>Words: amendment, government, committee, parliament",
          "<b>Topic 3</b><br>Words: amendment, government, committee, police"
         ],
         "marker": {
          "color": "#F0E442"
         },
         "mode": "lines",
         "name": "3_amendment_committee_government_parliam...",
         "x": [
          "1799-10-19T22:50:52.800000",
          "1815-05-22T01:50:46.153845",
          "1830-10-09T03:41:32.307692",
          "1846-02-26T05:32:18.461538",
          "1861-07-16T07:23:04.615384",
          "1876-12-03T09:13:50.769230",
          "1892-04-22T11:04:36.923076",
          "1907-09-11T12:55:23.076922",
          "1923-01-29T14:46:09.230769",
          "1938-06-18T16:36:55.384615",
          "1953-11-05T18:27:41.538461",
          "1969-03-25T20:18:27.692307",
          "1984-08-12T22:09:13.846153"
         ],
         "y": [
          399,
          363,
          212,
          510,
          278,
          589,
          283,
          565,
          291,
          544,
          327,
          828,
          1062
         ],
         "type": "scatter"
        },
        {
         "hoverinfo": "text",
         "hovertext": [
          "<b>Topic 4</b><br>Words: ireland, spain, france, country",
          "<b>Topic 4</b><br>Words: ireland, scotland, country, irish",
          "<b>Topic 4</b><br>Words: ireland, scotland, country, irish",
          "<b>Topic 4</b><br>Words: ireland, scotland, irish, government",
          "<b>Topic 4</b><br>Words: ireland, scotland, irish, government",
          "<b>Topic 4</b><br>Words: ireland, irish, scotland, government",
          "<b>Topic 4</b><br>Words: ireland, scotland, irish, country",
          "<b>Topic 4</b><br>Words: ireland, scotland, irish, country",
          "<b>Topic 4</b><br>Words: scotland, ireland, country, government",
          "<b>Topic 4</b><br>Words: scotland, ireland, scottish, country",
          "<b>Topic 4</b><br>Words: scotland, rhodesia, ireland, scottish",
          "<b>Topic 4</b><br>Words: scotland, ireland, scottish, northern ireland",
          "<b>Topic 4</b><br>Words: ireland, scotland, northern ireland, northern"
         ],
         "marker": {
          "color": "#D55E00"
         },
         "mode": "lines",
         "name": "4_ireland_scotland_irish_country",
         "x": [
          "1799-10-19T22:50:52.800000",
          "1815-05-22T01:50:46.153845",
          "1830-10-09T03:41:32.307692",
          "1846-02-26T05:32:18.461538",
          "1861-07-16T07:23:04.615384",
          "1876-12-03T09:13:50.769230",
          "1892-04-22T11:04:36.923076",
          "1907-09-11T12:55:23.076922",
          "1923-01-29T14:46:09.230769",
          "1938-06-18T16:36:55.384615",
          "1953-11-05T18:27:41.538461",
          "1969-03-25T20:18:27.692307",
          "1984-08-12T22:09:13.846153"
         ],
         "y": [
          582,
          590,
          402,
          613,
          342,
          887,
          382,
          478,
          203,
          416,
          248,
          453,
          556
         ],
         "type": "scatter"
        },
        {
         "hoverinfo": "text",
         "hovertext": [
          "<b>Topic 5</b><br>Words: case, punishment, court, witness",
          "<b>Topic 5</b><br>Words: witness, case, court, judge",
          "<b>Topic 5</b><br>Words: case, court, judge, justice",
          "<b>Topic 5</b><br>Words: case, court, judge, law",
          "<b>Topic 5</b><br>Words: case, judge, court, clause",
          "<b>Topic 5</b><br>Words: case, court, judge, appeal",
          "<b>Topic 5</b><br>Words: case, court, clause, appeal",
          "<b>Topic 5</b><br>Words: case, appeal, court, tribunal",
          "<b>Topic 5</b><br>Words: case, court, appeal, clause",
          "<b>Topic 5</b><br>Words: case, court, appeal, tribunal",
          "<b>Topic 5</b><br>Words: clause, court, case, offence",
          "<b>Topic 5</b><br>Words: case, court, clause, offence",
          "<b>Topic 5</b><br>Words: case, court, crime, prison"
         ],
         "marker": {
          "color": "#0072B2"
         },
         "mode": "lines",
         "name": "5_case_court_judge_witness",
         "x": [
          "1799-10-19T22:50:52.800000",
          "1815-05-22T01:50:46.153845",
          "1830-10-09T03:41:32.307692",
          "1846-02-26T05:32:18.461538",
          "1861-07-16T07:23:04.615384",
          "1876-12-03T09:13:50.769230",
          "1892-04-22T11:04:36.923076",
          "1907-09-11T12:55:23.076922",
          "1923-01-29T14:46:09.230769",
          "1938-06-18T16:36:55.384615",
          "1953-11-05T18:27:41.538461",
          "1969-03-25T20:18:27.692307",
          "1984-08-12T22:09:13.846153"
         ],
         "y": [
          629,
          736,
          271,
          387,
          268,
          535,
          193,
          326,
          152,
          365,
          188,
          369,
          557
         ],
         "type": "scatter"
        },
        {
         "hoverinfo": "text",
         "hovertext": [
          "<b>Topic 6</b><br>Words: friend, member, learned friend, learned",
          "<b>Topic 6</b><br>Words: member, friend, learned friend, learned",
          "<b>Topic 6</b><br>Words: member, friend, noble friend, friend member",
          "<b>Topic 6</b><br>Words: member, friend, friend member, gallant",
          "<b>Topic 6</b><br>Words: member, friend, friend member, hon member",
          "<b>Topic 6</b><br>Words: member, friend, hon member, cork",
          "<b>Topic 6</b><br>Words: member, friend, hon member, memberconstituency",
          "<b>Topic 6</b><br>Words: member, friend, gallant, hon member",
          "<b>Topic 6</b><br>Words: member, friend, gallant, gallant member",
          "<b>Topic 6</b><br>Words: member, friend, friend member, memberconstituency",
          "<b>Topic 6</b><br>Words: member, friend, friend member, memberconstituency",
          "<b>Topic 6</b><br>Words: member, friend, friend member, memberconstituency",
          "<b>Topic 6</b><br>Words: member, friend, friend member, memberconstituency"
         ],
         "marker": {
          "color": "#CC79A7"
         },
         "mode": "lines",
         "name": "6_member_friend_friend member_hon member",
         "x": [
          "1799-10-19T22:50:52.800000",
          "1815-05-22T01:50:46.153845",
          "1830-10-09T03:41:32.307692",
          "1846-02-26T05:32:18.461538",
          "1861-07-16T07:23:04.615384",
          "1876-12-03T09:13:50.769230",
          "1892-04-22T11:04:36.923076",
          "1907-09-11T12:55:23.076922",
          "1923-01-29T14:46:09.230769",
          "1938-06-18T16:36:55.384615",
          "1953-11-05T18:27:41.538461",
          "1969-03-25T20:18:27.692307",
          "1984-08-12T22:09:13.846153"
         ],
         "y": [
          162,
          237,
          113,
          251,
          125,
          392,
          150,
          347,
          205,
          513,
          299,
          514,
          469
         ],
         "type": "scatter"
        },
        {
         "hoverinfo": "text",
         "hovertext": [
          "<b>Topic 7</b><br>Words: house, tenant, landlord, house would",
          "<b>Topic 7</b><br>Words: house, landlord, tenant, would",
          "<b>Topic 7</b><br>Words: house, landlord, tenant, rent",
          "<b>Topic 7</b><br>Words: house, tenant, landlord, borough",
          "<b>Topic 7</b><br>Words: tenant, landlord, house, rent",
          "<b>Topic 7</b><br>Words: tenant, landlord, rent, house",
          "<b>Topic 7</b><br>Words: tenant, house, landlord, rent",
          "<b>Topic 7</b><br>Words: house, tenant, landlord, rent",
          "<b>Topic 7</b><br>Words: house, tenant, landlord, housing",
          "<b>Topic 7</b><br>Words: house, rent, tenant, landlord",
          "<b>Topic 7</b><br>Words: house, tenant, rent, landlord",
          "<b>Topic 7</b><br>Words: house, tenant, housing, rent",
          "<b>Topic 7</b><br>Words: house, housing, tenant, landlord"
         ],
         "marker": {
          "color": "#E69F00"
         },
         "mode": "lines",
         "name": "7_house_tenant_landlord_rent",
         "x": [
          "1799-10-19T22:50:52.800000",
          "1815-05-22T01:50:46.153845",
          "1830-10-09T03:41:32.307692",
          "1846-02-26T05:32:18.461538",
          "1861-07-16T07:23:04.615384",
          "1876-12-03T09:13:50.769230",
          "1892-04-22T11:04:36.923076",
          "1907-09-11T12:55:23.076922",
          "1923-01-29T14:46:09.230769",
          "1938-06-18T16:36:55.384615",
          "1953-11-05T18:27:41.538461",
          "1969-03-25T20:18:27.692307",
          "1984-08-12T22:09:13.846153"
         ],
         "y": [
          207,
          314,
          198,
          273,
          210,
          597,
          218,
          284,
          159,
          335,
          154,
          389,
          341
         ],
         "type": "scatter"
        },
        {
         "hoverinfo": "text",
         "hovertext": [
          "<b>Topic 8</b><br>Words: catholic, church, protestant, roman",
          "<b>Topic 8</b><br>Words: catholic, church, protestant, roman catholic",
          "<b>Topic 8</b><br>Words: catholic, church, roman catholic, roman",
          "<b>Topic 8</b><br>Words: church, catholic, roman, roman catholic",
          "<b>Topic 8</b><br>Words: church, catholic, religious, roman catholic",
          "<b>Topic 8</b><br>Words: church, catholic, protestant, religious",
          "<b>Topic 8</b><br>Words: church, catholic, religious, roman",
          "<b>Topic 8</b><br>Words: church, catholic, religious, protestant",
          "<b>Topic 8</b><br>Words: church, catholic, instrument, roman catholic",
          "<b>Topic 8</b><br>Words: church, christian, catholic, religious",
          "<b>Topic 8</b><br>Words: church, catholic, reverend, roman catholic",
          "<b>Topic 8</b><br>Words: church, catholic, bishop, protestant",
          "<b>Topic 8</b><br>Words: church, catholic, bishop, religious"
         ],
         "marker": {
          "color": "#56B4E9"
         },
         "mode": "lines",
         "name": "8_church_catholic_roman catholic_roman",
         "x": [
          "1799-10-19T22:50:52.800000",
          "1815-05-22T01:50:46.153845",
          "1830-10-09T03:41:32.307692",
          "1846-02-26T05:32:18.461538",
          "1861-07-16T07:23:04.615384",
          "1876-12-03T09:13:50.769230",
          "1892-04-22T11:04:36.923076",
          "1907-09-11T12:55:23.076922",
          "1923-01-29T14:46:09.230769",
          "1938-06-18T16:36:55.384615",
          "1953-11-05T18:27:41.538461",
          "1969-03-25T20:18:27.692307",
          "1984-08-12T22:09:13.846153"
         ],
         "y": [
          637,
          639,
          280,
          749,
          305,
          191,
          77,
          74,
          21,
          40,
          31,
          42,
          57
         ],
         "type": "scatter"
        },
        {
         "hoverinfo": "text",
         "hovertext": [
          "<b>Topic 9</b><br>Words: sugar, animal, gallon, grain",
          "<b>Topic 9</b><br>Words: corn, price, coal, agricultural",
          "<b>Topic 9</b><br>Words: corn, sugar, price, coal",
          "<b>Topic 9</b><br>Words: cattle, coal, water, animal",
          "<b>Topic 9</b><br>Words: cattle, animal, slaughter, coal",
          "<b>Topic 9</b><br>Words: coal, water, agricultural, cattle",
          "<b>Topic 9</b><br>Words: water, coal, beer, agriculture",
          "<b>Topic 9</b><br>Words: coal, food, milk, mine",
          "<b>Topic 9</b><br>Words: coal, industry, milk, food",
          "<b>Topic 9</b><br>Words: coal, food, steel, industry",
          "<b>Topic 9</b><br>Words: coal, water, industry, nuclear",
          "<b>Topic 9</b><br>Words: coal, oil, industry, milk",
          "<b>Topic 9</b><br>Words: coal, food, water, industry"
         ],
         "marker": {
          "color": "#009E73"
         },
         "mode": "lines",
         "name": "9_coal_water_food_industry",
         "x": [
          "1799-10-19T22:50:52.800000",
          "1815-05-22T01:50:46.153845",
          "1830-10-09T03:41:32.307692",
          "1846-02-26T05:32:18.461538",
          "1861-07-16T07:23:04.615384",
          "1876-12-03T09:13:50.769230",
          "1892-04-22T11:04:36.923076",
          "1907-09-11T12:55:23.076922",
          "1923-01-29T14:46:09.230769",
          "1938-06-18T16:36:55.384615",
          "1953-11-05T18:27:41.538461",
          "1969-03-25T20:18:27.692307",
          "1984-08-12T22:09:13.846153"
         ],
         "y": [
          76,
          146,
          94,
          180,
          126,
          155,
          157,
          369,
          225,
          459,
          199,
          395,
          435
         ],
         "type": "scatter"
        },
        {
         "hoverinfo": "text",
         "hovertext": [
          "<b>Topic 10</b><br>Words: argument, debate, evidence, would",
          "<b>Topic 10</b><br>Words: argument, debate, evidence, would",
          "<b>Topic 10</b><br>Words: difficulty, remedy, argument, debate",
          "<b>Topic 10</b><br>Words: argument, matter, debate, difficulty",
          "<b>Topic 10</b><br>Words: debate, matter, discussion, argument",
          "<b>Topic 10</b><br>Words: matter, debate, argument, difficulty",
          "<b>Topic 10</b><br>Words: matter, debate, think, difficulty",
          "<b>Topic 10</b><br>Words: debate, matter, argument, difficulty",
          "<b>Topic 10</b><br>Words: debate, argument, matter, think",
          "<b>Topic 10</b><br>Words: debate, argument, matter, think",
          "<b>Topic 10</b><br>Words: debate, matter, argument, think",
          "<b>Topic 10</b><br>Words: debate, matter, argument, difficulty",
          "<b>Topic 10</b><br>Words: debate, matter, argument, report"
         ],
         "marker": {
          "color": "#F0E442"
         },
         "mode": "lines",
         "name": "10_debate_matter_argument_difficulty",
         "x": [
          "1799-10-19T22:50:52.800000",
          "1815-05-22T01:50:46.153845",
          "1830-10-09T03:41:32.307692",
          "1846-02-26T05:32:18.461538",
          "1861-07-16T07:23:04.615384",
          "1876-12-03T09:13:50.769230",
          "1892-04-22T11:04:36.923076",
          "1907-09-11T12:55:23.076922",
          "1923-01-29T14:46:09.230769",
          "1938-06-18T16:36:55.384615",
          "1953-11-05T18:27:41.538461",
          "1969-03-25T20:18:27.692307",
          "1984-08-12T22:09:13.846153"
         ],
         "y": [
          168,
          177,
          86,
          168,
          80,
          210,
          142,
          297,
          157,
          353,
          223,
          400,
          443
         ],
         "type": "scatter"
        },
        {
         "hoverinfo": "text",
         "hovertext": [
          "<b>Topic 11</b><br>Words: bank, debt, fund, million",
          "<b>Topic 11</b><br>Words: bank, note, currency, debt",
          "<b>Topic 11</b><br>Words: bank, debt, expenditure, per cent",
          "<b>Topic 11</b><br>Words: bank, expenditure, per, debt",
          "<b>Topic 11</b><br>Words: bank, expenditure, debt, charge",
          "<b>Topic 11</b><br>Words: expenditure, debt, per cent, cent",
          "<b>Topic 11</b><br>Words: loan, per cent, cent, per",
          "<b>Topic 11</b><br>Words: expenditure, per cent, cent, per",
          "<b>Topic 11</b><br>Words: per cent, cent, debt, per",
          "<b>Topic 11</b><br>Words: per cent, cent, per, million",
          "<b>Topic 11</b><br>Words: per cent, cent, per, million",
          "<b>Topic 11</b><br>Words: per cent, cent, per, million",
          "<b>Topic 11</b><br>Words: per cent, cent, per, million"
         ],
         "marker": {
          "color": "#D55E00"
         },
         "mode": "lines",
         "name": "11_per cent_cent_per_bank",
         "x": [
          "1799-10-19T22:50:52.800000",
          "1815-05-22T01:50:46.153845",
          "1830-10-09T03:41:32.307692",
          "1846-02-26T05:32:18.461538",
          "1861-07-16T07:23:04.615384",
          "1876-12-03T09:13:50.769230",
          "1892-04-22T11:04:36.923076",
          "1907-09-11T12:55:23.076922",
          "1923-01-29T14:46:09.230769",
          "1938-06-18T16:36:55.384615",
          "1953-11-05T18:27:41.538461",
          "1969-03-25T20:18:27.692307",
          "1984-08-12T22:09:13.846153"
         ],
         "y": [
          216,
          268,
          129,
          190,
          78,
          153,
          96,
          208,
          152,
          291,
          148,
          438,
          359
         ],
         "type": "scatter"
        },
        {
         "hoverinfo": "text",
         "hovertext": [
          "<b>Topic 12</b><br>Words: tax, pension, taxation, widow",
          "<b>Topic 12</b><br>Words: tax, pension, taxation, reduction",
          "<b>Topic 12</b><br>Words: tax, taxation, pension, income",
          "<b>Topic 12</b><br>Words: tax, pension, taxation, income",
          "<b>Topic 12</b><br>Words: tax, pension, taxation, local taxation",
          "<b>Topic 12</b><br>Words: tax, pension, taxation, income tax",
          "<b>Topic 12</b><br>Words: tax, pension, taxation, income",
          "<b>Topic 12</b><br>Words: pension, tax, insurance, taxation",
          "<b>Topic 12</b><br>Words: tax, pension, taxation, income",
          "<b>Topic 12</b><br>Words: pension, tax, taxation, income",
          "<b>Topic 12</b><br>Words: tax, pension, taxation, income",
          "<b>Topic 12</b><br>Words: tax, pension, taxation, insurance",
          "<b>Topic 12</b><br>Words: pension, tax, pensioner, taxation"
         ],
         "marker": {
          "color": "#0072B2"
         },
         "mode": "lines",
         "name": "12_tax_pension_taxation_income",
         "x": [
          "1799-10-19T22:50:52.800000",
          "1815-05-22T01:50:46.153845",
          "1830-10-09T03:41:32.307692",
          "1846-02-26T05:32:18.461538",
          "1861-07-16T07:23:04.615384",
          "1876-12-03T09:13:50.769230",
          "1892-04-22T11:04:36.923076",
          "1907-09-11T12:55:23.076922",
          "1923-01-29T14:46:09.230769",
          "1938-06-18T16:36:55.384615",
          "1953-11-05T18:27:41.538461",
          "1969-03-25T20:18:27.692307",
          "1984-08-12T22:09:13.846153"
         ],
         "y": [
          84,
          143,
          92,
          143,
          34,
          96,
          110,
          187,
          116,
          175,
          122,
          242,
          269
         ],
         "type": "scatter"
        },
        {
         "hoverinfo": "text",
         "hovertext": [
          "<b>Topic 13</b><br>Words: nan, nan nan, dundas esq, esq nan",
          "<b>Topic 13</b><br>Words: nan, nan nan, dundas esq, esq nan",
          "<b>Topic 13</b><br>Words: nan, nan nan, dundas esq, esq nan",
          "<b>Topic 13</b><br>Words: nan, nan nan, dundas esq, esq nan",
          "<b>Topic 13</b><br>Words: nan, nan nan, dundas esq, esq nan",
          "<b>Topic 13</b><br>Words: nan, nan nan, dundas esq, esq nan",
          "<b>Topic 13</b><br>Words: nan, nan nan, dundas esq, esq nan",
          "<b>Topic 13</b><br>Words: nan, nan nan, dundas esq, esq nan",
          "<b>Topic 13</b><br>Words: nan, nan nan, dundas esq, esq nan",
          "<b>Topic 13</b><br>Words: nan, nan nan, hannan nan, nan hannan",
          "<b>Topic 13</b><br>Words: nan, nan nan, dundas esq, esq nan",
          "<b>Topic 13</b><br>Words: nan, nan nan, dundas esq, esq nan",
          "<b>Topic 13</b><br>Words: nan, nan nan, dundas esq, esq nan"
         ],
         "marker": {
          "color": "#CC79A7"
         },
         "mode": "lines",
         "name": "13_nan_nan nan_nan hannan_nan dundas",
         "x": [
          "1799-10-19T22:50:52.800000",
          "1815-05-22T01:50:46.153845",
          "1830-10-09T03:41:32.307692",
          "1846-02-26T05:32:18.461538",
          "1861-07-16T07:23:04.615384",
          "1876-12-03T09:13:50.769230",
          "1892-04-22T11:04:36.923076",
          "1907-09-11T12:55:23.076922",
          "1923-01-29T14:46:09.230769",
          "1938-06-18T16:36:55.384615",
          "1953-11-05T18:27:41.538461",
          "1969-03-25T20:18:27.692307",
          "1984-08-12T22:09:13.846153"
         ],
         "y": [
          84,
          120,
          51,
          54,
          24,
          110,
          62,
          307,
          182,
          256,
          78,
          89,
          66
         ],
         "type": "scatter"
        },
        {
         "hoverinfo": "text",
         "hovertext": [
          "<b>Topic 14</b><br>Words: second, read, reading, bill",
          "<b>Topic 14</b><br>Words: second, reading, second reading, reading bill",
          "<b>Topic 14</b><br>Words: second, reading, second reading, read",
          "<b>Topic 14</b><br>Words: second, reading, second reading, museum",
          "<b>Topic 14</b><br>Words: second, reading, second reading, reading bill",
          "<b>Topic 14</b><br>Words: second, reading, post, second reading",
          "<b>Topic 14</b><br>Words: page line, word, quote page, line",
          "<b>Topic 14</b><br>Words: reading, second reading, post office, second",
          "<b>Topic 14</b><br>Words: page line, reading, line, page",
          "<b>Topic 14</b><br>Words: film, reading, second reading, second",
          "<b>Topic 14</b><br>Words: post office, post, newspaper, reading",
          "<b>Topic 14</b><br>Words: reading, second reading, second, paper",
          "<b>Topic 14</b><br>Words: post, post office, reading, museum"
         ],
         "marker": {
          "color": "#E69F00"
         },
         "mode": "lines",
         "name": "14_reading_second_second reading_post",
         "x": [
          "1799-10-19T22:50:52.800000",
          "1815-05-22T01:50:46.153845",
          "1830-10-09T03:41:32.307692",
          "1846-02-26T05:32:18.461538",
          "1861-07-16T07:23:04.615384",
          "1876-12-03T09:13:50.769230",
          "1892-04-22T11:04:36.923076",
          "1907-09-11T12:55:23.076922",
          "1923-01-29T14:46:09.230769",
          "1938-06-18T16:36:55.384615",
          "1953-11-05T18:27:41.538461",
          "1969-03-25T20:18:27.692307",
          "1984-08-12T22:09:13.846153"
         ],
         "y": [
          88,
          76,
          44,
          142,
          84,
          138,
          73,
          101,
          61,
          126,
          79,
          127,
          197
         ],
         "type": "scatter"
        },
        {
         "hoverinfo": "text",
         "hovertext": [
          "<b>Topic 15</b><br>Words: sick wounded, wounded, wounded army, sick",
          "<b>Topic 15</b><br>Words: hospital, medical, surgeon, health",
          "<b>Topic 15</b><br>Words: medical, hospital, health, disease",
          "<b>Topic 15</b><br>Words: hospital, medical, disease, health",
          "<b>Topic 15</b><br>Words: disease, dr, hospital, medical",
          "<b>Topic 15</b><br>Words: dr, dr dr, disease, hospital",
          "<b>Topic 15</b><br>Words: dr, hospital, medical, disease",
          "<b>Topic 15</b><br>Words: hospital, health, disease, medical",
          "<b>Topic 15</b><br>Words: hospital, health, medical, disease",
          "<b>Topic 15</b><br>Words: hospital, health, medical, doctor",
          "<b>Topic 15</b><br>Words: hospital, health, nurse, medical",
          "<b>Topic 15</b><br>Words: health, hospital, health service, medical",
          "<b>Topic 15</b><br>Words: hospital, health, patient, medical"
         ],
         "marker": {
          "color": "#56B4E9"
         },
         "mode": "lines",
         "name": "15_hospital_health_medical_disease",
         "x": [
          "1799-10-19T22:50:52.800000",
          "1815-05-22T01:50:46.153845",
          "1830-10-09T03:41:32.307692",
          "1846-02-26T05:32:18.461538",
          "1861-07-16T07:23:04.615384",
          "1876-12-03T09:13:50.769230",
          "1892-04-22T11:04:36.923076",
          "1907-09-11T12:55:23.076922",
          "1923-01-29T14:46:09.230769",
          "1938-06-18T16:36:55.384615",
          "1953-11-05T18:27:41.538461",
          "1969-03-25T20:18:27.692307",
          "1984-08-12T22:09:13.846153"
         ],
         "y": [
          5,
          24,
          17,
          45,
          52,
          69,
          28,
          82,
          34,
          130,
          89,
          180,
          284
         ],
         "type": "scatter"
        },
        {
         "hoverinfo": "text",
         "hovertext": [
          "<b>Topic 16</b><br>Words: petition, petitioner, presented, house",
          "<b>Topic 16</b><br>Words: petition, petitioner, presented, prayer",
          "<b>Topic 16</b><br>Words: petition, petitioner, house, presented",
          "<b>Topic 16</b><br>Words: petition, petitioner, presented, signed",
          "<b>Topic 16</b><br>Words: petition, presented, petitioner, withdraw",
          "<b>Topic 16</b><br>Words: petition, withdraw, boycotting, protest",
          "<b>Topic 16</b><br>Words: petition, withdraw, protest, boycotting",
          "<b>Topic 16</b><br>Words: petition, protest, withdraw, beg",
          "<b>Topic 16</b><br>Words: petition, protest, beg, signed",
          "<b>Topic 16</b><br>Words: beg, beg move, withdraw, leave withdraw",
          "<b>Topic 16</b><br>Words: beg move, beg, move, petition",
          "<b>Topic 16</b><br>Words: petition, withdraw, beg, leave withdraw",
          "<b>Topic 16</b><br>Words: petition, leave withdrawn, withdraw, leave"
         ],
         "marker": {
          "color": "#009E73"
         },
         "mode": "lines",
         "name": "16_petition_petitioner_withdraw_presente...",
         "x": [
          "1799-10-19T22:50:52.800000",
          "1815-05-22T01:50:46.153845",
          "1830-10-09T03:41:32.307692",
          "1846-02-26T05:32:18.461538",
          "1861-07-16T07:23:04.615384",
          "1876-12-03T09:13:50.769230",
          "1892-04-22T11:04:36.923076",
          "1907-09-11T12:55:23.076922",
          "1923-01-29T14:46:09.230769",
          "1938-06-18T16:36:55.384615",
          "1953-11-05T18:27:41.538461",
          "1969-03-25T20:18:27.692307",
          "1984-08-12T22:09:13.846153"
         ],
         "y": [
          168,
          232,
          55,
          78,
          29,
          61,
          23,
          44,
          23,
          42,
          19,
          47,
          36
         ],
         "type": "scatter"
        },
        {
         "hoverinfo": "text",
         "hovertext": [
          "<b>Topic 17</b><br>Words: year, period, year year, former year",
          "<b>Topic 17</b><br>Words: year, month, age, three",
          "<b>Topic 17</b><br>Words: year, three, week, month",
          "<b>Topic 17</b><br>Words: year, age, month, september",
          "<b>Topic 17</b><br>Words: year, age, month, month elapsed",
          "<b>Topic 17</b><br>Words: year, week, month, three",
          "<b>Topic 17</b><br>Words: year, age, week, proper period",
          "<b>Topic 17</b><br>Words: year, week, age, month",
          "<b>Topic 17</b><br>Words: year, age, month, week",
          "<b>Topic 17</b><br>Words: year, age, week, month",
          "<b>Topic 17</b><br>Words: year, week, month, age",
          "<b>Topic 17</b><br>Words: year, disabled, month, week",
          "<b>Topic 17</b><br>Words: year, disability, disabled, age"
         ],
         "marker": {
          "color": "#F0E442"
         },
         "mode": "lines",
         "name": "17_year_age_month_week",
         "x": [
          "1799-10-19T22:50:52.800000",
          "1815-05-22T01:50:46.153845",
          "1830-10-09T03:41:32.307692",
          "1846-02-26T05:32:18.461538",
          "1861-07-16T07:23:04.615384",
          "1876-12-03T09:13:50.769230",
          "1892-04-22T11:04:36.923076",
          "1907-09-11T12:55:23.076922",
          "1923-01-29T14:46:09.230769",
          "1938-06-18T16:36:55.384615",
          "1953-11-05T18:27:41.538461",
          "1969-03-25T20:18:27.692307",
          "1984-08-12T22:09:13.846153"
         ],
         "y": [
          35,
          43,
          29,
          38,
          13,
          35,
          23,
          90,
          29,
          79,
          43,
          76,
          103
         ],
         "type": "scatter"
        },
        {
         "hoverinfo": "text",
         "hovertext": [
          "<b>Topic 18</b><br>Words: libel, danger, evil, seditious",
          "<b>Topic 18</b><br>Words: libel, evil, danger, anxiety",
          "<b>Topic 18</b><br>Words: libel, danger, evil, nature",
          "<b>Topic 18</b><br>Words: danger, libel, evil, anxiety",
          "<b>Topic 18</b><br>Words: evil, security, every information, anxious",
          "<b>Topic 18</b><br>Words: libel, danger, safeguard, libel libel",
          "<b>Topic 18</b><br>Words: evil, danger, anxiety, libel",
          "<b>Topic 18</b><br>Words: danger, libel, anxious, safeguard",
          "<b>Topic 18</b><br>Words: danger, safeguard, libel, away danger",
          "<b>Topic 18</b><br>Words: anxiety, libel, danger, safeguard",
          "<b>Topic 18</b><br>Words: danger, libel, anxiety, characteristic feature",
          "<b>Topic 18</b><br>Words: danger, anxiety, libel, fear",
          "<b>Topic 18</b><br>Words: danger, libel, safeguard, evil"
         ],
         "marker": {
          "color": "#D55E00"
         },
         "mode": "lines",
         "name": "18_libel_danger_evil_anxiety",
         "x": [
          "1799-10-19T22:50:52.800000",
          "1815-05-22T01:50:46.153845",
          "1830-10-09T03:41:32.307692",
          "1846-02-26T05:32:18.461538",
          "1861-07-16T07:23:04.615384",
          "1876-12-03T09:13:50.769230",
          "1892-04-22T11:04:36.923076",
          "1907-09-11T12:55:23.076922",
          "1923-01-29T14:46:09.230769",
          "1938-06-18T16:36:55.384615",
          "1953-11-05T18:27:41.538461",
          "1969-03-25T20:18:27.692307",
          "1984-08-12T22:09:13.846153"
         ],
         "y": [
          150,
          82,
          35,
          33,
          12,
          30,
          21,
          44,
          21,
          49,
          26,
          57,
          50
         ],
         "type": "scatter"
        },
        {
         "hoverinfo": "text",
         "hovertext": [
          "<b>Topic 19</b><br>Words: td, tr td, tr, td right",
          "<b>Topic 19</b><br>Words: td, td right, right td, tr td",
          "<b>Topic 19</b><br>Words: td, td right, right td, tr td",
          "<b>Topic 19</b><br>Words: td, bench, lb, td right",
          "<b>Topic 19</b><br>Words: td, td center, center, center td",
          "<b>Topic 19</b><br>Words: td, bench, td right, front",
          "<b>Topic 19</b><br>Words: td, bench, tr td, tr",
          "<b>Topic 19</b><br>Words: td, bench, td right, tr td",
          "<b>Topic 19</b><br>Words: td, bench, position, td right",
          "<b>Topic 19</b><br>Words: td, bench, td right, position",
          "<b>Topic 19</b><br>Words: td, bench, position, td right",
          "<b>Topic 19</b><br>Words: td, bench, td right, position",
          "<b>Topic 19</b><br>Words: td, bench, td right, front"
         ],
         "marker": {
          "color": "#0072B2"
         },
         "mode": "lines",
         "name": "19_td_td right_tr td_tr",
         "x": [
          "1799-10-19T22:50:52.800000",
          "1815-05-22T01:50:46.153845",
          "1830-10-09T03:41:32.307692",
          "1846-02-26T05:32:18.461538",
          "1861-07-16T07:23:04.615384",
          "1876-12-03T09:13:50.769230",
          "1892-04-22T11:04:36.923076",
          "1907-09-11T12:55:23.076922",
          "1923-01-29T14:46:09.230769",
          "1938-06-18T16:36:55.384615",
          "1953-11-05T18:27:41.538461",
          "1969-03-25T20:18:27.692307",
          "1984-08-12T22:09:13.846153"
         ],
         "y": [
          26,
          46,
          27,
          41,
          12,
          25,
          26,
          51,
          38,
          43,
          34,
          43,
          55
         ],
         "type": "scatter"
        },
        {
         "hoverinfo": "text",
         "hovertext": [
          "<b>Topic 20</b><br>Words: gent gent, gent, lieut lieut, lieut",
          "<b>Topic 20</b><br>Words: mocatti, gent gent, gent, lieut lieut",
          "<b>Topic 20</b><br>Words: hist, gent gent, gent, malt hist",
          "<b>Topic 20</b><br>Words: hist, gent gent, gent, lieut lieut",
          "<b>Topic 20</b><br>Words: lieut lieut, lieut, gent gent, gent",
          "<b>Topic 20</b><br>Words: lieut lieut, lieut, gent gent, gent",
          "<b>Topic 20</b><br>Words: lieut lieut, lieut, gent gent, gent",
          "<b>Topic 20</b><br>Words: lieut, gent gent, gent, lieut lieut",
          "<b>Topic 20</b><br>Words: gent gent, gent, indeed gest, gest"
         ],
         "marker": {
          "color": "#CC79A7"
         },
         "mode": "lines",
         "name": "20_gent gent_gent_lieut lieut_lieut",
         "x": [
          "1799-10-19T22:50:52.800000",
          "1815-05-22T01:50:46.153845",
          "1846-02-26T05:32:18.461538",
          "1861-07-16T07:23:04.615384",
          "1907-09-11T12:55:23.076922",
          "1923-01-29T14:46:09.230769",
          "1938-06-18T16:36:55.384615",
          "1953-11-05T18:27:41.538461",
          "1984-08-12T22:09:13.846153"
         ],
         "y": [
          349,
          1,
          3,
          1,
          55,
          24,
          22,
          1,
          2
         ],
         "type": "scatter"
        },
        {
         "hoverinfo": "text",
         "hovertext": [
          "<b>Topic 21</b><br>Words: motion, principle, hon, observation",
          "<b>Topic 21</b><br>Words: motion, principle, observation, hon",
          "<b>Topic 21</b><br>Words: principle, motion, hon, observation",
          "<b>Topic 21</b><br>Words: motion, principle, observation, observation hon",
          "<b>Topic 21</b><br>Words: motion, principle, observation, hon",
          "<b>Topic 21</b><br>Words: motion, principle, hon, observation",
          "<b>Topic 21</b><br>Words: motion, principle, motion agreed, second motion",
          "<b>Topic 21</b><br>Words: motion, principle, second motion, observation",
          "<b>Topic 21</b><br>Words: motion, principle, propulsion, second motion",
          "<b>Topic 21</b><br>Words: principle, motion, general principle, far unless",
          "<b>Topic 21</b><br>Words: motion, principle, disregard, would negation",
          "<b>Topic 21</b><br>Words: principle, motion, standpoint, fundamental principle",
          "<b>Topic 21</b><br>Words: motion, principle, moving motion, hon"
         ],
         "marker": {
          "color": "#E69F00"
         },
         "mode": "lines",
         "name": "21_motion_principle_hon_observation",
         "x": [
          "1799-10-19T22:50:52.800000",
          "1815-05-22T01:50:46.153845",
          "1830-10-09T03:41:32.307692",
          "1846-02-26T05:32:18.461538",
          "1861-07-16T07:23:04.615384",
          "1876-12-03T09:13:50.769230",
          "1892-04-22T11:04:36.923076",
          "1907-09-11T12:55:23.076922",
          "1923-01-29T14:46:09.230769",
          "1938-06-18T16:36:55.384615",
          "1953-11-05T18:27:41.538461",
          "1969-03-25T20:18:27.692307",
          "1984-08-12T22:09:13.846153"
         ],
         "y": [
          85,
          65,
          37,
          51,
          27,
          41,
          16,
          29,
          14,
          15,
          13,
          15,
          28
         ],
         "type": "scatter"
        },
        {
         "hoverinfo": "text",
         "hovertext": [
          "<b>Topic 22</b><br>Words: figure, time, argued referring, acting wholly",
          "<b>Topic 22</b><br>Words: moment, figure, time, refuted history",
          "<b>Topic 22</b><br>Words: know stood, moment obligation, stood moment, better reserve",
          "<b>Topic 22</b><br>Words: figure, moment, stir, time",
          "<b>Topic 22</b><br>Words: figure, moment, half virtue, excluded item",
          "<b>Topic 22</b><br>Words: figure, time, moment, could moment",
          "<b>Topic 22</b><br>Words: figure, moment, time, lapse certain",
          "<b>Topic 22</b><br>Words: figure, moment, time, figure yet",
          "<b>Topic 22</b><br>Words: figure, time, moment, changed",
          "<b>Topic 22</b><br>Words: figure, moment, time, yet available",
          "<b>Topic 22</b><br>Words: figure, moment, time, negligible",
          "<b>Topic 22</b><br>Words: figure, moment, figure figure, time",
          "<b>Topic 22</b><br>Words: figure, moment, time, cuckoo nest"
         ],
         "marker": {
          "color": "#56B4E9"
         },
         "mode": "lines",
         "name": "22_figure_moment_time_figure figure",
         "x": [
          "1799-10-19T22:50:52.800000",
          "1815-05-22T01:50:46.153845",
          "1830-10-09T03:41:32.307692",
          "1846-02-26T05:32:18.461538",
          "1861-07-16T07:23:04.615384",
          "1876-12-03T09:13:50.769230",
          "1892-04-22T11:04:36.923076",
          "1907-09-11T12:55:23.076922",
          "1923-01-29T14:46:09.230769",
          "1938-06-18T16:36:55.384615",
          "1953-11-05T18:27:41.538461",
          "1969-03-25T20:18:27.692307",
          "1984-08-12T22:09:13.846153"
         ],
         "y": [
          8,
          22,
          2,
          12,
          7,
          17,
          13,
          51,
          19,
          52,
          13,
          44,
          37
         ],
         "type": "scatter"
        },
        {
         "hoverinfo": "text",
         "hovertext": [
          "<b>Topic 23</b><br>Words: contended many, difficulty impediment, salt employed, get drawback",
          "<b>Topic 23</b><br>Words: fishery, salmon, fish, river",
          "<b>Topic 23</b><br>Words: fishery, fisherman, fish, fishing",
          "<b>Topic 23</b><br>Words: fish, fishing, fishery, salmon",
          "<b>Topic 23</b><br>Words: fish, fishery, freshwater, freshwater fish",
          "<b>Topic 23</b><br>Words: fishery, fishing, fish, fisherman",
          "<b>Topic 23</b><br>Words: fishery, fishing, newfoundland, fisherman",
          "<b>Topic 23</b><br>Words: fishery, fisherman, fishing, fish",
          "<b>Topic 23</b><br>Words: fish, fishing, fishery, fishing industry",
          "<b>Topic 23</b><br>Words: fishery, fish, herring, fishing",
          "<b>Topic 23</b><br>Words: fishing, fish, fisherman, fishery",
          "<b>Topic 23</b><br>Words: fishing, fish, fishery, salmon",
          "<b>Topic 23</b><br>Words: fishing, fishery, fish, fisherman"
         ],
         "marker": {
          "color": "#009E73"
         },
         "mode": "lines",
         "name": "23_fishery_fishing_fish_fisherman",
         "x": [
          "1799-10-19T22:50:52.800000",
          "1815-05-22T01:50:46.153845",
          "1830-10-09T03:41:32.307692",
          "1846-02-26T05:32:18.461538",
          "1861-07-16T07:23:04.615384",
          "1876-12-03T09:13:50.769230",
          "1892-04-22T11:04:36.923076",
          "1907-09-11T12:55:23.076922",
          "1923-01-29T14:46:09.230769",
          "1938-06-18T16:36:55.384615",
          "1953-11-05T18:27:41.538461",
          "1969-03-25T20:18:27.692307",
          "1984-08-12T22:09:13.846153"
         ],
         "y": [
          1,
          13,
          8,
          23,
          6,
          38,
          23,
          21,
          12,
          29,
          13,
          41,
          61
         ],
         "type": "scatter"
        },
        {
         "hoverinfo": "text",
         "hovertext": [
          "<b>Topic 24</b><br>Words: owen plan, proposal, proposed hon, proposed",
          "<b>Topic 24</b><br>Words: proposal, scheme, absurdity proposal, simple agreed",
          "<b>Topic 24</b><br>Words: scheme, proposal, proposed, proposal right",
          "<b>Topic 24</b><br>Words: proposal, scheme, proposal right, proposal hon",
          "<b>Topic 24</b><br>Words: proposal, proposal right, proposal hon, hon proposal",
          "<b>Topic 24</b><br>Words: proposal, proposal hon, scheme, proposal right",
          "<b>Topic 24</b><br>Words: proposal, scheme, scheme presented, presented",
          "<b>Topic 24</b><br>Words: proposal, scheme, proposal hon, hon scheme",
          "<b>Topic 24</b><br>Words: proposal, scheme, proposal kind, kind",
          "<b>Topic 24</b><br>Words: proposal, scheme, proposal right, proposal scheme",
          "<b>Topic 24</b><br>Words: proposal, scheme, scheme drawing, activated middle",
          "<b>Topic 24</b><br>Words: proposal, scheme, grand scheme, forward proposal",
          "<b>Topic 24</b><br>Words: proposal, scheme, say proposal, mencap"
         ],
         "marker": {
          "color": "#F0E442"
         },
         "mode": "lines",
         "name": "24_proposal_scheme_proposal hon_proposal...",
         "x": [
          "1799-10-19T22:50:52.800000",
          "1815-05-22T01:50:46.153845",
          "1830-10-09T03:41:32.307692",
          "1846-02-26T05:32:18.461538",
          "1861-07-16T07:23:04.615384",
          "1876-12-03T09:13:50.769230",
          "1892-04-22T11:04:36.923076",
          "1907-09-11T12:55:23.076922",
          "1923-01-29T14:46:09.230769",
          "1938-06-18T16:36:55.384615",
          "1953-11-05T18:27:41.538461",
          "1969-03-25T20:18:27.692307",
          "1984-08-12T22:09:13.846153"
         ],
         "y": [
          8,
          7,
          10,
          18,
          15,
          32,
          14,
          23,
          16,
          28,
          16,
          32,
          37
         ],
         "type": "scatter"
        },
        {
         "hoverinfo": "text",
         "hovertext": [
          "<b>Topic 25</b><br>Words: corruption, fraud, bribery, lottery",
          "<b>Topic 25</b><br>Words: bribery, bribe, corruption, fraud",
          "<b>Topic 25</b><br>Words: fraud, bribery, corruption, bribery committed",
          "<b>Topic 25</b><br>Words: bribery, fraud, corruption, lottery",
          "<b>Topic 25</b><br>Words: fraud, bribery, corruption, election",
          "<b>Topic 25</b><br>Words: fraud, bribery, betting, gambling",
          "<b>Topic 25</b><br>Words: gambling, claim, like indulgence, got publican",
          "<b>Topic 25</b><br>Words: betting, fraud, increase betting, claim made",
          "<b>Topic 25</b><br>Words: gambling, betting, lottery, private gain",
          "<b>Topic 25</b><br>Words: fraud, betting, lottery, transaction",
          "<b>Topic 25</b><br>Words: bet, valid bet, betting day, betting",
          "<b>Topic 25</b><br>Words: fraud, lottery, corruption, bribery",
          "<b>Topic 25</b><br>Words: lottery, fraud, national lottery, bribery"
         ],
         "marker": {
          "color": "#D55E00"
         },
         "mode": "lines",
         "name": "25_fraud_lottery_bribery_corruption",
         "x": [
          "1799-10-19T22:50:52.800000",
          "1815-05-22T01:50:46.153845",
          "1830-10-09T03:41:32.307692",
          "1846-02-26T05:32:18.461538",
          "1861-07-16T07:23:04.615384",
          "1876-12-03T09:13:50.769230",
          "1892-04-22T11:04:36.923076",
          "1907-09-11T12:55:23.076922",
          "1923-01-29T14:46:09.230769",
          "1938-06-18T16:36:55.384615",
          "1953-11-05T18:27:41.538461",
          "1969-03-25T20:18:27.692307",
          "1984-08-12T22:09:13.846153"
         ],
         "y": [
          50,
          36,
          17,
          23,
          10,
          12,
          5,
          9,
          18,
          9,
          8,
          16,
          41
         ],
         "type": "scatter"
        },
        {
         "hoverinfo": "text",
         "hovertext": [
          "<b>Topic 26</b><br>Words: grant, concession, grant therefore, make concession",
          "<b>Topic 26</b><br>Words: grant, concession, protection capital, oppose grant",
          "<b>Topic 26</b><br>Words: grant, concession, present grant, make concession",
          "<b>Topic 26</b><br>Words: grant, concession, annual grant, committee council",
          "<b>Topic 26</b><br>Words: grant, concession, concession made, american citizen",
          "<b>Topic 26</b><br>Words: grant, concession, made, grant made",
          "<b>Topic 26</b><br>Words: grant, concession, concession could, make concession",
          "<b>Topic 26</b><br>Words: grant, concession, grant made, made",
          "<b>Topic 26</b><br>Words: grant, concession, approved act, ascertainment allocation",
          "<b>Topic 26</b><br>Words: grant, concession, concession visitor, year scheme",
          "<b>Topic 26</b><br>Words: grant, concession, general grant, administrative cost",
          "<b>Topic 26</b><br>Words: grant, concession, support grant, grant grant",
          "<b>Topic 26</b><br>Words: grant, concession, grant paid, amount grant"
         ],
         "marker": {
          "color": "#0072B2"
         },
         "mode": "lines",
         "name": "26_grant_concession_make concession_made",
         "x": [
          "1799-10-19T22:50:52.800000",
          "1815-05-22T01:50:46.153845",
          "1830-10-09T03:41:32.307692",
          "1846-02-26T05:32:18.461538",
          "1861-07-16T07:23:04.615384",
          "1876-12-03T09:13:50.769230",
          "1892-04-22T11:04:36.923076",
          "1907-09-11T12:55:23.076922",
          "1923-01-29T14:46:09.230769",
          "1938-06-18T16:36:55.384615",
          "1953-11-05T18:27:41.538461",
          "1969-03-25T20:18:27.692307",
          "1984-08-12T22:09:13.846153"
         ],
         "y": [
          19,
          11,
          11,
          12,
          11,
          27,
          15,
          26,
          11,
          15,
          18,
          19,
          23
         ],
         "type": "scatter"
        },
        {
         "hoverinfo": "text",
         "hovertext": [
          "<b>Topic 27</b><br>Words: licence, licence issued, licensing, order council",
          "<b>Topic 27</b><br>Words: license, licensing, licence, principle licensing",
          "<b>Topic 27</b><br>Words: registration, licence, objectionable, objection",
          "<b>Topic 27</b><br>Words: licence, license, registration, publican",
          "<b>Topic 27</b><br>Words: licence, registration, license, hawker",
          "<b>Topic 27</b><br>Words: licence, register, registration, license",
          "<b>Topic 27</b><br>Words: licence, licensing, licence duty, license",
          "<b>Topic 27</b><br>Words: licence, licensing, register, registration",
          "<b>Topic 27</b><br>Words: licence, licence granted, granted, register",
          "<b>Topic 27</b><br>Words: licence, registration, licensing, licensee",
          "<b>Topic 27</b><br>Words: licence, licensing, year, registration",
          "<b>Topic 27</b><br>Words: licence, registration, licensing, licensee",
          "<b>Topic 27</b><br>Words: licence, licensing, registration, register"
         ],
         "marker": {
          "color": "#CC79A7"
         },
         "mode": "lines",
         "name": "27_licence_licensing_registration_regist...",
         "x": [
          "1799-10-19T22:50:52.800000",
          "1815-05-22T01:50:46.153845",
          "1830-10-09T03:41:32.307692",
          "1846-02-26T05:32:18.461538",
          "1861-07-16T07:23:04.615384",
          "1876-12-03T09:13:50.769230",
          "1892-04-22T11:04:36.923076",
          "1907-09-11T12:55:23.076922",
          "1923-01-29T14:46:09.230769",
          "1938-06-18T16:36:55.384615",
          "1953-11-05T18:27:41.538461",
          "1969-03-25T20:18:27.692307",
          "1984-08-12T22:09:13.846153"
         ],
         "y": [
          8,
          9,
          3,
          12,
          10,
          16,
          17,
          27,
          15,
          17,
          8,
          32,
          33
         ],
         "type": "scatter"
        },
        {
         "hoverinfo": "text",
         "hovertext": [
          "<b>Topic 28</b><br>Words: measure, objection, measure proposed, proposed",
          "<b>Topic 28</b><br>Words: measure, principle, measure would, measure adopted",
          "<b>Topic 28</b><br>Words: measure, dissent, measure offer, sir principle",
          "<b>Topic 28</b><br>Words: measure, present measure, principle, present",
          "<b>Topic 28</b><br>Words: measure, measure would, would, measure offer",
          "<b>Topic 28</b><br>Words: measure, oppose measure, measure introduced, wished",
          "<b>Topic 28</b><br>Words: measure, measure measure, heroic measure, story require",
          "<b>Topic 28</b><br>Words: measure, made humane, absence argument, recourse catchword",
          "<b>Topic 28</b><br>Words: measure, received ungrateful, ungrateful manner, precedent expropriating",
          "<b>Topic 28</b><br>Words: measure, big, eschewing, welcomed present",
          "<b>Topic 28</b><br>Words: measure, full measure, assurance customer, people repeat",
          "<b>Topic 28</b><br>Words: measure, metrication, courage far, today selective",
          "<b>Topic 28</b><br>Words: measure, measure would, many measure, measure make"
         ],
         "marker": {
          "color": "#E69F00"
         },
         "mode": "lines",
         "name": "28_measure_measure would_principle_prese...",
         "x": [
          "1799-10-19T22:50:52.800000",
          "1815-05-22T01:50:46.153845",
          "1830-10-09T03:41:32.307692",
          "1846-02-26T05:32:18.461538",
          "1861-07-16T07:23:04.615384",
          "1876-12-03T09:13:50.769230",
          "1892-04-22T11:04:36.923076",
          "1907-09-11T12:55:23.076922",
          "1923-01-29T14:46:09.230769",
          "1938-06-18T16:36:55.384615",
          "1953-11-05T18:27:41.538461",
          "1969-03-25T20:18:27.692307",
          "1984-08-12T22:09:13.846153"
         ],
         "y": [
          36,
          34,
          14,
          19,
          18,
          13,
          7,
          8,
          7,
          10,
          9,
          9,
          19
         ],
         "type": "scatter"
        },
        {
         "hoverinfo": "text",
         "hovertext": [
          "<b>Topic 29</b><br>Words: oath, pledge, swear, upon oath",
          "<b>Topic 29</b><br>Words: oath, pledge, swear, take oath",
          "<b>Topic 29</b><br>Words: oath, pledge, oath taken, taken member",
          "<b>Topic 29</b><br>Words: oath, pledge, taking oath, take oath",
          "<b>Topic 29</b><br>Words: pledge, could next, pledge induce, redeem fairly",
          "<b>Topic 29</b><br>Words: oath, pledge, taken oath, take oath",
          "<b>Topic 29</b><br>Words: pledge, oath, included taking, concerned broken",
          "<b>Topic 29</b><br>Words: pledge, oath, pledge given, given pledge",
          "<b>Topic 29</b><br>Words: pledge, one pledge, pledge party, intact accordance",
          "<b>Topic 29</b><br>Words: pledge, deal pledge, oath, challenged given",
          "<b>Topic 29</b><br>Words: pledge, give pledge, innocent householder, least dying",
          "<b>Topic 29</b><br>Words: clear pledge, pledge fixed, fixed community, community charge",
          "<b>Topic 29</b><br>Words: pledge, oath, waiting, around"
         ],
         "marker": {
          "color": "#56B4E9"
         },
         "mode": "lines",
         "name": "29_oath_pledge_swear_take oath",
         "x": [
          "1799-10-19T22:50:52.800000",
          "1815-05-22T01:50:46.153845",
          "1830-10-09T03:41:32.307692",
          "1846-02-26T05:32:18.461538",
          "1861-07-16T07:23:04.615384",
          "1876-12-03T09:13:50.769230",
          "1892-04-22T11:04:36.923076",
          "1907-09-11T12:55:23.076922",
          "1923-01-29T14:46:09.230769",
          "1938-06-18T16:36:55.384615",
          "1953-11-05T18:27:41.538461",
          "1969-03-25T20:18:27.692307",
          "1984-08-12T22:09:13.846153"
         ],
         "y": [
          41,
          48,
          12,
          33,
          3,
          15,
          3,
          18,
          2,
          8,
          3,
          1,
          8
         ],
         "type": "scatter"
        },
        {
         "hoverinfo": "text",
         "hovertext": [
          "<b>Topic 30</b><br>Words: balfour, stork, henry stork, sir henry",
          "<b>Topic 30</b><br>Words: balfour, balfour memberconstituency, hon balfour, balfour said",
          "<b>Topic 30</b><br>Words: balfour, hon balfour, gerald balfour, lord balfour",
          "<b>Topic 30</b><br>Words: balfour, lord balfour, burleigh, balfour burleigh",
          "<b>Topic 30</b><br>Words: morrison, balfour, hon morrison, morrison reply",
          "<b>Topic 30</b><br>Words: morrison, balfour, hon morrison, morrison yes",
          "<b>Topic 30</b><br>Words: balfour, inchrye lord, lord balfour, wilkins",
          "<b>Topic 30</b><br>Words: balfour, post office, responsible commences, administration post",
          "<b>Topic 30</b><br>Words: chester morrison, city chester, morrison hon, chester"
         ],
         "marker": {
          "color": "#009E73"
         },
         "mode": "lines",
         "name": "30_balfour_morrison_hon balfour_lord bal...",
         "x": [
          "1846-02-26T05:32:18.461538",
          "1876-12-03T09:13:50.769230",
          "1892-04-22T11:04:36.923076",
          "1907-09-11T12:55:23.076922",
          "1923-01-29T14:46:09.230769",
          "1938-06-18T16:36:55.384615",
          "1953-11-05T18:27:41.538461",
          "1969-03-25T20:18:27.692307",
          "1984-08-12T22:09:13.846153"
         ],
         "y": [
          1,
          72,
          37,
          17,
          16,
          42,
          5,
          1,
          1
         ],
         "type": "scatter"
        },
        {
         "hoverinfo": "text",
         "hovertext": [
          "<b>Topic 31</b><br>Words: advantage, reason, forbearance, great advantage",
          "<b>Topic 31</b><br>Words: advantage, reason, disadvantage, benefit",
          "<b>Topic 31</b><br>Words: advantage, enabling hon, advantage sphere, advantage enabling",
          "<b>Topic 31</b><br>Words: advantage, reason, advantage would, saw advantage",
          "<b>Topic 31</b><br>Words: advantage, reason, exercise function, much public",
          "<b>Topic 31</b><br>Words: advantage, reason, great advantage, increase reversion",
          "<b>Topic 31</b><br>Words: reason, advantage, reason reason, tonight",
          "<b>Topic 31</b><br>Words: advantage, reason, advantage reason, reason reason",
          "<b>Topic 31</b><br>Words: reason, advantage, immense advantage, immense",
          "<b>Topic 31</b><br>Words: reason, advantage, one reason, reason reason",
          "<b>Topic 31</b><br>Words: reason, advantage, let contrast, siting market",
          "<b>Topic 31</b><br>Words: reason, advantage, great advantage, two reason",
          "<b>Topic 31</b><br>Words: reason, advantage, good reason, three reason"
         ],
         "marker": {
          "color": "#F0E442"
         },
         "mode": "lines",
         "name": "31_advantage_reason_great advantage_good...",
         "x": [
          "1799-10-19T22:50:52.800000",
          "1815-05-22T01:50:46.153845",
          "1830-10-09T03:41:32.307692",
          "1846-02-26T05:32:18.461538",
          "1861-07-16T07:23:04.615384",
          "1876-12-03T09:13:50.769230",
          "1892-04-22T11:04:36.923076",
          "1907-09-11T12:55:23.076922",
          "1923-01-29T14:46:09.230769",
          "1938-06-18T16:36:55.384615",
          "1953-11-05T18:27:41.538461",
          "1969-03-25T20:18:27.692307",
          "1984-08-12T22:09:13.846153"
         ],
         "y": [
          8,
          11,
          3,
          12,
          10,
          20,
          9,
          22,
          8,
          19,
          12,
          22,
          21
         ],
         "type": "scatter"
        },
        {
         "hoverinfo": "text",
         "hovertext": [
          "<b>Topic 32</b><br>Words: estimate, pending arrangement, population, pending",
          "<b>Topic 32</b><br>Words: estimate, population, sum, population increased",
          "<b>Topic 32</b><br>Words: estimate, population, exclude great, institution formed",
          "<b>Topic 32</b><br>Words: estimate, population, original estimate, general estimate",
          "<b>Topic 32</b><br>Words: estimate, census population, connected estimate, testing accuracy",
          "<b>Topic 32</b><br>Words: estimate, population, supplementary estimate, supplementary",
          "<b>Topic 32</b><br>Words: estimate, population, population know, supplementary estimate",
          "<b>Topic 32</b><br>Words: estimate, population, supplementary estimate, supplementary",
          "<b>Topic 32</b><br>Words: estimate, population, supplementary estimate, supplementary",
          "<b>Topic 32</b><br>Words: estimate, population, figure, total population",
          "<b>Topic 32</b><br>Words: estimate, population, become increasingly, increasingly difficult",
          "<b>Topic 32</b><br>Words: estimate, population, supplementary estimate, supplementary",
          "<b>Topic 32</b><br>Words: estimate, population, census, number never"
         ],
         "marker": {
          "color": "#D55E00"
         },
         "mode": "lines",
         "name": "32_estimate_population_supplementary est...",
         "x": [
          "1799-10-19T22:50:52.800000",
          "1815-05-22T01:50:46.153845",
          "1830-10-09T03:41:32.307692",
          "1846-02-26T05:32:18.461538",
          "1861-07-16T07:23:04.615384",
          "1876-12-03T09:13:50.769230",
          "1892-04-22T11:04:36.923076",
          "1907-09-11T12:55:23.076922",
          "1923-01-29T14:46:09.230769",
          "1938-06-18T16:36:55.384615",
          "1953-11-05T18:27:41.538461",
          "1969-03-25T20:18:27.692307",
          "1984-08-12T22:09:13.846153"
         ],
         "y": [
          8,
          17,
          5,
          15,
          3,
          22,
          11,
          36,
          9,
          16,
          10,
          14,
          11
         ],
         "type": "scatter"
        },
        {
         "hoverinfo": "text",
         "hovertext": [
          "<b>Topic 33</b><br>Words: tithe, cotton, payment tithe, excess",
          "<b>Topic 33</b><br>Words: tithe, cotton, wool, silk",
          "<b>Topic 33</b><br>Words: cotton, tithe, foreign cotton, may recovered",
          "<b>Topic 33</b><br>Words: cotton, tithe, send agent, cultivation",
          "<b>Topic 33</b><br>Words: cotton, cotton trade, raw cotton, tithe",
          "<b>Topic 33</b><br>Words: tithe, cotton, pay tithe, took tithe",
          "<b>Topic 33</b><br>Words: cotton, lancashire, tithe, present grew",
          "<b>Topic 33</b><br>Words: cotton, tithe, cotton trade, silk",
          "<b>Topic 33</b><br>Words: cotton, tithe, cotton trade, odd",
          "<b>Topic 33</b><br>Words: cotton, tithe, lancashire, cotton industry",
          "<b>Topic 33</b><br>Words: cotton, cotton industry, modernisation, silkin",
          "<b>Topic 33</b><br>Words: cotton, cotton industry, industry, thread",
          "<b>Topic 33</b><br>Words: wool, wool producer, producer, price helped"
         ],
         "marker": {
          "color": "#0072B2"
         },
         "mode": "lines",
         "name": "33_cotton_tithe_wool_cotton trade",
         "x": [
          "1799-10-19T22:50:52.800000",
          "1815-05-22T01:50:46.153845",
          "1830-10-09T03:41:32.307692",
          "1846-02-26T05:32:18.461538",
          "1861-07-16T07:23:04.615384",
          "1876-12-03T09:13:50.769230",
          "1892-04-22T11:04:36.923076",
          "1907-09-11T12:55:23.076922",
          "1923-01-29T14:46:09.230769",
          "1938-06-18T16:36:55.384615",
          "1953-11-05T18:27:41.538461",
          "1969-03-25T20:18:27.692307",
          "1984-08-12T22:09:13.846153"
         ],
         "y": [
          7,
          48,
          11,
          22,
          4,
          15,
          4,
          17,
          13,
          17,
          5,
          7,
          4
         ],
         "type": "scatter"
        },
        {
         "hoverinfo": "text",
         "hovertext": [
          "<b>Topic 34</b><br>Words: rose, peel, hon rose, rose said",
          "<b>Topic 34</b><br>Words: peel, rose, robert peel, sir",
          "<b>Topic 34</b><br>Words: peel, sir peel, sir, rose",
          "<b>Topic 34</b><br>Words: peel, robert peel, sir robert, rose",
          "<b>Topic 34</b><br>Words: oppose whole, whole proposition, rylands said, rose oppose",
          "<b>Topic 34</b><br>Words: peel, rose, robert peel, sir robert",
          "<b>Topic 34</b><br>Words: peel, brief administration, properly divided, purpose satisfying",
          "<b>Topic 34</b><br>Words: peel, viscount peel, viscount, rose",
          "<b>Topic 34</b><br>Words: rose rose, rose, number rose, surgeon appointed",
          "<b>Topic 34</b><br>Words: rose, proposing discus, rose lieut, rose proposing",
          "<b>Topic 34</b><br>Words: rose, erroll must, immediately machination, rose peak",
          "<b>Topic 34</b><br>Words: rose, gould suspect, cash rose, drivel every",
          "<b>Topic 34</b><br>Words: peel, contribution rural, rose would, sweet name"
         ],
         "marker": {
          "color": "#CC79A7"
         },
         "mode": "lines",
         "name": "34_peel_rose_robert peel_sir",
         "x": [
          "1799-10-19T22:50:52.800000",
          "1815-05-22T01:50:46.153845",
          "1830-10-09T03:41:32.307692",
          "1846-02-26T05:32:18.461538",
          "1861-07-16T07:23:04.615384",
          "1876-12-03T09:13:50.769230",
          "1892-04-22T11:04:36.923076",
          "1907-09-11T12:55:23.076922",
          "1923-01-29T14:46:09.230769",
          "1938-06-18T16:36:55.384615",
          "1953-11-05T18:27:41.538461",
          "1969-03-25T20:18:27.692307",
          "1984-08-12T22:09:13.846153"
         ],
         "y": [
          29,
          30,
          24,
          31,
          1,
          6,
          2,
          15,
          1,
          2,
          2,
          2,
          2
         ],
         "type": "scatter"
        },
        {
         "hoverinfo": "text",
         "hovertext": [
          "<b>Topic 35</b><br>Words: ought, sort, necessary ought, sort reform",
          "<b>Topic 35</b><br>Words: ought, sort, ought abolished, abolished",
          "<b>Topic 35</b><br>Words: ought, sort, school ought, school",
          "<b>Topic 35</b><br>Words: ought, sort, thought ought, lynch law",
          "<b>Topic 35</b><br>Words: ought done, ought, done positive, confidence inspector",
          "<b>Topic 35</b><br>Words: sort, ought, nothing sort, sort thing",
          "<b>Topic 35</b><br>Words: ought, sort, omitted publish, publish letter",
          "<b>Topic 35</b><br>Words: ought, sort, think ought, done",
          "<b>Topic 35</b><br>Words: sort, ought, sort thing, article ought",
          "<b>Topic 35</b><br>Words: ought, sort, think ought, sort thing",
          "<b>Topic 35</b><br>Words: sort, ought, sort situation, think ought",
          "<b>Topic 35</b><br>Words: sort, ought, reservation, traveller",
          "<b>Topic 35</b><br>Words: sort, ought, sort problem, problem"
         ],
         "marker": {
          "color": "#E69F00"
         },
         "mode": "lines",
         "name": "35_sort_ought_think ought_sort thing",
         "x": [
          "1799-10-19T22:50:52.800000",
          "1815-05-22T01:50:46.153845",
          "1830-10-09T03:41:32.307692",
          "1846-02-26T05:32:18.461538",
          "1861-07-16T07:23:04.615384",
          "1876-12-03T09:13:50.769230",
          "1892-04-22T11:04:36.923076",
          "1907-09-11T12:55:23.076922",
          "1923-01-29T14:46:09.230769",
          "1938-06-18T16:36:55.384615",
          "1953-11-05T18:27:41.538461",
          "1969-03-25T20:18:27.692307",
          "1984-08-12T22:09:13.846153"
         ],
         "y": [
          13,
          10,
          6,
          7,
          3,
          10,
          7,
          12,
          9,
          24,
          11,
          18,
          14
         ],
         "type": "scatter"
        },
        {
         "hoverinfo": "text",
         "hovertext": [
          "<b>Topic 36</b><br>Words: regret, regretted, hon regretted, regretted hon",
          "<b>Topic 36</b><br>Words: regret, regretted, hon regretted, hon",
          "<b>Topic 36</b><br>Words: regret, regretted, extort condition, regret listened",
          "<b>Topic 36</b><br>Words: regret, regretted, regretted right, hon regretted",
          "<b>Topic 36</b><br>Words: regretted, regret, regretted right, hon regretted",
          "<b>Topic 36</b><br>Words: regret, regretted, hon regret, regret power",
          "<b>Topic 36</b><br>Words: regret, satisfaction take, regret nothing, twopence even",
          "<b>Topic 36</b><br>Words: regret, regretted, sir regret, regret information",
          "<b>Topic 36</b><br>Words: regret, betterton regret, candidate considerable, regret support",
          "<b>Topic 36</b><br>Words: regret, regret unable, regrettable, unable",
          "<b>Topic 36</b><br>Words: regret, division ask, regret able, cannot must",
          "<b>Topic 36</b><br>Words: regret, regretted, spent happiest, regretthat",
          "<b>Topic 36</b><br>Words: regret, regrettable, regret regret, regretted"
         ],
         "marker": {
          "color": "#56B4E9"
         },
         "mode": "lines",
         "name": "36_regret_regretted_hon_hon regretted",
         "x": [
          "1799-10-19T22:50:52.800000",
          "1815-05-22T01:50:46.153845",
          "1830-10-09T03:41:32.307692",
          "1846-02-26T05:32:18.461538",
          "1861-07-16T07:23:04.615384",
          "1876-12-03T09:13:50.769230",
          "1892-04-22T11:04:36.923076",
          "1907-09-11T12:55:23.076922",
          "1923-01-29T14:46:09.230769",
          "1938-06-18T16:36:55.384615",
          "1953-11-05T18:27:41.538461",
          "1969-03-25T20:18:27.692307",
          "1984-08-12T22:09:13.846153"
         ],
         "y": [
          17,
          17,
          6,
          15,
          7,
          18,
          4,
          12,
          5,
          9,
          2,
          10,
          13
         ],
         "type": "scatter"
        },
        {
         "hoverinfo": "text",
         "hovertext": [
          "<b>Topic 37</b><br>Words: mean, say mean, mean mean, spread disaffection",
          "<b>Topic 37</b><br>Words: mean, mean mean, mean ascertaining, say mean",
          "<b>Topic 37</b><br>Words: say gradation, gradation carried, carried upon, gradation",
          "<b>Topic 37</b><br>Words: mean, say mean, mean say, say",
          "<b>Topic 37</b><br>Words: add oven, precedent kind, oven feel, producing bound",
          "<b>Topic 37</b><br>Words: matthew say, mean, matthew, say",
          "<b>Topic 37</b><br>Words: mean, record arise, question statistical, statistical mean",
          "<b>Topic 37</b><br>Words: mean, say, mean form, mean brawl",
          "<b>Topic 37</b><br>Words: say need, merely say, need say, say",
          "<b>Topic 37</b><br>Words: mean, say, say mean, mean mean",
          "<b>Topic 37</b><br>Words: mean, say, mean say, say mean",
          "<b>Topic 37</b><br>Words: mean, say, say mean, mean mean",
          "<b>Topic 37</b><br>Words: mean, say, mean mean, say mean"
         ],
         "marker": {
          "color": "#009E73"
         },
         "mode": "lines",
         "name": "37_mean_say_say mean_mean mean",
         "x": [
          "1799-10-19T22:50:52.800000",
          "1815-05-22T01:50:46.153845",
          "1830-10-09T03:41:32.307692",
          "1846-02-26T05:32:18.461538",
          "1861-07-16T07:23:04.615384",
          "1876-12-03T09:13:50.769230",
          "1892-04-22T11:04:36.923076",
          "1907-09-11T12:55:23.076922",
          "1923-01-29T14:46:09.230769",
          "1938-06-18T16:36:55.384615",
          "1953-11-05T18:27:41.538461",
          "1969-03-25T20:18:27.692307",
          "1984-08-12T22:09:13.846153"
         ],
         "y": [
          5,
          11,
          1,
          12,
          3,
          9,
          3,
          13,
          2,
          22,
          10,
          24,
          19
         ],
         "type": "scatter"
        },
        {
         "hoverinfo": "text",
         "hovertext": [
          "<b>Topic 38</b><br>Words: appointment, consultation, appointment necessary, appointment field",
          "<b>Topic 38</b><br>Words: appointment, consultation, continuance appointment, cast appointment",
          "<b>Topic 38</b><br>Words: appointment, consultation, appointment conferred, feeling completing",
          "<b>Topic 38</b><br>Words: appointment, consultation, haste, apprised vacancy",
          "<b>Topic 38</b><br>Words: appointment, consultation, zealous work, militated appointment",
          "<b>Topic 38</b><br>Words: appointment, consultation, former agent, civil assistant",
          "<b>Topic 38</b><br>Words: discretion filling, convenience detained, house urgent, urgent private",
          "<b>Topic 38</b><br>Words: appointment, consultation, appointment since, lynch appointment",
          "<b>Topic 38</b><br>Words: appointment, consultation, appointment receiver, consultation dealing",
          "<b>Topic 38</b><br>Words: consultation, appointment, agree, event word",
          "<b>Topic 38</b><br>Words: consultation, consultant, favour consultant, loading condition",
          "<b>Topic 38</b><br>Words: consultation, appointment, think consultation, consultant",
          "<b>Topic 38</b><br>Words: consultation, appointment, consultation paper, public consultation"
         ],
         "marker": {
          "color": "#F0E442"
         },
         "mode": "lines",
         "name": "38_consultation_appointment_consultation...",
         "x": [
          "1799-10-19T22:50:52.800000",
          "1815-05-22T01:50:46.153845",
          "1830-10-09T03:41:32.307692",
          "1846-02-26T05:32:18.461538",
          "1861-07-16T07:23:04.615384",
          "1876-12-03T09:13:50.769230",
          "1892-04-22T11:04:36.923076",
          "1907-09-11T12:55:23.076922",
          "1923-01-29T14:46:09.230769",
          "1938-06-18T16:36:55.384615",
          "1953-11-05T18:27:41.538461",
          "1969-03-25T20:18:27.692307",
          "1984-08-12T22:09:13.846153"
         ],
         "y": [
          9,
          8,
          6,
          3,
          6,
          4,
          2,
          6,
          4,
          13,
          4,
          28,
          37
         ],
         "type": "scatter"
        },
        {
         "hoverinfo": "text",
         "hovertext": [
          "<b>Topic 39</b><br>Words: yes, course, certainly, atride",
          "<b>Topic 39</b><br>Words: yes yes, yes, course, certainly yes",
          "<b>Topic 39</b><br>Words: course, yes, yes yes, certainly",
          "<b>Topic 39</b><br>Words: yes, course, certainly certainly, certainly",
          "<b>Topic 39</b><br>Words: ago arrived, came spirit, dream resolution, experience course",
          "<b>Topic 39</b><br>Words: course, yes, yes yes, course would",
          "<b>Topic 39</b><br>Words: suggestion latter, consider due, course suggestion, question yes",
          "<b>Topic 39</b><br>Words: yes, yes yes, course, version",
          "<b>Topic 39</b><br>Words: without resumed, resumed occupation, assumption dy, course assumption",
          "<b>Topic 39</b><br>Words: course, course cover, course solution, sure provided",
          "<b>Topic 39</b><br>Words: course, yes, yes yes, helping development",
          "<b>Topic 39</b><br>Words: course, yes, yes yes, course numbered",
          "<b>Topic 39</b><br>Words: yes, yes yes, course, defined work"
         ],
         "marker": {
          "color": "#D55E00"
         },
         "mode": "lines",
         "name": "39_yes_yes yes_course_certainly",
         "x": [
          "1799-10-19T22:50:52.800000",
          "1815-05-22T01:50:46.153845",
          "1830-10-09T03:41:32.307692",
          "1846-02-26T05:32:18.461538",
          "1861-07-16T07:23:04.615384",
          "1876-12-03T09:13:50.769230",
          "1892-04-22T11:04:36.923076",
          "1907-09-11T12:55:23.076922",
          "1923-01-29T14:46:09.230769",
          "1938-06-18T16:36:55.384615",
          "1953-11-05T18:27:41.538461",
          "1969-03-25T20:18:27.692307",
          "1984-08-12T22:09:13.846153"
         ],
         "y": [
          9,
          40,
          9,
          8,
          2,
          8,
          3,
          8,
          2,
          6,
          8,
          6,
          8
         ],
         "type": "scatter"
        },
        {
         "hoverinfo": "text",
         "hovertext": [
          "<b>Topic 40</b><br>Words: dine russia, declared majesty, engagement sort, russia company",
          "<b>Topic 40</b><br>Words: longer perhaps, gladstone wished, time longer, wished time",
          "<b>Topic 40</b><br>Words: gladstone, along baring, gladstonerepeated intention, notwithstanding confidence",
          "<b>Topic 40</b><br>Words: gladstone, gentleman gladstone, gladstone said, hon gladstone",
          "<b>Topic 40</b><br>Words: gladstone, gladstone said, hon gladstone, gladstone gladstone",
          "<b>Topic 40</b><br>Words: gladstone, lothian gladstone, hon gladstone, mid lothian",
          "<b>Topic 40</b><br>Words: gladstone, hon gladstone, secretary gladstone, courtenay warner",
          "<b>Topic 40</b><br>Words: gladstone, gladstone action, condemnation lord, lord gladstone",
          "<b>Topic 40</b><br>Words: gladstone, late gladstone, mind world, opposite chairman",
          "<b>Topic 40</b><br>Words: agree beaumont, beaumont, agree, gladstone",
          "<b>Topic 40</b><br>Words: gladstone, others applied, portrait gladstone, noticeable first",
          "<b>Topic 40</b><br>Words: gladstone, alderman bert, figure former, ever happen",
          "<b>Topic 40</b><br>Words: back gladstone, north referred, brent north, member brent"
         ],
         "marker": {
          "color": "#0072B2"
         },
         "mode": "lines",
         "name": "40_gladstone_hon gladstone_gladstone sai...",
         "x": [
          "1799-10-19T22:50:52.800000",
          "1815-05-22T01:50:46.153845",
          "1830-10-09T03:41:32.307692",
          "1846-02-26T05:32:18.461538",
          "1861-07-16T07:23:04.615384",
          "1876-12-03T09:13:50.769230",
          "1892-04-22T11:04:36.923076",
          "1907-09-11T12:55:23.076922",
          "1923-01-29T14:46:09.230769",
          "1938-06-18T16:36:55.384615",
          "1953-11-05T18:27:41.538461",
          "1969-03-25T20:18:27.692307",
          "1984-08-12T22:09:13.846153"
         ],
         "y": [
          1,
          1,
          4,
          22,
          16,
          39,
          12,
          3,
          4,
          1,
          2,
          3,
          1
         ],
         "type": "scatter"
        },
        {
         "hoverinfo": "text",
         "hovertext": [
          "<b>Topic 41</b><br>Words: adjournment, adjourned, adjourn, house adjourn",
          "<b>Topic 41</b><br>Words: adjournment, adjourn, adjournment debate, adjourned",
          "<b>Topic 41</b><br>Words: adjournment, adjournment debate, interrupt business, preventing adjournment",
          "<b>Topic 41</b><br>Words: adjournment, adjournment debate, debate, move adjournment",
          "<b>Topic 41</b><br>Words: adjournment, adjournment debate, adjourned, debate",
          "<b>Topic 41</b><br>Words: adjournment, adjournment debate, debate, motion adjournment",
          "<b>Topic 41</b><br>Words: said inclined, inclined support, adjournment, adjournment debate",
          "<b>Topic 41</b><br>Words: adjournment, adjournment debate, adjournment think, monday july",
          "<b>Topic 41</b><br>Words: adjournment, adjournment debate, adjourn, debate",
          "<b>Topic 41</b><br>Words: adjourn, adjournment, adjournment debate, alternative probably",
          "<b>Topic 41</b><br>Words: adjournment, adjournment debate, satisfy pigheaded, debating adjournment",
          "<b>Topic 41</b><br>Words: adjournment, adjournment debate, debate, motion adjournment"
         ],
         "marker": {
          "color": "#CC79A7"
         },
         "mode": "lines",
         "name": "41_adjournment_adjournment debate_debate...",
         "x": [
          "1799-10-19T22:50:52.800000",
          "1815-05-22T01:50:46.153845",
          "1830-10-09T03:41:32.307692",
          "1846-02-26T05:32:18.461538",
          "1861-07-16T07:23:04.615384",
          "1876-12-03T09:13:50.769230",
          "1892-04-22T11:04:36.923076",
          "1907-09-11T12:55:23.076922",
          "1938-06-18T16:36:55.384615",
          "1953-11-05T18:27:41.538461",
          "1969-03-25T20:18:27.692307",
          "1984-08-12T22:09:13.846153"
         ],
         "y": [
          11,
          12,
          2,
          12,
          8,
          16,
          2,
          3,
          19,
          4,
          2,
          12
         ],
         "type": "scatter"
        },
        {
         "hoverinfo": "text",
         "hovertext": [
          "<b>Topic 42</b><br>Words: view, object, object view, view view",
          "<b>Topic 42</b><br>Words: view, devised framed, view devised, framed present",
          "<b>Topic 42</b><br>Words: meaning affixed, view, adopt view, hon meaning",
          "<b>Topic 42</b><br>Words: view, object view, view take, object",
          "<b>Topic 42</b><br>Words: view, assuredly prove, prove failure, doubt entirely",
          "<b>Topic 42</b><br>Words: view, view view, show backbone, understood making",
          "<b>Topic 42</b><br>Words: quite accept, accept view, know quite, view",
          "<b>Topic 42</b><br>Words: view, view view, take, molteno view",
          "<b>Topic 42</b><br>Words: view, take view, concerning motion, eye blame",
          "<b>Topic 42</b><br>Words: view, element, show narrow, failed view",
          "<b>Topic 42</b><br>Words: view, disentitle way, view ventilated, ventilated issue",
          "<b>Topic 42</b><br>Words: view, view view, expressed still, outside able",
          "<b>Topic 42</b><br>Words: view, view view, dogmatic view, view closure"
         ],
         "marker": {
          "color": "#E69F00"
         },
         "mode": "lines",
         "name": "42_view_view view_object view_object",
         "x": [
          "1799-10-19T22:50:52.800000",
          "1815-05-22T01:50:46.153845",
          "1830-10-09T03:41:32.307692",
          "1846-02-26T05:32:18.461538",
          "1861-07-16T07:23:04.615384",
          "1876-12-03T09:13:50.769230",
          "1892-04-22T11:04:36.923076",
          "1907-09-11T12:55:23.076922",
          "1923-01-29T14:46:09.230769",
          "1938-06-18T16:36:55.384615",
          "1953-11-05T18:27:41.538461",
          "1969-03-25T20:18:27.692307",
          "1984-08-12T22:09:13.846153"
         ],
         "y": [
          10,
          3,
          3,
          11,
          3,
          7,
          1,
          12,
          4,
          9,
          7,
          10,
          11
         ],
         "type": "scatter"
        },
        {
         "hoverinfo": "text",
         "hovertext": [
          "<b>Topic 43</b><br>Words: interruption, interruption interruption, interrupting whisper, disdain thing",
          "<b>Topic 43</b><br>Words: idleness, interruption, interruption interruption, many interruption",
          "<b>Topic 43</b><br>Words: interruption, interruption interruption, sorry interruption, interruption human",
          "<b>Topic 43</b><br>Words: interruption, interruption interruption, interruption viscount, interruption going",
          "<b>Topic 43</b><br>Words: interruption, interruption interruption, house interruptian, interruption carry",
          "<b>Topic 43</b><br>Words: interruption, interruption interruption, many interruption, interruption shall",
          "<b>Topic 43</b><br>Words: interruption, interruption interruption, interruption never, therefore interruption",
          "<b>Topic 43</b><br>Words: interruption, interruption interruption, position interruption, matter interruption",
          "<b>Topic 43</b><br>Words: interruption, interruption interruption, position interruption, round afterwards"
         ],
         "marker": {
          "color": "#56B4E9"
         },
         "mode": "lines",
         "name": "43_interruption_interruption interruptio...",
         "x": [
          "1799-10-19T22:50:52.800000",
          "1846-02-26T05:32:18.461538",
          "1876-12-03T09:13:50.769230",
          "1907-09-11T12:55:23.076922",
          "1923-01-29T14:46:09.230769",
          "1938-06-18T16:36:55.384615",
          "1953-11-05T18:27:41.538461",
          "1969-03-25T20:18:27.692307",
          "1984-08-12T22:09:13.846153"
         ],
         "y": [
          1,
          1,
          3,
          5,
          14,
          13,
          7,
          18,
          24
         ],
         "type": "scatter"
        },
        {
         "hoverinfo": "text",
         "hovertext": [
          "<b>Topic 44</b><br>Words: resolution, resolution right, first following, resolution agreed",
          "<b>Topic 44</b><br>Words: resolution, resolution hon, original resolution, hon resolution",
          "<b>Topic 44</b><br>Words: resolution, resolution apprehended, resolution addition, however contained",
          "<b>Topic 44</b><br>Words: resolution, resolution right, wide narrow, maintained resolution",
          "<b>Topic 44</b><br>Words: resolution, included resolution, opinion relates, connected purpose",
          "<b>Topic 44</b><br>Words: resolution, resolution resolution, hon resolution, resolution right",
          "<b>Topic 44</b><br>Words: resolution, go mover, said antagonism, antagonism resolution",
          "<b>Topic 44</b><br>Words: resolution, resolution would, hon resolution, rather stressing",
          "<b>Topic 44</b><br>Words: resolution, divide resolution, considered resolution, stanley considered",
          "<b>Topic 44</b><br>Words: resolution, mosley hon, refers addition, addition improvement",
          "<b>Topic 44</b><br>Words: resolution, tuning part, proceeding remedy, resolution tabled",
          "<b>Topic 44</b><br>Words: resolution, week resolution, resolution ought, resolution resolution"
         ],
         "marker": {
          "color": "#009E73"
         },
         "mode": "lines",
         "name": "44_resolution_resolution resolution_hon ...",
         "x": [
          "1799-10-19T22:50:52.800000",
          "1815-05-22T01:50:46.153845",
          "1830-10-09T03:41:32.307692",
          "1846-02-26T05:32:18.461538",
          "1861-07-16T07:23:04.615384",
          "1876-12-03T09:13:50.769230",
          "1892-04-22T11:04:36.923076",
          "1907-09-11T12:55:23.076922",
          "1923-01-29T14:46:09.230769",
          "1938-06-18T16:36:55.384615",
          "1969-03-25T20:18:27.692307",
          "1984-08-12T22:09:13.846153"
         ],
         "y": [
          20,
          8,
          4,
          7,
          4,
          11,
          2,
          8,
          2,
          3,
          2,
          2
         ],
         "type": "scatter"
        },
        {
         "hoverinfo": "text",
         "hovertext": [
          "<b>Topic 45</b><br>Words: grievance, redress, stating grievance, complaint",
          "<b>Topic 45</b><br>Words: grievance, redress, redress grievance, redress house",
          "<b>Topic 45</b><br>Words: grievance, view redressed, redressed grievance, exist attempt",
          "<b>Topic 45</b><br>Words: grievance, real grievance, grievance real, redress",
          "<b>Topic 45</b><br>Words: grievance, stroud grievance, grievance stroud, grievance except",
          "<b>Topic 45</b><br>Words: grievance, little grievance, real grievance, real",
          "<b>Topic 45</b><br>Words: grievance, great grievance, real grievance, traffic grievance",
          "<b>Topic 45</b><br>Words: grievance, real grievance, grievance real, real",
          "<b>Topic 45</b><br>Words: grievance, inside special, grievance power, time belittle",
          "<b>Topic 45</b><br>Words: grievance, grievance think, ventilated view, motto placed",
          "<b>Topic 45</b><br>Words: vane naturally, arises hon, naturally one, grievance persist",
          "<b>Topic 45</b><br>Words: grievance, employee, relates individual, hieroglyphic",
          "<b>Topic 45</b><br>Words: grievance, desperation telephone, widow affected, men desperation"
         ],
         "marker": {
          "color": "#F0E442"
         },
         "mode": "lines",
         "name": "45_grievance_real grievance_redress_real",
         "x": [
          "1799-10-19T22:50:52.800000",
          "1815-05-22T01:50:46.153845",
          "1830-10-09T03:41:32.307692",
          "1846-02-26T05:32:18.461538",
          "1861-07-16T07:23:04.615384",
          "1876-12-03T09:13:50.769230",
          "1892-04-22T11:04:36.923076",
          "1907-09-11T12:55:23.076922",
          "1923-01-29T14:46:09.230769",
          "1938-06-18T16:36:55.384615",
          "1953-11-05T18:27:41.538461",
          "1969-03-25T20:18:27.692307",
          "1984-08-12T22:09:13.846153"
         ],
         "y": [
          10,
          10,
          3,
          9,
          3,
          10,
          8,
          7,
          1,
          3,
          1,
          2,
          2
         ],
         "type": "scatter"
        },
        {
         "hoverinfo": "text",
         "hovertext": [
          "<b>Topic 46</b><br>Words: reverting ancient, merely reverting, nothing merely, ancient system",
          "<b>Topic 46</b><br>Words: system, system system, interrupted harmony, centrifugal force",
          "<b>Topic 46</b><br>Words: portion many, obtained limited, many system, system obtained",
          "<b>Topic 46</b><br>Words: system, treacherous however, tolerable would, delusive treacherous",
          "<b>Topic 46</b><br>Words: system, however reconcile, without thesafeguard, thesafeguard proposed",
          "<b>Topic 46</b><br>Words: system, attempt already, made approximate, approximate system",
          "<b>Topic 46</b><br>Words: system, perfect, system system, heaven falling",
          "<b>Topic 46</b><br>Words: system, new system, undesirable everybody, gap system",
          "<b>Topic 46</b><br>Words: system, system work, whole system, present system",
          "<b>Topic 46</b><br>Words: system, gauleiter, big upheaval, two parallel",
          "<b>Topic 46</b><br>Words: system, fault industry, shown fault, reference system",
          "<b>Topic 46</b><br>Words: system, difficult alter, question comparability, unwise change",
          "<b>Topic 46</b><br>Words: system, totally bad, bad system, computer"
         ],
         "marker": {
          "color": "#D55E00"
         },
         "mode": "lines",
         "name": "46_system_present system_system system_s...",
         "x": [
          "1799-10-19T22:50:52.800000",
          "1815-05-22T01:50:46.153845",
          "1830-10-09T03:41:32.307692",
          "1846-02-26T05:32:18.461538",
          "1861-07-16T07:23:04.615384",
          "1876-12-03T09:13:50.769230",
          "1892-04-22T11:04:36.923076",
          "1907-09-11T12:55:23.076922",
          "1923-01-29T14:46:09.230769",
          "1938-06-18T16:36:55.384615",
          "1953-11-05T18:27:41.538461",
          "1969-03-25T20:18:27.692307",
          "1984-08-12T22:09:13.846153"
         ],
         "y": [
          1,
          4,
          1,
          9,
          2,
          3,
          5,
          7,
          6,
          6,
          3,
          8,
          13
         ],
         "type": "scatter"
        },
        {
         "hoverinfo": "text",
         "hovertext": [
          "<b>Topic 47</b><br>Words: notice, motion, paper, motion production",
          "<b>Topic 47</b><br>Words: notice, flagrant attract, prevented exercising, right term",
          "<b>Topic 47</b><br>Words: notice, indulgent treatment, two saturday, auckland month",
          "<b>Topic 47</b><br>Words: notice, notice question, evening information, osborne already",
          "<b>Topic 47</b><br>Words: notice, notice taken, gave notice, notice question",
          "<b>Topic 47</b><br>Words: notice, notice question, give notice, must give",
          "<b>Topic 47</b><br>Words: notice, placarded throughout, published local, early indefinite",
          "<b>Topic 47</b><br>Words: notice, give notice, notice question, brought notice",
          "<b>Topic 47</b><br>Words: notice, notice several, shaw like, get notice",
          "<b>Topic 47</b><br>Words: notice, notice given, notice question, given",
          "<b>Topic 47</b><br>Words: notice, notice short, cancelled hour, sorry notice",
          "<b>Topic 47</b><br>Words: notice, done notice, obligatory declare, prior want",
          "<b>Topic 47</b><br>Words: notice, take part, notice given, rule need"
         ],
         "marker": {
          "color": "#0072B2"
         },
         "mode": "lines",
         "name": "47_notice_notice question_notice given_g...",
         "x": [
          "1799-10-19T22:50:52.800000",
          "1815-05-22T01:50:46.153845",
          "1830-10-09T03:41:32.307692",
          "1846-02-26T05:32:18.461538",
          "1861-07-16T07:23:04.615384",
          "1876-12-03T09:13:50.769230",
          "1892-04-22T11:04:36.923076",
          "1907-09-11T12:55:23.076922",
          "1923-01-29T14:46:09.230769",
          "1938-06-18T16:36:55.384615",
          "1953-11-05T18:27:41.538461",
          "1969-03-25T20:18:27.692307",
          "1984-08-12T22:09:13.846153"
         ],
         "y": [
          10,
          3,
          2,
          3,
          5,
          8,
          4,
          10,
          2,
          7,
          2,
          5,
          5
         ],
         "type": "scatter"
        },
        {
         "hoverinfo": "text",
         "hovertext": [
          "<b>Topic 48</b><br>Words: division, division took, took place, notice various",
          "<b>Topic 48</b><br>Words: division, even venerated, controvert first, compare subsequent",
          "<b>Topic 48</b><br>Words: matter went, division certainly, went division, certainly support",
          "<b>Topic 48</b><br>Words: division, divide, divide divide, exciting",
          "<b>Topic 48</b><br>Words: division, member division, go division, division took",
          "<b>Topic 48</b><br>Words: division, division list, go division, east mayo",
          "<b>Topic 48</b><br>Words: division, division seading, motion send, grand select",
          "<b>Topic 48</b><br>Words: division, go division, divide, division lobby",
          "<b>Topic 48</b><br>Words: division, division example, division hon, five team",
          "<b>Topic 48</b><br>Words: division, lobby, divide, divide must",
          "<b>Topic 48</b><br>Words: division lobby, division, lobby, coax division",
          "<b>Topic 48</b><br>Words: division, far assurance, pursued division, tonight far",
          "<b>Topic 48</b><br>Words: coalition, tripartite sampling, part immediately, form coalition"
         ],
         "marker": {
          "color": "#CC79A7"
         },
         "mode": "lines",
         "name": "48_division_divide_go division_lobby",
         "x": [
          "1799-10-19T22:50:52.800000",
          "1815-05-22T01:50:46.153845",
          "1830-10-09T03:41:32.307692",
          "1846-02-26T05:32:18.461538",
          "1861-07-16T07:23:04.615384",
          "1876-12-03T09:13:50.769230",
          "1892-04-22T11:04:36.923076",
          "1907-09-11T12:55:23.076922",
          "1923-01-29T14:46:09.230769",
          "1938-06-18T16:36:55.384615",
          "1953-11-05T18:27:41.538461",
          "1969-03-25T20:18:27.692307",
          "1984-08-12T22:09:13.846153"
         ],
         "y": [
          8,
          3,
          1,
          9,
          6,
          7,
          4,
          6,
          4,
          7,
          2,
          3,
          2
         ],
         "type": "scatter"
        }
       ],
       "layout": {
        "template": {
         "data": {
          "barpolar": [
           {
            "marker": {
             "line": {
              "color": "white",
              "width": 0.5
             },
             "pattern": {
              "fillmode": "overlay",
              "size": 10,
              "solidity": 0.2
             }
            },
            "type": "barpolar"
           }
          ],
          "bar": [
           {
            "error_x": {
             "color": "rgb(36,36,36)"
            },
            "error_y": {
             "color": "rgb(36,36,36)"
            },
            "marker": {
             "line": {
              "color": "white",
              "width": 0.5
             },
             "pattern": {
              "fillmode": "overlay",
              "size": 10,
              "solidity": 0.2
             }
            },
            "type": "bar"
           }
          ],
          "carpet": [
           {
            "aaxis": {
             "endlinecolor": "rgb(36,36,36)",
             "gridcolor": "white",
             "linecolor": "white",
             "minorgridcolor": "white",
             "startlinecolor": "rgb(36,36,36)"
            },
            "baxis": {
             "endlinecolor": "rgb(36,36,36)",
             "gridcolor": "white",
             "linecolor": "white",
             "minorgridcolor": "white",
             "startlinecolor": "rgb(36,36,36)"
            },
            "type": "carpet"
           }
          ],
          "choropleth": [
           {
            "colorbar": {
             "outlinewidth": 1,
             "tickcolor": "rgb(36,36,36)",
             "ticks": "outside"
            },
            "type": "choropleth"
           }
          ],
          "contourcarpet": [
           {
            "colorbar": {
             "outlinewidth": 1,
             "tickcolor": "rgb(36,36,36)",
             "ticks": "outside"
            },
            "type": "contourcarpet"
           }
          ],
          "contour": [
           {
            "colorbar": {
             "outlinewidth": 1,
             "tickcolor": "rgb(36,36,36)",
             "ticks": "outside"
            },
            "colorscale": [
             [
              0.0,
              "#440154"
             ],
             [
              0.1111111111111111,
              "#482878"
             ],
             [
              0.2222222222222222,
              "#3e4989"
             ],
             [
              0.3333333333333333,
              "#31688e"
             ],
             [
              0.4444444444444444,
              "#26828e"
             ],
             [
              0.5555555555555556,
              "#1f9e89"
             ],
             [
              0.6666666666666666,
              "#35b779"
             ],
             [
              0.7777777777777778,
              "#6ece58"
             ],
             [
              0.8888888888888888,
              "#b5de2b"
             ],
             [
              1.0,
              "#fde725"
             ]
            ],
            "type": "contour"
           }
          ],
          "heatmapgl": [
           {
            "colorbar": {
             "outlinewidth": 1,
             "tickcolor": "rgb(36,36,36)",
             "ticks": "outside"
            },
            "colorscale": [
             [
              0.0,
              "#440154"
             ],
             [
              0.1111111111111111,
              "#482878"
             ],
             [
              0.2222222222222222,
              "#3e4989"
             ],
             [
              0.3333333333333333,
              "#31688e"
             ],
             [
              0.4444444444444444,
              "#26828e"
             ],
             [
              0.5555555555555556,
              "#1f9e89"
             ],
             [
              0.6666666666666666,
              "#35b779"
             ],
             [
              0.7777777777777778,
              "#6ece58"
             ],
             [
              0.8888888888888888,
              "#b5de2b"
             ],
             [
              1.0,
              "#fde725"
             ]
            ],
            "type": "heatmapgl"
           }
          ],
          "heatmap": [
           {
            "colorbar": {
             "outlinewidth": 1,
             "tickcolor": "rgb(36,36,36)",
             "ticks": "outside"
            },
            "colorscale": [
             [
              0.0,
              "#440154"
             ],
             [
              0.1111111111111111,
              "#482878"
             ],
             [
              0.2222222222222222,
              "#3e4989"
             ],
             [
              0.3333333333333333,
              "#31688e"
             ],
             [
              0.4444444444444444,
              "#26828e"
             ],
             [
              0.5555555555555556,
              "#1f9e89"
             ],
             [
              0.6666666666666666,
              "#35b779"
             ],
             [
              0.7777777777777778,
              "#6ece58"
             ],
             [
              0.8888888888888888,
              "#b5de2b"
             ],
             [
              1.0,
              "#fde725"
             ]
            ],
            "type": "heatmap"
           }
          ],
          "histogram2dcontour": [
           {
            "colorbar": {
             "outlinewidth": 1,
             "tickcolor": "rgb(36,36,36)",
             "ticks": "outside"
            },
            "colorscale": [
             [
              0.0,
              "#440154"
             ],
             [
              0.1111111111111111,
              "#482878"
             ],
             [
              0.2222222222222222,
              "#3e4989"
             ],
             [
              0.3333333333333333,
              "#31688e"
             ],
             [
              0.4444444444444444,
              "#26828e"
             ],
             [
              0.5555555555555556,
              "#1f9e89"
             ],
             [
              0.6666666666666666,
              "#35b779"
             ],
             [
              0.7777777777777778,
              "#6ece58"
             ],
             [
              0.8888888888888888,
              "#b5de2b"
             ],
             [
              1.0,
              "#fde725"
             ]
            ],
            "type": "histogram2dcontour"
           }
          ],
          "histogram2d": [
           {
            "colorbar": {
             "outlinewidth": 1,
             "tickcolor": "rgb(36,36,36)",
             "ticks": "outside"
            },
            "colorscale": [
             [
              0.0,
              "#440154"
             ],
             [
              0.1111111111111111,
              "#482878"
             ],
             [
              0.2222222222222222,
              "#3e4989"
             ],
             [
              0.3333333333333333,
              "#31688e"
             ],
             [
              0.4444444444444444,
              "#26828e"
             ],
             [
              0.5555555555555556,
              "#1f9e89"
             ],
             [
              0.6666666666666666,
              "#35b779"
             ],
             [
              0.7777777777777778,
              "#6ece58"
             ],
             [
              0.8888888888888888,
              "#b5de2b"
             ],
             [
              1.0,
              "#fde725"
             ]
            ],
            "type": "histogram2d"
           }
          ],
          "histogram": [
           {
            "marker": {
             "line": {
              "color": "white",
              "width": 0.6
             }
            },
            "type": "histogram"
           }
          ],
          "mesh3d": [
           {
            "colorbar": {
             "outlinewidth": 1,
             "tickcolor": "rgb(36,36,36)",
             "ticks": "outside"
            },
            "type": "mesh3d"
           }
          ],
          "parcoords": [
           {
            "line": {
             "colorbar": {
              "outlinewidth": 1,
              "tickcolor": "rgb(36,36,36)",
              "ticks": "outside"
             }
            },
            "type": "parcoords"
           }
          ],
          "pie": [
           {
            "automargin": true,
            "type": "pie"
           }
          ],
          "scatter3d": [
           {
            "line": {
             "colorbar": {
              "outlinewidth": 1,
              "tickcolor": "rgb(36,36,36)",
              "ticks": "outside"
             }
            },
            "marker": {
             "colorbar": {
              "outlinewidth": 1,
              "tickcolor": "rgb(36,36,36)",
              "ticks": "outside"
             }
            },
            "type": "scatter3d"
           }
          ],
          "scattercarpet": [
           {
            "marker": {
             "colorbar": {
              "outlinewidth": 1,
              "tickcolor": "rgb(36,36,36)",
              "ticks": "outside"
             }
            },
            "type": "scattercarpet"
           }
          ],
          "scattergeo": [
           {
            "marker": {
             "colorbar": {
              "outlinewidth": 1,
              "tickcolor": "rgb(36,36,36)",
              "ticks": "outside"
             }
            },
            "type": "scattergeo"
           }
          ],
          "scattergl": [
           {
            "marker": {
             "colorbar": {
              "outlinewidth": 1,
              "tickcolor": "rgb(36,36,36)",
              "ticks": "outside"
             }
            },
            "type": "scattergl"
           }
          ],
          "scattermapbox": [
           {
            "marker": {
             "colorbar": {
              "outlinewidth": 1,
              "tickcolor": "rgb(36,36,36)",
              "ticks": "outside"
             }
            },
            "type": "scattermapbox"
           }
          ],
          "scatterpolargl": [
           {
            "marker": {
             "colorbar": {
              "outlinewidth": 1,
              "tickcolor": "rgb(36,36,36)",
              "ticks": "outside"
             }
            },
            "type": "scatterpolargl"
           }
          ],
          "scatterpolar": [
           {
            "marker": {
             "colorbar": {
              "outlinewidth": 1,
              "tickcolor": "rgb(36,36,36)",
              "ticks": "outside"
             }
            },
            "type": "scatterpolar"
           }
          ],
          "scatter": [
           {
            "fillpattern": {
             "fillmode": "overlay",
             "size": 10,
             "solidity": 0.2
            },
            "type": "scatter"
           }
          ],
          "scatterternary": [
           {
            "marker": {
             "colorbar": {
              "outlinewidth": 1,
              "tickcolor": "rgb(36,36,36)",
              "ticks": "outside"
             }
            },
            "type": "scatterternary"
           }
          ],
          "surface": [
           {
            "colorbar": {
             "outlinewidth": 1,
             "tickcolor": "rgb(36,36,36)",
             "ticks": "outside"
            },
            "colorscale": [
             [
              0.0,
              "#440154"
             ],
             [
              0.1111111111111111,
              "#482878"
             ],
             [
              0.2222222222222222,
              "#3e4989"
             ],
             [
              0.3333333333333333,
              "#31688e"
             ],
             [
              0.4444444444444444,
              "#26828e"
             ],
             [
              0.5555555555555556,
              "#1f9e89"
             ],
             [
              0.6666666666666666,
              "#35b779"
             ],
             [
              0.7777777777777778,
              "#6ece58"
             ],
             [
              0.8888888888888888,
              "#b5de2b"
             ],
             [
              1.0,
              "#fde725"
             ]
            ],
            "type": "surface"
           }
          ],
          "table": [
           {
            "cells": {
             "fill": {
              "color": "rgb(237,237,237)"
             },
             "line": {
              "color": "white"
             }
            },
            "header": {
             "fill": {
              "color": "rgb(217,217,217)"
             },
             "line": {
              "color": "white"
             }
            },
            "type": "table"
           }
          ]
         },
         "layout": {
          "annotationdefaults": {
           "arrowhead": 0,
           "arrowwidth": 1
          },
          "autotypenumbers": "strict",
          "coloraxis": {
           "colorbar": {
            "outlinewidth": 1,
            "tickcolor": "rgb(36,36,36)",
            "ticks": "outside"
           }
          },
          "colorscale": {
           "diverging": [
            [
             0.0,
             "rgb(103,0,31)"
            ],
            [
             0.1,
             "rgb(178,24,43)"
            ],
            [
             0.2,
             "rgb(214,96,77)"
            ],
            [
             0.3,
             "rgb(244,165,130)"
            ],
            [
             0.4,
             "rgb(253,219,199)"
            ],
            [
             0.5,
             "rgb(247,247,247)"
            ],
            [
             0.6,
             "rgb(209,229,240)"
            ],
            [
             0.7,
             "rgb(146,197,222)"
            ],
            [
             0.8,
             "rgb(67,147,195)"
            ],
            [
             0.9,
             "rgb(33,102,172)"
            ],
            [
             1.0,
             "rgb(5,48,97)"
            ]
           ],
           "sequential": [
            [
             0.0,
             "#440154"
            ],
            [
             0.1111111111111111,
             "#482878"
            ],
            [
             0.2222222222222222,
             "#3e4989"
            ],
            [
             0.3333333333333333,
             "#31688e"
            ],
            [
             0.4444444444444444,
             "#26828e"
            ],
            [
             0.5555555555555556,
             "#1f9e89"
            ],
            [
             0.6666666666666666,
             "#35b779"
            ],
            [
             0.7777777777777778,
             "#6ece58"
            ],
            [
             0.8888888888888888,
             "#b5de2b"
            ],
            [
             1.0,
             "#fde725"
            ]
           ],
           "sequentialminus": [
            [
             0.0,
             "#440154"
            ],
            [
             0.1111111111111111,
             "#482878"
            ],
            [
             0.2222222222222222,
             "#3e4989"
            ],
            [
             0.3333333333333333,
             "#31688e"
            ],
            [
             0.4444444444444444,
             "#26828e"
            ],
            [
             0.5555555555555556,
             "#1f9e89"
            ],
            [
             0.6666666666666666,
             "#35b779"
            ],
            [
             0.7777777777777778,
             "#6ece58"
            ],
            [
             0.8888888888888888,
             "#b5de2b"
            ],
            [
             1.0,
             "#fde725"
            ]
           ]
          },
          "colorway": [
           "#1F77B4",
           "#FF7F0E",
           "#2CA02C",
           "#D62728",
           "#9467BD",
           "#8C564B",
           "#E377C2",
           "#7F7F7F",
           "#BCBD22",
           "#17BECF"
          ],
          "font": {
           "color": "rgb(36,36,36)"
          },
          "geo": {
           "bgcolor": "white",
           "lakecolor": "white",
           "landcolor": "white",
           "showlakes": true,
           "showland": true,
           "subunitcolor": "white"
          },
          "hoverlabel": {
           "align": "left"
          },
          "hovermode": "closest",
          "mapbox": {
           "style": "light"
          },
          "paper_bgcolor": "white",
          "plot_bgcolor": "white",
          "polar": {
           "angularaxis": {
            "gridcolor": "rgb(232,232,232)",
            "linecolor": "rgb(36,36,36)",
            "showgrid": false,
            "showline": true,
            "ticks": "outside"
           },
           "bgcolor": "white",
           "radialaxis": {
            "gridcolor": "rgb(232,232,232)",
            "linecolor": "rgb(36,36,36)",
            "showgrid": false,
            "showline": true,
            "ticks": "outside"
           }
          },
          "scene": {
           "xaxis": {
            "backgroundcolor": "white",
            "gridcolor": "rgb(232,232,232)",
            "gridwidth": 2,
            "linecolor": "rgb(36,36,36)",
            "showbackground": true,
            "showgrid": false,
            "showline": true,
            "ticks": "outside",
            "zeroline": false,
            "zerolinecolor": "rgb(36,36,36)"
           },
           "yaxis": {
            "backgroundcolor": "white",
            "gridcolor": "rgb(232,232,232)",
            "gridwidth": 2,
            "linecolor": "rgb(36,36,36)",
            "showbackground": true,
            "showgrid": false,
            "showline": true,
            "ticks": "outside",
            "zeroline": false,
            "zerolinecolor": "rgb(36,36,36)"
           },
           "zaxis": {
            "backgroundcolor": "white",
            "gridcolor": "rgb(232,232,232)",
            "gridwidth": 2,
            "linecolor": "rgb(36,36,36)",
            "showbackground": true,
            "showgrid": false,
            "showline": true,
            "ticks": "outside",
            "zeroline": false,
            "zerolinecolor": "rgb(36,36,36)"
           }
          },
          "shapedefaults": {
           "fillcolor": "black",
           "line": {
            "width": 0
           },
           "opacity": 0.3
          },
          "ternary": {
           "aaxis": {
            "gridcolor": "rgb(232,232,232)",
            "linecolor": "rgb(36,36,36)",
            "showgrid": false,
            "showline": true,
            "ticks": "outside"
           },
           "baxis": {
            "gridcolor": "rgb(232,232,232)",
            "linecolor": "rgb(36,36,36)",
            "showgrid": false,
            "showline": true,
            "ticks": "outside"
           },
           "bgcolor": "white",
           "caxis": {
            "gridcolor": "rgb(232,232,232)",
            "linecolor": "rgb(36,36,36)",
            "showgrid": false,
            "showline": true,
            "ticks": "outside"
           }
          },
          "title": {
           "x": 0.05
          },
          "xaxis": {
           "automargin": true,
           "gridcolor": "rgb(232,232,232)",
           "linecolor": "rgb(36,36,36)",
           "showgrid": false,
           "showline": true,
           "ticks": "outside",
           "title": {
            "standoff": 15
           },
           "zeroline": false,
           "zerolinecolor": "rgb(36,36,36)"
          },
          "yaxis": {
           "automargin": true,
           "gridcolor": "rgb(232,232,232)",
           "linecolor": "rgb(36,36,36)",
           "showgrid": false,
           "showline": true,
           "ticks": "outside",
           "title": {
            "standoff": 15
           },
           "zeroline": false,
           "zerolinecolor": "rgb(36,36,36)"
          }
         }
        },
        "xaxis": {
         "showgrid": true
        },
        "yaxis": {
         "showgrid": true,
         "title": {
          "text": "Frequency"
         }
        },
        "title": {
         "font": {
          "size": 22,
          "color": "Black"
         },
         "text": "<b>Topics over Time</b>",
         "y": 0.95,
         "x": 0.4,
         "xanchor": "center",
         "yanchor": "top"
        },
        "hoverlabel": {
         "font": {
          "size": 16,
          "family": "Rockwell"
         },
         "bgcolor": "white"
        },
        "width": 1250,
        "height": 450,
        "legend": {
         "title": {
          "text": "<b>Global Topic Representation"
         }
        }
       },
       "config": {
        "plotlyServerURL": "https://plot.ly"
       }
      },
      "text/html": "<div>                            <div id=\"a2659186-c73d-4c90-ae6a-41158dfa3cd9\" class=\"plotly-graph-div\" style=\"height:450px; width:1250px;\"></div>            <script type=\"text/javascript\">                require([\"plotly\"], function(Plotly) {                    window.PLOTLYENV=window.PLOTLYENV || {};                                    if (document.getElementById(\"a2659186-c73d-4c90-ae6a-41158dfa3cd9\")) {                    Plotly.newPlot(                        \"a2659186-c73d-4c90-ae6a-41158dfa3cd9\",                        [{\"hoverinfo\":\"text\",\"hovertext\":[\"<b>Topic 0</b><br>Words: gentleman, chancellor, chancellor exchequer, exchequer\",\"<b>Topic 0</b><br>Words: gentleman, mr, noble, baronet\",\"<b>Topic 0</b><br>Words: gentleman, mr, baronet, noble\",\"<b>Topic 0</b><br>Words: mr, gentleman, mr mr, noble\",\"<b>Topic 0</b><br>Words: mr, mr mr, gentleman, mr gentleman\",\"<b>Topic 0</b><br>Words: mr, mr mr, gentleman, mr gentleman\",\"<b>Topic 0</b><br>Words: mr, mr mr, gentleman, mr gentleman\",\"<b>Topic 0</b><br>Words: gentleman, noble, chancellor, mr\",\"<b>Topic 0</b><br>Words: gentleman, chancellor, chancellor exchequer, minister\",\"<b>Topic 0</b><br>Words: gentleman, minister, secretary, mr\",\"<b>Topic 0</b><br>Words: gentleman, minister, lord, noble\",\"<b>Topic 0</b><br>Words: gentleman, minister, lord, noble\",\"<b>Topic 0</b><br>Words: minister, noble, baroness, lord\"],\"marker\":{\"color\":\"#E69F00\"},\"mode\":\"lines\",\"name\":\"0_mr_gentleman_mr mr_noble\",\"x\":[\"1799-10-19T22:50:52.800000\",\"1815-05-22T01:50:46.153845\",\"1830-10-09T03:41:32.307692\",\"1846-02-26T05:32:18.461538\",\"1861-07-16T07:23:04.615384\",\"1876-12-03T09:13:50.769230\",\"1892-04-22T11:04:36.923076\",\"1907-09-11T12:55:23.076922\",\"1923-01-29T14:46:09.230769\",\"1938-06-18T16:36:55.384615\",\"1953-11-05T18:27:41.538461\",\"1969-03-25T20:18:27.692307\",\"1984-08-12T22:09:13.846153\"],\"y\":[989,1230,673,1715,797,1961,1022,996,468,1001,510,1062,1242],\"type\":\"scatter\"},{\"hoverinfo\":\"text\",\"hovertext\":[\"<b>Topic 1</b><br>Words: hon, right, would, right hon\",\"<b>Topic 1</b><br>Words: hon, would, right, right hon\",\"<b>Topic 1</b><br>Words: hon, would, right, right hon\",\"<b>Topic 1</b><br>Words: hon, right, would, right hon\",\"<b>Topic 1</b><br>Words: hon, would, right, right hon\",\"<b>Topic 1</b><br>Words: hon, right hon, right, would\",\"<b>Topic 1</b><br>Words: hon, right, right hon, would\",\"<b>Topic 1</b><br>Words: hon, right, right hon, would\",\"<b>Topic 1</b><br>Words: hon, right, right hon, would\",\"<b>Topic 1</b><br>Words: hon, right, right hon, would\",\"<b>Topic 1</b><br>Words: hon, right, right hon, hon hon\",\"<b>Topic 1</b><br>Words: hon, right, right hon, hon hon\",\"<b>Topic 1</b><br>Words: hon, hon hon, right, right hon\"],\"marker\":{\"color\":\"#56B4E9\"},\"mode\":\"lines\",\"name\":\"1_hon_right_right hon_would\",\"x\":[\"1799-10-19T22:50:52.800000\",\"1815-05-22T01:50:46.153845\",\"1830-10-09T03:41:32.307692\",\"1846-02-26T05:32:18.461538\",\"1861-07-16T07:23:04.615384\",\"1876-12-03T09:13:50.769230\",\"1892-04-22T11:04:36.923076\",\"1907-09-11T12:55:23.076922\",\"1923-01-29T14:46:09.230769\",\"1938-06-18T16:36:55.384615\",\"1953-11-05T18:27:41.538461\",\"1969-03-25T20:18:27.692307\",\"1984-08-12T22:09:13.846153\"],\"y\":[824,814,470,927,474,1096,475,1056,531,1036,545,1073,945],\"type\":\"scatter\"},{\"hoverinfo\":\"text\",\"hovertext\":[\"<b>Topic 2</b><br>Words: army, officer, war, military\",\"<b>Topic 2</b><br>Words: child, ship, trade, officer\",\"<b>Topic 2</b><br>Words: education, ship, trade, school\",\"<b>Topic 2</b><br>Words: school, education, ship, would\",\"<b>Topic 2</b><br>Words: school, child, education, board\",\"<b>Topic 2</b><br>Words: school, education, admiralty, board\",\"<b>Topic 2</b><br>Words: school, education, board, child\",\"<b>Topic 2</b><br>Words: trade, school, war, education\",\"<b>Topic 2</b><br>Words: trade, unemployment, child, war\",\"<b>Topic 2</b><br>Words: school, trade, child, war\",\"<b>Topic 2</b><br>Words: child, trade, education, school\",\"<b>Topic 2</b><br>Words: child, school, education, union\",\"<b>Topic 2</b><br>Words: child, school, education, teacher\"],\"marker\":{\"color\":\"#009E73\"},\"mode\":\"lines\",\"name\":\"2_school_child_education_trade\",\"x\":[\"1799-10-19T22:50:52.800000\",\"1815-05-22T01:50:46.153845\",\"1830-10-09T03:41:32.307692\",\"1846-02-26T05:32:18.461538\",\"1861-07-16T07:23:04.615384\",\"1876-12-03T09:13:50.769230\",\"1892-04-22T11:04:36.923076\",\"1907-09-11T12:55:23.076922\",\"1923-01-29T14:46:09.230769\",\"1938-06-18T16:36:55.384615\",\"1953-11-05T18:27:41.538461\",\"1969-03-25T20:18:27.692307\",\"1984-08-12T22:09:13.846153\"],\"y\":[839,490,341,881,515,741,529,1184,547,1048,537,979,1191],\"type\":\"scatter\"},{\"hoverinfo\":\"text\",\"hovertext\":[\"<b>Topic 3</b><br>Words: parliament, committee, amendment, government\",\"<b>Topic 3</b><br>Words: parliament, committee, amendment, would\",\"<b>Topic 3</b><br>Words: parliament, amendment, committee, government\",\"<b>Topic 3</b><br>Words: committee, amendment, parliament, government\",\"<b>Topic 3</b><br>Words: amendment, committee, government, vote\",\"<b>Topic 3</b><br>Words: amendment, committee, government, parliament\",\"<b>Topic 3</b><br>Words: amendment, committee, government, parliament\",\"<b>Topic 3</b><br>Words: amendment, committee, government, parliament\",\"<b>Topic 3</b><br>Words: amendment, committee, government, parliament\",\"<b>Topic 3</b><br>Words: amendment, committee, government, parliament\",\"<b>Topic 3</b><br>Words: amendment, committee, government, parliament\",\"<b>Topic 3</b><br>Words: amendment, government, committee, parliament\",\"<b>Topic 3</b><br>Words: amendment, government, committee, police\"],\"marker\":{\"color\":\"#F0E442\"},\"mode\":\"lines\",\"name\":\"3_amendment_committee_government_parliam...\",\"x\":[\"1799-10-19T22:50:52.800000\",\"1815-05-22T01:50:46.153845\",\"1830-10-09T03:41:32.307692\",\"1846-02-26T05:32:18.461538\",\"1861-07-16T07:23:04.615384\",\"1876-12-03T09:13:50.769230\",\"1892-04-22T11:04:36.923076\",\"1907-09-11T12:55:23.076922\",\"1923-01-29T14:46:09.230769\",\"1938-06-18T16:36:55.384615\",\"1953-11-05T18:27:41.538461\",\"1969-03-25T20:18:27.692307\",\"1984-08-12T22:09:13.846153\"],\"y\":[399,363,212,510,278,589,283,565,291,544,327,828,1062],\"type\":\"scatter\"},{\"hoverinfo\":\"text\",\"hovertext\":[\"<b>Topic 4</b><br>Words: ireland, spain, france, country\",\"<b>Topic 4</b><br>Words: ireland, scotland, country, irish\",\"<b>Topic 4</b><br>Words: ireland, scotland, country, irish\",\"<b>Topic 4</b><br>Words: ireland, scotland, irish, government\",\"<b>Topic 4</b><br>Words: ireland, scotland, irish, government\",\"<b>Topic 4</b><br>Words: ireland, irish, scotland, government\",\"<b>Topic 4</b><br>Words: ireland, scotland, irish, country\",\"<b>Topic 4</b><br>Words: ireland, scotland, irish, country\",\"<b>Topic 4</b><br>Words: scotland, ireland, country, government\",\"<b>Topic 4</b><br>Words: scotland, ireland, scottish, country\",\"<b>Topic 4</b><br>Words: scotland, rhodesia, ireland, scottish\",\"<b>Topic 4</b><br>Words: scotland, ireland, scottish, northern ireland\",\"<b>Topic 4</b><br>Words: ireland, scotland, northern ireland, northern\"],\"marker\":{\"color\":\"#D55E00\"},\"mode\":\"lines\",\"name\":\"4_ireland_scotland_irish_country\",\"x\":[\"1799-10-19T22:50:52.800000\",\"1815-05-22T01:50:46.153845\",\"1830-10-09T03:41:32.307692\",\"1846-02-26T05:32:18.461538\",\"1861-07-16T07:23:04.615384\",\"1876-12-03T09:13:50.769230\",\"1892-04-22T11:04:36.923076\",\"1907-09-11T12:55:23.076922\",\"1923-01-29T14:46:09.230769\",\"1938-06-18T16:36:55.384615\",\"1953-11-05T18:27:41.538461\",\"1969-03-25T20:18:27.692307\",\"1984-08-12T22:09:13.846153\"],\"y\":[582,590,402,613,342,887,382,478,203,416,248,453,556],\"type\":\"scatter\"},{\"hoverinfo\":\"text\",\"hovertext\":[\"<b>Topic 5</b><br>Words: case, punishment, court, witness\",\"<b>Topic 5</b><br>Words: witness, case, court, judge\",\"<b>Topic 5</b><br>Words: case, court, judge, justice\",\"<b>Topic 5</b><br>Words: case, court, judge, law\",\"<b>Topic 5</b><br>Words: case, judge, court, clause\",\"<b>Topic 5</b><br>Words: case, court, judge, appeal\",\"<b>Topic 5</b><br>Words: case, court, clause, appeal\",\"<b>Topic 5</b><br>Words: case, appeal, court, tribunal\",\"<b>Topic 5</b><br>Words: case, court, appeal, clause\",\"<b>Topic 5</b><br>Words: case, court, appeal, tribunal\",\"<b>Topic 5</b><br>Words: clause, court, case, offence\",\"<b>Topic 5</b><br>Words: case, court, clause, offence\",\"<b>Topic 5</b><br>Words: case, court, crime, prison\"],\"marker\":{\"color\":\"#0072B2\"},\"mode\":\"lines\",\"name\":\"5_case_court_judge_witness\",\"x\":[\"1799-10-19T22:50:52.800000\",\"1815-05-22T01:50:46.153845\",\"1830-10-09T03:41:32.307692\",\"1846-02-26T05:32:18.461538\",\"1861-07-16T07:23:04.615384\",\"1876-12-03T09:13:50.769230\",\"1892-04-22T11:04:36.923076\",\"1907-09-11T12:55:23.076922\",\"1923-01-29T14:46:09.230769\",\"1938-06-18T16:36:55.384615\",\"1953-11-05T18:27:41.538461\",\"1969-03-25T20:18:27.692307\",\"1984-08-12T22:09:13.846153\"],\"y\":[629,736,271,387,268,535,193,326,152,365,188,369,557],\"type\":\"scatter\"},{\"hoverinfo\":\"text\",\"hovertext\":[\"<b>Topic 6</b><br>Words: friend, member, learned friend, learned\",\"<b>Topic 6</b><br>Words: member, friend, learned friend, learned\",\"<b>Topic 6</b><br>Words: member, friend, noble friend, friend member\",\"<b>Topic 6</b><br>Words: member, friend, friend member, gallant\",\"<b>Topic 6</b><br>Words: member, friend, friend member, hon member\",\"<b>Topic 6</b><br>Words: member, friend, hon member, cork\",\"<b>Topic 6</b><br>Words: member, friend, hon member, memberconstituency\",\"<b>Topic 6</b><br>Words: member, friend, gallant, hon member\",\"<b>Topic 6</b><br>Words: member, friend, gallant, gallant member\",\"<b>Topic 6</b><br>Words: member, friend, friend member, memberconstituency\",\"<b>Topic 6</b><br>Words: member, friend, friend member, memberconstituency\",\"<b>Topic 6</b><br>Words: member, friend, friend member, memberconstituency\",\"<b>Topic 6</b><br>Words: member, friend, friend member, memberconstituency\"],\"marker\":{\"color\":\"#CC79A7\"},\"mode\":\"lines\",\"name\":\"6_member_friend_friend member_hon member\",\"x\":[\"1799-10-19T22:50:52.800000\",\"1815-05-22T01:50:46.153845\",\"1830-10-09T03:41:32.307692\",\"1846-02-26T05:32:18.461538\",\"1861-07-16T07:23:04.615384\",\"1876-12-03T09:13:50.769230\",\"1892-04-22T11:04:36.923076\",\"1907-09-11T12:55:23.076922\",\"1923-01-29T14:46:09.230769\",\"1938-06-18T16:36:55.384615\",\"1953-11-05T18:27:41.538461\",\"1969-03-25T20:18:27.692307\",\"1984-08-12T22:09:13.846153\"],\"y\":[162,237,113,251,125,392,150,347,205,513,299,514,469],\"type\":\"scatter\"},{\"hoverinfo\":\"text\",\"hovertext\":[\"<b>Topic 7</b><br>Words: house, tenant, landlord, house would\",\"<b>Topic 7</b><br>Words: house, landlord, tenant, would\",\"<b>Topic 7</b><br>Words: house, landlord, tenant, rent\",\"<b>Topic 7</b><br>Words: house, tenant, landlord, borough\",\"<b>Topic 7</b><br>Words: tenant, landlord, house, rent\",\"<b>Topic 7</b><br>Words: tenant, landlord, rent, house\",\"<b>Topic 7</b><br>Words: tenant, house, landlord, rent\",\"<b>Topic 7</b><br>Words: house, tenant, landlord, rent\",\"<b>Topic 7</b><br>Words: house, tenant, landlord, housing\",\"<b>Topic 7</b><br>Words: house, rent, tenant, landlord\",\"<b>Topic 7</b><br>Words: house, tenant, rent, landlord\",\"<b>Topic 7</b><br>Words: house, tenant, housing, rent\",\"<b>Topic 7</b><br>Words: house, housing, tenant, landlord\"],\"marker\":{\"color\":\"#E69F00\"},\"mode\":\"lines\",\"name\":\"7_house_tenant_landlord_rent\",\"x\":[\"1799-10-19T22:50:52.800000\",\"1815-05-22T01:50:46.153845\",\"1830-10-09T03:41:32.307692\",\"1846-02-26T05:32:18.461538\",\"1861-07-16T07:23:04.615384\",\"1876-12-03T09:13:50.769230\",\"1892-04-22T11:04:36.923076\",\"1907-09-11T12:55:23.076922\",\"1923-01-29T14:46:09.230769\",\"1938-06-18T16:36:55.384615\",\"1953-11-05T18:27:41.538461\",\"1969-03-25T20:18:27.692307\",\"1984-08-12T22:09:13.846153\"],\"y\":[207,314,198,273,210,597,218,284,159,335,154,389,341],\"type\":\"scatter\"},{\"hoverinfo\":\"text\",\"hovertext\":[\"<b>Topic 8</b><br>Words: catholic, church, protestant, roman\",\"<b>Topic 8</b><br>Words: catholic, church, protestant, roman catholic\",\"<b>Topic 8</b><br>Words: catholic, church, roman catholic, roman\",\"<b>Topic 8</b><br>Words: church, catholic, roman, roman catholic\",\"<b>Topic 8</b><br>Words: church, catholic, religious, roman catholic\",\"<b>Topic 8</b><br>Words: church, catholic, protestant, religious\",\"<b>Topic 8</b><br>Words: church, catholic, religious, roman\",\"<b>Topic 8</b><br>Words: church, catholic, religious, protestant\",\"<b>Topic 8</b><br>Words: church, catholic, instrument, roman catholic\",\"<b>Topic 8</b><br>Words: church, christian, catholic, religious\",\"<b>Topic 8</b><br>Words: church, catholic, reverend, roman catholic\",\"<b>Topic 8</b><br>Words: church, catholic, bishop, protestant\",\"<b>Topic 8</b><br>Words: church, catholic, bishop, religious\"],\"marker\":{\"color\":\"#56B4E9\"},\"mode\":\"lines\",\"name\":\"8_church_catholic_roman catholic_roman\",\"x\":[\"1799-10-19T22:50:52.800000\",\"1815-05-22T01:50:46.153845\",\"1830-10-09T03:41:32.307692\",\"1846-02-26T05:32:18.461538\",\"1861-07-16T07:23:04.615384\",\"1876-12-03T09:13:50.769230\",\"1892-04-22T11:04:36.923076\",\"1907-09-11T12:55:23.076922\",\"1923-01-29T14:46:09.230769\",\"1938-06-18T16:36:55.384615\",\"1953-11-05T18:27:41.538461\",\"1969-03-25T20:18:27.692307\",\"1984-08-12T22:09:13.846153\"],\"y\":[637,639,280,749,305,191,77,74,21,40,31,42,57],\"type\":\"scatter\"},{\"hoverinfo\":\"text\",\"hovertext\":[\"<b>Topic 9</b><br>Words: sugar, animal, gallon, grain\",\"<b>Topic 9</b><br>Words: corn, price, coal, agricultural\",\"<b>Topic 9</b><br>Words: corn, sugar, price, coal\",\"<b>Topic 9</b><br>Words: cattle, coal, water, animal\",\"<b>Topic 9</b><br>Words: cattle, animal, slaughter, coal\",\"<b>Topic 9</b><br>Words: coal, water, agricultural, cattle\",\"<b>Topic 9</b><br>Words: water, coal, beer, agriculture\",\"<b>Topic 9</b><br>Words: coal, food, milk, mine\",\"<b>Topic 9</b><br>Words: coal, industry, milk, food\",\"<b>Topic 9</b><br>Words: coal, food, steel, industry\",\"<b>Topic 9</b><br>Words: coal, water, industry, nuclear\",\"<b>Topic 9</b><br>Words: coal, oil, industry, milk\",\"<b>Topic 9</b><br>Words: coal, food, water, industry\"],\"marker\":{\"color\":\"#009E73\"},\"mode\":\"lines\",\"name\":\"9_coal_water_food_industry\",\"x\":[\"1799-10-19T22:50:52.800000\",\"1815-05-22T01:50:46.153845\",\"1830-10-09T03:41:32.307692\",\"1846-02-26T05:32:18.461538\",\"1861-07-16T07:23:04.615384\",\"1876-12-03T09:13:50.769230\",\"1892-04-22T11:04:36.923076\",\"1907-09-11T12:55:23.076922\",\"1923-01-29T14:46:09.230769\",\"1938-06-18T16:36:55.384615\",\"1953-11-05T18:27:41.538461\",\"1969-03-25T20:18:27.692307\",\"1984-08-12T22:09:13.846153\"],\"y\":[76,146,94,180,126,155,157,369,225,459,199,395,435],\"type\":\"scatter\"},{\"hoverinfo\":\"text\",\"hovertext\":[\"<b>Topic 10</b><br>Words: argument, debate, evidence, would\",\"<b>Topic 10</b><br>Words: argument, debate, evidence, would\",\"<b>Topic 10</b><br>Words: difficulty, remedy, argument, debate\",\"<b>Topic 10</b><br>Words: argument, matter, debate, difficulty\",\"<b>Topic 10</b><br>Words: debate, matter, discussion, argument\",\"<b>Topic 10</b><br>Words: matter, debate, argument, difficulty\",\"<b>Topic 10</b><br>Words: matter, debate, think, difficulty\",\"<b>Topic 10</b><br>Words: debate, matter, argument, difficulty\",\"<b>Topic 10</b><br>Words: debate, argument, matter, think\",\"<b>Topic 10</b><br>Words: debate, argument, matter, think\",\"<b>Topic 10</b><br>Words: debate, matter, argument, think\",\"<b>Topic 10</b><br>Words: debate, matter, argument, difficulty\",\"<b>Topic 10</b><br>Words: debate, matter, argument, report\"],\"marker\":{\"color\":\"#F0E442\"},\"mode\":\"lines\",\"name\":\"10_debate_matter_argument_difficulty\",\"x\":[\"1799-10-19T22:50:52.800000\",\"1815-05-22T01:50:46.153845\",\"1830-10-09T03:41:32.307692\",\"1846-02-26T05:32:18.461538\",\"1861-07-16T07:23:04.615384\",\"1876-12-03T09:13:50.769230\",\"1892-04-22T11:04:36.923076\",\"1907-09-11T12:55:23.076922\",\"1923-01-29T14:46:09.230769\",\"1938-06-18T16:36:55.384615\",\"1953-11-05T18:27:41.538461\",\"1969-03-25T20:18:27.692307\",\"1984-08-12T22:09:13.846153\"],\"y\":[168,177,86,168,80,210,142,297,157,353,223,400,443],\"type\":\"scatter\"},{\"hoverinfo\":\"text\",\"hovertext\":[\"<b>Topic 11</b><br>Words: bank, debt, fund, million\",\"<b>Topic 11</b><br>Words: bank, note, currency, debt\",\"<b>Topic 11</b><br>Words: bank, debt, expenditure, per cent\",\"<b>Topic 11</b><br>Words: bank, expenditure, per, debt\",\"<b>Topic 11</b><br>Words: bank, expenditure, debt, charge\",\"<b>Topic 11</b><br>Words: expenditure, debt, per cent, cent\",\"<b>Topic 11</b><br>Words: loan, per cent, cent, per\",\"<b>Topic 11</b><br>Words: expenditure, per cent, cent, per\",\"<b>Topic 11</b><br>Words: per cent, cent, debt, per\",\"<b>Topic 11</b><br>Words: per cent, cent, per, million\",\"<b>Topic 11</b><br>Words: per cent, cent, per, million\",\"<b>Topic 11</b><br>Words: per cent, cent, per, million\",\"<b>Topic 11</b><br>Words: per cent, cent, per, million\"],\"marker\":{\"color\":\"#D55E00\"},\"mode\":\"lines\",\"name\":\"11_per cent_cent_per_bank\",\"x\":[\"1799-10-19T22:50:52.800000\",\"1815-05-22T01:50:46.153845\",\"1830-10-09T03:41:32.307692\",\"1846-02-26T05:32:18.461538\",\"1861-07-16T07:23:04.615384\",\"1876-12-03T09:13:50.769230\",\"1892-04-22T11:04:36.923076\",\"1907-09-11T12:55:23.076922\",\"1923-01-29T14:46:09.230769\",\"1938-06-18T16:36:55.384615\",\"1953-11-05T18:27:41.538461\",\"1969-03-25T20:18:27.692307\",\"1984-08-12T22:09:13.846153\"],\"y\":[216,268,129,190,78,153,96,208,152,291,148,438,359],\"type\":\"scatter\"},{\"hoverinfo\":\"text\",\"hovertext\":[\"<b>Topic 12</b><br>Words: tax, pension, taxation, widow\",\"<b>Topic 12</b><br>Words: tax, pension, taxation, reduction\",\"<b>Topic 12</b><br>Words: tax, taxation, pension, income\",\"<b>Topic 12</b><br>Words: tax, pension, taxation, income\",\"<b>Topic 12</b><br>Words: tax, pension, taxation, local taxation\",\"<b>Topic 12</b><br>Words: tax, pension, taxation, income tax\",\"<b>Topic 12</b><br>Words: tax, pension, taxation, income\",\"<b>Topic 12</b><br>Words: pension, tax, insurance, taxation\",\"<b>Topic 12</b><br>Words: tax, pension, taxation, income\",\"<b>Topic 12</b><br>Words: pension, tax, taxation, income\",\"<b>Topic 12</b><br>Words: tax, pension, taxation, income\",\"<b>Topic 12</b><br>Words: tax, pension, taxation, insurance\",\"<b>Topic 12</b><br>Words: pension, tax, pensioner, taxation\"],\"marker\":{\"color\":\"#0072B2\"},\"mode\":\"lines\",\"name\":\"12_tax_pension_taxation_income\",\"x\":[\"1799-10-19T22:50:52.800000\",\"1815-05-22T01:50:46.153845\",\"1830-10-09T03:41:32.307692\",\"1846-02-26T05:32:18.461538\",\"1861-07-16T07:23:04.615384\",\"1876-12-03T09:13:50.769230\",\"1892-04-22T11:04:36.923076\",\"1907-09-11T12:55:23.076922\",\"1923-01-29T14:46:09.230769\",\"1938-06-18T16:36:55.384615\",\"1953-11-05T18:27:41.538461\",\"1969-03-25T20:18:27.692307\",\"1984-08-12T22:09:13.846153\"],\"y\":[84,143,92,143,34,96,110,187,116,175,122,242,269],\"type\":\"scatter\"},{\"hoverinfo\":\"text\",\"hovertext\":[\"<b>Topic 13</b><br>Words: nan, nan nan, dundas esq, esq nan\",\"<b>Topic 13</b><br>Words: nan, nan nan, dundas esq, esq nan\",\"<b>Topic 13</b><br>Words: nan, nan nan, dundas esq, esq nan\",\"<b>Topic 13</b><br>Words: nan, nan nan, dundas esq, esq nan\",\"<b>Topic 13</b><br>Words: nan, nan nan, dundas esq, esq nan\",\"<b>Topic 13</b><br>Words: nan, nan nan, dundas esq, esq nan\",\"<b>Topic 13</b><br>Words: nan, nan nan, dundas esq, esq nan\",\"<b>Topic 13</b><br>Words: nan, nan nan, dundas esq, esq nan\",\"<b>Topic 13</b><br>Words: nan, nan nan, dundas esq, esq nan\",\"<b>Topic 13</b><br>Words: nan, nan nan, hannan nan, nan hannan\",\"<b>Topic 13</b><br>Words: nan, nan nan, dundas esq, esq nan\",\"<b>Topic 13</b><br>Words: nan, nan nan, dundas esq, esq nan\",\"<b>Topic 13</b><br>Words: nan, nan nan, dundas esq, esq nan\"],\"marker\":{\"color\":\"#CC79A7\"},\"mode\":\"lines\",\"name\":\"13_nan_nan nan_nan hannan_nan dundas\",\"x\":[\"1799-10-19T22:50:52.800000\",\"1815-05-22T01:50:46.153845\",\"1830-10-09T03:41:32.307692\",\"1846-02-26T05:32:18.461538\",\"1861-07-16T07:23:04.615384\",\"1876-12-03T09:13:50.769230\",\"1892-04-22T11:04:36.923076\",\"1907-09-11T12:55:23.076922\",\"1923-01-29T14:46:09.230769\",\"1938-06-18T16:36:55.384615\",\"1953-11-05T18:27:41.538461\",\"1969-03-25T20:18:27.692307\",\"1984-08-12T22:09:13.846153\"],\"y\":[84,120,51,54,24,110,62,307,182,256,78,89,66],\"type\":\"scatter\"},{\"hoverinfo\":\"text\",\"hovertext\":[\"<b>Topic 14</b><br>Words: second, read, reading, bill\",\"<b>Topic 14</b><br>Words: second, reading, second reading, reading bill\",\"<b>Topic 14</b><br>Words: second, reading, second reading, read\",\"<b>Topic 14</b><br>Words: second, reading, second reading, museum\",\"<b>Topic 14</b><br>Words: second, reading, second reading, reading bill\",\"<b>Topic 14</b><br>Words: second, reading, post, second reading\",\"<b>Topic 14</b><br>Words: page line, word, quote page, line\",\"<b>Topic 14</b><br>Words: reading, second reading, post office, second\",\"<b>Topic 14</b><br>Words: page line, reading, line, page\",\"<b>Topic 14</b><br>Words: film, reading, second reading, second\",\"<b>Topic 14</b><br>Words: post office, post, newspaper, reading\",\"<b>Topic 14</b><br>Words: reading, second reading, second, paper\",\"<b>Topic 14</b><br>Words: post, post office, reading, museum\"],\"marker\":{\"color\":\"#E69F00\"},\"mode\":\"lines\",\"name\":\"14_reading_second_second reading_post\",\"x\":[\"1799-10-19T22:50:52.800000\",\"1815-05-22T01:50:46.153845\",\"1830-10-09T03:41:32.307692\",\"1846-02-26T05:32:18.461538\",\"1861-07-16T07:23:04.615384\",\"1876-12-03T09:13:50.769230\",\"1892-04-22T11:04:36.923076\",\"1907-09-11T12:55:23.076922\",\"1923-01-29T14:46:09.230769\",\"1938-06-18T16:36:55.384615\",\"1953-11-05T18:27:41.538461\",\"1969-03-25T20:18:27.692307\",\"1984-08-12T22:09:13.846153\"],\"y\":[88,76,44,142,84,138,73,101,61,126,79,127,197],\"type\":\"scatter\"},{\"hoverinfo\":\"text\",\"hovertext\":[\"<b>Topic 15</b><br>Words: sick wounded, wounded, wounded army, sick\",\"<b>Topic 15</b><br>Words: hospital, medical, surgeon, health\",\"<b>Topic 15</b><br>Words: medical, hospital, health, disease\",\"<b>Topic 15</b><br>Words: hospital, medical, disease, health\",\"<b>Topic 15</b><br>Words: disease, dr, hospital, medical\",\"<b>Topic 15</b><br>Words: dr, dr dr, disease, hospital\",\"<b>Topic 15</b><br>Words: dr, hospital, medical, disease\",\"<b>Topic 15</b><br>Words: hospital, health, disease, medical\",\"<b>Topic 15</b><br>Words: hospital, health, medical, disease\",\"<b>Topic 15</b><br>Words: hospital, health, medical, doctor\",\"<b>Topic 15</b><br>Words: hospital, health, nurse, medical\",\"<b>Topic 15</b><br>Words: health, hospital, health service, medical\",\"<b>Topic 15</b><br>Words: hospital, health, patient, medical\"],\"marker\":{\"color\":\"#56B4E9\"},\"mode\":\"lines\",\"name\":\"15_hospital_health_medical_disease\",\"x\":[\"1799-10-19T22:50:52.800000\",\"1815-05-22T01:50:46.153845\",\"1830-10-09T03:41:32.307692\",\"1846-02-26T05:32:18.461538\",\"1861-07-16T07:23:04.615384\",\"1876-12-03T09:13:50.769230\",\"1892-04-22T11:04:36.923076\",\"1907-09-11T12:55:23.076922\",\"1923-01-29T14:46:09.230769\",\"1938-06-18T16:36:55.384615\",\"1953-11-05T18:27:41.538461\",\"1969-03-25T20:18:27.692307\",\"1984-08-12T22:09:13.846153\"],\"y\":[5,24,17,45,52,69,28,82,34,130,89,180,284],\"type\":\"scatter\"},{\"hoverinfo\":\"text\",\"hovertext\":[\"<b>Topic 16</b><br>Words: petition, petitioner, presented, house\",\"<b>Topic 16</b><br>Words: petition, petitioner, presented, prayer\",\"<b>Topic 16</b><br>Words: petition, petitioner, house, presented\",\"<b>Topic 16</b><br>Words: petition, petitioner, presented, signed\",\"<b>Topic 16</b><br>Words: petition, presented, petitioner, withdraw\",\"<b>Topic 16</b><br>Words: petition, withdraw, boycotting, protest\",\"<b>Topic 16</b><br>Words: petition, withdraw, protest, boycotting\",\"<b>Topic 16</b><br>Words: petition, protest, withdraw, beg\",\"<b>Topic 16</b><br>Words: petition, protest, beg, signed\",\"<b>Topic 16</b><br>Words: beg, beg move, withdraw, leave withdraw\",\"<b>Topic 16</b><br>Words: beg move, beg, move, petition\",\"<b>Topic 16</b><br>Words: petition, withdraw, beg, leave withdraw\",\"<b>Topic 16</b><br>Words: petition, leave withdrawn, withdraw, leave\"],\"marker\":{\"color\":\"#009E73\"},\"mode\":\"lines\",\"name\":\"16_petition_petitioner_withdraw_presente...\",\"x\":[\"1799-10-19T22:50:52.800000\",\"1815-05-22T01:50:46.153845\",\"1830-10-09T03:41:32.307692\",\"1846-02-26T05:32:18.461538\",\"1861-07-16T07:23:04.615384\",\"1876-12-03T09:13:50.769230\",\"1892-04-22T11:04:36.923076\",\"1907-09-11T12:55:23.076922\",\"1923-01-29T14:46:09.230769\",\"1938-06-18T16:36:55.384615\",\"1953-11-05T18:27:41.538461\",\"1969-03-25T20:18:27.692307\",\"1984-08-12T22:09:13.846153\"],\"y\":[168,232,55,78,29,61,23,44,23,42,19,47,36],\"type\":\"scatter\"},{\"hoverinfo\":\"text\",\"hovertext\":[\"<b>Topic 17</b><br>Words: year, period, year year, former year\",\"<b>Topic 17</b><br>Words: year, month, age, three\",\"<b>Topic 17</b><br>Words: year, three, week, month\",\"<b>Topic 17</b><br>Words: year, age, month, september\",\"<b>Topic 17</b><br>Words: year, age, month, month elapsed\",\"<b>Topic 17</b><br>Words: year, week, month, three\",\"<b>Topic 17</b><br>Words: year, age, week, proper period\",\"<b>Topic 17</b><br>Words: year, week, age, month\",\"<b>Topic 17</b><br>Words: year, age, month, week\",\"<b>Topic 17</b><br>Words: year, age, week, month\",\"<b>Topic 17</b><br>Words: year, week, month, age\",\"<b>Topic 17</b><br>Words: year, disabled, month, week\",\"<b>Topic 17</b><br>Words: year, disability, disabled, age\"],\"marker\":{\"color\":\"#F0E442\"},\"mode\":\"lines\",\"name\":\"17_year_age_month_week\",\"x\":[\"1799-10-19T22:50:52.800000\",\"1815-05-22T01:50:46.153845\",\"1830-10-09T03:41:32.307692\",\"1846-02-26T05:32:18.461538\",\"1861-07-16T07:23:04.615384\",\"1876-12-03T09:13:50.769230\",\"1892-04-22T11:04:36.923076\",\"1907-09-11T12:55:23.076922\",\"1923-01-29T14:46:09.230769\",\"1938-06-18T16:36:55.384615\",\"1953-11-05T18:27:41.538461\",\"1969-03-25T20:18:27.692307\",\"1984-08-12T22:09:13.846153\"],\"y\":[35,43,29,38,13,35,23,90,29,79,43,76,103],\"type\":\"scatter\"},{\"hoverinfo\":\"text\",\"hovertext\":[\"<b>Topic 18</b><br>Words: libel, danger, evil, seditious\",\"<b>Topic 18</b><br>Words: libel, evil, danger, anxiety\",\"<b>Topic 18</b><br>Words: libel, danger, evil, nature\",\"<b>Topic 18</b><br>Words: danger, libel, evil, anxiety\",\"<b>Topic 18</b><br>Words: evil, security, every information, anxious\",\"<b>Topic 18</b><br>Words: libel, danger, safeguard, libel libel\",\"<b>Topic 18</b><br>Words: evil, danger, anxiety, libel\",\"<b>Topic 18</b><br>Words: danger, libel, anxious, safeguard\",\"<b>Topic 18</b><br>Words: danger, safeguard, libel, away danger\",\"<b>Topic 18</b><br>Words: anxiety, libel, danger, safeguard\",\"<b>Topic 18</b><br>Words: danger, libel, anxiety, characteristic feature\",\"<b>Topic 18</b><br>Words: danger, anxiety, libel, fear\",\"<b>Topic 18</b><br>Words: danger, libel, safeguard, evil\"],\"marker\":{\"color\":\"#D55E00\"},\"mode\":\"lines\",\"name\":\"18_libel_danger_evil_anxiety\",\"x\":[\"1799-10-19T22:50:52.800000\",\"1815-05-22T01:50:46.153845\",\"1830-10-09T03:41:32.307692\",\"1846-02-26T05:32:18.461538\",\"1861-07-16T07:23:04.615384\",\"1876-12-03T09:13:50.769230\",\"1892-04-22T11:04:36.923076\",\"1907-09-11T12:55:23.076922\",\"1923-01-29T14:46:09.230769\",\"1938-06-18T16:36:55.384615\",\"1953-11-05T18:27:41.538461\",\"1969-03-25T20:18:27.692307\",\"1984-08-12T22:09:13.846153\"],\"y\":[150,82,35,33,12,30,21,44,21,49,26,57,50],\"type\":\"scatter\"},{\"hoverinfo\":\"text\",\"hovertext\":[\"<b>Topic 19</b><br>Words: td, tr td, tr, td right\",\"<b>Topic 19</b><br>Words: td, td right, right td, tr td\",\"<b>Topic 19</b><br>Words: td, td right, right td, tr td\",\"<b>Topic 19</b><br>Words: td, bench, lb, td right\",\"<b>Topic 19</b><br>Words: td, td center, center, center td\",\"<b>Topic 19</b><br>Words: td, bench, td right, front\",\"<b>Topic 19</b><br>Words: td, bench, tr td, tr\",\"<b>Topic 19</b><br>Words: td, bench, td right, tr td\",\"<b>Topic 19</b><br>Words: td, bench, position, td right\",\"<b>Topic 19</b><br>Words: td, bench, td right, position\",\"<b>Topic 19</b><br>Words: td, bench, position, td right\",\"<b>Topic 19</b><br>Words: td, bench, td right, position\",\"<b>Topic 19</b><br>Words: td, bench, td right, front\"],\"marker\":{\"color\":\"#0072B2\"},\"mode\":\"lines\",\"name\":\"19_td_td right_tr td_tr\",\"x\":[\"1799-10-19T22:50:52.800000\",\"1815-05-22T01:50:46.153845\",\"1830-10-09T03:41:32.307692\",\"1846-02-26T05:32:18.461538\",\"1861-07-16T07:23:04.615384\",\"1876-12-03T09:13:50.769230\",\"1892-04-22T11:04:36.923076\",\"1907-09-11T12:55:23.076922\",\"1923-01-29T14:46:09.230769\",\"1938-06-18T16:36:55.384615\",\"1953-11-05T18:27:41.538461\",\"1969-03-25T20:18:27.692307\",\"1984-08-12T22:09:13.846153\"],\"y\":[26,46,27,41,12,25,26,51,38,43,34,43,55],\"type\":\"scatter\"},{\"hoverinfo\":\"text\",\"hovertext\":[\"<b>Topic 20</b><br>Words: gent gent, gent, lieut lieut, lieut\",\"<b>Topic 20</b><br>Words: mocatti, gent gent, gent, lieut lieut\",\"<b>Topic 20</b><br>Words: hist, gent gent, gent, malt hist\",\"<b>Topic 20</b><br>Words: hist, gent gent, gent, lieut lieut\",\"<b>Topic 20</b><br>Words: lieut lieut, lieut, gent gent, gent\",\"<b>Topic 20</b><br>Words: lieut lieut, lieut, gent gent, gent\",\"<b>Topic 20</b><br>Words: lieut lieut, lieut, gent gent, gent\",\"<b>Topic 20</b><br>Words: lieut, gent gent, gent, lieut lieut\",\"<b>Topic 20</b><br>Words: gent gent, gent, indeed gest, gest\"],\"marker\":{\"color\":\"#CC79A7\"},\"mode\":\"lines\",\"name\":\"20_gent gent_gent_lieut lieut_lieut\",\"x\":[\"1799-10-19T22:50:52.800000\",\"1815-05-22T01:50:46.153845\",\"1846-02-26T05:32:18.461538\",\"1861-07-16T07:23:04.615384\",\"1907-09-11T12:55:23.076922\",\"1923-01-29T14:46:09.230769\",\"1938-06-18T16:36:55.384615\",\"1953-11-05T18:27:41.538461\",\"1984-08-12T22:09:13.846153\"],\"y\":[349,1,3,1,55,24,22,1,2],\"type\":\"scatter\"},{\"hoverinfo\":\"text\",\"hovertext\":[\"<b>Topic 21</b><br>Words: motion, principle, hon, observation\",\"<b>Topic 21</b><br>Words: motion, principle, observation, hon\",\"<b>Topic 21</b><br>Words: principle, motion, hon, observation\",\"<b>Topic 21</b><br>Words: motion, principle, observation, observation hon\",\"<b>Topic 21</b><br>Words: motion, principle, observation, hon\",\"<b>Topic 21</b><br>Words: motion, principle, hon, observation\",\"<b>Topic 21</b><br>Words: motion, principle, motion agreed, second motion\",\"<b>Topic 21</b><br>Words: motion, principle, second motion, observation\",\"<b>Topic 21</b><br>Words: motion, principle, propulsion, second motion\",\"<b>Topic 21</b><br>Words: principle, motion, general principle, far unless\",\"<b>Topic 21</b><br>Words: motion, principle, disregard, would negation\",\"<b>Topic 21</b><br>Words: principle, motion, standpoint, fundamental principle\",\"<b>Topic 21</b><br>Words: motion, principle, moving motion, hon\"],\"marker\":{\"color\":\"#E69F00\"},\"mode\":\"lines\",\"name\":\"21_motion_principle_hon_observation\",\"x\":[\"1799-10-19T22:50:52.800000\",\"1815-05-22T01:50:46.153845\",\"1830-10-09T03:41:32.307692\",\"1846-02-26T05:32:18.461538\",\"1861-07-16T07:23:04.615384\",\"1876-12-03T09:13:50.769230\",\"1892-04-22T11:04:36.923076\",\"1907-09-11T12:55:23.076922\",\"1923-01-29T14:46:09.230769\",\"1938-06-18T16:36:55.384615\",\"1953-11-05T18:27:41.538461\",\"1969-03-25T20:18:27.692307\",\"1984-08-12T22:09:13.846153\"],\"y\":[85,65,37,51,27,41,16,29,14,15,13,15,28],\"type\":\"scatter\"},{\"hoverinfo\":\"text\",\"hovertext\":[\"<b>Topic 22</b><br>Words: figure, time, argued referring, acting wholly\",\"<b>Topic 22</b><br>Words: moment, figure, time, refuted history\",\"<b>Topic 22</b><br>Words: know stood, moment obligation, stood moment, better reserve\",\"<b>Topic 22</b><br>Words: figure, moment, stir, time\",\"<b>Topic 22</b><br>Words: figure, moment, half virtue, excluded item\",\"<b>Topic 22</b><br>Words: figure, time, moment, could moment\",\"<b>Topic 22</b><br>Words: figure, moment, time, lapse certain\",\"<b>Topic 22</b><br>Words: figure, moment, time, figure yet\",\"<b>Topic 22</b><br>Words: figure, time, moment, changed\",\"<b>Topic 22</b><br>Words: figure, moment, time, yet available\",\"<b>Topic 22</b><br>Words: figure, moment, time, negligible\",\"<b>Topic 22</b><br>Words: figure, moment, figure figure, time\",\"<b>Topic 22</b><br>Words: figure, moment, time, cuckoo nest\"],\"marker\":{\"color\":\"#56B4E9\"},\"mode\":\"lines\",\"name\":\"22_figure_moment_time_figure figure\",\"x\":[\"1799-10-19T22:50:52.800000\",\"1815-05-22T01:50:46.153845\",\"1830-10-09T03:41:32.307692\",\"1846-02-26T05:32:18.461538\",\"1861-07-16T07:23:04.615384\",\"1876-12-03T09:13:50.769230\",\"1892-04-22T11:04:36.923076\",\"1907-09-11T12:55:23.076922\",\"1923-01-29T14:46:09.230769\",\"1938-06-18T16:36:55.384615\",\"1953-11-05T18:27:41.538461\",\"1969-03-25T20:18:27.692307\",\"1984-08-12T22:09:13.846153\"],\"y\":[8,22,2,12,7,17,13,51,19,52,13,44,37],\"type\":\"scatter\"},{\"hoverinfo\":\"text\",\"hovertext\":[\"<b>Topic 23</b><br>Words: contended many, difficulty impediment, salt employed, get drawback\",\"<b>Topic 23</b><br>Words: fishery, salmon, fish, river\",\"<b>Topic 23</b><br>Words: fishery, fisherman, fish, fishing\",\"<b>Topic 23</b><br>Words: fish, fishing, fishery, salmon\",\"<b>Topic 23</b><br>Words: fish, fishery, freshwater, freshwater fish\",\"<b>Topic 23</b><br>Words: fishery, fishing, fish, fisherman\",\"<b>Topic 23</b><br>Words: fishery, fishing, newfoundland, fisherman\",\"<b>Topic 23</b><br>Words: fishery, fisherman, fishing, fish\",\"<b>Topic 23</b><br>Words: fish, fishing, fishery, fishing industry\",\"<b>Topic 23</b><br>Words: fishery, fish, herring, fishing\",\"<b>Topic 23</b><br>Words: fishing, fish, fisherman, fishery\",\"<b>Topic 23</b><br>Words: fishing, fish, fishery, salmon\",\"<b>Topic 23</b><br>Words: fishing, fishery, fish, fisherman\"],\"marker\":{\"color\":\"#009E73\"},\"mode\":\"lines\",\"name\":\"23_fishery_fishing_fish_fisherman\",\"x\":[\"1799-10-19T22:50:52.800000\",\"1815-05-22T01:50:46.153845\",\"1830-10-09T03:41:32.307692\",\"1846-02-26T05:32:18.461538\",\"1861-07-16T07:23:04.615384\",\"1876-12-03T09:13:50.769230\",\"1892-04-22T11:04:36.923076\",\"1907-09-11T12:55:23.076922\",\"1923-01-29T14:46:09.230769\",\"1938-06-18T16:36:55.384615\",\"1953-11-05T18:27:41.538461\",\"1969-03-25T20:18:27.692307\",\"1984-08-12T22:09:13.846153\"],\"y\":[1,13,8,23,6,38,23,21,12,29,13,41,61],\"type\":\"scatter\"},{\"hoverinfo\":\"text\",\"hovertext\":[\"<b>Topic 24</b><br>Words: owen plan, proposal, proposed hon, proposed\",\"<b>Topic 24</b><br>Words: proposal, scheme, absurdity proposal, simple agreed\",\"<b>Topic 24</b><br>Words: scheme, proposal, proposed, proposal right\",\"<b>Topic 24</b><br>Words: proposal, scheme, proposal right, proposal hon\",\"<b>Topic 24</b><br>Words: proposal, proposal right, proposal hon, hon proposal\",\"<b>Topic 24</b><br>Words: proposal, proposal hon, scheme, proposal right\",\"<b>Topic 24</b><br>Words: proposal, scheme, scheme presented, presented\",\"<b>Topic 24</b><br>Words: proposal, scheme, proposal hon, hon scheme\",\"<b>Topic 24</b><br>Words: proposal, scheme, proposal kind, kind\",\"<b>Topic 24</b><br>Words: proposal, scheme, proposal right, proposal scheme\",\"<b>Topic 24</b><br>Words: proposal, scheme, scheme drawing, activated middle\",\"<b>Topic 24</b><br>Words: proposal, scheme, grand scheme, forward proposal\",\"<b>Topic 24</b><br>Words: proposal, scheme, say proposal, mencap\"],\"marker\":{\"color\":\"#F0E442\"},\"mode\":\"lines\",\"name\":\"24_proposal_scheme_proposal hon_proposal...\",\"x\":[\"1799-10-19T22:50:52.800000\",\"1815-05-22T01:50:46.153845\",\"1830-10-09T03:41:32.307692\",\"1846-02-26T05:32:18.461538\",\"1861-07-16T07:23:04.615384\",\"1876-12-03T09:13:50.769230\",\"1892-04-22T11:04:36.923076\",\"1907-09-11T12:55:23.076922\",\"1923-01-29T14:46:09.230769\",\"1938-06-18T16:36:55.384615\",\"1953-11-05T18:27:41.538461\",\"1969-03-25T20:18:27.692307\",\"1984-08-12T22:09:13.846153\"],\"y\":[8,7,10,18,15,32,14,23,16,28,16,32,37],\"type\":\"scatter\"},{\"hoverinfo\":\"text\",\"hovertext\":[\"<b>Topic 25</b><br>Words: corruption, fraud, bribery, lottery\",\"<b>Topic 25</b><br>Words: bribery, bribe, corruption, fraud\",\"<b>Topic 25</b><br>Words: fraud, bribery, corruption, bribery committed\",\"<b>Topic 25</b><br>Words: bribery, fraud, corruption, lottery\",\"<b>Topic 25</b><br>Words: fraud, bribery, corruption, election\",\"<b>Topic 25</b><br>Words: fraud, bribery, betting, gambling\",\"<b>Topic 25</b><br>Words: gambling, claim, like indulgence, got publican\",\"<b>Topic 25</b><br>Words: betting, fraud, increase betting, claim made\",\"<b>Topic 25</b><br>Words: gambling, betting, lottery, private gain\",\"<b>Topic 25</b><br>Words: fraud, betting, lottery, transaction\",\"<b>Topic 25</b><br>Words: bet, valid bet, betting day, betting\",\"<b>Topic 25</b><br>Words: fraud, lottery, corruption, bribery\",\"<b>Topic 25</b><br>Words: lottery, fraud, national lottery, bribery\"],\"marker\":{\"color\":\"#D55E00\"},\"mode\":\"lines\",\"name\":\"25_fraud_lottery_bribery_corruption\",\"x\":[\"1799-10-19T22:50:52.800000\",\"1815-05-22T01:50:46.153845\",\"1830-10-09T03:41:32.307692\",\"1846-02-26T05:32:18.461538\",\"1861-07-16T07:23:04.615384\",\"1876-12-03T09:13:50.769230\",\"1892-04-22T11:04:36.923076\",\"1907-09-11T12:55:23.076922\",\"1923-01-29T14:46:09.230769\",\"1938-06-18T16:36:55.384615\",\"1953-11-05T18:27:41.538461\",\"1969-03-25T20:18:27.692307\",\"1984-08-12T22:09:13.846153\"],\"y\":[50,36,17,23,10,12,5,9,18,9,8,16,41],\"type\":\"scatter\"},{\"hoverinfo\":\"text\",\"hovertext\":[\"<b>Topic 26</b><br>Words: grant, concession, grant therefore, make concession\",\"<b>Topic 26</b><br>Words: grant, concession, protection capital, oppose grant\",\"<b>Topic 26</b><br>Words: grant, concession, present grant, make concession\",\"<b>Topic 26</b><br>Words: grant, concession, annual grant, committee council\",\"<b>Topic 26</b><br>Words: grant, concession, concession made, american citizen\",\"<b>Topic 26</b><br>Words: grant, concession, made, grant made\",\"<b>Topic 26</b><br>Words: grant, concession, concession could, make concession\",\"<b>Topic 26</b><br>Words: grant, concession, grant made, made\",\"<b>Topic 26</b><br>Words: grant, concession, approved act, ascertainment allocation\",\"<b>Topic 26</b><br>Words: grant, concession, concession visitor, year scheme\",\"<b>Topic 26</b><br>Words: grant, concession, general grant, administrative cost\",\"<b>Topic 26</b><br>Words: grant, concession, support grant, grant grant\",\"<b>Topic 26</b><br>Words: grant, concession, grant paid, amount grant\"],\"marker\":{\"color\":\"#0072B2\"},\"mode\":\"lines\",\"name\":\"26_grant_concession_make concession_made\",\"x\":[\"1799-10-19T22:50:52.800000\",\"1815-05-22T01:50:46.153845\",\"1830-10-09T03:41:32.307692\",\"1846-02-26T05:32:18.461538\",\"1861-07-16T07:23:04.615384\",\"1876-12-03T09:13:50.769230\",\"1892-04-22T11:04:36.923076\",\"1907-09-11T12:55:23.076922\",\"1923-01-29T14:46:09.230769\",\"1938-06-18T16:36:55.384615\",\"1953-11-05T18:27:41.538461\",\"1969-03-25T20:18:27.692307\",\"1984-08-12T22:09:13.846153\"],\"y\":[19,11,11,12,11,27,15,26,11,15,18,19,23],\"type\":\"scatter\"},{\"hoverinfo\":\"text\",\"hovertext\":[\"<b>Topic 27</b><br>Words: licence, licence issued, licensing, order council\",\"<b>Topic 27</b><br>Words: license, licensing, licence, principle licensing\",\"<b>Topic 27</b><br>Words: registration, licence, objectionable, objection\",\"<b>Topic 27</b><br>Words: licence, license, registration, publican\",\"<b>Topic 27</b><br>Words: licence, registration, license, hawker\",\"<b>Topic 27</b><br>Words: licence, register, registration, license\",\"<b>Topic 27</b><br>Words: licence, licensing, licence duty, license\",\"<b>Topic 27</b><br>Words: licence, licensing, register, registration\",\"<b>Topic 27</b><br>Words: licence, licence granted, granted, register\",\"<b>Topic 27</b><br>Words: licence, registration, licensing, licensee\",\"<b>Topic 27</b><br>Words: licence, licensing, year, registration\",\"<b>Topic 27</b><br>Words: licence, registration, licensing, licensee\",\"<b>Topic 27</b><br>Words: licence, licensing, registration, register\"],\"marker\":{\"color\":\"#CC79A7\"},\"mode\":\"lines\",\"name\":\"27_licence_licensing_registration_regist...\",\"x\":[\"1799-10-19T22:50:52.800000\",\"1815-05-22T01:50:46.153845\",\"1830-10-09T03:41:32.307692\",\"1846-02-26T05:32:18.461538\",\"1861-07-16T07:23:04.615384\",\"1876-12-03T09:13:50.769230\",\"1892-04-22T11:04:36.923076\",\"1907-09-11T12:55:23.076922\",\"1923-01-29T14:46:09.230769\",\"1938-06-18T16:36:55.384615\",\"1953-11-05T18:27:41.538461\",\"1969-03-25T20:18:27.692307\",\"1984-08-12T22:09:13.846153\"],\"y\":[8,9,3,12,10,16,17,27,15,17,8,32,33],\"type\":\"scatter\"},{\"hoverinfo\":\"text\",\"hovertext\":[\"<b>Topic 28</b><br>Words: measure, objection, measure proposed, proposed\",\"<b>Topic 28</b><br>Words: measure, principle, measure would, measure adopted\",\"<b>Topic 28</b><br>Words: measure, dissent, measure offer, sir principle\",\"<b>Topic 28</b><br>Words: measure, present measure, principle, present\",\"<b>Topic 28</b><br>Words: measure, measure would, would, measure offer\",\"<b>Topic 28</b><br>Words: measure, oppose measure, measure introduced, wished\",\"<b>Topic 28</b><br>Words: measure, measure measure, heroic measure, story require\",\"<b>Topic 28</b><br>Words: measure, made humane, absence argument, recourse catchword\",\"<b>Topic 28</b><br>Words: measure, received ungrateful, ungrateful manner, precedent expropriating\",\"<b>Topic 28</b><br>Words: measure, big, eschewing, welcomed present\",\"<b>Topic 28</b><br>Words: measure, full measure, assurance customer, people repeat\",\"<b>Topic 28</b><br>Words: measure, metrication, courage far, today selective\",\"<b>Topic 28</b><br>Words: measure, measure would, many measure, measure make\"],\"marker\":{\"color\":\"#E69F00\"},\"mode\":\"lines\",\"name\":\"28_measure_measure would_principle_prese...\",\"x\":[\"1799-10-19T22:50:52.800000\",\"1815-05-22T01:50:46.153845\",\"1830-10-09T03:41:32.307692\",\"1846-02-26T05:32:18.461538\",\"1861-07-16T07:23:04.615384\",\"1876-12-03T09:13:50.769230\",\"1892-04-22T11:04:36.923076\",\"1907-09-11T12:55:23.076922\",\"1923-01-29T14:46:09.230769\",\"1938-06-18T16:36:55.384615\",\"1953-11-05T18:27:41.538461\",\"1969-03-25T20:18:27.692307\",\"1984-08-12T22:09:13.846153\"],\"y\":[36,34,14,19,18,13,7,8,7,10,9,9,19],\"type\":\"scatter\"},{\"hoverinfo\":\"text\",\"hovertext\":[\"<b>Topic 29</b><br>Words: oath, pledge, swear, upon oath\",\"<b>Topic 29</b><br>Words: oath, pledge, swear, take oath\",\"<b>Topic 29</b><br>Words: oath, pledge, oath taken, taken member\",\"<b>Topic 29</b><br>Words: oath, pledge, taking oath, take oath\",\"<b>Topic 29</b><br>Words: pledge, could next, pledge induce, redeem fairly\",\"<b>Topic 29</b><br>Words: oath, pledge, taken oath, take oath\",\"<b>Topic 29</b><br>Words: pledge, oath, included taking, concerned broken\",\"<b>Topic 29</b><br>Words: pledge, oath, pledge given, given pledge\",\"<b>Topic 29</b><br>Words: pledge, one pledge, pledge party, intact accordance\",\"<b>Topic 29</b><br>Words: pledge, deal pledge, oath, challenged given\",\"<b>Topic 29</b><br>Words: pledge, give pledge, innocent householder, least dying\",\"<b>Topic 29</b><br>Words: clear pledge, pledge fixed, fixed community, community charge\",\"<b>Topic 29</b><br>Words: pledge, oath, waiting, around\"],\"marker\":{\"color\":\"#56B4E9\"},\"mode\":\"lines\",\"name\":\"29_oath_pledge_swear_take oath\",\"x\":[\"1799-10-19T22:50:52.800000\",\"1815-05-22T01:50:46.153845\",\"1830-10-09T03:41:32.307692\",\"1846-02-26T05:32:18.461538\",\"1861-07-16T07:23:04.615384\",\"1876-12-03T09:13:50.769230\",\"1892-04-22T11:04:36.923076\",\"1907-09-11T12:55:23.076922\",\"1923-01-29T14:46:09.230769\",\"1938-06-18T16:36:55.384615\",\"1953-11-05T18:27:41.538461\",\"1969-03-25T20:18:27.692307\",\"1984-08-12T22:09:13.846153\"],\"y\":[41,48,12,33,3,15,3,18,2,8,3,1,8],\"type\":\"scatter\"},{\"hoverinfo\":\"text\",\"hovertext\":[\"<b>Topic 30</b><br>Words: balfour, stork, henry stork, sir henry\",\"<b>Topic 30</b><br>Words: balfour, balfour memberconstituency, hon balfour, balfour said\",\"<b>Topic 30</b><br>Words: balfour, hon balfour, gerald balfour, lord balfour\",\"<b>Topic 30</b><br>Words: balfour, lord balfour, burleigh, balfour burleigh\",\"<b>Topic 30</b><br>Words: morrison, balfour, hon morrison, morrison reply\",\"<b>Topic 30</b><br>Words: morrison, balfour, hon morrison, morrison yes\",\"<b>Topic 30</b><br>Words: balfour, inchrye lord, lord balfour, wilkins\",\"<b>Topic 30</b><br>Words: balfour, post office, responsible commences, administration post\",\"<b>Topic 30</b><br>Words: chester morrison, city chester, morrison hon, chester\"],\"marker\":{\"color\":\"#009E73\"},\"mode\":\"lines\",\"name\":\"30_balfour_morrison_hon balfour_lord bal...\",\"x\":[\"1846-02-26T05:32:18.461538\",\"1876-12-03T09:13:50.769230\",\"1892-04-22T11:04:36.923076\",\"1907-09-11T12:55:23.076922\",\"1923-01-29T14:46:09.230769\",\"1938-06-18T16:36:55.384615\",\"1953-11-05T18:27:41.538461\",\"1969-03-25T20:18:27.692307\",\"1984-08-12T22:09:13.846153\"],\"y\":[1,72,37,17,16,42,5,1,1],\"type\":\"scatter\"},{\"hoverinfo\":\"text\",\"hovertext\":[\"<b>Topic 31</b><br>Words: advantage, reason, forbearance, great advantage\",\"<b>Topic 31</b><br>Words: advantage, reason, disadvantage, benefit\",\"<b>Topic 31</b><br>Words: advantage, enabling hon, advantage sphere, advantage enabling\",\"<b>Topic 31</b><br>Words: advantage, reason, advantage would, saw advantage\",\"<b>Topic 31</b><br>Words: advantage, reason, exercise function, much public\",\"<b>Topic 31</b><br>Words: advantage, reason, great advantage, increase reversion\",\"<b>Topic 31</b><br>Words: reason, advantage, reason reason, tonight\",\"<b>Topic 31</b><br>Words: advantage, reason, advantage reason, reason reason\",\"<b>Topic 31</b><br>Words: reason, advantage, immense advantage, immense\",\"<b>Topic 31</b><br>Words: reason, advantage, one reason, reason reason\",\"<b>Topic 31</b><br>Words: reason, advantage, let contrast, siting market\",\"<b>Topic 31</b><br>Words: reason, advantage, great advantage, two reason\",\"<b>Topic 31</b><br>Words: reason, advantage, good reason, three reason\"],\"marker\":{\"color\":\"#F0E442\"},\"mode\":\"lines\",\"name\":\"31_advantage_reason_great advantage_good...\",\"x\":[\"1799-10-19T22:50:52.800000\",\"1815-05-22T01:50:46.153845\",\"1830-10-09T03:41:32.307692\",\"1846-02-26T05:32:18.461538\",\"1861-07-16T07:23:04.615384\",\"1876-12-03T09:13:50.769230\",\"1892-04-22T11:04:36.923076\",\"1907-09-11T12:55:23.076922\",\"1923-01-29T14:46:09.230769\",\"1938-06-18T16:36:55.384615\",\"1953-11-05T18:27:41.538461\",\"1969-03-25T20:18:27.692307\",\"1984-08-12T22:09:13.846153\"],\"y\":[8,11,3,12,10,20,9,22,8,19,12,22,21],\"type\":\"scatter\"},{\"hoverinfo\":\"text\",\"hovertext\":[\"<b>Topic 32</b><br>Words: estimate, pending arrangement, population, pending\",\"<b>Topic 32</b><br>Words: estimate, population, sum, population increased\",\"<b>Topic 32</b><br>Words: estimate, population, exclude great, institution formed\",\"<b>Topic 32</b><br>Words: estimate, population, original estimate, general estimate\",\"<b>Topic 32</b><br>Words: estimate, census population, connected estimate, testing accuracy\",\"<b>Topic 32</b><br>Words: estimate, population, supplementary estimate, supplementary\",\"<b>Topic 32</b><br>Words: estimate, population, population know, supplementary estimate\",\"<b>Topic 32</b><br>Words: estimate, population, supplementary estimate, supplementary\",\"<b>Topic 32</b><br>Words: estimate, population, supplementary estimate, supplementary\",\"<b>Topic 32</b><br>Words: estimate, population, figure, total population\",\"<b>Topic 32</b><br>Words: estimate, population, become increasingly, increasingly difficult\",\"<b>Topic 32</b><br>Words: estimate, population, supplementary estimate, supplementary\",\"<b>Topic 32</b><br>Words: estimate, population, census, number never\"],\"marker\":{\"color\":\"#D55E00\"},\"mode\":\"lines\",\"name\":\"32_estimate_population_supplementary est...\",\"x\":[\"1799-10-19T22:50:52.800000\",\"1815-05-22T01:50:46.153845\",\"1830-10-09T03:41:32.307692\",\"1846-02-26T05:32:18.461538\",\"1861-07-16T07:23:04.615384\",\"1876-12-03T09:13:50.769230\",\"1892-04-22T11:04:36.923076\",\"1907-09-11T12:55:23.076922\",\"1923-01-29T14:46:09.230769\",\"1938-06-18T16:36:55.384615\",\"1953-11-05T18:27:41.538461\",\"1969-03-25T20:18:27.692307\",\"1984-08-12T22:09:13.846153\"],\"y\":[8,17,5,15,3,22,11,36,9,16,10,14,11],\"type\":\"scatter\"},{\"hoverinfo\":\"text\",\"hovertext\":[\"<b>Topic 33</b><br>Words: tithe, cotton, payment tithe, excess\",\"<b>Topic 33</b><br>Words: tithe, cotton, wool, silk\",\"<b>Topic 33</b><br>Words: cotton, tithe, foreign cotton, may recovered\",\"<b>Topic 33</b><br>Words: cotton, tithe, send agent, cultivation\",\"<b>Topic 33</b><br>Words: cotton, cotton trade, raw cotton, tithe\",\"<b>Topic 33</b><br>Words: tithe, cotton, pay tithe, took tithe\",\"<b>Topic 33</b><br>Words: cotton, lancashire, tithe, present grew\",\"<b>Topic 33</b><br>Words: cotton, tithe, cotton trade, silk\",\"<b>Topic 33</b><br>Words: cotton, tithe, cotton trade, odd\",\"<b>Topic 33</b><br>Words: cotton, tithe, lancashire, cotton industry\",\"<b>Topic 33</b><br>Words: cotton, cotton industry, modernisation, silkin\",\"<b>Topic 33</b><br>Words: cotton, cotton industry, industry, thread\",\"<b>Topic 33</b><br>Words: wool, wool producer, producer, price helped\"],\"marker\":{\"color\":\"#0072B2\"},\"mode\":\"lines\",\"name\":\"33_cotton_tithe_wool_cotton trade\",\"x\":[\"1799-10-19T22:50:52.800000\",\"1815-05-22T01:50:46.153845\",\"1830-10-09T03:41:32.307692\",\"1846-02-26T05:32:18.461538\",\"1861-07-16T07:23:04.615384\",\"1876-12-03T09:13:50.769230\",\"1892-04-22T11:04:36.923076\",\"1907-09-11T12:55:23.076922\",\"1923-01-29T14:46:09.230769\",\"1938-06-18T16:36:55.384615\",\"1953-11-05T18:27:41.538461\",\"1969-03-25T20:18:27.692307\",\"1984-08-12T22:09:13.846153\"],\"y\":[7,48,11,22,4,15,4,17,13,17,5,7,4],\"type\":\"scatter\"},{\"hoverinfo\":\"text\",\"hovertext\":[\"<b>Topic 34</b><br>Words: rose, peel, hon rose, rose said\",\"<b>Topic 34</b><br>Words: peel, rose, robert peel, sir\",\"<b>Topic 34</b><br>Words: peel, sir peel, sir, rose\",\"<b>Topic 34</b><br>Words: peel, robert peel, sir robert, rose\",\"<b>Topic 34</b><br>Words: oppose whole, whole proposition, rylands said, rose oppose\",\"<b>Topic 34</b><br>Words: peel, rose, robert peel, sir robert\",\"<b>Topic 34</b><br>Words: peel, brief administration, properly divided, purpose satisfying\",\"<b>Topic 34</b><br>Words: peel, viscount peel, viscount, rose\",\"<b>Topic 34</b><br>Words: rose rose, rose, number rose, surgeon appointed\",\"<b>Topic 34</b><br>Words: rose, proposing discus, rose lieut, rose proposing\",\"<b>Topic 34</b><br>Words: rose, erroll must, immediately machination, rose peak\",\"<b>Topic 34</b><br>Words: rose, gould suspect, cash rose, drivel every\",\"<b>Topic 34</b><br>Words: peel, contribution rural, rose would, sweet name\"],\"marker\":{\"color\":\"#CC79A7\"},\"mode\":\"lines\",\"name\":\"34_peel_rose_robert peel_sir\",\"x\":[\"1799-10-19T22:50:52.800000\",\"1815-05-22T01:50:46.153845\",\"1830-10-09T03:41:32.307692\",\"1846-02-26T05:32:18.461538\",\"1861-07-16T07:23:04.615384\",\"1876-12-03T09:13:50.769230\",\"1892-04-22T11:04:36.923076\",\"1907-09-11T12:55:23.076922\",\"1923-01-29T14:46:09.230769\",\"1938-06-18T16:36:55.384615\",\"1953-11-05T18:27:41.538461\",\"1969-03-25T20:18:27.692307\",\"1984-08-12T22:09:13.846153\"],\"y\":[29,30,24,31,1,6,2,15,1,2,2,2,2],\"type\":\"scatter\"},{\"hoverinfo\":\"text\",\"hovertext\":[\"<b>Topic 35</b><br>Words: ought, sort, necessary ought, sort reform\",\"<b>Topic 35</b><br>Words: ought, sort, ought abolished, abolished\",\"<b>Topic 35</b><br>Words: ought, sort, school ought, school\",\"<b>Topic 35</b><br>Words: ought, sort, thought ought, lynch law\",\"<b>Topic 35</b><br>Words: ought done, ought, done positive, confidence inspector\",\"<b>Topic 35</b><br>Words: sort, ought, nothing sort, sort thing\",\"<b>Topic 35</b><br>Words: ought, sort, omitted publish, publish letter\",\"<b>Topic 35</b><br>Words: ought, sort, think ought, done\",\"<b>Topic 35</b><br>Words: sort, ought, sort thing, article ought\",\"<b>Topic 35</b><br>Words: ought, sort, think ought, sort thing\",\"<b>Topic 35</b><br>Words: sort, ought, sort situation, think ought\",\"<b>Topic 35</b><br>Words: sort, ought, reservation, traveller\",\"<b>Topic 35</b><br>Words: sort, ought, sort problem, problem\"],\"marker\":{\"color\":\"#E69F00\"},\"mode\":\"lines\",\"name\":\"35_sort_ought_think ought_sort thing\",\"x\":[\"1799-10-19T22:50:52.800000\",\"1815-05-22T01:50:46.153845\",\"1830-10-09T03:41:32.307692\",\"1846-02-26T05:32:18.461538\",\"1861-07-16T07:23:04.615384\",\"1876-12-03T09:13:50.769230\",\"1892-04-22T11:04:36.923076\",\"1907-09-11T12:55:23.076922\",\"1923-01-29T14:46:09.230769\",\"1938-06-18T16:36:55.384615\",\"1953-11-05T18:27:41.538461\",\"1969-03-25T20:18:27.692307\",\"1984-08-12T22:09:13.846153\"],\"y\":[13,10,6,7,3,10,7,12,9,24,11,18,14],\"type\":\"scatter\"},{\"hoverinfo\":\"text\",\"hovertext\":[\"<b>Topic 36</b><br>Words: regret, regretted, hon regretted, regretted hon\",\"<b>Topic 36</b><br>Words: regret, regretted, hon regretted, hon\",\"<b>Topic 36</b><br>Words: regret, regretted, extort condition, regret listened\",\"<b>Topic 36</b><br>Words: regret, regretted, regretted right, hon regretted\",\"<b>Topic 36</b><br>Words: regretted, regret, regretted right, hon regretted\",\"<b>Topic 36</b><br>Words: regret, regretted, hon regret, regret power\",\"<b>Topic 36</b><br>Words: regret, satisfaction take, regret nothing, twopence even\",\"<b>Topic 36</b><br>Words: regret, regretted, sir regret, regret information\",\"<b>Topic 36</b><br>Words: regret, betterton regret, candidate considerable, regret support\",\"<b>Topic 36</b><br>Words: regret, regret unable, regrettable, unable\",\"<b>Topic 36</b><br>Words: regret, division ask, regret able, cannot must\",\"<b>Topic 36</b><br>Words: regret, regretted, spent happiest, regretthat\",\"<b>Topic 36</b><br>Words: regret, regrettable, regret regret, regretted\"],\"marker\":{\"color\":\"#56B4E9\"},\"mode\":\"lines\",\"name\":\"36_regret_regretted_hon_hon regretted\",\"x\":[\"1799-10-19T22:50:52.800000\",\"1815-05-22T01:50:46.153845\",\"1830-10-09T03:41:32.307692\",\"1846-02-26T05:32:18.461538\",\"1861-07-16T07:23:04.615384\",\"1876-12-03T09:13:50.769230\",\"1892-04-22T11:04:36.923076\",\"1907-09-11T12:55:23.076922\",\"1923-01-29T14:46:09.230769\",\"1938-06-18T16:36:55.384615\",\"1953-11-05T18:27:41.538461\",\"1969-03-25T20:18:27.692307\",\"1984-08-12T22:09:13.846153\"],\"y\":[17,17,6,15,7,18,4,12,5,9,2,10,13],\"type\":\"scatter\"},{\"hoverinfo\":\"text\",\"hovertext\":[\"<b>Topic 37</b><br>Words: mean, say mean, mean mean, spread disaffection\",\"<b>Topic 37</b><br>Words: mean, mean mean, mean ascertaining, say mean\",\"<b>Topic 37</b><br>Words: say gradation, gradation carried, carried upon, gradation\",\"<b>Topic 37</b><br>Words: mean, say mean, mean say, say\",\"<b>Topic 37</b><br>Words: add oven, precedent kind, oven feel, producing bound\",\"<b>Topic 37</b><br>Words: matthew say, mean, matthew, say\",\"<b>Topic 37</b><br>Words: mean, record arise, question statistical, statistical mean\",\"<b>Topic 37</b><br>Words: mean, say, mean form, mean brawl\",\"<b>Topic 37</b><br>Words: say need, merely say, need say, say\",\"<b>Topic 37</b><br>Words: mean, say, say mean, mean mean\",\"<b>Topic 37</b><br>Words: mean, say, mean say, say mean\",\"<b>Topic 37</b><br>Words: mean, say, say mean, mean mean\",\"<b>Topic 37</b><br>Words: mean, say, mean mean, say mean\"],\"marker\":{\"color\":\"#009E73\"},\"mode\":\"lines\",\"name\":\"37_mean_say_say mean_mean mean\",\"x\":[\"1799-10-19T22:50:52.800000\",\"1815-05-22T01:50:46.153845\",\"1830-10-09T03:41:32.307692\",\"1846-02-26T05:32:18.461538\",\"1861-07-16T07:23:04.615384\",\"1876-12-03T09:13:50.769230\",\"1892-04-22T11:04:36.923076\",\"1907-09-11T12:55:23.076922\",\"1923-01-29T14:46:09.230769\",\"1938-06-18T16:36:55.384615\",\"1953-11-05T18:27:41.538461\",\"1969-03-25T20:18:27.692307\",\"1984-08-12T22:09:13.846153\"],\"y\":[5,11,1,12,3,9,3,13,2,22,10,24,19],\"type\":\"scatter\"},{\"hoverinfo\":\"text\",\"hovertext\":[\"<b>Topic 38</b><br>Words: appointment, consultation, appointment necessary, appointment field\",\"<b>Topic 38</b><br>Words: appointment, consultation, continuance appointment, cast appointment\",\"<b>Topic 38</b><br>Words: appointment, consultation, appointment conferred, feeling completing\",\"<b>Topic 38</b><br>Words: appointment, consultation, haste, apprised vacancy\",\"<b>Topic 38</b><br>Words: appointment, consultation, zealous work, militated appointment\",\"<b>Topic 38</b><br>Words: appointment, consultation, former agent, civil assistant\",\"<b>Topic 38</b><br>Words: discretion filling, convenience detained, house urgent, urgent private\",\"<b>Topic 38</b><br>Words: appointment, consultation, appointment since, lynch appointment\",\"<b>Topic 38</b><br>Words: appointment, consultation, appointment receiver, consultation dealing\",\"<b>Topic 38</b><br>Words: consultation, appointment, agree, event word\",\"<b>Topic 38</b><br>Words: consultation, consultant, favour consultant, loading condition\",\"<b>Topic 38</b><br>Words: consultation, appointment, think consultation, consultant\",\"<b>Topic 38</b><br>Words: consultation, appointment, consultation paper, public consultation\"],\"marker\":{\"color\":\"#F0E442\"},\"mode\":\"lines\",\"name\":\"38_consultation_appointment_consultation...\",\"x\":[\"1799-10-19T22:50:52.800000\",\"1815-05-22T01:50:46.153845\",\"1830-10-09T03:41:32.307692\",\"1846-02-26T05:32:18.461538\",\"1861-07-16T07:23:04.615384\",\"1876-12-03T09:13:50.769230\",\"1892-04-22T11:04:36.923076\",\"1907-09-11T12:55:23.076922\",\"1923-01-29T14:46:09.230769\",\"1938-06-18T16:36:55.384615\",\"1953-11-05T18:27:41.538461\",\"1969-03-25T20:18:27.692307\",\"1984-08-12T22:09:13.846153\"],\"y\":[9,8,6,3,6,4,2,6,4,13,4,28,37],\"type\":\"scatter\"},{\"hoverinfo\":\"text\",\"hovertext\":[\"<b>Topic 39</b><br>Words: yes, course, certainly, atride\",\"<b>Topic 39</b><br>Words: yes yes, yes, course, certainly yes\",\"<b>Topic 39</b><br>Words: course, yes, yes yes, certainly\",\"<b>Topic 39</b><br>Words: yes, course, certainly certainly, certainly\",\"<b>Topic 39</b><br>Words: ago arrived, came spirit, dream resolution, experience course\",\"<b>Topic 39</b><br>Words: course, yes, yes yes, course would\",\"<b>Topic 39</b><br>Words: suggestion latter, consider due, course suggestion, question yes\",\"<b>Topic 39</b><br>Words: yes, yes yes, course, version\",\"<b>Topic 39</b><br>Words: without resumed, resumed occupation, assumption dy, course assumption\",\"<b>Topic 39</b><br>Words: course, course cover, course solution, sure provided\",\"<b>Topic 39</b><br>Words: course, yes, yes yes, helping development\",\"<b>Topic 39</b><br>Words: course, yes, yes yes, course numbered\",\"<b>Topic 39</b><br>Words: yes, yes yes, course, defined work\"],\"marker\":{\"color\":\"#D55E00\"},\"mode\":\"lines\",\"name\":\"39_yes_yes yes_course_certainly\",\"x\":[\"1799-10-19T22:50:52.800000\",\"1815-05-22T01:50:46.153845\",\"1830-10-09T03:41:32.307692\",\"1846-02-26T05:32:18.461538\",\"1861-07-16T07:23:04.615384\",\"1876-12-03T09:13:50.769230\",\"1892-04-22T11:04:36.923076\",\"1907-09-11T12:55:23.076922\",\"1923-01-29T14:46:09.230769\",\"1938-06-18T16:36:55.384615\",\"1953-11-05T18:27:41.538461\",\"1969-03-25T20:18:27.692307\",\"1984-08-12T22:09:13.846153\"],\"y\":[9,40,9,8,2,8,3,8,2,6,8,6,8],\"type\":\"scatter\"},{\"hoverinfo\":\"text\",\"hovertext\":[\"<b>Topic 40</b><br>Words: dine russia, declared majesty, engagement sort, russia company\",\"<b>Topic 40</b><br>Words: longer perhaps, gladstone wished, time longer, wished time\",\"<b>Topic 40</b><br>Words: gladstone, along baring, gladstonerepeated intention, notwithstanding confidence\",\"<b>Topic 40</b><br>Words: gladstone, gentleman gladstone, gladstone said, hon gladstone\",\"<b>Topic 40</b><br>Words: gladstone, gladstone said, hon gladstone, gladstone gladstone\",\"<b>Topic 40</b><br>Words: gladstone, lothian gladstone, hon gladstone, mid lothian\",\"<b>Topic 40</b><br>Words: gladstone, hon gladstone, secretary gladstone, courtenay warner\",\"<b>Topic 40</b><br>Words: gladstone, gladstone action, condemnation lord, lord gladstone\",\"<b>Topic 40</b><br>Words: gladstone, late gladstone, mind world, opposite chairman\",\"<b>Topic 40</b><br>Words: agree beaumont, beaumont, agree, gladstone\",\"<b>Topic 40</b><br>Words: gladstone, others applied, portrait gladstone, noticeable first\",\"<b>Topic 40</b><br>Words: gladstone, alderman bert, figure former, ever happen\",\"<b>Topic 40</b><br>Words: back gladstone, north referred, brent north, member brent\"],\"marker\":{\"color\":\"#0072B2\"},\"mode\":\"lines\",\"name\":\"40_gladstone_hon gladstone_gladstone sai...\",\"x\":[\"1799-10-19T22:50:52.800000\",\"1815-05-22T01:50:46.153845\",\"1830-10-09T03:41:32.307692\",\"1846-02-26T05:32:18.461538\",\"1861-07-16T07:23:04.615384\",\"1876-12-03T09:13:50.769230\",\"1892-04-22T11:04:36.923076\",\"1907-09-11T12:55:23.076922\",\"1923-01-29T14:46:09.230769\",\"1938-06-18T16:36:55.384615\",\"1953-11-05T18:27:41.538461\",\"1969-03-25T20:18:27.692307\",\"1984-08-12T22:09:13.846153\"],\"y\":[1,1,4,22,16,39,12,3,4,1,2,3,1],\"type\":\"scatter\"},{\"hoverinfo\":\"text\",\"hovertext\":[\"<b>Topic 41</b><br>Words: adjournment, adjourned, adjourn, house adjourn\",\"<b>Topic 41</b><br>Words: adjournment, adjourn, adjournment debate, adjourned\",\"<b>Topic 41</b><br>Words: adjournment, adjournment debate, interrupt business, preventing adjournment\",\"<b>Topic 41</b><br>Words: adjournment, adjournment debate, debate, move adjournment\",\"<b>Topic 41</b><br>Words: adjournment, adjournment debate, adjourned, debate\",\"<b>Topic 41</b><br>Words: adjournment, adjournment debate, debate, motion adjournment\",\"<b>Topic 41</b><br>Words: said inclined, inclined support, adjournment, adjournment debate\",\"<b>Topic 41</b><br>Words: adjournment, adjournment debate, adjournment think, monday july\",\"<b>Topic 41</b><br>Words: adjournment, adjournment debate, adjourn, debate\",\"<b>Topic 41</b><br>Words: adjourn, adjournment, adjournment debate, alternative probably\",\"<b>Topic 41</b><br>Words: adjournment, adjournment debate, satisfy pigheaded, debating adjournment\",\"<b>Topic 41</b><br>Words: adjournment, adjournment debate, debate, motion adjournment\"],\"marker\":{\"color\":\"#CC79A7\"},\"mode\":\"lines\",\"name\":\"41_adjournment_adjournment debate_debate...\",\"x\":[\"1799-10-19T22:50:52.800000\",\"1815-05-22T01:50:46.153845\",\"1830-10-09T03:41:32.307692\",\"1846-02-26T05:32:18.461538\",\"1861-07-16T07:23:04.615384\",\"1876-12-03T09:13:50.769230\",\"1892-04-22T11:04:36.923076\",\"1907-09-11T12:55:23.076922\",\"1938-06-18T16:36:55.384615\",\"1953-11-05T18:27:41.538461\",\"1969-03-25T20:18:27.692307\",\"1984-08-12T22:09:13.846153\"],\"y\":[11,12,2,12,8,16,2,3,19,4,2,12],\"type\":\"scatter\"},{\"hoverinfo\":\"text\",\"hovertext\":[\"<b>Topic 42</b><br>Words: view, object, object view, view view\",\"<b>Topic 42</b><br>Words: view, devised framed, view devised, framed present\",\"<b>Topic 42</b><br>Words: meaning affixed, view, adopt view, hon meaning\",\"<b>Topic 42</b><br>Words: view, object view, view take, object\",\"<b>Topic 42</b><br>Words: view, assuredly prove, prove failure, doubt entirely\",\"<b>Topic 42</b><br>Words: view, view view, show backbone, understood making\",\"<b>Topic 42</b><br>Words: quite accept, accept view, know quite, view\",\"<b>Topic 42</b><br>Words: view, view view, take, molteno view\",\"<b>Topic 42</b><br>Words: view, take view, concerning motion, eye blame\",\"<b>Topic 42</b><br>Words: view, element, show narrow, failed view\",\"<b>Topic 42</b><br>Words: view, disentitle way, view ventilated, ventilated issue\",\"<b>Topic 42</b><br>Words: view, view view, expressed still, outside able\",\"<b>Topic 42</b><br>Words: view, view view, dogmatic view, view closure\"],\"marker\":{\"color\":\"#E69F00\"},\"mode\":\"lines\",\"name\":\"42_view_view view_object view_object\",\"x\":[\"1799-10-19T22:50:52.800000\",\"1815-05-22T01:50:46.153845\",\"1830-10-09T03:41:32.307692\",\"1846-02-26T05:32:18.461538\",\"1861-07-16T07:23:04.615384\",\"1876-12-03T09:13:50.769230\",\"1892-04-22T11:04:36.923076\",\"1907-09-11T12:55:23.076922\",\"1923-01-29T14:46:09.230769\",\"1938-06-18T16:36:55.384615\",\"1953-11-05T18:27:41.538461\",\"1969-03-25T20:18:27.692307\",\"1984-08-12T22:09:13.846153\"],\"y\":[10,3,3,11,3,7,1,12,4,9,7,10,11],\"type\":\"scatter\"},{\"hoverinfo\":\"text\",\"hovertext\":[\"<b>Topic 43</b><br>Words: interruption, interruption interruption, interrupting whisper, disdain thing\",\"<b>Topic 43</b><br>Words: idleness, interruption, interruption interruption, many interruption\",\"<b>Topic 43</b><br>Words: interruption, interruption interruption, sorry interruption, interruption human\",\"<b>Topic 43</b><br>Words: interruption, interruption interruption, interruption viscount, interruption going\",\"<b>Topic 43</b><br>Words: interruption, interruption interruption, house interruptian, interruption carry\",\"<b>Topic 43</b><br>Words: interruption, interruption interruption, many interruption, interruption shall\",\"<b>Topic 43</b><br>Words: interruption, interruption interruption, interruption never, therefore interruption\",\"<b>Topic 43</b><br>Words: interruption, interruption interruption, position interruption, matter interruption\",\"<b>Topic 43</b><br>Words: interruption, interruption interruption, position interruption, round afterwards\"],\"marker\":{\"color\":\"#56B4E9\"},\"mode\":\"lines\",\"name\":\"43_interruption_interruption interruptio...\",\"x\":[\"1799-10-19T22:50:52.800000\",\"1846-02-26T05:32:18.461538\",\"1876-12-03T09:13:50.769230\",\"1907-09-11T12:55:23.076922\",\"1923-01-29T14:46:09.230769\",\"1938-06-18T16:36:55.384615\",\"1953-11-05T18:27:41.538461\",\"1969-03-25T20:18:27.692307\",\"1984-08-12T22:09:13.846153\"],\"y\":[1,1,3,5,14,13,7,18,24],\"type\":\"scatter\"},{\"hoverinfo\":\"text\",\"hovertext\":[\"<b>Topic 44</b><br>Words: resolution, resolution right, first following, resolution agreed\",\"<b>Topic 44</b><br>Words: resolution, resolution hon, original resolution, hon resolution\",\"<b>Topic 44</b><br>Words: resolution, resolution apprehended, resolution addition, however contained\",\"<b>Topic 44</b><br>Words: resolution, resolution right, wide narrow, maintained resolution\",\"<b>Topic 44</b><br>Words: resolution, included resolution, opinion relates, connected purpose\",\"<b>Topic 44</b><br>Words: resolution, resolution resolution, hon resolution, resolution right\",\"<b>Topic 44</b><br>Words: resolution, go mover, said antagonism, antagonism resolution\",\"<b>Topic 44</b><br>Words: resolution, resolution would, hon resolution, rather stressing\",\"<b>Topic 44</b><br>Words: resolution, divide resolution, considered resolution, stanley considered\",\"<b>Topic 44</b><br>Words: resolution, mosley hon, refers addition, addition improvement\",\"<b>Topic 44</b><br>Words: resolution, tuning part, proceeding remedy, resolution tabled\",\"<b>Topic 44</b><br>Words: resolution, week resolution, resolution ought, resolution resolution\"],\"marker\":{\"color\":\"#009E73\"},\"mode\":\"lines\",\"name\":\"44_resolution_resolution resolution_hon ...\",\"x\":[\"1799-10-19T22:50:52.800000\",\"1815-05-22T01:50:46.153845\",\"1830-10-09T03:41:32.307692\",\"1846-02-26T05:32:18.461538\",\"1861-07-16T07:23:04.615384\",\"1876-12-03T09:13:50.769230\",\"1892-04-22T11:04:36.923076\",\"1907-09-11T12:55:23.076922\",\"1923-01-29T14:46:09.230769\",\"1938-06-18T16:36:55.384615\",\"1969-03-25T20:18:27.692307\",\"1984-08-12T22:09:13.846153\"],\"y\":[20,8,4,7,4,11,2,8,2,3,2,2],\"type\":\"scatter\"},{\"hoverinfo\":\"text\",\"hovertext\":[\"<b>Topic 45</b><br>Words: grievance, redress, stating grievance, complaint\",\"<b>Topic 45</b><br>Words: grievance, redress, redress grievance, redress house\",\"<b>Topic 45</b><br>Words: grievance, view redressed, redressed grievance, exist attempt\",\"<b>Topic 45</b><br>Words: grievance, real grievance, grievance real, redress\",\"<b>Topic 45</b><br>Words: grievance, stroud grievance, grievance stroud, grievance except\",\"<b>Topic 45</b><br>Words: grievance, little grievance, real grievance, real\",\"<b>Topic 45</b><br>Words: grievance, great grievance, real grievance, traffic grievance\",\"<b>Topic 45</b><br>Words: grievance, real grievance, grievance real, real\",\"<b>Topic 45</b><br>Words: grievance, inside special, grievance power, time belittle\",\"<b>Topic 45</b><br>Words: grievance, grievance think, ventilated view, motto placed\",\"<b>Topic 45</b><br>Words: vane naturally, arises hon, naturally one, grievance persist\",\"<b>Topic 45</b><br>Words: grievance, employee, relates individual, hieroglyphic\",\"<b>Topic 45</b><br>Words: grievance, desperation telephone, widow affected, men desperation\"],\"marker\":{\"color\":\"#F0E442\"},\"mode\":\"lines\",\"name\":\"45_grievance_real grievance_redress_real\",\"x\":[\"1799-10-19T22:50:52.800000\",\"1815-05-22T01:50:46.153845\",\"1830-10-09T03:41:32.307692\",\"1846-02-26T05:32:18.461538\",\"1861-07-16T07:23:04.615384\",\"1876-12-03T09:13:50.769230\",\"1892-04-22T11:04:36.923076\",\"1907-09-11T12:55:23.076922\",\"1923-01-29T14:46:09.230769\",\"1938-06-18T16:36:55.384615\",\"1953-11-05T18:27:41.538461\",\"1969-03-25T20:18:27.692307\",\"1984-08-12T22:09:13.846153\"],\"y\":[10,10,3,9,3,10,8,7,1,3,1,2,2],\"type\":\"scatter\"},{\"hoverinfo\":\"text\",\"hovertext\":[\"<b>Topic 46</b><br>Words: reverting ancient, merely reverting, nothing merely, ancient system\",\"<b>Topic 46</b><br>Words: system, system system, interrupted harmony, centrifugal force\",\"<b>Topic 46</b><br>Words: portion many, obtained limited, many system, system obtained\",\"<b>Topic 46</b><br>Words: system, treacherous however, tolerable would, delusive treacherous\",\"<b>Topic 46</b><br>Words: system, however reconcile, without thesafeguard, thesafeguard proposed\",\"<b>Topic 46</b><br>Words: system, attempt already, made approximate, approximate system\",\"<b>Topic 46</b><br>Words: system, perfect, system system, heaven falling\",\"<b>Topic 46</b><br>Words: system, new system, undesirable everybody, gap system\",\"<b>Topic 46</b><br>Words: system, system work, whole system, present system\",\"<b>Topic 46</b><br>Words: system, gauleiter, big upheaval, two parallel\",\"<b>Topic 46</b><br>Words: system, fault industry, shown fault, reference system\",\"<b>Topic 46</b><br>Words: system, difficult alter, question comparability, unwise change\",\"<b>Topic 46</b><br>Words: system, totally bad, bad system, computer\"],\"marker\":{\"color\":\"#D55E00\"},\"mode\":\"lines\",\"name\":\"46_system_present system_system system_s...\",\"x\":[\"1799-10-19T22:50:52.800000\",\"1815-05-22T01:50:46.153845\",\"1830-10-09T03:41:32.307692\",\"1846-02-26T05:32:18.461538\",\"1861-07-16T07:23:04.615384\",\"1876-12-03T09:13:50.769230\",\"1892-04-22T11:04:36.923076\",\"1907-09-11T12:55:23.076922\",\"1923-01-29T14:46:09.230769\",\"1938-06-18T16:36:55.384615\",\"1953-11-05T18:27:41.538461\",\"1969-03-25T20:18:27.692307\",\"1984-08-12T22:09:13.846153\"],\"y\":[1,4,1,9,2,3,5,7,6,6,3,8,13],\"type\":\"scatter\"},{\"hoverinfo\":\"text\",\"hovertext\":[\"<b>Topic 47</b><br>Words: notice, motion, paper, motion production\",\"<b>Topic 47</b><br>Words: notice, flagrant attract, prevented exercising, right term\",\"<b>Topic 47</b><br>Words: notice, indulgent treatment, two saturday, auckland month\",\"<b>Topic 47</b><br>Words: notice, notice question, evening information, osborne already\",\"<b>Topic 47</b><br>Words: notice, notice taken, gave notice, notice question\",\"<b>Topic 47</b><br>Words: notice, notice question, give notice, must give\",\"<b>Topic 47</b><br>Words: notice, placarded throughout, published local, early indefinite\",\"<b>Topic 47</b><br>Words: notice, give notice, notice question, brought notice\",\"<b>Topic 47</b><br>Words: notice, notice several, shaw like, get notice\",\"<b>Topic 47</b><br>Words: notice, notice given, notice question, given\",\"<b>Topic 47</b><br>Words: notice, notice short, cancelled hour, sorry notice\",\"<b>Topic 47</b><br>Words: notice, done notice, obligatory declare, prior want\",\"<b>Topic 47</b><br>Words: notice, take part, notice given, rule need\"],\"marker\":{\"color\":\"#0072B2\"},\"mode\":\"lines\",\"name\":\"47_notice_notice question_notice given_g...\",\"x\":[\"1799-10-19T22:50:52.800000\",\"1815-05-22T01:50:46.153845\",\"1830-10-09T03:41:32.307692\",\"1846-02-26T05:32:18.461538\",\"1861-07-16T07:23:04.615384\",\"1876-12-03T09:13:50.769230\",\"1892-04-22T11:04:36.923076\",\"1907-09-11T12:55:23.076922\",\"1923-01-29T14:46:09.230769\",\"1938-06-18T16:36:55.384615\",\"1953-11-05T18:27:41.538461\",\"1969-03-25T20:18:27.692307\",\"1984-08-12T22:09:13.846153\"],\"y\":[10,3,2,3,5,8,4,10,2,7,2,5,5],\"type\":\"scatter\"},{\"hoverinfo\":\"text\",\"hovertext\":[\"<b>Topic 48</b><br>Words: division, division took, took place, notice various\",\"<b>Topic 48</b><br>Words: division, even venerated, controvert first, compare subsequent\",\"<b>Topic 48</b><br>Words: matter went, division certainly, went division, certainly support\",\"<b>Topic 48</b><br>Words: division, divide, divide divide, exciting\",\"<b>Topic 48</b><br>Words: division, member division, go division, division took\",\"<b>Topic 48</b><br>Words: division, division list, go division, east mayo\",\"<b>Topic 48</b><br>Words: division, division seading, motion send, grand select\",\"<b>Topic 48</b><br>Words: division, go division, divide, division lobby\",\"<b>Topic 48</b><br>Words: division, division example, division hon, five team\",\"<b>Topic 48</b><br>Words: division, lobby, divide, divide must\",\"<b>Topic 48</b><br>Words: division lobby, division, lobby, coax division\",\"<b>Topic 48</b><br>Words: division, far assurance, pursued division, tonight far\",\"<b>Topic 48</b><br>Words: coalition, tripartite sampling, part immediately, form coalition\"],\"marker\":{\"color\":\"#CC79A7\"},\"mode\":\"lines\",\"name\":\"48_division_divide_go division_lobby\",\"x\":[\"1799-10-19T22:50:52.800000\",\"1815-05-22T01:50:46.153845\",\"1830-10-09T03:41:32.307692\",\"1846-02-26T05:32:18.461538\",\"1861-07-16T07:23:04.615384\",\"1876-12-03T09:13:50.769230\",\"1892-04-22T11:04:36.923076\",\"1907-09-11T12:55:23.076922\",\"1923-01-29T14:46:09.230769\",\"1938-06-18T16:36:55.384615\",\"1953-11-05T18:27:41.538461\",\"1969-03-25T20:18:27.692307\",\"1984-08-12T22:09:13.846153\"],\"y\":[8,3,1,9,6,7,4,6,4,7,2,3,2],\"type\":\"scatter\"}],                        {\"template\":{\"data\":{\"barpolar\":[{\"marker\":{\"line\":{\"color\":\"white\",\"width\":0.5},\"pattern\":{\"fillmode\":\"overlay\",\"size\":10,\"solidity\":0.2}},\"type\":\"barpolar\"}],\"bar\":[{\"error_x\":{\"color\":\"rgb(36,36,36)\"},\"error_y\":{\"color\":\"rgb(36,36,36)\"},\"marker\":{\"line\":{\"color\":\"white\",\"width\":0.5},\"pattern\":{\"fillmode\":\"overlay\",\"size\":10,\"solidity\":0.2}},\"type\":\"bar\"}],\"carpet\":[{\"aaxis\":{\"endlinecolor\":\"rgb(36,36,36)\",\"gridcolor\":\"white\",\"linecolor\":\"white\",\"minorgridcolor\":\"white\",\"startlinecolor\":\"rgb(36,36,36)\"},\"baxis\":{\"endlinecolor\":\"rgb(36,36,36)\",\"gridcolor\":\"white\",\"linecolor\":\"white\",\"minorgridcolor\":\"white\",\"startlinecolor\":\"rgb(36,36,36)\"},\"type\":\"carpet\"}],\"choropleth\":[{\"colorbar\":{\"outlinewidth\":1,\"tickcolor\":\"rgb(36,36,36)\",\"ticks\":\"outside\"},\"type\":\"choropleth\"}],\"contourcarpet\":[{\"colorbar\":{\"outlinewidth\":1,\"tickcolor\":\"rgb(36,36,36)\",\"ticks\":\"outside\"},\"type\":\"contourcarpet\"}],\"contour\":[{\"colorbar\":{\"outlinewidth\":1,\"tickcolor\":\"rgb(36,36,36)\",\"ticks\":\"outside\"},\"colorscale\":[[0.0,\"#440154\"],[0.1111111111111111,\"#482878\"],[0.2222222222222222,\"#3e4989\"],[0.3333333333333333,\"#31688e\"],[0.4444444444444444,\"#26828e\"],[0.5555555555555556,\"#1f9e89\"],[0.6666666666666666,\"#35b779\"],[0.7777777777777778,\"#6ece58\"],[0.8888888888888888,\"#b5de2b\"],[1.0,\"#fde725\"]],\"type\":\"contour\"}],\"heatmapgl\":[{\"colorbar\":{\"outlinewidth\":1,\"tickcolor\":\"rgb(36,36,36)\",\"ticks\":\"outside\"},\"colorscale\":[[0.0,\"#440154\"],[0.1111111111111111,\"#482878\"],[0.2222222222222222,\"#3e4989\"],[0.3333333333333333,\"#31688e\"],[0.4444444444444444,\"#26828e\"],[0.5555555555555556,\"#1f9e89\"],[0.6666666666666666,\"#35b779\"],[0.7777777777777778,\"#6ece58\"],[0.8888888888888888,\"#b5de2b\"],[1.0,\"#fde725\"]],\"type\":\"heatmapgl\"}],\"heatmap\":[{\"colorbar\":{\"outlinewidth\":1,\"tickcolor\":\"rgb(36,36,36)\",\"ticks\":\"outside\"},\"colorscale\":[[0.0,\"#440154\"],[0.1111111111111111,\"#482878\"],[0.2222222222222222,\"#3e4989\"],[0.3333333333333333,\"#31688e\"],[0.4444444444444444,\"#26828e\"],[0.5555555555555556,\"#1f9e89\"],[0.6666666666666666,\"#35b779\"],[0.7777777777777778,\"#6ece58\"],[0.8888888888888888,\"#b5de2b\"],[1.0,\"#fde725\"]],\"type\":\"heatmap\"}],\"histogram2dcontour\":[{\"colorbar\":{\"outlinewidth\":1,\"tickcolor\":\"rgb(36,36,36)\",\"ticks\":\"outside\"},\"colorscale\":[[0.0,\"#440154\"],[0.1111111111111111,\"#482878\"],[0.2222222222222222,\"#3e4989\"],[0.3333333333333333,\"#31688e\"],[0.4444444444444444,\"#26828e\"],[0.5555555555555556,\"#1f9e89\"],[0.6666666666666666,\"#35b779\"],[0.7777777777777778,\"#6ece58\"],[0.8888888888888888,\"#b5de2b\"],[1.0,\"#fde725\"]],\"type\":\"histogram2dcontour\"}],\"histogram2d\":[{\"colorbar\":{\"outlinewidth\":1,\"tickcolor\":\"rgb(36,36,36)\",\"ticks\":\"outside\"},\"colorscale\":[[0.0,\"#440154\"],[0.1111111111111111,\"#482878\"],[0.2222222222222222,\"#3e4989\"],[0.3333333333333333,\"#31688e\"],[0.4444444444444444,\"#26828e\"],[0.5555555555555556,\"#1f9e89\"],[0.6666666666666666,\"#35b779\"],[0.7777777777777778,\"#6ece58\"],[0.8888888888888888,\"#b5de2b\"],[1.0,\"#fde725\"]],\"type\":\"histogram2d\"}],\"histogram\":[{\"marker\":{\"line\":{\"color\":\"white\",\"width\":0.6}},\"type\":\"histogram\"}],\"mesh3d\":[{\"colorbar\":{\"outlinewidth\":1,\"tickcolor\":\"rgb(36,36,36)\",\"ticks\":\"outside\"},\"type\":\"mesh3d\"}],\"parcoords\":[{\"line\":{\"colorbar\":{\"outlinewidth\":1,\"tickcolor\":\"rgb(36,36,36)\",\"ticks\":\"outside\"}},\"type\":\"parcoords\"}],\"pie\":[{\"automargin\":true,\"type\":\"pie\"}],\"scatter3d\":[{\"line\":{\"colorbar\":{\"outlinewidth\":1,\"tickcolor\":\"rgb(36,36,36)\",\"ticks\":\"outside\"}},\"marker\":{\"colorbar\":{\"outlinewidth\":1,\"tickcolor\":\"rgb(36,36,36)\",\"ticks\":\"outside\"}},\"type\":\"scatter3d\"}],\"scattercarpet\":[{\"marker\":{\"colorbar\":{\"outlinewidth\":1,\"tickcolor\":\"rgb(36,36,36)\",\"ticks\":\"outside\"}},\"type\":\"scattercarpet\"}],\"scattergeo\":[{\"marker\":{\"colorbar\":{\"outlinewidth\":1,\"tickcolor\":\"rgb(36,36,36)\",\"ticks\":\"outside\"}},\"type\":\"scattergeo\"}],\"scattergl\":[{\"marker\":{\"colorbar\":{\"outlinewidth\":1,\"tickcolor\":\"rgb(36,36,36)\",\"ticks\":\"outside\"}},\"type\":\"scattergl\"}],\"scattermapbox\":[{\"marker\":{\"colorbar\":{\"outlinewidth\":1,\"tickcolor\":\"rgb(36,36,36)\",\"ticks\":\"outside\"}},\"type\":\"scattermapbox\"}],\"scatterpolargl\":[{\"marker\":{\"colorbar\":{\"outlinewidth\":1,\"tickcolor\":\"rgb(36,36,36)\",\"ticks\":\"outside\"}},\"type\":\"scatterpolargl\"}],\"scatterpolar\":[{\"marker\":{\"colorbar\":{\"outlinewidth\":1,\"tickcolor\":\"rgb(36,36,36)\",\"ticks\":\"outside\"}},\"type\":\"scatterpolar\"}],\"scatter\":[{\"fillpattern\":{\"fillmode\":\"overlay\",\"size\":10,\"solidity\":0.2},\"type\":\"scatter\"}],\"scatterternary\":[{\"marker\":{\"colorbar\":{\"outlinewidth\":1,\"tickcolor\":\"rgb(36,36,36)\",\"ticks\":\"outside\"}},\"type\":\"scatterternary\"}],\"surface\":[{\"colorbar\":{\"outlinewidth\":1,\"tickcolor\":\"rgb(36,36,36)\",\"ticks\":\"outside\"},\"colorscale\":[[0.0,\"#440154\"],[0.1111111111111111,\"#482878\"],[0.2222222222222222,\"#3e4989\"],[0.3333333333333333,\"#31688e\"],[0.4444444444444444,\"#26828e\"],[0.5555555555555556,\"#1f9e89\"],[0.6666666666666666,\"#35b779\"],[0.7777777777777778,\"#6ece58\"],[0.8888888888888888,\"#b5de2b\"],[1.0,\"#fde725\"]],\"type\":\"surface\"}],\"table\":[{\"cells\":{\"fill\":{\"color\":\"rgb(237,237,237)\"},\"line\":{\"color\":\"white\"}},\"header\":{\"fill\":{\"color\":\"rgb(217,217,217)\"},\"line\":{\"color\":\"white\"}},\"type\":\"table\"}]},\"layout\":{\"annotationdefaults\":{\"arrowhead\":0,\"arrowwidth\":1},\"autotypenumbers\":\"strict\",\"coloraxis\":{\"colorbar\":{\"outlinewidth\":1,\"tickcolor\":\"rgb(36,36,36)\",\"ticks\":\"outside\"}},\"colorscale\":{\"diverging\":[[0.0,\"rgb(103,0,31)\"],[0.1,\"rgb(178,24,43)\"],[0.2,\"rgb(214,96,77)\"],[0.3,\"rgb(244,165,130)\"],[0.4,\"rgb(253,219,199)\"],[0.5,\"rgb(247,247,247)\"],[0.6,\"rgb(209,229,240)\"],[0.7,\"rgb(146,197,222)\"],[0.8,\"rgb(67,147,195)\"],[0.9,\"rgb(33,102,172)\"],[1.0,\"rgb(5,48,97)\"]],\"sequential\":[[0.0,\"#440154\"],[0.1111111111111111,\"#482878\"],[0.2222222222222222,\"#3e4989\"],[0.3333333333333333,\"#31688e\"],[0.4444444444444444,\"#26828e\"],[0.5555555555555556,\"#1f9e89\"],[0.6666666666666666,\"#35b779\"],[0.7777777777777778,\"#6ece58\"],[0.8888888888888888,\"#b5de2b\"],[1.0,\"#fde725\"]],\"sequentialminus\":[[0.0,\"#440154\"],[0.1111111111111111,\"#482878\"],[0.2222222222222222,\"#3e4989\"],[0.3333333333333333,\"#31688e\"],[0.4444444444444444,\"#26828e\"],[0.5555555555555556,\"#1f9e89\"],[0.6666666666666666,\"#35b779\"],[0.7777777777777778,\"#6ece58\"],[0.8888888888888888,\"#b5de2b\"],[1.0,\"#fde725\"]]},\"colorway\":[\"#1F77B4\",\"#FF7F0E\",\"#2CA02C\",\"#D62728\",\"#9467BD\",\"#8C564B\",\"#E377C2\",\"#7F7F7F\",\"#BCBD22\",\"#17BECF\"],\"font\":{\"color\":\"rgb(36,36,36)\"},\"geo\":{\"bgcolor\":\"white\",\"lakecolor\":\"white\",\"landcolor\":\"white\",\"showlakes\":true,\"showland\":true,\"subunitcolor\":\"white\"},\"hoverlabel\":{\"align\":\"left\"},\"hovermode\":\"closest\",\"mapbox\":{\"style\":\"light\"},\"paper_bgcolor\":\"white\",\"plot_bgcolor\":\"white\",\"polar\":{\"angularaxis\":{\"gridcolor\":\"rgb(232,232,232)\",\"linecolor\":\"rgb(36,36,36)\",\"showgrid\":false,\"showline\":true,\"ticks\":\"outside\"},\"bgcolor\":\"white\",\"radialaxis\":{\"gridcolor\":\"rgb(232,232,232)\",\"linecolor\":\"rgb(36,36,36)\",\"showgrid\":false,\"showline\":true,\"ticks\":\"outside\"}},\"scene\":{\"xaxis\":{\"backgroundcolor\":\"white\",\"gridcolor\":\"rgb(232,232,232)\",\"gridwidth\":2,\"linecolor\":\"rgb(36,36,36)\",\"showbackground\":true,\"showgrid\":false,\"showline\":true,\"ticks\":\"outside\",\"zeroline\":false,\"zerolinecolor\":\"rgb(36,36,36)\"},\"yaxis\":{\"backgroundcolor\":\"white\",\"gridcolor\":\"rgb(232,232,232)\",\"gridwidth\":2,\"linecolor\":\"rgb(36,36,36)\",\"showbackground\":true,\"showgrid\":false,\"showline\":true,\"ticks\":\"outside\",\"zeroline\":false,\"zerolinecolor\":\"rgb(36,36,36)\"},\"zaxis\":{\"backgroundcolor\":\"white\",\"gridcolor\":\"rgb(232,232,232)\",\"gridwidth\":2,\"linecolor\":\"rgb(36,36,36)\",\"showbackground\":true,\"showgrid\":false,\"showline\":true,\"ticks\":\"outside\",\"zeroline\":false,\"zerolinecolor\":\"rgb(36,36,36)\"}},\"shapedefaults\":{\"fillcolor\":\"black\",\"line\":{\"width\":0},\"opacity\":0.3},\"ternary\":{\"aaxis\":{\"gridcolor\":\"rgb(232,232,232)\",\"linecolor\":\"rgb(36,36,36)\",\"showgrid\":false,\"showline\":true,\"ticks\":\"outside\"},\"baxis\":{\"gridcolor\":\"rgb(232,232,232)\",\"linecolor\":\"rgb(36,36,36)\",\"showgrid\":false,\"showline\":true,\"ticks\":\"outside\"},\"bgcolor\":\"white\",\"caxis\":{\"gridcolor\":\"rgb(232,232,232)\",\"linecolor\":\"rgb(36,36,36)\",\"showgrid\":false,\"showline\":true,\"ticks\":\"outside\"}},\"title\":{\"x\":0.05},\"xaxis\":{\"automargin\":true,\"gridcolor\":\"rgb(232,232,232)\",\"linecolor\":\"rgb(36,36,36)\",\"showgrid\":false,\"showline\":true,\"ticks\":\"outside\",\"title\":{\"standoff\":15},\"zeroline\":false,\"zerolinecolor\":\"rgb(36,36,36)\"},\"yaxis\":{\"automargin\":true,\"gridcolor\":\"rgb(232,232,232)\",\"linecolor\":\"rgb(36,36,36)\",\"showgrid\":false,\"showline\":true,\"ticks\":\"outside\",\"title\":{\"standoff\":15},\"zeroline\":false,\"zerolinecolor\":\"rgb(36,36,36)\"}}},\"xaxis\":{\"showgrid\":true},\"yaxis\":{\"showgrid\":true,\"title\":{\"text\":\"Frequency\"}},\"title\":{\"font\":{\"size\":22,\"color\":\"Black\"},\"text\":\"<b>Topics over Time</b>\",\"y\":0.95,\"x\":0.4,\"xanchor\":\"center\",\"yanchor\":\"top\"},\"hoverlabel\":{\"font\":{\"size\":16,\"family\":\"Rockwell\"},\"bgcolor\":\"white\"},\"width\":1250,\"height\":450,\"legend\":{\"title\":{\"text\":\"<b>Global Topic Representation\"}}},                        {\"responsive\": true}                    ).then(function(){\n                            \nvar gd = document.getElementById('a2659186-c73d-4c90-ae6a-41158dfa3cd9');\nvar x = new MutationObserver(function (mutations, observer) {{\n        var display = window.getComputedStyle(gd).display;\n        if (!display || display === 'none') {{\n            console.log([gd, 'removed!']);\n            Plotly.purge(gd);\n            observer.disconnect();\n        }}\n}});\n\n// Listen for the removal of the full notebook cells\nvar notebookContainer = gd.closest('#notebook-container');\nif (notebookContainer) {{\n    x.observe(notebookContainer, {childList: true});\n}}\n\n// Listen for the clearing of the current output cell\nvar outputEl = gd.closest('.output');\nif (outputEl) {{\n    x.observe(outputEl, {childList: true});\n}}\n\n                        })                };                });            </script>        </div>"
     },
     "metadata": {},
     "output_type": "display_data"
    }
   ],
   "source": [
    "#topic_model.visualize_topics_over_time(topics_over_time, top_n_topics=5)\n",
    "topic_model.visualize_topics_over_time(topics_over_time)\n"
   ],
   "metadata": {
    "collapsed": false,
    "ExecuteTime": {
     "start_time": "2023-04-09T17:56:40.922305Z",
     "end_time": "2023-04-09T17:56:41.210431Z"
    }
   }
  },
  {
   "cell_type": "code",
   "execution_count": 55,
   "outputs": [
    {
     "data": {
      "application/vnd.plotly.v1+json": {
       "data": [
        {
         "hoverinfo": "text",
         "hovertext": [
          "<b>Topic 1</b><br>Words: hon, right, would, right hon",
          "<b>Topic 1</b><br>Words: hon, would, right, right hon",
          "<b>Topic 1</b><br>Words: hon, would, right, right hon",
          "<b>Topic 1</b><br>Words: hon, right, would, right hon",
          "<b>Topic 1</b><br>Words: hon, would, right, right hon",
          "<b>Topic 1</b><br>Words: hon, right hon, right, would",
          "<b>Topic 1</b><br>Words: hon, right, right hon, would",
          "<b>Topic 1</b><br>Words: hon, right, right hon, would",
          "<b>Topic 1</b><br>Words: hon, right, right hon, would",
          "<b>Topic 1</b><br>Words: hon, right, right hon, would",
          "<b>Topic 1</b><br>Words: hon, right, right hon, hon hon",
          "<b>Topic 1</b><br>Words: hon, right, right hon, hon hon",
          "<b>Topic 1</b><br>Words: hon, hon hon, right, right hon"
         ],
         "marker": {
          "color": "#E69F00"
         },
         "mode": "lines",
         "name": "1_hon_right_right hon_would",
         "x": [
          "1799-10-19T22:50:52.800000",
          "1815-05-22T01:50:46.153845",
          "1830-10-09T03:41:32.307692",
          "1846-02-26T05:32:18.461538",
          "1861-07-16T07:23:04.615384",
          "1876-12-03T09:13:50.769230",
          "1892-04-22T11:04:36.923076",
          "1907-09-11T12:55:23.076922",
          "1923-01-29T14:46:09.230769",
          "1938-06-18T16:36:55.384615",
          "1953-11-05T18:27:41.538461",
          "1969-03-25T20:18:27.692307",
          "1984-08-12T22:09:13.846153"
         ],
         "y": [
          824,
          814,
          470,
          927,
          474,
          1096,
          475,
          1056,
          531,
          1036,
          545,
          1073,
          945
         ],
         "type": "scatter"
        },
        {
         "hoverinfo": "text",
         "hovertext": [
          "<b>Topic 2</b><br>Words: army, officer, war, military",
          "<b>Topic 2</b><br>Words: child, ship, trade, officer",
          "<b>Topic 2</b><br>Words: education, ship, trade, school",
          "<b>Topic 2</b><br>Words: school, education, ship, would",
          "<b>Topic 2</b><br>Words: school, child, education, board",
          "<b>Topic 2</b><br>Words: school, education, admiralty, board",
          "<b>Topic 2</b><br>Words: school, education, board, child",
          "<b>Topic 2</b><br>Words: trade, school, war, education",
          "<b>Topic 2</b><br>Words: trade, unemployment, child, war",
          "<b>Topic 2</b><br>Words: school, trade, child, war",
          "<b>Topic 2</b><br>Words: child, trade, education, school",
          "<b>Topic 2</b><br>Words: child, school, education, union",
          "<b>Topic 2</b><br>Words: child, school, education, teacher"
         ],
         "marker": {
          "color": "#56B4E9"
         },
         "mode": "lines",
         "name": "2_school_child_education_trade",
         "x": [
          "1799-10-19T22:50:52.800000",
          "1815-05-22T01:50:46.153845",
          "1830-10-09T03:41:32.307692",
          "1846-02-26T05:32:18.461538",
          "1861-07-16T07:23:04.615384",
          "1876-12-03T09:13:50.769230",
          "1892-04-22T11:04:36.923076",
          "1907-09-11T12:55:23.076922",
          "1923-01-29T14:46:09.230769",
          "1938-06-18T16:36:55.384615",
          "1953-11-05T18:27:41.538461",
          "1969-03-25T20:18:27.692307",
          "1984-08-12T22:09:13.846153"
         ],
         "y": [
          839,
          490,
          341,
          881,
          515,
          741,
          529,
          1184,
          547,
          1048,
          537,
          979,
          1191
         ],
         "type": "scatter"
        }
       ],
       "layout": {
        "template": {
         "data": {
          "barpolar": [
           {
            "marker": {
             "line": {
              "color": "white",
              "width": 0.5
             },
             "pattern": {
              "fillmode": "overlay",
              "size": 10,
              "solidity": 0.2
             }
            },
            "type": "barpolar"
           }
          ],
          "bar": [
           {
            "error_x": {
             "color": "rgb(36,36,36)"
            },
            "error_y": {
             "color": "rgb(36,36,36)"
            },
            "marker": {
             "line": {
              "color": "white",
              "width": 0.5
             },
             "pattern": {
              "fillmode": "overlay",
              "size": 10,
              "solidity": 0.2
             }
            },
            "type": "bar"
           }
          ],
          "carpet": [
           {
            "aaxis": {
             "endlinecolor": "rgb(36,36,36)",
             "gridcolor": "white",
             "linecolor": "white",
             "minorgridcolor": "white",
             "startlinecolor": "rgb(36,36,36)"
            },
            "baxis": {
             "endlinecolor": "rgb(36,36,36)",
             "gridcolor": "white",
             "linecolor": "white",
             "minorgridcolor": "white",
             "startlinecolor": "rgb(36,36,36)"
            },
            "type": "carpet"
           }
          ],
          "choropleth": [
           {
            "colorbar": {
             "outlinewidth": 1,
             "tickcolor": "rgb(36,36,36)",
             "ticks": "outside"
            },
            "type": "choropleth"
           }
          ],
          "contourcarpet": [
           {
            "colorbar": {
             "outlinewidth": 1,
             "tickcolor": "rgb(36,36,36)",
             "ticks": "outside"
            },
            "type": "contourcarpet"
           }
          ],
          "contour": [
           {
            "colorbar": {
             "outlinewidth": 1,
             "tickcolor": "rgb(36,36,36)",
             "ticks": "outside"
            },
            "colorscale": [
             [
              0.0,
              "#440154"
             ],
             [
              0.1111111111111111,
              "#482878"
             ],
             [
              0.2222222222222222,
              "#3e4989"
             ],
             [
              0.3333333333333333,
              "#31688e"
             ],
             [
              0.4444444444444444,
              "#26828e"
             ],
             [
              0.5555555555555556,
              "#1f9e89"
             ],
             [
              0.6666666666666666,
              "#35b779"
             ],
             [
              0.7777777777777778,
              "#6ece58"
             ],
             [
              0.8888888888888888,
              "#b5de2b"
             ],
             [
              1.0,
              "#fde725"
             ]
            ],
            "type": "contour"
           }
          ],
          "heatmapgl": [
           {
            "colorbar": {
             "outlinewidth": 1,
             "tickcolor": "rgb(36,36,36)",
             "ticks": "outside"
            },
            "colorscale": [
             [
              0.0,
              "#440154"
             ],
             [
              0.1111111111111111,
              "#482878"
             ],
             [
              0.2222222222222222,
              "#3e4989"
             ],
             [
              0.3333333333333333,
              "#31688e"
             ],
             [
              0.4444444444444444,
              "#26828e"
             ],
             [
              0.5555555555555556,
              "#1f9e89"
             ],
             [
              0.6666666666666666,
              "#35b779"
             ],
             [
              0.7777777777777778,
              "#6ece58"
             ],
             [
              0.8888888888888888,
              "#b5de2b"
             ],
             [
              1.0,
              "#fde725"
             ]
            ],
            "type": "heatmapgl"
           }
          ],
          "heatmap": [
           {
            "colorbar": {
             "outlinewidth": 1,
             "tickcolor": "rgb(36,36,36)",
             "ticks": "outside"
            },
            "colorscale": [
             [
              0.0,
              "#440154"
             ],
             [
              0.1111111111111111,
              "#482878"
             ],
             [
              0.2222222222222222,
              "#3e4989"
             ],
             [
              0.3333333333333333,
              "#31688e"
             ],
             [
              0.4444444444444444,
              "#26828e"
             ],
             [
              0.5555555555555556,
              "#1f9e89"
             ],
             [
              0.6666666666666666,
              "#35b779"
             ],
             [
              0.7777777777777778,
              "#6ece58"
             ],
             [
              0.8888888888888888,
              "#b5de2b"
             ],
             [
              1.0,
              "#fde725"
             ]
            ],
            "type": "heatmap"
           }
          ],
          "histogram2dcontour": [
           {
            "colorbar": {
             "outlinewidth": 1,
             "tickcolor": "rgb(36,36,36)",
             "ticks": "outside"
            },
            "colorscale": [
             [
              0.0,
              "#440154"
             ],
             [
              0.1111111111111111,
              "#482878"
             ],
             [
              0.2222222222222222,
              "#3e4989"
             ],
             [
              0.3333333333333333,
              "#31688e"
             ],
             [
              0.4444444444444444,
              "#26828e"
             ],
             [
              0.5555555555555556,
              "#1f9e89"
             ],
             [
              0.6666666666666666,
              "#35b779"
             ],
             [
              0.7777777777777778,
              "#6ece58"
             ],
             [
              0.8888888888888888,
              "#b5de2b"
             ],
             [
              1.0,
              "#fde725"
             ]
            ],
            "type": "histogram2dcontour"
           }
          ],
          "histogram2d": [
           {
            "colorbar": {
             "outlinewidth": 1,
             "tickcolor": "rgb(36,36,36)",
             "ticks": "outside"
            },
            "colorscale": [
             [
              0.0,
              "#440154"
             ],
             [
              0.1111111111111111,
              "#482878"
             ],
             [
              0.2222222222222222,
              "#3e4989"
             ],
             [
              0.3333333333333333,
              "#31688e"
             ],
             [
              0.4444444444444444,
              "#26828e"
             ],
             [
              0.5555555555555556,
              "#1f9e89"
             ],
             [
              0.6666666666666666,
              "#35b779"
             ],
             [
              0.7777777777777778,
              "#6ece58"
             ],
             [
              0.8888888888888888,
              "#b5de2b"
             ],
             [
              1.0,
              "#fde725"
             ]
            ],
            "type": "histogram2d"
           }
          ],
          "histogram": [
           {
            "marker": {
             "line": {
              "color": "white",
              "width": 0.6
             }
            },
            "type": "histogram"
           }
          ],
          "mesh3d": [
           {
            "colorbar": {
             "outlinewidth": 1,
             "tickcolor": "rgb(36,36,36)",
             "ticks": "outside"
            },
            "type": "mesh3d"
           }
          ],
          "parcoords": [
           {
            "line": {
             "colorbar": {
              "outlinewidth": 1,
              "tickcolor": "rgb(36,36,36)",
              "ticks": "outside"
             }
            },
            "type": "parcoords"
           }
          ],
          "pie": [
           {
            "automargin": true,
            "type": "pie"
           }
          ],
          "scatter3d": [
           {
            "line": {
             "colorbar": {
              "outlinewidth": 1,
              "tickcolor": "rgb(36,36,36)",
              "ticks": "outside"
             }
            },
            "marker": {
             "colorbar": {
              "outlinewidth": 1,
              "tickcolor": "rgb(36,36,36)",
              "ticks": "outside"
             }
            },
            "type": "scatter3d"
           }
          ],
          "scattercarpet": [
           {
            "marker": {
             "colorbar": {
              "outlinewidth": 1,
              "tickcolor": "rgb(36,36,36)",
              "ticks": "outside"
             }
            },
            "type": "scattercarpet"
           }
          ],
          "scattergeo": [
           {
            "marker": {
             "colorbar": {
              "outlinewidth": 1,
              "tickcolor": "rgb(36,36,36)",
              "ticks": "outside"
             }
            },
            "type": "scattergeo"
           }
          ],
          "scattergl": [
           {
            "marker": {
             "colorbar": {
              "outlinewidth": 1,
              "tickcolor": "rgb(36,36,36)",
              "ticks": "outside"
             }
            },
            "type": "scattergl"
           }
          ],
          "scattermapbox": [
           {
            "marker": {
             "colorbar": {
              "outlinewidth": 1,
              "tickcolor": "rgb(36,36,36)",
              "ticks": "outside"
             }
            },
            "type": "scattermapbox"
           }
          ],
          "scatterpolargl": [
           {
            "marker": {
             "colorbar": {
              "outlinewidth": 1,
              "tickcolor": "rgb(36,36,36)",
              "ticks": "outside"
             }
            },
            "type": "scatterpolargl"
           }
          ],
          "scatterpolar": [
           {
            "marker": {
             "colorbar": {
              "outlinewidth": 1,
              "tickcolor": "rgb(36,36,36)",
              "ticks": "outside"
             }
            },
            "type": "scatterpolar"
           }
          ],
          "scatter": [
           {
            "fillpattern": {
             "fillmode": "overlay",
             "size": 10,
             "solidity": 0.2
            },
            "type": "scatter"
           }
          ],
          "scatterternary": [
           {
            "marker": {
             "colorbar": {
              "outlinewidth": 1,
              "tickcolor": "rgb(36,36,36)",
              "ticks": "outside"
             }
            },
            "type": "scatterternary"
           }
          ],
          "surface": [
           {
            "colorbar": {
             "outlinewidth": 1,
             "tickcolor": "rgb(36,36,36)",
             "ticks": "outside"
            },
            "colorscale": [
             [
              0.0,
              "#440154"
             ],
             [
              0.1111111111111111,
              "#482878"
             ],
             [
              0.2222222222222222,
              "#3e4989"
             ],
             [
              0.3333333333333333,
              "#31688e"
             ],
             [
              0.4444444444444444,
              "#26828e"
             ],
             [
              0.5555555555555556,
              "#1f9e89"
             ],
             [
              0.6666666666666666,
              "#35b779"
             ],
             [
              0.7777777777777778,
              "#6ece58"
             ],
             [
              0.8888888888888888,
              "#b5de2b"
             ],
             [
              1.0,
              "#fde725"
             ]
            ],
            "type": "surface"
           }
          ],
          "table": [
           {
            "cells": {
             "fill": {
              "color": "rgb(237,237,237)"
             },
             "line": {
              "color": "white"
             }
            },
            "header": {
             "fill": {
              "color": "rgb(217,217,217)"
             },
             "line": {
              "color": "white"
             }
            },
            "type": "table"
           }
          ]
         },
         "layout": {
          "annotationdefaults": {
           "arrowhead": 0,
           "arrowwidth": 1
          },
          "autotypenumbers": "strict",
          "coloraxis": {
           "colorbar": {
            "outlinewidth": 1,
            "tickcolor": "rgb(36,36,36)",
            "ticks": "outside"
           }
          },
          "colorscale": {
           "diverging": [
            [
             0.0,
             "rgb(103,0,31)"
            ],
            [
             0.1,
             "rgb(178,24,43)"
            ],
            [
             0.2,
             "rgb(214,96,77)"
            ],
            [
             0.3,
             "rgb(244,165,130)"
            ],
            [
             0.4,
             "rgb(253,219,199)"
            ],
            [
             0.5,
             "rgb(247,247,247)"
            ],
            [
             0.6,
             "rgb(209,229,240)"
            ],
            [
             0.7,
             "rgb(146,197,222)"
            ],
            [
             0.8,
             "rgb(67,147,195)"
            ],
            [
             0.9,
             "rgb(33,102,172)"
            ],
            [
             1.0,
             "rgb(5,48,97)"
            ]
           ],
           "sequential": [
            [
             0.0,
             "#440154"
            ],
            [
             0.1111111111111111,
             "#482878"
            ],
            [
             0.2222222222222222,
             "#3e4989"
            ],
            [
             0.3333333333333333,
             "#31688e"
            ],
            [
             0.4444444444444444,
             "#26828e"
            ],
            [
             0.5555555555555556,
             "#1f9e89"
            ],
            [
             0.6666666666666666,
             "#35b779"
            ],
            [
             0.7777777777777778,
             "#6ece58"
            ],
            [
             0.8888888888888888,
             "#b5de2b"
            ],
            [
             1.0,
             "#fde725"
            ]
           ],
           "sequentialminus": [
            [
             0.0,
             "#440154"
            ],
            [
             0.1111111111111111,
             "#482878"
            ],
            [
             0.2222222222222222,
             "#3e4989"
            ],
            [
             0.3333333333333333,
             "#31688e"
            ],
            [
             0.4444444444444444,
             "#26828e"
            ],
            [
             0.5555555555555556,
             "#1f9e89"
            ],
            [
             0.6666666666666666,
             "#35b779"
            ],
            [
             0.7777777777777778,
             "#6ece58"
            ],
            [
             0.8888888888888888,
             "#b5de2b"
            ],
            [
             1.0,
             "#fde725"
            ]
           ]
          },
          "colorway": [
           "#1F77B4",
           "#FF7F0E",
           "#2CA02C",
           "#D62728",
           "#9467BD",
           "#8C564B",
           "#E377C2",
           "#7F7F7F",
           "#BCBD22",
           "#17BECF"
          ],
          "font": {
           "color": "rgb(36,36,36)"
          },
          "geo": {
           "bgcolor": "white",
           "lakecolor": "white",
           "landcolor": "white",
           "showlakes": true,
           "showland": true,
           "subunitcolor": "white"
          },
          "hoverlabel": {
           "align": "left"
          },
          "hovermode": "closest",
          "mapbox": {
           "style": "light"
          },
          "paper_bgcolor": "white",
          "plot_bgcolor": "white",
          "polar": {
           "angularaxis": {
            "gridcolor": "rgb(232,232,232)",
            "linecolor": "rgb(36,36,36)",
            "showgrid": false,
            "showline": true,
            "ticks": "outside"
           },
           "bgcolor": "white",
           "radialaxis": {
            "gridcolor": "rgb(232,232,232)",
            "linecolor": "rgb(36,36,36)",
            "showgrid": false,
            "showline": true,
            "ticks": "outside"
           }
          },
          "scene": {
           "xaxis": {
            "backgroundcolor": "white",
            "gridcolor": "rgb(232,232,232)",
            "gridwidth": 2,
            "linecolor": "rgb(36,36,36)",
            "showbackground": true,
            "showgrid": false,
            "showline": true,
            "ticks": "outside",
            "zeroline": false,
            "zerolinecolor": "rgb(36,36,36)"
           },
           "yaxis": {
            "backgroundcolor": "white",
            "gridcolor": "rgb(232,232,232)",
            "gridwidth": 2,
            "linecolor": "rgb(36,36,36)",
            "showbackground": true,
            "showgrid": false,
            "showline": true,
            "ticks": "outside",
            "zeroline": false,
            "zerolinecolor": "rgb(36,36,36)"
           },
           "zaxis": {
            "backgroundcolor": "white",
            "gridcolor": "rgb(232,232,232)",
            "gridwidth": 2,
            "linecolor": "rgb(36,36,36)",
            "showbackground": true,
            "showgrid": false,
            "showline": true,
            "ticks": "outside",
            "zeroline": false,
            "zerolinecolor": "rgb(36,36,36)"
           }
          },
          "shapedefaults": {
           "fillcolor": "black",
           "line": {
            "width": 0
           },
           "opacity": 0.3
          },
          "ternary": {
           "aaxis": {
            "gridcolor": "rgb(232,232,232)",
            "linecolor": "rgb(36,36,36)",
            "showgrid": false,
            "showline": true,
            "ticks": "outside"
           },
           "baxis": {
            "gridcolor": "rgb(232,232,232)",
            "linecolor": "rgb(36,36,36)",
            "showgrid": false,
            "showline": true,
            "ticks": "outside"
           },
           "bgcolor": "white",
           "caxis": {
            "gridcolor": "rgb(232,232,232)",
            "linecolor": "rgb(36,36,36)",
            "showgrid": false,
            "showline": true,
            "ticks": "outside"
           }
          },
          "title": {
           "x": 0.05
          },
          "xaxis": {
           "automargin": true,
           "gridcolor": "rgb(232,232,232)",
           "linecolor": "rgb(36,36,36)",
           "showgrid": false,
           "showline": true,
           "ticks": "outside",
           "title": {
            "standoff": 15
           },
           "zeroline": false,
           "zerolinecolor": "rgb(36,36,36)"
          },
          "yaxis": {
           "automargin": true,
           "gridcolor": "rgb(232,232,232)",
           "linecolor": "rgb(36,36,36)",
           "showgrid": false,
           "showline": true,
           "ticks": "outside",
           "title": {
            "standoff": 15
           },
           "zeroline": false,
           "zerolinecolor": "rgb(36,36,36)"
          }
         }
        },
        "xaxis": {
         "showgrid": true
        },
        "yaxis": {
         "showgrid": true,
         "title": {
          "text": "Frequency"
         }
        },
        "title": {
         "font": {
          "size": 22,
          "color": "Black"
         },
         "text": "<b>Topics over Time</b>",
         "y": 0.95,
         "x": 0.4,
         "xanchor": "center",
         "yanchor": "top"
        },
        "hoverlabel": {
         "font": {
          "size": 16,
          "family": "Rockwell"
         },
         "bgcolor": "white"
        },
        "width": 1250,
        "height": 450,
        "legend": {
         "title": {
          "text": "<b>Global Topic Representation"
         }
        }
       },
       "config": {
        "plotlyServerURL": "https://plot.ly"
       }
      },
      "text/html": "<div>                            <div id=\"5fae2e01-6dac-4829-b7f4-4e2febcdb0e8\" class=\"plotly-graph-div\" style=\"height:450px; width:1250px;\"></div>            <script type=\"text/javascript\">                require([\"plotly\"], function(Plotly) {                    window.PLOTLYENV=window.PLOTLYENV || {};                                    if (document.getElementById(\"5fae2e01-6dac-4829-b7f4-4e2febcdb0e8\")) {                    Plotly.newPlot(                        \"5fae2e01-6dac-4829-b7f4-4e2febcdb0e8\",                        [{\"hoverinfo\":\"text\",\"hovertext\":[\"<b>Topic 1</b><br>Words: hon, right, would, right hon\",\"<b>Topic 1</b><br>Words: hon, would, right, right hon\",\"<b>Topic 1</b><br>Words: hon, would, right, right hon\",\"<b>Topic 1</b><br>Words: hon, right, would, right hon\",\"<b>Topic 1</b><br>Words: hon, would, right, right hon\",\"<b>Topic 1</b><br>Words: hon, right hon, right, would\",\"<b>Topic 1</b><br>Words: hon, right, right hon, would\",\"<b>Topic 1</b><br>Words: hon, right, right hon, would\",\"<b>Topic 1</b><br>Words: hon, right, right hon, would\",\"<b>Topic 1</b><br>Words: hon, right, right hon, would\",\"<b>Topic 1</b><br>Words: hon, right, right hon, hon hon\",\"<b>Topic 1</b><br>Words: hon, right, right hon, hon hon\",\"<b>Topic 1</b><br>Words: hon, hon hon, right, right hon\"],\"marker\":{\"color\":\"#E69F00\"},\"mode\":\"lines\",\"name\":\"1_hon_right_right hon_would\",\"x\":[\"1799-10-19T22:50:52.800000\",\"1815-05-22T01:50:46.153845\",\"1830-10-09T03:41:32.307692\",\"1846-02-26T05:32:18.461538\",\"1861-07-16T07:23:04.615384\",\"1876-12-03T09:13:50.769230\",\"1892-04-22T11:04:36.923076\",\"1907-09-11T12:55:23.076922\",\"1923-01-29T14:46:09.230769\",\"1938-06-18T16:36:55.384615\",\"1953-11-05T18:27:41.538461\",\"1969-03-25T20:18:27.692307\",\"1984-08-12T22:09:13.846153\"],\"y\":[824,814,470,927,474,1096,475,1056,531,1036,545,1073,945],\"type\":\"scatter\"},{\"hoverinfo\":\"text\",\"hovertext\":[\"<b>Topic 2</b><br>Words: army, officer, war, military\",\"<b>Topic 2</b><br>Words: child, ship, trade, officer\",\"<b>Topic 2</b><br>Words: education, ship, trade, school\",\"<b>Topic 2</b><br>Words: school, education, ship, would\",\"<b>Topic 2</b><br>Words: school, child, education, board\",\"<b>Topic 2</b><br>Words: school, education, admiralty, board\",\"<b>Topic 2</b><br>Words: school, education, board, child\",\"<b>Topic 2</b><br>Words: trade, school, war, education\",\"<b>Topic 2</b><br>Words: trade, unemployment, child, war\",\"<b>Topic 2</b><br>Words: school, trade, child, war\",\"<b>Topic 2</b><br>Words: child, trade, education, school\",\"<b>Topic 2</b><br>Words: child, school, education, union\",\"<b>Topic 2</b><br>Words: child, school, education, teacher\"],\"marker\":{\"color\":\"#56B4E9\"},\"mode\":\"lines\",\"name\":\"2_school_child_education_trade\",\"x\":[\"1799-10-19T22:50:52.800000\",\"1815-05-22T01:50:46.153845\",\"1830-10-09T03:41:32.307692\",\"1846-02-26T05:32:18.461538\",\"1861-07-16T07:23:04.615384\",\"1876-12-03T09:13:50.769230\",\"1892-04-22T11:04:36.923076\",\"1907-09-11T12:55:23.076922\",\"1923-01-29T14:46:09.230769\",\"1938-06-18T16:36:55.384615\",\"1953-11-05T18:27:41.538461\",\"1969-03-25T20:18:27.692307\",\"1984-08-12T22:09:13.846153\"],\"y\":[839,490,341,881,515,741,529,1184,547,1048,537,979,1191],\"type\":\"scatter\"}],                        {\"template\":{\"data\":{\"barpolar\":[{\"marker\":{\"line\":{\"color\":\"white\",\"width\":0.5},\"pattern\":{\"fillmode\":\"overlay\",\"size\":10,\"solidity\":0.2}},\"type\":\"barpolar\"}],\"bar\":[{\"error_x\":{\"color\":\"rgb(36,36,36)\"},\"error_y\":{\"color\":\"rgb(36,36,36)\"},\"marker\":{\"line\":{\"color\":\"white\",\"width\":0.5},\"pattern\":{\"fillmode\":\"overlay\",\"size\":10,\"solidity\":0.2}},\"type\":\"bar\"}],\"carpet\":[{\"aaxis\":{\"endlinecolor\":\"rgb(36,36,36)\",\"gridcolor\":\"white\",\"linecolor\":\"white\",\"minorgridcolor\":\"white\",\"startlinecolor\":\"rgb(36,36,36)\"},\"baxis\":{\"endlinecolor\":\"rgb(36,36,36)\",\"gridcolor\":\"white\",\"linecolor\":\"white\",\"minorgridcolor\":\"white\",\"startlinecolor\":\"rgb(36,36,36)\"},\"type\":\"carpet\"}],\"choropleth\":[{\"colorbar\":{\"outlinewidth\":1,\"tickcolor\":\"rgb(36,36,36)\",\"ticks\":\"outside\"},\"type\":\"choropleth\"}],\"contourcarpet\":[{\"colorbar\":{\"outlinewidth\":1,\"tickcolor\":\"rgb(36,36,36)\",\"ticks\":\"outside\"},\"type\":\"contourcarpet\"}],\"contour\":[{\"colorbar\":{\"outlinewidth\":1,\"tickcolor\":\"rgb(36,36,36)\",\"ticks\":\"outside\"},\"colorscale\":[[0.0,\"#440154\"],[0.1111111111111111,\"#482878\"],[0.2222222222222222,\"#3e4989\"],[0.3333333333333333,\"#31688e\"],[0.4444444444444444,\"#26828e\"],[0.5555555555555556,\"#1f9e89\"],[0.6666666666666666,\"#35b779\"],[0.7777777777777778,\"#6ece58\"],[0.8888888888888888,\"#b5de2b\"],[1.0,\"#fde725\"]],\"type\":\"contour\"}],\"heatmapgl\":[{\"colorbar\":{\"outlinewidth\":1,\"tickcolor\":\"rgb(36,36,36)\",\"ticks\":\"outside\"},\"colorscale\":[[0.0,\"#440154\"],[0.1111111111111111,\"#482878\"],[0.2222222222222222,\"#3e4989\"],[0.3333333333333333,\"#31688e\"],[0.4444444444444444,\"#26828e\"],[0.5555555555555556,\"#1f9e89\"],[0.6666666666666666,\"#35b779\"],[0.7777777777777778,\"#6ece58\"],[0.8888888888888888,\"#b5de2b\"],[1.0,\"#fde725\"]],\"type\":\"heatmapgl\"}],\"heatmap\":[{\"colorbar\":{\"outlinewidth\":1,\"tickcolor\":\"rgb(36,36,36)\",\"ticks\":\"outside\"},\"colorscale\":[[0.0,\"#440154\"],[0.1111111111111111,\"#482878\"],[0.2222222222222222,\"#3e4989\"],[0.3333333333333333,\"#31688e\"],[0.4444444444444444,\"#26828e\"],[0.5555555555555556,\"#1f9e89\"],[0.6666666666666666,\"#35b779\"],[0.7777777777777778,\"#6ece58\"],[0.8888888888888888,\"#b5de2b\"],[1.0,\"#fde725\"]],\"type\":\"heatmap\"}],\"histogram2dcontour\":[{\"colorbar\":{\"outlinewidth\":1,\"tickcolor\":\"rgb(36,36,36)\",\"ticks\":\"outside\"},\"colorscale\":[[0.0,\"#440154\"],[0.1111111111111111,\"#482878\"],[0.2222222222222222,\"#3e4989\"],[0.3333333333333333,\"#31688e\"],[0.4444444444444444,\"#26828e\"],[0.5555555555555556,\"#1f9e89\"],[0.6666666666666666,\"#35b779\"],[0.7777777777777778,\"#6ece58\"],[0.8888888888888888,\"#b5de2b\"],[1.0,\"#fde725\"]],\"type\":\"histogram2dcontour\"}],\"histogram2d\":[{\"colorbar\":{\"outlinewidth\":1,\"tickcolor\":\"rgb(36,36,36)\",\"ticks\":\"outside\"},\"colorscale\":[[0.0,\"#440154\"],[0.1111111111111111,\"#482878\"],[0.2222222222222222,\"#3e4989\"],[0.3333333333333333,\"#31688e\"],[0.4444444444444444,\"#26828e\"],[0.5555555555555556,\"#1f9e89\"],[0.6666666666666666,\"#35b779\"],[0.7777777777777778,\"#6ece58\"],[0.8888888888888888,\"#b5de2b\"],[1.0,\"#fde725\"]],\"type\":\"histogram2d\"}],\"histogram\":[{\"marker\":{\"line\":{\"color\":\"white\",\"width\":0.6}},\"type\":\"histogram\"}],\"mesh3d\":[{\"colorbar\":{\"outlinewidth\":1,\"tickcolor\":\"rgb(36,36,36)\",\"ticks\":\"outside\"},\"type\":\"mesh3d\"}],\"parcoords\":[{\"line\":{\"colorbar\":{\"outlinewidth\":1,\"tickcolor\":\"rgb(36,36,36)\",\"ticks\":\"outside\"}},\"type\":\"parcoords\"}],\"pie\":[{\"automargin\":true,\"type\":\"pie\"}],\"scatter3d\":[{\"line\":{\"colorbar\":{\"outlinewidth\":1,\"tickcolor\":\"rgb(36,36,36)\",\"ticks\":\"outside\"}},\"marker\":{\"colorbar\":{\"outlinewidth\":1,\"tickcolor\":\"rgb(36,36,36)\",\"ticks\":\"outside\"}},\"type\":\"scatter3d\"}],\"scattercarpet\":[{\"marker\":{\"colorbar\":{\"outlinewidth\":1,\"tickcolor\":\"rgb(36,36,36)\",\"ticks\":\"outside\"}},\"type\":\"scattercarpet\"}],\"scattergeo\":[{\"marker\":{\"colorbar\":{\"outlinewidth\":1,\"tickcolor\":\"rgb(36,36,36)\",\"ticks\":\"outside\"}},\"type\":\"scattergeo\"}],\"scattergl\":[{\"marker\":{\"colorbar\":{\"outlinewidth\":1,\"tickcolor\":\"rgb(36,36,36)\",\"ticks\":\"outside\"}},\"type\":\"scattergl\"}],\"scattermapbox\":[{\"marker\":{\"colorbar\":{\"outlinewidth\":1,\"tickcolor\":\"rgb(36,36,36)\",\"ticks\":\"outside\"}},\"type\":\"scattermapbox\"}],\"scatterpolargl\":[{\"marker\":{\"colorbar\":{\"outlinewidth\":1,\"tickcolor\":\"rgb(36,36,36)\",\"ticks\":\"outside\"}},\"type\":\"scatterpolargl\"}],\"scatterpolar\":[{\"marker\":{\"colorbar\":{\"outlinewidth\":1,\"tickcolor\":\"rgb(36,36,36)\",\"ticks\":\"outside\"}},\"type\":\"scatterpolar\"}],\"scatter\":[{\"fillpattern\":{\"fillmode\":\"overlay\",\"size\":10,\"solidity\":0.2},\"type\":\"scatter\"}],\"scatterternary\":[{\"marker\":{\"colorbar\":{\"outlinewidth\":1,\"tickcolor\":\"rgb(36,36,36)\",\"ticks\":\"outside\"}},\"type\":\"scatterternary\"}],\"surface\":[{\"colorbar\":{\"outlinewidth\":1,\"tickcolor\":\"rgb(36,36,36)\",\"ticks\":\"outside\"},\"colorscale\":[[0.0,\"#440154\"],[0.1111111111111111,\"#482878\"],[0.2222222222222222,\"#3e4989\"],[0.3333333333333333,\"#31688e\"],[0.4444444444444444,\"#26828e\"],[0.5555555555555556,\"#1f9e89\"],[0.6666666666666666,\"#35b779\"],[0.7777777777777778,\"#6ece58\"],[0.8888888888888888,\"#b5de2b\"],[1.0,\"#fde725\"]],\"type\":\"surface\"}],\"table\":[{\"cells\":{\"fill\":{\"color\":\"rgb(237,237,237)\"},\"line\":{\"color\":\"white\"}},\"header\":{\"fill\":{\"color\":\"rgb(217,217,217)\"},\"line\":{\"color\":\"white\"}},\"type\":\"table\"}]},\"layout\":{\"annotationdefaults\":{\"arrowhead\":0,\"arrowwidth\":1},\"autotypenumbers\":\"strict\",\"coloraxis\":{\"colorbar\":{\"outlinewidth\":1,\"tickcolor\":\"rgb(36,36,36)\",\"ticks\":\"outside\"}},\"colorscale\":{\"diverging\":[[0.0,\"rgb(103,0,31)\"],[0.1,\"rgb(178,24,43)\"],[0.2,\"rgb(214,96,77)\"],[0.3,\"rgb(244,165,130)\"],[0.4,\"rgb(253,219,199)\"],[0.5,\"rgb(247,247,247)\"],[0.6,\"rgb(209,229,240)\"],[0.7,\"rgb(146,197,222)\"],[0.8,\"rgb(67,147,195)\"],[0.9,\"rgb(33,102,172)\"],[1.0,\"rgb(5,48,97)\"]],\"sequential\":[[0.0,\"#440154\"],[0.1111111111111111,\"#482878\"],[0.2222222222222222,\"#3e4989\"],[0.3333333333333333,\"#31688e\"],[0.4444444444444444,\"#26828e\"],[0.5555555555555556,\"#1f9e89\"],[0.6666666666666666,\"#35b779\"],[0.7777777777777778,\"#6ece58\"],[0.8888888888888888,\"#b5de2b\"],[1.0,\"#fde725\"]],\"sequentialminus\":[[0.0,\"#440154\"],[0.1111111111111111,\"#482878\"],[0.2222222222222222,\"#3e4989\"],[0.3333333333333333,\"#31688e\"],[0.4444444444444444,\"#26828e\"],[0.5555555555555556,\"#1f9e89\"],[0.6666666666666666,\"#35b779\"],[0.7777777777777778,\"#6ece58\"],[0.8888888888888888,\"#b5de2b\"],[1.0,\"#fde725\"]]},\"colorway\":[\"#1F77B4\",\"#FF7F0E\",\"#2CA02C\",\"#D62728\",\"#9467BD\",\"#8C564B\",\"#E377C2\",\"#7F7F7F\",\"#BCBD22\",\"#17BECF\"],\"font\":{\"color\":\"rgb(36,36,36)\"},\"geo\":{\"bgcolor\":\"white\",\"lakecolor\":\"white\",\"landcolor\":\"white\",\"showlakes\":true,\"showland\":true,\"subunitcolor\":\"white\"},\"hoverlabel\":{\"align\":\"left\"},\"hovermode\":\"closest\",\"mapbox\":{\"style\":\"light\"},\"paper_bgcolor\":\"white\",\"plot_bgcolor\":\"white\",\"polar\":{\"angularaxis\":{\"gridcolor\":\"rgb(232,232,232)\",\"linecolor\":\"rgb(36,36,36)\",\"showgrid\":false,\"showline\":true,\"ticks\":\"outside\"},\"bgcolor\":\"white\",\"radialaxis\":{\"gridcolor\":\"rgb(232,232,232)\",\"linecolor\":\"rgb(36,36,36)\",\"showgrid\":false,\"showline\":true,\"ticks\":\"outside\"}},\"scene\":{\"xaxis\":{\"backgroundcolor\":\"white\",\"gridcolor\":\"rgb(232,232,232)\",\"gridwidth\":2,\"linecolor\":\"rgb(36,36,36)\",\"showbackground\":true,\"showgrid\":false,\"showline\":true,\"ticks\":\"outside\",\"zeroline\":false,\"zerolinecolor\":\"rgb(36,36,36)\"},\"yaxis\":{\"backgroundcolor\":\"white\",\"gridcolor\":\"rgb(232,232,232)\",\"gridwidth\":2,\"linecolor\":\"rgb(36,36,36)\",\"showbackground\":true,\"showgrid\":false,\"showline\":true,\"ticks\":\"outside\",\"zeroline\":false,\"zerolinecolor\":\"rgb(36,36,36)\"},\"zaxis\":{\"backgroundcolor\":\"white\",\"gridcolor\":\"rgb(232,232,232)\",\"gridwidth\":2,\"linecolor\":\"rgb(36,36,36)\",\"showbackground\":true,\"showgrid\":false,\"showline\":true,\"ticks\":\"outside\",\"zeroline\":false,\"zerolinecolor\":\"rgb(36,36,36)\"}},\"shapedefaults\":{\"fillcolor\":\"black\",\"line\":{\"width\":0},\"opacity\":0.3},\"ternary\":{\"aaxis\":{\"gridcolor\":\"rgb(232,232,232)\",\"linecolor\":\"rgb(36,36,36)\",\"showgrid\":false,\"showline\":true,\"ticks\":\"outside\"},\"baxis\":{\"gridcolor\":\"rgb(232,232,232)\",\"linecolor\":\"rgb(36,36,36)\",\"showgrid\":false,\"showline\":true,\"ticks\":\"outside\"},\"bgcolor\":\"white\",\"caxis\":{\"gridcolor\":\"rgb(232,232,232)\",\"linecolor\":\"rgb(36,36,36)\",\"showgrid\":false,\"showline\":true,\"ticks\":\"outside\"}},\"title\":{\"x\":0.05},\"xaxis\":{\"automargin\":true,\"gridcolor\":\"rgb(232,232,232)\",\"linecolor\":\"rgb(36,36,36)\",\"showgrid\":false,\"showline\":true,\"ticks\":\"outside\",\"title\":{\"standoff\":15},\"zeroline\":false,\"zerolinecolor\":\"rgb(36,36,36)\"},\"yaxis\":{\"automargin\":true,\"gridcolor\":\"rgb(232,232,232)\",\"linecolor\":\"rgb(36,36,36)\",\"showgrid\":false,\"showline\":true,\"ticks\":\"outside\",\"title\":{\"standoff\":15},\"zeroline\":false,\"zerolinecolor\":\"rgb(36,36,36)\"}}},\"xaxis\":{\"showgrid\":true},\"yaxis\":{\"showgrid\":true,\"title\":{\"text\":\"Frequency\"}},\"title\":{\"font\":{\"size\":22,\"color\":\"Black\"},\"text\":\"<b>Topics over Time</b>\",\"y\":0.95,\"x\":0.4,\"xanchor\":\"center\",\"yanchor\":\"top\"},\"hoverlabel\":{\"font\":{\"size\":16,\"family\":\"Rockwell\"},\"bgcolor\":\"white\"},\"width\":1250,\"height\":450,\"legend\":{\"title\":{\"text\":\"<b>Global Topic Representation\"}}},                        {\"responsive\": true}                    ).then(function(){\n                            \nvar gd = document.getElementById('5fae2e01-6dac-4829-b7f4-4e2febcdb0e8');\nvar x = new MutationObserver(function (mutations, observer) {{\n        var display = window.getComputedStyle(gd).display;\n        if (!display || display === 'none') {{\n            console.log([gd, 'removed!']);\n            Plotly.purge(gd);\n            observer.disconnect();\n        }}\n}});\n\n// Listen for the removal of the full notebook cells\nvar notebookContainer = gd.closest('#notebook-container');\nif (notebookContainer) {{\n    x.observe(notebookContainer, {childList: true});\n}}\n\n// Listen for the clearing of the current output cell\nvar outputEl = gd.closest('.output');\nif (outputEl) {{\n    x.observe(outputEl, {childList: true});\n}}\n\n                        })                };                });            </script>        </div>"
     },
     "metadata": {},
     "output_type": "display_data"
    }
   ],
   "source": [
    "topic_model.visualize_topics_over_time(topics_over_time, topics=[1, 2])"
   ],
   "metadata": {
    "collapsed": false,
    "ExecuteTime": {
     "start_time": "2023-04-09T17:54:48.563283Z",
     "end_time": "2023-04-09T17:54:48.662204Z"
    }
   }
  },
  {
   "cell_type": "code",
   "execution_count": 56,
   "outputs": [
    {
     "data": {
      "application/vnd.plotly.v1+json": {
       "data": [
        {
         "customdata": [
          [
           0,
           "mr | gentleman | mr mr | noble",
           13666
          ],
          [
           1,
           "hon | right | right hon | would",
           10266
          ],
          [
           2,
           "school | child | education | trade",
           9822
          ],
          [
           3,
           "amendment | committee | government | parliament",
           6251
          ],
          [
           4,
           "ireland | scotland | irish | country",
           6152
          ],
          [
           5,
           "case | court | judge | witness",
           4976
          ],
          [
           6,
           "member | friend | friend member | hon member",
           3777
          ],
          [
           7,
           "house | tenant | landlord | rent",
           3679
          ],
          [
           8,
           "church | catholic | roman catholic | roman",
           3143
          ],
          [
           9,
           "coal | water | food | industry",
           3016
          ],
          [
           10,
           "debate | matter | argument | difficulty",
           2904
          ],
          [
           11,
           "per cent | cent | per | bank",
           2726
          ],
          [
           12,
           "tax | pension | taxation | income",
           1813
          ],
          [
           13,
           "nan | nan nan | nan hannan | nan dundas",
           1483
          ],
          [
           14,
           "reading | second | second reading | post",
           1336
          ],
          [
           15,
           "hospital | health | medical | disease",
           1039
          ],
          [
           16,
           "petition | petitioner | withdraw | presented",
           857
          ],
          [
           17,
           "year | age | month | week",
           636
          ],
          [
           18,
           "libel | danger | evil | anxiety",
           610
          ],
          [
           19,
           "td | td right | tr td | tr",
           467
          ],
          [
           20,
           "gent gent | gent | lieut lieut | lieut",
           458
          ],
          [
           21,
           "motion | principle | hon | observation",
           436
          ],
          [
           22,
           "figure | moment | time | figure figure",
           297
          ],
          [
           23,
           "fishery | fishing | fish | fisherman",
           289
          ],
          [
           24,
           "proposal | scheme | proposal hon | proposal right",
           256
          ],
          [
           25,
           "fraud | lottery | bribery | corruption",
           254
          ],
          [
           26,
           "grant | concession | make concession | made",
           218
          ],
          [
           27,
           "licence | licensing | registration | register",
           207
          ],
          [
           28,
           "measure | measure would | principle | present measure",
           203
          ],
          [
           29,
           "oath | pledge | swear | take oath",
           195
          ],
          [
           30,
           "balfour | morrison | hon balfour | lord balfour",
           192
          ],
          [
           31,
           "advantage | reason | great advantage | good reason",
           177
          ],
          [
           32,
           "estimate | population | supplementary estimate | supplementary",
           177
          ],
          [
           33,
           "cotton | tithe | wool | cotton trade",
           174
          ],
          [
           34,
           "peel | rose | robert peel | sir",
           147
          ],
          [
           35,
           "sort | ought | think ought | sort thing",
           144
          ],
          [
           36,
           "regret | regretted | hon | hon regretted",
           135
          ],
          [
           37,
           "mean | say | say mean | mean mean",
           134
          ],
          [
           38,
           "consultation | appointment | consultation consultation | consultation paper",
           130
          ],
          [
           39,
           "yes | yes yes | course | certainly",
           117
          ],
          [
           40,
           "gladstone | hon gladstone | gladstone said | gentleman gladstone",
           109
          ],
          [
           41,
           "adjournment | adjournment debate | debate | adjourn",
           103
          ],
          [
           42,
           "view | view view | object view | object",
           91
          ],
          [
           43,
           "interruption | interruption interruption | many interruption | position interruption",
           86
          ],
          [
           44,
           "resolution | resolution resolution | hon resolution | resolution hon",
           73
          ],
          [
           45,
           "grievance | real grievance | redress | real",
           69
          ],
          [
           46,
           "system | present system | system system | system work",
           68
          ],
          [
           47,
           "notice | notice question | notice given | give notice",
           66
          ],
          [
           48,
           "division | divide | go division | lobby",
           62
          ]
         ],
         "hovertemplate": "<b>Topic %{customdata[0]}</b><br>%{customdata[1]}<br>Size: %{customdata[2]}",
         "legendgroup": "",
         "marker": {
          "color": "#B0BEC5",
          "size": [
           13666,
           10266,
           9822,
           6251,
           6152,
           4976,
           3777,
           3679,
           3143,
           3016,
           2904,
           2726,
           1813,
           1483,
           1336,
           1039,
           857,
           636,
           610,
           467,
           458,
           436,
           297,
           289,
           256,
           254,
           218,
           207,
           203,
           195,
           192,
           177,
           177,
           174,
           147,
           144,
           135,
           134,
           130,
           117,
           109,
           103,
           91,
           86,
           73,
           69,
           68,
           66,
           62
          ],
          "sizemode": "area",
          "sizeref": 8.54125,
          "symbol": "circle",
          "line": {
           "color": "DarkSlateGrey",
           "width": 2
          }
         },
         "mode": "markers",
         "name": "",
         "orientation": "v",
         "showlegend": false,
         "x": [
          17.94617462158203,
          17.682571411132812,
          17.548490524291992,
          17.978254318237305,
          18.266992568969727,
          17.685176849365234,
          13.062039375305176,
          17.69188690185547,
          18.429689407348633,
          17.473424911499023,
          13.067350387573242,
          3.997535228729248,
          3.997490406036377,
          -1.3716354370117188,
          5.127131938934326,
          7.88970947265625,
          5.1271538734436035,
          8.139230728149414,
          6.571536064147949,
          8.229475975036621,
          -1.293694019317627,
          -4.820160865783691,
          -3.438002109527588,
          7.4737548828125,
          -4.852780818939209,
          6.655016899108887,
          7.590043544769287,
          7.080212116241455,
          -5.004518985748291,
          -5.149311065673828,
          -1.0615586042404175,
          -3.385227918624878,
          8.028895378112793,
          8.188389778137207,
          -1.1331077814102173,
          -4.658720016479492,
          -1.3989876508712769,
          -3.4653849601745605,
          -4.838191509246826,
          -5.159608364105225,
          -1.0150176286697388,
          9.929898262023926,
          -4.720073223114014,
          9.610989570617676,
          9.681474685668945,
          -4.791843891143799,
          -3.5334203243255615,
          10.023052215576172,
          9.78019905090332
         ],
         "xaxis": "x",
         "y": [
          3.3804962635040283,
          2.980558156967163,
          2.8748228549957275,
          3.975492477416992,
          3.2618019580841064,
          4.150934219360352,
          12.017060279846191,
          4.051849365234375,
          3.1175575256347656,
          3.9509289264678955,
          12.021601676940918,
          -5.078005790710449,
          -5.077971935272217,
          -1.789212703704834,
          18.34110450744629,
          0.7288600206375122,
          18.341156005859375,
          0.5922244191169739,
          1.268837571144104,
          1.236602783203125,
          -1.6325645446777344,
          12.322458267211914,
          -13.29709529876709,
          1.6367661952972412,
          12.354975700378418,
          1.3440346717834473,
          1.4639639854431152,
          1.4200537204742432,
          12.506656646728516,
          12.651361465454102,
          -0.7571887373924255,
          -13.465201377868652,
          1.087002158164978,
          0.5216333866119385,
          -1.2269024848937988,
          -11.71159839630127,
          -1.5392388105392456,
          -13.662242889404297,
          -11.480023384094238,
          -11.793600082397461,
          -0.9413628578186035,
          7.386535167694092,
          12.222747802734375,
          7.729098796844482,
          7.655426502227783,
          -11.567394256591797,
          -13.378144264221191,
          7.289492607116699,
          7.554773330688477
         ],
         "yaxis": "y",
         "type": "scatter"
        }
       ],
       "layout": {
        "template": {
         "data": {
          "barpolar": [
           {
            "marker": {
             "line": {
              "color": "white",
              "width": 0.5
             },
             "pattern": {
              "fillmode": "overlay",
              "size": 10,
              "solidity": 0.2
             }
            },
            "type": "barpolar"
           }
          ],
          "bar": [
           {
            "error_x": {
             "color": "rgb(36,36,36)"
            },
            "error_y": {
             "color": "rgb(36,36,36)"
            },
            "marker": {
             "line": {
              "color": "white",
              "width": 0.5
             },
             "pattern": {
              "fillmode": "overlay",
              "size": 10,
              "solidity": 0.2
             }
            },
            "type": "bar"
           }
          ],
          "carpet": [
           {
            "aaxis": {
             "endlinecolor": "rgb(36,36,36)",
             "gridcolor": "white",
             "linecolor": "white",
             "minorgridcolor": "white",
             "startlinecolor": "rgb(36,36,36)"
            },
            "baxis": {
             "endlinecolor": "rgb(36,36,36)",
             "gridcolor": "white",
             "linecolor": "white",
             "minorgridcolor": "white",
             "startlinecolor": "rgb(36,36,36)"
            },
            "type": "carpet"
           }
          ],
          "choropleth": [
           {
            "colorbar": {
             "outlinewidth": 1,
             "tickcolor": "rgb(36,36,36)",
             "ticks": "outside"
            },
            "type": "choropleth"
           }
          ],
          "contourcarpet": [
           {
            "colorbar": {
             "outlinewidth": 1,
             "tickcolor": "rgb(36,36,36)",
             "ticks": "outside"
            },
            "type": "contourcarpet"
           }
          ],
          "contour": [
           {
            "colorbar": {
             "outlinewidth": 1,
             "tickcolor": "rgb(36,36,36)",
             "ticks": "outside"
            },
            "colorscale": [
             [
              0.0,
              "#440154"
             ],
             [
              0.1111111111111111,
              "#482878"
             ],
             [
              0.2222222222222222,
              "#3e4989"
             ],
             [
              0.3333333333333333,
              "#31688e"
             ],
             [
              0.4444444444444444,
              "#26828e"
             ],
             [
              0.5555555555555556,
              "#1f9e89"
             ],
             [
              0.6666666666666666,
              "#35b779"
             ],
             [
              0.7777777777777778,
              "#6ece58"
             ],
             [
              0.8888888888888888,
              "#b5de2b"
             ],
             [
              1.0,
              "#fde725"
             ]
            ],
            "type": "contour"
           }
          ],
          "heatmapgl": [
           {
            "colorbar": {
             "outlinewidth": 1,
             "tickcolor": "rgb(36,36,36)",
             "ticks": "outside"
            },
            "colorscale": [
             [
              0.0,
              "#440154"
             ],
             [
              0.1111111111111111,
              "#482878"
             ],
             [
              0.2222222222222222,
              "#3e4989"
             ],
             [
              0.3333333333333333,
              "#31688e"
             ],
             [
              0.4444444444444444,
              "#26828e"
             ],
             [
              0.5555555555555556,
              "#1f9e89"
             ],
             [
              0.6666666666666666,
              "#35b779"
             ],
             [
              0.7777777777777778,
              "#6ece58"
             ],
             [
              0.8888888888888888,
              "#b5de2b"
             ],
             [
              1.0,
              "#fde725"
             ]
            ],
            "type": "heatmapgl"
           }
          ],
          "heatmap": [
           {
            "colorbar": {
             "outlinewidth": 1,
             "tickcolor": "rgb(36,36,36)",
             "ticks": "outside"
            },
            "colorscale": [
             [
              0.0,
              "#440154"
             ],
             [
              0.1111111111111111,
              "#482878"
             ],
             [
              0.2222222222222222,
              "#3e4989"
             ],
             [
              0.3333333333333333,
              "#31688e"
             ],
             [
              0.4444444444444444,
              "#26828e"
             ],
             [
              0.5555555555555556,
              "#1f9e89"
             ],
             [
              0.6666666666666666,
              "#35b779"
             ],
             [
              0.7777777777777778,
              "#6ece58"
             ],
             [
              0.8888888888888888,
              "#b5de2b"
             ],
             [
              1.0,
              "#fde725"
             ]
            ],
            "type": "heatmap"
           }
          ],
          "histogram2dcontour": [
           {
            "colorbar": {
             "outlinewidth": 1,
             "tickcolor": "rgb(36,36,36)",
             "ticks": "outside"
            },
            "colorscale": [
             [
              0.0,
              "#440154"
             ],
             [
              0.1111111111111111,
              "#482878"
             ],
             [
              0.2222222222222222,
              "#3e4989"
             ],
             [
              0.3333333333333333,
              "#31688e"
             ],
             [
              0.4444444444444444,
              "#26828e"
             ],
             [
              0.5555555555555556,
              "#1f9e89"
             ],
             [
              0.6666666666666666,
              "#35b779"
             ],
             [
              0.7777777777777778,
              "#6ece58"
             ],
             [
              0.8888888888888888,
              "#b5de2b"
             ],
             [
              1.0,
              "#fde725"
             ]
            ],
            "type": "histogram2dcontour"
           }
          ],
          "histogram2d": [
           {
            "colorbar": {
             "outlinewidth": 1,
             "tickcolor": "rgb(36,36,36)",
             "ticks": "outside"
            },
            "colorscale": [
             [
              0.0,
              "#440154"
             ],
             [
              0.1111111111111111,
              "#482878"
             ],
             [
              0.2222222222222222,
              "#3e4989"
             ],
             [
              0.3333333333333333,
              "#31688e"
             ],
             [
              0.4444444444444444,
              "#26828e"
             ],
             [
              0.5555555555555556,
              "#1f9e89"
             ],
             [
              0.6666666666666666,
              "#35b779"
             ],
             [
              0.7777777777777778,
              "#6ece58"
             ],
             [
              0.8888888888888888,
              "#b5de2b"
             ],
             [
              1.0,
              "#fde725"
             ]
            ],
            "type": "histogram2d"
           }
          ],
          "histogram": [
           {
            "marker": {
             "line": {
              "color": "white",
              "width": 0.6
             }
            },
            "type": "histogram"
           }
          ],
          "mesh3d": [
           {
            "colorbar": {
             "outlinewidth": 1,
             "tickcolor": "rgb(36,36,36)",
             "ticks": "outside"
            },
            "type": "mesh3d"
           }
          ],
          "parcoords": [
           {
            "line": {
             "colorbar": {
              "outlinewidth": 1,
              "tickcolor": "rgb(36,36,36)",
              "ticks": "outside"
             }
            },
            "type": "parcoords"
           }
          ],
          "pie": [
           {
            "automargin": true,
            "type": "pie"
           }
          ],
          "scatter3d": [
           {
            "line": {
             "colorbar": {
              "outlinewidth": 1,
              "tickcolor": "rgb(36,36,36)",
              "ticks": "outside"
             }
            },
            "marker": {
             "colorbar": {
              "outlinewidth": 1,
              "tickcolor": "rgb(36,36,36)",
              "ticks": "outside"
             }
            },
            "type": "scatter3d"
           }
          ],
          "scattercarpet": [
           {
            "marker": {
             "colorbar": {
              "outlinewidth": 1,
              "tickcolor": "rgb(36,36,36)",
              "ticks": "outside"
             }
            },
            "type": "scattercarpet"
           }
          ],
          "scattergeo": [
           {
            "marker": {
             "colorbar": {
              "outlinewidth": 1,
              "tickcolor": "rgb(36,36,36)",
              "ticks": "outside"
             }
            },
            "type": "scattergeo"
           }
          ],
          "scattergl": [
           {
            "marker": {
             "colorbar": {
              "outlinewidth": 1,
              "tickcolor": "rgb(36,36,36)",
              "ticks": "outside"
             }
            },
            "type": "scattergl"
           }
          ],
          "scattermapbox": [
           {
            "marker": {
             "colorbar": {
              "outlinewidth": 1,
              "tickcolor": "rgb(36,36,36)",
              "ticks": "outside"
             }
            },
            "type": "scattermapbox"
           }
          ],
          "scatterpolargl": [
           {
            "marker": {
             "colorbar": {
              "outlinewidth": 1,
              "tickcolor": "rgb(36,36,36)",
              "ticks": "outside"
             }
            },
            "type": "scatterpolargl"
           }
          ],
          "scatterpolar": [
           {
            "marker": {
             "colorbar": {
              "outlinewidth": 1,
              "tickcolor": "rgb(36,36,36)",
              "ticks": "outside"
             }
            },
            "type": "scatterpolar"
           }
          ],
          "scatter": [
           {
            "fillpattern": {
             "fillmode": "overlay",
             "size": 10,
             "solidity": 0.2
            },
            "type": "scatter"
           }
          ],
          "scatterternary": [
           {
            "marker": {
             "colorbar": {
              "outlinewidth": 1,
              "tickcolor": "rgb(36,36,36)",
              "ticks": "outside"
             }
            },
            "type": "scatterternary"
           }
          ],
          "surface": [
           {
            "colorbar": {
             "outlinewidth": 1,
             "tickcolor": "rgb(36,36,36)",
             "ticks": "outside"
            },
            "colorscale": [
             [
              0.0,
              "#440154"
             ],
             [
              0.1111111111111111,
              "#482878"
             ],
             [
              0.2222222222222222,
              "#3e4989"
             ],
             [
              0.3333333333333333,
              "#31688e"
             ],
             [
              0.4444444444444444,
              "#26828e"
             ],
             [
              0.5555555555555556,
              "#1f9e89"
             ],
             [
              0.6666666666666666,
              "#35b779"
             ],
             [
              0.7777777777777778,
              "#6ece58"
             ],
             [
              0.8888888888888888,
              "#b5de2b"
             ],
             [
              1.0,
              "#fde725"
             ]
            ],
            "type": "surface"
           }
          ],
          "table": [
           {
            "cells": {
             "fill": {
              "color": "rgb(237,237,237)"
             },
             "line": {
              "color": "white"
             }
            },
            "header": {
             "fill": {
              "color": "rgb(217,217,217)"
             },
             "line": {
              "color": "white"
             }
            },
            "type": "table"
           }
          ]
         },
         "layout": {
          "annotationdefaults": {
           "arrowhead": 0,
           "arrowwidth": 1
          },
          "autotypenumbers": "strict",
          "coloraxis": {
           "colorbar": {
            "outlinewidth": 1,
            "tickcolor": "rgb(36,36,36)",
            "ticks": "outside"
           }
          },
          "colorscale": {
           "diverging": [
            [
             0.0,
             "rgb(103,0,31)"
            ],
            [
             0.1,
             "rgb(178,24,43)"
            ],
            [
             0.2,
             "rgb(214,96,77)"
            ],
            [
             0.3,
             "rgb(244,165,130)"
            ],
            [
             0.4,
             "rgb(253,219,199)"
            ],
            [
             0.5,
             "rgb(247,247,247)"
            ],
            [
             0.6,
             "rgb(209,229,240)"
            ],
            [
             0.7,
             "rgb(146,197,222)"
            ],
            [
             0.8,
             "rgb(67,147,195)"
            ],
            [
             0.9,
             "rgb(33,102,172)"
            ],
            [
             1.0,
             "rgb(5,48,97)"
            ]
           ],
           "sequential": [
            [
             0.0,
             "#440154"
            ],
            [
             0.1111111111111111,
             "#482878"
            ],
            [
             0.2222222222222222,
             "#3e4989"
            ],
            [
             0.3333333333333333,
             "#31688e"
            ],
            [
             0.4444444444444444,
             "#26828e"
            ],
            [
             0.5555555555555556,
             "#1f9e89"
            ],
            [
             0.6666666666666666,
             "#35b779"
            ],
            [
             0.7777777777777778,
             "#6ece58"
            ],
            [
             0.8888888888888888,
             "#b5de2b"
            ],
            [
             1.0,
             "#fde725"
            ]
           ],
           "sequentialminus": [
            [
             0.0,
             "#440154"
            ],
            [
             0.1111111111111111,
             "#482878"
            ],
            [
             0.2222222222222222,
             "#3e4989"
            ],
            [
             0.3333333333333333,
             "#31688e"
            ],
            [
             0.4444444444444444,
             "#26828e"
            ],
            [
             0.5555555555555556,
             "#1f9e89"
            ],
            [
             0.6666666666666666,
             "#35b779"
            ],
            [
             0.7777777777777778,
             "#6ece58"
            ],
            [
             0.8888888888888888,
             "#b5de2b"
            ],
            [
             1.0,
             "#fde725"
            ]
           ]
          },
          "colorway": [
           "#1F77B4",
           "#FF7F0E",
           "#2CA02C",
           "#D62728",
           "#9467BD",
           "#8C564B",
           "#E377C2",
           "#7F7F7F",
           "#BCBD22",
           "#17BECF"
          ],
          "font": {
           "color": "rgb(36,36,36)"
          },
          "geo": {
           "bgcolor": "white",
           "lakecolor": "white",
           "landcolor": "white",
           "showlakes": true,
           "showland": true,
           "subunitcolor": "white"
          },
          "hoverlabel": {
           "align": "left"
          },
          "hovermode": "closest",
          "mapbox": {
           "style": "light"
          },
          "paper_bgcolor": "white",
          "plot_bgcolor": "white",
          "polar": {
           "angularaxis": {
            "gridcolor": "rgb(232,232,232)",
            "linecolor": "rgb(36,36,36)",
            "showgrid": false,
            "showline": true,
            "ticks": "outside"
           },
           "bgcolor": "white",
           "radialaxis": {
            "gridcolor": "rgb(232,232,232)",
            "linecolor": "rgb(36,36,36)",
            "showgrid": false,
            "showline": true,
            "ticks": "outside"
           }
          },
          "scene": {
           "xaxis": {
            "backgroundcolor": "white",
            "gridcolor": "rgb(232,232,232)",
            "gridwidth": 2,
            "linecolor": "rgb(36,36,36)",
            "showbackground": true,
            "showgrid": false,
            "showline": true,
            "ticks": "outside",
            "zeroline": false,
            "zerolinecolor": "rgb(36,36,36)"
           },
           "yaxis": {
            "backgroundcolor": "white",
            "gridcolor": "rgb(232,232,232)",
            "gridwidth": 2,
            "linecolor": "rgb(36,36,36)",
            "showbackground": true,
            "showgrid": false,
            "showline": true,
            "ticks": "outside",
            "zeroline": false,
            "zerolinecolor": "rgb(36,36,36)"
           },
           "zaxis": {
            "backgroundcolor": "white",
            "gridcolor": "rgb(232,232,232)",
            "gridwidth": 2,
            "linecolor": "rgb(36,36,36)",
            "showbackground": true,
            "showgrid": false,
            "showline": true,
            "ticks": "outside",
            "zeroline": false,
            "zerolinecolor": "rgb(36,36,36)"
           }
          },
          "shapedefaults": {
           "fillcolor": "black",
           "line": {
            "width": 0
           },
           "opacity": 0.3
          },
          "ternary": {
           "aaxis": {
            "gridcolor": "rgb(232,232,232)",
            "linecolor": "rgb(36,36,36)",
            "showgrid": false,
            "showline": true,
            "ticks": "outside"
           },
           "baxis": {
            "gridcolor": "rgb(232,232,232)",
            "linecolor": "rgb(36,36,36)",
            "showgrid": false,
            "showline": true,
            "ticks": "outside"
           },
           "bgcolor": "white",
           "caxis": {
            "gridcolor": "rgb(232,232,232)",
            "linecolor": "rgb(36,36,36)",
            "showgrid": false,
            "showline": true,
            "ticks": "outside"
           }
          },
          "title": {
           "x": 0.05
          },
          "xaxis": {
           "automargin": true,
           "gridcolor": "rgb(232,232,232)",
           "linecolor": "rgb(36,36,36)",
           "showgrid": false,
           "showline": true,
           "ticks": "outside",
           "title": {
            "standoff": 15
           },
           "zeroline": false,
           "zerolinecolor": "rgb(36,36,36)"
          },
          "yaxis": {
           "automargin": true,
           "gridcolor": "rgb(232,232,232)",
           "linecolor": "rgb(36,36,36)",
           "showgrid": false,
           "showline": true,
           "ticks": "outside",
           "title": {
            "standoff": 15
           },
           "zeroline": false,
           "zerolinecolor": "rgb(36,36,36)"
          }
         }
        },
        "xaxis": {
         "anchor": "y",
         "domain": [
          0.0,
          1.0
         ],
         "title": {
          "text": ""
         },
         "visible": false,
         "range": [
          -5.933549618721008,
          21.194142818450928
         ]
        },
        "yaxis": {
         "anchor": "x",
         "domain": [
          0.0,
          1.0
         ],
         "title": {
          "text": ""
         },
         "visible": false,
         "range": [
          -15.711579322814941,
          21.09232940673828
         ]
        },
        "legend": {
         "tracegroupgap": 0,
         "itemsizing": "constant"
        },
        "margin": {
         "t": 60
        },
        "title": {
         "font": {
          "size": 22,
          "color": "Black"
         },
         "text": "<b>Intertopic Distance Map</b>",
         "y": 0.95,
         "x": 0.5,
         "xanchor": "center",
         "yanchor": "top"
        },
        "hoverlabel": {
         "font": {
          "size": 16,
          "family": "Rockwell"
         },
         "bgcolor": "white"
        },
        "width": 650,
        "height": 650,
        "sliders": [
         {
          "active": 0,
          "pad": {
           "t": 50
          },
          "steps": [
           {
            "args": [
             {
              "marker.color": [
               [
                "red",
                "#B0BEC5",
                "#B0BEC5",
                "#B0BEC5",
                "#B0BEC5",
                "#B0BEC5",
                "#B0BEC5",
                "#B0BEC5",
                "#B0BEC5",
                "#B0BEC5",
                "#B0BEC5",
                "#B0BEC5",
                "#B0BEC5",
                "#B0BEC5",
                "#B0BEC5",
                "#B0BEC5",
                "#B0BEC5",
                "#B0BEC5",
                "#B0BEC5",
                "#B0BEC5",
                "#B0BEC5",
                "#B0BEC5",
                "#B0BEC5",
                "#B0BEC5",
                "#B0BEC5",
                "#B0BEC5",
                "#B0BEC5",
                "#B0BEC5",
                "#B0BEC5",
                "#B0BEC5",
                "#B0BEC5",
                "#B0BEC5",
                "#B0BEC5",
                "#B0BEC5",
                "#B0BEC5",
                "#B0BEC5",
                "#B0BEC5",
                "#B0BEC5",
                "#B0BEC5",
                "#B0BEC5",
                "#B0BEC5",
                "#B0BEC5",
                "#B0BEC5",
                "#B0BEC5",
                "#B0BEC5",
                "#B0BEC5",
                "#B0BEC5",
                "#B0BEC5",
                "#B0BEC5"
               ]
              ]
             }
            ],
            "label": "Topic 0",
            "method": "update"
           },
           {
            "args": [
             {
              "marker.color": [
               [
                "#B0BEC5",
                "red",
                "#B0BEC5",
                "#B0BEC5",
                "#B0BEC5",
                "#B0BEC5",
                "#B0BEC5",
                "#B0BEC5",
                "#B0BEC5",
                "#B0BEC5",
                "#B0BEC5",
                "#B0BEC5",
                "#B0BEC5",
                "#B0BEC5",
                "#B0BEC5",
                "#B0BEC5",
                "#B0BEC5",
                "#B0BEC5",
                "#B0BEC5",
                "#B0BEC5",
                "#B0BEC5",
                "#B0BEC5",
                "#B0BEC5",
                "#B0BEC5",
                "#B0BEC5",
                "#B0BEC5",
                "#B0BEC5",
                "#B0BEC5",
                "#B0BEC5",
                "#B0BEC5",
                "#B0BEC5",
                "#B0BEC5",
                "#B0BEC5",
                "#B0BEC5",
                "#B0BEC5",
                "#B0BEC5",
                "#B0BEC5",
                "#B0BEC5",
                "#B0BEC5",
                "#B0BEC5",
                "#B0BEC5",
                "#B0BEC5",
                "#B0BEC5",
                "#B0BEC5",
                "#B0BEC5",
                "#B0BEC5",
                "#B0BEC5",
                "#B0BEC5",
                "#B0BEC5"
               ]
              ]
             }
            ],
            "label": "Topic 1",
            "method": "update"
           },
           {
            "args": [
             {
              "marker.color": [
               [
                "#B0BEC5",
                "#B0BEC5",
                "red",
                "#B0BEC5",
                "#B0BEC5",
                "#B0BEC5",
                "#B0BEC5",
                "#B0BEC5",
                "#B0BEC5",
                "#B0BEC5",
                "#B0BEC5",
                "#B0BEC5",
                "#B0BEC5",
                "#B0BEC5",
                "#B0BEC5",
                "#B0BEC5",
                "#B0BEC5",
                "#B0BEC5",
                "#B0BEC5",
                "#B0BEC5",
                "#B0BEC5",
                "#B0BEC5",
                "#B0BEC5",
                "#B0BEC5",
                "#B0BEC5",
                "#B0BEC5",
                "#B0BEC5",
                "#B0BEC5",
                "#B0BEC5",
                "#B0BEC5",
                "#B0BEC5",
                "#B0BEC5",
                "#B0BEC5",
                "#B0BEC5",
                "#B0BEC5",
                "#B0BEC5",
                "#B0BEC5",
                "#B0BEC5",
                "#B0BEC5",
                "#B0BEC5",
                "#B0BEC5",
                "#B0BEC5",
                "#B0BEC5",
                "#B0BEC5",
                "#B0BEC5",
                "#B0BEC5",
                "#B0BEC5",
                "#B0BEC5",
                "#B0BEC5"
               ]
              ]
             }
            ],
            "label": "Topic 2",
            "method": "update"
           },
           {
            "args": [
             {
              "marker.color": [
               [
                "#B0BEC5",
                "#B0BEC5",
                "#B0BEC5",
                "red",
                "#B0BEC5",
                "#B0BEC5",
                "#B0BEC5",
                "#B0BEC5",
                "#B0BEC5",
                "#B0BEC5",
                "#B0BEC5",
                "#B0BEC5",
                "#B0BEC5",
                "#B0BEC5",
                "#B0BEC5",
                "#B0BEC5",
                "#B0BEC5",
                "#B0BEC5",
                "#B0BEC5",
                "#B0BEC5",
                "#B0BEC5",
                "#B0BEC5",
                "#B0BEC5",
                "#B0BEC5",
                "#B0BEC5",
                "#B0BEC5",
                "#B0BEC5",
                "#B0BEC5",
                "#B0BEC5",
                "#B0BEC5",
                "#B0BEC5",
                "#B0BEC5",
                "#B0BEC5",
                "#B0BEC5",
                "#B0BEC5",
                "#B0BEC5",
                "#B0BEC5",
                "#B0BEC5",
                "#B0BEC5",
                "#B0BEC5",
                "#B0BEC5",
                "#B0BEC5",
                "#B0BEC5",
                "#B0BEC5",
                "#B0BEC5",
                "#B0BEC5",
                "#B0BEC5",
                "#B0BEC5",
                "#B0BEC5"
               ]
              ]
             }
            ],
            "label": "Topic 3",
            "method": "update"
           },
           {
            "args": [
             {
              "marker.color": [
               [
                "#B0BEC5",
                "#B0BEC5",
                "#B0BEC5",
                "#B0BEC5",
                "red",
                "#B0BEC5",
                "#B0BEC5",
                "#B0BEC5",
                "#B0BEC5",
                "#B0BEC5",
                "#B0BEC5",
                "#B0BEC5",
                "#B0BEC5",
                "#B0BEC5",
                "#B0BEC5",
                "#B0BEC5",
                "#B0BEC5",
                "#B0BEC5",
                "#B0BEC5",
                "#B0BEC5",
                "#B0BEC5",
                "#B0BEC5",
                "#B0BEC5",
                "#B0BEC5",
                "#B0BEC5",
                "#B0BEC5",
                "#B0BEC5",
                "#B0BEC5",
                "#B0BEC5",
                "#B0BEC5",
                "#B0BEC5",
                "#B0BEC5",
                "#B0BEC5",
                "#B0BEC5",
                "#B0BEC5",
                "#B0BEC5",
                "#B0BEC5",
                "#B0BEC5",
                "#B0BEC5",
                "#B0BEC5",
                "#B0BEC5",
                "#B0BEC5",
                "#B0BEC5",
                "#B0BEC5",
                "#B0BEC5",
                "#B0BEC5",
                "#B0BEC5",
                "#B0BEC5",
                "#B0BEC5"
               ]
              ]
             }
            ],
            "label": "Topic 4",
            "method": "update"
           },
           {
            "args": [
             {
              "marker.color": [
               [
                "#B0BEC5",
                "#B0BEC5",
                "#B0BEC5",
                "#B0BEC5",
                "#B0BEC5",
                "red",
                "#B0BEC5",
                "#B0BEC5",
                "#B0BEC5",
                "#B0BEC5",
                "#B0BEC5",
                "#B0BEC5",
                "#B0BEC5",
                "#B0BEC5",
                "#B0BEC5",
                "#B0BEC5",
                "#B0BEC5",
                "#B0BEC5",
                "#B0BEC5",
                "#B0BEC5",
                "#B0BEC5",
                "#B0BEC5",
                "#B0BEC5",
                "#B0BEC5",
                "#B0BEC5",
                "#B0BEC5",
                "#B0BEC5",
                "#B0BEC5",
                "#B0BEC5",
                "#B0BEC5",
                "#B0BEC5",
                "#B0BEC5",
                "#B0BEC5",
                "#B0BEC5",
                "#B0BEC5",
                "#B0BEC5",
                "#B0BEC5",
                "#B0BEC5",
                "#B0BEC5",
                "#B0BEC5",
                "#B0BEC5",
                "#B0BEC5",
                "#B0BEC5",
                "#B0BEC5",
                "#B0BEC5",
                "#B0BEC5",
                "#B0BEC5",
                "#B0BEC5",
                "#B0BEC5"
               ]
              ]
             }
            ],
            "label": "Topic 5",
            "method": "update"
           },
           {
            "args": [
             {
              "marker.color": [
               [
                "#B0BEC5",
                "#B0BEC5",
                "#B0BEC5",
                "#B0BEC5",
                "#B0BEC5",
                "#B0BEC5",
                "red",
                "#B0BEC5",
                "#B0BEC5",
                "#B0BEC5",
                "#B0BEC5",
                "#B0BEC5",
                "#B0BEC5",
                "#B0BEC5",
                "#B0BEC5",
                "#B0BEC5",
                "#B0BEC5",
                "#B0BEC5",
                "#B0BEC5",
                "#B0BEC5",
                "#B0BEC5",
                "#B0BEC5",
                "#B0BEC5",
                "#B0BEC5",
                "#B0BEC5",
                "#B0BEC5",
                "#B0BEC5",
                "#B0BEC5",
                "#B0BEC5",
                "#B0BEC5",
                "#B0BEC5",
                "#B0BEC5",
                "#B0BEC5",
                "#B0BEC5",
                "#B0BEC5",
                "#B0BEC5",
                "#B0BEC5",
                "#B0BEC5",
                "#B0BEC5",
                "#B0BEC5",
                "#B0BEC5",
                "#B0BEC5",
                "#B0BEC5",
                "#B0BEC5",
                "#B0BEC5",
                "#B0BEC5",
                "#B0BEC5",
                "#B0BEC5",
                "#B0BEC5"
               ]
              ]
             }
            ],
            "label": "Topic 6",
            "method": "update"
           },
           {
            "args": [
             {
              "marker.color": [
               [
                "#B0BEC5",
                "#B0BEC5",
                "#B0BEC5",
                "#B0BEC5",
                "#B0BEC5",
                "#B0BEC5",
                "#B0BEC5",
                "red",
                "#B0BEC5",
                "#B0BEC5",
                "#B0BEC5",
                "#B0BEC5",
                "#B0BEC5",
                "#B0BEC5",
                "#B0BEC5",
                "#B0BEC5",
                "#B0BEC5",
                "#B0BEC5",
                "#B0BEC5",
                "#B0BEC5",
                "#B0BEC5",
                "#B0BEC5",
                "#B0BEC5",
                "#B0BEC5",
                "#B0BEC5",
                "#B0BEC5",
                "#B0BEC5",
                "#B0BEC5",
                "#B0BEC5",
                "#B0BEC5",
                "#B0BEC5",
                "#B0BEC5",
                "#B0BEC5",
                "#B0BEC5",
                "#B0BEC5",
                "#B0BEC5",
                "#B0BEC5",
                "#B0BEC5",
                "#B0BEC5",
                "#B0BEC5",
                "#B0BEC5",
                "#B0BEC5",
                "#B0BEC5",
                "#B0BEC5",
                "#B0BEC5",
                "#B0BEC5",
                "#B0BEC5",
                "#B0BEC5",
                "#B0BEC5"
               ]
              ]
             }
            ],
            "label": "Topic 7",
            "method": "update"
           },
           {
            "args": [
             {
              "marker.color": [
               [
                "#B0BEC5",
                "#B0BEC5",
                "#B0BEC5",
                "#B0BEC5",
                "#B0BEC5",
                "#B0BEC5",
                "#B0BEC5",
                "#B0BEC5",
                "red",
                "#B0BEC5",
                "#B0BEC5",
                "#B0BEC5",
                "#B0BEC5",
                "#B0BEC5",
                "#B0BEC5",
                "#B0BEC5",
                "#B0BEC5",
                "#B0BEC5",
                "#B0BEC5",
                "#B0BEC5",
                "#B0BEC5",
                "#B0BEC5",
                "#B0BEC5",
                "#B0BEC5",
                "#B0BEC5",
                "#B0BEC5",
                "#B0BEC5",
                "#B0BEC5",
                "#B0BEC5",
                "#B0BEC5",
                "#B0BEC5",
                "#B0BEC5",
                "#B0BEC5",
                "#B0BEC5",
                "#B0BEC5",
                "#B0BEC5",
                "#B0BEC5",
                "#B0BEC5",
                "#B0BEC5",
                "#B0BEC5",
                "#B0BEC5",
                "#B0BEC5",
                "#B0BEC5",
                "#B0BEC5",
                "#B0BEC5",
                "#B0BEC5",
                "#B0BEC5",
                "#B0BEC5",
                "#B0BEC5"
               ]
              ]
             }
            ],
            "label": "Topic 8",
            "method": "update"
           },
           {
            "args": [
             {
              "marker.color": [
               [
                "#B0BEC5",
                "#B0BEC5",
                "#B0BEC5",
                "#B0BEC5",
                "#B0BEC5",
                "#B0BEC5",
                "#B0BEC5",
                "#B0BEC5",
                "#B0BEC5",
                "red",
                "#B0BEC5",
                "#B0BEC5",
                "#B0BEC5",
                "#B0BEC5",
                "#B0BEC5",
                "#B0BEC5",
                "#B0BEC5",
                "#B0BEC5",
                "#B0BEC5",
                "#B0BEC5",
                "#B0BEC5",
                "#B0BEC5",
                "#B0BEC5",
                "#B0BEC5",
                "#B0BEC5",
                "#B0BEC5",
                "#B0BEC5",
                "#B0BEC5",
                "#B0BEC5",
                "#B0BEC5",
                "#B0BEC5",
                "#B0BEC5",
                "#B0BEC5",
                "#B0BEC5",
                "#B0BEC5",
                "#B0BEC5",
                "#B0BEC5",
                "#B0BEC5",
                "#B0BEC5",
                "#B0BEC5",
                "#B0BEC5",
                "#B0BEC5",
                "#B0BEC5",
                "#B0BEC5",
                "#B0BEC5",
                "#B0BEC5",
                "#B0BEC5",
                "#B0BEC5",
                "#B0BEC5"
               ]
              ]
             }
            ],
            "label": "Topic 9",
            "method": "update"
           },
           {
            "args": [
             {
              "marker.color": [
               [
                "#B0BEC5",
                "#B0BEC5",
                "#B0BEC5",
                "#B0BEC5",
                "#B0BEC5",
                "#B0BEC5",
                "#B0BEC5",
                "#B0BEC5",
                "#B0BEC5",
                "#B0BEC5",
                "red",
                "#B0BEC5",
                "#B0BEC5",
                "#B0BEC5",
                "#B0BEC5",
                "#B0BEC5",
                "#B0BEC5",
                "#B0BEC5",
                "#B0BEC5",
                "#B0BEC5",
                "#B0BEC5",
                "#B0BEC5",
                "#B0BEC5",
                "#B0BEC5",
                "#B0BEC5",
                "#B0BEC5",
                "#B0BEC5",
                "#B0BEC5",
                "#B0BEC5",
                "#B0BEC5",
                "#B0BEC5",
                "#B0BEC5",
                "#B0BEC5",
                "#B0BEC5",
                "#B0BEC5",
                "#B0BEC5",
                "#B0BEC5",
                "#B0BEC5",
                "#B0BEC5",
                "#B0BEC5",
                "#B0BEC5",
                "#B0BEC5",
                "#B0BEC5",
                "#B0BEC5",
                "#B0BEC5",
                "#B0BEC5",
                "#B0BEC5",
                "#B0BEC5",
                "#B0BEC5"
               ]
              ]
             }
            ],
            "label": "Topic 10",
            "method": "update"
           },
           {
            "args": [
             {
              "marker.color": [
               [
                "#B0BEC5",
                "#B0BEC5",
                "#B0BEC5",
                "#B0BEC5",
                "#B0BEC5",
                "#B0BEC5",
                "#B0BEC5",
                "#B0BEC5",
                "#B0BEC5",
                "#B0BEC5",
                "#B0BEC5",
                "red",
                "#B0BEC5",
                "#B0BEC5",
                "#B0BEC5",
                "#B0BEC5",
                "#B0BEC5",
                "#B0BEC5",
                "#B0BEC5",
                "#B0BEC5",
                "#B0BEC5",
                "#B0BEC5",
                "#B0BEC5",
                "#B0BEC5",
                "#B0BEC5",
                "#B0BEC5",
                "#B0BEC5",
                "#B0BEC5",
                "#B0BEC5",
                "#B0BEC5",
                "#B0BEC5",
                "#B0BEC5",
                "#B0BEC5",
                "#B0BEC5",
                "#B0BEC5",
                "#B0BEC5",
                "#B0BEC5",
                "#B0BEC5",
                "#B0BEC5",
                "#B0BEC5",
                "#B0BEC5",
                "#B0BEC5",
                "#B0BEC5",
                "#B0BEC5",
                "#B0BEC5",
                "#B0BEC5",
                "#B0BEC5",
                "#B0BEC5",
                "#B0BEC5"
               ]
              ]
             }
            ],
            "label": "Topic 11",
            "method": "update"
           },
           {
            "args": [
             {
              "marker.color": [
               [
                "#B0BEC5",
                "#B0BEC5",
                "#B0BEC5",
                "#B0BEC5",
                "#B0BEC5",
                "#B0BEC5",
                "#B0BEC5",
                "#B0BEC5",
                "#B0BEC5",
                "#B0BEC5",
                "#B0BEC5",
                "#B0BEC5",
                "red",
                "#B0BEC5",
                "#B0BEC5",
                "#B0BEC5",
                "#B0BEC5",
                "#B0BEC5",
                "#B0BEC5",
                "#B0BEC5",
                "#B0BEC5",
                "#B0BEC5",
                "#B0BEC5",
                "#B0BEC5",
                "#B0BEC5",
                "#B0BEC5",
                "#B0BEC5",
                "#B0BEC5",
                "#B0BEC5",
                "#B0BEC5",
                "#B0BEC5",
                "#B0BEC5",
                "#B0BEC5",
                "#B0BEC5",
                "#B0BEC5",
                "#B0BEC5",
                "#B0BEC5",
                "#B0BEC5",
                "#B0BEC5",
                "#B0BEC5",
                "#B0BEC5",
                "#B0BEC5",
                "#B0BEC5",
                "#B0BEC5",
                "#B0BEC5",
                "#B0BEC5",
                "#B0BEC5",
                "#B0BEC5",
                "#B0BEC5"
               ]
              ]
             }
            ],
            "label": "Topic 12",
            "method": "update"
           },
           {
            "args": [
             {
              "marker.color": [
               [
                "#B0BEC5",
                "#B0BEC5",
                "#B0BEC5",
                "#B0BEC5",
                "#B0BEC5",
                "#B0BEC5",
                "#B0BEC5",
                "#B0BEC5",
                "#B0BEC5",
                "#B0BEC5",
                "#B0BEC5",
                "#B0BEC5",
                "#B0BEC5",
                "red",
                "#B0BEC5",
                "#B0BEC5",
                "#B0BEC5",
                "#B0BEC5",
                "#B0BEC5",
                "#B0BEC5",
                "#B0BEC5",
                "#B0BEC5",
                "#B0BEC5",
                "#B0BEC5",
                "#B0BEC5",
                "#B0BEC5",
                "#B0BEC5",
                "#B0BEC5",
                "#B0BEC5",
                "#B0BEC5",
                "#B0BEC5",
                "#B0BEC5",
                "#B0BEC5",
                "#B0BEC5",
                "#B0BEC5",
                "#B0BEC5",
                "#B0BEC5",
                "#B0BEC5",
                "#B0BEC5",
                "#B0BEC5",
                "#B0BEC5",
                "#B0BEC5",
                "#B0BEC5",
                "#B0BEC5",
                "#B0BEC5",
                "#B0BEC5",
                "#B0BEC5",
                "#B0BEC5",
                "#B0BEC5"
               ]
              ]
             }
            ],
            "label": "Topic 13",
            "method": "update"
           },
           {
            "args": [
             {
              "marker.color": [
               [
                "#B0BEC5",
                "#B0BEC5",
                "#B0BEC5",
                "#B0BEC5",
                "#B0BEC5",
                "#B0BEC5",
                "#B0BEC5",
                "#B0BEC5",
                "#B0BEC5",
                "#B0BEC5",
                "#B0BEC5",
                "#B0BEC5",
                "#B0BEC5",
                "#B0BEC5",
                "red",
                "#B0BEC5",
                "#B0BEC5",
                "#B0BEC5",
                "#B0BEC5",
                "#B0BEC5",
                "#B0BEC5",
                "#B0BEC5",
                "#B0BEC5",
                "#B0BEC5",
                "#B0BEC5",
                "#B0BEC5",
                "#B0BEC5",
                "#B0BEC5",
                "#B0BEC5",
                "#B0BEC5",
                "#B0BEC5",
                "#B0BEC5",
                "#B0BEC5",
                "#B0BEC5",
                "#B0BEC5",
                "#B0BEC5",
                "#B0BEC5",
                "#B0BEC5",
                "#B0BEC5",
                "#B0BEC5",
                "#B0BEC5",
                "#B0BEC5",
                "#B0BEC5",
                "#B0BEC5",
                "#B0BEC5",
                "#B0BEC5",
                "#B0BEC5",
                "#B0BEC5",
                "#B0BEC5"
               ]
              ]
             }
            ],
            "label": "Topic 14",
            "method": "update"
           },
           {
            "args": [
             {
              "marker.color": [
               [
                "#B0BEC5",
                "#B0BEC5",
                "#B0BEC5",
                "#B0BEC5",
                "#B0BEC5",
                "#B0BEC5",
                "#B0BEC5",
                "#B0BEC5",
                "#B0BEC5",
                "#B0BEC5",
                "#B0BEC5",
                "#B0BEC5",
                "#B0BEC5",
                "#B0BEC5",
                "#B0BEC5",
                "red",
                "#B0BEC5",
                "#B0BEC5",
                "#B0BEC5",
                "#B0BEC5",
                "#B0BEC5",
                "#B0BEC5",
                "#B0BEC5",
                "#B0BEC5",
                "#B0BEC5",
                "#B0BEC5",
                "#B0BEC5",
                "#B0BEC5",
                "#B0BEC5",
                "#B0BEC5",
                "#B0BEC5",
                "#B0BEC5",
                "#B0BEC5",
                "#B0BEC5",
                "#B0BEC5",
                "#B0BEC5",
                "#B0BEC5",
                "#B0BEC5",
                "#B0BEC5",
                "#B0BEC5",
                "#B0BEC5",
                "#B0BEC5",
                "#B0BEC5",
                "#B0BEC5",
                "#B0BEC5",
                "#B0BEC5",
                "#B0BEC5",
                "#B0BEC5",
                "#B0BEC5"
               ]
              ]
             }
            ],
            "label": "Topic 15",
            "method": "update"
           },
           {
            "args": [
             {
              "marker.color": [
               [
                "#B0BEC5",
                "#B0BEC5",
                "#B0BEC5",
                "#B0BEC5",
                "#B0BEC5",
                "#B0BEC5",
                "#B0BEC5",
                "#B0BEC5",
                "#B0BEC5",
                "#B0BEC5",
                "#B0BEC5",
                "#B0BEC5",
                "#B0BEC5",
                "#B0BEC5",
                "#B0BEC5",
                "#B0BEC5",
                "red",
                "#B0BEC5",
                "#B0BEC5",
                "#B0BEC5",
                "#B0BEC5",
                "#B0BEC5",
                "#B0BEC5",
                "#B0BEC5",
                "#B0BEC5",
                "#B0BEC5",
                "#B0BEC5",
                "#B0BEC5",
                "#B0BEC5",
                "#B0BEC5",
                "#B0BEC5",
                "#B0BEC5",
                "#B0BEC5",
                "#B0BEC5",
                "#B0BEC5",
                "#B0BEC5",
                "#B0BEC5",
                "#B0BEC5",
                "#B0BEC5",
                "#B0BEC5",
                "#B0BEC5",
                "#B0BEC5",
                "#B0BEC5",
                "#B0BEC5",
                "#B0BEC5",
                "#B0BEC5",
                "#B0BEC5",
                "#B0BEC5",
                "#B0BEC5"
               ]
              ]
             }
            ],
            "label": "Topic 16",
            "method": "update"
           },
           {
            "args": [
             {
              "marker.color": [
               [
                "#B0BEC5",
                "#B0BEC5",
                "#B0BEC5",
                "#B0BEC5",
                "#B0BEC5",
                "#B0BEC5",
                "#B0BEC5",
                "#B0BEC5",
                "#B0BEC5",
                "#B0BEC5",
                "#B0BEC5",
                "#B0BEC5",
                "#B0BEC5",
                "#B0BEC5",
                "#B0BEC5",
                "#B0BEC5",
                "#B0BEC5",
                "red",
                "#B0BEC5",
                "#B0BEC5",
                "#B0BEC5",
                "#B0BEC5",
                "#B0BEC5",
                "#B0BEC5",
                "#B0BEC5",
                "#B0BEC5",
                "#B0BEC5",
                "#B0BEC5",
                "#B0BEC5",
                "#B0BEC5",
                "#B0BEC5",
                "#B0BEC5",
                "#B0BEC5",
                "#B0BEC5",
                "#B0BEC5",
                "#B0BEC5",
                "#B0BEC5",
                "#B0BEC5",
                "#B0BEC5",
                "#B0BEC5",
                "#B0BEC5",
                "#B0BEC5",
                "#B0BEC5",
                "#B0BEC5",
                "#B0BEC5",
                "#B0BEC5",
                "#B0BEC5",
                "#B0BEC5",
                "#B0BEC5"
               ]
              ]
             }
            ],
            "label": "Topic 17",
            "method": "update"
           },
           {
            "args": [
             {
              "marker.color": [
               [
                "#B0BEC5",
                "#B0BEC5",
                "#B0BEC5",
                "#B0BEC5",
                "#B0BEC5",
                "#B0BEC5",
                "#B0BEC5",
                "#B0BEC5",
                "#B0BEC5",
                "#B0BEC5",
                "#B0BEC5",
                "#B0BEC5",
                "#B0BEC5",
                "#B0BEC5",
                "#B0BEC5",
                "#B0BEC5",
                "#B0BEC5",
                "#B0BEC5",
                "red",
                "#B0BEC5",
                "#B0BEC5",
                "#B0BEC5",
                "#B0BEC5",
                "#B0BEC5",
                "#B0BEC5",
                "#B0BEC5",
                "#B0BEC5",
                "#B0BEC5",
                "#B0BEC5",
                "#B0BEC5",
                "#B0BEC5",
                "#B0BEC5",
                "#B0BEC5",
                "#B0BEC5",
                "#B0BEC5",
                "#B0BEC5",
                "#B0BEC5",
                "#B0BEC5",
                "#B0BEC5",
                "#B0BEC5",
                "#B0BEC5",
                "#B0BEC5",
                "#B0BEC5",
                "#B0BEC5",
                "#B0BEC5",
                "#B0BEC5",
                "#B0BEC5",
                "#B0BEC5",
                "#B0BEC5"
               ]
              ]
             }
            ],
            "label": "Topic 18",
            "method": "update"
           },
           {
            "args": [
             {
              "marker.color": [
               [
                "#B0BEC5",
                "#B0BEC5",
                "#B0BEC5",
                "#B0BEC5",
                "#B0BEC5",
                "#B0BEC5",
                "#B0BEC5",
                "#B0BEC5",
                "#B0BEC5",
                "#B0BEC5",
                "#B0BEC5",
                "#B0BEC5",
                "#B0BEC5",
                "#B0BEC5",
                "#B0BEC5",
                "#B0BEC5",
                "#B0BEC5",
                "#B0BEC5",
                "#B0BEC5",
                "red",
                "#B0BEC5",
                "#B0BEC5",
                "#B0BEC5",
                "#B0BEC5",
                "#B0BEC5",
                "#B0BEC5",
                "#B0BEC5",
                "#B0BEC5",
                "#B0BEC5",
                "#B0BEC5",
                "#B0BEC5",
                "#B0BEC5",
                "#B0BEC5",
                "#B0BEC5",
                "#B0BEC5",
                "#B0BEC5",
                "#B0BEC5",
                "#B0BEC5",
                "#B0BEC5",
                "#B0BEC5",
                "#B0BEC5",
                "#B0BEC5",
                "#B0BEC5",
                "#B0BEC5",
                "#B0BEC5",
                "#B0BEC5",
                "#B0BEC5",
                "#B0BEC5",
                "#B0BEC5"
               ]
              ]
             }
            ],
            "label": "Topic 19",
            "method": "update"
           },
           {
            "args": [
             {
              "marker.color": [
               [
                "#B0BEC5",
                "#B0BEC5",
                "#B0BEC5",
                "#B0BEC5",
                "#B0BEC5",
                "#B0BEC5",
                "#B0BEC5",
                "#B0BEC5",
                "#B0BEC5",
                "#B0BEC5",
                "#B0BEC5",
                "#B0BEC5",
                "#B0BEC5",
                "#B0BEC5",
                "#B0BEC5",
                "#B0BEC5",
                "#B0BEC5",
                "#B0BEC5",
                "#B0BEC5",
                "#B0BEC5",
                "red",
                "#B0BEC5",
                "#B0BEC5",
                "#B0BEC5",
                "#B0BEC5",
                "#B0BEC5",
                "#B0BEC5",
                "#B0BEC5",
                "#B0BEC5",
                "#B0BEC5",
                "#B0BEC5",
                "#B0BEC5",
                "#B0BEC5",
                "#B0BEC5",
                "#B0BEC5",
                "#B0BEC5",
                "#B0BEC5",
                "#B0BEC5",
                "#B0BEC5",
                "#B0BEC5",
                "#B0BEC5",
                "#B0BEC5",
                "#B0BEC5",
                "#B0BEC5",
                "#B0BEC5",
                "#B0BEC5",
                "#B0BEC5",
                "#B0BEC5",
                "#B0BEC5"
               ]
              ]
             }
            ],
            "label": "Topic 20",
            "method": "update"
           },
           {
            "args": [
             {
              "marker.color": [
               [
                "#B0BEC5",
                "#B0BEC5",
                "#B0BEC5",
                "#B0BEC5",
                "#B0BEC5",
                "#B0BEC5",
                "#B0BEC5",
                "#B0BEC5",
                "#B0BEC5",
                "#B0BEC5",
                "#B0BEC5",
                "#B0BEC5",
                "#B0BEC5",
                "#B0BEC5",
                "#B0BEC5",
                "#B0BEC5",
                "#B0BEC5",
                "#B0BEC5",
                "#B0BEC5",
                "#B0BEC5",
                "#B0BEC5",
                "red",
                "#B0BEC5",
                "#B0BEC5",
                "#B0BEC5",
                "#B0BEC5",
                "#B0BEC5",
                "#B0BEC5",
                "#B0BEC5",
                "#B0BEC5",
                "#B0BEC5",
                "#B0BEC5",
                "#B0BEC5",
                "#B0BEC5",
                "#B0BEC5",
                "#B0BEC5",
                "#B0BEC5",
                "#B0BEC5",
                "#B0BEC5",
                "#B0BEC5",
                "#B0BEC5",
                "#B0BEC5",
                "#B0BEC5",
                "#B0BEC5",
                "#B0BEC5",
                "#B0BEC5",
                "#B0BEC5",
                "#B0BEC5",
                "#B0BEC5"
               ]
              ]
             }
            ],
            "label": "Topic 21",
            "method": "update"
           },
           {
            "args": [
             {
              "marker.color": [
               [
                "#B0BEC5",
                "#B0BEC5",
                "#B0BEC5",
                "#B0BEC5",
                "#B0BEC5",
                "#B0BEC5",
                "#B0BEC5",
                "#B0BEC5",
                "#B0BEC5",
                "#B0BEC5",
                "#B0BEC5",
                "#B0BEC5",
                "#B0BEC5",
                "#B0BEC5",
                "#B0BEC5",
                "#B0BEC5",
                "#B0BEC5",
                "#B0BEC5",
                "#B0BEC5",
                "#B0BEC5",
                "#B0BEC5",
                "#B0BEC5",
                "red",
                "#B0BEC5",
                "#B0BEC5",
                "#B0BEC5",
                "#B0BEC5",
                "#B0BEC5",
                "#B0BEC5",
                "#B0BEC5",
                "#B0BEC5",
                "#B0BEC5",
                "#B0BEC5",
                "#B0BEC5",
                "#B0BEC5",
                "#B0BEC5",
                "#B0BEC5",
                "#B0BEC5",
                "#B0BEC5",
                "#B0BEC5",
                "#B0BEC5",
                "#B0BEC5",
                "#B0BEC5",
                "#B0BEC5",
                "#B0BEC5",
                "#B0BEC5",
                "#B0BEC5",
                "#B0BEC5",
                "#B0BEC5"
               ]
              ]
             }
            ],
            "label": "Topic 22",
            "method": "update"
           },
           {
            "args": [
             {
              "marker.color": [
               [
                "#B0BEC5",
                "#B0BEC5",
                "#B0BEC5",
                "#B0BEC5",
                "#B0BEC5",
                "#B0BEC5",
                "#B0BEC5",
                "#B0BEC5",
                "#B0BEC5",
                "#B0BEC5",
                "#B0BEC5",
                "#B0BEC5",
                "#B0BEC5",
                "#B0BEC5",
                "#B0BEC5",
                "#B0BEC5",
                "#B0BEC5",
                "#B0BEC5",
                "#B0BEC5",
                "#B0BEC5",
                "#B0BEC5",
                "#B0BEC5",
                "#B0BEC5",
                "red",
                "#B0BEC5",
                "#B0BEC5",
                "#B0BEC5",
                "#B0BEC5",
                "#B0BEC5",
                "#B0BEC5",
                "#B0BEC5",
                "#B0BEC5",
                "#B0BEC5",
                "#B0BEC5",
                "#B0BEC5",
                "#B0BEC5",
                "#B0BEC5",
                "#B0BEC5",
                "#B0BEC5",
                "#B0BEC5",
                "#B0BEC5",
                "#B0BEC5",
                "#B0BEC5",
                "#B0BEC5",
                "#B0BEC5",
                "#B0BEC5",
                "#B0BEC5",
                "#B0BEC5",
                "#B0BEC5"
               ]
              ]
             }
            ],
            "label": "Topic 23",
            "method": "update"
           },
           {
            "args": [
             {
              "marker.color": [
               [
                "#B0BEC5",
                "#B0BEC5",
                "#B0BEC5",
                "#B0BEC5",
                "#B0BEC5",
                "#B0BEC5",
                "#B0BEC5",
                "#B0BEC5",
                "#B0BEC5",
                "#B0BEC5",
                "#B0BEC5",
                "#B0BEC5",
                "#B0BEC5",
                "#B0BEC5",
                "#B0BEC5",
                "#B0BEC5",
                "#B0BEC5",
                "#B0BEC5",
                "#B0BEC5",
                "#B0BEC5",
                "#B0BEC5",
                "#B0BEC5",
                "#B0BEC5",
                "#B0BEC5",
                "red",
                "#B0BEC5",
                "#B0BEC5",
                "#B0BEC5",
                "#B0BEC5",
                "#B0BEC5",
                "#B0BEC5",
                "#B0BEC5",
                "#B0BEC5",
                "#B0BEC5",
                "#B0BEC5",
                "#B0BEC5",
                "#B0BEC5",
                "#B0BEC5",
                "#B0BEC5",
                "#B0BEC5",
                "#B0BEC5",
                "#B0BEC5",
                "#B0BEC5",
                "#B0BEC5",
                "#B0BEC5",
                "#B0BEC5",
                "#B0BEC5",
                "#B0BEC5",
                "#B0BEC5"
               ]
              ]
             }
            ],
            "label": "Topic 24",
            "method": "update"
           },
           {
            "args": [
             {
              "marker.color": [
               [
                "#B0BEC5",
                "#B0BEC5",
                "#B0BEC5",
                "#B0BEC5",
                "#B0BEC5",
                "#B0BEC5",
                "#B0BEC5",
                "#B0BEC5",
                "#B0BEC5",
                "#B0BEC5",
                "#B0BEC5",
                "#B0BEC5",
                "#B0BEC5",
                "#B0BEC5",
                "#B0BEC5",
                "#B0BEC5",
                "#B0BEC5",
                "#B0BEC5",
                "#B0BEC5",
                "#B0BEC5",
                "#B0BEC5",
                "#B0BEC5",
                "#B0BEC5",
                "#B0BEC5",
                "#B0BEC5",
                "red",
                "#B0BEC5",
                "#B0BEC5",
                "#B0BEC5",
                "#B0BEC5",
                "#B0BEC5",
                "#B0BEC5",
                "#B0BEC5",
                "#B0BEC5",
                "#B0BEC5",
                "#B0BEC5",
                "#B0BEC5",
                "#B0BEC5",
                "#B0BEC5",
                "#B0BEC5",
                "#B0BEC5",
                "#B0BEC5",
                "#B0BEC5",
                "#B0BEC5",
                "#B0BEC5",
                "#B0BEC5",
                "#B0BEC5",
                "#B0BEC5",
                "#B0BEC5"
               ]
              ]
             }
            ],
            "label": "Topic 25",
            "method": "update"
           },
           {
            "args": [
             {
              "marker.color": [
               [
                "#B0BEC5",
                "#B0BEC5",
                "#B0BEC5",
                "#B0BEC5",
                "#B0BEC5",
                "#B0BEC5",
                "#B0BEC5",
                "#B0BEC5",
                "#B0BEC5",
                "#B0BEC5",
                "#B0BEC5",
                "#B0BEC5",
                "#B0BEC5",
                "#B0BEC5",
                "#B0BEC5",
                "#B0BEC5",
                "#B0BEC5",
                "#B0BEC5",
                "#B0BEC5",
                "#B0BEC5",
                "#B0BEC5",
                "#B0BEC5",
                "#B0BEC5",
                "#B0BEC5",
                "#B0BEC5",
                "#B0BEC5",
                "red",
                "#B0BEC5",
                "#B0BEC5",
                "#B0BEC5",
                "#B0BEC5",
                "#B0BEC5",
                "#B0BEC5",
                "#B0BEC5",
                "#B0BEC5",
                "#B0BEC5",
                "#B0BEC5",
                "#B0BEC5",
                "#B0BEC5",
                "#B0BEC5",
                "#B0BEC5",
                "#B0BEC5",
                "#B0BEC5",
                "#B0BEC5",
                "#B0BEC5",
                "#B0BEC5",
                "#B0BEC5",
                "#B0BEC5",
                "#B0BEC5"
               ]
              ]
             }
            ],
            "label": "Topic 26",
            "method": "update"
           },
           {
            "args": [
             {
              "marker.color": [
               [
                "#B0BEC5",
                "#B0BEC5",
                "#B0BEC5",
                "#B0BEC5",
                "#B0BEC5",
                "#B0BEC5",
                "#B0BEC5",
                "#B0BEC5",
                "#B0BEC5",
                "#B0BEC5",
                "#B0BEC5",
                "#B0BEC5",
                "#B0BEC5",
                "#B0BEC5",
                "#B0BEC5",
                "#B0BEC5",
                "#B0BEC5",
                "#B0BEC5",
                "#B0BEC5",
                "#B0BEC5",
                "#B0BEC5",
                "#B0BEC5",
                "#B0BEC5",
                "#B0BEC5",
                "#B0BEC5",
                "#B0BEC5",
                "#B0BEC5",
                "red",
                "#B0BEC5",
                "#B0BEC5",
                "#B0BEC5",
                "#B0BEC5",
                "#B0BEC5",
                "#B0BEC5",
                "#B0BEC5",
                "#B0BEC5",
                "#B0BEC5",
                "#B0BEC5",
                "#B0BEC5",
                "#B0BEC5",
                "#B0BEC5",
                "#B0BEC5",
                "#B0BEC5",
                "#B0BEC5",
                "#B0BEC5",
                "#B0BEC5",
                "#B0BEC5",
                "#B0BEC5",
                "#B0BEC5"
               ]
              ]
             }
            ],
            "label": "Topic 27",
            "method": "update"
           },
           {
            "args": [
             {
              "marker.color": [
               [
                "#B0BEC5",
                "#B0BEC5",
                "#B0BEC5",
                "#B0BEC5",
                "#B0BEC5",
                "#B0BEC5",
                "#B0BEC5",
                "#B0BEC5",
                "#B0BEC5",
                "#B0BEC5",
                "#B0BEC5",
                "#B0BEC5",
                "#B0BEC5",
                "#B0BEC5",
                "#B0BEC5",
                "#B0BEC5",
                "#B0BEC5",
                "#B0BEC5",
                "#B0BEC5",
                "#B0BEC5",
                "#B0BEC5",
                "#B0BEC5",
                "#B0BEC5",
                "#B0BEC5",
                "#B0BEC5",
                "#B0BEC5",
                "#B0BEC5",
                "#B0BEC5",
                "red",
                "#B0BEC5",
                "#B0BEC5",
                "#B0BEC5",
                "#B0BEC5",
                "#B0BEC5",
                "#B0BEC5",
                "#B0BEC5",
                "#B0BEC5",
                "#B0BEC5",
                "#B0BEC5",
                "#B0BEC5",
                "#B0BEC5",
                "#B0BEC5",
                "#B0BEC5",
                "#B0BEC5",
                "#B0BEC5",
                "#B0BEC5",
                "#B0BEC5",
                "#B0BEC5",
                "#B0BEC5"
               ]
              ]
             }
            ],
            "label": "Topic 28",
            "method": "update"
           },
           {
            "args": [
             {
              "marker.color": [
               [
                "#B0BEC5",
                "#B0BEC5",
                "#B0BEC5",
                "#B0BEC5",
                "#B0BEC5",
                "#B0BEC5",
                "#B0BEC5",
                "#B0BEC5",
                "#B0BEC5",
                "#B0BEC5",
                "#B0BEC5",
                "#B0BEC5",
                "#B0BEC5",
                "#B0BEC5",
                "#B0BEC5",
                "#B0BEC5",
                "#B0BEC5",
                "#B0BEC5",
                "#B0BEC5",
                "#B0BEC5",
                "#B0BEC5",
                "#B0BEC5",
                "#B0BEC5",
                "#B0BEC5",
                "#B0BEC5",
                "#B0BEC5",
                "#B0BEC5",
                "#B0BEC5",
                "#B0BEC5",
                "red",
                "#B0BEC5",
                "#B0BEC5",
                "#B0BEC5",
                "#B0BEC5",
                "#B0BEC5",
                "#B0BEC5",
                "#B0BEC5",
                "#B0BEC5",
                "#B0BEC5",
                "#B0BEC5",
                "#B0BEC5",
                "#B0BEC5",
                "#B0BEC5",
                "#B0BEC5",
                "#B0BEC5",
                "#B0BEC5",
                "#B0BEC5",
                "#B0BEC5",
                "#B0BEC5"
               ]
              ]
             }
            ],
            "label": "Topic 29",
            "method": "update"
           },
           {
            "args": [
             {
              "marker.color": [
               [
                "#B0BEC5",
                "#B0BEC5",
                "#B0BEC5",
                "#B0BEC5",
                "#B0BEC5",
                "#B0BEC5",
                "#B0BEC5",
                "#B0BEC5",
                "#B0BEC5",
                "#B0BEC5",
                "#B0BEC5",
                "#B0BEC5",
                "#B0BEC5",
                "#B0BEC5",
                "#B0BEC5",
                "#B0BEC5",
                "#B0BEC5",
                "#B0BEC5",
                "#B0BEC5",
                "#B0BEC5",
                "#B0BEC5",
                "#B0BEC5",
                "#B0BEC5",
                "#B0BEC5",
                "#B0BEC5",
                "#B0BEC5",
                "#B0BEC5",
                "#B0BEC5",
                "#B0BEC5",
                "#B0BEC5",
                "red",
                "#B0BEC5",
                "#B0BEC5",
                "#B0BEC5",
                "#B0BEC5",
                "#B0BEC5",
                "#B0BEC5",
                "#B0BEC5",
                "#B0BEC5",
                "#B0BEC5",
                "#B0BEC5",
                "#B0BEC5",
                "#B0BEC5",
                "#B0BEC5",
                "#B0BEC5",
                "#B0BEC5",
                "#B0BEC5",
                "#B0BEC5",
                "#B0BEC5"
               ]
              ]
             }
            ],
            "label": "Topic 30",
            "method": "update"
           },
           {
            "args": [
             {
              "marker.color": [
               [
                "#B0BEC5",
                "#B0BEC5",
                "#B0BEC5",
                "#B0BEC5",
                "#B0BEC5",
                "#B0BEC5",
                "#B0BEC5",
                "#B0BEC5",
                "#B0BEC5",
                "#B0BEC5",
                "#B0BEC5",
                "#B0BEC5",
                "#B0BEC5",
                "#B0BEC5",
                "#B0BEC5",
                "#B0BEC5",
                "#B0BEC5",
                "#B0BEC5",
                "#B0BEC5",
                "#B0BEC5",
                "#B0BEC5",
                "#B0BEC5",
                "#B0BEC5",
                "#B0BEC5",
                "#B0BEC5",
                "#B0BEC5",
                "#B0BEC5",
                "#B0BEC5",
                "#B0BEC5",
                "#B0BEC5",
                "#B0BEC5",
                "red",
                "#B0BEC5",
                "#B0BEC5",
                "#B0BEC5",
                "#B0BEC5",
                "#B0BEC5",
                "#B0BEC5",
                "#B0BEC5",
                "#B0BEC5",
                "#B0BEC5",
                "#B0BEC5",
                "#B0BEC5",
                "#B0BEC5",
                "#B0BEC5",
                "#B0BEC5",
                "#B0BEC5",
                "#B0BEC5",
                "#B0BEC5"
               ]
              ]
             }
            ],
            "label": "Topic 31",
            "method": "update"
           },
           {
            "args": [
             {
              "marker.color": [
               [
                "#B0BEC5",
                "#B0BEC5",
                "#B0BEC5",
                "#B0BEC5",
                "#B0BEC5",
                "#B0BEC5",
                "#B0BEC5",
                "#B0BEC5",
                "#B0BEC5",
                "#B0BEC5",
                "#B0BEC5",
                "#B0BEC5",
                "#B0BEC5",
                "#B0BEC5",
                "#B0BEC5",
                "#B0BEC5",
                "#B0BEC5",
                "#B0BEC5",
                "#B0BEC5",
                "#B0BEC5",
                "#B0BEC5",
                "#B0BEC5",
                "#B0BEC5",
                "#B0BEC5",
                "#B0BEC5",
                "#B0BEC5",
                "#B0BEC5",
                "#B0BEC5",
                "#B0BEC5",
                "#B0BEC5",
                "#B0BEC5",
                "#B0BEC5",
                "red",
                "#B0BEC5",
                "#B0BEC5",
                "#B0BEC5",
                "#B0BEC5",
                "#B0BEC5",
                "#B0BEC5",
                "#B0BEC5",
                "#B0BEC5",
                "#B0BEC5",
                "#B0BEC5",
                "#B0BEC5",
                "#B0BEC5",
                "#B0BEC5",
                "#B0BEC5",
                "#B0BEC5",
                "#B0BEC5"
               ]
              ]
             }
            ],
            "label": "Topic 32",
            "method": "update"
           },
           {
            "args": [
             {
              "marker.color": [
               [
                "#B0BEC5",
                "#B0BEC5",
                "#B0BEC5",
                "#B0BEC5",
                "#B0BEC5",
                "#B0BEC5",
                "#B0BEC5",
                "#B0BEC5",
                "#B0BEC5",
                "#B0BEC5",
                "#B0BEC5",
                "#B0BEC5",
                "#B0BEC5",
                "#B0BEC5",
                "#B0BEC5",
                "#B0BEC5",
                "#B0BEC5",
                "#B0BEC5",
                "#B0BEC5",
                "#B0BEC5",
                "#B0BEC5",
                "#B0BEC5",
                "#B0BEC5",
                "#B0BEC5",
                "#B0BEC5",
                "#B0BEC5",
                "#B0BEC5",
                "#B0BEC5",
                "#B0BEC5",
                "#B0BEC5",
                "#B0BEC5",
                "#B0BEC5",
                "#B0BEC5",
                "red",
                "#B0BEC5",
                "#B0BEC5",
                "#B0BEC5",
                "#B0BEC5",
                "#B0BEC5",
                "#B0BEC5",
                "#B0BEC5",
                "#B0BEC5",
                "#B0BEC5",
                "#B0BEC5",
                "#B0BEC5",
                "#B0BEC5",
                "#B0BEC5",
                "#B0BEC5",
                "#B0BEC5"
               ]
              ]
             }
            ],
            "label": "Topic 33",
            "method": "update"
           },
           {
            "args": [
             {
              "marker.color": [
               [
                "#B0BEC5",
                "#B0BEC5",
                "#B0BEC5",
                "#B0BEC5",
                "#B0BEC5",
                "#B0BEC5",
                "#B0BEC5",
                "#B0BEC5",
                "#B0BEC5",
                "#B0BEC5",
                "#B0BEC5",
                "#B0BEC5",
                "#B0BEC5",
                "#B0BEC5",
                "#B0BEC5",
                "#B0BEC5",
                "#B0BEC5",
                "#B0BEC5",
                "#B0BEC5",
                "#B0BEC5",
                "#B0BEC5",
                "#B0BEC5",
                "#B0BEC5",
                "#B0BEC5",
                "#B0BEC5",
                "#B0BEC5",
                "#B0BEC5",
                "#B0BEC5",
                "#B0BEC5",
                "#B0BEC5",
                "#B0BEC5",
                "#B0BEC5",
                "#B0BEC5",
                "#B0BEC5",
                "red",
                "#B0BEC5",
                "#B0BEC5",
                "#B0BEC5",
                "#B0BEC5",
                "#B0BEC5",
                "#B0BEC5",
                "#B0BEC5",
                "#B0BEC5",
                "#B0BEC5",
                "#B0BEC5",
                "#B0BEC5",
                "#B0BEC5",
                "#B0BEC5",
                "#B0BEC5"
               ]
              ]
             }
            ],
            "label": "Topic 34",
            "method": "update"
           },
           {
            "args": [
             {
              "marker.color": [
               [
                "#B0BEC5",
                "#B0BEC5",
                "#B0BEC5",
                "#B0BEC5",
                "#B0BEC5",
                "#B0BEC5",
                "#B0BEC5",
                "#B0BEC5",
                "#B0BEC5",
                "#B0BEC5",
                "#B0BEC5",
                "#B0BEC5",
                "#B0BEC5",
                "#B0BEC5",
                "#B0BEC5",
                "#B0BEC5",
                "#B0BEC5",
                "#B0BEC5",
                "#B0BEC5",
                "#B0BEC5",
                "#B0BEC5",
                "#B0BEC5",
                "#B0BEC5",
                "#B0BEC5",
                "#B0BEC5",
                "#B0BEC5",
                "#B0BEC5",
                "#B0BEC5",
                "#B0BEC5",
                "#B0BEC5",
                "#B0BEC5",
                "#B0BEC5",
                "#B0BEC5",
                "#B0BEC5",
                "#B0BEC5",
                "red",
                "#B0BEC5",
                "#B0BEC5",
                "#B0BEC5",
                "#B0BEC5",
                "#B0BEC5",
                "#B0BEC5",
                "#B0BEC5",
                "#B0BEC5",
                "#B0BEC5",
                "#B0BEC5",
                "#B0BEC5",
                "#B0BEC5",
                "#B0BEC5"
               ]
              ]
             }
            ],
            "label": "Topic 35",
            "method": "update"
           },
           {
            "args": [
             {
              "marker.color": [
               [
                "#B0BEC5",
                "#B0BEC5",
                "#B0BEC5",
                "#B0BEC5",
                "#B0BEC5",
                "#B0BEC5",
                "#B0BEC5",
                "#B0BEC5",
                "#B0BEC5",
                "#B0BEC5",
                "#B0BEC5",
                "#B0BEC5",
                "#B0BEC5",
                "#B0BEC5",
                "#B0BEC5",
                "#B0BEC5",
                "#B0BEC5",
                "#B0BEC5",
                "#B0BEC5",
                "#B0BEC5",
                "#B0BEC5",
                "#B0BEC5",
                "#B0BEC5",
                "#B0BEC5",
                "#B0BEC5",
                "#B0BEC5",
                "#B0BEC5",
                "#B0BEC5",
                "#B0BEC5",
                "#B0BEC5",
                "#B0BEC5",
                "#B0BEC5",
                "#B0BEC5",
                "#B0BEC5",
                "#B0BEC5",
                "#B0BEC5",
                "red",
                "#B0BEC5",
                "#B0BEC5",
                "#B0BEC5",
                "#B0BEC5",
                "#B0BEC5",
                "#B0BEC5",
                "#B0BEC5",
                "#B0BEC5",
                "#B0BEC5",
                "#B0BEC5",
                "#B0BEC5",
                "#B0BEC5"
               ]
              ]
             }
            ],
            "label": "Topic 36",
            "method": "update"
           },
           {
            "args": [
             {
              "marker.color": [
               [
                "#B0BEC5",
                "#B0BEC5",
                "#B0BEC5",
                "#B0BEC5",
                "#B0BEC5",
                "#B0BEC5",
                "#B0BEC5",
                "#B0BEC5",
                "#B0BEC5",
                "#B0BEC5",
                "#B0BEC5",
                "#B0BEC5",
                "#B0BEC5",
                "#B0BEC5",
                "#B0BEC5",
                "#B0BEC5",
                "#B0BEC5",
                "#B0BEC5",
                "#B0BEC5",
                "#B0BEC5",
                "#B0BEC5",
                "#B0BEC5",
                "#B0BEC5",
                "#B0BEC5",
                "#B0BEC5",
                "#B0BEC5",
                "#B0BEC5",
                "#B0BEC5",
                "#B0BEC5",
                "#B0BEC5",
                "#B0BEC5",
                "#B0BEC5",
                "#B0BEC5",
                "#B0BEC5",
                "#B0BEC5",
                "#B0BEC5",
                "#B0BEC5",
                "red",
                "#B0BEC5",
                "#B0BEC5",
                "#B0BEC5",
                "#B0BEC5",
                "#B0BEC5",
                "#B0BEC5",
                "#B0BEC5",
                "#B0BEC5",
                "#B0BEC5",
                "#B0BEC5",
                "#B0BEC5"
               ]
              ]
             }
            ],
            "label": "Topic 37",
            "method": "update"
           },
           {
            "args": [
             {
              "marker.color": [
               [
                "#B0BEC5",
                "#B0BEC5",
                "#B0BEC5",
                "#B0BEC5",
                "#B0BEC5",
                "#B0BEC5",
                "#B0BEC5",
                "#B0BEC5",
                "#B0BEC5",
                "#B0BEC5",
                "#B0BEC5",
                "#B0BEC5",
                "#B0BEC5",
                "#B0BEC5",
                "#B0BEC5",
                "#B0BEC5",
                "#B0BEC5",
                "#B0BEC5",
                "#B0BEC5",
                "#B0BEC5",
                "#B0BEC5",
                "#B0BEC5",
                "#B0BEC5",
                "#B0BEC5",
                "#B0BEC5",
                "#B0BEC5",
                "#B0BEC5",
                "#B0BEC5",
                "#B0BEC5",
                "#B0BEC5",
                "#B0BEC5",
                "#B0BEC5",
                "#B0BEC5",
                "#B0BEC5",
                "#B0BEC5",
                "#B0BEC5",
                "#B0BEC5",
                "#B0BEC5",
                "red",
                "#B0BEC5",
                "#B0BEC5",
                "#B0BEC5",
                "#B0BEC5",
                "#B0BEC5",
                "#B0BEC5",
                "#B0BEC5",
                "#B0BEC5",
                "#B0BEC5",
                "#B0BEC5"
               ]
              ]
             }
            ],
            "label": "Topic 38",
            "method": "update"
           },
           {
            "args": [
             {
              "marker.color": [
               [
                "#B0BEC5",
                "#B0BEC5",
                "#B0BEC5",
                "#B0BEC5",
                "#B0BEC5",
                "#B0BEC5",
                "#B0BEC5",
                "#B0BEC5",
                "#B0BEC5",
                "#B0BEC5",
                "#B0BEC5",
                "#B0BEC5",
                "#B0BEC5",
                "#B0BEC5",
                "#B0BEC5",
                "#B0BEC5",
                "#B0BEC5",
                "#B0BEC5",
                "#B0BEC5",
                "#B0BEC5",
                "#B0BEC5",
                "#B0BEC5",
                "#B0BEC5",
                "#B0BEC5",
                "#B0BEC5",
                "#B0BEC5",
                "#B0BEC5",
                "#B0BEC5",
                "#B0BEC5",
                "#B0BEC5",
                "#B0BEC5",
                "#B0BEC5",
                "#B0BEC5",
                "#B0BEC5",
                "#B0BEC5",
                "#B0BEC5",
                "#B0BEC5",
                "#B0BEC5",
                "#B0BEC5",
                "red",
                "#B0BEC5",
                "#B0BEC5",
                "#B0BEC5",
                "#B0BEC5",
                "#B0BEC5",
                "#B0BEC5",
                "#B0BEC5",
                "#B0BEC5",
                "#B0BEC5"
               ]
              ]
             }
            ],
            "label": "Topic 39",
            "method": "update"
           },
           {
            "args": [
             {
              "marker.color": [
               [
                "#B0BEC5",
                "#B0BEC5",
                "#B0BEC5",
                "#B0BEC5",
                "#B0BEC5",
                "#B0BEC5",
                "#B0BEC5",
                "#B0BEC5",
                "#B0BEC5",
                "#B0BEC5",
                "#B0BEC5",
                "#B0BEC5",
                "#B0BEC5",
                "#B0BEC5",
                "#B0BEC5",
                "#B0BEC5",
                "#B0BEC5",
                "#B0BEC5",
                "#B0BEC5",
                "#B0BEC5",
                "#B0BEC5",
                "#B0BEC5",
                "#B0BEC5",
                "#B0BEC5",
                "#B0BEC5",
                "#B0BEC5",
                "#B0BEC5",
                "#B0BEC5",
                "#B0BEC5",
                "#B0BEC5",
                "#B0BEC5",
                "#B0BEC5",
                "#B0BEC5",
                "#B0BEC5",
                "#B0BEC5",
                "#B0BEC5",
                "#B0BEC5",
                "#B0BEC5",
                "#B0BEC5",
                "#B0BEC5",
                "red",
                "#B0BEC5",
                "#B0BEC5",
                "#B0BEC5",
                "#B0BEC5",
                "#B0BEC5",
                "#B0BEC5",
                "#B0BEC5",
                "#B0BEC5"
               ]
              ]
             }
            ],
            "label": "Topic 40",
            "method": "update"
           },
           {
            "args": [
             {
              "marker.color": [
               [
                "#B0BEC5",
                "#B0BEC5",
                "#B0BEC5",
                "#B0BEC5",
                "#B0BEC5",
                "#B0BEC5",
                "#B0BEC5",
                "#B0BEC5",
                "#B0BEC5",
                "#B0BEC5",
                "#B0BEC5",
                "#B0BEC5",
                "#B0BEC5",
                "#B0BEC5",
                "#B0BEC5",
                "#B0BEC5",
                "#B0BEC5",
                "#B0BEC5",
                "#B0BEC5",
                "#B0BEC5",
                "#B0BEC5",
                "#B0BEC5",
                "#B0BEC5",
                "#B0BEC5",
                "#B0BEC5",
                "#B0BEC5",
                "#B0BEC5",
                "#B0BEC5",
                "#B0BEC5",
                "#B0BEC5",
                "#B0BEC5",
                "#B0BEC5",
                "#B0BEC5",
                "#B0BEC5",
                "#B0BEC5",
                "#B0BEC5",
                "#B0BEC5",
                "#B0BEC5",
                "#B0BEC5",
                "#B0BEC5",
                "#B0BEC5",
                "red",
                "#B0BEC5",
                "#B0BEC5",
                "#B0BEC5",
                "#B0BEC5",
                "#B0BEC5",
                "#B0BEC5",
                "#B0BEC5"
               ]
              ]
             }
            ],
            "label": "Topic 41",
            "method": "update"
           },
           {
            "args": [
             {
              "marker.color": [
               [
                "#B0BEC5",
                "#B0BEC5",
                "#B0BEC5",
                "#B0BEC5",
                "#B0BEC5",
                "#B0BEC5",
                "#B0BEC5",
                "#B0BEC5",
                "#B0BEC5",
                "#B0BEC5",
                "#B0BEC5",
                "#B0BEC5",
                "#B0BEC5",
                "#B0BEC5",
                "#B0BEC5",
                "#B0BEC5",
                "#B0BEC5",
                "#B0BEC5",
                "#B0BEC5",
                "#B0BEC5",
                "#B0BEC5",
                "#B0BEC5",
                "#B0BEC5",
                "#B0BEC5",
                "#B0BEC5",
                "#B0BEC5",
                "#B0BEC5",
                "#B0BEC5",
                "#B0BEC5",
                "#B0BEC5",
                "#B0BEC5",
                "#B0BEC5",
                "#B0BEC5",
                "#B0BEC5",
                "#B0BEC5",
                "#B0BEC5",
                "#B0BEC5",
                "#B0BEC5",
                "#B0BEC5",
                "#B0BEC5",
                "#B0BEC5",
                "#B0BEC5",
                "red",
                "#B0BEC5",
                "#B0BEC5",
                "#B0BEC5",
                "#B0BEC5",
                "#B0BEC5",
                "#B0BEC5"
               ]
              ]
             }
            ],
            "label": "Topic 42",
            "method": "update"
           },
           {
            "args": [
             {
              "marker.color": [
               [
                "#B0BEC5",
                "#B0BEC5",
                "#B0BEC5",
                "#B0BEC5",
                "#B0BEC5",
                "#B0BEC5",
                "#B0BEC5",
                "#B0BEC5",
                "#B0BEC5",
                "#B0BEC5",
                "#B0BEC5",
                "#B0BEC5",
                "#B0BEC5",
                "#B0BEC5",
                "#B0BEC5",
                "#B0BEC5",
                "#B0BEC5",
                "#B0BEC5",
                "#B0BEC5",
                "#B0BEC5",
                "#B0BEC5",
                "#B0BEC5",
                "#B0BEC5",
                "#B0BEC5",
                "#B0BEC5",
                "#B0BEC5",
                "#B0BEC5",
                "#B0BEC5",
                "#B0BEC5",
                "#B0BEC5",
                "#B0BEC5",
                "#B0BEC5",
                "#B0BEC5",
                "#B0BEC5",
                "#B0BEC5",
                "#B0BEC5",
                "#B0BEC5",
                "#B0BEC5",
                "#B0BEC5",
                "#B0BEC5",
                "#B0BEC5",
                "#B0BEC5",
                "#B0BEC5",
                "red",
                "#B0BEC5",
                "#B0BEC5",
                "#B0BEC5",
                "#B0BEC5",
                "#B0BEC5"
               ]
              ]
             }
            ],
            "label": "Topic 43",
            "method": "update"
           },
           {
            "args": [
             {
              "marker.color": [
               [
                "#B0BEC5",
                "#B0BEC5",
                "#B0BEC5",
                "#B0BEC5",
                "#B0BEC5",
                "#B0BEC5",
                "#B0BEC5",
                "#B0BEC5",
                "#B0BEC5",
                "#B0BEC5",
                "#B0BEC5",
                "#B0BEC5",
                "#B0BEC5",
                "#B0BEC5",
                "#B0BEC5",
                "#B0BEC5",
                "#B0BEC5",
                "#B0BEC5",
                "#B0BEC5",
                "#B0BEC5",
                "#B0BEC5",
                "#B0BEC5",
                "#B0BEC5",
                "#B0BEC5",
                "#B0BEC5",
                "#B0BEC5",
                "#B0BEC5",
                "#B0BEC5",
                "#B0BEC5",
                "#B0BEC5",
                "#B0BEC5",
                "#B0BEC5",
                "#B0BEC5",
                "#B0BEC5",
                "#B0BEC5",
                "#B0BEC5",
                "#B0BEC5",
                "#B0BEC5",
                "#B0BEC5",
                "#B0BEC5",
                "#B0BEC5",
                "#B0BEC5",
                "#B0BEC5",
                "#B0BEC5",
                "red",
                "#B0BEC5",
                "#B0BEC5",
                "#B0BEC5",
                "#B0BEC5"
               ]
              ]
             }
            ],
            "label": "Topic 44",
            "method": "update"
           },
           {
            "args": [
             {
              "marker.color": [
               [
                "#B0BEC5",
                "#B0BEC5",
                "#B0BEC5",
                "#B0BEC5",
                "#B0BEC5",
                "#B0BEC5",
                "#B0BEC5",
                "#B0BEC5",
                "#B0BEC5",
                "#B0BEC5",
                "#B0BEC5",
                "#B0BEC5",
                "#B0BEC5",
                "#B0BEC5",
                "#B0BEC5",
                "#B0BEC5",
                "#B0BEC5",
                "#B0BEC5",
                "#B0BEC5",
                "#B0BEC5",
                "#B0BEC5",
                "#B0BEC5",
                "#B0BEC5",
                "#B0BEC5",
                "#B0BEC5",
                "#B0BEC5",
                "#B0BEC5",
                "#B0BEC5",
                "#B0BEC5",
                "#B0BEC5",
                "#B0BEC5",
                "#B0BEC5",
                "#B0BEC5",
                "#B0BEC5",
                "#B0BEC5",
                "#B0BEC5",
                "#B0BEC5",
                "#B0BEC5",
                "#B0BEC5",
                "#B0BEC5",
                "#B0BEC5",
                "#B0BEC5",
                "#B0BEC5",
                "#B0BEC5",
                "#B0BEC5",
                "red",
                "#B0BEC5",
                "#B0BEC5",
                "#B0BEC5"
               ]
              ]
             }
            ],
            "label": "Topic 45",
            "method": "update"
           },
           {
            "args": [
             {
              "marker.color": [
               [
                "#B0BEC5",
                "#B0BEC5",
                "#B0BEC5",
                "#B0BEC5",
                "#B0BEC5",
                "#B0BEC5",
                "#B0BEC5",
                "#B0BEC5",
                "#B0BEC5",
                "#B0BEC5",
                "#B0BEC5",
                "#B0BEC5",
                "#B0BEC5",
                "#B0BEC5",
                "#B0BEC5",
                "#B0BEC5",
                "#B0BEC5",
                "#B0BEC5",
                "#B0BEC5",
                "#B0BEC5",
                "#B0BEC5",
                "#B0BEC5",
                "#B0BEC5",
                "#B0BEC5",
                "#B0BEC5",
                "#B0BEC5",
                "#B0BEC5",
                "#B0BEC5",
                "#B0BEC5",
                "#B0BEC5",
                "#B0BEC5",
                "#B0BEC5",
                "#B0BEC5",
                "#B0BEC5",
                "#B0BEC5",
                "#B0BEC5",
                "#B0BEC5",
                "#B0BEC5",
                "#B0BEC5",
                "#B0BEC5",
                "#B0BEC5",
                "#B0BEC5",
                "#B0BEC5",
                "#B0BEC5",
                "#B0BEC5",
                "#B0BEC5",
                "red",
                "#B0BEC5",
                "#B0BEC5"
               ]
              ]
             }
            ],
            "label": "Topic 46",
            "method": "update"
           },
           {
            "args": [
             {
              "marker.color": [
               [
                "#B0BEC5",
                "#B0BEC5",
                "#B0BEC5",
                "#B0BEC5",
                "#B0BEC5",
                "#B0BEC5",
                "#B0BEC5",
                "#B0BEC5",
                "#B0BEC5",
                "#B0BEC5",
                "#B0BEC5",
                "#B0BEC5",
                "#B0BEC5",
                "#B0BEC5",
                "#B0BEC5",
                "#B0BEC5",
                "#B0BEC5",
                "#B0BEC5",
                "#B0BEC5",
                "#B0BEC5",
                "#B0BEC5",
                "#B0BEC5",
                "#B0BEC5",
                "#B0BEC5",
                "#B0BEC5",
                "#B0BEC5",
                "#B0BEC5",
                "#B0BEC5",
                "#B0BEC5",
                "#B0BEC5",
                "#B0BEC5",
                "#B0BEC5",
                "#B0BEC5",
                "#B0BEC5",
                "#B0BEC5",
                "#B0BEC5",
                "#B0BEC5",
                "#B0BEC5",
                "#B0BEC5",
                "#B0BEC5",
                "#B0BEC5",
                "#B0BEC5",
                "#B0BEC5",
                "#B0BEC5",
                "#B0BEC5",
                "#B0BEC5",
                "#B0BEC5",
                "red",
                "#B0BEC5"
               ]
              ]
             }
            ],
            "label": "Topic 47",
            "method": "update"
           },
           {
            "args": [
             {
              "marker.color": [
               [
                "#B0BEC5",
                "#B0BEC5",
                "#B0BEC5",
                "#B0BEC5",
                "#B0BEC5",
                "#B0BEC5",
                "#B0BEC5",
                "#B0BEC5",
                "#B0BEC5",
                "#B0BEC5",
                "#B0BEC5",
                "#B0BEC5",
                "#B0BEC5",
                "#B0BEC5",
                "#B0BEC5",
                "#B0BEC5",
                "#B0BEC5",
                "#B0BEC5",
                "#B0BEC5",
                "#B0BEC5",
                "#B0BEC5",
                "#B0BEC5",
                "#B0BEC5",
                "#B0BEC5",
                "#B0BEC5",
                "#B0BEC5",
                "#B0BEC5",
                "#B0BEC5",
                "#B0BEC5",
                "#B0BEC5",
                "#B0BEC5",
                "#B0BEC5",
                "#B0BEC5",
                "#B0BEC5",
                "#B0BEC5",
                "#B0BEC5",
                "#B0BEC5",
                "#B0BEC5",
                "#B0BEC5",
                "#B0BEC5",
                "#B0BEC5",
                "#B0BEC5",
                "#B0BEC5",
                "#B0BEC5",
                "#B0BEC5",
                "#B0BEC5",
                "#B0BEC5",
                "#B0BEC5",
                "red"
               ]
              ]
             }
            ],
            "label": "Topic 48",
            "method": "update"
           }
          ]
         }
        ],
        "shapes": [
         {
          "line": {
           "color": "#CFD8DC",
           "width": 2
          },
          "type": "line",
          "x0": 7.63029659986496,
          "x1": 7.63029659986496,
          "y0": -15.711579322814941,
          "y1": 21.09232940673828
         },
         {
          "line": {
           "color": "#9E9E9E",
           "width": 2
          },
          "type": "line",
          "x0": -5.933549618721008,
          "x1": 21.194142818450928,
          "y0": 2.690375041961669,
          "y1": 2.690375041961669
         }
        ],
        "annotations": [
         {
          "showarrow": false,
          "text": "D1",
          "x": -5.933549618721008,
          "y": 2.690375041961669,
          "yshift": 10
         },
         {
          "showarrow": false,
          "text": "D2",
          "x": 7.63029659986496,
          "xshift": 10,
          "y": 21.09232940673828
         }
        ]
       },
       "config": {
        "plotlyServerURL": "https://plot.ly"
       }
      },
      "text/html": "<div>                            <div id=\"8c848a3b-062e-452f-8922-727476aa0c59\" class=\"plotly-graph-div\" style=\"height:650px; width:650px;\"></div>            <script type=\"text/javascript\">                require([\"plotly\"], function(Plotly) {                    window.PLOTLYENV=window.PLOTLYENV || {};                                    if (document.getElementById(\"8c848a3b-062e-452f-8922-727476aa0c59\")) {                    Plotly.newPlot(                        \"8c848a3b-062e-452f-8922-727476aa0c59\",                        [{\"customdata\":[[0,\"mr | gentleman | mr mr | noble\",13666],[1,\"hon | right | right hon | would\",10266],[2,\"school | child | education | trade\",9822],[3,\"amendment | committee | government | parliament\",6251],[4,\"ireland | scotland | irish | country\",6152],[5,\"case | court | judge | witness\",4976],[6,\"member | friend | friend member | hon member\",3777],[7,\"house | tenant | landlord | rent\",3679],[8,\"church | catholic | roman catholic | roman\",3143],[9,\"coal | water | food | industry\",3016],[10,\"debate | matter | argument | difficulty\",2904],[11,\"per cent | cent | per | bank\",2726],[12,\"tax | pension | taxation | income\",1813],[13,\"nan | nan nan | nan hannan | nan dundas\",1483],[14,\"reading | second | second reading | post\",1336],[15,\"hospital | health | medical | disease\",1039],[16,\"petition | petitioner | withdraw | presented\",857],[17,\"year | age | month | week\",636],[18,\"libel | danger | evil | anxiety\",610],[19,\"td | td right | tr td | tr\",467],[20,\"gent gent | gent | lieut lieut | lieut\",458],[21,\"motion | principle | hon | observation\",436],[22,\"figure | moment | time | figure figure\",297],[23,\"fishery | fishing | fish | fisherman\",289],[24,\"proposal | scheme | proposal hon | proposal right\",256],[25,\"fraud | lottery | bribery | corruption\",254],[26,\"grant | concession | make concession | made\",218],[27,\"licence | licensing | registration | register\",207],[28,\"measure | measure would | principle | present measure\",203],[29,\"oath | pledge | swear | take oath\",195],[30,\"balfour | morrison | hon balfour | lord balfour\",192],[31,\"advantage | reason | great advantage | good reason\",177],[32,\"estimate | population | supplementary estimate | supplementary\",177],[33,\"cotton | tithe | wool | cotton trade\",174],[34,\"peel | rose | robert peel | sir\",147],[35,\"sort | ought | think ought | sort thing\",144],[36,\"regret | regretted | hon | hon regretted\",135],[37,\"mean | say | say mean | mean mean\",134],[38,\"consultation | appointment | consultation consultation | consultation paper\",130],[39,\"yes | yes yes | course | certainly\",117],[40,\"gladstone | hon gladstone | gladstone said | gentleman gladstone\",109],[41,\"adjournment | adjournment debate | debate | adjourn\",103],[42,\"view | view view | object view | object\",91],[43,\"interruption | interruption interruption | many interruption | position interruption\",86],[44,\"resolution | resolution resolution | hon resolution | resolution hon\",73],[45,\"grievance | real grievance | redress | real\",69],[46,\"system | present system | system system | system work\",68],[47,\"notice | notice question | notice given | give notice\",66],[48,\"division | divide | go division | lobby\",62]],\"hovertemplate\":\"<b>Topic %{customdata[0]}</b><br>%{customdata[1]}<br>Size: %{customdata[2]}\",\"legendgroup\":\"\",\"marker\":{\"color\":\"#B0BEC5\",\"size\":[13666,10266,9822,6251,6152,4976,3777,3679,3143,3016,2904,2726,1813,1483,1336,1039,857,636,610,467,458,436,297,289,256,254,218,207,203,195,192,177,177,174,147,144,135,134,130,117,109,103,91,86,73,69,68,66,62],\"sizemode\":\"area\",\"sizeref\":8.54125,\"symbol\":\"circle\",\"line\":{\"color\":\"DarkSlateGrey\",\"width\":2}},\"mode\":\"markers\",\"name\":\"\",\"orientation\":\"v\",\"showlegend\":false,\"x\":[17.94617462158203,17.682571411132812,17.548490524291992,17.978254318237305,18.266992568969727,17.685176849365234,13.062039375305176,17.69188690185547,18.429689407348633,17.473424911499023,13.067350387573242,3.997535228729248,3.997490406036377,-1.3716354370117188,5.127131938934326,7.88970947265625,5.1271538734436035,8.139230728149414,6.571536064147949,8.229475975036621,-1.293694019317627,-4.820160865783691,-3.438002109527588,7.4737548828125,-4.852780818939209,6.655016899108887,7.590043544769287,7.080212116241455,-5.004518985748291,-5.149311065673828,-1.0615586042404175,-3.385227918624878,8.028895378112793,8.188389778137207,-1.1331077814102173,-4.658720016479492,-1.3989876508712769,-3.4653849601745605,-4.838191509246826,-5.159608364105225,-1.0150176286697388,9.929898262023926,-4.720073223114014,9.610989570617676,9.681474685668945,-4.791843891143799,-3.5334203243255615,10.023052215576172,9.78019905090332],\"xaxis\":\"x\",\"y\":[3.3804962635040283,2.980558156967163,2.8748228549957275,3.975492477416992,3.2618019580841064,4.150934219360352,12.017060279846191,4.051849365234375,3.1175575256347656,3.9509289264678955,12.021601676940918,-5.078005790710449,-5.077971935272217,-1.789212703704834,18.34110450744629,0.7288600206375122,18.341156005859375,0.5922244191169739,1.268837571144104,1.236602783203125,-1.6325645446777344,12.322458267211914,-13.29709529876709,1.6367661952972412,12.354975700378418,1.3440346717834473,1.4639639854431152,1.4200537204742432,12.506656646728516,12.651361465454102,-0.7571887373924255,-13.465201377868652,1.087002158164978,0.5216333866119385,-1.2269024848937988,-11.71159839630127,-1.5392388105392456,-13.662242889404297,-11.480023384094238,-11.793600082397461,-0.9413628578186035,7.386535167694092,12.222747802734375,7.729098796844482,7.655426502227783,-11.567394256591797,-13.378144264221191,7.289492607116699,7.554773330688477],\"yaxis\":\"y\",\"type\":\"scatter\"}],                        {\"template\":{\"data\":{\"barpolar\":[{\"marker\":{\"line\":{\"color\":\"white\",\"width\":0.5},\"pattern\":{\"fillmode\":\"overlay\",\"size\":10,\"solidity\":0.2}},\"type\":\"barpolar\"}],\"bar\":[{\"error_x\":{\"color\":\"rgb(36,36,36)\"},\"error_y\":{\"color\":\"rgb(36,36,36)\"},\"marker\":{\"line\":{\"color\":\"white\",\"width\":0.5},\"pattern\":{\"fillmode\":\"overlay\",\"size\":10,\"solidity\":0.2}},\"type\":\"bar\"}],\"carpet\":[{\"aaxis\":{\"endlinecolor\":\"rgb(36,36,36)\",\"gridcolor\":\"white\",\"linecolor\":\"white\",\"minorgridcolor\":\"white\",\"startlinecolor\":\"rgb(36,36,36)\"},\"baxis\":{\"endlinecolor\":\"rgb(36,36,36)\",\"gridcolor\":\"white\",\"linecolor\":\"white\",\"minorgridcolor\":\"white\",\"startlinecolor\":\"rgb(36,36,36)\"},\"type\":\"carpet\"}],\"choropleth\":[{\"colorbar\":{\"outlinewidth\":1,\"tickcolor\":\"rgb(36,36,36)\",\"ticks\":\"outside\"},\"type\":\"choropleth\"}],\"contourcarpet\":[{\"colorbar\":{\"outlinewidth\":1,\"tickcolor\":\"rgb(36,36,36)\",\"ticks\":\"outside\"},\"type\":\"contourcarpet\"}],\"contour\":[{\"colorbar\":{\"outlinewidth\":1,\"tickcolor\":\"rgb(36,36,36)\",\"ticks\":\"outside\"},\"colorscale\":[[0.0,\"#440154\"],[0.1111111111111111,\"#482878\"],[0.2222222222222222,\"#3e4989\"],[0.3333333333333333,\"#31688e\"],[0.4444444444444444,\"#26828e\"],[0.5555555555555556,\"#1f9e89\"],[0.6666666666666666,\"#35b779\"],[0.7777777777777778,\"#6ece58\"],[0.8888888888888888,\"#b5de2b\"],[1.0,\"#fde725\"]],\"type\":\"contour\"}],\"heatmapgl\":[{\"colorbar\":{\"outlinewidth\":1,\"tickcolor\":\"rgb(36,36,36)\",\"ticks\":\"outside\"},\"colorscale\":[[0.0,\"#440154\"],[0.1111111111111111,\"#482878\"],[0.2222222222222222,\"#3e4989\"],[0.3333333333333333,\"#31688e\"],[0.4444444444444444,\"#26828e\"],[0.5555555555555556,\"#1f9e89\"],[0.6666666666666666,\"#35b779\"],[0.7777777777777778,\"#6ece58\"],[0.8888888888888888,\"#b5de2b\"],[1.0,\"#fde725\"]],\"type\":\"heatmapgl\"}],\"heatmap\":[{\"colorbar\":{\"outlinewidth\":1,\"tickcolor\":\"rgb(36,36,36)\",\"ticks\":\"outside\"},\"colorscale\":[[0.0,\"#440154\"],[0.1111111111111111,\"#482878\"],[0.2222222222222222,\"#3e4989\"],[0.3333333333333333,\"#31688e\"],[0.4444444444444444,\"#26828e\"],[0.5555555555555556,\"#1f9e89\"],[0.6666666666666666,\"#35b779\"],[0.7777777777777778,\"#6ece58\"],[0.8888888888888888,\"#b5de2b\"],[1.0,\"#fde725\"]],\"type\":\"heatmap\"}],\"histogram2dcontour\":[{\"colorbar\":{\"outlinewidth\":1,\"tickcolor\":\"rgb(36,36,36)\",\"ticks\":\"outside\"},\"colorscale\":[[0.0,\"#440154\"],[0.1111111111111111,\"#482878\"],[0.2222222222222222,\"#3e4989\"],[0.3333333333333333,\"#31688e\"],[0.4444444444444444,\"#26828e\"],[0.5555555555555556,\"#1f9e89\"],[0.6666666666666666,\"#35b779\"],[0.7777777777777778,\"#6ece58\"],[0.8888888888888888,\"#b5de2b\"],[1.0,\"#fde725\"]],\"type\":\"histogram2dcontour\"}],\"histogram2d\":[{\"colorbar\":{\"outlinewidth\":1,\"tickcolor\":\"rgb(36,36,36)\",\"ticks\":\"outside\"},\"colorscale\":[[0.0,\"#440154\"],[0.1111111111111111,\"#482878\"],[0.2222222222222222,\"#3e4989\"],[0.3333333333333333,\"#31688e\"],[0.4444444444444444,\"#26828e\"],[0.5555555555555556,\"#1f9e89\"],[0.6666666666666666,\"#35b779\"],[0.7777777777777778,\"#6ece58\"],[0.8888888888888888,\"#b5de2b\"],[1.0,\"#fde725\"]],\"type\":\"histogram2d\"}],\"histogram\":[{\"marker\":{\"line\":{\"color\":\"white\",\"width\":0.6}},\"type\":\"histogram\"}],\"mesh3d\":[{\"colorbar\":{\"outlinewidth\":1,\"tickcolor\":\"rgb(36,36,36)\",\"ticks\":\"outside\"},\"type\":\"mesh3d\"}],\"parcoords\":[{\"line\":{\"colorbar\":{\"outlinewidth\":1,\"tickcolor\":\"rgb(36,36,36)\",\"ticks\":\"outside\"}},\"type\":\"parcoords\"}],\"pie\":[{\"automargin\":true,\"type\":\"pie\"}],\"scatter3d\":[{\"line\":{\"colorbar\":{\"outlinewidth\":1,\"tickcolor\":\"rgb(36,36,36)\",\"ticks\":\"outside\"}},\"marker\":{\"colorbar\":{\"outlinewidth\":1,\"tickcolor\":\"rgb(36,36,36)\",\"ticks\":\"outside\"}},\"type\":\"scatter3d\"}],\"scattercarpet\":[{\"marker\":{\"colorbar\":{\"outlinewidth\":1,\"tickcolor\":\"rgb(36,36,36)\",\"ticks\":\"outside\"}},\"type\":\"scattercarpet\"}],\"scattergeo\":[{\"marker\":{\"colorbar\":{\"outlinewidth\":1,\"tickcolor\":\"rgb(36,36,36)\",\"ticks\":\"outside\"}},\"type\":\"scattergeo\"}],\"scattergl\":[{\"marker\":{\"colorbar\":{\"outlinewidth\":1,\"tickcolor\":\"rgb(36,36,36)\",\"ticks\":\"outside\"}},\"type\":\"scattergl\"}],\"scattermapbox\":[{\"marker\":{\"colorbar\":{\"outlinewidth\":1,\"tickcolor\":\"rgb(36,36,36)\",\"ticks\":\"outside\"}},\"type\":\"scattermapbox\"}],\"scatterpolargl\":[{\"marker\":{\"colorbar\":{\"outlinewidth\":1,\"tickcolor\":\"rgb(36,36,36)\",\"ticks\":\"outside\"}},\"type\":\"scatterpolargl\"}],\"scatterpolar\":[{\"marker\":{\"colorbar\":{\"outlinewidth\":1,\"tickcolor\":\"rgb(36,36,36)\",\"ticks\":\"outside\"}},\"type\":\"scatterpolar\"}],\"scatter\":[{\"fillpattern\":{\"fillmode\":\"overlay\",\"size\":10,\"solidity\":0.2},\"type\":\"scatter\"}],\"scatterternary\":[{\"marker\":{\"colorbar\":{\"outlinewidth\":1,\"tickcolor\":\"rgb(36,36,36)\",\"ticks\":\"outside\"}},\"type\":\"scatterternary\"}],\"surface\":[{\"colorbar\":{\"outlinewidth\":1,\"tickcolor\":\"rgb(36,36,36)\",\"ticks\":\"outside\"},\"colorscale\":[[0.0,\"#440154\"],[0.1111111111111111,\"#482878\"],[0.2222222222222222,\"#3e4989\"],[0.3333333333333333,\"#31688e\"],[0.4444444444444444,\"#26828e\"],[0.5555555555555556,\"#1f9e89\"],[0.6666666666666666,\"#35b779\"],[0.7777777777777778,\"#6ece58\"],[0.8888888888888888,\"#b5de2b\"],[1.0,\"#fde725\"]],\"type\":\"surface\"}],\"table\":[{\"cells\":{\"fill\":{\"color\":\"rgb(237,237,237)\"},\"line\":{\"color\":\"white\"}},\"header\":{\"fill\":{\"color\":\"rgb(217,217,217)\"},\"line\":{\"color\":\"white\"}},\"type\":\"table\"}]},\"layout\":{\"annotationdefaults\":{\"arrowhead\":0,\"arrowwidth\":1},\"autotypenumbers\":\"strict\",\"coloraxis\":{\"colorbar\":{\"outlinewidth\":1,\"tickcolor\":\"rgb(36,36,36)\",\"ticks\":\"outside\"}},\"colorscale\":{\"diverging\":[[0.0,\"rgb(103,0,31)\"],[0.1,\"rgb(178,24,43)\"],[0.2,\"rgb(214,96,77)\"],[0.3,\"rgb(244,165,130)\"],[0.4,\"rgb(253,219,199)\"],[0.5,\"rgb(247,247,247)\"],[0.6,\"rgb(209,229,240)\"],[0.7,\"rgb(146,197,222)\"],[0.8,\"rgb(67,147,195)\"],[0.9,\"rgb(33,102,172)\"],[1.0,\"rgb(5,48,97)\"]],\"sequential\":[[0.0,\"#440154\"],[0.1111111111111111,\"#482878\"],[0.2222222222222222,\"#3e4989\"],[0.3333333333333333,\"#31688e\"],[0.4444444444444444,\"#26828e\"],[0.5555555555555556,\"#1f9e89\"],[0.6666666666666666,\"#35b779\"],[0.7777777777777778,\"#6ece58\"],[0.8888888888888888,\"#b5de2b\"],[1.0,\"#fde725\"]],\"sequentialminus\":[[0.0,\"#440154\"],[0.1111111111111111,\"#482878\"],[0.2222222222222222,\"#3e4989\"],[0.3333333333333333,\"#31688e\"],[0.4444444444444444,\"#26828e\"],[0.5555555555555556,\"#1f9e89\"],[0.6666666666666666,\"#35b779\"],[0.7777777777777778,\"#6ece58\"],[0.8888888888888888,\"#b5de2b\"],[1.0,\"#fde725\"]]},\"colorway\":[\"#1F77B4\",\"#FF7F0E\",\"#2CA02C\",\"#D62728\",\"#9467BD\",\"#8C564B\",\"#E377C2\",\"#7F7F7F\",\"#BCBD22\",\"#17BECF\"],\"font\":{\"color\":\"rgb(36,36,36)\"},\"geo\":{\"bgcolor\":\"white\",\"lakecolor\":\"white\",\"landcolor\":\"white\",\"showlakes\":true,\"showland\":true,\"subunitcolor\":\"white\"},\"hoverlabel\":{\"align\":\"left\"},\"hovermode\":\"closest\",\"mapbox\":{\"style\":\"light\"},\"paper_bgcolor\":\"white\",\"plot_bgcolor\":\"white\",\"polar\":{\"angularaxis\":{\"gridcolor\":\"rgb(232,232,232)\",\"linecolor\":\"rgb(36,36,36)\",\"showgrid\":false,\"showline\":true,\"ticks\":\"outside\"},\"bgcolor\":\"white\",\"radialaxis\":{\"gridcolor\":\"rgb(232,232,232)\",\"linecolor\":\"rgb(36,36,36)\",\"showgrid\":false,\"showline\":true,\"ticks\":\"outside\"}},\"scene\":{\"xaxis\":{\"backgroundcolor\":\"white\",\"gridcolor\":\"rgb(232,232,232)\",\"gridwidth\":2,\"linecolor\":\"rgb(36,36,36)\",\"showbackground\":true,\"showgrid\":false,\"showline\":true,\"ticks\":\"outside\",\"zeroline\":false,\"zerolinecolor\":\"rgb(36,36,36)\"},\"yaxis\":{\"backgroundcolor\":\"white\",\"gridcolor\":\"rgb(232,232,232)\",\"gridwidth\":2,\"linecolor\":\"rgb(36,36,36)\",\"showbackground\":true,\"showgrid\":false,\"showline\":true,\"ticks\":\"outside\",\"zeroline\":false,\"zerolinecolor\":\"rgb(36,36,36)\"},\"zaxis\":{\"backgroundcolor\":\"white\",\"gridcolor\":\"rgb(232,232,232)\",\"gridwidth\":2,\"linecolor\":\"rgb(36,36,36)\",\"showbackground\":true,\"showgrid\":false,\"showline\":true,\"ticks\":\"outside\",\"zeroline\":false,\"zerolinecolor\":\"rgb(36,36,36)\"}},\"shapedefaults\":{\"fillcolor\":\"black\",\"line\":{\"width\":0},\"opacity\":0.3},\"ternary\":{\"aaxis\":{\"gridcolor\":\"rgb(232,232,232)\",\"linecolor\":\"rgb(36,36,36)\",\"showgrid\":false,\"showline\":true,\"ticks\":\"outside\"},\"baxis\":{\"gridcolor\":\"rgb(232,232,232)\",\"linecolor\":\"rgb(36,36,36)\",\"showgrid\":false,\"showline\":true,\"ticks\":\"outside\"},\"bgcolor\":\"white\",\"caxis\":{\"gridcolor\":\"rgb(232,232,232)\",\"linecolor\":\"rgb(36,36,36)\",\"showgrid\":false,\"showline\":true,\"ticks\":\"outside\"}},\"title\":{\"x\":0.05},\"xaxis\":{\"automargin\":true,\"gridcolor\":\"rgb(232,232,232)\",\"linecolor\":\"rgb(36,36,36)\",\"showgrid\":false,\"showline\":true,\"ticks\":\"outside\",\"title\":{\"standoff\":15},\"zeroline\":false,\"zerolinecolor\":\"rgb(36,36,36)\"},\"yaxis\":{\"automargin\":true,\"gridcolor\":\"rgb(232,232,232)\",\"linecolor\":\"rgb(36,36,36)\",\"showgrid\":false,\"showline\":true,\"ticks\":\"outside\",\"title\":{\"standoff\":15},\"zeroline\":false,\"zerolinecolor\":\"rgb(36,36,36)\"}}},\"xaxis\":{\"anchor\":\"y\",\"domain\":[0.0,1.0],\"title\":{\"text\":\"\"},\"visible\":false,\"range\":[-5.933549618721008,21.194142818450928]},\"yaxis\":{\"anchor\":\"x\",\"domain\":[0.0,1.0],\"title\":{\"text\":\"\"},\"visible\":false,\"range\":[-15.711579322814941,21.09232940673828]},\"legend\":{\"tracegroupgap\":0,\"itemsizing\":\"constant\"},\"margin\":{\"t\":60},\"title\":{\"font\":{\"size\":22,\"color\":\"Black\"},\"text\":\"<b>Intertopic Distance Map</b>\",\"y\":0.95,\"x\":0.5,\"xanchor\":\"center\",\"yanchor\":\"top\"},\"hoverlabel\":{\"font\":{\"size\":16,\"family\":\"Rockwell\"},\"bgcolor\":\"white\"},\"width\":650,\"height\":650,\"sliders\":[{\"active\":0,\"pad\":{\"t\":50},\"steps\":[{\"args\":[{\"marker.color\":[[\"red\",\"#B0BEC5\",\"#B0BEC5\",\"#B0BEC5\",\"#B0BEC5\",\"#B0BEC5\",\"#B0BEC5\",\"#B0BEC5\",\"#B0BEC5\",\"#B0BEC5\",\"#B0BEC5\",\"#B0BEC5\",\"#B0BEC5\",\"#B0BEC5\",\"#B0BEC5\",\"#B0BEC5\",\"#B0BEC5\",\"#B0BEC5\",\"#B0BEC5\",\"#B0BEC5\",\"#B0BEC5\",\"#B0BEC5\",\"#B0BEC5\",\"#B0BEC5\",\"#B0BEC5\",\"#B0BEC5\",\"#B0BEC5\",\"#B0BEC5\",\"#B0BEC5\",\"#B0BEC5\",\"#B0BEC5\",\"#B0BEC5\",\"#B0BEC5\",\"#B0BEC5\",\"#B0BEC5\",\"#B0BEC5\",\"#B0BEC5\",\"#B0BEC5\",\"#B0BEC5\",\"#B0BEC5\",\"#B0BEC5\",\"#B0BEC5\",\"#B0BEC5\",\"#B0BEC5\",\"#B0BEC5\",\"#B0BEC5\",\"#B0BEC5\",\"#B0BEC5\",\"#B0BEC5\"]]}],\"label\":\"Topic 0\",\"method\":\"update\"},{\"args\":[{\"marker.color\":[[\"#B0BEC5\",\"red\",\"#B0BEC5\",\"#B0BEC5\",\"#B0BEC5\",\"#B0BEC5\",\"#B0BEC5\",\"#B0BEC5\",\"#B0BEC5\",\"#B0BEC5\",\"#B0BEC5\",\"#B0BEC5\",\"#B0BEC5\",\"#B0BEC5\",\"#B0BEC5\",\"#B0BEC5\",\"#B0BEC5\",\"#B0BEC5\",\"#B0BEC5\",\"#B0BEC5\",\"#B0BEC5\",\"#B0BEC5\",\"#B0BEC5\",\"#B0BEC5\",\"#B0BEC5\",\"#B0BEC5\",\"#B0BEC5\",\"#B0BEC5\",\"#B0BEC5\",\"#B0BEC5\",\"#B0BEC5\",\"#B0BEC5\",\"#B0BEC5\",\"#B0BEC5\",\"#B0BEC5\",\"#B0BEC5\",\"#B0BEC5\",\"#B0BEC5\",\"#B0BEC5\",\"#B0BEC5\",\"#B0BEC5\",\"#B0BEC5\",\"#B0BEC5\",\"#B0BEC5\",\"#B0BEC5\",\"#B0BEC5\",\"#B0BEC5\",\"#B0BEC5\",\"#B0BEC5\"]]}],\"label\":\"Topic 1\",\"method\":\"update\"},{\"args\":[{\"marker.color\":[[\"#B0BEC5\",\"#B0BEC5\",\"red\",\"#B0BEC5\",\"#B0BEC5\",\"#B0BEC5\",\"#B0BEC5\",\"#B0BEC5\",\"#B0BEC5\",\"#B0BEC5\",\"#B0BEC5\",\"#B0BEC5\",\"#B0BEC5\",\"#B0BEC5\",\"#B0BEC5\",\"#B0BEC5\",\"#B0BEC5\",\"#B0BEC5\",\"#B0BEC5\",\"#B0BEC5\",\"#B0BEC5\",\"#B0BEC5\",\"#B0BEC5\",\"#B0BEC5\",\"#B0BEC5\",\"#B0BEC5\",\"#B0BEC5\",\"#B0BEC5\",\"#B0BEC5\",\"#B0BEC5\",\"#B0BEC5\",\"#B0BEC5\",\"#B0BEC5\",\"#B0BEC5\",\"#B0BEC5\",\"#B0BEC5\",\"#B0BEC5\",\"#B0BEC5\",\"#B0BEC5\",\"#B0BEC5\",\"#B0BEC5\",\"#B0BEC5\",\"#B0BEC5\",\"#B0BEC5\",\"#B0BEC5\",\"#B0BEC5\",\"#B0BEC5\",\"#B0BEC5\",\"#B0BEC5\"]]}],\"label\":\"Topic 2\",\"method\":\"update\"},{\"args\":[{\"marker.color\":[[\"#B0BEC5\",\"#B0BEC5\",\"#B0BEC5\",\"red\",\"#B0BEC5\",\"#B0BEC5\",\"#B0BEC5\",\"#B0BEC5\",\"#B0BEC5\",\"#B0BEC5\",\"#B0BEC5\",\"#B0BEC5\",\"#B0BEC5\",\"#B0BEC5\",\"#B0BEC5\",\"#B0BEC5\",\"#B0BEC5\",\"#B0BEC5\",\"#B0BEC5\",\"#B0BEC5\",\"#B0BEC5\",\"#B0BEC5\",\"#B0BEC5\",\"#B0BEC5\",\"#B0BEC5\",\"#B0BEC5\",\"#B0BEC5\",\"#B0BEC5\",\"#B0BEC5\",\"#B0BEC5\",\"#B0BEC5\",\"#B0BEC5\",\"#B0BEC5\",\"#B0BEC5\",\"#B0BEC5\",\"#B0BEC5\",\"#B0BEC5\",\"#B0BEC5\",\"#B0BEC5\",\"#B0BEC5\",\"#B0BEC5\",\"#B0BEC5\",\"#B0BEC5\",\"#B0BEC5\",\"#B0BEC5\",\"#B0BEC5\",\"#B0BEC5\",\"#B0BEC5\",\"#B0BEC5\"]]}],\"label\":\"Topic 3\",\"method\":\"update\"},{\"args\":[{\"marker.color\":[[\"#B0BEC5\",\"#B0BEC5\",\"#B0BEC5\",\"#B0BEC5\",\"red\",\"#B0BEC5\",\"#B0BEC5\",\"#B0BEC5\",\"#B0BEC5\",\"#B0BEC5\",\"#B0BEC5\",\"#B0BEC5\",\"#B0BEC5\",\"#B0BEC5\",\"#B0BEC5\",\"#B0BEC5\",\"#B0BEC5\",\"#B0BEC5\",\"#B0BEC5\",\"#B0BEC5\",\"#B0BEC5\",\"#B0BEC5\",\"#B0BEC5\",\"#B0BEC5\",\"#B0BEC5\",\"#B0BEC5\",\"#B0BEC5\",\"#B0BEC5\",\"#B0BEC5\",\"#B0BEC5\",\"#B0BEC5\",\"#B0BEC5\",\"#B0BEC5\",\"#B0BEC5\",\"#B0BEC5\",\"#B0BEC5\",\"#B0BEC5\",\"#B0BEC5\",\"#B0BEC5\",\"#B0BEC5\",\"#B0BEC5\",\"#B0BEC5\",\"#B0BEC5\",\"#B0BEC5\",\"#B0BEC5\",\"#B0BEC5\",\"#B0BEC5\",\"#B0BEC5\",\"#B0BEC5\"]]}],\"label\":\"Topic 4\",\"method\":\"update\"},{\"args\":[{\"marker.color\":[[\"#B0BEC5\",\"#B0BEC5\",\"#B0BEC5\",\"#B0BEC5\",\"#B0BEC5\",\"red\",\"#B0BEC5\",\"#B0BEC5\",\"#B0BEC5\",\"#B0BEC5\",\"#B0BEC5\",\"#B0BEC5\",\"#B0BEC5\",\"#B0BEC5\",\"#B0BEC5\",\"#B0BEC5\",\"#B0BEC5\",\"#B0BEC5\",\"#B0BEC5\",\"#B0BEC5\",\"#B0BEC5\",\"#B0BEC5\",\"#B0BEC5\",\"#B0BEC5\",\"#B0BEC5\",\"#B0BEC5\",\"#B0BEC5\",\"#B0BEC5\",\"#B0BEC5\",\"#B0BEC5\",\"#B0BEC5\",\"#B0BEC5\",\"#B0BEC5\",\"#B0BEC5\",\"#B0BEC5\",\"#B0BEC5\",\"#B0BEC5\",\"#B0BEC5\",\"#B0BEC5\",\"#B0BEC5\",\"#B0BEC5\",\"#B0BEC5\",\"#B0BEC5\",\"#B0BEC5\",\"#B0BEC5\",\"#B0BEC5\",\"#B0BEC5\",\"#B0BEC5\",\"#B0BEC5\"]]}],\"label\":\"Topic 5\",\"method\":\"update\"},{\"args\":[{\"marker.color\":[[\"#B0BEC5\",\"#B0BEC5\",\"#B0BEC5\",\"#B0BEC5\",\"#B0BEC5\",\"#B0BEC5\",\"red\",\"#B0BEC5\",\"#B0BEC5\",\"#B0BEC5\",\"#B0BEC5\",\"#B0BEC5\",\"#B0BEC5\",\"#B0BEC5\",\"#B0BEC5\",\"#B0BEC5\",\"#B0BEC5\",\"#B0BEC5\",\"#B0BEC5\",\"#B0BEC5\",\"#B0BEC5\",\"#B0BEC5\",\"#B0BEC5\",\"#B0BEC5\",\"#B0BEC5\",\"#B0BEC5\",\"#B0BEC5\",\"#B0BEC5\",\"#B0BEC5\",\"#B0BEC5\",\"#B0BEC5\",\"#B0BEC5\",\"#B0BEC5\",\"#B0BEC5\",\"#B0BEC5\",\"#B0BEC5\",\"#B0BEC5\",\"#B0BEC5\",\"#B0BEC5\",\"#B0BEC5\",\"#B0BEC5\",\"#B0BEC5\",\"#B0BEC5\",\"#B0BEC5\",\"#B0BEC5\",\"#B0BEC5\",\"#B0BEC5\",\"#B0BEC5\",\"#B0BEC5\"]]}],\"label\":\"Topic 6\",\"method\":\"update\"},{\"args\":[{\"marker.color\":[[\"#B0BEC5\",\"#B0BEC5\",\"#B0BEC5\",\"#B0BEC5\",\"#B0BEC5\",\"#B0BEC5\",\"#B0BEC5\",\"red\",\"#B0BEC5\",\"#B0BEC5\",\"#B0BEC5\",\"#B0BEC5\",\"#B0BEC5\",\"#B0BEC5\",\"#B0BEC5\",\"#B0BEC5\",\"#B0BEC5\",\"#B0BEC5\",\"#B0BEC5\",\"#B0BEC5\",\"#B0BEC5\",\"#B0BEC5\",\"#B0BEC5\",\"#B0BEC5\",\"#B0BEC5\",\"#B0BEC5\",\"#B0BEC5\",\"#B0BEC5\",\"#B0BEC5\",\"#B0BEC5\",\"#B0BEC5\",\"#B0BEC5\",\"#B0BEC5\",\"#B0BEC5\",\"#B0BEC5\",\"#B0BEC5\",\"#B0BEC5\",\"#B0BEC5\",\"#B0BEC5\",\"#B0BEC5\",\"#B0BEC5\",\"#B0BEC5\",\"#B0BEC5\",\"#B0BEC5\",\"#B0BEC5\",\"#B0BEC5\",\"#B0BEC5\",\"#B0BEC5\",\"#B0BEC5\"]]}],\"label\":\"Topic 7\",\"method\":\"update\"},{\"args\":[{\"marker.color\":[[\"#B0BEC5\",\"#B0BEC5\",\"#B0BEC5\",\"#B0BEC5\",\"#B0BEC5\",\"#B0BEC5\",\"#B0BEC5\",\"#B0BEC5\",\"red\",\"#B0BEC5\",\"#B0BEC5\",\"#B0BEC5\",\"#B0BEC5\",\"#B0BEC5\",\"#B0BEC5\",\"#B0BEC5\",\"#B0BEC5\",\"#B0BEC5\",\"#B0BEC5\",\"#B0BEC5\",\"#B0BEC5\",\"#B0BEC5\",\"#B0BEC5\",\"#B0BEC5\",\"#B0BEC5\",\"#B0BEC5\",\"#B0BEC5\",\"#B0BEC5\",\"#B0BEC5\",\"#B0BEC5\",\"#B0BEC5\",\"#B0BEC5\",\"#B0BEC5\",\"#B0BEC5\",\"#B0BEC5\",\"#B0BEC5\",\"#B0BEC5\",\"#B0BEC5\",\"#B0BEC5\",\"#B0BEC5\",\"#B0BEC5\",\"#B0BEC5\",\"#B0BEC5\",\"#B0BEC5\",\"#B0BEC5\",\"#B0BEC5\",\"#B0BEC5\",\"#B0BEC5\",\"#B0BEC5\"]]}],\"label\":\"Topic 8\",\"method\":\"update\"},{\"args\":[{\"marker.color\":[[\"#B0BEC5\",\"#B0BEC5\",\"#B0BEC5\",\"#B0BEC5\",\"#B0BEC5\",\"#B0BEC5\",\"#B0BEC5\",\"#B0BEC5\",\"#B0BEC5\",\"red\",\"#B0BEC5\",\"#B0BEC5\",\"#B0BEC5\",\"#B0BEC5\",\"#B0BEC5\",\"#B0BEC5\",\"#B0BEC5\",\"#B0BEC5\",\"#B0BEC5\",\"#B0BEC5\",\"#B0BEC5\",\"#B0BEC5\",\"#B0BEC5\",\"#B0BEC5\",\"#B0BEC5\",\"#B0BEC5\",\"#B0BEC5\",\"#B0BEC5\",\"#B0BEC5\",\"#B0BEC5\",\"#B0BEC5\",\"#B0BEC5\",\"#B0BEC5\",\"#B0BEC5\",\"#B0BEC5\",\"#B0BEC5\",\"#B0BEC5\",\"#B0BEC5\",\"#B0BEC5\",\"#B0BEC5\",\"#B0BEC5\",\"#B0BEC5\",\"#B0BEC5\",\"#B0BEC5\",\"#B0BEC5\",\"#B0BEC5\",\"#B0BEC5\",\"#B0BEC5\",\"#B0BEC5\"]]}],\"label\":\"Topic 9\",\"method\":\"update\"},{\"args\":[{\"marker.color\":[[\"#B0BEC5\",\"#B0BEC5\",\"#B0BEC5\",\"#B0BEC5\",\"#B0BEC5\",\"#B0BEC5\",\"#B0BEC5\",\"#B0BEC5\",\"#B0BEC5\",\"#B0BEC5\",\"red\",\"#B0BEC5\",\"#B0BEC5\",\"#B0BEC5\",\"#B0BEC5\",\"#B0BEC5\",\"#B0BEC5\",\"#B0BEC5\",\"#B0BEC5\",\"#B0BEC5\",\"#B0BEC5\",\"#B0BEC5\",\"#B0BEC5\",\"#B0BEC5\",\"#B0BEC5\",\"#B0BEC5\",\"#B0BEC5\",\"#B0BEC5\",\"#B0BEC5\",\"#B0BEC5\",\"#B0BEC5\",\"#B0BEC5\",\"#B0BEC5\",\"#B0BEC5\",\"#B0BEC5\",\"#B0BEC5\",\"#B0BEC5\",\"#B0BEC5\",\"#B0BEC5\",\"#B0BEC5\",\"#B0BEC5\",\"#B0BEC5\",\"#B0BEC5\",\"#B0BEC5\",\"#B0BEC5\",\"#B0BEC5\",\"#B0BEC5\",\"#B0BEC5\",\"#B0BEC5\"]]}],\"label\":\"Topic 10\",\"method\":\"update\"},{\"args\":[{\"marker.color\":[[\"#B0BEC5\",\"#B0BEC5\",\"#B0BEC5\",\"#B0BEC5\",\"#B0BEC5\",\"#B0BEC5\",\"#B0BEC5\",\"#B0BEC5\",\"#B0BEC5\",\"#B0BEC5\",\"#B0BEC5\",\"red\",\"#B0BEC5\",\"#B0BEC5\",\"#B0BEC5\",\"#B0BEC5\",\"#B0BEC5\",\"#B0BEC5\",\"#B0BEC5\",\"#B0BEC5\",\"#B0BEC5\",\"#B0BEC5\",\"#B0BEC5\",\"#B0BEC5\",\"#B0BEC5\",\"#B0BEC5\",\"#B0BEC5\",\"#B0BEC5\",\"#B0BEC5\",\"#B0BEC5\",\"#B0BEC5\",\"#B0BEC5\",\"#B0BEC5\",\"#B0BEC5\",\"#B0BEC5\",\"#B0BEC5\",\"#B0BEC5\",\"#B0BEC5\",\"#B0BEC5\",\"#B0BEC5\",\"#B0BEC5\",\"#B0BEC5\",\"#B0BEC5\",\"#B0BEC5\",\"#B0BEC5\",\"#B0BEC5\",\"#B0BEC5\",\"#B0BEC5\",\"#B0BEC5\"]]}],\"label\":\"Topic 11\",\"method\":\"update\"},{\"args\":[{\"marker.color\":[[\"#B0BEC5\",\"#B0BEC5\",\"#B0BEC5\",\"#B0BEC5\",\"#B0BEC5\",\"#B0BEC5\",\"#B0BEC5\",\"#B0BEC5\",\"#B0BEC5\",\"#B0BEC5\",\"#B0BEC5\",\"#B0BEC5\",\"red\",\"#B0BEC5\",\"#B0BEC5\",\"#B0BEC5\",\"#B0BEC5\",\"#B0BEC5\",\"#B0BEC5\",\"#B0BEC5\",\"#B0BEC5\",\"#B0BEC5\",\"#B0BEC5\",\"#B0BEC5\",\"#B0BEC5\",\"#B0BEC5\",\"#B0BEC5\",\"#B0BEC5\",\"#B0BEC5\",\"#B0BEC5\",\"#B0BEC5\",\"#B0BEC5\",\"#B0BEC5\",\"#B0BEC5\",\"#B0BEC5\",\"#B0BEC5\",\"#B0BEC5\",\"#B0BEC5\",\"#B0BEC5\",\"#B0BEC5\",\"#B0BEC5\",\"#B0BEC5\",\"#B0BEC5\",\"#B0BEC5\",\"#B0BEC5\",\"#B0BEC5\",\"#B0BEC5\",\"#B0BEC5\",\"#B0BEC5\"]]}],\"label\":\"Topic 12\",\"method\":\"update\"},{\"args\":[{\"marker.color\":[[\"#B0BEC5\",\"#B0BEC5\",\"#B0BEC5\",\"#B0BEC5\",\"#B0BEC5\",\"#B0BEC5\",\"#B0BEC5\",\"#B0BEC5\",\"#B0BEC5\",\"#B0BEC5\",\"#B0BEC5\",\"#B0BEC5\",\"#B0BEC5\",\"red\",\"#B0BEC5\",\"#B0BEC5\",\"#B0BEC5\",\"#B0BEC5\",\"#B0BEC5\",\"#B0BEC5\",\"#B0BEC5\",\"#B0BEC5\",\"#B0BEC5\",\"#B0BEC5\",\"#B0BEC5\",\"#B0BEC5\",\"#B0BEC5\",\"#B0BEC5\",\"#B0BEC5\",\"#B0BEC5\",\"#B0BEC5\",\"#B0BEC5\",\"#B0BEC5\",\"#B0BEC5\",\"#B0BEC5\",\"#B0BEC5\",\"#B0BEC5\",\"#B0BEC5\",\"#B0BEC5\",\"#B0BEC5\",\"#B0BEC5\",\"#B0BEC5\",\"#B0BEC5\",\"#B0BEC5\",\"#B0BEC5\",\"#B0BEC5\",\"#B0BEC5\",\"#B0BEC5\",\"#B0BEC5\"]]}],\"label\":\"Topic 13\",\"method\":\"update\"},{\"args\":[{\"marker.color\":[[\"#B0BEC5\",\"#B0BEC5\",\"#B0BEC5\",\"#B0BEC5\",\"#B0BEC5\",\"#B0BEC5\",\"#B0BEC5\",\"#B0BEC5\",\"#B0BEC5\",\"#B0BEC5\",\"#B0BEC5\",\"#B0BEC5\",\"#B0BEC5\",\"#B0BEC5\",\"red\",\"#B0BEC5\",\"#B0BEC5\",\"#B0BEC5\",\"#B0BEC5\",\"#B0BEC5\",\"#B0BEC5\",\"#B0BEC5\",\"#B0BEC5\",\"#B0BEC5\",\"#B0BEC5\",\"#B0BEC5\",\"#B0BEC5\",\"#B0BEC5\",\"#B0BEC5\",\"#B0BEC5\",\"#B0BEC5\",\"#B0BEC5\",\"#B0BEC5\",\"#B0BEC5\",\"#B0BEC5\",\"#B0BEC5\",\"#B0BEC5\",\"#B0BEC5\",\"#B0BEC5\",\"#B0BEC5\",\"#B0BEC5\",\"#B0BEC5\",\"#B0BEC5\",\"#B0BEC5\",\"#B0BEC5\",\"#B0BEC5\",\"#B0BEC5\",\"#B0BEC5\",\"#B0BEC5\"]]}],\"label\":\"Topic 14\",\"method\":\"update\"},{\"args\":[{\"marker.color\":[[\"#B0BEC5\",\"#B0BEC5\",\"#B0BEC5\",\"#B0BEC5\",\"#B0BEC5\",\"#B0BEC5\",\"#B0BEC5\",\"#B0BEC5\",\"#B0BEC5\",\"#B0BEC5\",\"#B0BEC5\",\"#B0BEC5\",\"#B0BEC5\",\"#B0BEC5\",\"#B0BEC5\",\"red\",\"#B0BEC5\",\"#B0BEC5\",\"#B0BEC5\",\"#B0BEC5\",\"#B0BEC5\",\"#B0BEC5\",\"#B0BEC5\",\"#B0BEC5\",\"#B0BEC5\",\"#B0BEC5\",\"#B0BEC5\",\"#B0BEC5\",\"#B0BEC5\",\"#B0BEC5\",\"#B0BEC5\",\"#B0BEC5\",\"#B0BEC5\",\"#B0BEC5\",\"#B0BEC5\",\"#B0BEC5\",\"#B0BEC5\",\"#B0BEC5\",\"#B0BEC5\",\"#B0BEC5\",\"#B0BEC5\",\"#B0BEC5\",\"#B0BEC5\",\"#B0BEC5\",\"#B0BEC5\",\"#B0BEC5\",\"#B0BEC5\",\"#B0BEC5\",\"#B0BEC5\"]]}],\"label\":\"Topic 15\",\"method\":\"update\"},{\"args\":[{\"marker.color\":[[\"#B0BEC5\",\"#B0BEC5\",\"#B0BEC5\",\"#B0BEC5\",\"#B0BEC5\",\"#B0BEC5\",\"#B0BEC5\",\"#B0BEC5\",\"#B0BEC5\",\"#B0BEC5\",\"#B0BEC5\",\"#B0BEC5\",\"#B0BEC5\",\"#B0BEC5\",\"#B0BEC5\",\"#B0BEC5\",\"red\",\"#B0BEC5\",\"#B0BEC5\",\"#B0BEC5\",\"#B0BEC5\",\"#B0BEC5\",\"#B0BEC5\",\"#B0BEC5\",\"#B0BEC5\",\"#B0BEC5\",\"#B0BEC5\",\"#B0BEC5\",\"#B0BEC5\",\"#B0BEC5\",\"#B0BEC5\",\"#B0BEC5\",\"#B0BEC5\",\"#B0BEC5\",\"#B0BEC5\",\"#B0BEC5\",\"#B0BEC5\",\"#B0BEC5\",\"#B0BEC5\",\"#B0BEC5\",\"#B0BEC5\",\"#B0BEC5\",\"#B0BEC5\",\"#B0BEC5\",\"#B0BEC5\",\"#B0BEC5\",\"#B0BEC5\",\"#B0BEC5\",\"#B0BEC5\"]]}],\"label\":\"Topic 16\",\"method\":\"update\"},{\"args\":[{\"marker.color\":[[\"#B0BEC5\",\"#B0BEC5\",\"#B0BEC5\",\"#B0BEC5\",\"#B0BEC5\",\"#B0BEC5\",\"#B0BEC5\",\"#B0BEC5\",\"#B0BEC5\",\"#B0BEC5\",\"#B0BEC5\",\"#B0BEC5\",\"#B0BEC5\",\"#B0BEC5\",\"#B0BEC5\",\"#B0BEC5\",\"#B0BEC5\",\"red\",\"#B0BEC5\",\"#B0BEC5\",\"#B0BEC5\",\"#B0BEC5\",\"#B0BEC5\",\"#B0BEC5\",\"#B0BEC5\",\"#B0BEC5\",\"#B0BEC5\",\"#B0BEC5\",\"#B0BEC5\",\"#B0BEC5\",\"#B0BEC5\",\"#B0BEC5\",\"#B0BEC5\",\"#B0BEC5\",\"#B0BEC5\",\"#B0BEC5\",\"#B0BEC5\",\"#B0BEC5\",\"#B0BEC5\",\"#B0BEC5\",\"#B0BEC5\",\"#B0BEC5\",\"#B0BEC5\",\"#B0BEC5\",\"#B0BEC5\",\"#B0BEC5\",\"#B0BEC5\",\"#B0BEC5\",\"#B0BEC5\"]]}],\"label\":\"Topic 17\",\"method\":\"update\"},{\"args\":[{\"marker.color\":[[\"#B0BEC5\",\"#B0BEC5\",\"#B0BEC5\",\"#B0BEC5\",\"#B0BEC5\",\"#B0BEC5\",\"#B0BEC5\",\"#B0BEC5\",\"#B0BEC5\",\"#B0BEC5\",\"#B0BEC5\",\"#B0BEC5\",\"#B0BEC5\",\"#B0BEC5\",\"#B0BEC5\",\"#B0BEC5\",\"#B0BEC5\",\"#B0BEC5\",\"red\",\"#B0BEC5\",\"#B0BEC5\",\"#B0BEC5\",\"#B0BEC5\",\"#B0BEC5\",\"#B0BEC5\",\"#B0BEC5\",\"#B0BEC5\",\"#B0BEC5\",\"#B0BEC5\",\"#B0BEC5\",\"#B0BEC5\",\"#B0BEC5\",\"#B0BEC5\",\"#B0BEC5\",\"#B0BEC5\",\"#B0BEC5\",\"#B0BEC5\",\"#B0BEC5\",\"#B0BEC5\",\"#B0BEC5\",\"#B0BEC5\",\"#B0BEC5\",\"#B0BEC5\",\"#B0BEC5\",\"#B0BEC5\",\"#B0BEC5\",\"#B0BEC5\",\"#B0BEC5\",\"#B0BEC5\"]]}],\"label\":\"Topic 18\",\"method\":\"update\"},{\"args\":[{\"marker.color\":[[\"#B0BEC5\",\"#B0BEC5\",\"#B0BEC5\",\"#B0BEC5\",\"#B0BEC5\",\"#B0BEC5\",\"#B0BEC5\",\"#B0BEC5\",\"#B0BEC5\",\"#B0BEC5\",\"#B0BEC5\",\"#B0BEC5\",\"#B0BEC5\",\"#B0BEC5\",\"#B0BEC5\",\"#B0BEC5\",\"#B0BEC5\",\"#B0BEC5\",\"#B0BEC5\",\"red\",\"#B0BEC5\",\"#B0BEC5\",\"#B0BEC5\",\"#B0BEC5\",\"#B0BEC5\",\"#B0BEC5\",\"#B0BEC5\",\"#B0BEC5\",\"#B0BEC5\",\"#B0BEC5\",\"#B0BEC5\",\"#B0BEC5\",\"#B0BEC5\",\"#B0BEC5\",\"#B0BEC5\",\"#B0BEC5\",\"#B0BEC5\",\"#B0BEC5\",\"#B0BEC5\",\"#B0BEC5\",\"#B0BEC5\",\"#B0BEC5\",\"#B0BEC5\",\"#B0BEC5\",\"#B0BEC5\",\"#B0BEC5\",\"#B0BEC5\",\"#B0BEC5\",\"#B0BEC5\"]]}],\"label\":\"Topic 19\",\"method\":\"update\"},{\"args\":[{\"marker.color\":[[\"#B0BEC5\",\"#B0BEC5\",\"#B0BEC5\",\"#B0BEC5\",\"#B0BEC5\",\"#B0BEC5\",\"#B0BEC5\",\"#B0BEC5\",\"#B0BEC5\",\"#B0BEC5\",\"#B0BEC5\",\"#B0BEC5\",\"#B0BEC5\",\"#B0BEC5\",\"#B0BEC5\",\"#B0BEC5\",\"#B0BEC5\",\"#B0BEC5\",\"#B0BEC5\",\"#B0BEC5\",\"red\",\"#B0BEC5\",\"#B0BEC5\",\"#B0BEC5\",\"#B0BEC5\",\"#B0BEC5\",\"#B0BEC5\",\"#B0BEC5\",\"#B0BEC5\",\"#B0BEC5\",\"#B0BEC5\",\"#B0BEC5\",\"#B0BEC5\",\"#B0BEC5\",\"#B0BEC5\",\"#B0BEC5\",\"#B0BEC5\",\"#B0BEC5\",\"#B0BEC5\",\"#B0BEC5\",\"#B0BEC5\",\"#B0BEC5\",\"#B0BEC5\",\"#B0BEC5\",\"#B0BEC5\",\"#B0BEC5\",\"#B0BEC5\",\"#B0BEC5\",\"#B0BEC5\"]]}],\"label\":\"Topic 20\",\"method\":\"update\"},{\"args\":[{\"marker.color\":[[\"#B0BEC5\",\"#B0BEC5\",\"#B0BEC5\",\"#B0BEC5\",\"#B0BEC5\",\"#B0BEC5\",\"#B0BEC5\",\"#B0BEC5\",\"#B0BEC5\",\"#B0BEC5\",\"#B0BEC5\",\"#B0BEC5\",\"#B0BEC5\",\"#B0BEC5\",\"#B0BEC5\",\"#B0BEC5\",\"#B0BEC5\",\"#B0BEC5\",\"#B0BEC5\",\"#B0BEC5\",\"#B0BEC5\",\"red\",\"#B0BEC5\",\"#B0BEC5\",\"#B0BEC5\",\"#B0BEC5\",\"#B0BEC5\",\"#B0BEC5\",\"#B0BEC5\",\"#B0BEC5\",\"#B0BEC5\",\"#B0BEC5\",\"#B0BEC5\",\"#B0BEC5\",\"#B0BEC5\",\"#B0BEC5\",\"#B0BEC5\",\"#B0BEC5\",\"#B0BEC5\",\"#B0BEC5\",\"#B0BEC5\",\"#B0BEC5\",\"#B0BEC5\",\"#B0BEC5\",\"#B0BEC5\",\"#B0BEC5\",\"#B0BEC5\",\"#B0BEC5\",\"#B0BEC5\"]]}],\"label\":\"Topic 21\",\"method\":\"update\"},{\"args\":[{\"marker.color\":[[\"#B0BEC5\",\"#B0BEC5\",\"#B0BEC5\",\"#B0BEC5\",\"#B0BEC5\",\"#B0BEC5\",\"#B0BEC5\",\"#B0BEC5\",\"#B0BEC5\",\"#B0BEC5\",\"#B0BEC5\",\"#B0BEC5\",\"#B0BEC5\",\"#B0BEC5\",\"#B0BEC5\",\"#B0BEC5\",\"#B0BEC5\",\"#B0BEC5\",\"#B0BEC5\",\"#B0BEC5\",\"#B0BEC5\",\"#B0BEC5\",\"red\",\"#B0BEC5\",\"#B0BEC5\",\"#B0BEC5\",\"#B0BEC5\",\"#B0BEC5\",\"#B0BEC5\",\"#B0BEC5\",\"#B0BEC5\",\"#B0BEC5\",\"#B0BEC5\",\"#B0BEC5\",\"#B0BEC5\",\"#B0BEC5\",\"#B0BEC5\",\"#B0BEC5\",\"#B0BEC5\",\"#B0BEC5\",\"#B0BEC5\",\"#B0BEC5\",\"#B0BEC5\",\"#B0BEC5\",\"#B0BEC5\",\"#B0BEC5\",\"#B0BEC5\",\"#B0BEC5\",\"#B0BEC5\"]]}],\"label\":\"Topic 22\",\"method\":\"update\"},{\"args\":[{\"marker.color\":[[\"#B0BEC5\",\"#B0BEC5\",\"#B0BEC5\",\"#B0BEC5\",\"#B0BEC5\",\"#B0BEC5\",\"#B0BEC5\",\"#B0BEC5\",\"#B0BEC5\",\"#B0BEC5\",\"#B0BEC5\",\"#B0BEC5\",\"#B0BEC5\",\"#B0BEC5\",\"#B0BEC5\",\"#B0BEC5\",\"#B0BEC5\",\"#B0BEC5\",\"#B0BEC5\",\"#B0BEC5\",\"#B0BEC5\",\"#B0BEC5\",\"#B0BEC5\",\"red\",\"#B0BEC5\",\"#B0BEC5\",\"#B0BEC5\",\"#B0BEC5\",\"#B0BEC5\",\"#B0BEC5\",\"#B0BEC5\",\"#B0BEC5\",\"#B0BEC5\",\"#B0BEC5\",\"#B0BEC5\",\"#B0BEC5\",\"#B0BEC5\",\"#B0BEC5\",\"#B0BEC5\",\"#B0BEC5\",\"#B0BEC5\",\"#B0BEC5\",\"#B0BEC5\",\"#B0BEC5\",\"#B0BEC5\",\"#B0BEC5\",\"#B0BEC5\",\"#B0BEC5\",\"#B0BEC5\"]]}],\"label\":\"Topic 23\",\"method\":\"update\"},{\"args\":[{\"marker.color\":[[\"#B0BEC5\",\"#B0BEC5\",\"#B0BEC5\",\"#B0BEC5\",\"#B0BEC5\",\"#B0BEC5\",\"#B0BEC5\",\"#B0BEC5\",\"#B0BEC5\",\"#B0BEC5\",\"#B0BEC5\",\"#B0BEC5\",\"#B0BEC5\",\"#B0BEC5\",\"#B0BEC5\",\"#B0BEC5\",\"#B0BEC5\",\"#B0BEC5\",\"#B0BEC5\",\"#B0BEC5\",\"#B0BEC5\",\"#B0BEC5\",\"#B0BEC5\",\"#B0BEC5\",\"red\",\"#B0BEC5\",\"#B0BEC5\",\"#B0BEC5\",\"#B0BEC5\",\"#B0BEC5\",\"#B0BEC5\",\"#B0BEC5\",\"#B0BEC5\",\"#B0BEC5\",\"#B0BEC5\",\"#B0BEC5\",\"#B0BEC5\",\"#B0BEC5\",\"#B0BEC5\",\"#B0BEC5\",\"#B0BEC5\",\"#B0BEC5\",\"#B0BEC5\",\"#B0BEC5\",\"#B0BEC5\",\"#B0BEC5\",\"#B0BEC5\",\"#B0BEC5\",\"#B0BEC5\"]]}],\"label\":\"Topic 24\",\"method\":\"update\"},{\"args\":[{\"marker.color\":[[\"#B0BEC5\",\"#B0BEC5\",\"#B0BEC5\",\"#B0BEC5\",\"#B0BEC5\",\"#B0BEC5\",\"#B0BEC5\",\"#B0BEC5\",\"#B0BEC5\",\"#B0BEC5\",\"#B0BEC5\",\"#B0BEC5\",\"#B0BEC5\",\"#B0BEC5\",\"#B0BEC5\",\"#B0BEC5\",\"#B0BEC5\",\"#B0BEC5\",\"#B0BEC5\",\"#B0BEC5\",\"#B0BEC5\",\"#B0BEC5\",\"#B0BEC5\",\"#B0BEC5\",\"#B0BEC5\",\"red\",\"#B0BEC5\",\"#B0BEC5\",\"#B0BEC5\",\"#B0BEC5\",\"#B0BEC5\",\"#B0BEC5\",\"#B0BEC5\",\"#B0BEC5\",\"#B0BEC5\",\"#B0BEC5\",\"#B0BEC5\",\"#B0BEC5\",\"#B0BEC5\",\"#B0BEC5\",\"#B0BEC5\",\"#B0BEC5\",\"#B0BEC5\",\"#B0BEC5\",\"#B0BEC5\",\"#B0BEC5\",\"#B0BEC5\",\"#B0BEC5\",\"#B0BEC5\"]]}],\"label\":\"Topic 25\",\"method\":\"update\"},{\"args\":[{\"marker.color\":[[\"#B0BEC5\",\"#B0BEC5\",\"#B0BEC5\",\"#B0BEC5\",\"#B0BEC5\",\"#B0BEC5\",\"#B0BEC5\",\"#B0BEC5\",\"#B0BEC5\",\"#B0BEC5\",\"#B0BEC5\",\"#B0BEC5\",\"#B0BEC5\",\"#B0BEC5\",\"#B0BEC5\",\"#B0BEC5\",\"#B0BEC5\",\"#B0BEC5\",\"#B0BEC5\",\"#B0BEC5\",\"#B0BEC5\",\"#B0BEC5\",\"#B0BEC5\",\"#B0BEC5\",\"#B0BEC5\",\"#B0BEC5\",\"red\",\"#B0BEC5\",\"#B0BEC5\",\"#B0BEC5\",\"#B0BEC5\",\"#B0BEC5\",\"#B0BEC5\",\"#B0BEC5\",\"#B0BEC5\",\"#B0BEC5\",\"#B0BEC5\",\"#B0BEC5\",\"#B0BEC5\",\"#B0BEC5\",\"#B0BEC5\",\"#B0BEC5\",\"#B0BEC5\",\"#B0BEC5\",\"#B0BEC5\",\"#B0BEC5\",\"#B0BEC5\",\"#B0BEC5\",\"#B0BEC5\"]]}],\"label\":\"Topic 26\",\"method\":\"update\"},{\"args\":[{\"marker.color\":[[\"#B0BEC5\",\"#B0BEC5\",\"#B0BEC5\",\"#B0BEC5\",\"#B0BEC5\",\"#B0BEC5\",\"#B0BEC5\",\"#B0BEC5\",\"#B0BEC5\",\"#B0BEC5\",\"#B0BEC5\",\"#B0BEC5\",\"#B0BEC5\",\"#B0BEC5\",\"#B0BEC5\",\"#B0BEC5\",\"#B0BEC5\",\"#B0BEC5\",\"#B0BEC5\",\"#B0BEC5\",\"#B0BEC5\",\"#B0BEC5\",\"#B0BEC5\",\"#B0BEC5\",\"#B0BEC5\",\"#B0BEC5\",\"#B0BEC5\",\"red\",\"#B0BEC5\",\"#B0BEC5\",\"#B0BEC5\",\"#B0BEC5\",\"#B0BEC5\",\"#B0BEC5\",\"#B0BEC5\",\"#B0BEC5\",\"#B0BEC5\",\"#B0BEC5\",\"#B0BEC5\",\"#B0BEC5\",\"#B0BEC5\",\"#B0BEC5\",\"#B0BEC5\",\"#B0BEC5\",\"#B0BEC5\",\"#B0BEC5\",\"#B0BEC5\",\"#B0BEC5\",\"#B0BEC5\"]]}],\"label\":\"Topic 27\",\"method\":\"update\"},{\"args\":[{\"marker.color\":[[\"#B0BEC5\",\"#B0BEC5\",\"#B0BEC5\",\"#B0BEC5\",\"#B0BEC5\",\"#B0BEC5\",\"#B0BEC5\",\"#B0BEC5\",\"#B0BEC5\",\"#B0BEC5\",\"#B0BEC5\",\"#B0BEC5\",\"#B0BEC5\",\"#B0BEC5\",\"#B0BEC5\",\"#B0BEC5\",\"#B0BEC5\",\"#B0BEC5\",\"#B0BEC5\",\"#B0BEC5\",\"#B0BEC5\",\"#B0BEC5\",\"#B0BEC5\",\"#B0BEC5\",\"#B0BEC5\",\"#B0BEC5\",\"#B0BEC5\",\"#B0BEC5\",\"red\",\"#B0BEC5\",\"#B0BEC5\",\"#B0BEC5\",\"#B0BEC5\",\"#B0BEC5\",\"#B0BEC5\",\"#B0BEC5\",\"#B0BEC5\",\"#B0BEC5\",\"#B0BEC5\",\"#B0BEC5\",\"#B0BEC5\",\"#B0BEC5\",\"#B0BEC5\",\"#B0BEC5\",\"#B0BEC5\",\"#B0BEC5\",\"#B0BEC5\",\"#B0BEC5\",\"#B0BEC5\"]]}],\"label\":\"Topic 28\",\"method\":\"update\"},{\"args\":[{\"marker.color\":[[\"#B0BEC5\",\"#B0BEC5\",\"#B0BEC5\",\"#B0BEC5\",\"#B0BEC5\",\"#B0BEC5\",\"#B0BEC5\",\"#B0BEC5\",\"#B0BEC5\",\"#B0BEC5\",\"#B0BEC5\",\"#B0BEC5\",\"#B0BEC5\",\"#B0BEC5\",\"#B0BEC5\",\"#B0BEC5\",\"#B0BEC5\",\"#B0BEC5\",\"#B0BEC5\",\"#B0BEC5\",\"#B0BEC5\",\"#B0BEC5\",\"#B0BEC5\",\"#B0BEC5\",\"#B0BEC5\",\"#B0BEC5\",\"#B0BEC5\",\"#B0BEC5\",\"#B0BEC5\",\"red\",\"#B0BEC5\",\"#B0BEC5\",\"#B0BEC5\",\"#B0BEC5\",\"#B0BEC5\",\"#B0BEC5\",\"#B0BEC5\",\"#B0BEC5\",\"#B0BEC5\",\"#B0BEC5\",\"#B0BEC5\",\"#B0BEC5\",\"#B0BEC5\",\"#B0BEC5\",\"#B0BEC5\",\"#B0BEC5\",\"#B0BEC5\",\"#B0BEC5\",\"#B0BEC5\"]]}],\"label\":\"Topic 29\",\"method\":\"update\"},{\"args\":[{\"marker.color\":[[\"#B0BEC5\",\"#B0BEC5\",\"#B0BEC5\",\"#B0BEC5\",\"#B0BEC5\",\"#B0BEC5\",\"#B0BEC5\",\"#B0BEC5\",\"#B0BEC5\",\"#B0BEC5\",\"#B0BEC5\",\"#B0BEC5\",\"#B0BEC5\",\"#B0BEC5\",\"#B0BEC5\",\"#B0BEC5\",\"#B0BEC5\",\"#B0BEC5\",\"#B0BEC5\",\"#B0BEC5\",\"#B0BEC5\",\"#B0BEC5\",\"#B0BEC5\",\"#B0BEC5\",\"#B0BEC5\",\"#B0BEC5\",\"#B0BEC5\",\"#B0BEC5\",\"#B0BEC5\",\"#B0BEC5\",\"red\",\"#B0BEC5\",\"#B0BEC5\",\"#B0BEC5\",\"#B0BEC5\",\"#B0BEC5\",\"#B0BEC5\",\"#B0BEC5\",\"#B0BEC5\",\"#B0BEC5\",\"#B0BEC5\",\"#B0BEC5\",\"#B0BEC5\",\"#B0BEC5\",\"#B0BEC5\",\"#B0BEC5\",\"#B0BEC5\",\"#B0BEC5\",\"#B0BEC5\"]]}],\"label\":\"Topic 30\",\"method\":\"update\"},{\"args\":[{\"marker.color\":[[\"#B0BEC5\",\"#B0BEC5\",\"#B0BEC5\",\"#B0BEC5\",\"#B0BEC5\",\"#B0BEC5\",\"#B0BEC5\",\"#B0BEC5\",\"#B0BEC5\",\"#B0BEC5\",\"#B0BEC5\",\"#B0BEC5\",\"#B0BEC5\",\"#B0BEC5\",\"#B0BEC5\",\"#B0BEC5\",\"#B0BEC5\",\"#B0BEC5\",\"#B0BEC5\",\"#B0BEC5\",\"#B0BEC5\",\"#B0BEC5\",\"#B0BEC5\",\"#B0BEC5\",\"#B0BEC5\",\"#B0BEC5\",\"#B0BEC5\",\"#B0BEC5\",\"#B0BEC5\",\"#B0BEC5\",\"#B0BEC5\",\"red\",\"#B0BEC5\",\"#B0BEC5\",\"#B0BEC5\",\"#B0BEC5\",\"#B0BEC5\",\"#B0BEC5\",\"#B0BEC5\",\"#B0BEC5\",\"#B0BEC5\",\"#B0BEC5\",\"#B0BEC5\",\"#B0BEC5\",\"#B0BEC5\",\"#B0BEC5\",\"#B0BEC5\",\"#B0BEC5\",\"#B0BEC5\"]]}],\"label\":\"Topic 31\",\"method\":\"update\"},{\"args\":[{\"marker.color\":[[\"#B0BEC5\",\"#B0BEC5\",\"#B0BEC5\",\"#B0BEC5\",\"#B0BEC5\",\"#B0BEC5\",\"#B0BEC5\",\"#B0BEC5\",\"#B0BEC5\",\"#B0BEC5\",\"#B0BEC5\",\"#B0BEC5\",\"#B0BEC5\",\"#B0BEC5\",\"#B0BEC5\",\"#B0BEC5\",\"#B0BEC5\",\"#B0BEC5\",\"#B0BEC5\",\"#B0BEC5\",\"#B0BEC5\",\"#B0BEC5\",\"#B0BEC5\",\"#B0BEC5\",\"#B0BEC5\",\"#B0BEC5\",\"#B0BEC5\",\"#B0BEC5\",\"#B0BEC5\",\"#B0BEC5\",\"#B0BEC5\",\"#B0BEC5\",\"red\",\"#B0BEC5\",\"#B0BEC5\",\"#B0BEC5\",\"#B0BEC5\",\"#B0BEC5\",\"#B0BEC5\",\"#B0BEC5\",\"#B0BEC5\",\"#B0BEC5\",\"#B0BEC5\",\"#B0BEC5\",\"#B0BEC5\",\"#B0BEC5\",\"#B0BEC5\",\"#B0BEC5\",\"#B0BEC5\"]]}],\"label\":\"Topic 32\",\"method\":\"update\"},{\"args\":[{\"marker.color\":[[\"#B0BEC5\",\"#B0BEC5\",\"#B0BEC5\",\"#B0BEC5\",\"#B0BEC5\",\"#B0BEC5\",\"#B0BEC5\",\"#B0BEC5\",\"#B0BEC5\",\"#B0BEC5\",\"#B0BEC5\",\"#B0BEC5\",\"#B0BEC5\",\"#B0BEC5\",\"#B0BEC5\",\"#B0BEC5\",\"#B0BEC5\",\"#B0BEC5\",\"#B0BEC5\",\"#B0BEC5\",\"#B0BEC5\",\"#B0BEC5\",\"#B0BEC5\",\"#B0BEC5\",\"#B0BEC5\",\"#B0BEC5\",\"#B0BEC5\",\"#B0BEC5\",\"#B0BEC5\",\"#B0BEC5\",\"#B0BEC5\",\"#B0BEC5\",\"#B0BEC5\",\"red\",\"#B0BEC5\",\"#B0BEC5\",\"#B0BEC5\",\"#B0BEC5\",\"#B0BEC5\",\"#B0BEC5\",\"#B0BEC5\",\"#B0BEC5\",\"#B0BEC5\",\"#B0BEC5\",\"#B0BEC5\",\"#B0BEC5\",\"#B0BEC5\",\"#B0BEC5\",\"#B0BEC5\"]]}],\"label\":\"Topic 33\",\"method\":\"update\"},{\"args\":[{\"marker.color\":[[\"#B0BEC5\",\"#B0BEC5\",\"#B0BEC5\",\"#B0BEC5\",\"#B0BEC5\",\"#B0BEC5\",\"#B0BEC5\",\"#B0BEC5\",\"#B0BEC5\",\"#B0BEC5\",\"#B0BEC5\",\"#B0BEC5\",\"#B0BEC5\",\"#B0BEC5\",\"#B0BEC5\",\"#B0BEC5\",\"#B0BEC5\",\"#B0BEC5\",\"#B0BEC5\",\"#B0BEC5\",\"#B0BEC5\",\"#B0BEC5\",\"#B0BEC5\",\"#B0BEC5\",\"#B0BEC5\",\"#B0BEC5\",\"#B0BEC5\",\"#B0BEC5\",\"#B0BEC5\",\"#B0BEC5\",\"#B0BEC5\",\"#B0BEC5\",\"#B0BEC5\",\"#B0BEC5\",\"red\",\"#B0BEC5\",\"#B0BEC5\",\"#B0BEC5\",\"#B0BEC5\",\"#B0BEC5\",\"#B0BEC5\",\"#B0BEC5\",\"#B0BEC5\",\"#B0BEC5\",\"#B0BEC5\",\"#B0BEC5\",\"#B0BEC5\",\"#B0BEC5\",\"#B0BEC5\"]]}],\"label\":\"Topic 34\",\"method\":\"update\"},{\"args\":[{\"marker.color\":[[\"#B0BEC5\",\"#B0BEC5\",\"#B0BEC5\",\"#B0BEC5\",\"#B0BEC5\",\"#B0BEC5\",\"#B0BEC5\",\"#B0BEC5\",\"#B0BEC5\",\"#B0BEC5\",\"#B0BEC5\",\"#B0BEC5\",\"#B0BEC5\",\"#B0BEC5\",\"#B0BEC5\",\"#B0BEC5\",\"#B0BEC5\",\"#B0BEC5\",\"#B0BEC5\",\"#B0BEC5\",\"#B0BEC5\",\"#B0BEC5\",\"#B0BEC5\",\"#B0BEC5\",\"#B0BEC5\",\"#B0BEC5\",\"#B0BEC5\",\"#B0BEC5\",\"#B0BEC5\",\"#B0BEC5\",\"#B0BEC5\",\"#B0BEC5\",\"#B0BEC5\",\"#B0BEC5\",\"#B0BEC5\",\"red\",\"#B0BEC5\",\"#B0BEC5\",\"#B0BEC5\",\"#B0BEC5\",\"#B0BEC5\",\"#B0BEC5\",\"#B0BEC5\",\"#B0BEC5\",\"#B0BEC5\",\"#B0BEC5\",\"#B0BEC5\",\"#B0BEC5\",\"#B0BEC5\"]]}],\"label\":\"Topic 35\",\"method\":\"update\"},{\"args\":[{\"marker.color\":[[\"#B0BEC5\",\"#B0BEC5\",\"#B0BEC5\",\"#B0BEC5\",\"#B0BEC5\",\"#B0BEC5\",\"#B0BEC5\",\"#B0BEC5\",\"#B0BEC5\",\"#B0BEC5\",\"#B0BEC5\",\"#B0BEC5\",\"#B0BEC5\",\"#B0BEC5\",\"#B0BEC5\",\"#B0BEC5\",\"#B0BEC5\",\"#B0BEC5\",\"#B0BEC5\",\"#B0BEC5\",\"#B0BEC5\",\"#B0BEC5\",\"#B0BEC5\",\"#B0BEC5\",\"#B0BEC5\",\"#B0BEC5\",\"#B0BEC5\",\"#B0BEC5\",\"#B0BEC5\",\"#B0BEC5\",\"#B0BEC5\",\"#B0BEC5\",\"#B0BEC5\",\"#B0BEC5\",\"#B0BEC5\",\"#B0BEC5\",\"red\",\"#B0BEC5\",\"#B0BEC5\",\"#B0BEC5\",\"#B0BEC5\",\"#B0BEC5\",\"#B0BEC5\",\"#B0BEC5\",\"#B0BEC5\",\"#B0BEC5\",\"#B0BEC5\",\"#B0BEC5\",\"#B0BEC5\"]]}],\"label\":\"Topic 36\",\"method\":\"update\"},{\"args\":[{\"marker.color\":[[\"#B0BEC5\",\"#B0BEC5\",\"#B0BEC5\",\"#B0BEC5\",\"#B0BEC5\",\"#B0BEC5\",\"#B0BEC5\",\"#B0BEC5\",\"#B0BEC5\",\"#B0BEC5\",\"#B0BEC5\",\"#B0BEC5\",\"#B0BEC5\",\"#B0BEC5\",\"#B0BEC5\",\"#B0BEC5\",\"#B0BEC5\",\"#B0BEC5\",\"#B0BEC5\",\"#B0BEC5\",\"#B0BEC5\",\"#B0BEC5\",\"#B0BEC5\",\"#B0BEC5\",\"#B0BEC5\",\"#B0BEC5\",\"#B0BEC5\",\"#B0BEC5\",\"#B0BEC5\",\"#B0BEC5\",\"#B0BEC5\",\"#B0BEC5\",\"#B0BEC5\",\"#B0BEC5\",\"#B0BEC5\",\"#B0BEC5\",\"#B0BEC5\",\"red\",\"#B0BEC5\",\"#B0BEC5\",\"#B0BEC5\",\"#B0BEC5\",\"#B0BEC5\",\"#B0BEC5\",\"#B0BEC5\",\"#B0BEC5\",\"#B0BEC5\",\"#B0BEC5\",\"#B0BEC5\"]]}],\"label\":\"Topic 37\",\"method\":\"update\"},{\"args\":[{\"marker.color\":[[\"#B0BEC5\",\"#B0BEC5\",\"#B0BEC5\",\"#B0BEC5\",\"#B0BEC5\",\"#B0BEC5\",\"#B0BEC5\",\"#B0BEC5\",\"#B0BEC5\",\"#B0BEC5\",\"#B0BEC5\",\"#B0BEC5\",\"#B0BEC5\",\"#B0BEC5\",\"#B0BEC5\",\"#B0BEC5\",\"#B0BEC5\",\"#B0BEC5\",\"#B0BEC5\",\"#B0BEC5\",\"#B0BEC5\",\"#B0BEC5\",\"#B0BEC5\",\"#B0BEC5\",\"#B0BEC5\",\"#B0BEC5\",\"#B0BEC5\",\"#B0BEC5\",\"#B0BEC5\",\"#B0BEC5\",\"#B0BEC5\",\"#B0BEC5\",\"#B0BEC5\",\"#B0BEC5\",\"#B0BEC5\",\"#B0BEC5\",\"#B0BEC5\",\"#B0BEC5\",\"red\",\"#B0BEC5\",\"#B0BEC5\",\"#B0BEC5\",\"#B0BEC5\",\"#B0BEC5\",\"#B0BEC5\",\"#B0BEC5\",\"#B0BEC5\",\"#B0BEC5\",\"#B0BEC5\"]]}],\"label\":\"Topic 38\",\"method\":\"update\"},{\"args\":[{\"marker.color\":[[\"#B0BEC5\",\"#B0BEC5\",\"#B0BEC5\",\"#B0BEC5\",\"#B0BEC5\",\"#B0BEC5\",\"#B0BEC5\",\"#B0BEC5\",\"#B0BEC5\",\"#B0BEC5\",\"#B0BEC5\",\"#B0BEC5\",\"#B0BEC5\",\"#B0BEC5\",\"#B0BEC5\",\"#B0BEC5\",\"#B0BEC5\",\"#B0BEC5\",\"#B0BEC5\",\"#B0BEC5\",\"#B0BEC5\",\"#B0BEC5\",\"#B0BEC5\",\"#B0BEC5\",\"#B0BEC5\",\"#B0BEC5\",\"#B0BEC5\",\"#B0BEC5\",\"#B0BEC5\",\"#B0BEC5\",\"#B0BEC5\",\"#B0BEC5\",\"#B0BEC5\",\"#B0BEC5\",\"#B0BEC5\",\"#B0BEC5\",\"#B0BEC5\",\"#B0BEC5\",\"#B0BEC5\",\"red\",\"#B0BEC5\",\"#B0BEC5\",\"#B0BEC5\",\"#B0BEC5\",\"#B0BEC5\",\"#B0BEC5\",\"#B0BEC5\",\"#B0BEC5\",\"#B0BEC5\"]]}],\"label\":\"Topic 39\",\"method\":\"update\"},{\"args\":[{\"marker.color\":[[\"#B0BEC5\",\"#B0BEC5\",\"#B0BEC5\",\"#B0BEC5\",\"#B0BEC5\",\"#B0BEC5\",\"#B0BEC5\",\"#B0BEC5\",\"#B0BEC5\",\"#B0BEC5\",\"#B0BEC5\",\"#B0BEC5\",\"#B0BEC5\",\"#B0BEC5\",\"#B0BEC5\",\"#B0BEC5\",\"#B0BEC5\",\"#B0BEC5\",\"#B0BEC5\",\"#B0BEC5\",\"#B0BEC5\",\"#B0BEC5\",\"#B0BEC5\",\"#B0BEC5\",\"#B0BEC5\",\"#B0BEC5\",\"#B0BEC5\",\"#B0BEC5\",\"#B0BEC5\",\"#B0BEC5\",\"#B0BEC5\",\"#B0BEC5\",\"#B0BEC5\",\"#B0BEC5\",\"#B0BEC5\",\"#B0BEC5\",\"#B0BEC5\",\"#B0BEC5\",\"#B0BEC5\",\"#B0BEC5\",\"red\",\"#B0BEC5\",\"#B0BEC5\",\"#B0BEC5\",\"#B0BEC5\",\"#B0BEC5\",\"#B0BEC5\",\"#B0BEC5\",\"#B0BEC5\"]]}],\"label\":\"Topic 40\",\"method\":\"update\"},{\"args\":[{\"marker.color\":[[\"#B0BEC5\",\"#B0BEC5\",\"#B0BEC5\",\"#B0BEC5\",\"#B0BEC5\",\"#B0BEC5\",\"#B0BEC5\",\"#B0BEC5\",\"#B0BEC5\",\"#B0BEC5\",\"#B0BEC5\",\"#B0BEC5\",\"#B0BEC5\",\"#B0BEC5\",\"#B0BEC5\",\"#B0BEC5\",\"#B0BEC5\",\"#B0BEC5\",\"#B0BEC5\",\"#B0BEC5\",\"#B0BEC5\",\"#B0BEC5\",\"#B0BEC5\",\"#B0BEC5\",\"#B0BEC5\",\"#B0BEC5\",\"#B0BEC5\",\"#B0BEC5\",\"#B0BEC5\",\"#B0BEC5\",\"#B0BEC5\",\"#B0BEC5\",\"#B0BEC5\",\"#B0BEC5\",\"#B0BEC5\",\"#B0BEC5\",\"#B0BEC5\",\"#B0BEC5\",\"#B0BEC5\",\"#B0BEC5\",\"#B0BEC5\",\"red\",\"#B0BEC5\",\"#B0BEC5\",\"#B0BEC5\",\"#B0BEC5\",\"#B0BEC5\",\"#B0BEC5\",\"#B0BEC5\"]]}],\"label\":\"Topic 41\",\"method\":\"update\"},{\"args\":[{\"marker.color\":[[\"#B0BEC5\",\"#B0BEC5\",\"#B0BEC5\",\"#B0BEC5\",\"#B0BEC5\",\"#B0BEC5\",\"#B0BEC5\",\"#B0BEC5\",\"#B0BEC5\",\"#B0BEC5\",\"#B0BEC5\",\"#B0BEC5\",\"#B0BEC5\",\"#B0BEC5\",\"#B0BEC5\",\"#B0BEC5\",\"#B0BEC5\",\"#B0BEC5\",\"#B0BEC5\",\"#B0BEC5\",\"#B0BEC5\",\"#B0BEC5\",\"#B0BEC5\",\"#B0BEC5\",\"#B0BEC5\",\"#B0BEC5\",\"#B0BEC5\",\"#B0BEC5\",\"#B0BEC5\",\"#B0BEC5\",\"#B0BEC5\",\"#B0BEC5\",\"#B0BEC5\",\"#B0BEC5\",\"#B0BEC5\",\"#B0BEC5\",\"#B0BEC5\",\"#B0BEC5\",\"#B0BEC5\",\"#B0BEC5\",\"#B0BEC5\",\"#B0BEC5\",\"red\",\"#B0BEC5\",\"#B0BEC5\",\"#B0BEC5\",\"#B0BEC5\",\"#B0BEC5\",\"#B0BEC5\"]]}],\"label\":\"Topic 42\",\"method\":\"update\"},{\"args\":[{\"marker.color\":[[\"#B0BEC5\",\"#B0BEC5\",\"#B0BEC5\",\"#B0BEC5\",\"#B0BEC5\",\"#B0BEC5\",\"#B0BEC5\",\"#B0BEC5\",\"#B0BEC5\",\"#B0BEC5\",\"#B0BEC5\",\"#B0BEC5\",\"#B0BEC5\",\"#B0BEC5\",\"#B0BEC5\",\"#B0BEC5\",\"#B0BEC5\",\"#B0BEC5\",\"#B0BEC5\",\"#B0BEC5\",\"#B0BEC5\",\"#B0BEC5\",\"#B0BEC5\",\"#B0BEC5\",\"#B0BEC5\",\"#B0BEC5\",\"#B0BEC5\",\"#B0BEC5\",\"#B0BEC5\",\"#B0BEC5\",\"#B0BEC5\",\"#B0BEC5\",\"#B0BEC5\",\"#B0BEC5\",\"#B0BEC5\",\"#B0BEC5\",\"#B0BEC5\",\"#B0BEC5\",\"#B0BEC5\",\"#B0BEC5\",\"#B0BEC5\",\"#B0BEC5\",\"#B0BEC5\",\"red\",\"#B0BEC5\",\"#B0BEC5\",\"#B0BEC5\",\"#B0BEC5\",\"#B0BEC5\"]]}],\"label\":\"Topic 43\",\"method\":\"update\"},{\"args\":[{\"marker.color\":[[\"#B0BEC5\",\"#B0BEC5\",\"#B0BEC5\",\"#B0BEC5\",\"#B0BEC5\",\"#B0BEC5\",\"#B0BEC5\",\"#B0BEC5\",\"#B0BEC5\",\"#B0BEC5\",\"#B0BEC5\",\"#B0BEC5\",\"#B0BEC5\",\"#B0BEC5\",\"#B0BEC5\",\"#B0BEC5\",\"#B0BEC5\",\"#B0BEC5\",\"#B0BEC5\",\"#B0BEC5\",\"#B0BEC5\",\"#B0BEC5\",\"#B0BEC5\",\"#B0BEC5\",\"#B0BEC5\",\"#B0BEC5\",\"#B0BEC5\",\"#B0BEC5\",\"#B0BEC5\",\"#B0BEC5\",\"#B0BEC5\",\"#B0BEC5\",\"#B0BEC5\",\"#B0BEC5\",\"#B0BEC5\",\"#B0BEC5\",\"#B0BEC5\",\"#B0BEC5\",\"#B0BEC5\",\"#B0BEC5\",\"#B0BEC5\",\"#B0BEC5\",\"#B0BEC5\",\"#B0BEC5\",\"red\",\"#B0BEC5\",\"#B0BEC5\",\"#B0BEC5\",\"#B0BEC5\"]]}],\"label\":\"Topic 44\",\"method\":\"update\"},{\"args\":[{\"marker.color\":[[\"#B0BEC5\",\"#B0BEC5\",\"#B0BEC5\",\"#B0BEC5\",\"#B0BEC5\",\"#B0BEC5\",\"#B0BEC5\",\"#B0BEC5\",\"#B0BEC5\",\"#B0BEC5\",\"#B0BEC5\",\"#B0BEC5\",\"#B0BEC5\",\"#B0BEC5\",\"#B0BEC5\",\"#B0BEC5\",\"#B0BEC5\",\"#B0BEC5\",\"#B0BEC5\",\"#B0BEC5\",\"#B0BEC5\",\"#B0BEC5\",\"#B0BEC5\",\"#B0BEC5\",\"#B0BEC5\",\"#B0BEC5\",\"#B0BEC5\",\"#B0BEC5\",\"#B0BEC5\",\"#B0BEC5\",\"#B0BEC5\",\"#B0BEC5\",\"#B0BEC5\",\"#B0BEC5\",\"#B0BEC5\",\"#B0BEC5\",\"#B0BEC5\",\"#B0BEC5\",\"#B0BEC5\",\"#B0BEC5\",\"#B0BEC5\",\"#B0BEC5\",\"#B0BEC5\",\"#B0BEC5\",\"#B0BEC5\",\"red\",\"#B0BEC5\",\"#B0BEC5\",\"#B0BEC5\"]]}],\"label\":\"Topic 45\",\"method\":\"update\"},{\"args\":[{\"marker.color\":[[\"#B0BEC5\",\"#B0BEC5\",\"#B0BEC5\",\"#B0BEC5\",\"#B0BEC5\",\"#B0BEC5\",\"#B0BEC5\",\"#B0BEC5\",\"#B0BEC5\",\"#B0BEC5\",\"#B0BEC5\",\"#B0BEC5\",\"#B0BEC5\",\"#B0BEC5\",\"#B0BEC5\",\"#B0BEC5\",\"#B0BEC5\",\"#B0BEC5\",\"#B0BEC5\",\"#B0BEC5\",\"#B0BEC5\",\"#B0BEC5\",\"#B0BEC5\",\"#B0BEC5\",\"#B0BEC5\",\"#B0BEC5\",\"#B0BEC5\",\"#B0BEC5\",\"#B0BEC5\",\"#B0BEC5\",\"#B0BEC5\",\"#B0BEC5\",\"#B0BEC5\",\"#B0BEC5\",\"#B0BEC5\",\"#B0BEC5\",\"#B0BEC5\",\"#B0BEC5\",\"#B0BEC5\",\"#B0BEC5\",\"#B0BEC5\",\"#B0BEC5\",\"#B0BEC5\",\"#B0BEC5\",\"#B0BEC5\",\"#B0BEC5\",\"red\",\"#B0BEC5\",\"#B0BEC5\"]]}],\"label\":\"Topic 46\",\"method\":\"update\"},{\"args\":[{\"marker.color\":[[\"#B0BEC5\",\"#B0BEC5\",\"#B0BEC5\",\"#B0BEC5\",\"#B0BEC5\",\"#B0BEC5\",\"#B0BEC5\",\"#B0BEC5\",\"#B0BEC5\",\"#B0BEC5\",\"#B0BEC5\",\"#B0BEC5\",\"#B0BEC5\",\"#B0BEC5\",\"#B0BEC5\",\"#B0BEC5\",\"#B0BEC5\",\"#B0BEC5\",\"#B0BEC5\",\"#B0BEC5\",\"#B0BEC5\",\"#B0BEC5\",\"#B0BEC5\",\"#B0BEC5\",\"#B0BEC5\",\"#B0BEC5\",\"#B0BEC5\",\"#B0BEC5\",\"#B0BEC5\",\"#B0BEC5\",\"#B0BEC5\",\"#B0BEC5\",\"#B0BEC5\",\"#B0BEC5\",\"#B0BEC5\",\"#B0BEC5\",\"#B0BEC5\",\"#B0BEC5\",\"#B0BEC5\",\"#B0BEC5\",\"#B0BEC5\",\"#B0BEC5\",\"#B0BEC5\",\"#B0BEC5\",\"#B0BEC5\",\"#B0BEC5\",\"#B0BEC5\",\"red\",\"#B0BEC5\"]]}],\"label\":\"Topic 47\",\"method\":\"update\"},{\"args\":[{\"marker.color\":[[\"#B0BEC5\",\"#B0BEC5\",\"#B0BEC5\",\"#B0BEC5\",\"#B0BEC5\",\"#B0BEC5\",\"#B0BEC5\",\"#B0BEC5\",\"#B0BEC5\",\"#B0BEC5\",\"#B0BEC5\",\"#B0BEC5\",\"#B0BEC5\",\"#B0BEC5\",\"#B0BEC5\",\"#B0BEC5\",\"#B0BEC5\",\"#B0BEC5\",\"#B0BEC5\",\"#B0BEC5\",\"#B0BEC5\",\"#B0BEC5\",\"#B0BEC5\",\"#B0BEC5\",\"#B0BEC5\",\"#B0BEC5\",\"#B0BEC5\",\"#B0BEC5\",\"#B0BEC5\",\"#B0BEC5\",\"#B0BEC5\",\"#B0BEC5\",\"#B0BEC5\",\"#B0BEC5\",\"#B0BEC5\",\"#B0BEC5\",\"#B0BEC5\",\"#B0BEC5\",\"#B0BEC5\",\"#B0BEC5\",\"#B0BEC5\",\"#B0BEC5\",\"#B0BEC5\",\"#B0BEC5\",\"#B0BEC5\",\"#B0BEC5\",\"#B0BEC5\",\"#B0BEC5\",\"red\"]]}],\"label\":\"Topic 48\",\"method\":\"update\"}]}],\"shapes\":[{\"line\":{\"color\":\"#CFD8DC\",\"width\":2},\"type\":\"line\",\"x0\":7.63029659986496,\"x1\":7.63029659986496,\"y0\":-15.711579322814941,\"y1\":21.09232940673828},{\"line\":{\"color\":\"#9E9E9E\",\"width\":2},\"type\":\"line\",\"x0\":-5.933549618721008,\"x1\":21.194142818450928,\"y0\":2.690375041961669,\"y1\":2.690375041961669}],\"annotations\":[{\"showarrow\":false,\"text\":\"D1\",\"x\":-5.933549618721008,\"y\":2.690375041961669,\"yshift\":10},{\"showarrow\":false,\"text\":\"D2\",\"x\":7.63029659986496,\"xshift\":10,\"y\":21.09232940673828}]},                        {\"responsive\": true}                    ).then(function(){\n                            \nvar gd = document.getElementById('8c848a3b-062e-452f-8922-727476aa0c59');\nvar x = new MutationObserver(function (mutations, observer) {{\n        var display = window.getComputedStyle(gd).display;\n        if (!display || display === 'none') {{\n            console.log([gd, 'removed!']);\n            Plotly.purge(gd);\n            observer.disconnect();\n        }}\n}});\n\n// Listen for the removal of the full notebook cells\nvar notebookContainer = gd.closest('#notebook-container');\nif (notebookContainer) {{\n    x.observe(notebookContainer, {childList: true});\n}}\n\n// Listen for the clearing of the current output cell\nvar outputEl = gd.closest('.output');\nif (outputEl) {{\n    x.observe(outputEl, {childList: true});\n}}\n\n                        })                };                });            </script>        </div>"
     },
     "metadata": {},
     "output_type": "display_data"
    }
   ],
   "source": [
    "topic_model.visualize_topics()"
   ],
   "metadata": {
    "collapsed": false,
    "ExecuteTime": {
     "start_time": "2023-04-09T17:54:55.721607Z",
     "end_time": "2023-04-09T17:55:05.711503Z"
    }
   }
  },
  {
   "cell_type": "code",
   "execution_count": 57,
   "outputs": [],
   "source": [
    "similarWords = (\n",
    "    \"Aristocracy \"\n",
    "    \"birthright \"\n",
    "    \"crest \"\n",
    "    \"crown \"\n",
    "    \"highness \"\n",
    "    \"king \"\n",
    "    \"monarch \"\n",
    "    \"palace \"\n",
    "    \"prince \"\n",
    "    \"princess \"\n",
    "    \"queen \"\n",
    "    \"royal \"\n",
    "    \"royalty \"\n",
    "    \"majesty \"\n",
    "    \"emperor \"\n",
    ")"
   ],
   "metadata": {
    "collapsed": false,
    "ExecuteTime": {
     "start_time": "2023-04-09T17:55:13.922812Z",
     "end_time": "2023-04-09T17:55:13.980572Z"
    }
   }
  },
  {
   "cell_type": "code",
   "execution_count": 61,
   "outputs": [],
   "source": [
    "similar_topics, similarity = topic_model.find_topics(similarWords, top_n=50)"
   ],
   "metadata": {
    "collapsed": false,
    "ExecuteTime": {
     "start_time": "2023-04-09T17:55:47.958421Z",
     "end_time": "2023-04-09T17:55:47.998515Z"
    }
   }
  },
  {
   "cell_type": "code",
   "execution_count": 64,
   "outputs": [
    {
     "data": {
      "text/plain": "[('mr', 0.0352285178976172),\n ('gentleman', 0.03051244100470032),\n ('mr mr', 0.020836362344775143),\n ('noble', 0.018259203953243854)]"
     },
     "execution_count": 64,
     "metadata": {},
     "output_type": "execute_result"
    }
   ],
   "source": [
    "topic_model.get_topic(similar_topics[0])"
   ],
   "metadata": {
    "collapsed": false,
    "ExecuteTime": {
     "start_time": "2023-04-09T17:56:00.568880Z",
     "end_time": "2023-04-09T17:56:00.702534Z"
    }
   }
  },
  {
   "cell_type": "code",
   "execution_count": 60,
   "outputs": [
    {
     "ename": "ValueError",
     "evalue": "2 columns passed, passed data had 161529 columns",
     "output_type": "error",
     "traceback": [
      "\u001B[1;31m---------------------------------------------------------------------------\u001B[0m",
      "\u001B[1;31mAssertionError\u001B[0m                            Traceback (most recent call last)",
      "File \u001B[1;32m~\\UnTrackedFolder\\textAnalytics\\venv\\lib\\site-packages\\pandas\\core\\internals\\construction.py:934\u001B[0m, in \u001B[0;36m_finalize_columns_and_data\u001B[1;34m(content, columns, dtype)\u001B[0m\n\u001B[0;32m    933\u001B[0m \u001B[38;5;28;01mtry\u001B[39;00m:\n\u001B[1;32m--> 934\u001B[0m     columns \u001B[38;5;241m=\u001B[39m \u001B[43m_validate_or_indexify_columns\u001B[49m\u001B[43m(\u001B[49m\u001B[43mcontents\u001B[49m\u001B[43m,\u001B[49m\u001B[43m \u001B[49m\u001B[43mcolumns\u001B[49m\u001B[43m)\u001B[49m\n\u001B[0;32m    935\u001B[0m \u001B[38;5;28;01mexcept\u001B[39;00m \u001B[38;5;167;01mAssertionError\u001B[39;00m \u001B[38;5;28;01mas\u001B[39;00m err:\n\u001B[0;32m    936\u001B[0m     \u001B[38;5;66;03m# GH#26429 do not raise user-facing AssertionError\u001B[39;00m\n",
      "File \u001B[1;32m~\\UnTrackedFolder\\textAnalytics\\venv\\lib\\site-packages\\pandas\\core\\internals\\construction.py:981\u001B[0m, in \u001B[0;36m_validate_or_indexify_columns\u001B[1;34m(content, columns)\u001B[0m\n\u001B[0;32m    979\u001B[0m \u001B[38;5;28;01mif\u001B[39;00m \u001B[38;5;129;01mnot\u001B[39;00m is_mi_list \u001B[38;5;129;01mand\u001B[39;00m \u001B[38;5;28mlen\u001B[39m(columns) \u001B[38;5;241m!=\u001B[39m \u001B[38;5;28mlen\u001B[39m(content):  \u001B[38;5;66;03m# pragma: no cover\u001B[39;00m\n\u001B[0;32m    980\u001B[0m     \u001B[38;5;66;03m# caller's responsibility to check for this...\u001B[39;00m\n\u001B[1;32m--> 981\u001B[0m     \u001B[38;5;28;01mraise\u001B[39;00m \u001B[38;5;167;01mAssertionError\u001B[39;00m(\n\u001B[0;32m    982\u001B[0m         \u001B[38;5;124mf\u001B[39m\u001B[38;5;124m\"\u001B[39m\u001B[38;5;132;01m{\u001B[39;00m\u001B[38;5;28mlen\u001B[39m(columns)\u001B[38;5;132;01m}\u001B[39;00m\u001B[38;5;124m columns passed, passed data had \u001B[39m\u001B[38;5;124m\"\u001B[39m\n\u001B[0;32m    983\u001B[0m         \u001B[38;5;124mf\u001B[39m\u001B[38;5;124m\"\u001B[39m\u001B[38;5;132;01m{\u001B[39;00m\u001B[38;5;28mlen\u001B[39m(content)\u001B[38;5;132;01m}\u001B[39;00m\u001B[38;5;124m columns\u001B[39m\u001B[38;5;124m\"\u001B[39m\n\u001B[0;32m    984\u001B[0m     )\n\u001B[0;32m    985\u001B[0m \u001B[38;5;28;01mif\u001B[39;00m is_mi_list:\n\u001B[0;32m    986\u001B[0m     \u001B[38;5;66;03m# check if nested list column, length of each sub-list should be equal\u001B[39;00m\n",
      "\u001B[1;31mAssertionError\u001B[0m: 2 columns passed, passed data had 161529 columns",
      "\nThe above exception was the direct cause of the following exception:\n",
      "\u001B[1;31mValueError\u001B[0m                                Traceback (most recent call last)",
      "Cell \u001B[1;32mIn[60], line 4\u001B[0m\n\u001B[0;32m      1\u001B[0m \u001B[38;5;28;01mimport\u001B[39;00m \u001B[38;5;21;01mhdbscan\u001B[39;00m\n\u001B[0;32m      2\u001B[0m \u001B[38;5;28;01mimport\u001B[39;00m \u001B[38;5;21;01mmatplotlib\u001B[39;00m\u001B[38;5;21;01m.\u001B[39;00m\u001B[38;5;21;01mpyplot\u001B[39;00m \u001B[38;5;28;01mas\u001B[39;00m \u001B[38;5;21;01mplt\u001B[39;00m\n\u001B[1;32m----> 4\u001B[0m result \u001B[38;5;241m=\u001B[39m \u001B[43mpd\u001B[49m\u001B[38;5;241;43m.\u001B[39;49m\u001B[43mDataFrame\u001B[49m\u001B[43m(\u001B[49m\u001B[43mtopics\u001B[49m\u001B[43m,\u001B[49m\u001B[43m \u001B[49m\u001B[43mcolumns\u001B[49m\u001B[38;5;241;43m=\u001B[39;49m\u001B[43m[\u001B[49m\u001B[38;5;124;43m'\u001B[39;49m\u001B[38;5;124;43mx\u001B[39;49m\u001B[38;5;124;43m'\u001B[39;49m\u001B[43m,\u001B[49m\u001B[43m \u001B[49m\u001B[38;5;124;43m'\u001B[39;49m\u001B[38;5;124;43my\u001B[39;49m\u001B[38;5;124;43m'\u001B[39;49m\u001B[43m]\u001B[49m\u001B[43m)\u001B[49m\n\u001B[0;32m      6\u001B[0m cluster \u001B[38;5;241m=\u001B[39m hdbscan\u001B[38;5;241m.\u001B[39mHDBSCAN(min_cluster_size\u001B[38;5;241m=\u001B[39m\u001B[38;5;241m15\u001B[39m,\n\u001B[0;32m      7\u001B[0m                           metric\u001B[38;5;241m=\u001B[39m\u001B[38;5;124m'\u001B[39m\u001B[38;5;124meuclidean\u001B[39m\u001B[38;5;124m'\u001B[39m,\n\u001B[0;32m      8\u001B[0m                           cluster_selection_method\u001B[38;5;241m=\u001B[39m\u001B[38;5;124m'\u001B[39m\u001B[38;5;124meom\u001B[39m\u001B[38;5;124m'\u001B[39m\n\u001B[0;32m      9\u001B[0m                           )\u001B[38;5;241m.\u001B[39mfit(topics)\n\u001B[0;32m     11\u001B[0m result[\u001B[38;5;124m'\u001B[39m\u001B[38;5;124mlabels\u001B[39m\u001B[38;5;124m'\u001B[39m] \u001B[38;5;241m=\u001B[39m cluster\u001B[38;5;241m.\u001B[39mlabels_\n",
      "File \u001B[1;32m~\\UnTrackedFolder\\textAnalytics\\venv\\lib\\site-packages\\pandas\\core\\frame.py:781\u001B[0m, in \u001B[0;36mDataFrame.__init__\u001B[1;34m(self, data, index, columns, dtype, copy)\u001B[0m\n\u001B[0;32m    779\u001B[0m     \u001B[38;5;28;01mif\u001B[39;00m columns \u001B[38;5;129;01mis\u001B[39;00m \u001B[38;5;129;01mnot\u001B[39;00m \u001B[38;5;28;01mNone\u001B[39;00m:\n\u001B[0;32m    780\u001B[0m         columns \u001B[38;5;241m=\u001B[39m ensure_index(columns)\n\u001B[1;32m--> 781\u001B[0m     arrays, columns, index \u001B[38;5;241m=\u001B[39m \u001B[43mnested_data_to_arrays\u001B[49m\u001B[43m(\u001B[49m\n\u001B[0;32m    782\u001B[0m \u001B[43m        \u001B[49m\u001B[38;5;66;43;03m# error: Argument 3 to \"nested_data_to_arrays\" has incompatible\u001B[39;49;00m\n\u001B[0;32m    783\u001B[0m \u001B[43m        \u001B[49m\u001B[38;5;66;43;03m# type \"Optional[Collection[Any]]\"; expected \"Optional[Index]\"\u001B[39;49;00m\n\u001B[0;32m    784\u001B[0m \u001B[43m        \u001B[49m\u001B[43mdata\u001B[49m\u001B[43m,\u001B[49m\n\u001B[0;32m    785\u001B[0m \u001B[43m        \u001B[49m\u001B[43mcolumns\u001B[49m\u001B[43m,\u001B[49m\n\u001B[0;32m    786\u001B[0m \u001B[43m        \u001B[49m\u001B[43mindex\u001B[49m\u001B[43m,\u001B[49m\u001B[43m  \u001B[49m\u001B[38;5;66;43;03m# type: ignore[arg-type]\u001B[39;49;00m\n\u001B[0;32m    787\u001B[0m \u001B[43m        \u001B[49m\u001B[43mdtype\u001B[49m\u001B[43m,\u001B[49m\n\u001B[0;32m    788\u001B[0m \u001B[43m    \u001B[49m\u001B[43m)\u001B[49m\n\u001B[0;32m    789\u001B[0m     mgr \u001B[38;5;241m=\u001B[39m arrays_to_mgr(\n\u001B[0;32m    790\u001B[0m         arrays,\n\u001B[0;32m    791\u001B[0m         columns,\n\u001B[1;32m   (...)\u001B[0m\n\u001B[0;32m    794\u001B[0m         typ\u001B[38;5;241m=\u001B[39mmanager,\n\u001B[0;32m    795\u001B[0m     )\n\u001B[0;32m    796\u001B[0m \u001B[38;5;28;01melse\u001B[39;00m:\n",
      "File \u001B[1;32m~\\UnTrackedFolder\\textAnalytics\\venv\\lib\\site-packages\\pandas\\core\\internals\\construction.py:498\u001B[0m, in \u001B[0;36mnested_data_to_arrays\u001B[1;34m(data, columns, index, dtype)\u001B[0m\n\u001B[0;32m    495\u001B[0m \u001B[38;5;28;01mif\u001B[39;00m is_named_tuple(data[\u001B[38;5;241m0\u001B[39m]) \u001B[38;5;129;01mand\u001B[39;00m columns \u001B[38;5;129;01mis\u001B[39;00m \u001B[38;5;28;01mNone\u001B[39;00m:\n\u001B[0;32m    496\u001B[0m     columns \u001B[38;5;241m=\u001B[39m ensure_index(data[\u001B[38;5;241m0\u001B[39m]\u001B[38;5;241m.\u001B[39m_fields)\n\u001B[1;32m--> 498\u001B[0m arrays, columns \u001B[38;5;241m=\u001B[39m \u001B[43mto_arrays\u001B[49m\u001B[43m(\u001B[49m\u001B[43mdata\u001B[49m\u001B[43m,\u001B[49m\u001B[43m \u001B[49m\u001B[43mcolumns\u001B[49m\u001B[43m,\u001B[49m\u001B[43m \u001B[49m\u001B[43mdtype\u001B[49m\u001B[38;5;241;43m=\u001B[39;49m\u001B[43mdtype\u001B[49m\u001B[43m)\u001B[49m\n\u001B[0;32m    499\u001B[0m columns \u001B[38;5;241m=\u001B[39m ensure_index(columns)\n\u001B[0;32m    501\u001B[0m \u001B[38;5;28;01mif\u001B[39;00m index \u001B[38;5;129;01mis\u001B[39;00m \u001B[38;5;28;01mNone\u001B[39;00m:\n",
      "File \u001B[1;32m~\\UnTrackedFolder\\textAnalytics\\venv\\lib\\site-packages\\pandas\\core\\internals\\construction.py:840\u001B[0m, in \u001B[0;36mto_arrays\u001B[1;34m(data, columns, dtype)\u001B[0m\n\u001B[0;32m    837\u001B[0m     data \u001B[38;5;241m=\u001B[39m [\u001B[38;5;28mtuple\u001B[39m(x) \u001B[38;5;28;01mfor\u001B[39;00m x \u001B[38;5;129;01min\u001B[39;00m data]\n\u001B[0;32m    838\u001B[0m     arr \u001B[38;5;241m=\u001B[39m _list_to_arrays(data)\n\u001B[1;32m--> 840\u001B[0m content, columns \u001B[38;5;241m=\u001B[39m \u001B[43m_finalize_columns_and_data\u001B[49m\u001B[43m(\u001B[49m\u001B[43marr\u001B[49m\u001B[43m,\u001B[49m\u001B[43m \u001B[49m\u001B[43mcolumns\u001B[49m\u001B[43m,\u001B[49m\u001B[43m \u001B[49m\u001B[43mdtype\u001B[49m\u001B[43m)\u001B[49m\n\u001B[0;32m    841\u001B[0m \u001B[38;5;28;01mreturn\u001B[39;00m content, columns\n",
      "File \u001B[1;32m~\\UnTrackedFolder\\textAnalytics\\venv\\lib\\site-packages\\pandas\\core\\internals\\construction.py:937\u001B[0m, in \u001B[0;36m_finalize_columns_and_data\u001B[1;34m(content, columns, dtype)\u001B[0m\n\u001B[0;32m    934\u001B[0m     columns \u001B[38;5;241m=\u001B[39m _validate_or_indexify_columns(contents, columns)\n\u001B[0;32m    935\u001B[0m \u001B[38;5;28;01mexcept\u001B[39;00m \u001B[38;5;167;01mAssertionError\u001B[39;00m \u001B[38;5;28;01mas\u001B[39;00m err:\n\u001B[0;32m    936\u001B[0m     \u001B[38;5;66;03m# GH#26429 do not raise user-facing AssertionError\u001B[39;00m\n\u001B[1;32m--> 937\u001B[0m     \u001B[38;5;28;01mraise\u001B[39;00m \u001B[38;5;167;01mValueError\u001B[39;00m(err) \u001B[38;5;28;01mfrom\u001B[39;00m \u001B[38;5;21;01merr\u001B[39;00m\n\u001B[0;32m    939\u001B[0m \u001B[38;5;28;01mif\u001B[39;00m \u001B[38;5;28mlen\u001B[39m(contents) \u001B[38;5;129;01mand\u001B[39;00m contents[\u001B[38;5;241m0\u001B[39m]\u001B[38;5;241m.\u001B[39mdtype \u001B[38;5;241m==\u001B[39m np\u001B[38;5;241m.\u001B[39mobject_:\n\u001B[0;32m    940\u001B[0m     contents \u001B[38;5;241m=\u001B[39m convert_object_array(contents, dtype\u001B[38;5;241m=\u001B[39mdtype)\n",
      "\u001B[1;31mValueError\u001B[0m: 2 columns passed, passed data had 161529 columns"
     ]
    }
   ],
   "source": [
    "import hdbscan\n",
    "import matplotlib.pyplot as plt\n",
    "\n",
    "result = pd.DataFrame(topics, columns=['x', 'y'])\n",
    "\n",
    "cluster = hdbscan.HDBSCAN(min_cluster_size=15,\n",
    "                          metric='euclidean',\n",
    "                          cluster_selection_method='eom'\n",
    "                          ).fit(topics)\n",
    "\n",
    "result['labels'] = cluster.labels_\n",
    "\n",
    "# Visualize clusters\n",
    "fig, ax = plt.subplots(figsize=(20, 10))\n",
    "outliers = result.loc[result.labels == -1, :]\n",
    "clustered = result.loc[result.labels != -1, :]\n",
    "plt.scatter(outliers.x, outliers.y, color='#BDBDBD', s=0.05)\n",
    "plt.scatter(clustered.x, clustered.y, c=clustered.labels, s=0.05, cmap='hsv_r')\n",
    "plt.colorbar()"
   ],
   "metadata": {
    "collapsed": false
   }
  },
  {
   "cell_type": "code",
   "execution_count": null,
   "outputs": [],
   "source": [],
   "metadata": {
    "collapsed": false
   }
  }
 ],
 "metadata": {
  "kernelspec": {
   "display_name": "Python 3",
   "language": "python",
   "name": "python3"
  },
  "language_info": {
   "codemirror_mode": {
    "name": "ipython",
    "version": 2
   },
   "file_extension": ".py",
   "mimetype": "text/x-python",
   "name": "python",
   "nbconvert_exporter": "python",
   "pygments_lexer": "ipython2",
   "version": "2.7.6"
  }
 },
 "nbformat": 4,
 "nbformat_minor": 0
}
