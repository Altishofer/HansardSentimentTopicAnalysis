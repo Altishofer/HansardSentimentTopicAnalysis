{
 "cells": [
  {
   "cell_type": "code",
   "execution_count": 1,
   "metadata": {
    "collapsed": true,
    "ExecuteTime": {
     "start_time": "2023-04-06T15:13:46.577020Z",
     "end_time": "2023-04-06T15:13:47.815502Z"
    }
   },
   "outputs": [
    {
     "data": {
      "text/plain": "      timePeriod  index                                            rawText\n0  180X.POS.rand      1                               The_DT hon_NN ._SENT\n1  180X.POS.rand      2  The_DT gallant_JJ general_NN who_WP commanded_...\n2  180X.POS.rand      3  But_CC ,_, Mr._NP Pitt_NP said_VBD ,_, he_PP d...\n3  180X.POS.rand      4  And_CC Dr._NP Hussey_NP ,_, who_WP informs_VBZ...\n4  180X.POS.rand      5  In_IN former_JJ times_NNS and_CC in_IN former_...",
      "text/html": "<div>\n<style scoped>\n    .dataframe tbody tr th:only-of-type {\n        vertical-align: middle;\n    }\n\n    .dataframe tbody tr th {\n        vertical-align: top;\n    }\n\n    .dataframe thead th {\n        text-align: right;\n    }\n</style>\n<table border=\"1\" class=\"dataframe\">\n  <thead>\n    <tr style=\"text-align: right;\">\n      <th></th>\n      <th>timePeriod</th>\n      <th>index</th>\n      <th>rawText</th>\n    </tr>\n  </thead>\n  <tbody>\n    <tr>\n      <th>0</th>\n      <td>180X.POS.rand</td>\n      <td>1</td>\n      <td>The_DT hon_NN ._SENT</td>\n    </tr>\n    <tr>\n      <th>1</th>\n      <td>180X.POS.rand</td>\n      <td>2</td>\n      <td>The_DT gallant_JJ general_NN who_WP commanded_...</td>\n    </tr>\n    <tr>\n      <th>2</th>\n      <td>180X.POS.rand</td>\n      <td>3</td>\n      <td>But_CC ,_, Mr._NP Pitt_NP said_VBD ,_, he_PP d...</td>\n    </tr>\n    <tr>\n      <th>3</th>\n      <td>180X.POS.rand</td>\n      <td>4</td>\n      <td>And_CC Dr._NP Hussey_NP ,_, who_WP informs_VBZ...</td>\n    </tr>\n    <tr>\n      <th>4</th>\n      <td>180X.POS.rand</td>\n      <td>5</td>\n      <td>In_IN former_JJ times_NNS and_CC in_IN former_...</td>\n    </tr>\n  </tbody>\n</table>\n</div>"
     },
     "execution_count": 1,
     "metadata": {},
     "output_type": "execute_result"
    }
   ],
   "source": [
    "import pandas as pd\n",
    "import os\n",
    "\n",
    "papers = pd.read_csv(\n",
    "    \"./rawData/sampler_10ktexts_perdecade.ALL2.tsv\",\n",
    "    sep='\\t',\n",
    "    names=[\"timePeriod\", \"index\", \"rawText\"]\n",
    ")\n",
    "\n",
    "papers.head()"
   ]
  },
  {
   "cell_type": "code",
   "execution_count": 2,
   "outputs": [
    {
     "data": {
      "text/plain": "  timePeriod  index                                            rawText\n0       1800      1                               The_DT hon_NN ._SENT\n1       1800      2  The_DT gallant_JJ general_NN who_WP commanded_...\n2       1800      3  But_CC ,_, Mr._NP Pitt_NP said_VBD ,_, he_PP d...\n3       1800      4  And_CC Dr._NP Hussey_NP ,_, who_WP informs_VBZ...\n4       1800      5  In_IN former_JJ times_NNS and_CC in_IN former_...",
      "text/html": "<div>\n<style scoped>\n    .dataframe tbody tr th:only-of-type {\n        vertical-align: middle;\n    }\n\n    .dataframe tbody tr th {\n        vertical-align: top;\n    }\n\n    .dataframe thead th {\n        text-align: right;\n    }\n</style>\n<table border=\"1\" class=\"dataframe\">\n  <thead>\n    <tr style=\"text-align: right;\">\n      <th></th>\n      <th>timePeriod</th>\n      <th>index</th>\n      <th>rawText</th>\n    </tr>\n  </thead>\n  <tbody>\n    <tr>\n      <th>0</th>\n      <td>1800</td>\n      <td>1</td>\n      <td>The_DT hon_NN ._SENT</td>\n    </tr>\n    <tr>\n      <th>1</th>\n      <td>1800</td>\n      <td>2</td>\n      <td>The_DT gallant_JJ general_NN who_WP commanded_...</td>\n    </tr>\n    <tr>\n      <th>2</th>\n      <td>1800</td>\n      <td>3</td>\n      <td>But_CC ,_, Mr._NP Pitt_NP said_VBD ,_, he_PP d...</td>\n    </tr>\n    <tr>\n      <th>3</th>\n      <td>1800</td>\n      <td>4</td>\n      <td>And_CC Dr._NP Hussey_NP ,_, who_WP informs_VBZ...</td>\n    </tr>\n    <tr>\n      <th>4</th>\n      <td>1800</td>\n      <td>5</td>\n      <td>In_IN former_JJ times_NNS and_CC in_IN former_...</td>\n    </tr>\n  </tbody>\n</table>\n</div>"
     },
     "execution_count": 2,
     "metadata": {},
     "output_type": "execute_result"
    }
   ],
   "source": [
    "papers['timePeriod'] = papers['timePeriod'].map(lambda x: x.rstrip('X.POS.rand'))\n",
    "papers['timePeriod'] = papers['timePeriod'].astype(str) + '0'\n",
    "papers.head()"
   ],
   "metadata": {
    "collapsed": false,
    "ExecuteTime": {
     "start_time": "2023-04-06T15:14:00.093342Z",
     "end_time": "2023-04-06T15:14:00.173807Z"
    }
   }
  },
  {
   "cell_type": "code",
   "execution_count": 3,
   "outputs": [
    {
     "data": {
      "text/plain": "  timePeriod  index                                            rawText\n0 1800-01-01      1                               The_DT hon_NN ._SENT\n1 1800-01-01      2  The_DT gallant_JJ general_NN who_WP commanded_...\n2 1800-01-01      3  But_CC ,_, Mr._NP Pitt_NP said_VBD ,_, he_PP d...\n3 1800-01-01      4  And_CC Dr._NP Hussey_NP ,_, who_WP informs_VBZ...\n4 1800-01-01      5  In_IN former_JJ times_NNS and_CC in_IN former_...",
      "text/html": "<div>\n<style scoped>\n    .dataframe tbody tr th:only-of-type {\n        vertical-align: middle;\n    }\n\n    .dataframe tbody tr th {\n        vertical-align: top;\n    }\n\n    .dataframe thead th {\n        text-align: right;\n    }\n</style>\n<table border=\"1\" class=\"dataframe\">\n  <thead>\n    <tr style=\"text-align: right;\">\n      <th></th>\n      <th>timePeriod</th>\n      <th>index</th>\n      <th>rawText</th>\n    </tr>\n  </thead>\n  <tbody>\n    <tr>\n      <th>0</th>\n      <td>1800-01-01</td>\n      <td>1</td>\n      <td>The_DT hon_NN ._SENT</td>\n    </tr>\n    <tr>\n      <th>1</th>\n      <td>1800-01-01</td>\n      <td>2</td>\n      <td>The_DT gallant_JJ general_NN who_WP commanded_...</td>\n    </tr>\n    <tr>\n      <th>2</th>\n      <td>1800-01-01</td>\n      <td>3</td>\n      <td>But_CC ,_, Mr._NP Pitt_NP said_VBD ,_, he_PP d...</td>\n    </tr>\n    <tr>\n      <th>3</th>\n      <td>1800-01-01</td>\n      <td>4</td>\n      <td>And_CC Dr._NP Hussey_NP ,_, who_WP informs_VBZ...</td>\n    </tr>\n    <tr>\n      <th>4</th>\n      <td>1800-01-01</td>\n      <td>5</td>\n      <td>In_IN former_JJ times_NNS and_CC in_IN former_...</td>\n    </tr>\n  </tbody>\n</table>\n</div>"
     },
     "execution_count": 3,
     "metadata": {},
     "output_type": "execute_result"
    }
   ],
   "source": [
    "papers['timePeriod'] = pd.to_datetime(papers['timePeriod'], format='%Y')\n",
    "papers['timePeriod'] = pd.DatetimeIndex(papers['timePeriod']) #.year\n",
    "papers.head()"
   ],
   "metadata": {
    "collapsed": false,
    "ExecuteTime": {
     "start_time": "2023-04-06T15:14:03.448029Z",
     "end_time": "2023-04-06T15:14:03.510216Z"
    }
   }
  },
  {
   "cell_type": "code",
   "execution_count": 4,
   "outputs": [
    {
     "data": {
      "text/plain": "  timePeriod  index                                            rawText\n0 1800-01-01      1                               The_DT hon_NN ._SENT\n1 1800-01-01      2  The_DT gallant_JJ general_NN who_WP commanded_...\n2 1800-01-01      3  But_CC ,_, Mr._NP Pitt_NP said_VBD ,_, he_PP d...\n3 1800-01-01      4  And_CC Dr._NP Hussey_NP ,_, who_WP informs_VBZ...\n4 1800-01-01      5  In_IN former_JJ times_NNS and_CC in_IN former_...",
      "text/html": "<div>\n<style scoped>\n    .dataframe tbody tr th:only-of-type {\n        vertical-align: middle;\n    }\n\n    .dataframe tbody tr th {\n        vertical-align: top;\n    }\n\n    .dataframe thead th {\n        text-align: right;\n    }\n</style>\n<table border=\"1\" class=\"dataframe\">\n  <thead>\n    <tr style=\"text-align: right;\">\n      <th></th>\n      <th>timePeriod</th>\n      <th>index</th>\n      <th>rawText</th>\n    </tr>\n  </thead>\n  <tbody>\n    <tr>\n      <th>0</th>\n      <td>1800-01-01</td>\n      <td>1</td>\n      <td>The_DT hon_NN ._SENT</td>\n    </tr>\n    <tr>\n      <th>1</th>\n      <td>1800-01-01</td>\n      <td>2</td>\n      <td>The_DT gallant_JJ general_NN who_WP commanded_...</td>\n    </tr>\n    <tr>\n      <th>2</th>\n      <td>1800-01-01</td>\n      <td>3</td>\n      <td>But_CC ,_, Mr._NP Pitt_NP said_VBD ,_, he_PP d...</td>\n    </tr>\n    <tr>\n      <th>3</th>\n      <td>1800-01-01</td>\n      <td>4</td>\n      <td>And_CC Dr._NP Hussey_NP ,_, who_WP informs_VBZ...</td>\n    </tr>\n    <tr>\n      <th>4</th>\n      <td>1800-01-01</td>\n      <td>5</td>\n      <td>In_IN former_JJ times_NNS and_CC in_IN former_...</td>\n    </tr>\n  </tbody>\n</table>\n</div>"
     },
     "execution_count": 4,
     "metadata": {},
     "output_type": "execute_result"
    }
   ],
   "source": [
    "reducedPapers = papers[papers[\"timePeriod\"].isin(pd.date_range(\"1800-01-01\", \"1830-01-01\"))]\n",
    "reducedPapers.head()"
   ],
   "metadata": {
    "collapsed": false,
    "ExecuteTime": {
     "start_time": "2023-04-06T15:14:04.893770Z",
     "end_time": "2023-04-06T15:14:04.910777Z"
    }
   }
  },
  {
   "cell_type": "code",
   "execution_count": 5,
   "outputs": [
    {
     "name": "stderr",
     "output_type": "stream",
     "text": [
      "[nltk_data] Downloading package stopwords to\n",
      "[nltk_data]     C:\\Users\\sandr\\AppData\\Roaming\\nltk_data...\n",
      "[nltk_data]   Package stopwords is already up-to-date!\n",
      "[nltk_data] Downloading package wordnet to\n",
      "[nltk_data]     C:\\Users\\sandr\\AppData\\Roaming\\nltk_data...\n",
      "[nltk_data]   Package wordnet is already up-to-date!\n",
      "[nltk_data] Downloading package punkt to\n",
      "[nltk_data]     C:\\Users\\sandr\\AppData\\Roaming\\nltk_data...\n",
      "[nltk_data]   Package punkt is already up-to-date!\n",
      "C:\\Users\\sandr\\AppData\\Local\\Temp\\ipykernel_17948\\2388080242.py:16: SettingWithCopyWarning: \n",
      "A value is trying to be set on a copy of a slice from a DataFrame.\n",
      "Try using .loc[row_indexer,col_indexer] = value instead\n",
      "\n",
      "See the caveats in the documentation: https://pandas.pydata.org/pandas-docs/stable/user_guide/indexing.html#returning-a-view-versus-a-copy\n",
      "  reducedPapers['processedText'] = reducedPapers['rawText'].apply(preprocess_text)\n"
     ]
    },
    {
     "data": {
      "text/plain": "  timePeriod  index                                            rawText   \n0 1800-01-01      1                               The_DT hon_NN ._SENT  \\\n1 1800-01-01      2  The_DT gallant_JJ general_NN who_WP commanded_...   \n2 1800-01-01      3  But_CC ,_, Mr._NP Pitt_NP said_VBD ,_, he_PP d...   \n3 1800-01-01      4  And_CC Dr._NP Hussey_NP ,_, who_WP informs_VBZ...   \n4 1800-01-01      5  In_IN former_JJ times_NNS and_CC in_IN former_...   \n\n                                       processedText  \n0                                                hon  \n1  gallant general commanded well knew reinforcem...  \n2  pitt said doubted whether would necessary inse...  \n3  hussey informs u romish bishop waterford appoi...  \n4  former time former war invasion often threaten...  ",
      "text/html": "<div>\n<style scoped>\n    .dataframe tbody tr th:only-of-type {\n        vertical-align: middle;\n    }\n\n    .dataframe tbody tr th {\n        vertical-align: top;\n    }\n\n    .dataframe thead th {\n        text-align: right;\n    }\n</style>\n<table border=\"1\" class=\"dataframe\">\n  <thead>\n    <tr style=\"text-align: right;\">\n      <th></th>\n      <th>timePeriod</th>\n      <th>index</th>\n      <th>rawText</th>\n      <th>processedText</th>\n    </tr>\n  </thead>\n  <tbody>\n    <tr>\n      <th>0</th>\n      <td>1800-01-01</td>\n      <td>1</td>\n      <td>The_DT hon_NN ._SENT</td>\n      <td>hon</td>\n    </tr>\n    <tr>\n      <th>1</th>\n      <td>1800-01-01</td>\n      <td>2</td>\n      <td>The_DT gallant_JJ general_NN who_WP commanded_...</td>\n      <td>gallant general commanded well knew reinforcem...</td>\n    </tr>\n    <tr>\n      <th>2</th>\n      <td>1800-01-01</td>\n      <td>3</td>\n      <td>But_CC ,_, Mr._NP Pitt_NP said_VBD ,_, he_PP d...</td>\n      <td>pitt said doubted whether would necessary inse...</td>\n    </tr>\n    <tr>\n      <th>3</th>\n      <td>1800-01-01</td>\n      <td>4</td>\n      <td>And_CC Dr._NP Hussey_NP ,_, who_WP informs_VBZ...</td>\n      <td>hussey informs u romish bishop waterford appoi...</td>\n    </tr>\n    <tr>\n      <th>4</th>\n      <td>1800-01-01</td>\n      <td>5</td>\n      <td>In_IN former_JJ times_NNS and_CC in_IN former_...</td>\n      <td>former time former war invasion often threaten...</td>\n    </tr>\n  </tbody>\n</table>\n</div>"
     },
     "execution_count": 5,
     "metadata": {},
     "output_type": "execute_result"
    }
   ],
   "source": [
    "import nltk\n",
    "from nltk.stem import WordNetLemmatizer\n",
    "nltk.download('stopwords')\n",
    "nltk.download('wordnet')\n",
    "nltk.download('punkt')\n",
    "\n",
    "stop_words = set(nltk.corpus.stopwords.words('english'))\n",
    "wn = WordNetLemmatizer()\n",
    "\n",
    "def preprocess_text(text):\n",
    "    tokens = [word.split('_')[0] for word in nltk.word_tokenize(text.lower())]\n",
    "    words = [word for word in tokens if word.isalpha()]\n",
    "    lemmas = [wn.lemmatize(word) for word in words if word not in stop_words]\n",
    "    return \" \".join(lemmas)\n",
    "\n",
    "reducedPapers['processedText'] = reducedPapers['rawText'].apply(preprocess_text)\n",
    "\n",
    "reducedPapers.head()"
   ],
   "metadata": {
    "collapsed": false,
    "ExecuteTime": {
     "start_time": "2023-04-06T15:14:05.895465Z",
     "end_time": "2023-04-06T15:14:19.176811Z"
    }
   }
  },
  {
   "cell_type": "code",
   "execution_count": 6,
   "outputs": [
    {
     "data": {
      "text/plain": "                timePeriod                                              index   \nNaN  timePeriod      index                                            rawText  \\\n0.0  1800-01-01          1                               The_DT hon_NN ._SENT   \n1.0  1800-01-01          2  The_DT gallant_JJ general_NN who_WP commanded_...   \n2.0  1800-01-01          3  But_CC ,_, Mr._NP Pitt_NP said_VBD ,_, he_PP d...   \n3.0  1800-01-01          4  And_CC Dr._NP Hussey_NP ,_, who_WP informs_VBZ...   \n...                    ...                                                ...   \n94.0 1800-01-01        129  If_IN the_DT house_NN was_VBD not_RB to_TO be_...   \n95.0 1800-01-01        130  Having_VBG thus_RB far_RB examined_VBD the_DT ...   \n96.0 1800-01-01        131  Their_PP$ falsehood_NN would_MD be_VB detected...   \n97.0 1800-01-01        132  They_PP may_MD find_VB cause_VB unequivocally_...   \n98.0 1800-01-01        133  He_PP did_VBD not_RB see_VB any_DT reproach_NN...   \n\n                                                           rawText  \nNaN  timePeriod                                      processedText  \n0.0  1800-01-01                                                hon  \n1.0  1800-01-01  gallant general commanded well knew reinforcem...  \n2.0  1800-01-01  pitt said doubted whether would necessary inse...  \n3.0  1800-01-01  hussey informs u romish bishop waterford appoi...  \n...                                                            ...  \n94.0 1800-01-01  house composed representative people would inf...  \n95.0 1800-01-01  thus far examined nature charge let u inquire ...  \n96.0 1800-01-01  falsehood would detected would softer punishme...  \n97.0 1800-01-01  may find cause unequivocally withdraw barrier ...  \n98.0 1800-01-01  see reproach attaching result force argument f...  \n\n[100 rows x 3 columns]",
      "text/html": "<div>\n<style scoped>\n    .dataframe tbody tr th:only-of-type {\n        vertical-align: middle;\n    }\n\n    .dataframe tbody tr th {\n        vertical-align: top;\n    }\n\n    .dataframe thead th {\n        text-align: right;\n    }\n</style>\n<table border=\"1\" class=\"dataframe\">\n  <thead>\n    <tr style=\"text-align: right;\">\n      <th></th>\n      <th></th>\n      <th>timePeriod</th>\n      <th>index</th>\n      <th>rawText</th>\n    </tr>\n  </thead>\n  <tbody>\n    <tr>\n      <th>NaN</th>\n      <th>timePeriod</th>\n      <td>index</td>\n      <td>rawText</td>\n      <td>processedText</td>\n    </tr>\n    <tr>\n      <th>0.0</th>\n      <th>1800-01-01</th>\n      <td>1</td>\n      <td>The_DT hon_NN ._SENT</td>\n      <td>hon</td>\n    </tr>\n    <tr>\n      <th>1.0</th>\n      <th>1800-01-01</th>\n      <td>2</td>\n      <td>The_DT gallant_JJ general_NN who_WP commanded_...</td>\n      <td>gallant general commanded well knew reinforcem...</td>\n    </tr>\n    <tr>\n      <th>2.0</th>\n      <th>1800-01-01</th>\n      <td>3</td>\n      <td>But_CC ,_, Mr._NP Pitt_NP said_VBD ,_, he_PP d...</td>\n      <td>pitt said doubted whether would necessary inse...</td>\n    </tr>\n    <tr>\n      <th>3.0</th>\n      <th>1800-01-01</th>\n      <td>4</td>\n      <td>And_CC Dr._NP Hussey_NP ,_, who_WP informs_VBZ...</td>\n      <td>hussey informs u romish bishop waterford appoi...</td>\n    </tr>\n    <tr>\n      <th>...</th>\n      <th>...</th>\n      <td>...</td>\n      <td>...</td>\n      <td>...</td>\n    </tr>\n    <tr>\n      <th>94.0</th>\n      <th>1800-01-01</th>\n      <td>129</td>\n      <td>If_IN the_DT house_NN was_VBD not_RB to_TO be_...</td>\n      <td>house composed representative people would inf...</td>\n    </tr>\n    <tr>\n      <th>95.0</th>\n      <th>1800-01-01</th>\n      <td>130</td>\n      <td>Having_VBG thus_RB far_RB examined_VBD the_DT ...</td>\n      <td>thus far examined nature charge let u inquire ...</td>\n    </tr>\n    <tr>\n      <th>96.0</th>\n      <th>1800-01-01</th>\n      <td>131</td>\n      <td>Their_PP$ falsehood_NN would_MD be_VB detected...</td>\n      <td>falsehood would detected would softer punishme...</td>\n    </tr>\n    <tr>\n      <th>97.0</th>\n      <th>1800-01-01</th>\n      <td>132</td>\n      <td>They_PP may_MD find_VB cause_VB unequivocally_...</td>\n      <td>may find cause unequivocally withdraw barrier ...</td>\n    </tr>\n    <tr>\n      <th>98.0</th>\n      <th>1800-01-01</th>\n      <td>133</td>\n      <td>He_PP did_VBD not_RB see_VB any_DT reproach_NN...</td>\n      <td>see reproach attaching result force argument f...</td>\n    </tr>\n  </tbody>\n</table>\n<p>100 rows × 3 columns</p>\n</div>"
     },
     "execution_count": 6,
     "metadata": {},
     "output_type": "execute_result"
    }
   ],
   "source": [
    "reducedPapers.to_csv('./processedData/processedData.csv', sep=',')\n",
    "test = pd.read_csv(\n",
    "    \"./processedData/processedData.csv\",\n",
    "    sep=',',\n",
    "    names=[\"timePeriod\", \"index\", \"rawText\"]\n",
    ")\n",
    "\n",
    "test.head(100)"
   ],
   "metadata": {
    "collapsed": false,
    "ExecuteTime": {
     "start_time": "2023-04-06T15:14:53.144999Z",
     "end_time": "2023-04-06T15:14:54.028933Z"
    }
   }
  },
  {
   "cell_type": "code",
   "execution_count": null,
   "outputs": [],
   "source": [],
   "metadata": {
    "collapsed": false
   }
  }
 ],
 "metadata": {
  "kernelspec": {
   "display_name": "Python 3",
   "language": "python",
   "name": "python3"
  },
  "language_info": {
   "codemirror_mode": {
    "name": "ipython",
    "version": 2
   },
   "file_extension": ".py",
   "mimetype": "text/x-python",
   "name": "python",
   "nbconvert_exporter": "python",
   "pygments_lexer": "ipython2",
   "version": "2.7.6"
  }
 },
 "nbformat": 4,
 "nbformat_minor": 0
}
