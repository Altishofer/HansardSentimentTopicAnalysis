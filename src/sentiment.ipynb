{
 "cells": [
  {
   "cell_type": "code",
   "execution_count": 12,
   "outputs": [
    {
     "data": {
      "text/plain": "       index timePeriod                                      processedText\n76092   1475 2000-01-01                                    noble hear hear\n76093   4883 2000-01-01  thus social service department mount support c...\n76094  10000 2000-01-01     miss ann widdecombe maidstone weald want press\n76095   2645 2000-01-01  secondly fate cottage hospital faversham cotta...\n76096   5391 2000-01-01  clear account hri east mailing give reasonable...",
      "text/html": "<div>\n<style scoped>\n    .dataframe tbody tr th:only-of-type {\n        vertical-align: middle;\n    }\n\n    .dataframe tbody tr th {\n        vertical-align: top;\n    }\n\n    .dataframe thead th {\n        text-align: right;\n    }\n</style>\n<table border=\"1\" class=\"dataframe\">\n  <thead>\n    <tr style=\"text-align: right;\">\n      <th></th>\n      <th>index</th>\n      <th>timePeriod</th>\n      <th>processedText</th>\n    </tr>\n  </thead>\n  <tbody>\n    <tr>\n      <th>76092</th>\n      <td>1475</td>\n      <td>2000-01-01</td>\n      <td>noble hear hear</td>\n    </tr>\n    <tr>\n      <th>76093</th>\n      <td>4883</td>\n      <td>2000-01-01</td>\n      <td>thus social service department mount support c...</td>\n    </tr>\n    <tr>\n      <th>76094</th>\n      <td>10000</td>\n      <td>2000-01-01</td>\n      <td>miss ann widdecombe maidstone weald want press</td>\n    </tr>\n    <tr>\n      <th>76095</th>\n      <td>2645</td>\n      <td>2000-01-01</td>\n      <td>secondly fate cottage hospital faversham cotta...</td>\n    </tr>\n    <tr>\n      <th>76096</th>\n      <td>5391</td>\n      <td>2000-01-01</td>\n      <td>clear account hri east mailing give reasonable...</td>\n    </tr>\n  </tbody>\n</table>\n</div>"
     },
     "execution_count": 12,
     "metadata": {},
     "output_type": "execute_result"
    }
   ],
   "source": [
    "import pandas as pd\n",
    "\n",
    "reducedPapers = pd.read_csv(\n",
    "    \"../processedData/processedData.csv\",\n",
    "    sep=',',\n",
    "    index_col=0\n",
    ")\n",
    "\n",
    "reducedPapers.dropna(subset = ['processedText'], inplace = True, how='any')\n",
    "reducedPapers.reset_index(drop=True, inplace=True)\n",
    "reducedPapers['timePeriod'] = pd.to_datetime(reducedPapers['timePeriod'])\n",
    "reducedPapers.tail()"
   ],
   "metadata": {
    "collapsed": false,
    "ExecuteTime": {
     "start_time": "2023-04-18T12:32:58.290241Z",
     "end_time": "2023-04-18T12:32:58.616424Z"
    }
   }
  },
  {
   "cell_type": "code",
   "execution_count": 13,
   "outputs": [
    {
     "name": "stderr",
     "output_type": "stream",
     "text": [
      "[nltk_data] Downloading package vader_lexicon to\n",
      "[nltk_data]     C:\\Users\\sandr\\AppData\\Roaming\\nltk_data...\n",
      "[nltk_data]   Package vader_lexicon is already up-to-date!\n"
     ]
    }
   ],
   "source": [
    "from nltk.sentiment import SentimentIntensityAnalyzer\n",
    "import nltk\n",
    "nltk.download('vader_lexicon')\n",
    "\n",
    "analyzer = SentimentIntensityAnalyzer()\n",
    "\n",
    "royalWords = (\n",
    "\"\"\"\n",
    "    king\n",
    "    queen\n",
    "    royalty\n",
    "    majesty\n",
    "    crown\n",
    "    prince\n",
    "    princess\n",
    "    regent\n",
    "    monarch\n",
    "    highness\n",
    "\"\"\")\n",
    "royalWords = royalWords.split()\n",
    "\n",
    "def isRoyalTopic(text):\n",
    "    if len(text.split()) < 4: return 0\n",
    "    for word in text.split():\n",
    "        if word in royalWords:\n",
    "            return 1\n",
    "    return 0\n",
    "\n",
    "def isQueenTopic(text):\n",
    "    if len(text.split()) < 4: return 0\n",
    "    for word in text.split():\n",
    "        if word in \"queen\":\n",
    "            return 1\n",
    "    return 0\n",
    "\n",
    "def isKingTopic(text):\n",
    "    if len(text.split()) < 4: return 0\n",
    "    for word in text.split():\n",
    "        if word in \"king\":\n",
    "            return 1\n",
    "    return 0\n",
    "\n",
    "def get_sentiment(text):\n",
    "    scores = analyzer.polarity_scores(text)\n",
    "    #sentiment = 1 if scores['pos'] > 0 else 0\n",
    "    sentiment = scores['pos']\n",
    "    return sentiment"
   ],
   "metadata": {
    "collapsed": false,
    "ExecuteTime": {
     "start_time": "2023-04-18T12:32:58.618948Z",
     "end_time": "2023-04-18T12:32:58.776553Z"
    }
   }
  },
  {
   "cell_type": "code",
   "execution_count": 14,
   "outputs": [
    {
     "data": {
      "text/plain": "       index timePeriod                                      processedText   \n75032   6768 2000-01-01  delight queen refer role european union combat...  \\\n75415   7396 2000-01-01                         andy king rugby kenilworth   \n75492   7443 2000-01-01    hunt king heath first perhaps pay tribute noble   \n75576   4287 2000-01-01  lindsay hoyle chorley welcome foreign affair c...   \n75805   7436 2000-01-01  hunt king heath certainly recognise strength f...   \n\n       royal  queen  king  \n75032      1      1     0  \n75415      1      0     1  \n75492      1      0     1  \n75576      1      0     0  \n75805      1      0     1  ",
      "text/html": "<div>\n<style scoped>\n    .dataframe tbody tr th:only-of-type {\n        vertical-align: middle;\n    }\n\n    .dataframe tbody tr th {\n        vertical-align: top;\n    }\n\n    .dataframe thead th {\n        text-align: right;\n    }\n</style>\n<table border=\"1\" class=\"dataframe\">\n  <thead>\n    <tr style=\"text-align: right;\">\n      <th></th>\n      <th>index</th>\n      <th>timePeriod</th>\n      <th>processedText</th>\n      <th>royal</th>\n      <th>queen</th>\n      <th>king</th>\n    </tr>\n  </thead>\n  <tbody>\n    <tr>\n      <th>75032</th>\n      <td>6768</td>\n      <td>2000-01-01</td>\n      <td>delight queen refer role european union combat...</td>\n      <td>1</td>\n      <td>1</td>\n      <td>0</td>\n    </tr>\n    <tr>\n      <th>75415</th>\n      <td>7396</td>\n      <td>2000-01-01</td>\n      <td>andy king rugby kenilworth</td>\n      <td>1</td>\n      <td>0</td>\n      <td>1</td>\n    </tr>\n    <tr>\n      <th>75492</th>\n      <td>7443</td>\n      <td>2000-01-01</td>\n      <td>hunt king heath first perhaps pay tribute noble</td>\n      <td>1</td>\n      <td>0</td>\n      <td>1</td>\n    </tr>\n    <tr>\n      <th>75576</th>\n      <td>4287</td>\n      <td>2000-01-01</td>\n      <td>lindsay hoyle chorley welcome foreign affair c...</td>\n      <td>1</td>\n      <td>0</td>\n      <td>0</td>\n    </tr>\n    <tr>\n      <th>75805</th>\n      <td>7436</td>\n      <td>2000-01-01</td>\n      <td>hunt king heath certainly recognise strength f...</td>\n      <td>1</td>\n      <td>0</td>\n      <td>1</td>\n    </tr>\n  </tbody>\n</table>\n</div>"
     },
     "execution_count": 14,
     "metadata": {},
     "output_type": "execute_result"
    }
   ],
   "source": [
    "reducedPapers['royal'] = reducedPapers['processedText'].apply(isRoyalTopic)\n",
    "reducedPapers['queen'] = reducedPapers['processedText'].apply(isQueenTopic)\n",
    "reducedPapers['king'] = reducedPapers['processedText'].apply(isKingTopic)\n",
    "reducedPapers.drop(reducedPapers[reducedPapers.royal == 0].index, inplace=True)\n",
    "reducedPapers.tail()"
   ],
   "metadata": {
    "collapsed": false,
    "ExecuteTime": {
     "start_time": "2023-04-18T12:32:58.665360Z",
     "end_time": "2023-04-18T12:33:00.944114Z"
    }
   }
  },
  {
   "cell_type": "code",
   "execution_count": 15,
   "outputs": [
    {
     "data": {
      "text/plain": "       index timePeriod                                      processedText   \n75032   6768 2000-01-01  delight queen refer role european union combat...  \\\n75415   7396 2000-01-01                         andy king rugby kenilworth   \n75492   7443 2000-01-01    hunt king heath first perhaps pay tribute noble   \n75576   4287 2000-01-01  lindsay hoyle chorley welcome foreign affair c...   \n75805   7436 2000-01-01  hunt king heath certainly recognise strength f...   \n\n       royal  queen  king  sentiment  \n75032      1      1     0      0.171  \n75415      1      0     1      0.000  \n75492      1      0     1      0.288  \n75576      1      0     0      0.202  \n75805      1      0     1      0.444  ",
      "text/html": "<div>\n<style scoped>\n    .dataframe tbody tr th:only-of-type {\n        vertical-align: middle;\n    }\n\n    .dataframe tbody tr th {\n        vertical-align: top;\n    }\n\n    .dataframe thead th {\n        text-align: right;\n    }\n</style>\n<table border=\"1\" class=\"dataframe\">\n  <thead>\n    <tr style=\"text-align: right;\">\n      <th></th>\n      <th>index</th>\n      <th>timePeriod</th>\n      <th>processedText</th>\n      <th>royal</th>\n      <th>queen</th>\n      <th>king</th>\n      <th>sentiment</th>\n    </tr>\n  </thead>\n  <tbody>\n    <tr>\n      <th>75032</th>\n      <td>6768</td>\n      <td>2000-01-01</td>\n      <td>delight queen refer role european union combat...</td>\n      <td>1</td>\n      <td>1</td>\n      <td>0</td>\n      <td>0.171</td>\n    </tr>\n    <tr>\n      <th>75415</th>\n      <td>7396</td>\n      <td>2000-01-01</td>\n      <td>andy king rugby kenilworth</td>\n      <td>1</td>\n      <td>0</td>\n      <td>1</td>\n      <td>0.000</td>\n    </tr>\n    <tr>\n      <th>75492</th>\n      <td>7443</td>\n      <td>2000-01-01</td>\n      <td>hunt king heath first perhaps pay tribute noble</td>\n      <td>1</td>\n      <td>0</td>\n      <td>1</td>\n      <td>0.288</td>\n    </tr>\n    <tr>\n      <th>75576</th>\n      <td>4287</td>\n      <td>2000-01-01</td>\n      <td>lindsay hoyle chorley welcome foreign affair c...</td>\n      <td>1</td>\n      <td>0</td>\n      <td>0</td>\n      <td>0.202</td>\n    </tr>\n    <tr>\n      <th>75805</th>\n      <td>7436</td>\n      <td>2000-01-01</td>\n      <td>hunt king heath certainly recognise strength f...</td>\n      <td>1</td>\n      <td>0</td>\n      <td>1</td>\n      <td>0.444</td>\n    </tr>\n  </tbody>\n</table>\n</div>"
     },
     "execution_count": 15,
     "metadata": {},
     "output_type": "execute_result"
    }
   ],
   "source": [
    "reducedPapers['sentiment'] = reducedPapers['processedText'].apply(get_sentiment)\n",
    "reducedPapers.tail()"
   ],
   "metadata": {
    "collapsed": false,
    "ExecuteTime": {
     "start_time": "2023-04-18T12:33:00.949645Z",
     "end_time": "2023-04-18T12:33:05.292040Z"
    }
   }
  },
  {
   "cell_type": "code",
   "execution_count": 16,
   "outputs": [],
   "source": [
    "reducedPapers.to_csv('../processedData/sentimentData.csv', sep=',', columns=[ 'index','timePeriod', 'sentiment'])"
   ],
   "metadata": {
    "collapsed": false,
    "ExecuteTime": {
     "start_time": "2023-04-18T12:33:05.299625Z",
     "end_time": "2023-04-18T12:33:05.365675Z"
    }
   }
  },
  {
   "cell_type": "code",
   "execution_count": 17,
   "outputs": [
    {
     "data": {
      "text/plain": "<Figure size 1000x500 with 1 Axes>",
      "image/png": "[encoded data removed]"
     },
     "metadata": {},
     "output_type": "display_data"
    }
   ],
   "source": [
    "import matplotlib.pyplot as plt\n",
    "\n",
    "reducedPapers.set_index('index', inplace=True)\n",
    "\n",
    "reducedPapers_sentiment_1 = reducedPapers[reducedPapers['sentiment'] > 0.5]\n",
    "reducedPapers_sentiment_0 = reducedPapers[reducedPapers['sentiment'] < 0.5]\n",
    "\n",
    "count_by_time_1 = reducedPapers_sentiment_1.groupby('timePeriod').count()\n",
    "count_by_time_0 = reducedPapers_sentiment_0.groupby('timePeriod').count()\n",
    "\n",
    "fig, ax = plt.subplots(figsize=(10, 5))\n",
    "ax.plot(count_by_time_1.index, count_by_time_1['sentiment'], label='Sentiment happy')\n",
    "ax.plot(count_by_time_0.index, count_by_time_0['sentiment'], label='Sentiment bad')\n",
    "ax.set_xlabel('Time Period')\n",
    "ax.set_ylabel('Count')\n",
    "ax.legend()\n",
    "plt.show()\n"
   ],
   "metadata": {
    "collapsed": false,
    "ExecuteTime": {
     "start_time": "2023-04-18T12:33:05.329980Z",
     "end_time": "2023-04-18T12:33:05.819654Z"
    }
   }
  },
  {
   "cell_type": "code",
   "execution_count": 18,
   "outputs": [
    {
     "ename": "KeyError",
     "evalue": "\"None of ['index'] are in the columns\"",
     "output_type": "error",
     "traceback": [
      "\u001B[1;31m---------------------------------------------------------------------------\u001B[0m",
      "\u001B[1;31mKeyError\u001B[0m                                  Traceback (most recent call last)",
      "Cell \u001B[1;32mIn[18], line 3\u001B[0m\n\u001B[0;32m      1\u001B[0m \u001B[38;5;28;01mimport\u001B[39;00m \u001B[38;5;21;01mmatplotlib\u001B[39;00m\u001B[38;5;21;01m.\u001B[39;00m\u001B[38;5;21;01mpyplot\u001B[39;00m \u001B[38;5;28;01mas\u001B[39;00m \u001B[38;5;21;01mplt\u001B[39;00m\n\u001B[1;32m----> 3\u001B[0m \u001B[43mreducedPapers\u001B[49m\u001B[38;5;241;43m.\u001B[39;49m\u001B[43mset_index\u001B[49m\u001B[43m(\u001B[49m\u001B[38;5;124;43m'\u001B[39;49m\u001B[38;5;124;43mindex\u001B[39;49m\u001B[38;5;124;43m'\u001B[39;49m\u001B[43m,\u001B[49m\u001B[43m \u001B[49m\u001B[43minplace\u001B[49m\u001B[38;5;241;43m=\u001B[39;49m\u001B[38;5;28;43;01mTrue\u001B[39;49;00m\u001B[43m)\u001B[49m\n\u001B[0;32m      5\u001B[0m reducedPapers_sentiment_1 \u001B[38;5;241m=\u001B[39m reducedPapers[reducedPapers[\u001B[38;5;124m'\u001B[39m\u001B[38;5;124msentiment\u001B[39m\u001B[38;5;124m'\u001B[39m] \u001B[38;5;241m>\u001B[39m \u001B[38;5;241m0.5\u001B[39m]\n\u001B[0;32m      6\u001B[0m reducedPapers_sentiment_0 \u001B[38;5;241m=\u001B[39m reducedPapers[reducedPapers[\u001B[38;5;124m'\u001B[39m\u001B[38;5;124msentiment\u001B[39m\u001B[38;5;124m'\u001B[39m] \u001B[38;5;241m<\u001B[39m \u001B[38;5;241m0.5\u001B[39m]\n",
      "File \u001B[1;32m~\\UnTrackedFolder\\textAnalytics\\venv\\lib\\site-packages\\pandas\\core\\frame.py:5867\u001B[0m, in \u001B[0;36mDataFrame.set_index\u001B[1;34m(self, keys, drop, append, inplace, verify_integrity)\u001B[0m\n\u001B[0;32m   5864\u001B[0m                 missing\u001B[38;5;241m.\u001B[39mappend(col)\n\u001B[0;32m   5866\u001B[0m \u001B[38;5;28;01mif\u001B[39;00m missing:\n\u001B[1;32m-> 5867\u001B[0m     \u001B[38;5;28;01mraise\u001B[39;00m \u001B[38;5;167;01mKeyError\u001B[39;00m(\u001B[38;5;124mf\u001B[39m\u001B[38;5;124m\"\u001B[39m\u001B[38;5;124mNone of \u001B[39m\u001B[38;5;132;01m{\u001B[39;00mmissing\u001B[38;5;132;01m}\u001B[39;00m\u001B[38;5;124m are in the columns\u001B[39m\u001B[38;5;124m\"\u001B[39m)\n\u001B[0;32m   5869\u001B[0m \u001B[38;5;28;01mif\u001B[39;00m inplace:\n\u001B[0;32m   5870\u001B[0m     frame \u001B[38;5;241m=\u001B[39m \u001B[38;5;28mself\u001B[39m\n",
      "\u001B[1;31mKeyError\u001B[0m: \"None of ['index'] are in the columns\""
     ]
    }
   ],
   "source": [
    "import matplotlib.pyplot as plt\n",
    "\n",
    "reducedPapers.set_index('index', inplace=True)\n",
    "\n",
    "reducedPapers_sentiment_1 = reducedPapers[reducedPapers['sentiment'] > 0.5]\n",
    "reducedPapers_sentiment_0 = reducedPapers[reducedPapers['sentiment'] < 0.5]\n",
    "\n",
    "count_by_time_1 = reducedPapers_sentiment_1.groupby('timePeriod').count()\n",
    "count_by_time_0 = reducedPapers_sentiment_0.groupby('timePeriod').count()\n",
    "\n",
    "fig, ax = plt.subplots(figsize=(10, 5))\n",
    "ax.plot(count_by_time_1.index, count_by_time_1['sentiment'], label='Sentiment happy')\n",
    "ax.plot(count_by_time_0.index, count_by_time_0['sentiment'], label='Sentiment bad')\n",
    "ax.set_xlabel('Time Period')\n",
    "ax.set_ylabel('Count')\n",
    "ax.legend()\n",
    "plt.show()\n"
   ],
   "metadata": {
    "collapsed": false,
    "ExecuteTime": {
     "start_time": "2023-04-18T12:29:13.012461Z",
     "end_time": "2023-04-18T12:29:15.247716Z"
    }
   }
  },
  {
   "cell_type": "code",
   "execution_count": null,
   "outputs": [],
   "source": [
    "reducedPapers.tail()"
   ],
   "metadata": {
    "collapsed": false,
    "ExecuteTime": {
     "start_time": "2023-04-18T12:29:14.714907Z",
     "end_time": "2023-04-18T12:29:15.265049Z"
    }
   }
  },
  {
   "cell_type": "code",
   "execution_count": null,
   "outputs": [],
   "source": [
    "import matplotlib.pyplot as plt\n",
    "\n",
    "# convert timePeriod column to datetime format\n",
    "reducedPapers['timePeriod'] = pd.to_datetime(reducedPapers['timePeriod'])\n",
    "\n",
    "# set id as index\n",
    "#reducedPapers.set_index('index', inplace=True)\n",
    "\n",
    "# filter rows where sentiment is 1 or 0\n",
    "reducedPapers_sentiment_1 = reducedPapers[reducedPapers['sentiment'] < 0.5]\n",
    "reducedPapers_sentiment_0 = reducedPapers[reducedPapers['sentiment'] > 0.5]\n",
    "\n",
    "# group by timePeriod and count the number of rows\n",
    "count_by_time_1 = reducedPapers_sentiment_1.groupby('timePeriod').count()\n",
    "count_by_time_0 = reducedPapers_sentiment_0.groupby('timePeriod').count()\n",
    "\n",
    "# calculate the relative count of sentiment 1 to sentiment 0\n",
    "relative_count = count_by_time_1['sentiment'] / count_by_time_0['sentiment']\n",
    "\n",
    "# plot the time series\n",
    "_, ax = plt.subplots(figsize=(10, 5))\n",
    "ax.plot(relative_count.index, relative_count, label='Sentiment 1 / Sentiment 0')\n",
    "ax.set_xlabel('Time Period')\n",
    "ax.set_ylabel('Relative Count')\n",
    "ax.legend()\n",
    "plt.show()"
   ],
   "metadata": {
    "collapsed": false,
    "ExecuteTime": {
     "start_time": "2023-04-18T12:29:14.758072Z",
     "end_time": "2023-04-18T12:29:16.583751Z"
    }
   }
  },
  {
   "cell_type": "code",
   "execution_count": null,
   "outputs": [],
   "source": [
    "\n",
    "# convert timePeriod column to datetime format\n",
    "reducedPapers['timePeriod'] = pd.to_datetime(reducedPapers['timePeriod'])\n",
    "\n",
    "# group by timePeriod and calculate the average sentiment for all values\n",
    "avg_sentiment_by_time = reducedPapers.groupby('timePeriod')['sentiment'].mean()\n",
    "\n",
    "# calculate the average sentiment for values smaller than 0 and larger than 0 separately\n",
    "avg_sentiment_positive = reducedPapers[reducedPapers['sentiment'] > 0.5]['sentiment'].mean()\n",
    "avg_sentiment_negative = reducedPapers[reducedPapers['sentiment'] < 0.5]['sentiment'].mean()\n",
    "\n",
    "# calculate the relative values between the two averages\n",
    "relative_values = avg_sentiment_positive / abs(avg_sentiment_negative)\n",
    "\n",
    "# plot the time series\n",
    "_, ax = plt.subplots(figsize=(10, 5))\n",
    "ax.plot(avg_sentiment_by_time.index, relative_values * avg_sentiment_by_time, label='Relative Average Sentiment')\n",
    "ax.set_xlabel('Time Period')\n",
    "ax.set_ylabel('Relative Average Sentiment')\n",
    "ax.legend()\n",
    "plt.show()"
   ],
   "metadata": {
    "collapsed": false,
    "ExecuteTime": {
     "start_time": "2023-04-18T12:29:15.257954Z",
     "end_time": "2023-04-18T12:29:17.338533Z"
    }
   }
  },
  {
   "cell_type": "code",
   "execution_count": null,
   "outputs": [],
   "source": [],
   "metadata": {
    "collapsed": false,
    "ExecuteTime": {
     "start_time": "2023-04-18T12:29:15.889269Z",
     "end_time": "2023-04-18T12:29:17.339531Z"
    }
   }
  }
 ],
 "metadata": {
  "kernelspec": {
   "display_name": "Python 3",
   "language": "python",
   "name": "python3"
  },
  "language_info": {
   "codemirror_mode": {
    "name": "ipython",
    "version": 2
   },
   "file_extension": ".py",
   "mimetype": "text/x-python",
   "name": "python",
   "nbconvert_exporter": "python",
   "pygments_lexer": "ipython2",
   "version": "2.7.6"
  }
 },
 "nbformat": 4,
 "nbformat_minor": 0
}
