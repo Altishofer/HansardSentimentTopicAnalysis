{
 "cells": [
  {
   "cell_type": "markdown",
   "id": "9cc0941f",
   "metadata": {},
   "source": [
    "# TOPIC MODEELING"
   ]
  },
  {
   "cell_type": "markdown",
   "id": "56b4b9aa",
   "metadata": {},
   "source": [
    "#### References: authors of the Script (C) Elisa Michelet, and Germans Savcisens (C).\n",
    "Url containing script: https://github.com/arobaselisa/industrial-west, https://github.com/carlomarxdk/topic_modelling"
   ]
  },
  {
   "cell_type": "markdown",
   "id": "45b1a59e",
   "metadata": {},
   "source": [
    "# 1. Import the data"
   ]
  },
  {
   "cell_type": "code",
   "execution_count": 11,
   "id": "21743101",
   "metadata": {
    "ExecuteTime": {
     "start_time": "2023-04-24T20:45:29.419096Z",
     "end_time": "2023-04-24T20:45:29.434759Z"
    }
   },
   "outputs": [],
   "source": [
    "import tomotopy as tp\n",
    "import pandas as pd\n",
    "import time\n",
    "import numpy as np\n",
    "import matplotlib.pyplot as plt\n",
    "import seaborn as sns\n",
    "from random import randrange\n",
    "import spacy\n",
    "import unidecode\n",
    "import helpers\n",
    "import nltk"
   ]
  },
  {
   "cell_type": "code",
   "execution_count": 12,
   "id": "e14781fd",
   "metadata": {
    "ExecuteTime": {
     "start_time": "2023-04-24T20:45:29.434759Z",
     "end_time": "2023-04-24T20:45:36.691195Z"
    }
   },
   "outputs": [
    {
     "name": "stdout",
     "output_type": "stream",
     "text": [
      "Requirement already satisfied: unidecode in c:\\users\\sandr\\untrackedfolder\\textanalytics\\venv\\lib\\site-packages (1.3.6)\n",
      "Note: you may need to restart the kernel to use updated packages.\n"
     ]
    },
    {
     "name": "stderr",
     "output_type": "stream",
     "text": [
      "\n",
      "[notice] A new release of pip is available: 23.0.1 -> 23.1.1\n",
      "[notice] To update, run: python.exe -m pip install --upgrade pip\n"
     ]
    }
   ],
   "source": [
    "pip install unidecode"
   ]
  },
  {
   "cell_type": "markdown",
   "id": "556dcf00",
   "metadata": {},
   "source": [
    "The data should be a csv file containing the following columns :\n",
    "- \"publication_date\" : date of the journal, YYYY-MM-DD\n",
    "- \"content\" : the text in the journal"
   ]
  },
  {
   "cell_type": "code",
   "execution_count": 13,
   "id": "84fceb3e",
   "metadata": {
    "ExecuteTime": {
     "start_time": "2023-04-24T20:45:36.691195Z",
     "end_time": "2023-04-24T20:45:36.769339Z"
    }
   },
   "outputs": [
    {
     "name": "stdout",
     "output_type": "stream",
     "text": [
      "<class 'pandas.core.frame.DataFrame'>\n",
      "RangeIndex: 15198 entries, 0 to 15197\n",
      "Data columns (total 3 columns):\n",
      " #   Column         Non-Null Count  Dtype \n",
      "---  ------         --------------  ----- \n",
      " 0   index          15198 non-null  int64 \n",
      " 1   timePeriod     15198 non-null  object\n",
      " 2   processedText  15198 non-null  object\n",
      "dtypes: int64(1), object(2)\n",
      "memory usage: 356.3+ KB\n"
     ]
    }
   ],
   "source": [
    "import pandas as pd\n",
    "\n",
    "DATA = pd.read_csv(\n",
    "    \"../processedData/processedData.csv\",\n",
    "    sep=',',\n",
    "    index_col=0\n",
    ")\n",
    "DATA.dropna(subset = ['processedText'], inplace = True, how='any')\n",
    "DATA.reset_index(drop=True, inplace=True)\n",
    "DATA.tail()\n",
    "DATA.info()\n",
    "KW = \"electric light\" # without accent\n",
    "JOURNAL = \"The New York Herald\"\n",
    "START_DATE = pd.to_datetime(\"1870-01-01\") ## Articles on this date WILL be included\n",
    "END_DATE = pd.to_datetime(\"1881-01-01\") ## Articles on this date WON't be included \n",
    "SPACY_LANGUAGE = \"en_core_web_sm\" ## To change according to the corpus, french : fr_core_news_sm\n",
    "COUNTRY = \"US\"\n",
    "LANG = \"en\""
   ]
  },
  {
   "cell_type": "code",
   "execution_count": 14,
   "id": "6ed33f40",
   "metadata": {
    "ExecuteTime": {
     "start_time": "2023-04-24T20:45:36.769339Z",
     "end_time": "2023-04-24T20:45:36.831797Z"
    }
   },
   "outputs": [
    {
     "data": {
      "text/plain": "       index  timePeriod                                      processedText\n0       6909  1800-01-01  wale reformation completely establish inhabita...\n1       8466  1800-01-01                negro indifferent spectator process\n2       4943  1800-01-01  noble talk thus recollect men many take mean s...\n3       2054  1800-01-01  party give preference side yet result preferen...\n4       5727  1800-01-01  gravely tell examination conduct person nation...\n...      ...         ...                                                ...\n15193   7692  2000-01-01  see qualitative difference code extradition ac...\n15194   9008  2000-01-01  many noble mention blocking lack care home cau...\n15195   2769  2000-01-01  select committee note large proportion politic...\n15196   3990  2000-01-01  raise issue profound importance evolve constit...\n15197    852  2000-01-01                               however devil detail\n\n[15198 rows x 3 columns]",
      "text/html": "<div>\n<style scoped>\n    .dataframe tbody tr th:only-of-type {\n        vertical-align: middle;\n    }\n\n    .dataframe tbody tr th {\n        vertical-align: top;\n    }\n\n    .dataframe thead th {\n        text-align: right;\n    }\n</style>\n<table border=\"1\" class=\"dataframe\">\n  <thead>\n    <tr style=\"text-align: right;\">\n      <th></th>\n      <th>index</th>\n      <th>timePeriod</th>\n      <th>processedText</th>\n    </tr>\n  </thead>\n  <tbody>\n    <tr>\n      <th>0</th>\n      <td>6909</td>\n      <td>1800-01-01</td>\n      <td>wale reformation completely establish inhabita...</td>\n    </tr>\n    <tr>\n      <th>1</th>\n      <td>8466</td>\n      <td>1800-01-01</td>\n      <td>negro indifferent spectator process</td>\n    </tr>\n    <tr>\n      <th>2</th>\n      <td>4943</td>\n      <td>1800-01-01</td>\n      <td>noble talk thus recollect men many take mean s...</td>\n    </tr>\n    <tr>\n      <th>3</th>\n      <td>2054</td>\n      <td>1800-01-01</td>\n      <td>party give preference side yet result preferen...</td>\n    </tr>\n    <tr>\n      <th>4</th>\n      <td>5727</td>\n      <td>1800-01-01</td>\n      <td>gravely tell examination conduct person nation...</td>\n    </tr>\n    <tr>\n      <th>...</th>\n      <td>...</td>\n      <td>...</td>\n      <td>...</td>\n    </tr>\n    <tr>\n      <th>15193</th>\n      <td>7692</td>\n      <td>2000-01-01</td>\n      <td>see qualitative difference code extradition ac...</td>\n    </tr>\n    <tr>\n      <th>15194</th>\n      <td>9008</td>\n      <td>2000-01-01</td>\n      <td>many noble mention blocking lack care home cau...</td>\n    </tr>\n    <tr>\n      <th>15195</th>\n      <td>2769</td>\n      <td>2000-01-01</td>\n      <td>select committee note large proportion politic...</td>\n    </tr>\n    <tr>\n      <th>15196</th>\n      <td>3990</td>\n      <td>2000-01-01</td>\n      <td>raise issue profound importance evolve constit...</td>\n    </tr>\n    <tr>\n      <th>15197</th>\n      <td>852</td>\n      <td>2000-01-01</td>\n      <td>however devil detail</td>\n    </tr>\n  </tbody>\n</table>\n<p>15198 rows × 3 columns</p>\n</div>"
     },
     "execution_count": 14,
     "metadata": {},
     "output_type": "execute_result"
    }
   ],
   "source": [
    "data = DATA\n",
    "data"
   ]
  },
  {
   "cell_type": "code",
   "execution_count": 15,
   "id": "7b669f44",
   "metadata": {
    "ExecuteTime": {
     "start_time": "2023-04-24T20:45:36.800551Z",
     "end_time": "2023-04-24T20:45:36.847454Z"
    }
   },
   "outputs": [],
   "source": [
    "#data = pd.read_csv(DATA, index_col=\"Unnamed: 0\") \n",
    "#data = pd.read_csv(DATA_PATH, index_col=\"id\") # german ones"
   ]
  },
  {
   "cell_type": "markdown",
   "id": "fe35ca13",
   "metadata": {},
   "source": [
    "# 2. Data Processing"
   ]
  },
  {
   "cell_type": "code",
   "execution_count": 16,
   "id": "b81a5c5b",
   "metadata": {
    "ExecuteTime": {
     "start_time": "2023-04-24T20:45:36.831797Z",
     "end_time": "2023-04-24T20:45:36.847454Z"
    }
   },
   "outputs": [],
   "source": [
    "data[\"timePeriod\"] = pd.to_datetime(data[\"timePeriod\"]) #add format='%Y' for italian ones"
   ]
  },
  {
   "cell_type": "code",
   "execution_count": 17,
   "id": "00771936",
   "metadata": {
    "scrolled": true,
    "ExecuteTime": {
     "start_time": "2023-04-24T20:45:36.847454Z",
     "end_time": "2023-04-24T20:45:37.846072Z"
    }
   },
   "outputs": [
    {
     "data": {
      "text/plain": "<Axes: xlabel='timePeriod'>"
     },
     "execution_count": 17,
     "metadata": {},
     "output_type": "execute_result"
    },
    {
     "data": {
      "text/plain": "<Figure size 2000x300 with 1 Axes>",
      "image/png": "[encoded data removed]"
     },
     "metadata": {},
     "output_type": "display_data"
    }
   ],
   "source": [
    "data.groupby(data[\"timePeriod\"].dt.year).count().plot(kind=\"bar\", figsize=(20, 3))"
   ]
  },
  {
   "cell_type": "code",
   "execution_count": 18,
   "id": "7b355e41",
   "metadata": {
    "scrolled": true,
    "ExecuteTime": {
     "start_time": "2023-04-24T20:45:37.846072Z",
     "end_time": "2023-04-24T20:45:37.861705Z"
    }
   },
   "outputs": [],
   "source": [
    "#data_filtered = helpers.load_preprocess_df(DATA, START_DATE, END_DATE, [KW], JOURNAL)\n",
    "#data_filtered.head(3)"
   ]
  },
  {
   "cell_type": "code",
   "execution_count": 19,
   "id": "be0b14ff",
   "metadata": {
    "scrolled": false,
    "ExecuteTime": {
     "start_time": "2023-04-24T20:45:37.861705Z",
     "end_time": "2023-04-24T20:45:38.017953Z"
    }
   },
   "outputs": [
    {
     "name": "stdout",
     "output_type": "stream",
     "text": [
      "Lenght of FILTERED dataset: 15198\n",
      "<class 'pandas.core.frame.DataFrame'>\n",
      "RangeIndex: 15198 entries, 0 to 15197\n",
      "Data columns (total 3 columns):\n",
      " #   Column         Non-Null Count  Dtype         \n",
      "---  ------         --------------  -----         \n",
      " 0   index          15198 non-null  int64         \n",
      " 1   timePeriod     15198 non-null  datetime64[ns]\n",
      " 2   processedText  15198 non-null  object        \n",
      "dtypes: datetime64[ns](1), int64(1), object(1)\n",
      "memory usage: 356.3+ KB\n"
     ]
    }
   ],
   "source": [
    "print(\"Lenght of FILTERED dataset:\", len(data))\n",
    "data.info()"
   ]
  },
  {
   "cell_type": "markdown",
   "id": "f761bdf4",
   "metadata": {},
   "source": [
    "# 3. Topic Modelling"
   ]
  },
  {
   "cell_type": "code",
   "execution_count": 21,
   "id": "4ec839fd",
   "metadata": {
    "ExecuteTime": {
     "start_time": "2023-04-24T20:47:21.533693Z",
     "end_time": "2023-04-24T20:48:18.897692Z"
    }
   },
   "outputs": [
    {
     "name": "stdout",
     "output_type": "stream",
     "text": [
      "Create corpus for tp model...\n",
      "Runtime: 0.01 seconds || Completed: 1 of 15198\n",
      "Runtime: 2.16 seconds || Completed: 501 of 15198\n",
      "Runtime: 4.59 seconds || Completed: 1001 of 15198\n",
      "Runtime: 6.52 seconds || Completed: 1501 of 15198\n",
      "Runtime: 8.33 seconds || Completed: 2001 of 15198\n",
      "Runtime: 10.22 seconds || Completed: 2501 of 15198\n",
      "Runtime: 12.04 seconds || Completed: 3001 of 15198\n",
      "Runtime: 13.78 seconds || Completed: 3501 of 15198\n",
      "Runtime: 15.59 seconds || Completed: 4001 of 15198\n",
      "Runtime: 17.38 seconds || Completed: 4501 of 15198\n",
      "Runtime: 19.24 seconds || Completed: 5001 of 15198\n",
      "Runtime: 21.20 seconds || Completed: 5501 of 15198\n",
      "Runtime: 22.97 seconds || Completed: 6001 of 15198\n",
      "Runtime: 24.85 seconds || Completed: 6501 of 15198\n",
      "Runtime: 27.07 seconds || Completed: 7001 of 15198\n",
      "Runtime: 30.10 seconds || Completed: 7501 of 15198\n",
      "Runtime: 32.05 seconds || Completed: 8001 of 15198\n",
      "Runtime: 33.65 seconds || Completed: 8501 of 15198\n",
      "Runtime: 35.22 seconds || Completed: 9001 of 15198\n",
      "Runtime: 36.95 seconds || Completed: 9501 of 15198\n",
      "Runtime: 38.52 seconds || Completed: 10001 of 15198\n",
      "Runtime: 40.06 seconds || Completed: 10501 of 15198\n",
      "Runtime: 41.61 seconds || Completed: 11001 of 15198\n",
      "Runtime: 43.21 seconds || Completed: 11501 of 15198\n",
      "Runtime: 44.59 seconds || Completed: 12001 of 15198\n",
      "Runtime: 46.40 seconds || Completed: 12501 of 15198\n",
      "Runtime: 48.23 seconds || Completed: 13001 of 15198\n",
      "Runtime: 49.86 seconds || Completed: 13501 of 15198\n",
      "Runtime: 51.45 seconds || Completed: 14001 of 15198\n",
      "Runtime: 53.09 seconds || Completed: 14501 of 15198\n",
      "Runtime: 55.22 seconds || Completed: 15001 of 15198\n",
      "Done !\n"
     ]
    }
   ],
   "source": [
    "import pickle\n",
    "\n",
    "data.rename(columns={'processedText': 'content'}, inplace=True)\n",
    "_, corpus = helpers.create_corpus(data, SPACY_LANGUAGE) #.sample(5000)\n",
    "\n",
    "with open(\"../processedData/corpus.pkl\", 'wb') as f:\n",
    "    pickle.dump(corpus, f)"
   ]
  },
  {
   "cell_type": "code",
   "execution_count": 23,
   "outputs": [],
   "source": [
    "import pickle\n",
    "\n",
    "with open('../processedData/corpus.pkl', 'rb') as f:\n",
    "    corpus = pickle.load(f)"
   ],
   "metadata": {
    "collapsed": false,
    "ExecuteTime": {
     "start_time": "2023-04-24T20:48:44.749834Z",
     "end_time": "2023-04-24T20:48:45.194217Z"
    }
   }
  },
  {
   "cell_type": "code",
   "execution_count": null,
   "outputs": [],
   "source": [],
   "metadata": {
    "collapsed": false
   }
  },
  {
   "cell_type": "code",
   "execution_count": 24,
   "id": "685f7800",
   "metadata": {
    "scrolled": true,
    "ExecuteTime": {
     "start_time": "2023-04-24T20:48:49.858301Z",
     "end_time": "2023-04-24T21:41:12.106136Z"
    }
   },
   "outputs": [
    {
     "name": "stdout",
     "output_type": "stream",
     "text": [
      "Runtime: 12.96 seconds || Number of Searches: 1 out of  47\n",
      "Runtime: 33.05 seconds || Number of Searches: 2 out of  47\n",
      "Runtime: 51.69 seconds || Number of Searches: 3 out of  47\n",
      "Runtime: 75.69 seconds || Number of Searches: 4 out of  47\n",
      "Runtime: 103.19 seconds || Number of Searches: 5 out of  47\n",
      "Runtime: 133.06 seconds || Number of Searches: 6 out of  47\n",
      "Runtime: 163.86 seconds || Number of Searches: 7 out of  47\n",
      "Runtime: 192.99 seconds || Number of Searches: 8 out of  47\n",
      "Runtime: 227.40 seconds || Number of Searches: 9 out of  47\n",
      "Runtime: 271.66 seconds || Number of Searches: 10 out of  47\n",
      "Runtime: 318.82 seconds || Number of Searches: 11 out of  47\n",
      "Runtime: 366.47 seconds || Number of Searches: 12 out of  47\n",
      "Runtime: 422.17 seconds || Number of Searches: 13 out of  47\n",
      "Runtime: 481.22 seconds || Number of Searches: 14 out of  47\n",
      "Runtime: 531.81 seconds || Number of Searches: 15 out of  47\n",
      "Runtime: 576.73 seconds || Number of Searches: 16 out of  47\n",
      "Runtime: 643.83 seconds || Number of Searches: 17 out of  47\n",
      "Runtime: 715.88 seconds || Number of Searches: 18 out of  47\n",
      "Runtime: 787.47 seconds || Number of Searches: 19 out of  47\n",
      "Runtime: 845.69 seconds || Number of Searches: 20 out of  47\n",
      "Runtime: 913.24 seconds || Number of Searches: 21 out of  47\n",
      "Runtime: 984.99 seconds || Number of Searches: 22 out of  47\n",
      "Runtime: 1106.31 seconds || Number of Searches: 23 out of  47\n",
      "Runtime: 1199.46 seconds || Number of Searches: 24 out of  47\n",
      "Runtime: 1244.97 seconds || Number of Searches: 25 out of  47\n",
      "Runtime: 1279.94 seconds || Number of Searches: 26 out of  47\n",
      "Runtime: 1314.52 seconds || Number of Searches: 27 out of  47\n",
      "Runtime: 1355.11 seconds || Number of Searches: 28 out of  47\n",
      "Runtime: 1396.19 seconds || Number of Searches: 29 out of  47\n",
      "Runtime: 1440.82 seconds || Number of Searches: 30 out of  47\n",
      "Runtime: 1482.22 seconds || Number of Searches: 31 out of  47\n",
      "Runtime: 1536.57 seconds || Number of Searches: 32 out of  47\n",
      "Runtime: 1623.70 seconds || Number of Searches: 33 out of  47\n",
      "Runtime: 1722.01 seconds || Number of Searches: 34 out of  47\n",
      "Runtime: 1797.56 seconds || Number of Searches: 35 out of  47\n",
      "Runtime: 1886.97 seconds || Number of Searches: 36 out of  47\n",
      "Runtime: 1959.13 seconds || Number of Searches: 37 out of  47\n",
      "Runtime: 2040.75 seconds || Number of Searches: 38 out of  47\n",
      "Runtime: 2161.25 seconds || Number of Searches: 39 out of  47\n",
      "Runtime: 2247.49 seconds || Number of Searches: 40 out of  47\n",
      "Runtime: 2347.40 seconds || Number of Searches: 41 out of  47\n",
      "Runtime: 2485.13 seconds || Number of Searches: 42 out of  47\n",
      "Runtime: 2577.61 seconds || Number of Searches: 43 out of  47\n",
      "Runtime: 2695.74 seconds || Number of Searches: 44 out of  47\n",
      "Runtime: 2835.72 seconds || Number of Searches: 45 out of  47\n",
      "Runtime: 2982.95 seconds || Number of Searches: 46 out of  47\n",
      "Runtime: 3142.20 seconds || Number of Searches: 47 out of  47\n"
     ]
    }
   ],
   "source": [
    "############################################\n",
    "###### You should change only this\n",
    "k1_max = 3 ###(min 1) if k1_max - 1 == best k1\n",
    "k2_max = 25\n",
    "### k2 should always be higher than k1 (min 1)\n",
    "####################\n",
    "params = []\n",
    "scores = []\n",
    "num_iter = 0\n",
    "max_iter = 0\n",
    "for k1 in range(1, k1_max):\n",
    "    for k2 in range(k1,k2_max):\n",
    "        max_iter +=1\n",
    "        \n",
    "start = time.time()\n",
    "for k1 in range(1, k1_max):\n",
    "    for k2 in range(k1,k2_max):\n",
    "        num_iter+=1\n",
    "        model = tp.PAModel(tw=tp.TermWeight.IDF, min_df=10, rm_top=10, k1=k1, k2=k2, corpus=corpus, seed=0)\n",
    "        model.train(500, workers=1)\n",
    "        score = tp.coherence.Coherence(model, coherence=\"c_v\").get_score() #try with 'u_mass' instead of 'c_v' \n",
    "        params.append((k1,k2))\n",
    "        scores.append(score)\n",
    "        print(\"Runtime: %.2f seconds\" %(time.time() - start), \"|| Number of Searches: %s out of  %s\" %(num_iter, max_iter))"
   ]
  },
  {
   "cell_type": "code",
   "execution_count": 25,
   "id": "5e8389c1",
   "metadata": {
    "scrolled": false,
    "ExecuteTime": {
     "start_time": "2023-04-24T22:01:44.932136Z",
     "end_time": "2023-04-24T22:01:50.054605Z"
    }
   },
   "outputs": [
    {
     "name": "stdout",
     "output_type": "stream",
     "text": [
      "(BEST MODEL) k1=2 k2=11 coherence=0.55\n"
     ]
    },
    {
     "data": {
      "text/plain": "<Figure size 640x480 with 2 Axes>",
      "image/png": "[encoded data removed]"
     },
     "metadata": {},
     "output_type": "display_data"
    }
   ],
   "source": [
    "best_params = np.argmax(scores)\n",
    "print(\"(BEST MODEL) k1=%s k2=%s coherence=%.2f\"  %(params[best_params][0], params[best_params][1],  scores[best_params]))\n",
    "\n",
    "data = pd.DataFrame(data={'k1':list(zip(*params))[0], 'k2':list(zip(*params))[1], 'score':scores})\n",
    "data = data.pivot(index='k1', columns='k2', values='score')\n",
    "sns.heatmap(data)\n",
    "plt.show()"
   ]
  },
  {
   "cell_type": "markdown",
   "id": "bb9cf03c",
   "metadata": {},
   "source": [
    "**1. Choose the best parameters**"
   ]
  },
  {
   "cell_type": "code",
   "execution_count": 26,
   "id": "ea2a3635",
   "metadata": {
    "ExecuteTime": {
     "start_time": "2023-04-24T22:15:06.924563Z",
     "end_time": "2023-04-24T22:17:35.769599Z"
    }
   },
   "outputs": [],
   "source": [
    "#################################################\n",
    "### Set the best model\n",
    "best_k1 = params[best_params][0] \n",
    "best_k2 = params[best_params][1]\n",
    "model = tp.PAModel(tw=tp.TermWeight.IDF, min_cf=5, k1=best_k1, k2=best_k2, corpus=corpus, seed=0)\n",
    "model.burn_in=100\n",
    "model.train(1000, workers=1)"
   ]
  },
  {
   "cell_type": "markdown",
   "id": "df0e87cb",
   "metadata": {},
   "source": [
    "**2. Print all the topics**"
   ]
  },
  {
   "cell_type": "code",
   "execution_count": null,
   "id": "6f9b68a3",
   "metadata": {
    "scrolled": false
   },
   "outputs": [],
   "source": [
    "#############################################\n",
    "#### Topics gonna be here \n",
    "for k in range(best_k2):\n",
    "    print('Topic #{}'.format(k))\n",
    "    print(\"\\t\", [w for w, _ in model.get_topic_words(k)])\n"
   ]
  },
  {
   "cell_type": "code",
   "execution_count": null,
   "outputs": [],
   "source": [
    "import matplotlib.pyplot as plt\n",
    "\n",
    "fig, ax = plt.subplots(figsize=(10, 6))\n",
    "\n",
    "for k in range(model.k):\n",
    "    ts = model.get_topic_time_series(k)\n",
    "    ax.plot(ts, label=f\"Topic {k}\")\n",
    "\n",
    "ax.set_xlabel(\"Time\")\n",
    "ax.set_ylabel(\"Frequency\")\n",
    "ax.legend()\n",
    "\n",
    "plt.show()\n"
   ],
   "metadata": {
    "collapsed": false
   }
  }
 ],
 "metadata": {
  "kernelspec": {
   "display_name": "Python 3 (ipykernel)",
   "language": "python",
   "name": "python3"
  },
  "language_info": {
   "codemirror_mode": {
    "name": "ipython",
    "version": 3
   },
   "file_extension": ".py",
   "mimetype": "text/x-python",
   "name": "python",
   "nbconvert_exporter": "python",
   "pygments_lexer": "ipython3",
   "version": "3.8.8"
  }
 },
 "nbformat": 4,
 "nbformat_minor": 5
}
