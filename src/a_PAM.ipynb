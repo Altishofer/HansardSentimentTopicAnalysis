{
 "cells": [
  {
   "cell_type": "markdown",
   "id": "9cc0941f",
   "metadata": {},
   "source": [
    "# TOPIC MODEELING"
   ]
  },
  {
   "cell_type": "markdown",
   "id": "56b4b9aa",
   "metadata": {},
   "source": [
    "#### References: authors of the Script (C) Elisa Michelet, and Germans Savcisens (C).\n",
    "Url containing script: https://github.com/arobaselisa/industrial-west, https://github.com/carlomarxdk/topic_modelling"
   ]
  },
  {
   "cell_type": "markdown",
   "id": "45b1a59e",
   "metadata": {},
   "source": [
    "# 1. Import the data"
   ]
  },
  {
   "cell_type": "code",
   "execution_count": 1,
   "id": "21743101",
   "metadata": {
    "ExecuteTime": {
     "start_time": "2023-04-24T16:38:16.719556Z",
     "end_time": "2023-04-24T16:38:25.276214Z"
    }
   },
   "outputs": [],
   "source": [
    "import tomotopy as tp\n",
    "import pandas as pd\n",
    "import time\n",
    "import numpy as np\n",
    "import matplotlib.pyplot as plt\n",
    "import seaborn as sns\n",
    "from random import randrange\n",
    "import spacy\n",
    "import unidecode\n",
    "import helpers\n",
    "import nltk"
   ]
  },
  {
   "cell_type": "code",
   "execution_count": 2,
   "id": "e14781fd",
   "metadata": {},
   "outputs": [
    {
     "name": "stdout",
     "output_type": "stream",
     "text": [
      "Requirement already satisfied: unidecode in c:\\users\\ferna\\anaconda3\\lib\\site-packages (1.3.6)Note: you may need to restart the kernel to use updated packages.\n",
      "\n"
     ]
    }
   ],
   "source": [
    "pip install unidecode"
   ]
  },
  {
   "cell_type": "markdown",
   "id": "556dcf00",
   "metadata": {},
   "source": [
    "The data should be a csv file containing the following columns :\n",
    "- \"publication_date\" : date of the journal, YYYY-MM-DD\n",
    "- \"content\" : the text in the journal"
   ]
  },
  {
   "cell_type": "code",
   "execution_count": 4,
   "id": "84fceb3e",
   "metadata": {
    "ExecuteTime": {
     "start_time": "2023-04-24T16:42:08.013050Z",
     "end_time": "2023-04-24T16:42:08.702371Z"
    }
   },
   "outputs": [],
   "source": [
    "DATA = pd.read_csv(\"../rawData/electric_light_eng_1870s.csv\")\n",
    "KW = \"electric light\" # without accent\n",
    "JOURNAL = \"The New York Herald\"\n",
    "START_DATE = pd.to_datetime(\"1870-01-01\") ## Articles on this date WILL be included\n",
    "END_DATE = pd.to_datetime(\"1881-01-01\") ## Articles on this date WON't be included \n",
    "SPACY_LANGUAGE = \"en_core_web_sm\" ## To change according to the corpus, french : fr_core_news_sm\n",
    "COUNTRY = \"US\"\n",
    "LANG = \"en\""
   ]
  },
  {
   "cell_type": "code",
   "execution_count": 5,
   "id": "6ed33f40",
   "metadata": {
    "ExecuteTime": {
     "start_time": "2023-04-24T16:42:10.901952Z",
     "end_time": "2023-04-24T16:42:10.990448Z"
    }
   },
   "outputs": [
    {
     "data": {
      "text/plain": "     Unnamed: 0.1  Unnamed: 0   \n0               0           0  \\\n1               1           1   \n2               2           2   \n3               3           3   \n4               4           4   \n..            ...         ...   \n670           670         670   \n671           671         671   \n672           672         672   \n673           673         673   \n674           674         674   \n\n                                               content publication_date  \n0    4NEW YORK HERALDERCADWAY AND ANN STREET.JAMES ...       1876-02-15  \n1    4NEW YORK HERALDBROADWAY AND ANN STREET.t IJAM...       1876-02-28  \n2    4NEW YORK HERALDBROADWAY AND ANN STREET.JAMES ...       1876-01-24  \n3    \\ T HWHOLE NO. 1^377.DI11JSCTUUT FOR ADVERTISE...       1876-01-02  \n4    T H^ ^ . 1 i i iWlIOLE NO. 14,376.7 *?_DffiECT...       1876-01-01  \n..                                                 ...              ...  \n670  V*THE NEW YORK HERALD.WHOLE NO. 14,284. NEW YO...       1875-10-01  \n671  THE NEW YORK HERALD.WHOLE NO. 14,291. NEW YORK...       1875-10-08  \n672  THE NEW YORK HERALD.WHOLE NO. 14,294. NEW YORK...       1875-10-11  \n673  ITISTERN UNION TELEGRAFH COMPANY.$NNVAL lfEKTT...       1875-10-14  \n674  LOST ATD FOIMD.TjtOU!Tft?ootoB K R 4. IS THE S...       1875-10-10  \n\n[675 rows x 4 columns]",
      "text/html": "<div>\n<style scoped>\n    .dataframe tbody tr th:only-of-type {\n        vertical-align: middle;\n    }\n\n    .dataframe tbody tr th {\n        vertical-align: top;\n    }\n\n    .dataframe thead th {\n        text-align: right;\n    }\n</style>\n<table border=\"1\" class=\"dataframe\">\n  <thead>\n    <tr style=\"text-align: right;\">\n      <th></th>\n      <th>Unnamed: 0.1</th>\n      <th>Unnamed: 0</th>\n      <th>content</th>\n      <th>publication_date</th>\n    </tr>\n  </thead>\n  <tbody>\n    <tr>\n      <th>0</th>\n      <td>0</td>\n      <td>0</td>\n      <td>4NEW YORK HERALDERCADWAY AND ANN STREET.JAMES ...</td>\n      <td>1876-02-15</td>\n    </tr>\n    <tr>\n      <th>1</th>\n      <td>1</td>\n      <td>1</td>\n      <td>4NEW YORK HERALDBROADWAY AND ANN STREET.t IJAM...</td>\n      <td>1876-02-28</td>\n    </tr>\n    <tr>\n      <th>2</th>\n      <td>2</td>\n      <td>2</td>\n      <td>4NEW YORK HERALDBROADWAY AND ANN STREET.JAMES ...</td>\n      <td>1876-01-24</td>\n    </tr>\n    <tr>\n      <th>3</th>\n      <td>3</td>\n      <td>3</td>\n      <td>\\ T HWHOLE NO. 1^377.DI11JSCTUUT FOR ADVERTISE...</td>\n      <td>1876-01-02</td>\n    </tr>\n    <tr>\n      <th>4</th>\n      <td>4</td>\n      <td>4</td>\n      <td>T H^ ^ . 1 i i iWlIOLE NO. 14,376.7 *?_DffiECT...</td>\n      <td>1876-01-01</td>\n    </tr>\n    <tr>\n      <th>...</th>\n      <td>...</td>\n      <td>...</td>\n      <td>...</td>\n      <td>...</td>\n    </tr>\n    <tr>\n      <th>670</th>\n      <td>670</td>\n      <td>670</td>\n      <td>V*THE NEW YORK HERALD.WHOLE NO. 14,284. NEW YO...</td>\n      <td>1875-10-01</td>\n    </tr>\n    <tr>\n      <th>671</th>\n      <td>671</td>\n      <td>671</td>\n      <td>THE NEW YORK HERALD.WHOLE NO. 14,291. NEW YORK...</td>\n      <td>1875-10-08</td>\n    </tr>\n    <tr>\n      <th>672</th>\n      <td>672</td>\n      <td>672</td>\n      <td>THE NEW YORK HERALD.WHOLE NO. 14,294. NEW YORK...</td>\n      <td>1875-10-11</td>\n    </tr>\n    <tr>\n      <th>673</th>\n      <td>673</td>\n      <td>673</td>\n      <td>ITISTERN UNION TELEGRAFH COMPANY.$NNVAL lfEKTT...</td>\n      <td>1875-10-14</td>\n    </tr>\n    <tr>\n      <th>674</th>\n      <td>674</td>\n      <td>674</td>\n      <td>LOST ATD FOIMD.TjtOU!Tft?ootoB K R 4. IS THE S...</td>\n      <td>1875-10-10</td>\n    </tr>\n  </tbody>\n</table>\n<p>675 rows × 4 columns</p>\n</div>"
     },
     "execution_count": 5,
     "metadata": {},
     "output_type": "execute_result"
    }
   ],
   "source": [
    "data = DATA\n",
    "data"
   ]
  },
  {
   "cell_type": "code",
   "execution_count": 6,
   "id": "7b669f44",
   "metadata": {
    "ExecuteTime": {
     "start_time": "2023-04-24T16:42:17.719849Z",
     "end_time": "2023-04-24T16:42:17.802751Z"
    }
   },
   "outputs": [],
   "source": [
    "#data = pd.read_csv(DATA, index_col=\"Unnamed: 0\") \n",
    "#data = pd.read_csv(DATA_PATH, index_col=\"id\") # german ones"
   ]
  },
  {
   "cell_type": "markdown",
   "id": "fe35ca13",
   "metadata": {},
   "source": [
    "# 2. Data Processing"
   ]
  },
  {
   "cell_type": "code",
   "execution_count": 7,
   "id": "b81a5c5b",
   "metadata": {
    "ExecuteTime": {
     "start_time": "2023-04-24T16:42:25.185224Z",
     "end_time": "2023-04-24T16:42:25.231611Z"
    }
   },
   "outputs": [],
   "source": [
    "data[\"publication_date\"] = pd.to_datetime(data[\"publication_date\"]) #add format='%Y' for italian ones"
   ]
  },
  {
   "cell_type": "code",
   "execution_count": 13,
   "id": "00771936",
   "metadata": {
    "scrolled": true,
    "ExecuteTime": {
     "start_time": "2023-04-24T16:42:27.769548Z",
     "end_time": "2023-04-24T16:42:29.136233Z"
    }
   },
   "outputs": [
    {
     "ename": "AttributeError",
     "evalue": "'numpy.int64' object has no attribute 'plot'",
     "output_type": "error",
     "traceback": [
      "\u001B[1;31m---------------------------------------------------------------------------\u001B[0m",
      "\u001B[1;31mAttributeError\u001B[0m                            Traceback (most recent call last)",
      "Cell \u001B[1;32mIn[13], line 1\u001B[0m\n\u001B[1;32m----> 1\u001B[0m \u001B[43mdata\u001B[49m\u001B[43m[\u001B[49m\u001B[38;5;124;43m\"\u001B[39;49m\u001B[38;5;124;43mpublication_date\u001B[39;49m\u001B[38;5;124;43m\"\u001B[39;49m\u001B[43m]\u001B[49m\u001B[38;5;241;43m.\u001B[39;49m\u001B[43mcount\u001B[49m\u001B[43m(\u001B[49m\u001B[43m)\u001B[49m\u001B[38;5;241;43m.\u001B[39;49m\u001B[43mplot\u001B[49m(kind\u001B[38;5;241m=\u001B[39m\u001B[38;5;124m\"\u001B[39m\u001B[38;5;124mbar\u001B[39m\u001B[38;5;124m\"\u001B[39m, figsize\u001B[38;5;241m=\u001B[39m(\u001B[38;5;241m20\u001B[39m, \u001B[38;5;241m3\u001B[39m))\n",
      "\u001B[1;31mAttributeError\u001B[0m: 'numpy.int64' object has no attribute 'plot'"
     ]
    }
   ],
   "source": [
    "data.groupby(data[\"publication_date\"].dt.year).count().plot(kind=\"bar\", figsize=(20, 3))"
   ]
  },
  {
   "cell_type": "code",
   "execution_count": 9,
   "id": "7b355e41",
   "metadata": {
    "scrolled": true,
    "ExecuteTime": {
     "start_time": "2023-04-24T16:42:33.703514Z",
     "end_time": "2023-04-24T16:42:33.773394Z"
    }
   },
   "outputs": [],
   "source": [
    "#data_filtered = helpers.load_preprocess_df(DATA, START_DATE, END_DATE, [KW], JOURNAL)\n",
    "#data_filtered.head(3)"
   ]
  },
  {
   "cell_type": "code",
   "execution_count": 16,
   "id": "be0b14ff",
   "metadata": {
    "scrolled": false,
    "ExecuteTime": {
     "start_time": "2023-04-24T17:02:45.043224Z",
     "end_time": "2023-04-24T17:02:45.083579Z"
    }
   },
   "outputs": [
    {
     "name": "stdout",
     "output_type": "stream",
     "text": [
      "Lenght of FILTERED dataset: 675\n",
      "<class 'pandas.core.frame.DataFrame'>\n",
      "RangeIndex: 675 entries, 0 to 674\n",
      "Data columns (total 4 columns):\n",
      " #   Column            Non-Null Count  Dtype         \n",
      "---  ------            --------------  -----         \n",
      " 0   Unnamed: 0.1      675 non-null    int64         \n",
      " 1   Unnamed: 0        675 non-null    int64         \n",
      " 2   content           675 non-null    object        \n",
      " 3   publication_date  675 non-null    datetime64[ns]\n",
      "dtypes: datetime64[ns](1), int64(2), object(1)\n",
      "memory usage: 21.2+ KB\n"
     ]
    }
   ],
   "source": [
    "print(\"Lenght of FILTERED dataset:\", len(data))\n",
    "data.info()"
   ]
  },
  {
   "cell_type": "markdown",
   "id": "f761bdf4",
   "metadata": {},
   "source": [
    "# 3. Topic Modelling"
   ]
  },
  {
   "cell_type": "code",
   "execution_count": 11,
   "id": "4ec839fd",
   "metadata": {},
   "outputs": [
    {
     "name": "stdout",
     "output_type": "stream",
     "text": [
      "Create corpus for tp model...\n",
      "Runtime: 1.50 seconds || Completed: 1 of 675\n"
     ]
    },
    {
     "ename": "KeyboardInterrupt",
     "evalue": "",
     "output_type": "error",
     "traceback": [
      "\u001B[1;31m---------------------------------------------------------------------------\u001B[0m",
      "\u001B[1;31mKeyboardInterrupt\u001B[0m                         Traceback (most recent call last)",
      "Cell \u001B[1;32mIn[11], line 2\u001B[0m\n\u001B[0;32m      1\u001B[0m \u001B[38;5;28mprint\u001B[39m(\u001B[38;5;124m\"\u001B[39m\u001B[38;5;124mCreate corpus for tp model...\u001B[39m\u001B[38;5;124m\"\u001B[39m)\n\u001B[1;32m----> 2\u001B[0m _, corpus \u001B[38;5;241m=\u001B[39m \u001B[43mhelpers\u001B[49m\u001B[38;5;241;43m.\u001B[39;49m\u001B[43mcreate_corpus\u001B[49m\u001B[43m(\u001B[49m\u001B[43mdata\u001B[49m\u001B[43m,\u001B[49m\u001B[43m \u001B[49m\u001B[43mSPACY_LANGUAGE\u001B[49m\u001B[43m)\u001B[49m \u001B[38;5;66;03m#.sample(2000)\u001B[39;00m\n\u001B[0;32m      3\u001B[0m \u001B[38;5;28mprint\u001B[39m(\u001B[38;5;124m\"\u001B[39m\u001B[38;5;124mDone !\u001B[39m\u001B[38;5;124m\"\u001B[39m)\n",
      "File \u001B[1;32m~\\UnTrackedFolder\\textAnalytics\\src\\helpers.py:73\u001B[0m, in \u001B[0;36mcreate_corpus\u001B[1;34m(data, language)\u001B[0m\n\u001B[0;32m     71\u001B[0m     \u001B[38;5;28;01mif\u001B[39;00m i\u001B[38;5;241m%\u001B[39m\u001B[38;5;241m500\u001B[39m \u001B[38;5;241m==\u001B[39m \u001B[38;5;241m1\u001B[39m:\n\u001B[0;32m     72\u001B[0m         \u001B[38;5;28mprint\u001B[39m(\u001B[38;5;124m\"\u001B[39m\u001B[38;5;124mRuntime: \u001B[39m\u001B[38;5;132;01m%.2f\u001B[39;00m\u001B[38;5;124m seconds\u001B[39m\u001B[38;5;124m\"\u001B[39m \u001B[38;5;241m%\u001B[39m(time\u001B[38;5;241m.\u001B[39mtime() \u001B[38;5;241m-\u001B[39m start), \u001B[38;5;124m\"\u001B[39m\u001B[38;5;124m|| Completed: \u001B[39m\u001B[38;5;132;01m%s\u001B[39;00m\u001B[38;5;124m of \u001B[39m\u001B[38;5;132;01m%s\u001B[39;00m\u001B[38;5;124m\"\u001B[39m \u001B[38;5;241m%\u001B[39m(i, num_articles))\n\u001B[1;32m---> 73\u001B[0m     raw_docs\u001B[38;5;241m.\u001B[39mappend(\u001B[43mpreprocess_text\u001B[49m\u001B[43m(\u001B[49m\u001B[43msp\u001B[49m\u001B[43m,\u001B[49m\u001B[43m \u001B[49m\u001B[43mdoc\u001B[49m\u001B[43m)\u001B[49m)\n\u001B[0;32m     75\u001B[0m corpus \u001B[38;5;241m=\u001B[39m tp\u001B[38;5;241m.\u001B[39mutils\u001B[38;5;241m.\u001B[39mCorpus()\n\u001B[0;32m     76\u001B[0m \u001B[38;5;28;01mfor\u001B[39;00m doc \u001B[38;5;129;01min\u001B[39;00m raw_docs:\n",
      "File \u001B[1;32m~\\UnTrackedFolder\\textAnalytics\\src\\helpers.py:84\u001B[0m, in \u001B[0;36mpreprocess_text\u001B[1;34m(sp, text, user_data)\u001B[0m\n\u001B[0;32m     82\u001B[0m \u001B[38;5;28;01mdef\u001B[39;00m \u001B[38;5;21mpreprocess_text\u001B[39m(sp, text: \u001B[38;5;28mstr\u001B[39m, user_data \u001B[38;5;241m=\u001B[39m \u001B[38;5;28;01mNone\u001B[39;00m): \u001B[38;5;66;03m### takes text as a string (not list) and return list\u001B[39;00m\n\u001B[0;32m     83\u001B[0m     text \u001B[38;5;241m=\u001B[39m text\u001B[38;5;241m.\u001B[39mlower()\n\u001B[1;32m---> 84\u001B[0m     text \u001B[38;5;241m=\u001B[39m [word\u001B[38;5;241m.\u001B[39mlemma_ \u001B[38;5;28;01mfor\u001B[39;00m word \u001B[38;5;129;01min\u001B[39;00m \u001B[43msp\u001B[49m\u001B[43m(\u001B[49m\u001B[43mtext\u001B[49m\u001B[43m)\u001B[49m \u001B[38;5;28;01mif\u001B[39;00m word\u001B[38;5;241m.\u001B[39mis_alpha \u001B[38;5;129;01mand\u001B[39;00m (\u001B[38;5;129;01mnot\u001B[39;00m word\u001B[38;5;241m.\u001B[39mis_stop) \u001B[38;5;129;01mand\u001B[39;00m \u001B[38;5;28mlen\u001B[39m(word)\u001B[38;5;241m>\u001B[39m\u001B[38;5;241m3\u001B[39m]  \n\u001B[0;32m     85\u001B[0m     \u001B[38;5;66;03m### above: removes punctuation, digits, stop words, lemmatizes words\u001B[39;00m\n\u001B[0;32m     86\u001B[0m     \u001B[38;5;28;01mreturn\u001B[39;00m text\n",
      "File \u001B[1;32m~\\UnTrackedFolder\\textAnalytics\\venv\\lib\\site-packages\\spacy\\language.py:1011\u001B[0m, in \u001B[0;36mLanguage.__call__\u001B[1;34m(self, text, disable, component_cfg)\u001B[0m\n\u001B[0;32m   1009\u001B[0m     error_handler \u001B[38;5;241m=\u001B[39m proc\u001B[38;5;241m.\u001B[39mget_error_handler()\n\u001B[0;32m   1010\u001B[0m \u001B[38;5;28;01mtry\u001B[39;00m:\n\u001B[1;32m-> 1011\u001B[0m     doc \u001B[38;5;241m=\u001B[39m proc(doc, \u001B[38;5;241m*\u001B[39m\u001B[38;5;241m*\u001B[39mcomponent_cfg\u001B[38;5;241m.\u001B[39mget(name, {}))  \u001B[38;5;66;03m# type: ignore[call-arg]\u001B[39;00m\n\u001B[0;32m   1012\u001B[0m \u001B[38;5;28;01mexcept\u001B[39;00m \u001B[38;5;167;01mKeyError\u001B[39;00m \u001B[38;5;28;01mas\u001B[39;00m e:\n\u001B[0;32m   1013\u001B[0m     \u001B[38;5;66;03m# This typically happens if a component is not initialized\u001B[39;00m\n\u001B[0;32m   1014\u001B[0m     \u001B[38;5;28;01mraise\u001B[39;00m \u001B[38;5;167;01mValueError\u001B[39;00m(Errors\u001B[38;5;241m.\u001B[39mE109\u001B[38;5;241m.\u001B[39mformat(name\u001B[38;5;241m=\u001B[39mname)) \u001B[38;5;28;01mfrom\u001B[39;00m \u001B[38;5;21;01me\u001B[39;00m\n",
      "File \u001B[1;32m~\\UnTrackedFolder\\textAnalytics\\venv\\lib\\site-packages\\spacy\\pipeline\\attributeruler.py:143\u001B[0m, in \u001B[0;36mAttributeRuler.__call__\u001B[1;34m(self, doc)\u001B[0m\n\u001B[0;32m    141\u001B[0m error_handler \u001B[38;5;241m=\u001B[39m \u001B[38;5;28mself\u001B[39m\u001B[38;5;241m.\u001B[39mget_error_handler()\n\u001B[0;32m    142\u001B[0m \u001B[38;5;28;01mtry\u001B[39;00m:\n\u001B[1;32m--> 143\u001B[0m     matches \u001B[38;5;241m=\u001B[39m \u001B[38;5;28;43mself\u001B[39;49m\u001B[38;5;241;43m.\u001B[39;49m\u001B[43mmatch\u001B[49m\u001B[43m(\u001B[49m\u001B[43mdoc\u001B[49m\u001B[43m)\u001B[49m\n\u001B[0;32m    144\u001B[0m     \u001B[38;5;28mself\u001B[39m\u001B[38;5;241m.\u001B[39mset_annotations(doc, matches)\n\u001B[0;32m    145\u001B[0m     \u001B[38;5;28;01mreturn\u001B[39;00m doc\n",
      "File \u001B[1;32m~\\UnTrackedFolder\\textAnalytics\\venv\\lib\\site-packages\\spacy\\pipeline\\attributeruler.py:152\u001B[0m, in \u001B[0;36mAttributeRuler.match\u001B[1;34m(self, doc)\u001B[0m\n\u001B[0;32m    150\u001B[0m matches \u001B[38;5;241m=\u001B[39m \u001B[38;5;28mself\u001B[39m\u001B[38;5;241m.\u001B[39mmatcher(doc, allow_missing\u001B[38;5;241m=\u001B[39m\u001B[38;5;28;01mTrue\u001B[39;00m, as_spans\u001B[38;5;241m=\u001B[39m\u001B[38;5;28;01mFalse\u001B[39;00m)\n\u001B[0;32m    151\u001B[0m \u001B[38;5;66;03m# Sort by the attribute ID, so that later rules have precedence\u001B[39;00m\n\u001B[1;32m--> 152\u001B[0m matches \u001B[38;5;241m=\u001B[39m [\n\u001B[0;32m    153\u001B[0m     (\u001B[38;5;28mint\u001B[39m(\u001B[38;5;28mself\u001B[39m\u001B[38;5;241m.\u001B[39mvocab\u001B[38;5;241m.\u001B[39mstrings[m_id]), m_id, s, e) \u001B[38;5;28;01mfor\u001B[39;00m m_id, s, e \u001B[38;5;129;01min\u001B[39;00m matches  \u001B[38;5;66;03m# type: ignore\u001B[39;00m\n\u001B[0;32m    154\u001B[0m ]\n\u001B[0;32m    155\u001B[0m matches\u001B[38;5;241m.\u001B[39msort()\n\u001B[0;32m    156\u001B[0m \u001B[38;5;28;01mreturn\u001B[39;00m matches\n",
      "\u001B[1;31mKeyboardInterrupt\u001B[0m: "
     ]
    }
   ],
   "source": [
    "print(\"Create corpus for tp model...\")\n",
    "_, corpus = helpers.create_corpus(data, SPACY_LANGUAGE) #.sample(2000)\n",
    "print(\"Done !\")"
   ]
  },
  {
   "cell_type": "code",
   "execution_count": null,
   "id": "685f7800",
   "metadata": {
    "scrolled": true
   },
   "outputs": [],
   "source": [
    "############################################\n",
    "###### You should change only this\n",
    "k1_max = 3 ###(min 1) if k1_max - 1 == best k1\n",
    "k2_max = 25\n",
    "### k2 should always be higher than k1 (min 1)\n",
    "####################\n",
    "params = []\n",
    "scores = []\n",
    "num_iter = 0\n",
    "max_iter = 0\n",
    "for k1 in range(1, k1_max):\n",
    "    for k2 in range(k1,k2_max):\n",
    "        max_iter +=1\n",
    "        \n",
    "start = time.time()\n",
    "for k1 in range(1, k1_max):\n",
    "    for k2 in range(k1,k2_max):\n",
    "        num_iter+=1\n",
    "        model = tp.PAModel(tw=tp.TermWeight.IDF, min_df=10, rm_top=10, k1=k1, k2=k2, corpus=corpus, seed=0)\n",
    "        model.train(500, workers=1)\n",
    "        score = tp.coherence.Coherence(model, coherence=\"c_v\").get_score() #try with 'u_mass' instead of 'c_v' \n",
    "        params.append((k1,k2))\n",
    "        scores.append(score)\n",
    "        print(\"Runtime: %.2f seconds\" %(time.time() - start), \"|| Number of Searches: %s out of  %s\" %(num_iter, max_iter))"
   ]
  },
  {
   "cell_type": "code",
   "execution_count": 12,
   "id": "5e8389c1",
   "metadata": {
    "scrolled": false
   },
   "outputs": [
    {
     "name": "stdout",
     "output_type": "stream",
     "text": [
      "(BEST MODEL) k1=1 k2=9 coherence=0.94\n"
     ]
    },
    {
     "data": {
      "image/png": "[encoded data removed]",
      "text/plain": [
       "<Figure size 432x288 with 2 Axes>"
      ]
     },
     "metadata": {
      "needs_background": "light"
     },
     "output_type": "display_data"
    }
   ],
   "source": [
    "best_params = np.argmax(scores)\n",
    "print(\"(BEST MODEL) k1=%s k2=%s coherence=%.2f\"  %(params[best_params][0], params[best_params][1],  scores[best_params]))\n",
    "\n",
    "data = pd.DataFrame(data={'k1':list(zip(*params))[0], 'k2':list(zip(*params))[1], 'score':scores})\n",
    "data = data.pivot(index='k1', columns='k2', values='score')\n",
    "sns.heatmap(data)\n",
    "plt.show()"
   ]
  },
  {
   "cell_type": "markdown",
   "id": "bb9cf03c",
   "metadata": {},
   "source": [
    "**1. Choose the best parameters**"
   ]
  },
  {
   "cell_type": "code",
   "execution_count": 13,
   "id": "ea2a3635",
   "metadata": {},
   "outputs": [],
   "source": [
    "#################################################\n",
    "### Set the best model\n",
    "best_k1 = params[best_params][0] \n",
    "best_k2 = params[best_params][1]\n",
    "model = tp.PAModel(tw=tp.TermWeight.IDF, min_cf=5, k1=best_k1, k2=best_k2, corpus=corpus, seed=0)\n",
    "model.burn_in=100\n",
    "model.train(1000, workers=1)"
   ]
  },
  {
   "cell_type": "markdown",
   "id": "df0e87cb",
   "metadata": {},
   "source": [
    "**2. Print all the topics**"
   ]
  },
  {
   "cell_type": "code",
   "execution_count": 14,
   "id": "6f9b68a3",
   "metadata": {
    "scrolled": false
   },
   "outputs": [
    {
     "name": "stdout",
     "output_type": "stream",
     "text": [
      "Topic #0\n",
      "\t ['bark', 'schr', 'brig', 'sept', 'liverpool', 'schrs', 'april', 'baltimore', 'ship', 'providence']\n",
      "Topic #1\n",
      "\t ['republican', 'committee', 'convention', 'shall', 'vote', 'government', 'president', 'governor', 'mayor', 'report']\n",
      "Topic #2\n",
      "\t ['funeral', 'invite', 'january', 'bushel', 'dull', 'relative', 'quiet', 'steady', 'february', 'march']\n",
      "Topic #3\n",
      "\t ['rent', 'floor', 'room', 'location', 'acre', 'sale', 'furniture', 'apply', 'sixth', 'story']\n",
      "Topic #4\n",
      "\t ['pier', 'july', 'freight', 'ticket', 'steerage', 'cabin', 'passage', 'north', 'excursion', 'august']\n",
      "Topic #5\n",
      "\t ['harness', 'wagon', 'prize', 'trot', 'horse', 'phaeton', 'warrant', 'prise', 'coupe', 'matinee']\n",
      "Topic #6\n",
      "\t ['church', 'preach', 'christ', 'baptist', 'episcopal', 'methodist', 'thing', 'lord', 'bishop', 'father']\n",
      "Topic #7\n",
      "\t ['cook', 'reference', 'girl', 'housework', 'respectable', 'woman', 'chambermaid', 'washing', 'situation', 'waitress']\n",
      "Topic #8\n",
      "\t ['prisoner', 'witness', 'judge', 'length', 'race', 'arrest', 'counsel', 'say', 'play', 'yesterday']\n"
     ]
    }
   ],
   "source": [
    "#############################################\n",
    "#### Topics gonna be here \n",
    "for k in range(best_k2):\n",
    "    print('Topic #{}'.format(k))\n",
    "    print(\"\\t\", [w for w, _ in model.get_topic_words(k)])\n",
    "        "
   ]
  }
 ],
 "metadata": {
  "kernelspec": {
   "display_name": "Python 3 (ipykernel)",
   "language": "python",
   "name": "python3"
  },
  "language_info": {
   "codemirror_mode": {
    "name": "ipython",
    "version": 3
   },
   "file_extension": ".py",
   "mimetype": "text/x-python",
   "name": "python",
   "nbconvert_exporter": "python",
   "pygments_lexer": "ipython3",
   "version": "3.8.8"
  }
 },
 "nbformat": 4,
 "nbformat_minor": 5
}
