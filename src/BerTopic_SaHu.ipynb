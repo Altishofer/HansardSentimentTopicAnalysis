{
 "cells": [
  {
   "cell_type": "markdown",
   "source": [
    "# Dynamic topic modelling with BERTopic\n",
    "### Coded by Sandrin Raphael Hunkeler (18-253-815)"
   ],
   "metadata": {
    "collapsed": false
   }
  },
  {
   "cell_type": "markdown",
   "source": [
    "## 1. Install Dependencies"
   ],
   "metadata": {
    "collapsed": false
   }
  },
  {
   "cell_type": "code",
   "execution_count": 1,
   "outputs": [
    {
     "name": "stderr",
     "output_type": "stream",
     "text": [
      "[nltk_data] Downloading package stopwords to\n",
      "[nltk_data]     C:\\Users\\Siga\\AppData\\Roaming\\nltk_data...\n",
      "[nltk_data]   Package stopwords is already up-to-date!\n",
      "[nltk_data] Downloading package wordnet to\n",
      "[nltk_data]     C:\\Users\\Siga\\AppData\\Roaming\\nltk_data...\n",
      "[nltk_data]   Package wordnet is already up-to-date!\n",
      "[nltk_data] Downloading package punkt to\n",
      "[nltk_data]     C:\\Users\\Siga\\AppData\\Roaming\\nltk_data...\n",
      "[nltk_data]   Package punkt is already up-to-date!\n"
     ]
    },
    {
     "name": "stdout",
     "output_type": "stream",
     "text": [
      "Requirement already satisfied: kaleido==0.1.0post1 in c:\\users\\siga\\desktop\\textanalytics\\venv\\lib\\site-packages (0.1.0.post1)\n"
     ]
    },
    {
     "name": "stderr",
     "output_type": "stream",
     "text": [
      "\n",
      "[notice] A new release of pip available: 22.3.1 -> 23.1.1\n",
      "[notice] To update, run: python.exe -m pip install --upgrade pip\n"
     ]
    }
   ],
   "source": [
    "import pandas as pd\n",
    "import tomotopy as tp\n",
    "import nltk\n",
    "from gensim.utils import simple_preprocess\n",
    "from nltk.stem import WordNetLemmatizer\n",
    "from nltk.corpus import wordnet\n",
    "nltk.download('stopwords')\n",
    "nltk.download('wordnet')\n",
    "nltk.download('punkt')\n",
    "from bertopic import BERTopic\n",
    "from sentence_transformers import SentenceTransformer\n",
    "from umap import UMAP\n",
    "from hdbscan import HDBSCAN\n",
    "from sklearn.feature_extraction.text import CountVectorizer\n",
    "import numpy as np\n",
    "import matplotlib.pyplot as plt\n",
    "import jupyterlab\n",
    "import ipywidgets\n",
    "import plotly\n",
    "import kaleido\n",
    "!pip3 install kaleido==0.1.0post1"
   ],
   "metadata": {
    "collapsed": false,
    "ExecuteTime": {
     "start_time": "2023-04-30T22:31:00.040430Z",
     "end_time": "2023-04-30T22:31:33.964496Z"
    }
   }
  },
  {
   "cell_type": "markdown",
   "source": [
    "## 2. Import Data"
   ],
   "metadata": {
    "collapsed": false
   }
  },
  {
   "cell_type": "code",
   "execution_count": 2,
   "outputs": [
    {
     "name": "stderr",
     "output_type": "stream",
     "text": [
      "C:\\Users\\Siga\\AppData\\Local\\Temp\\ipykernel_12952\\4139990483.py:1: DtypeWarning: Columns (1) have mixed types. Specify dtype option on import or set low_memory=False.\n",
      "  DATA = pd.read_csv(\n"
     ]
    },
    {
     "data": {
      "text/plain": "                file                                               text\nline                                                                   \n49996  200X.POS.rand                  I_PP beg_VBP to_TO move_VB ._SENT\n49997  200X.POS.rand  <p> Ms_NN Blears_NP :_: I_PP certainly_RB shal...\n49998  200X.POS.rand  <lb/> We_PP want_VBP to_TO make_VB improvement...\n49999  200X.POS.rand  <lb/> I_PP turn_VBP now_RB to_TO the_DT propos...\n50000  200X.POS.rand  <lb/> I_PP seek_VBP to_TO persuade_VB the_DT C...",
      "text/html": "<div>\n<style scoped>\n    .dataframe tbody tr th:only-of-type {\n        vertical-align: middle;\n    }\n\n    .dataframe tbody tr th {\n        vertical-align: top;\n    }\n\n    .dataframe thead th {\n        text-align: right;\n    }\n</style>\n<table border=\"1\" class=\"dataframe\">\n  <thead>\n    <tr style=\"text-align: right;\">\n      <th></th>\n      <th>file</th>\n      <th>text</th>\n    </tr>\n    <tr>\n      <th>line</th>\n      <th></th>\n      <th></th>\n    </tr>\n  </thead>\n  <tbody>\n    <tr>\n      <th>49996</th>\n      <td>200X.POS.rand</td>\n      <td>I_PP beg_VBP to_TO move_VB ._SENT</td>\n    </tr>\n    <tr>\n      <th>49997</th>\n      <td>200X.POS.rand</td>\n      <td>&lt;p&gt; Ms_NN Blears_NP :_: I_PP certainly_RB shal...</td>\n    </tr>\n    <tr>\n      <th>49998</th>\n      <td>200X.POS.rand</td>\n      <td>&lt;lb/&gt; We_PP want_VBP to_TO make_VB improvement...</td>\n    </tr>\n    <tr>\n      <th>49999</th>\n      <td>200X.POS.rand</td>\n      <td>&lt;lb/&gt; I_PP turn_VBP now_RB to_TO the_DT propos...</td>\n    </tr>\n    <tr>\n      <th>50000</th>\n      <td>200X.POS.rand</td>\n      <td>&lt;lb/&gt; I_PP seek_VBP to_TO persuade_VB the_DT C...</td>\n    </tr>\n  </tbody>\n</table>\n</div>"
     },
     "execution_count": 2,
     "metadata": {},
     "output_type": "execute_result"
    }
   ],
   "source": [
    "DATA = pd.read_csv(\n",
    "    #\"../rawData/sampler_10ktexts_perdecade.headed.ALL2.tsv\",\n",
    "    \"../rawData/sampler_50ktexts_perdecade.headed.ALL.tsv\",\n",
    "    sep='\\t',\n",
    "    index_col=1\n",
    ")\n",
    "DATA.tail()"
   ],
   "metadata": {
    "collapsed": false,
    "ExecuteTime": {
     "start_time": "2023-04-30T22:31:33.964496Z",
     "end_time": "2023-04-30T22:31:37.436121Z"
    }
   }
  },
  {
   "cell_type": "markdown",
   "source": [
    "## 3. Preprocessing\n",
    "### 3.1 defining KEYWORDS and ROYALS name for selecting documents\n",
    "### 3.2 extend STOP_WORDS by highly frequent words found in general sentences"
   ],
   "metadata": {
    "collapsed": false
   }
  },
  {
   "cell_type": "code",
   "execution_count": 3,
   "outputs": [],
   "source": [
    "KEYWORDS = [\n",
    "    \"king\",\n",
    "    \"queen\",\n",
    "    \"royalty\",\n",
    "    \"majesty\",\n",
    "    \"crown\",\n",
    "    \"prince\",\n",
    "    \"princess\",\n",
    "    \"regent\",\n",
    "    \"monarch\",\n",
    "    \"highness\"\n",
    "]\n",
    "\n",
    "ROYALS = [\n",
    "    \"Queen Victoria\",\n",
    "    \"Queen Alexandra\",\n",
    "    \"Queen Mary\",\n",
    "    \"Queen Elizabeth\",\n",
    "    \"King George\",\n",
    "    \"King William\",\n",
    "    \"King Edward\",\n",
    "    \"King Edward\",\n",
    "    \"Prince Albert\",\n",
    "    \"Prince Edward\",\n",
    "    \"Prince George\",\n",
    "    \"Princess Victoria\",\n",
    "    \"Princess Louise\",\n",
    "    \"Princess Alexandra\",\n",
    "    \"Princess Mary\",\n",
    "    \"Princess Margaret\"\n",
    "]\n",
    "\n",
    "STOP_WORDS = set(nltk.corpus.stopwords.words('english'))\n",
    "STOP_WORDS.update({\n",
    "    'hon',\n",
    "    'mr',\n",
    "    'gentleman',\n",
    "    'gent',\n",
    "    'gen',\n",
    "    'right',\n",
    "    'house',\n",
    "    'opinion',\n",
    "    'sir',\n",
    "    'say',\n",
    "    'friend',\n",
    "    'member',\n",
    "    'think',\n",
    "    'go',\n",
    "    'motion'\n",
    "    'noble',\n",
    "    'lord',\n",
    "    'case',\n",
    "    'year',\n",
    "    'speak',\n",
    "    'speech'\n",
    "})\n",
    "\n",
    "SPACY_LANGUAGE = \"en_core_web_sm\"\n",
    "COUNTRY = \"US\"\n",
    "LANG = \"en\"\n",
    "data = DATA"
   ],
   "metadata": {
    "collapsed": false,
    "ExecuteTime": {
     "start_time": "2023-04-30T22:31:37.387824Z",
     "end_time": "2023-04-30T22:31:37.466874Z"
    }
   }
  },
  {
   "cell_type": "markdown",
   "source": [
    "### 3.3 remove functional words\n",
    "### 3.4 lemmatize words by POS tags"
   ],
   "metadata": {
    "collapsed": false
   }
  },
  {
   "cell_type": "code",
   "execution_count": 4,
   "outputs": [],
   "source": [
    "def corpusRefactoring(data):\n",
    "    data.drop(data[~data['file'].astype(str).str.endswith('POS.rand')].index, inplace=True)\n",
    "    data['file'] = data['file'].map(lambda x: x.rstrip('X.POS.rand'))\n",
    "    data['file'] = data['file'].astype(str) + '0'\n",
    "    data['file'] = pd.to_datetime(data['file'], format='%Y')\n",
    "    data['file'] = pd.DatetimeIndex(data['file'])\n",
    "    data.rename(columns={\"file\":\"timePeriod\", \"text\":\"content\"}, inplace=True)\n",
    "    data.dropna(inplace = True)\n",
    "    data.reset_index(drop=True, inplace=True)\n",
    "    return data\n",
    "\n",
    "def create_corpus(data):\n",
    "    raw_articles = data[\"content\"].to_list()\n",
    "    corpus = tp.utils.Corpus()\n",
    "    for doc in raw_articles:\n",
    "        if doc:\n",
    "            corpus.add_doc(doc.split())\n",
    "    return _,  corpus\n",
    "\n",
    "wn = WordNetLemmatizer()\n",
    "def lemmatize(word):\n",
    "    if '_' not in word: return \"\"\n",
    "    token, posStart = word.split('_')[0].lower(), word.split('_')[1].upper()\n",
    "    if posStart.startswith('N'):\n",
    "        return wn.lemmatize(token, wordnet.NOUN)\n",
    "    elif posStart.startswith('V'):\n",
    "        return wn.lemmatize(token, wordnet.VERB)\n",
    "    elif posStart.startswith('R'):\n",
    "        return wn.lemmatize(token, wordnet.ADV)\n",
    "    elif posStart.startswith('J'):\n",
    "        return wn.lemmatize(token, wordnet.ADJ)\n",
    "    return \"\"\n",
    "\n",
    "def isRoyalTopic(text):\n",
    "    if len(text.split()) < 4: return False\n",
    "    overlapRoyals = any(word in ROYALS for word in text.split())\n",
    "    overlapKeyWords = any(word in KEYWORDS for word in text.split())\n",
    "    return overlapRoyals or overlapKeyWords\n",
    "\n",
    "def preprocess_text(text):\n",
    "    tokens = simple_preprocess(text)\n",
    "    clean = [lemmatize(word) for word in tokens if lemmatize(word)!=\"\"]\n",
    "    words = [word for word in clean if word.isalpha()]\n",
    "    lemmas = [word for word in words if word not in STOP_WORDS]\n",
    "    return \" \".join(lemmas)"
   ],
   "metadata": {
    "collapsed": false,
    "ExecuteTime": {
     "start_time": "2023-04-30T22:31:37.430563Z",
     "end_time": "2023-04-30T22:31:37.466874Z"
    }
   }
  },
  {
   "cell_type": "code",
   "execution_count": 5,
   "outputs": [
    {
     "data": {
      "text/plain": "      timePeriod                                            content  royal\n23039 2000-01-01  viscount craigavon ask majesty government impo...   True\n23040 2000-01-01  utterly wrong change name ruc remove royal cro...   True\n23041 2000-01-01  chris bryant rhondda much hate agree liberal d...   True\n23042 2000-01-01  also confirm majesty government make clear pri...   True\n23043 2000-01-01  king bridgwater minister recall debate invasio...   True",
      "text/html": "<div>\n<style scoped>\n    .dataframe tbody tr th:only-of-type {\n        vertical-align: middle;\n    }\n\n    .dataframe tbody tr th {\n        vertical-align: top;\n    }\n\n    .dataframe thead th {\n        text-align: right;\n    }\n</style>\n<table border=\"1\" class=\"dataframe\">\n  <thead>\n    <tr style=\"text-align: right;\">\n      <th></th>\n      <th>timePeriod</th>\n      <th>content</th>\n      <th>royal</th>\n    </tr>\n  </thead>\n  <tbody>\n    <tr>\n      <th>23039</th>\n      <td>2000-01-01</td>\n      <td>viscount craigavon ask majesty government impo...</td>\n      <td>True</td>\n    </tr>\n    <tr>\n      <th>23040</th>\n      <td>2000-01-01</td>\n      <td>utterly wrong change name ruc remove royal cro...</td>\n      <td>True</td>\n    </tr>\n    <tr>\n      <th>23041</th>\n      <td>2000-01-01</td>\n      <td>chris bryant rhondda much hate agree liberal d...</td>\n      <td>True</td>\n    </tr>\n    <tr>\n      <th>23042</th>\n      <td>2000-01-01</td>\n      <td>also confirm majesty government make clear pri...</td>\n      <td>True</td>\n    </tr>\n    <tr>\n      <th>23043</th>\n      <td>2000-01-01</td>\n      <td>king bridgwater minister recall debate invasio...</td>\n      <td>True</td>\n    </tr>\n  </tbody>\n</table>\n</div>"
     },
     "execution_count": 5,
     "metadata": {},
     "output_type": "execute_result"
    }
   ],
   "source": [
    "corpusRefactoring(data)\n",
    "data.loc[:, 'content'] = data['content'].apply(preprocess_text).astype(str)\n",
    "data['royal'] = data['content'].apply(isRoyalTopic)\n",
    "data.drop(data[data.royal == False].index, inplace=True)\n",
    "data.dropna(inplace = True)\n",
    "data.reset_index(drop=True, inplace=True)\n",
    "data.tail()"
   ],
   "metadata": {
    "collapsed": false,
    "ExecuteTime": {
     "start_time": "2023-04-30T22:31:37.436948Z",
     "end_time": "2023-04-30T22:33:48.863105Z"
    }
   }
  },
  {
   "cell_type": "code",
   "execution_count": 6,
   "outputs": [
    {
     "name": "stdout",
     "output_type": "stream",
     "text": [
      "<class 'pandas.core.frame.DataFrame'>\n",
      "RangeIndex: 23044 entries, 0 to 23043\n",
      "Data columns (total 3 columns):\n",
      " #   Column      Non-Null Count  Dtype         \n",
      "---  ------      --------------  -----         \n",
      " 0   timePeriod  23044 non-null  datetime64[ns]\n",
      " 1   content     23044 non-null  object        \n",
      " 2   royal       23044 non-null  bool          \n",
      "dtypes: bool(1), datetime64[ns](1), object(1)\n",
      "memory usage: 382.7+ KB\n"
     ]
    }
   ],
   "source": [
    "#data = data.groupby(\"timePeriod\").sample(frac=0.1, random_state=42)\n",
    "data.reset_index(drop=True, inplace=True)\n",
    "processedData = data\n",
    "data.info()"
   ],
   "metadata": {
    "collapsed": false,
    "ExecuteTime": {
     "start_time": "2023-04-30T22:33:48.863105Z",
     "end_time": "2023-04-30T22:33:48.873190Z"
    }
   }
  },
  {
   "cell_type": "markdown",
   "source": [
    "### 3.5 oversee the document frequencies"
   ],
   "metadata": {
    "collapsed": false
   }
  },
  {
   "cell_type": "code",
   "execution_count": 7,
   "outputs": [
    {
     "data": {
      "text/plain": "<Figure size 2000x300 with 1 Axes>",
      "image/png": "[encoded data removed]"
     },
     "metadata": {},
     "output_type": "display_data"
    }
   ],
   "source": [
    "import matplotlib.pyplot as plt\n",
    "data.groupby(data[\"timePeriod\"].dt.year).size().plot(kind=\"bar\", figsize=(20, 3))\n",
    "plt.title(\"Number of Entries per Year\")\n",
    "plt.xlabel(\"Decade\")\n",
    "plt.ylabel(\"Number of Entries\")\n",
    "plt.savefig(\"../diagramOutput/frequencyDistributionRawDocuments.png\", dpi=600, format='png', bbox_inches='tight')"
   ],
   "metadata": {
    "collapsed": false,
    "ExecuteTime": {
     "start_time": "2023-04-30T22:33:48.873190Z",
     "end_time": "2023-04-30T22:33:51.466501Z"
    }
   }
  },
  {
   "cell_type": "markdown",
   "source": [
    "## 4. BERTopic modelling\n",
    "### 4.1 Definition of model parameters"
   ],
   "metadata": {
    "collapsed": false
   }
  },
  {
   "cell_type": "code",
   "execution_count": 8,
   "outputs": [],
   "source": [
    "model = BERTopic(\n",
    "    umap_model=UMAP(n_neighbors=5, n_components=3, min_dist=0.0), #, low_memory=True), UMAP(n_neighbors=5, n_components=3, min_dist=0.0)\n",
    "    hdbscan_model=HDBSCAN(min_cluster_size=50, min_samples=5, prediction_data = True),\n",
    "    embedding_model=SentenceTransformer('all-MiniLM-L6-v2'),\n",
    "    vectorizer_model=CountVectorizer(ngram_range=(1, 2), stop_words='english'), #ngram_range=(1,2) -> ngram, 1 bis 2 wörter pro topic\n",
    "    top_n_words=5,\n",
    "    language='english',\n",
    "    calculate_probabilities=False, #True\n",
    "    verbose=True,\n",
    "    nr_topics=15 #auto\n",
    ")"
   ],
   "metadata": {
    "collapsed": false,
    "ExecuteTime": {
     "start_time": "2023-04-30T22:33:51.466501Z",
     "end_time": "2023-04-30T22:33:52.981681Z"
    }
   }
  },
  {
   "cell_type": "markdown",
   "source": [
    "### 4.2 process static topic modelling"
   ],
   "metadata": {
    "collapsed": false
   }
  },
  {
   "cell_type": "code",
   "execution_count": null,
   "outputs": [
    {
     "data": {
      "text/plain": "Batches:   0%|          | 0/721 [00:00<?, ?it/s]",
      "application/vnd.jupyter.widget-view+json": {
       "version_major": 2,
       "version_minor": 0,
       "model_id": "68b2c955f3d6456ebe0b53f4efe8c8d0"
      }
     },
     "metadata": {},
     "output_type": "display_data"
    }
   ],
   "source": [
    "topics, _ = model.fit_transform(data['content'])"
   ],
   "metadata": {
    "collapsed": false,
    "ExecuteTime": {
     "start_time": "2023-04-30T19:35:30.438559Z",
     "end_time": "2023-04-30T19:44:48.725183Z"
    },
    "pycharm": {
     "is_executing": true
    }
   }
  },
  {
   "cell_type": "markdown",
   "source": [
    "### 4.3 process dynamic topic modelling"
   ],
   "metadata": {
    "collapsed": false
   }
  },
  {
   "cell_type": "code",
   "execution_count": null,
   "outputs": [],
   "source": [
    "topics_over_time = model.topics_over_time(\n",
    "    data['content'],\n",
    "    data['timePeriod'],\n",
    "    global_tuning=True,\n",
    "    evolution_tuning=True,\n",
    "    nr_bins=20\n",
    ")"
   ],
   "metadata": {
    "collapsed": false,
    "ExecuteTime": {
     "start_time": "2023-04-30T22:09:38.524506Z",
     "end_time": "2023-04-30T22:13:10.015799Z"
    },
    "pycharm": {
     "is_executing": true
    }
   }
  },
  {
   "cell_type": "markdown",
   "source": [
    "## 5. Analyze\n",
    "### 5.1 Hierarchical Structure"
   ],
   "metadata": {
    "collapsed": false
   }
  },
  {
   "cell_type": "code",
   "execution_count": null,
   "outputs": [],
   "source": [
    "hierarchical_topics = model.hierarchical_topics(data['content'])\n",
    "tree = model.get_topic_tree(hierarchical_topics)\n",
    "print(tree)"
   ],
   "metadata": {
    "collapsed": false,
    "ExecuteTime": {
     "start_time": "2023-04-30T22:15:46.371137Z",
     "end_time": "2023-04-30T22:15:52.589270Z"
    },
    "pycharm": {
     "is_executing": true
    }
   }
  },
  {
   "cell_type": "code",
   "execution_count": null,
   "outputs": [],
   "source": [
    "fig = model.visualize_hierarchy(hierarchical_topics=hierarchical_topics, title='<b>Hierarchical Clustering</b>')\n",
    "fig.write_image(\"../diagramOutput/hierarchicalClustering.png\", engine='kaleido', scale=3, format='png')\n",
    "fig.show()"
   ],
   "metadata": {
    "collapsed": false,
    "ExecuteTime": {
     "start_time": "2023-04-30T22:15:52.540881Z",
     "end_time": "2023-04-30T22:15:53.960844Z"
    },
    "pycharm": {
     "is_executing": true
    }
   }
  },
  {
   "cell_type": "markdown",
   "source": [
    "### 5.2 Visualize found Topics"
   ],
   "metadata": {
    "collapsed": false
   }
  },
  {
   "cell_type": "code",
   "execution_count": null,
   "outputs": [],
   "source": [
    "fig = model.visualize_barchart(top_n_topics=50, n_words=5, title='<b>Top Word Scores</b>')\n",
    "fig.write_image(\"../diagramOutput/topicList.png\", engine=\"kaleido\", scale=3, format='png')\n",
    "fig.show()"
   ],
   "metadata": {
    "collapsed": false,
    "ExecuteTime": {
     "start_time": "2023-04-30T22:16:02.749707Z",
     "end_time": "2023-04-30T22:16:04.626346Z"
    },
    "pycharm": {
     "is_executing": true
    }
   }
  },
  {
   "cell_type": "markdown",
   "source": [
    "### 5.4 Visualize similarity between found topics"
   ],
   "metadata": {
    "collapsed": false
   }
  },
  {
   "cell_type": "code",
   "execution_count": null,
   "outputs": [],
   "source": [
    "model.visualize_heatmap()"
   ],
   "metadata": {
    "collapsed": false,
    "ExecuteTime": {
     "start_time": "2023-04-30T19:49:04.131125Z",
     "end_time": "2023-04-30T19:49:04.180847Z"
    },
    "pycharm": {
     "is_executing": true
    }
   }
  },
  {
   "cell_type": "markdown",
   "source": [
    "### 5.5 Visualize topics over time"
   ],
   "metadata": {
    "collapsed": false
   }
  },
  {
   "cell_type": "code",
   "execution_count": null,
   "outputs": [],
   "source": [
    "#model.visualize_topics_over_time(topics_over_time, top_n_topics=5)\n",
    "#model.visualize_topics_over_time(topics_over_time)\n",
    "\n",
    "fig = model.visualize_topics_over_time(topics_over_time, title='<b>Topics over Time</b>')\n",
    "fig.write_image(\"../diagramOutput/topicsOverTime.png\", engine=\"kaleido\", scale=3, format='png')\n",
    "fig.show()"
   ],
   "metadata": {
    "collapsed": false,
    "ExecuteTime": {
     "start_time": "2023-04-30T22:16:36.140889Z",
     "end_time": "2023-04-30T22:16:36.742510Z"
    },
    "pycharm": {
     "is_executing": true
    }
   }
  },
  {
   "cell_type": "code",
   "execution_count": null,
   "outputs": [],
   "source": [
    "for topic_id, topic_words in zip(topics_over_time['Topic'].unique(), topics_over_time['Words'].unique()):\n",
    "    topic_mask = [i == topic_id for i in topics_over_time['Topic']]\n",
    "    topic_df = topics_over_time[topic_mask]\n",
    "    fig = model.visualize_topics_over_time(topic_df, title=f'<b>Topic {topic_id}</b><br>{topic_words}</br>')\n",
    "\n",
    "    fig.write_image(f\"../diagramOutput/topic{topic_id}_over_time.png\", engine=\"kaleido\", scale=3, format='png')\n",
    "    fig.show()"
   ],
   "metadata": {
    "collapsed": false,
    "ExecuteTime": {
     "start_time": "2023-04-30T22:16:58.914463Z",
     "end_time": "2023-04-30T22:17:02.023146Z"
    },
    "pycharm": {
     "is_executing": true
    }
   }
  },
  {
   "cell_type": "code",
   "execution_count": null,
   "outputs": [],
   "source": [
    "for topic_id, topic_words in zip(topics_over_time['Topic'].unique(), topics_over_time['Words'].unique()):\n",
    "    topic_mask = [i == topic_id for i in topics_over_time['Topic']]\n",
    "    topic_df = topics_over_time[topic_mask]\n",
    "    fig = model.visualize_topics_over_time(topic_df,\n",
    "                                           title=f'<b>Topic {topic_id}</b><br>{topic_words}</br>')\n",
    "\n",
    "    fig.write_image(f\"../diagramOutput/topic{topic_id}_over_time.png\", engine=\"kaleido\", scale=3, format='png')\n",
    "    fig.show()\n"
   ],
   "metadata": {
    "collapsed": false,
    "ExecuteTime": {
     "start_time": "2023-04-30T22:20:39.773564Z",
     "end_time": "2023-04-30T22:20:42.587838Z"
    },
    "pycharm": {
     "is_executing": true
    }
   }
  },
  {
   "cell_type": "code",
   "execution_count": null,
   "outputs": [],
   "source": [
    "topics_over_time.tail()"
   ],
   "metadata": {
    "collapsed": false,
    "ExecuteTime": {
     "start_time": "2023-04-30T19:49:08.408508Z",
     "end_time": "2023-04-30T19:49:08.439734Z"
    },
    "pycharm": {
     "is_executing": true
    }
   }
  },
  {
   "cell_type": "code",
   "execution_count": null,
   "outputs": [],
   "source": [
    "fig = model.visualize_topics(title='<b>Intertopic Distance Map</b>')\n",
    "fig.write_image(\"../diagramOutput/intertopicDistanceMap.png\", engine=\"kaleido\", scale=3, format='png')\n",
    "fig.show()"
   ],
   "metadata": {
    "collapsed": false,
    "ExecuteTime": {
     "start_time": "2023-04-30T19:49:08.424135Z",
     "end_time": "2023-04-30T19:49:14.719605Z"
    },
    "pycharm": {
     "is_executing": true
    }
   }
  },
  {
   "cell_type": "markdown",
   "source": [
    "### 5.5 Visualize dimension reduced cluster"
   ],
   "metadata": {
    "collapsed": false
   }
  },
  {
   "cell_type": "code",
   "execution_count": null,
   "outputs": [],
   "source": [
    "import pandas as pd\n",
    "from umap import UMAP\n",
    "%matplotlib inline\n",
    "\n",
    "embeddings_vis = model._extract_embeddings(data['content'], method=\"document\")\n",
    "umap_model_vis = UMAP(n_neighbors=15, n_components=2, min_dist=0.1, metric='cosine').fit(embeddings_vis)\n",
    "df_vis = pd.DataFrame(umap_model_vis.embedding_, columns=[\"x\", \"y\"])\n",
    "df_vis[\"topic\"] = topics"
   ],
   "metadata": {
    "collapsed": false,
    "ExecuteTime": {
     "start_time": "2023-04-30T19:49:14.719605Z",
     "end_time": "2023-04-30T19:56:30.480349Z"
    },
    "pycharm": {
     "is_executing": true
    }
   }
  },
  {
   "cell_type": "code",
   "execution_count": null,
   "outputs": [],
   "source": [
    "%matplotlib inline\n",
    "\n",
    "# Plot parameters\n",
    "top_n = 10000\n",
    "fontsize = 5 #12\n",
    "\n",
    "to_plot = df_vis.copy()\n",
    "to_plot[df_vis.topic >= top_n] = -1\n",
    "outliers = to_plot.loc[to_plot.topic == -1]\n",
    "non_outliers = to_plot.loc[to_plot.topic != -1]\n",
    "\n",
    "n_topics = len(np.unique(topics))\n",
    "cmap = plt.get_cmap('hsv_r', n_topics)\n",
    "\n",
    "fig, ax = plt.subplots(figsize=(20, 10), facecolor='white')\n",
    "scatter_outliers = ax.scatter(outliers['x'], outliers['y'], c=\"#E0E0E0\", s=1, alpha=.3)\n",
    "scatter = ax.scatter(non_outliers['x'], non_outliers['y'], c=non_outliers['topic'], s=1, alpha=.3, cmap=cmap)\n",
    "\n",
    "ax.text(0.99, 0.01, f\"BERTopic - Top {top_n} topics\", transform=ax.transAxes, horizontalalignment=\"right\", color=\"black\")\n",
    "plt.xticks([], [])\n",
    "plt.yticks([], [])\n",
    "plt.colorbar(scatter)\n",
    "\n",
    "plt.savefig(\"../diagramOutput/cluster.png\", dpi=900, bbox_inches='tight')\n",
    "plt.show()"
   ],
   "metadata": {
    "collapsed": false,
    "ExecuteTime": {
     "start_time": "2023-04-30T19:56:30.483231Z",
     "end_time": "2023-04-30T19:56:38.595794Z"
    },
    "pycharm": {
     "is_executing": true
    }
   }
  },
  {
   "cell_type": "code",
   "execution_count": null,
   "outputs": [],
   "source": [
    "model.visualize_hierarchical_documents(data['content'], hierarchical_topics, embeddings=embeddings_vis)"
   ],
   "metadata": {
    "collapsed": false,
    "ExecuteTime": {
     "start_time": "2023-04-30T19:56:38.595794Z",
     "end_time": "2023-04-30T19:56:57.405504Z"
    },
    "pycharm": {
     "is_executing": true
    }
   }
  }
 ],
 "metadata": {
  "kernelspec": {
   "display_name": "Python 3",
   "language": "python",
   "name": "python3"
  },
  "language_info": {
   "codemirror_mode": {
    "name": "ipython",
    "version": 2
   },
   "file_extension": ".py",
   "mimetype": "text/x-python",
   "name": "python",
   "nbconvert_exporter": "python",
   "pygments_lexer": "ipython2",
   "version": "2.7.6"
  }
 },
 "nbformat": 4,
 "nbformat_minor": 0
}
