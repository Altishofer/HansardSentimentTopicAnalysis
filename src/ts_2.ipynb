{
 "cells": [
  {
   "cell_type": "code",
   "execution_count": 3,
   "outputs": [
    {
     "name": "stdout",
     "output_type": "stream",
     "text": [
      "<class 'pandas.core.frame.DataFrame'>\n",
      "RangeIndex: 755621 entries, 0 to 755620\n",
      "Data columns (total 3 columns):\n",
      " #   Column         Non-Null Count   Dtype \n",
      "---  ------         --------------   ----- \n",
      " 0   index          755621 non-null  int64 \n",
      " 1   timePeriod     755621 non-null  object\n",
      " 2   processedText  755621 non-null  object\n",
      "dtypes: int64(1), object(2)\n",
      "memory usage: 17.3+ MB\n"
     ]
    }
   ],
   "source": [
    "import pandas as pd\n",
    "\n",
    "reducedPapers = pd.read_csv(\n",
    "    \"../processedData/processedData.csv\",\n",
    "    sep=',',\n",
    "    index_col=0\n",
    ")\n",
    "reducedPapers.dropna(subset = ['processedText'], inplace = True, how='any')\n",
    "reducedPapers.reset_index(drop=True, inplace=True)\n",
    "reducedPapers.tail()\n",
    "reducedPapers.info()"
   ],
   "metadata": {
    "collapsed": false,
    "ExecuteTime": {
     "start_time": "2023-04-16T22:52:05.027176Z",
     "end_time": "2023-04-16T22:52:06.834127Z"
    }
   }
  },
  {
   "cell_type": "code",
   "execution_count": 4,
   "outputs": [
    {
     "data": {
      "text/plain": "Downloading (…)e9125/.gitattributes:   0%|          | 0.00/1.18k [00:00<?, ?B/s]",
      "application/vnd.jupyter.widget-view+json": {
       "version_major": 2,
       "version_minor": 0,
       "model_id": "bab4d53fe905481a9c52840473d49a1a"
      }
     },
     "metadata": {},
     "output_type": "display_data"
    },
    {
     "data": {
      "text/plain": "Downloading (…)_Pooling/config.json:   0%|          | 0.00/190 [00:00<?, ?B/s]",
      "application/vnd.jupyter.widget-view+json": {
       "version_major": 2,
       "version_minor": 0,
       "model_id": "0a28c572d02c47d7946b63d797eda355"
      }
     },
     "metadata": {},
     "output_type": "display_data"
    },
    {
     "data": {
      "text/plain": "Downloading (…)7e55de9125/README.md:   0%|          | 0.00/10.6k [00:00<?, ?B/s]",
      "application/vnd.jupyter.widget-view+json": {
       "version_major": 2,
       "version_minor": 0,
       "model_id": "fda1a2379eea4ba7a6b7e476a277ba29"
      }
     },
     "metadata": {},
     "output_type": "display_data"
    },
    {
     "data": {
      "text/plain": "Downloading (…)55de9125/config.json:   0%|          | 0.00/612 [00:00<?, ?B/s]",
      "application/vnd.jupyter.widget-view+json": {
       "version_major": 2,
       "version_minor": 0,
       "model_id": "ebe5a81d8c024002a8b42830ed72a8b5"
      }
     },
     "metadata": {},
     "output_type": "display_data"
    },
    {
     "data": {
      "text/plain": "Downloading (…)ce_transformers.json:   0%|          | 0.00/116 [00:00<?, ?B/s]",
      "application/vnd.jupyter.widget-view+json": {
       "version_major": 2,
       "version_minor": 0,
       "model_id": "f988fbadcf74400895b47ac8cfa0ede5"
      }
     },
     "metadata": {},
     "output_type": "display_data"
    },
    {
     "data": {
      "text/plain": "Downloading (…)125/data_config.json:   0%|          | 0.00/39.3k [00:00<?, ?B/s]",
      "application/vnd.jupyter.widget-view+json": {
       "version_major": 2,
       "version_minor": 0,
       "model_id": "edf61ef3d31f4a86a078cc0075122fcb"
      }
     },
     "metadata": {},
     "output_type": "display_data"
    },
    {
     "data": {
      "text/plain": "Downloading pytorch_model.bin:   0%|          | 0.00/90.9M [00:00<?, ?B/s]",
      "application/vnd.jupyter.widget-view+json": {
       "version_major": 2,
       "version_minor": 0,
       "model_id": "de46fac86c9d416c88244000212d943e"
      }
     },
     "metadata": {},
     "output_type": "display_data"
    },
    {
     "data": {
      "text/plain": "Downloading (…)nce_bert_config.json:   0%|          | 0.00/53.0 [00:00<?, ?B/s]",
      "application/vnd.jupyter.widget-view+json": {
       "version_major": 2,
       "version_minor": 0,
       "model_id": "ca1de92a68584e9490cc24c27a8368f3"
      }
     },
     "metadata": {},
     "output_type": "display_data"
    },
    {
     "data": {
      "text/plain": "Downloading (…)cial_tokens_map.json:   0%|          | 0.00/112 [00:00<?, ?B/s]",
      "application/vnd.jupyter.widget-view+json": {
       "version_major": 2,
       "version_minor": 0,
       "model_id": "a2c02ef0f06340948284f6db19a17dad"
      }
     },
     "metadata": {},
     "output_type": "display_data"
    },
    {
     "data": {
      "text/plain": "Downloading (…)e9125/tokenizer.json:   0%|          | 0.00/466k [00:00<?, ?B/s]",
      "application/vnd.jupyter.widget-view+json": {
       "version_major": 2,
       "version_minor": 0,
       "model_id": "2062e8802b284b72ae3cf77ec26f8a15"
      }
     },
     "metadata": {},
     "output_type": "display_data"
    },
    {
     "data": {
      "text/plain": "Downloading (…)okenizer_config.json:   0%|          | 0.00/350 [00:00<?, ?B/s]",
      "application/vnd.jupyter.widget-view+json": {
       "version_major": 2,
       "version_minor": 0,
       "model_id": "987c0c44802343a7b14fb553bf857b0d"
      }
     },
     "metadata": {},
     "output_type": "display_data"
    },
    {
     "data": {
      "text/plain": "Downloading (…)9125/train_script.py:   0%|          | 0.00/13.2k [00:00<?, ?B/s]",
      "application/vnd.jupyter.widget-view+json": {
       "version_major": 2,
       "version_minor": 0,
       "model_id": "b37c45d6dd9a45c39652a58a9265f8f9"
      }
     },
     "metadata": {},
     "output_type": "display_data"
    },
    {
     "data": {
      "text/plain": "Downloading (…)7e55de9125/vocab.txt:   0%|          | 0.00/232k [00:00<?, ?B/s]",
      "application/vnd.jupyter.widget-view+json": {
       "version_major": 2,
       "version_minor": 0,
       "model_id": "4022d59308894c139cf3e663e5e17417"
      }
     },
     "metadata": {},
     "output_type": "display_data"
    },
    {
     "data": {
      "text/plain": "Downloading (…)5de9125/modules.json:   0%|          | 0.00/349 [00:00<?, ?B/s]",
      "application/vnd.jupyter.widget-view+json": {
       "version_major": 2,
       "version_minor": 0,
       "model_id": "04f41cddb17948e1928760365e33cf5a"
      }
     },
     "metadata": {},
     "output_type": "display_data"
    }
   ],
   "source": [
    "from bertopic import BERTopic\n",
    "from sentence_transformers import SentenceTransformer\n",
    "from umap import UMAP\n",
    "from hdbscan import HDBSCAN\n",
    "from sklearn.feature_extraction.text import CountVectorizer\n",
    "\n",
    "model = BERTopic(\n",
    "    umap_model=UMAP(n_neighbors=5, n_components=3, min_dist=0.0), #, low_memory=True), UMAP(n_neighbors=5, n_components=3, min_dist=0.0)\n",
    "    hdbscan_model=HDBSCAN(min_cluster_size=50, min_samples=5, prediction_data = True),\n",
    "    embedding_model=SentenceTransformer('all-MiniLM-L6-v2'),\n",
    "    vectorizer_model=CountVectorizer(ngram_range=(1, 2), stop_words='english'), #ngram_range=(1,2) -> ngram, 1 bis 2 wörter pro topic\n",
    "    top_n_words=5,\n",
    "    language='english',\n",
    "    calculate_probabilities=False, #True\n",
    "    verbose=True,\n",
    "    nr_topics=\"auto\"\n",
    ")\n"
   ],
   "metadata": {
    "collapsed": false,
    "ExecuteTime": {
     "start_time": "2023-04-16T22:52:06.838123Z",
     "end_time": "2023-04-16T22:52:42.126536Z"
    }
   }
  },
  {
   "cell_type": "code",
   "execution_count": null,
   "outputs": [
    {
     "data": {
      "text/plain": "Batches:   0%|          | 0/23614 [00:00<?, ?it/s]",
      "application/vnd.jupyter.widget-view+json": {
       "version_major": 2,
       "version_minor": 0,
       "model_id": "7bdda20abea7469e86ba7a0fcae8ef7e"
      }
     },
     "metadata": {},
     "output_type": "display_data"
    }
   ],
   "source": [
    "import pickle\n",
    "reducedPapers.loc[:, 'processedText'] = reducedPapers['processedText'].astype(\"str\")\n",
    "topics, _ = model.fit_transform(reducedPapers['processedText'])"
   ],
   "metadata": {
    "collapsed": false,
    "ExecuteTime": {
     "start_time": "2023-04-10T21:22:43.662187Z",
     "end_time": "2023-04-10T21:33:17.156615Z"
    },
    "pycharm": {
     "is_executing": true
    }
   }
  },
  {
   "cell_type": "code",
   "execution_count": null,
   "outputs": [],
   "source": [
    "with open('../processedData/topics.pickle', 'wb') as f:\n",
    "    pickle.dump(topics, f)"
   ],
   "metadata": {
    "collapsed": false,
    "ExecuteTime": {
     "start_time": "2023-04-10T21:33:17.157617Z",
     "end_time": "2023-04-10T21:33:17.172008Z"
    },
    "pycharm": {
     "is_executing": true
    }
   }
  },
  {
   "cell_type": "code",
   "execution_count": null,
   "outputs": [],
   "source": [
    "hierarchical_topics = model.hierarchical_topics(reducedPapers['processedText'])\n",
    "tree = model.get_topic_tree(hierarchical_topics)\n",
    "print(tree)"
   ],
   "metadata": {
    "collapsed": false,
    "ExecuteTime": {
     "start_time": "2023-04-10T21:33:17.175310Z",
     "end_time": "2023-04-10T21:33:25.618731Z"
    },
    "pycharm": {
     "is_executing": true
    }
   }
  },
  {
   "cell_type": "code",
   "execution_count": null,
   "outputs": [],
   "source": [
    "fig = model.visualize_hierarchy(hierarchical_topics=hierarchical_topics, title='<b>Hierarchical Clustering</b>')\n",
    "fig.write_image(\"../diagramOutput/hierarchicalClustering.png\", engine=\"kaleido\", scale=3, format='png')\n",
    "fig.show()"
   ],
   "metadata": {
    "collapsed": false,
    "ExecuteTime": {
     "start_time": "2023-04-10T21:33:25.621730Z",
     "end_time": "2023-04-10T21:33:32.065024Z"
    },
    "pycharm": {
     "is_executing": true
    }
   }
  },
  {
   "cell_type": "code",
   "execution_count": null,
   "outputs": [],
   "source": [
    "model.visualize_heatmap()"
   ],
   "metadata": {
    "collapsed": false,
    "ExecuteTime": {
     "start_time": "2023-04-10T21:33:32.065024Z",
     "end_time": "2023-04-10T21:33:32.550254Z"
    },
    "pycharm": {
     "is_executing": true
    }
   }
  },
  {
   "cell_type": "code",
   "execution_count": null,
   "outputs": [],
   "source": [
    "import pickle\n",
    "with open('../processedData/topics.pickle', 'wb') as f:\n",
    "    pickle.dump(topics, f)"
   ],
   "metadata": {
    "collapsed": false,
    "ExecuteTime": {
     "start_time": "2023-04-10T21:33:32.550254Z",
     "end_time": "2023-04-10T21:33:32.550254Z"
    },
    "pycharm": {
     "is_executing": true
    }
   }
  },
  {
   "cell_type": "code",
   "execution_count": null,
   "outputs": [],
   "source": [
    "fig = model.visualize_barchart(top_n_topics=50, n_words=5, title='<b>Top Word Scores</b>')\n",
    "fig.write_image(\"../diagramOutput/topicList.png\", engine=\"kaleido\", scale=3, format='png')\n",
    "fig.show()"
   ],
   "metadata": {
    "collapsed": false,
    "ExecuteTime": {
     "start_time": "2023-04-10T21:33:32.550254Z",
     "end_time": "2023-04-10T21:33:34.650879Z"
    },
    "pycharm": {
     "is_executing": true
    }
   }
  },
  {
   "cell_type": "code",
   "execution_count": null,
   "outputs": [],
   "source": [
    "topics_over_time = model.topics_over_time(reducedPapers['processedText'],\n",
    "                                                reducedPapers['timePeriod'],\n",
    "                                                global_tuning=True,\n",
    "                                              evolution_tuning=True,\n",
    "                                                nr_bins=20)\n",
    "\n",
    "with open('../processedData/topics_over_time.pickle', 'wb') as f:\n",
    "    pickle.dump(topics_over_time, f)"
   ],
   "metadata": {
    "collapsed": false,
    "ExecuteTime": {
     "start_time": "2023-04-10T21:33:34.650879Z",
     "end_time": "2023-04-10T21:37:16.725136Z"
    },
    "pycharm": {
     "is_executing": true
    }
   }
  },
  {
   "cell_type": "code",
   "execution_count": null,
   "outputs": [],
   "source": [
    "#model.visualize_topics_over_time(topics_over_time, top_n_topics=5)\n",
    "model.visualize_topics_over_time(topics_over_time)\n",
    "\n",
    "fig = model.visualize_topics_over_time(topics_over_time, title='<b>Topics over Time</b>')\n",
    "fig.write_image(\"../diagramOutput/topicsOverTime.png\", engine=\"kaleido\", scale=3, format='png')\n",
    "fig.show()\n"
   ],
   "metadata": {
    "collapsed": false,
    "ExecuteTime": {
     "start_time": "2023-04-10T21:37:16.725136Z",
     "end_time": "2023-04-10T21:37:19.142811Z"
    },
    "pycharm": {
     "is_executing": true
    }
   }
  },
  {
   "cell_type": "code",
   "execution_count": null,
   "outputs": [],
   "source": [
    "fig = model.visualize_topics(title='<b>Intertopic Distance Map</b>')\n",
    "fig.write_image(\"../diagramOutput/intertopicDistanceMap.png\", engine=\"kaleido\", scale=3, format='png')\n",
    "fig.show()"
   ],
   "metadata": {
    "collapsed": false,
    "ExecuteTime": {
     "start_time": "2023-04-10T21:37:19.142811Z",
     "end_time": "2023-04-10T21:38:11.069459Z"
    },
    "pycharm": {
     "is_executing": true
    }
   }
  },
  {
   "cell_type": "code",
   "execution_count": null,
   "outputs": [],
   "source": [
    "similarWords = (\n",
    "    \"king \"\n",
    "    \"queen \"\n",
    "    \"royalty \"\n",
    "    \"majesty \"\n",
    "    \"crown \"\n",
    "    \"prince \"\n",
    "    \"princess \"\n",
    ")"
   ],
   "metadata": {
    "collapsed": false,
    "ExecuteTime": {
     "start_time": "2023-04-10T21:38:11.069459Z",
     "end_time": "2023-04-10T21:38:11.069459Z"
    },
    "pycharm": {
     "is_executing": true
    }
   }
  },
  {
   "cell_type": "code",
   "execution_count": null,
   "outputs": [],
   "source": [
    "similar_topics, similarity = model.find_topics(similarWords)\n",
    "print(similar_topics)"
   ],
   "metadata": {
    "collapsed": false,
    "ExecuteTime": {
     "start_time": "2023-04-10T21:38:11.069459Z",
     "end_time": "2023-04-10T21:38:11.247225Z"
    },
    "pycharm": {
     "is_executing": true
    }
   }
  },
  {
   "cell_type": "code",
   "execution_count": null,
   "outputs": [],
   "source": [
    "model.get_topic(similar_topics[0])"
   ],
   "metadata": {
    "collapsed": false,
    "ExecuteTime": {
     "start_time": "2023-04-10T21:38:11.247225Z",
     "end_time": "2023-04-10T21:38:11.345352Z"
    },
    "pycharm": {
     "is_executing": true
    }
   }
  },
  {
   "cell_type": "code",
   "execution_count": null,
   "outputs": [],
   "source": [
    "fig = model.visualize_topics_over_time(topics_over_time, title='<b>Topics over Time</b>', topics=similar_topics)\n",
    "fig.write_image(\"../diagramOutput/topicsOverTimeReduced.png\", engine=\"kaleido\", scale=3, format='png')\n",
    "fig.show()"
   ],
   "metadata": {
    "collapsed": false,
    "ExecuteTime": {
     "start_time": "2023-04-10T21:38:11.263323Z",
     "end_time": "2023-04-10T21:38:11.763723Z"
    },
    "pycharm": {
     "is_executing": true
    }
   }
  },
  {
   "cell_type": "code",
   "execution_count": null,
   "outputs": [],
   "source": [
    "import pandas as pd\n",
    "from umap import UMAP\n",
    "%matplotlib inline\n",
    "\n",
    "embeddings_vis = model._extract_embeddings(reducedPapers['processedText'], method=\"document\")\n",
    "umap_model_vis = UMAP(n_neighbors=15, n_components=2, min_dist=0.1, metric='cosine').fit(embeddings_vis)\n",
    "df_vis = pd.DataFrame(umap_model_vis.embedding_, columns=[\"x\", \"y\"])\n",
    "df_vis[\"topic\"] = topics"
   ],
   "metadata": {
    "collapsed": false,
    "ExecuteTime": {
     "start_time": "2023-04-10T21:38:11.763723Z",
     "end_time": "2023-04-10T21:46:05.201130Z"
    },
    "pycharm": {
     "is_executing": true
    }
   }
  },
  {
   "cell_type": "code",
   "execution_count": null,
   "outputs": [],
   "source": [
    "import numpy as np\n",
    "import matplotlib.pyplot as plt\n",
    "%matplotlib inline\n",
    "\n",
    "# Plot parameters\n",
    "topicsNotToDisplay = [i for i in range(0, len(np.unique(topics))) if i not in similar_topics]\n",
    "fontsize = 5 #12\n",
    "\n",
    "to_plot = df_vis.copy()\n",
    "#to_plot[df_vis.topic >= top_n] = -1\n",
    "for tp in topicsNotToDisplay:\n",
    "    to_plot.loc[to_plot.topic == tp, 'topic'] = -1\n",
    "\n",
    "outliers = to_plot.loc[to_plot.topic == -1]\n",
    "non_outliers = to_plot.loc[to_plot.topic != -1]\n",
    "\n",
    "n_topics = len(np.unique(topics))\n",
    "cmap = plt.get_cmap('hsv_r', n_topics)\n",
    "\n",
    "fig, ax = plt.subplots(figsize=(20, 10), facecolor='white')\n",
    "scatter_outliers = ax.scatter(outliers['x'], outliers['y'], c=\"#E0E0E0\", s=1, alpha=.3)\n",
    "scatter = ax.scatter(non_outliers['x'], non_outliers['y'], c=non_outliers['topic'], s=1, alpha=.3, cmap=cmap)\n",
    "\n",
    "centroids = to_plot.groupby(\"topic\").mean().reset_index().iloc[1:]\n",
    "for row in centroids.iterrows():\n",
    "   topic = int(row[1].topic)\n",
    "   text = f\"{topic}: \" + \"_\".join([x[0] for x in model.get_topic(topic)[:5]])\n",
    "   ax.text(row[1].x, row[1].y*1.01, text, fontsize=fontsize, horizontalalignment='center')\n",
    "\n",
    "ax.text(0.99, 0.01, f\"BERTopic - topics\", transform=ax.transAxes, horizontalalignment=\"right\", color=\"black\")\n",
    "plt.xticks([], [])\n",
    "plt.yticks([], [])\n",
    "plt.colorbar(scatter)\n",
    "\n",
    "plt.savefig(\"../diagramOutput/clusterSelected.png\", dpi=900, bbox_inches='tight')\n",
    "plt.show()"
   ],
   "metadata": {
    "collapsed": false,
    "ExecuteTime": {
     "start_time": "2023-04-10T21:46:05.201130Z",
     "end_time": "2023-04-10T21:46:11.439021Z"
    },
    "pycharm": {
     "is_executing": true
    }
   }
  },
  {
   "cell_type": "code",
   "execution_count": null,
   "outputs": [],
   "source": [
    "import numpy as np\n",
    "import matplotlib.pyplot as plt\n",
    "%matplotlib inline\n",
    "\n",
    "# Plot parameters\n",
    "top_n = 50\n",
    "fontsize = 5 #12\n",
    "\n",
    "to_plot = df_vis.copy()\n",
    "to_plot[df_vis.topic >= top_n] = -1\n",
    "outliers = to_plot.loc[to_plot.topic == -1]\n",
    "non_outliers = to_plot.loc[to_plot.topic != -1]\n",
    "\n",
    "n_topics = len(np.unique(topics))\n",
    "cmap = plt.get_cmap('hsv_r', n_topics)\n",
    "\n",
    "fig, ax = plt.subplots(figsize=(20, 10), facecolor='white')\n",
    "scatter_outliers = ax.scatter(outliers['x'], outliers['y'], c=\"#E0E0E0\", s=1, alpha=.3)\n",
    "scatter = ax.scatter(non_outliers['x'], non_outliers['y'], c=non_outliers['topic'], s=1, alpha=.3, cmap=cmap)\n",
    "\n",
    "centroids = to_plot.groupby(\"topic\").mean().reset_index().iloc[1:]\n",
    "for row in centroids.iterrows():\n",
    "   topic = int(row[1].topic)\n",
    "   text = f\"{topic}: \" + \"_\".join([x[0] for x in model.get_topic(topic)[:2]])\n",
    "   ax.text(row[1].x, row[1].y*1.01, text, fontsize=fontsize, horizontalalignment='center')\n",
    "\n",
    "ax.text(0.99, 0.01, f\"BERTopic - Top {top_n} topics\", transform=ax.transAxes, horizontalalignment=\"right\", color=\"black\")\n",
    "plt.xticks([], [])\n",
    "plt.yticks([], [])\n",
    "plt.colorbar(scatter)\n",
    "\n",
    "plt.savefig(\"../diagramOutput/cluster.png\", dpi=900, bbox_inches='tight')\n",
    "plt.show()"
   ],
   "metadata": {
    "collapsed": false,
    "ExecuteTime": {
     "start_time": "2023-04-10T21:46:11.439021Z",
     "end_time": "2023-04-10T21:46:19.433999Z"
    },
    "pycharm": {
     "is_executing": true
    }
   }
  },
  {
   "cell_type": "code",
   "execution_count": null,
   "outputs": [],
   "source": [
    "#model.visualize_hierarchical_documents(reducedPapers['processedText'], hierarchical_topics, embeddings=embeddings_vis)"
   ],
   "metadata": {
    "collapsed": false,
    "ExecuteTime": {
     "start_time": "2023-04-10T21:46:19.439268Z",
     "end_time": "2023-04-10T21:47:21.345962Z"
    },
    "pycharm": {
     "is_executing": true
    }
   }
  },
  {
   "cell_type": "code",
   "execution_count": null,
   "outputs": [],
   "source": [
    "# = UMAP(n_neighbors=10, n_components=2, min_dist=0.0, metric='cosine').fit_transform(embeddings_vis)\n",
    "#model.visualize_hierarchical_documents(reducedPapers['processedText'], hierarchical_topics, reduced_embeddings=reduced_embeddings)"
   ],
   "metadata": {
    "collapsed": false,
    "ExecuteTime": {
     "start_time": "2023-04-10T20:07:18.626866Z",
     "end_time": "2023-04-10T20:07:27.614244Z"
    },
    "pycharm": {
     "is_executing": true
    }
   }
  },
  {
   "cell_type": "code",
   "execution_count": null,
   "outputs": [],
   "source": [],
   "metadata": {
    "collapsed": false,
    "ExecuteTime": {
     "start_time": "2023-04-10T20:07:28.234451Z",
     "end_time": "2023-04-10T20:07:28.234451Z"
    },
    "pycharm": {
     "is_executing": true
    }
   }
  }
 ],
 "metadata": {
  "kernelspec": {
   "display_name": "Python 3",
   "language": "python",
   "name": "python3"
  },
  "language_info": {
   "codemirror_mode": {
    "name": "ipython",
    "version": 2
   },
   "file_extension": ".py",
   "mimetype": "text/x-python",
   "name": "python",
   "nbconvert_exporter": "python",
   "pygments_lexer": "ipython2",
   "version": "2.7.6"
  }
 },
 "nbformat": 4,
 "nbformat_minor": 0
}
