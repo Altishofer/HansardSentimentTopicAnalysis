{
 "cells": [
  {
   "cell_type": "code",
   "execution_count": 4,
   "metadata": {
    "collapsed": true,
    "ExecuteTime": {
     "start_time": "2023-04-09T18:05:17.588054Z",
     "end_time": "2023-04-09T18:05:18.011999Z"
    }
   },
   "outputs": [
    {
     "data": {
      "text/plain": "   Unnamed: 0  timePeriod  index   \n0           0  1800-01-01      1  \\\n1           1  1800-01-01      2   \n2           2  1800-01-01      3   \n3           3  1800-01-01      4   \n4           4  1800-01-01      5   \n\n                                             rawText   \n0                               The_DT hon_NN ._SENT  \\\n1  The_DT gallant_JJ general_NN who_WP commanded_...   \n2  But_CC ,_, Mr._NP Pitt_NP said_VBD ,_, he_PP d...   \n3  And_CC Dr._NP Hussey_NP ,_, who_WP informs_VBZ...   \n4  In_IN former_JJ times_NNS and_CC in_IN former_...   \n\n                                       processedText  \n0                                                hon  \n1  gallant general commanded well knew reinforcem...  \n2  pitt said doubted whether would necessary inse...  \n3  hussey informs u romish bishop waterford appoi...  \n4  former time former war invasion often threaten...  ",
      "text/html": "<div>\n<style scoped>\n    .dataframe tbody tr th:only-of-type {\n        vertical-align: middle;\n    }\n\n    .dataframe tbody tr th {\n        vertical-align: top;\n    }\n\n    .dataframe thead th {\n        text-align: right;\n    }\n</style>\n<table border=\"1\" class=\"dataframe\">\n  <thead>\n    <tr style=\"text-align: right;\">\n      <th></th>\n      <th>Unnamed: 0</th>\n      <th>timePeriod</th>\n      <th>index</th>\n      <th>rawText</th>\n      <th>processedText</th>\n    </tr>\n  </thead>\n  <tbody>\n    <tr>\n      <th>0</th>\n      <td>0</td>\n      <td>1800-01-01</td>\n      <td>1</td>\n      <td>The_DT hon_NN ._SENT</td>\n      <td>hon</td>\n    </tr>\n    <tr>\n      <th>1</th>\n      <td>1</td>\n      <td>1800-01-01</td>\n      <td>2</td>\n      <td>The_DT gallant_JJ general_NN who_WP commanded_...</td>\n      <td>gallant general commanded well knew reinforcem...</td>\n    </tr>\n    <tr>\n      <th>2</th>\n      <td>2</td>\n      <td>1800-01-01</td>\n      <td>3</td>\n      <td>But_CC ,_, Mr._NP Pitt_NP said_VBD ,_, he_PP d...</td>\n      <td>pitt said doubted whether would necessary inse...</td>\n    </tr>\n    <tr>\n      <th>3</th>\n      <td>3</td>\n      <td>1800-01-01</td>\n      <td>4</td>\n      <td>And_CC Dr._NP Hussey_NP ,_, who_WP informs_VBZ...</td>\n      <td>hussey informs u romish bishop waterford appoi...</td>\n    </tr>\n    <tr>\n      <th>4</th>\n      <td>4</td>\n      <td>1800-01-01</td>\n      <td>5</td>\n      <td>In_IN former_JJ times_NNS and_CC in_IN former_...</td>\n      <td>former time former war invasion often threaten...</td>\n    </tr>\n  </tbody>\n</table>\n</div>"
     },
     "execution_count": 4,
     "metadata": {},
     "output_type": "execute_result"
    }
   ],
   "source": [
    "import np as np\n",
    "import pandas as pd\n",
    "\n",
    "reducedPapers = pd.read_csv(\n",
    "    \"../processedData/processedData.csv\",\n",
    "    sep=','\n",
    ")\n",
    "reducedPapers.head()"
   ]
  },
  {
   "cell_type": "code",
   "execution_count": 5,
   "outputs": [
    {
     "data": {
      "text/plain": "Batches:   0%|          | 0/682 [00:00<?, ?it/s]",
      "application/vnd.jupyter.widget-view+json": {
       "version_major": 2,
       "version_minor": 0,
       "model_id": "dada494fbc204956a1b7ff4a18d56a0c"
      }
     },
     "metadata": {},
     "output_type": "display_data"
    }
   ],
   "source": [
    "import numpy as np\n",
    "from sentence_transformers import SentenceTransformer\n",
    "\n",
    "reducedPapers.loc[:, 'processedText'] = reducedPapers['processedText'].astype(\"str\")\n",
    "\n",
    "model = SentenceTransformer('distilbert-base-nli-mean-tokens')\n",
    "\n",
    "embeddings = model.encode(reducedPapers['processedText'], show_progress_bar=True)\n",
    "\n",
    "np.save('../processedData/embeddings.npy', embeddings)"
   ],
   "metadata": {
    "collapsed": false,
    "ExecuteTime": {
     "start_time": "2023-04-09T18:05:21.369856Z",
     "end_time": "2023-04-09T18:11:12.237941Z"
    }
   }
  },
  {
   "cell_type": "code",
   "execution_count": 7,
   "outputs": [],
   "source": [
    "import numpy as np\n",
    "embeddings = np.load('../processedData/embeddings.npy')"
   ],
   "metadata": {
    "collapsed": false,
    "ExecuteTime": {
     "start_time": "2023-04-09T18:14:50.805858Z",
     "end_time": "2023-04-09T18:14:50.964944Z"
    }
   }
  },
  {
   "cell_type": "code",
   "execution_count": null,
   "outputs": [],
   "source": [
    "import umap\n",
    "umap_embeddings = umap.UMAP(n_neighbors=15,\n",
    "                            n_components=5,\n",
    "                            metric='cosine'\n",
    "                            ).fit_transform(embeddings)"
   ],
   "metadata": {
    "collapsed": false
   }
  },
  {
   "cell_type": "code",
   "execution_count": null,
   "outputs": [],
   "source": [],
   "metadata": {
    "collapsed": false
   }
  },
  {
   "cell_type": "code",
   "execution_count": null,
   "outputs": [],
   "source": [],
   "metadata": {
    "collapsed": false
   }
  },
  {
   "cell_type": "code",
   "execution_count": null,
   "outputs": [],
   "source": [],
   "metadata": {
    "collapsed": false
   }
  },
  {
   "cell_type": "code",
   "execution_count": null,
   "outputs": [],
   "source": [],
   "metadata": {
    "collapsed": false
   }
  },
  {
   "cell_type": "code",
   "execution_count": null,
   "outputs": [],
   "source": [],
   "metadata": {
    "collapsed": false
   }
  }
 ],
 "metadata": {
  "kernelspec": {
   "display_name": "Python 3",
   "language": "python",
   "name": "python3"
  },
  "language_info": {
   "codemirror_mode": {
    "name": "ipython",
    "version": 2
   },
   "file_extension": ".py",
   "mimetype": "text/x-python",
   "name": "python",
   "nbconvert_exporter": "python",
   "pygments_lexer": "ipython2",
   "version": "2.7.6"
  }
 },
 "nbformat": 4,
 "nbformat_minor": 0
}
