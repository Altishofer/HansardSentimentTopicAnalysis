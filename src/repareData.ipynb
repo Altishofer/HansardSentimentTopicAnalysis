{
 "cells": [
  {
   "cell_type": "code",
   "execution_count": 30,
   "metadata": {
    "collapsed": true,
    "ExecuteTime": {
     "start_time": "2023-04-10T21:50:40.242552Z",
     "end_time": "2023-04-10T21:50:40.939299Z"
    }
   },
   "outputs": [
    {
     "data": {
      "text/plain": "      timePeriod  index                                            rawText\n0  180X.POS.rand      1                               The_DT hon_NN ._SENT\n1  180X.POS.rand      2  The_DT gallant_JJ general_NN who_WP commanded_...\n2  180X.POS.rand      3  But_CC ,_, Mr._NP Pitt_NP said_VBD ,_, he_PP d...\n3  180X.POS.rand      4  And_CC Dr._NP Hussey_NP ,_, who_WP informs_VBZ...\n4  180X.POS.rand      5  In_IN former_JJ times_NNS and_CC in_IN former_...",
      "text/html": "<div>\n<style scoped>\n    .dataframe tbody tr th:only-of-type {\n        vertical-align: middle;\n    }\n\n    .dataframe tbody tr th {\n        vertical-align: top;\n    }\n\n    .dataframe thead th {\n        text-align: right;\n    }\n</style>\n<table border=\"1\" class=\"dataframe\">\n  <thead>\n    <tr style=\"text-align: right;\">\n      <th></th>\n      <th>timePeriod</th>\n      <th>index</th>\n      <th>rawText</th>\n    </tr>\n  </thead>\n  <tbody>\n    <tr>\n      <th>0</th>\n      <td>180X.POS.rand</td>\n      <td>1</td>\n      <td>The_DT hon_NN ._SENT</td>\n    </tr>\n    <tr>\n      <th>1</th>\n      <td>180X.POS.rand</td>\n      <td>2</td>\n      <td>The_DT gallant_JJ general_NN who_WP commanded_...</td>\n    </tr>\n    <tr>\n      <th>2</th>\n      <td>180X.POS.rand</td>\n      <td>3</td>\n      <td>But_CC ,_, Mr._NP Pitt_NP said_VBD ,_, he_PP d...</td>\n    </tr>\n    <tr>\n      <th>3</th>\n      <td>180X.POS.rand</td>\n      <td>4</td>\n      <td>And_CC Dr._NP Hussey_NP ,_, who_WP informs_VBZ...</td>\n    </tr>\n    <tr>\n      <th>4</th>\n      <td>180X.POS.rand</td>\n      <td>5</td>\n      <td>In_IN former_JJ times_NNS and_CC in_IN former_...</td>\n    </tr>\n  </tbody>\n</table>\n</div>"
     },
     "execution_count": 30,
     "metadata": {},
     "output_type": "execute_result"
    }
   ],
   "source": [
    "import pandas as pd\n",
    "import os\n",
    "\n",
    "papers = pd.read_csv(\n",
    "    \"../rawData/sampler_10ktexts_perdecade.ALL2.tsv\",\n",
    "    sep='\\t',\n",
    "    names=[\"timePeriod\", \"index\", \"rawText\"]\n",
    ")\n",
    "\n",
    "papers.head()"
   ]
  },
  {
   "cell_type": "code",
   "execution_count": 31,
   "outputs": [
    {
     "data": {
      "text/plain": "  timePeriod  index                                            rawText\n0       1800      1                               The_DT hon_NN ._SENT\n1       1800      2  The_DT gallant_JJ general_NN who_WP commanded_...\n2       1800      3  But_CC ,_, Mr._NP Pitt_NP said_VBD ,_, he_PP d...\n3       1800      4  And_CC Dr._NP Hussey_NP ,_, who_WP informs_VBZ...\n4       1800      5  In_IN former_JJ times_NNS and_CC in_IN former_...",
      "text/html": "<div>\n<style scoped>\n    .dataframe tbody tr th:only-of-type {\n        vertical-align: middle;\n    }\n\n    .dataframe tbody tr th {\n        vertical-align: top;\n    }\n\n    .dataframe thead th {\n        text-align: right;\n    }\n</style>\n<table border=\"1\" class=\"dataframe\">\n  <thead>\n    <tr style=\"text-align: right;\">\n      <th></th>\n      <th>timePeriod</th>\n      <th>index</th>\n      <th>rawText</th>\n    </tr>\n  </thead>\n  <tbody>\n    <tr>\n      <th>0</th>\n      <td>1800</td>\n      <td>1</td>\n      <td>The_DT hon_NN ._SENT</td>\n    </tr>\n    <tr>\n      <th>1</th>\n      <td>1800</td>\n      <td>2</td>\n      <td>The_DT gallant_JJ general_NN who_WP commanded_...</td>\n    </tr>\n    <tr>\n      <th>2</th>\n      <td>1800</td>\n      <td>3</td>\n      <td>But_CC ,_, Mr._NP Pitt_NP said_VBD ,_, he_PP d...</td>\n    </tr>\n    <tr>\n      <th>3</th>\n      <td>1800</td>\n      <td>4</td>\n      <td>And_CC Dr._NP Hussey_NP ,_, who_WP informs_VBZ...</td>\n    </tr>\n    <tr>\n      <th>4</th>\n      <td>1800</td>\n      <td>5</td>\n      <td>In_IN former_JJ times_NNS and_CC in_IN former_...</td>\n    </tr>\n  </tbody>\n</table>\n</div>"
     },
     "execution_count": 31,
     "metadata": {},
     "output_type": "execute_result"
    }
   ],
   "source": [
    "papers['timePeriod'] = papers['timePeriod'].map(lambda x: x.rstrip('X.POS.rand'))\n",
    "papers['timePeriod'] = papers['timePeriod'].astype(str) + '0'\n",
    "papers.head()"
   ],
   "metadata": {
    "collapsed": false,
    "ExecuteTime": {
     "start_time": "2023-04-10T21:50:40.950201Z",
     "end_time": "2023-04-10T21:50:41.120591Z"
    }
   }
  },
  {
   "cell_type": "code",
   "execution_count": 32,
   "outputs": [
    {
     "data": {
      "text/plain": "  timePeriod  index                                            rawText\n0 1800-01-01      1                               The_DT hon_NN ._SENT\n1 1800-01-01      2  The_DT gallant_JJ general_NN who_WP commanded_...\n2 1800-01-01      3  But_CC ,_, Mr._NP Pitt_NP said_VBD ,_, he_PP d...\n3 1800-01-01      4  And_CC Dr._NP Hussey_NP ,_, who_WP informs_VBZ...\n4 1800-01-01      5  In_IN former_JJ times_NNS and_CC in_IN former_...",
      "text/html": "<div>\n<style scoped>\n    .dataframe tbody tr th:only-of-type {\n        vertical-align: middle;\n    }\n\n    .dataframe tbody tr th {\n        vertical-align: top;\n    }\n\n    .dataframe thead th {\n        text-align: right;\n    }\n</style>\n<table border=\"1\" class=\"dataframe\">\n  <thead>\n    <tr style=\"text-align: right;\">\n      <th></th>\n      <th>timePeriod</th>\n      <th>index</th>\n      <th>rawText</th>\n    </tr>\n  </thead>\n  <tbody>\n    <tr>\n      <th>0</th>\n      <td>1800-01-01</td>\n      <td>1</td>\n      <td>The_DT hon_NN ._SENT</td>\n    </tr>\n    <tr>\n      <th>1</th>\n      <td>1800-01-01</td>\n      <td>2</td>\n      <td>The_DT gallant_JJ general_NN who_WP commanded_...</td>\n    </tr>\n    <tr>\n      <th>2</th>\n      <td>1800-01-01</td>\n      <td>3</td>\n      <td>But_CC ,_, Mr._NP Pitt_NP said_VBD ,_, he_PP d...</td>\n    </tr>\n    <tr>\n      <th>3</th>\n      <td>1800-01-01</td>\n      <td>4</td>\n      <td>And_CC Dr._NP Hussey_NP ,_, who_WP informs_VBZ...</td>\n    </tr>\n    <tr>\n      <th>4</th>\n      <td>1800-01-01</td>\n      <td>5</td>\n      <td>In_IN former_JJ times_NNS and_CC in_IN former_...</td>\n    </tr>\n  </tbody>\n</table>\n</div>"
     },
     "execution_count": 32,
     "metadata": {},
     "output_type": "execute_result"
    }
   ],
   "source": [
    "papers['timePeriod'] = pd.to_datetime(papers['timePeriod'], format='%Y')\n",
    "papers['timePeriod'] = pd.DatetimeIndex(papers['timePeriod']) #.year\n",
    "papers.head()"
   ],
   "metadata": {
    "collapsed": false,
    "ExecuteTime": {
     "start_time": "2023-04-10T21:50:41.038677Z",
     "end_time": "2023-04-10T21:50:41.120591Z"
    }
   }
  },
  {
   "cell_type": "code",
   "execution_count": 33,
   "outputs": [
    {
     "data": {
      "text/plain": "       timePeriod  index                                            rawText\n161524 2000-01-01   9996              I_PP am_VBP rather_RB lost_VBN ._SENT\n161525 2000-01-01   9997  <lb/> We_PP cannot_MD have_VB that_DT argument...\n161526 2000-01-01   9998          What_WP would_MD happen_VB next_JJ ?_SENT\n161527 2000-01-01   9999  Here_RB again_RB ,_, I_PP exempt_VBP my_PP$ no...\n161528 2000-01-01  10000  Miss_NP Ann_NP Widdecombe_NP <memberconstituen...",
      "text/html": "<div>\n<style scoped>\n    .dataframe tbody tr th:only-of-type {\n        vertical-align: middle;\n    }\n\n    .dataframe tbody tr th {\n        vertical-align: top;\n    }\n\n    .dataframe thead th {\n        text-align: right;\n    }\n</style>\n<table border=\"1\" class=\"dataframe\">\n  <thead>\n    <tr style=\"text-align: right;\">\n      <th></th>\n      <th>timePeriod</th>\n      <th>index</th>\n      <th>rawText</th>\n    </tr>\n  </thead>\n  <tbody>\n    <tr>\n      <th>161524</th>\n      <td>2000-01-01</td>\n      <td>9996</td>\n      <td>I_PP am_VBP rather_RB lost_VBN ._SENT</td>\n    </tr>\n    <tr>\n      <th>161525</th>\n      <td>2000-01-01</td>\n      <td>9997</td>\n      <td>&lt;lb/&gt; We_PP cannot_MD have_VB that_DT argument...</td>\n    </tr>\n    <tr>\n      <th>161526</th>\n      <td>2000-01-01</td>\n      <td>9998</td>\n      <td>What_WP would_MD happen_VB next_JJ ?_SENT</td>\n    </tr>\n    <tr>\n      <th>161527</th>\n      <td>2000-01-01</td>\n      <td>9999</td>\n      <td>Here_RB again_RB ,_, I_PP exempt_VBP my_PP$ no...</td>\n    </tr>\n    <tr>\n      <th>161528</th>\n      <td>2000-01-01</td>\n      <td>10000</td>\n      <td>Miss_NP Ann_NP Widdecombe_NP &lt;memberconstituen...</td>\n    </tr>\n  </tbody>\n</table>\n</div>"
     },
     "execution_count": 33,
     "metadata": {},
     "output_type": "execute_result"
    }
   ],
   "source": [
    "#reducedPapers = papers[papers[\"timePeriod\"].isin(pd.date_range(\"1800-01-01\", \"1830-01-01\"))]\n",
    "#reducedPapers = papers[papers[\"timePeriod\"].isin(pd.date_range(\"1800-01-01\", \"1890-01-01\"))]\n",
    "#reducedPapers = papers[papers[\"timePeriod\"].isin(pd.date_range(\"1800-01-01\", \"1820-01-01\"))]\n",
    "\n",
    "#reducedPapers = papers.groupby(\"timePeriod\").sample(frac=0.5, random_state=42)\n",
    "reducedPapers = papers\n",
    "reducedPapers.tail()\n",
    "#reducedPapers.tail()"
   ],
   "metadata": {
    "collapsed": false,
    "ExecuteTime": {
     "start_time": "2023-04-10T21:50:41.102487Z",
     "end_time": "2023-04-10T21:50:41.413355Z"
    }
   }
  },
  {
   "cell_type": "code",
   "execution_count": 34,
   "outputs": [
    {
     "name": "stderr",
     "output_type": "stream",
     "text": [
      "[nltk_data] Downloading package stopwords to\n",
      "[nltk_data]     C:\\Users\\sandr\\AppData\\Roaming\\nltk_data...\n",
      "[nltk_data]   Package stopwords is already up-to-date!\n",
      "[nltk_data] Downloading package wordnet to\n",
      "[nltk_data]     C:\\Users\\sandr\\AppData\\Roaming\\nltk_data...\n",
      "[nltk_data]   Package wordnet is already up-to-date!\n",
      "[nltk_data] Downloading package punkt to\n",
      "[nltk_data]     C:\\Users\\sandr\\AppData\\Roaming\\nltk_data...\n",
      "[nltk_data]   Package punkt is already up-to-date!\n"
     ]
    },
    {
     "name": "stdout",
     "output_type": "stream",
     "text": [
      "<class 'pandas.core.frame.DataFrame'>\n",
      "RangeIndex: 161529 entries, 0 to 161528\n",
      "Data columns (total 4 columns):\n",
      " #   Column         Non-Null Count   Dtype         \n",
      "---  ------         --------------   -----         \n",
      " 0   timePeriod     161529 non-null  datetime64[ns]\n",
      " 1   index          161529 non-null  int64         \n",
      " 2   rawText        161529 non-null  object        \n",
      " 3   processedText  161529 non-null  object        \n",
      "dtypes: datetime64[ns](1), int64(1), object(2)\n",
      "memory usage: 4.9+ MB\n"
     ]
    }
   ],
   "source": [
    "import nltk\n",
    "from gensim.utils import simple_preprocess\n",
    "from nltk.stem import WordNetLemmatizer\n",
    "from nltk.corpus import wordnet\n",
    "nltk.download('stopwords')\n",
    "nltk.download('wordnet')\n",
    "nltk.download('punkt')\n",
    "\n",
    "stop_words = set(nltk.corpus.stopwords.words('english'))\n",
    "stop_words.update({\n",
    "    'hon',\n",
    "    'mr',\n",
    "    'gentleman',\n",
    "    'gent', 'gen',\n",
    "    'right',\n",
    "    'house',\n",
    "    'opinion',\n",
    "    'sir',\n",
    "    'say',\n",
    "    'friend',\n",
    "    'member',\n",
    "    'think',\n",
    "    'go',\n",
    "    'motion'\n",
    "    'noble',\n",
    "    'lord',\n",
    "    'noble',\n",
    "    'case',\n",
    "    'year',\n",
    "    'speak',\n",
    "    'speech'\n",
    "})\n",
    "\n",
    "wn = WordNetLemmatizer()\n",
    "\n",
    "def lemmatize(word):\n",
    "    if '_' not in word: return \"\"\n",
    "    token, posStart = word.split('_')[0].lower(), word.split('_')[1].upper()\n",
    "    if posStart.startswith('N'):\n",
    "        return wn.lemmatize(token, wordnet.NOUN)\n",
    "    elif posStart.startswith('V'):\n",
    "        return wn.lemmatize(token, wordnet.VERB)\n",
    "    elif posStart.startswith('R'):\n",
    "        return wn.lemmatize(token, wordnet.ADV)\n",
    "    elif posStart.startswith('J'):\n",
    "        return wn.lemmatize(token, wordnet.ADJ)\n",
    "    return \"\"\n",
    "\n",
    "\n",
    "\n",
    "def preprocess_text(text):\n",
    "    tokens = simple_preprocess(text)\n",
    "    clean = [lemmatize(word) for word in tokens if lemmatize(word)!=\"\"]\n",
    "    words = [word for word in clean if word.isalpha()]\n",
    "    lemmas = [word for word in words if word not in stop_words]\n",
    "    return \" \".join(lemmas)\n",
    "\n",
    "reducedPapers.loc[:, 'processedText'] = reducedPapers['rawText'].apply(preprocess_text).astype(str)\n",
    "reducedPapers.loc[:, 'processedText'] = reducedPapers['processedText'].astype(\"str\")\n",
    "reducedPapers.dropna(subset = ['processedText'], inplace = True, how='any')\n",
    "reducedPapers.reset_index(drop=True, inplace=True)\n",
    "reducedPapers.info()"
   ],
   "metadata": {
    "collapsed": false,
    "ExecuteTime": {
     "start_time": "2023-04-10T21:50:41.287906Z",
     "end_time": "2023-04-10T21:51:14.401637Z"
    }
   }
  },
  {
   "cell_type": "code",
   "execution_count": 35,
   "outputs": [],
   "source": [
    "\n",
    "reducedPapers.to_csv('../processedData/processedData.csv', sep=',', columns=[ 'index','timePeriod', 'processedText'])"
   ],
   "metadata": {
    "collapsed": false,
    "ExecuteTime": {
     "start_time": "2023-04-10T21:51:14.408164Z",
     "end_time": "2023-04-10T21:51:15.235032Z"
    }
   }
  },
  {
   "cell_type": "code",
   "execution_count": 36,
   "outputs": [
    {
     "name": "stdout",
     "output_type": "stream",
     "text": [
      "<class 'pandas.core.frame.DataFrame'>\n",
      "Index: 161529 entries, 0 to 161528\n",
      "Data columns (total 3 columns):\n",
      " #   Column         Non-Null Count   Dtype \n",
      "---  ------         --------------   ----- \n",
      " 0   index          161529 non-null  int64 \n",
      " 1   timePeriod     161529 non-null  object\n",
      " 2   processedText  152165 non-null  object\n",
      "dtypes: int64(1), object(2)\n",
      "memory usage: 4.9+ MB\n"
     ]
    }
   ],
   "source": [
    "test = pd.read_csv(\n",
    "    \"../processedData/processedData.csv\",\n",
    "    sep=',',\n",
    "    index_col=0\n",
    ")\n",
    "test.tail()\n",
    "test.info()"
   ],
   "metadata": {
    "collapsed": false,
    "ExecuteTime": {
     "start_time": "2023-04-10T21:51:15.237716Z",
     "end_time": "2023-04-10T21:51:15.586467Z"
    }
   }
  },
  {
   "cell_type": "code",
   "execution_count": 36,
   "outputs": [],
   "source": [],
   "metadata": {
    "collapsed": false,
    "ExecuteTime": {
     "start_time": "2023-04-10T21:51:15.586467Z",
     "end_time": "2023-04-10T21:51:15.602126Z"
    }
   }
  }
 ],
 "metadata": {
  "kernelspec": {
   "display_name": "Python 3",
   "language": "python",
   "name": "python3"
  },
  "language_info": {
   "codemirror_mode": {
    "name": "ipython",
    "version": 2
   },
   "file_extension": ".py",
   "mimetype": "text/x-python",
   "name": "python",
   "nbconvert_exporter": "python",
   "pygments_lexer": "ipython2",
   "version": "2.7.6"
  }
 },
 "nbformat": 4,
 "nbformat_minor": 0
}
