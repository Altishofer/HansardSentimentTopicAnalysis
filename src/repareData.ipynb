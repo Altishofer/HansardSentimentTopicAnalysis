{
 "cells": [
  {
   "cell_type": "code",
   "execution_count": 53,
   "metadata": {
    "collapsed": true,
    "ExecuteTime": {
     "start_time": "2023-04-10T22:12:39.527196Z",
     "end_time": "2023-04-10T22:12:44.195074Z"
    }
   },
   "outputs": [
    {
     "name": "stderr",
     "output_type": "stream",
     "text": [
      "C:\\Users\\sandr\\AppData\\Local\\Temp\\ipykernel_18744\\4148437997.py:4: DtypeWarning: Columns (1) have mixed types. Specify dtype option on import or set low_memory=False.\n",
      "  papers = pd.read_csv(\n"
     ]
    },
    {
     "name": "stdout",
     "output_type": "stream",
     "text": [
      "<class 'pandas.core.frame.DataFrame'>\n",
      "Index: 802378 entries, 1 to 802379\n",
      "Data columns (total 3 columns):\n",
      " #   Column      Non-Null Count   Dtype \n",
      "---  ------      --------------   ----- \n",
      " 0   timePeriod  802378 non-null  object\n",
      " 1   index       802378 non-null  object\n",
      " 2   rawText     802378 non-null  object\n",
      "dtypes: object(3)\n",
      "memory usage: 24.5+ MB\n"
     ]
    }
   ],
   "source": [
    "import pandas as pd\n",
    "import os\n",
    "\n",
    "papers = pd.read_csv(\n",
    "    #\"../rawData/sampler_10ktexts_perdecade.ALL2.tsv\",\n",
    "    \"../rawData/sampler_50ktexts_perdecade.headed.ALL.tsv\",\n",
    "    sep='\\t',\n",
    "    names=[\"timePeriod\", \"index\", \"rawText\"]\n",
    ")\n",
    "papers.drop(papers[~papers['timePeriod'].str.endswith('POS.rand')].index, inplace=True)\n",
    "\n",
    "\n",
    "papers.head()\n",
    "papers.info()"
   ]
  },
  {
   "cell_type": "code",
   "execution_count": 54,
   "outputs": [
    {
     "data": {
      "text/plain": "  timePeriod index                                            rawText\n1       1800     1  I_PP scarcely_RB know_VBP how_WRB to_TO answer...\n2       1800     2  It_PP had_VBD been_VBN too_RB much_JJ the_DT p...\n3       1800     3                                     gent_NN ._SENT\n4       1800     4  The_DT attention_NN of_IN the_DT public_NN was...\n5       1800     5  With_IN regard_NN to_TO the_DT Oath_NP ,_, the...",
      "text/html": "<div>\n<style scoped>\n    .dataframe tbody tr th:only-of-type {\n        vertical-align: middle;\n    }\n\n    .dataframe tbody tr th {\n        vertical-align: top;\n    }\n\n    .dataframe thead th {\n        text-align: right;\n    }\n</style>\n<table border=\"1\" class=\"dataframe\">\n  <thead>\n    <tr style=\"text-align: right;\">\n      <th></th>\n      <th>timePeriod</th>\n      <th>index</th>\n      <th>rawText</th>\n    </tr>\n  </thead>\n  <tbody>\n    <tr>\n      <th>1</th>\n      <td>1800</td>\n      <td>1</td>\n      <td>I_PP scarcely_RB know_VBP how_WRB to_TO answer...</td>\n    </tr>\n    <tr>\n      <th>2</th>\n      <td>1800</td>\n      <td>2</td>\n      <td>It_PP had_VBD been_VBN too_RB much_JJ the_DT p...</td>\n    </tr>\n    <tr>\n      <th>3</th>\n      <td>1800</td>\n      <td>3</td>\n      <td>gent_NN ._SENT</td>\n    </tr>\n    <tr>\n      <th>4</th>\n      <td>1800</td>\n      <td>4</td>\n      <td>The_DT attention_NN of_IN the_DT public_NN was...</td>\n    </tr>\n    <tr>\n      <th>5</th>\n      <td>1800</td>\n      <td>5</td>\n      <td>With_IN regard_NN to_TO the_DT Oath_NP ,_, the...</td>\n    </tr>\n  </tbody>\n</table>\n</div>"
     },
     "execution_count": 54,
     "metadata": {},
     "output_type": "execute_result"
    }
   ],
   "source": [
    "papers['timePeriod'] = papers['timePeriod'].map(lambda x: x.rstrip('X.POS.rand'))\n",
    "papers['timePeriod'] = papers['timePeriod'].astype(str) + '0'\n",
    "papers.head()"
   ],
   "metadata": {
    "collapsed": false,
    "ExecuteTime": {
     "start_time": "2023-04-10T22:12:44.195074Z",
     "end_time": "2023-04-10T22:12:44.675730Z"
    }
   }
  },
  {
   "cell_type": "code",
   "execution_count": 55,
   "outputs": [
    {
     "data": {
      "text/plain": "  timePeriod index                                            rawText\n1 1800-01-01     1  I_PP scarcely_RB know_VBP how_WRB to_TO answer...\n2 1800-01-01     2  It_PP had_VBD been_VBN too_RB much_JJ the_DT p...\n3 1800-01-01     3                                     gent_NN ._SENT\n4 1800-01-01     4  The_DT attention_NN of_IN the_DT public_NN was...\n5 1800-01-01     5  With_IN regard_NN to_TO the_DT Oath_NP ,_, the...",
      "text/html": "<div>\n<style scoped>\n    .dataframe tbody tr th:only-of-type {\n        vertical-align: middle;\n    }\n\n    .dataframe tbody tr th {\n        vertical-align: top;\n    }\n\n    .dataframe thead th {\n        text-align: right;\n    }\n</style>\n<table border=\"1\" class=\"dataframe\">\n  <thead>\n    <tr style=\"text-align: right;\">\n      <th></th>\n      <th>timePeriod</th>\n      <th>index</th>\n      <th>rawText</th>\n    </tr>\n  </thead>\n  <tbody>\n    <tr>\n      <th>1</th>\n      <td>1800-01-01</td>\n      <td>1</td>\n      <td>I_PP scarcely_RB know_VBP how_WRB to_TO answer...</td>\n    </tr>\n    <tr>\n      <th>2</th>\n      <td>1800-01-01</td>\n      <td>2</td>\n      <td>It_PP had_VBD been_VBN too_RB much_JJ the_DT p...</td>\n    </tr>\n    <tr>\n      <th>3</th>\n      <td>1800-01-01</td>\n      <td>3</td>\n      <td>gent_NN ._SENT</td>\n    </tr>\n    <tr>\n      <th>4</th>\n      <td>1800-01-01</td>\n      <td>4</td>\n      <td>The_DT attention_NN of_IN the_DT public_NN was...</td>\n    </tr>\n    <tr>\n      <th>5</th>\n      <td>1800-01-01</td>\n      <td>5</td>\n      <td>With_IN regard_NN to_TO the_DT Oath_NP ,_, the...</td>\n    </tr>\n  </tbody>\n</table>\n</div>"
     },
     "execution_count": 55,
     "metadata": {},
     "output_type": "execute_result"
    }
   ],
   "source": [
    "papers['timePeriod'] = pd.to_datetime(papers['timePeriod'], format='%Y')\n",
    "papers['timePeriod'] = pd.DatetimeIndex(papers['timePeriod']) #.year\n",
    "papers.head()"
   ],
   "metadata": {
    "collapsed": false,
    "ExecuteTime": {
     "start_time": "2023-04-10T22:12:44.675730Z",
     "end_time": "2023-04-10T22:12:44.878840Z"
    }
   }
  },
  {
   "cell_type": "code",
   "execution_count": 56,
   "outputs": [
    {
     "data": {
      "text/plain": "       timePeriod  index                                            rawText\n802375 2000-01-01  49996                  I_PP beg_VBP to_TO move_VB ._SENT\n802376 2000-01-01  49997  <p> Ms_NN Blears_NP :_: I_PP certainly_RB shal...\n802377 2000-01-01  49998  <lb/> We_PP want_VBP to_TO make_VB improvement...\n802378 2000-01-01  49999  <lb/> I_PP turn_VBP now_RB to_TO the_DT propos...\n802379 2000-01-01  50000  <lb/> I_PP seek_VBP to_TO persuade_VB the_DT C...",
      "text/html": "<div>\n<style scoped>\n    .dataframe tbody tr th:only-of-type {\n        vertical-align: middle;\n    }\n\n    .dataframe tbody tr th {\n        vertical-align: top;\n    }\n\n    .dataframe thead th {\n        text-align: right;\n    }\n</style>\n<table border=\"1\" class=\"dataframe\">\n  <thead>\n    <tr style=\"text-align: right;\">\n      <th></th>\n      <th>timePeriod</th>\n      <th>index</th>\n      <th>rawText</th>\n    </tr>\n  </thead>\n  <tbody>\n    <tr>\n      <th>802375</th>\n      <td>2000-01-01</td>\n      <td>49996</td>\n      <td>I_PP beg_VBP to_TO move_VB ._SENT</td>\n    </tr>\n    <tr>\n      <th>802376</th>\n      <td>2000-01-01</td>\n      <td>49997</td>\n      <td>&lt;p&gt; Ms_NN Blears_NP :_: I_PP certainly_RB shal...</td>\n    </tr>\n    <tr>\n      <th>802377</th>\n      <td>2000-01-01</td>\n      <td>49998</td>\n      <td>&lt;lb/&gt; We_PP want_VBP to_TO make_VB improvement...</td>\n    </tr>\n    <tr>\n      <th>802378</th>\n      <td>2000-01-01</td>\n      <td>49999</td>\n      <td>&lt;lb/&gt; I_PP turn_VBP now_RB to_TO the_DT propos...</td>\n    </tr>\n    <tr>\n      <th>802379</th>\n      <td>2000-01-01</td>\n      <td>50000</td>\n      <td>&lt;lb/&gt; I_PP seek_VBP to_TO persuade_VB the_DT C...</td>\n    </tr>\n  </tbody>\n</table>\n</div>"
     },
     "execution_count": 56,
     "metadata": {},
     "output_type": "execute_result"
    }
   ],
   "source": [
    "#reducedPapers = papers[papers[\"timePeriod\"].isin(pd.date_range(\"1800-01-01\", \"1830-01-01\"))]\n",
    "#reducedPapers = papers[papers[\"timePeriod\"].isin(pd.date_range(\"1800-01-01\", \"1890-01-01\"))]\n",
    "#reducedPapers = papers[papers[\"timePeriod\"].isin(pd.date_range(\"1800-01-01\", \"1820-01-01\"))]\n",
    "\n",
    "#reducedPapers = papers.groupby(\"timePeriod\").sample(frac=0.5, random_state=42)\n",
    "reducedPapers = papers\n",
    "reducedPapers.tail()\n",
    "#reducedPapers.tail()"
   ],
   "metadata": {
    "collapsed": false,
    "ExecuteTime": {
     "start_time": "2023-04-10T22:12:44.863217Z",
     "end_time": "2023-04-10T22:12:45.243935Z"
    }
   }
  },
  {
   "cell_type": "code",
   "execution_count": 57,
   "outputs": [
    {
     "name": "stderr",
     "output_type": "stream",
     "text": [
      "[nltk_data] Downloading package stopwords to\n",
      "[nltk_data]     C:\\Users\\sandr\\AppData\\Roaming\\nltk_data...\n",
      "[nltk_data]   Package stopwords is already up-to-date!\n",
      "[nltk_data] Downloading package wordnet to\n",
      "[nltk_data]     C:\\Users\\sandr\\AppData\\Roaming\\nltk_data...\n",
      "[nltk_data]   Package wordnet is already up-to-date!\n",
      "[nltk_data] Downloading package punkt to\n",
      "[nltk_data]     C:\\Users\\sandr\\AppData\\Roaming\\nltk_data...\n",
      "[nltk_data]   Package punkt is already up-to-date!\n"
     ]
    },
    {
     "name": "stdout",
     "output_type": "stream",
     "text": [
      "<class 'pandas.core.frame.DataFrame'>\n",
      "RangeIndex: 802378 entries, 0 to 802377\n",
      "Data columns (total 4 columns):\n",
      " #   Column         Non-Null Count   Dtype         \n",
      "---  ------         --------------   -----         \n",
      " 0   timePeriod     802378 non-null  datetime64[ns]\n",
      " 1   index          802378 non-null  object        \n",
      " 2   rawText        802378 non-null  object        \n",
      " 3   processedText  802378 non-null  object        \n",
      "dtypes: datetime64[ns](1), object(3)\n",
      "memory usage: 24.5+ MB\n"
     ]
    }
   ],
   "source": [
    "import nltk\n",
    "from gensim.utils import simple_preprocess\n",
    "from nltk.stem import WordNetLemmatizer\n",
    "from nltk.corpus import wordnet\n",
    "nltk.download('stopwords')\n",
    "nltk.download('wordnet')\n",
    "nltk.download('punkt')\n",
    "\n",
    "stop_words = set(nltk.corpus.stopwords.words('english'))\n",
    "stop_words.update({\n",
    "    'hon',\n",
    "    'mr',\n",
    "    'gentleman',\n",
    "    'gent', 'gen',\n",
    "    'right',\n",
    "    'house',\n",
    "    'opinion',\n",
    "    'sir',\n",
    "    'say',\n",
    "    'friend',\n",
    "    'member',\n",
    "    'think',\n",
    "    'go',\n",
    "    'motion'\n",
    "    'noble',\n",
    "    'lord',\n",
    "    'noble',\n",
    "    'case',\n",
    "    'year',\n",
    "    'speak',\n",
    "    'speech'\n",
    "})\n",
    "\n",
    "wn = WordNetLemmatizer()\n",
    "\n",
    "def lemmatize(word):\n",
    "    if '_' not in word: return \"\"\n",
    "    token, posStart = word.split('_')[0].lower(), word.split('_')[1].upper()\n",
    "    if posStart.startswith('N'):\n",
    "        return wn.lemmatize(token, wordnet.NOUN)\n",
    "    elif posStart.startswith('V'):\n",
    "        return wn.lemmatize(token, wordnet.VERB)\n",
    "    elif posStart.startswith('R'):\n",
    "        return wn.lemmatize(token, wordnet.ADV)\n",
    "    elif posStart.startswith('J'):\n",
    "        return wn.lemmatize(token, wordnet.ADJ)\n",
    "    return \"\"\n",
    "\n",
    "\n",
    "\n",
    "def preprocess_text(text):\n",
    "    tokens = simple_preprocess(text)\n",
    "    clean = [lemmatize(word) for word in tokens if lemmatize(word)!=\"\"]\n",
    "    words = [word for word in clean if word.isalpha()]\n",
    "    lemmas = [word for word in words if word not in stop_words]\n",
    "    return \" \".join(lemmas)\n",
    "\n",
    "reducedPapers.loc[:, 'processedText'] = reducedPapers['rawText'].apply(preprocess_text).astype(str)\n",
    "reducedPapers.loc[:, 'processedText'] = reducedPapers['processedText'].astype(\"str\")\n",
    "reducedPapers.dropna(subset = ['processedText'], inplace = True, how='any')\n",
    "reducedPapers.reset_index(drop=True, inplace=True)\n",
    "reducedPapers.info()"
   ],
   "metadata": {
    "collapsed": false,
    "ExecuteTime": {
     "start_time": "2023-04-10T22:12:45.243935Z",
     "end_time": "2023-04-10T22:16:00.162704Z"
    }
   }
  },
  {
   "cell_type": "code",
   "execution_count": 58,
   "outputs": [],
   "source": [
    "\n",
    "reducedPapers.to_csv('../processedData/processedData.csv', sep=',', columns=[ 'index','timePeriod', 'processedText'])"
   ],
   "metadata": {
    "collapsed": false,
    "ExecuteTime": {
     "start_time": "2023-04-10T22:16:00.162704Z",
     "end_time": "2023-04-10T22:16:04.671826Z"
    }
   }
  },
  {
   "cell_type": "code",
   "execution_count": 59,
   "outputs": [
    {
     "name": "stdout",
     "output_type": "stream",
     "text": [
      "<class 'pandas.core.frame.DataFrame'>\n",
      "Index: 802378 entries, 0 to 802377\n",
      "Data columns (total 3 columns):\n",
      " #   Column         Non-Null Count   Dtype \n",
      "---  ------         --------------   ----- \n",
      " 0   index          802378 non-null  int64 \n",
      " 1   timePeriod     802378 non-null  object\n",
      " 2   processedText  755621 non-null  object\n",
      "dtypes: int64(1), object(2)\n",
      "memory usage: 24.5+ MB\n"
     ]
    }
   ],
   "source": [
    "test = pd.read_csv(\n",
    "    \"../processedData/processedData.csv\",\n",
    "    sep=',',\n",
    "    index_col=0\n",
    ")\n",
    "test.tail()\n",
    "test.info()"
   ],
   "metadata": {
    "collapsed": false,
    "ExecuteTime": {
     "start_time": "2023-04-10T22:16:04.671826Z",
     "end_time": "2023-04-10T22:16:06.554371Z"
    }
   }
  },
  {
   "cell_type": "code",
   "execution_count": 59,
   "outputs": [],
   "source": [],
   "metadata": {
    "collapsed": false,
    "ExecuteTime": {
     "start_time": "2023-04-10T22:16:06.554371Z",
     "end_time": "2023-04-10T22:16:06.570053Z"
    }
   }
  }
 ],
 "metadata": {
  "kernelspec": {
   "display_name": "Python 3",
   "language": "python",
   "name": "python3"
  },
  "language_info": {
   "codemirror_mode": {
    "name": "ipython",
    "version": 2
   },
   "file_extension": ".py",
   "mimetype": "text/x-python",
   "name": "python",
   "nbconvert_exporter": "python",
   "pygments_lexer": "ipython2",
   "version": "2.7.6"
  }
 },
 "nbformat": 4,
 "nbformat_minor": 0
}
