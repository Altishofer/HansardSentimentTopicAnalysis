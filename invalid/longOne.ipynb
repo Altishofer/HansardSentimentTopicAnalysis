{
 "cells": [
  {
   "cell_type": "code",
   "execution_count": 1,
   "outputs": [
    {
     "name": "stdout",
     "output_type": "stream",
     "text": [
      "Collecting en-core-web-sm==3.5.0\n",
      "  Downloading https://github.com/explosion/spacy-models/releases/download/en_core_web_sm-3.5.0/en_core_web_sm-3.5.0-py3-none-any.whl (12.8 MB)\n",
      "     ---------------------------------------- 0.0/12.8 MB ? eta -:--:--\n",
      "      --------------------------------------- 0.3/12.8 MB 9.9 MB/s eta 0:00:02\n",
      "     ---- ----------------------------------- 1.4/12.8 MB 17.5 MB/s eta 0:00:01\n",
      "     --------- ------------------------------ 3.0/12.8 MB 24.1 MB/s eta 0:00:01\n",
      "     -------------- ------------------------- 4.5/12.8 MB 26.4 MB/s eta 0:00:01\n",
      "     ------------------- -------------------- 6.1/12.8 MB 27.8 MB/s eta 0:00:01\n",
      "     ----------------------- ---------------- 7.4/12.8 MB 26.3 MB/s eta 0:00:01\n",
      "     ---------------------------- ----------- 9.0/12.8 MB 28.7 MB/s eta 0:00:01\n",
      "     ------------------------------- ------- 10.3/12.8 MB 28.5 MB/s eta 0:00:01\n",
      "     ---------------------------------- ---- 11.5/12.8 MB 31.2 MB/s eta 0:00:01\n",
      "     ------------------------------------ -- 12.1/12.8 MB 29.7 MB/s eta 0:00:01\n",
      "     --------------------------------------  12.8/12.8 MB 27.3 MB/s eta 0:00:01\n",
      "     --------------------------------------- 12.8/12.8 MB 24.2 MB/s eta 0:00:00\n",
      "Requirement already satisfied: spacy<3.6.0,>=3.5.0 in c:\\users\\sandr\\untrackedfolder\\textanalytics\\venv\\lib\\site-packages (from en-core-web-sm==3.5.0) (3.5.1)\n",
      "Requirement already satisfied: packaging>=20.0 in c:\\users\\sandr\\untrackedfolder\\textanalytics\\venv\\lib\\site-packages (from spacy<3.6.0,>=3.5.0->en-core-web-sm==3.5.0) (23.0)\n",
      "Requirement already satisfied: typer<0.8.0,>=0.3.0 in c:\\users\\sandr\\untrackedfolder\\textanalytics\\venv\\lib\\site-packages (from spacy<3.6.0,>=3.5.0->en-core-web-sm==3.5.0) (0.7.0)\n",
      "Requirement already satisfied: setuptools in c:\\users\\sandr\\untrackedfolder\\textanalytics\\venv\\lib\\site-packages (from spacy<3.6.0,>=3.5.0->en-core-web-sm==3.5.0) (65.5.1)\n",
      "Requirement already satisfied: pathy>=0.10.0 in c:\\users\\sandr\\untrackedfolder\\textanalytics\\venv\\lib\\site-packages (from spacy<3.6.0,>=3.5.0->en-core-web-sm==3.5.0) (0.10.1)\n",
      "Requirement already satisfied: preshed<3.1.0,>=3.0.2 in c:\\users\\sandr\\untrackedfolder\\textanalytics\\venv\\lib\\site-packages (from spacy<3.6.0,>=3.5.0->en-core-web-sm==3.5.0) (3.0.8)\n",
      "Requirement already satisfied: wasabi<1.2.0,>=0.9.1 in c:\\users\\sandr\\untrackedfolder\\textanalytics\\venv\\lib\\site-packages (from spacy<3.6.0,>=3.5.0->en-core-web-sm==3.5.0) (1.1.1)\n",
      "Requirement already satisfied: spacy-loggers<2.0.0,>=1.0.0 in c:\\users\\sandr\\untrackedfolder\\textanalytics\\venv\\lib\\site-packages (from spacy<3.6.0,>=3.5.0->en-core-web-sm==3.5.0) (1.0.4)\n",
      "Requirement already satisfied: spacy-legacy<3.1.0,>=3.0.11 in c:\\users\\sandr\\untrackedfolder\\textanalytics\\venv\\lib\\site-packages (from spacy<3.6.0,>=3.5.0->en-core-web-sm==3.5.0) (3.0.12)\n",
      "Requirement already satisfied: numpy>=1.15.0 in c:\\users\\sandr\\untrackedfolder\\textanalytics\\venv\\lib\\site-packages (from spacy<3.6.0,>=3.5.0->en-core-web-sm==3.5.0) (1.23.5)\n",
      "Requirement already satisfied: pydantic!=1.8,!=1.8.1,<1.11.0,>=1.7.4 in c:\\users\\sandr\\untrackedfolder\\textanalytics\\venv\\lib\\site-packages (from spacy<3.6.0,>=3.5.0->en-core-web-sm==3.5.0) (1.10.7)\n",
      "Requirement already satisfied: jinja2 in c:\\users\\sandr\\untrackedfolder\\textanalytics\\venv\\lib\\site-packages (from spacy<3.6.0,>=3.5.0->en-core-web-sm==3.5.0) (3.1.2)\n",
      "Requirement already satisfied: thinc<8.2.0,>=8.1.8 in c:\\users\\sandr\\untrackedfolder\\textanalytics\\venv\\lib\\site-packages (from spacy<3.6.0,>=3.5.0->en-core-web-sm==3.5.0) (8.1.9)\n",
      "Requirement already satisfied: murmurhash<1.1.0,>=0.28.0 in c:\\users\\sandr\\untrackedfolder\\textanalytics\\venv\\lib\\site-packages (from spacy<3.6.0,>=3.5.0->en-core-web-sm==3.5.0) (1.0.9)\n",
      "Requirement already satisfied: requests<3.0.0,>=2.13.0 in c:\\users\\sandr\\untrackedfolder\\textanalytics\\venv\\lib\\site-packages (from spacy<3.6.0,>=3.5.0->en-core-web-sm==3.5.0) (2.28.2)\n",
      "Requirement already satisfied: cymem<2.1.0,>=2.0.2 in c:\\users\\sandr\\untrackedfolder\\textanalytics\\venv\\lib\\site-packages (from spacy<3.6.0,>=3.5.0->en-core-web-sm==3.5.0) (2.0.7)\n",
      "Requirement already satisfied: tqdm<5.0.0,>=4.38.0 in c:\\users\\sandr\\untrackedfolder\\textanalytics\\venv\\lib\\site-packages (from spacy<3.6.0,>=3.5.0->en-core-web-sm==3.5.0) (4.65.0)\n",
      "Requirement already satisfied: langcodes<4.0.0,>=3.2.0 in c:\\users\\sandr\\untrackedfolder\\textanalytics\\venv\\lib\\site-packages (from spacy<3.6.0,>=3.5.0->en-core-web-sm==3.5.0) (3.3.0)\n",
      "Requirement already satisfied: srsly<3.0.0,>=2.4.3 in c:\\users\\sandr\\untrackedfolder\\textanalytics\\venv\\lib\\site-packages (from spacy<3.6.0,>=3.5.0->en-core-web-sm==3.5.0) (2.4.6)\n",
      "Requirement already satisfied: smart-open<7.0.0,>=5.2.1 in c:\\users\\sandr\\untrackedfolder\\textanalytics\\venv\\lib\\site-packages (from spacy<3.6.0,>=3.5.0->en-core-web-sm==3.5.0) (6.3.0)\n",
      "Requirement already satisfied: catalogue<2.1.0,>=2.0.6 in c:\\users\\sandr\\untrackedfolder\\textanalytics\\venv\\lib\\site-packages (from spacy<3.6.0,>=3.5.0->en-core-web-sm==3.5.0) (2.0.8)\n",
      "Requirement already satisfied: typing-extensions>=4.2.0 in c:\\users\\sandr\\untrackedfolder\\textanalytics\\venv\\lib\\site-packages (from pydantic!=1.8,!=1.8.1,<1.11.0,>=1.7.4->spacy<3.6.0,>=3.5.0->en-core-web-sm==3.5.0) (4.5.0)\n",
      "Requirement already satisfied: charset-normalizer<4,>=2 in c:\\users\\sandr\\untrackedfolder\\textanalytics\\venv\\lib\\site-packages (from requests<3.0.0,>=2.13.0->spacy<3.6.0,>=3.5.0->en-core-web-sm==3.5.0) (3.1.0)\n",
      "Requirement already satisfied: certifi>=2017.4.17 in c:\\users\\sandr\\untrackedfolder\\textanalytics\\venv\\lib\\site-packages (from requests<3.0.0,>=2.13.0->spacy<3.6.0,>=3.5.0->en-core-web-sm==3.5.0) (2022.12.7)\n",
      "Requirement already satisfied: urllib3<1.27,>=1.21.1 in c:\\users\\sandr\\untrackedfolder\\textanalytics\\venv\\lib\\site-packages (from requests<3.0.0,>=2.13.0->spacy<3.6.0,>=3.5.0->en-core-web-sm==3.5.0) (1.26.15)\n",
      "Requirement already satisfied: idna<4,>=2.5 in c:\\users\\sandr\\untrackedfolder\\textanalytics\\venv\\lib\\site-packages (from requests<3.0.0,>=2.13.0->spacy<3.6.0,>=3.5.0->en-core-web-sm==3.5.0) (3.4)\n",
      "Requirement already satisfied: confection<1.0.0,>=0.0.1 in c:\\users\\sandr\\untrackedfolder\\textanalytics\\venv\\lib\\site-packages (from thinc<8.2.0,>=8.1.8->spacy<3.6.0,>=3.5.0->en-core-web-sm==3.5.0) (0.0.4)\n",
      "Requirement already satisfied: blis<0.8.0,>=0.7.8 in c:\\users\\sandr\\untrackedfolder\\textanalytics\\venv\\lib\\site-packages (from thinc<8.2.0,>=8.1.8->spacy<3.6.0,>=3.5.0->en-core-web-sm==3.5.0) (0.7.9)\n",
      "Requirement already satisfied: colorama in c:\\users\\sandr\\untrackedfolder\\textanalytics\\venv\\lib\\site-packages (from tqdm<5.0.0,>=4.38.0->spacy<3.6.0,>=3.5.0->en-core-web-sm==3.5.0) (0.4.6)\n",
      "Requirement already satisfied: click<9.0.0,>=7.1.1 in c:\\users\\sandr\\untrackedfolder\\textanalytics\\venv\\lib\\site-packages (from typer<0.8.0,>=0.3.0->spacy<3.6.0,>=3.5.0->en-core-web-sm==3.5.0) (8.1.3)\n",
      "Requirement already satisfied: MarkupSafe>=2.0 in c:\\users\\sandr\\untrackedfolder\\textanalytics\\venv\\lib\\site-packages (from jinja2->spacy<3.6.0,>=3.5.0->en-core-web-sm==3.5.0) (2.1.2)\n",
      "\u001B[38;5;2m[+] Download and installation successful\u001B[0m\n",
      "You can now load the package via spacy.load('en_core_web_sm')\n"
     ]
    }
   ],
   "source": [
    "import re\n",
    "import numpy as np\n",
    "import pandas as pd\n",
    "from pprint import pprint\n",
    "\n",
    "# Gensim\n",
    "import gensim\n",
    "import gensim.corpora as corpora\n",
    "from gensim.utils import simple_preprocess\n",
    "from gensim.models import CoherenceModel\n",
    "\n",
    "# spacy for lemmatization\n",
    "import spacy\n",
    "!python -m spacy download en_core_web_sm\n",
    "\n",
    "# Plotting tools\n",
    "import pyLDAvis\n",
    "import pyLDAvis.gensim  # don't skip this\n",
    "import matplotlib.pyplot as plt\n",
    "%matplotlib inline\n",
    "\n",
    "# Enable logging for gensim - optional\n",
    "import logging\n",
    "logging.basicConfig(format='%(asctime)s : %(levelname)s : %(message)s', level=logging.ERROR)\n",
    "\n",
    "import warnings\n",
    "warnings.filterwarnings(\"ignore\",category=DeprecationWarning)"
   ],
   "metadata": {
    "collapsed": false,
    "ExecuteTime": {
     "start_time": "2023-04-09T21:12:18.390025Z",
     "end_time": "2023-04-09T21:12:27.548355Z"
    }
   }
  },
  {
   "cell_type": "code",
   "execution_count": 2,
   "outputs": [
    {
     "data": {
      "text/plain": "      timePeriod  index                                            content\n0  180X.POS.rand      1                               The_DT hon_NN ._SENT\n1  180X.POS.rand      2  The_DT gallant_JJ general_NN who_WP commanded_...\n2  180X.POS.rand      3  But_CC ,_, Mr._NP Pitt_NP said_VBD ,_, he_PP d...\n3  180X.POS.rand      4  And_CC Dr._NP Hussey_NP ,_, who_WP informs_VBZ...\n4  180X.POS.rand      5  In_IN former_JJ times_NNS and_CC in_IN former_...",
      "text/html": "<div>\n<style scoped>\n    .dataframe tbody tr th:only-of-type {\n        vertical-align: middle;\n    }\n\n    .dataframe tbody tr th {\n        vertical-align: top;\n    }\n\n    .dataframe thead th {\n        text-align: right;\n    }\n</style>\n<table border=\"1\" class=\"dataframe\">\n  <thead>\n    <tr style=\"text-align: right;\">\n      <th></th>\n      <th>timePeriod</th>\n      <th>index</th>\n      <th>content</th>\n    </tr>\n  </thead>\n  <tbody>\n    <tr>\n      <th>0</th>\n      <td>180X.POS.rand</td>\n      <td>1</td>\n      <td>The_DT hon_NN ._SENT</td>\n    </tr>\n    <tr>\n      <th>1</th>\n      <td>180X.POS.rand</td>\n      <td>2</td>\n      <td>The_DT gallant_JJ general_NN who_WP commanded_...</td>\n    </tr>\n    <tr>\n      <th>2</th>\n      <td>180X.POS.rand</td>\n      <td>3</td>\n      <td>But_CC ,_, Mr._NP Pitt_NP said_VBD ,_, he_PP d...</td>\n    </tr>\n    <tr>\n      <th>3</th>\n      <td>180X.POS.rand</td>\n      <td>4</td>\n      <td>And_CC Dr._NP Hussey_NP ,_, who_WP informs_VBZ...</td>\n    </tr>\n    <tr>\n      <th>4</th>\n      <td>180X.POS.rand</td>\n      <td>5</td>\n      <td>In_IN former_JJ times_NNS and_CC in_IN former_...</td>\n    </tr>\n  </tbody>\n</table>\n</div>"
     },
     "execution_count": 2,
     "metadata": {},
     "output_type": "execute_result"
    }
   ],
   "source": [
    "import pandas as pd\n",
    "df = pd.read_csv(\n",
    "    \"../rawData/sampler_10ktexts_perdecade.ALL2.tsv\",\n",
    "    sep='\\t',\n",
    "    names=[\"timePeriod\", \"index\", \"content\"]\n",
    ")\n",
    "\n",
    "df.head()"
   ],
   "metadata": {
    "collapsed": false,
    "ExecuteTime": {
     "start_time": "2023-04-09T21:12:29.287316Z",
     "end_time": "2023-04-09T21:12:30.329001Z"
    }
   }
  },
  {
   "cell_type": "code",
   "execution_count": 3,
   "outputs": [],
   "source": [
    "df['timePeriod'] = df['timePeriod'].map(lambda x: x.rstrip('X.POS.rand'))\n",
    "df['timePeriod'] = df['timePeriod'].astype(str) + '0'"
   ],
   "metadata": {
    "collapsed": false,
    "ExecuteTime": {
     "start_time": "2023-04-09T21:12:31.394928Z",
     "end_time": "2023-04-09T21:12:31.426179Z"
    }
   }
  },
  {
   "cell_type": "code",
   "execution_count": 4,
   "outputs": [
    {
     "data": {
      "text/plain": "      timePeriod  index                                            content\n21802 1820-01-01   9981  The_DT governor-general_NN of_IN India_NP had_...\n21803 1820-01-01   9982  We_PP have_VBP disdained_VBN to_TO run_VB a_DT...\n21804 1820-01-01   9983  Mr._NP Philips_NP thought_VBD it_PP quite_RB u...\n21805 1820-01-01   9984  The_DT chief_JJ justice_NN sent_VBN into_IN th...\n21806 1820-01-01   9985  _'' <lb/> Lord_NP Bacon_NP adds_VBZ this_DT br...",
      "text/html": "<div>\n<style scoped>\n    .dataframe tbody tr th:only-of-type {\n        vertical-align: middle;\n    }\n\n    .dataframe tbody tr th {\n        vertical-align: top;\n    }\n\n    .dataframe thead th {\n        text-align: right;\n    }\n</style>\n<table border=\"1\" class=\"dataframe\">\n  <thead>\n    <tr style=\"text-align: right;\">\n      <th></th>\n      <th>timePeriod</th>\n      <th>index</th>\n      <th>content</th>\n    </tr>\n  </thead>\n  <tbody>\n    <tr>\n      <th>21802</th>\n      <td>1820-01-01</td>\n      <td>9981</td>\n      <td>The_DT governor-general_NN of_IN India_NP had_...</td>\n    </tr>\n    <tr>\n      <th>21803</th>\n      <td>1820-01-01</td>\n      <td>9982</td>\n      <td>We_PP have_VBP disdained_VBN to_TO run_VB a_DT...</td>\n    </tr>\n    <tr>\n      <th>21804</th>\n      <td>1820-01-01</td>\n      <td>9983</td>\n      <td>Mr._NP Philips_NP thought_VBD it_PP quite_RB u...</td>\n    </tr>\n    <tr>\n      <th>21805</th>\n      <td>1820-01-01</td>\n      <td>9984</td>\n      <td>The_DT chief_JJ justice_NN sent_VBN into_IN th...</td>\n    </tr>\n    <tr>\n      <th>21806</th>\n      <td>1820-01-01</td>\n      <td>9985</td>\n      <td>_'' &lt;lb/&gt; Lord_NP Bacon_NP adds_VBZ this_DT br...</td>\n    </tr>\n  </tbody>\n</table>\n</div>"
     },
     "execution_count": 4,
     "metadata": {},
     "output_type": "execute_result"
    }
   ],
   "source": [
    "df['timePeriod'] = pd.to_datetime(df['timePeriod'], format='%Y')\n",
    "df['timePeriod'] = pd.DatetimeIndex(df['timePeriod'])\n",
    "df = df[df[\"timePeriod\"].isin(pd.date_range(\"1800-01-01\", \"1820-01-01\"))]\n",
    "df.tail()"
   ],
   "metadata": {
    "collapsed": false,
    "ExecuteTime": {
     "start_time": "2023-04-09T21:12:33.793331Z",
     "end_time": "2023-04-09T21:12:33.849602Z"
    }
   }
  },
  {
   "cell_type": "code",
   "execution_count": 5,
   "outputs": [
    {
     "name": "stderr",
     "output_type": "stream",
     "text": [
      "[nltk_data] Downloading package stopwords to\n",
      "[nltk_data]     C:\\Users\\sandr\\AppData\\Roaming\\nltk_data...\n",
      "[nltk_data]   Package stopwords is already up-to-date!\n",
      "[nltk_data] Downloading package wordnet to\n",
      "[nltk_data]     C:\\Users\\sandr\\AppData\\Roaming\\nltk_data...\n",
      "[nltk_data]   Package wordnet is already up-to-date!\n",
      "[nltk_data] Downloading package punkt to\n",
      "[nltk_data]     C:\\Users\\sandr\\AppData\\Roaming\\nltk_data...\n",
      "[nltk_data]   Package punkt is already up-to-date!\n"
     ]
    }
   ],
   "source": [
    "import nltk\n",
    "from nltk.stem import WordNetLemmatizer\n",
    "\n",
    "nltk.download('stopwords')\n",
    "nltk.download('wordnet')\n",
    "nltk.download('punkt')\n",
    "\n",
    "stop_words = set(nltk.corpus.stopwords.words('english'))\n",
    "stop_words.update({\"hon\"})\n"
   ],
   "metadata": {
    "collapsed": false,
    "ExecuteTime": {
     "start_time": "2023-04-09T21:12:35.531029Z",
     "end_time": "2023-04-09T21:12:35.943416Z"
    }
   }
  },
  {
   "cell_type": "code",
   "execution_count": 6,
   "outputs": [
    {
     "name": "stdout",
     "output_type": "stream",
     "text": [
      "[['the_dt', 'hon_nn'],\n",
      " ['the_dt',\n",
      "  'gallant_jj',\n",
      "  'general_nn',\n",
      "  'who_wp',\n",
      "  'commanded_vbd',\n",
      "  'well_rb',\n",
      "  'knew_vbd',\n",
      "  'that_in',\n",
      "  'would_md',\n",
      "  'soon_rb',\n",
      "  'arrive_vb'],\n",
      " ['but_cc',\n",
      "  'mr',\n",
      "  'pitt_np',\n",
      "  'said_vbd',\n",
      "  'he_pp',\n",
      "  'doubted_vbd',\n",
      "  'whether_in',\n",
      "  'it_pp',\n",
      "  'would_md',\n",
      "  'not_rb',\n",
      "  'be_vb',\n",
      "  'necessary_jj',\n",
      "  'to_to',\n",
      "  'insert_vb',\n",
      "  'a_dt',\n",
      "  'clause_nn',\n",
      "  'in_in',\n",
      "  'the_dt',\n",
      "  'bill_nn',\n",
      "  'i_nn',\n",
      "  'for_in',\n",
      "  'that_dt',\n",
      "  'purpose_nn',\n",
      "  'in_in',\n",
      "  'order_nn',\n",
      "  'to_to',\n",
      "  'have_vb',\n",
      "  'the_dt',\n",
      "  'thing_nn',\n",
      "  'done_vbn',\n",
      "  'as_in',\n",
      "  'effectually_rb',\n",
      "  'and_cc',\n",
      "  'distinctly_rb',\n",
      "  'as_in',\n",
      "  'it_pp',\n",
      "  'should_md',\n",
      "  'be_vb']]\n"
     ]
    }
   ],
   "source": [
    "def sent_to_words(sentences):\n",
    "    for sentence in sentences:\n",
    "        yield gensim.utils.simple_preprocess(str(sentence), deacc=True)\n",
    "\n",
    "data = df.content.values.tolist()\n",
    "data_words = list(sent_to_words(data))\n",
    "\n",
    "pprint(data_words[:3])"
   ],
   "metadata": {
    "collapsed": false,
    "ExecuteTime": {
     "start_time": "2023-04-09T21:12:37.455099Z",
     "end_time": "2023-04-09T21:12:40.104948Z"
    }
   }
  },
  {
   "cell_type": "code",
   "execution_count": 7,
   "outputs": [
    {
     "name": "stdout",
     "output_type": "stream",
     "text": [
      "['and_cc', 'dr', 'hussey_np', 'who_wp', 'informs_vbz', 'us_pp', 'that_dt', 'romish_jj', 'bishop_nn', 'of_in', 'waterford_np', 'appointed_vbn', 'by_in', 'the_dt', 'pope_nn', 'in_in', 'a_dt', 'a_dt', 'pastoral_jj', 'letter_nn', 'published_vbn', 'by_in', 'him_pp_in_in', 'london_np', 'and_cc', 'dublin_np', 'in_in', 'not_rb', 'only_rb', 'holds_vbz', 'the_dt', 'same_jj', 'doctrine_nn', 'but_cc', 'forbids_vbz', 'all_dt', 'romanists_nns', 'under_in', 'pain_nn', 'of_in_to_to', 'permit_vb', 'any_dt_of_in', 'their_pp', 'children_nns', 'under_in', 'any_dt', 'pretence_nn', 'to_to', 'resort_vb', 'to_to', 'a_dt', 'protestant_jj', 'school_nn', 'in_in', 'the_dt', 'same_jj', 'pamphlet_nn', 'he_pp', 'addresses_vbz', 'the_dt', 'romish_jj', 'soldiery_nn', 'and_cc', 'exhorts_vbz', 'them_pp_by_in', 'no_dt', 'means_vbz', 'to_to', 'obey_vb', 'their_pp', 'officers_nns', 'in_in', 'any_dt', 'orders_nns', 'relating_vbg', 'to_to', 'spiritual_jj', 'concerns_nns', 'without_in', 'particularly_rb', 'specifying_vbg', 'what_wp', 'he_pp', 'means_vbz', 'by_in', 'spiritual_jj', 'concerns_nns', 'but_cc', 'reserving_vbg', 'the_dt_to_to', 'himself_pp', 'and_cc', 'the_dt', 'romish_jj', 'priesthood_nn', 'and_cc', 'stating_vbg', 'that_in', 'if_in', 'any_dt', 'officer_nn', 'should_md', 'enforce_vb', 'obedience_nn', 'to_to', 'his_pp', 'orders_nns', 'relating_vbg', 'to_to', 'spiritual_jj', 'concerns_nns', 'such_jj', 'officer_nn', 'might_md', 'feel_vb', 'the_dt', 'effects_nns', 'of_in', 'such_jj', 'conduct_nn_in_in', 'the_dt', 'day_nn_of_in', 'battle_nn', 'that_wdt', 'is_vbz', 'the_dt', 'romish_jj', 'soldier_nn', 'might_md', 'then_rb', 'turn_vb', 'upon_rp', 'and_cc', 'assassinate_vb', 'him_pp', 'or_cc', 'desert_nn', 'to_to', 'the_dt', 'enemy_nn', 'it_pp', 'is_vbz', 'very_rb', 'proper_jj', 'to_to', 'remark_vb', 'here_rb', 'that_in', 'doctor_np', 'hussey_np', 'was_vbd', 'within_in', 'these_dt', 'very_rb', 'few_jj', 'years_nns', 'sent_vbd', 'over_rp_to_to', 'ireland_np', 'by_in', 'the_dt', 'british_jj', 'ministry_nn', 'under_in', 'the_dt', 'protection_nn', 'of_in', 'the_dt', 'english_jj', 'secretary_nn', 'of_in', 'state_nn_in_in', 'ireland_np', 'and_cc', 'was_vbd', 'made_vbn', 'president_nn', 'of_in', 'a_dt', 'most_rbs', 'magnificent_jj', 'college_nn', 'infinitely_rb', 'more_rbr', 'grand_jj', 'and_cc_of_in', 'more_jjr', 'expensive_jj', 'foundation_nn', 'than_in', 'any_dt', 'college_nn', 'in_in', 'his_pp', 'majesty_nn_s_pos', 'dominions_nn', 'then_rb', 'founded_vbn', 'and_cc', 'endowed_vbn', 'for_in', 'the_dt', 'exclusive_jj', 'education_nn', 'of_in', 'romish_jj', 'priests_nns', 'in_in', 'ireland_np', 'by_in', 'the_dt', 'government_nn', 'and_cc_by_in', 'express_jj', 'directions_nns', 'of_in', 'the_dt', 'british_jj', 'ministry_nn', 'that_wdt', 'is_vbz_for_in', 'the_dt', 'perpetuation_nn', 'of_in', 'popery_nn', 'and_cc', 'disaffection_nn', 'in_in', 'so_rb', 'great_jj', 'a_dt', 'limb_nn', 'of_in', 'the_dt', 'british_jj', 'empire_nn']\n"
     ]
    }
   ],
   "source": [
    "# Build the bigram and trigram models\n",
    "bigram = gensim.models.Phrases(data_words, min_count=5, threshold=100) # higher threshold fewer phrases.\n",
    "trigram = gensim.models.Phrases(bigram[data_words], threshold=100)\n",
    "\n",
    "# Faster way to get a sentence clubbed as a trigram/bigram\n",
    "bigram_mod = gensim.models.phrases.Phraser(bigram)\n",
    "trigram_mod = gensim.models.phrases.Phraser(trigram)\n",
    "\n",
    "# See trigram example\n",
    "print(trigram_mod[bigram_mod[data_words[3]]])"
   ],
   "metadata": {
    "collapsed": false,
    "ExecuteTime": {
     "start_time": "2023-04-09T21:12:42.091732Z",
     "end_time": "2023-04-09T21:12:45.686631Z"
    }
   }
  },
  {
   "cell_type": "code",
   "execution_count": 12,
   "outputs": [],
   "source": [
    "# Define functions for stopwords, bigrams, trigrams and lemmatization\n",
    "def remove_stopwords(texts):\n",
    "    return [[word.split('_')[0] for word in simple_preprocess(str(doc)) if word.split('_')[0] not in stop_words] for doc in texts]\n",
    "\n",
    "\n",
    "def make_bigrams(texts):\n",
    "    return [bigram_mod[doc] for doc in texts]\n",
    "\n",
    "def make_trigrams(texts):\n",
    "    return [trigram_mod[bigram_mod[doc]] for doc in texts]\n",
    "\n",
    "def lemmatization(texts, allowed_postags):\n",
    "    \"\"\"https://spacy.io/api/annotation\"\"\"\n",
    "    texts_out = []\n",
    "    for sent in texts:\n",
    "        doc = nlp(\" \".join(sent))\n",
    "        texts_out.append([token.lemma_ for token in doc if token.pos_ in allowed_postags])\n",
    "    return texts_out"
   ],
   "metadata": {
    "collapsed": false,
    "ExecuteTime": {
     "start_time": "2023-04-09T21:15:43.817130Z",
     "end_time": "2023-04-09T21:15:43.826178Z"
    }
   }
  },
  {
   "cell_type": "code",
   "execution_count": 11,
   "outputs": [
    {
     "name": "stdout",
     "output_type": "stream",
     "text": [
      "['the_dt', 'hon_nn']\n",
      "[[], ['gallant', 'general', 'commanded', 'well', 'knew', 'would', 'soon', 'arrive'], ['mr', 'pitt', 'said', 'doubted', 'whether', 'would', 'necessary', 'insert', 'clause', 'bill', 'purpose', 'order', 'thing', 'done', 'effectually', 'distinctly'], ['dr', 'hussey', 'informs', 'us', 'romish', 'bishop', 'waterford', 'appointed', 'pope', 'pastoral', 'letter', 'published', 'london', 'dublin', 'holds', 'doctrine', 'forbids', 'romanists', 'pain', 'permit', 'children', 'pretence', 'resort', 'protestant', 'school', 'pamphlet', 'addresses', 'romish', 'soldiery', 'exhorts', 'means', 'obey', 'officers', 'orders', 'relating', 'spiritual', 'concerns', 'without', 'particularly', 'specifying', 'means', 'spiritual', 'concerns', 'reserving', 'romish', 'priesthood', 'stating', 'officer', 'enforce', 'obedience', 'orders', 'relating', 'spiritual', 'concerns', 'officer', 'might', 'feel', 'effects', 'conduct', 'day', 'battle', 'romish', 'soldier', 'might', 'turn', 'upon', 'assassinate', 'desert', 'enemy', 'proper', 'remark', 'doctor', 'hussey', 'within', 'years', 'sent', 'ireland', 'british', 'ministry', 'protection', 'english', 'secretary', 'state', 'ireland', 'made', 'president', 'magnificent', 'college', 'infinitely', 'grand', 'expensive', 'foundation', 'college', 'majesty', 'dominions', 'founded', 'endowed', 'exclusive', 'education', 'romish', 'priests', 'ireland', 'government', 'express', 'directions', 'british', 'ministry', 'perpetuation', 'popery', 'disaffection', 'great', 'limb', 'british', 'empire'], ['former', 'times', 'former', 'wars', 'invasion', 'often', 'threatened', 'perhaps', 'certain', 'period', 'late', 'war', 'threat', 'certain', 'degree', 'formidable'], ['supported', 'motion', 'could', 'harm', 'might', 'much', 'good'], ['thus', 'see', 'returning', 'office', 'may', 'reasonably', 'conclude', 'situation'], ['pull', 'wires', 'strings', 'machine'], ['statute', 'early', 'part', 'reign', 'george', 'second', 'power', 'given', 'chancellor', 'subsequent', 'statute', 'reign', 'enacted', 'bankrupt', 'could', 'receive', 'certificate', 'without', 'consent', 'ihs', 'number', 'value', 'creditors', 'however', 'fair', 'honourable', 'blameless', 'moral', 'point', 'view', 'conduct', 'bankrupt', 'might', 'labour', 'evils', 'condition', 'mentioned', 'unless', 'creditors', 'chose', 'relieve'], ['whatever', 'might', 'consequence', 'would', 'solemnity', 'process', 'advantages', 'publicity'], ['reduction', 'certainly', 'thanks', 'due', 'right', 'horn', 'secretary', 'war', 'repeated', 'offers', 'part', 'majority', 'clothiers', 'supply', 'clothing', 'reduced', 'price'], ['sir', 'said'], ['opens', 'less', 'five', 'accounts'], ['earl', 'carlisle', 'expressed', 'motion', 'pos', 'rand', 'gent', 'opposite', 'pos', 'rand', 'ignorant', 'engagements', 'pos', 'rand', 'mr', 'rose', 'said', 'measures', 'adopted', 'american', 'government', 'reason', 'complain', 'directly', 'hostile', 'country', 'alone', 'two', 'viz', 'pos', 'rand', 'reasonable', 'sovereignty', 'attached', 'particular', 'spots', 'places', 'convert', 'private', 'property', 'constitution', 'declared', 'public', 'trust', 'permit', 'usurped', 'local', 'sovereignty', 'independent', 'king', 'independent', 'people', 'destructive', 'pos', 'rand', 'earl', 'temple', 'conceiving', 'probable', 'papers', 'connected', 'issue', 'possession', 'witness', 'thought', 'advisable', 'house', 'depute', 'two', 'members', 'select', 'examine', 'papers', 'lodgings', 'pos', 'rand', 'noble', 'lord', 'therefore', 'thought', 'duty', 'move', 'amendment', 'second', 'reading', 'bill', 'postponed', 'day', 'six', 'months', 'pos', 'rand', 'asked', 'accuser', 'pos', 'rand', 'could', 'conceive', 'reason', 'men', 'prevented', 'giving', 'well', 'receiving', 'bribes', 'election', 'pos', 'rand', 'pos', 'rand', 'therefore', 'regard', 'economy', 'money', 'regard', 'much', 'important', 'economy', 'lives', 'would', 'desirable', 'number', 'volunteers', 'increased', 'encouraged', 'proportion', 'proximity', 'coast', 'points', 'liable', 'attacks', 'pos', 'rand', 'gent', 'justified', 'colleagues', 'conduct', 'towards', 'porte', 'upon', 'subsisting', 'treaties', 'particularly', 'triple', 'alliance', 'upon', 'grounded', 'right', 'interference', 'armed', 'mediation', 'pos', 'rand', 'argued', 'measure', 'could', 'originated', 'fanatical', 'puritans', 'plumed', 'upon', 'superior', 'virtue', 'pos', 'rand', 'besides', 'proposition', 'without', 'first', 'demanding', 'independence', 'would', 'surely', 'excited', 'amongst', 'people', 'justifiable', 'distrust', 'suspicion', 'purity', 'british', 'co', 'operation', 'pos', 'rand', 'adverted', 'manner', 'notice', 'pos', 'rand', 'lordship', 'concluded', 'saying', 'noble', 'earl', 'desirous', 'information', 'respecting', 'grounds', 'part', 'conduct', 'ministers', 'would', 'take', 'upon', 'assure', 'would', 'refused', 'even', 'unlimited', 'extent', 'think', 'lordships', 'would', 'opinion', 'precisely', 'time', 'go', 'inquiry', 'various', 'topics', 'connected', 'general', 'state', 'nation', 'pos', 'rand', 'therefore', 'understood', 'declaration', 'made', 'majesty', 'state', 'health', 'possesed', 'ail', 'faculties', 'necessary', 'discharge', 'royal', 'functions', 'prevented', 'coming', 'parliament', 'transacting', 'business', 'nation', 'pos', 'rand', 'complained', 'relief', 'proposed', 'given', 'injury', 'oppression', 'barley', 'counties', 'pos', 'rand', 'instead', 'trusting', 'became', 'rely', 'converted', 'great', 'national', 'question', 'senseless', 'cry', 'cla', 'mour', 'done', 'every', 'thing', 'power', 'endanger', 'whole', 'question', 'giving', 'temporary', 'personal', 'character', 'pretext', 'exaggerated', 'loyalty', 'ill', 'founded', 'alarm', 'respect', 'mover', 'supporters', 'present', 'question', 'gave', 'every', 'credit', 'full', 'purity', 'motives', 'knew', 'far', 'removed', 'could', 'indifference', 'concerning', 'called', 'church', 'state', 'nothing', 'occurred', 'lessen', 'friendship', 'shake', 'attachment', 'pos', 'rand', 'majesty', 'government', 'given', 'unequivocal', 'proof', 'disapprove', 'conduct', 'brave', 'entirely', 'intrusting', 'highest', 'military', 'confidence', 'ever', 'intrusted', 'hands', 'british', 'general', 'annals', 'history', 'pos', 'rand', 'majesty', 'ministers', 'saw', 'prospect', 'successful', 'issue', 'question', 'house', 'mischief', 'discussion', 'unreasonable', 'willing', 'avoid', 'debate', 'pos', 'rand', 'motion', 'agreed', 'pos', 'rand', 'explosion', 'therefore', 'prematurely', 'broken', 'forth', 'pos', 'rand', 'would', 'express', 'opinion', 'upon', 'mode', 'ought', 'adopted', 'pos', 'rand', 'yet', 'actually', 'negotiating', 'nabob', 'found', 'commenced', 'allied', 'friendly', 'power', 'tippoo', 'sultana', 'sworn', 'enemy', 'british', 'nation', 'peace', 'preparation', 'war', 'undisguised', 'purpose', 'whose', 'hostility', 'total', 'extirpation', 'name', 'peninsula', 'india', 'pos', 'rand', 'unknown', 'pos', 'rand', 'increase', 'duty', 'strength', 'spirits', 'increase', 'work', 'stills', 'think', 'hold', 'larger', 'inducement', 'illicit', 'pos', 'rand', 'admitted', 'many', 'important', 'objects', 'inquiry', 'remained', 'yet', 'examined', 'would', 'impossible', 'complete', 'present', 'session', 'numerous', 'would', 'arise', 'consequence', 'war', 'pos', 'rand', 'friend', 'stating', 'objections', 'bill', 'proceeded', 'detail', 'fairly', 'alterations', 'military', 'system', 'proposed', 'submit', 'committee', 'pos', 'rand', 'king', 'nomination', 'catholic', 'bishops', 'ireland', 'instead', 'pope', 'pos', 'rand', 'right', 'pos', 'rand', 'lb', 'right', 'pos', 'rand', 'mean', 'say', 'embark', 'wild', 'military', 'chance', 'succeeding', 'still', 'opinion', 'spanish', 'people', 'continued', 'display', 'energy', 'shewn', 'many', 'months', 'ago', 'struggle', 'country', 'means', 'end', 'pos', 'rand', 'appeared', 'mistaken', 'field', 'evinced', 'ignorance', 'whole', 'substratum', 'upon', 'victualling', 'board', 'rested', 'pos', 'rand', 'hoped', 'latter', 'alternative', 'would', 'never', 'take', 'place', 'abuses', 'passed', 'unheeded', 'concealed', 'reform', 'would', 'called', 'manner', 'nobody', 'would', 'sorry', 'see'], ['burton', 'case', 'duke', 'york', 'one', 'lucid', 'eloquent', 'ever', 'uttered', 'within', 'walls', 'parliament'], ['army', 'large', 'stake', 'greater', 'small', 'chance', 'greater', 'losing'], ['late', 'dr', 'hussey', 'particular', 'many', 'instances', 'authority', 'destroyed', 'harmony', 'long', 'subsisted', 'roman', 'catholic', 'parochial', 'clergy', 'protestant', 'clergy', 'laity', 'district', 'assumed', 'episcopal', 'jurisdiction'], ['demand', 'continent', 'sugar', 'uniformly', 'becomes', 'dear', 'scarce', 'great', 'britain', 'none', 'becomes', 'cheap', 'abundant', 'price', 'british', 'plantation', 'sugar', 'sold', 'home', 'consumption', 'occasioned', 'demand', 'want', 'demand', 'exportation'], ['mrs', 'clarke', 'therefore', 'flatly', 'witness'], ['question', 'put', 'lord', 'hawkesbury', 'motion', 'agreed', 'adjournment', 'accordingly', 'took', 'place'], ['upon', 'grounds', 'objected', 'addresses', 'going', 'brand', 'duke', 'york', 'infamy', 'without', 'allowing', 'benefit', 'trial', 'peers', 'usual', 'sanction', 'witnesses', 'sworn'], ['third', 'report', 'finance', 'committee', 'contained', 'abolish', 'sinecures', 'courts', 'law'], ['one', 'never', 'conceived', 'arguments', 'right', 'hen'], ['rendered', 'necessary', 'absence', 'members', 'connected', 'subject'], [], ['mr', 'secretary', 'yorke', 'concluded', 'heard', 'would', 'agreeable', 'jo', 'give', 'commanding', 'officer', 'volunteer', 'corps', 'unlimited', 'power'], ['mr', 'frere', 'gave', 'opinion', 'sir', 'john', 'moore', 'ought', 'retreat'], ['act', 'object', 'adverted', 'described'], ['military', 'talents', 'sir', 'wellesley', 'impossible', 'man', 'entertain', 'higher', 'opinion'], ['ally', 'lived', 'great', 'distance', 'alliance', 'paid', 'per', 'month', 'little', 'service', 'cause', 'many', 'wished', 'would', 'make', 'peace', 'enemies', 'spain', 'already', 'declared', 'opinion', 'engagements', 'majesty', 'entered', 'people', 'country', 'interests', 'could', 'abandoned', 'single', 'spaniard', 'would', 'time', 'consented', 'peace', 'secured', 'independence', 'integrity', 'spain', 'restored', 'beloved', 'king', 'ferdinand'], ['deputed', 'part', 'ireland', 'assert', 'rights', 'uphold', 'interests', 'enforce', 'claims', 'appear', 'amongst', 'consequence', 'solemn', 'engagements', 'made', 'us', 'part', 'king', 'nation'], ['well', 'say', 'office', 'short', 'time', 'therefore', 'right', 'call', 'us', 'account', 'taking', 'matter', 'multiplicity', 'business', 'thrown', 'us', 'scarcely', 'time', 'arrange', 'might', 'escape', 'notice'], ['mention', 'important', 'fact', 'show', 'opinion', 'court', 'upon', 'subject', 'satisfy', 'house', 'without', 'parliament', 'expected', 'body', 'continue', 'prejudices', 'act', 'sense', 'duty'], ['added', 'although', 'official', 'notice', 'delivered', 'th', 'january', 'president', 'congress', 'orders', 'issued', 'british', 'government', 'yet', 'following', 'february', 'majesty', 'minister', 'united', 'states', 'mr', 'erskine', 'officially', 'existence', 'orders', 'neutral', 'government', 'interested', 'operation'], ['preserved', 'manner', 'produced', 'nevertheless', 'confirming', 'many', 'parts', 'evidence', 'appeared', 'improbable', 'extravagant'], ['mr', 'barham', 'enumerating', 'various', 'measures', 'adopted', 'recommended', 'relief', 'west', 'india', 'interest', 'commenting', 'upon', 'value', 'efficacy', 'moved', 'pursuant', 'notice', 'house', 'resolve', 'committee', 'whole', 'house', 'take', 'second', 'third', 'reports', 'west', 'india', 'committee'], ['told', 'must', 'first', 'make', 'case', 'next', 'got', 'friends', 'move', 'previous', 'question', 'debarring', 'information'], ['mind', 'every', 'person', 'present', 'urgent', 'pressing', 'critical', 'situation', 'country', 'stood', 'wire', 'enhanced', 'suspension', 'royal', 'authority', 'ground', 'introduced', 'present', 'discussion'], ['corn', 'regulation', 'bill'], ['noble', 'duke', 'portland', 'appears', 'ready', 'fill', 'place', 'cabinet'], ['man', 'brought', 'repentance', 'upon', 'repentance', 'apostle', 'writes', 'church', 'receive', 'penitent', 'communion', 'confirm', 'love'], ['enemy', 'corruption', 'kinds', 'found', 'compelled', 'reluctant', 'attacker', 'memory', 'duke', 'bedford', 'upon', 'subject', 'even', 'life', 'might', 'deemed', 'peculiarly', 'man', 'upon', 'death', 'cannot', 'possibly', 'matter', 'world', 'great', 'account', 'closed', 'correction', 'made', 'errors', 'committed', 'change', 'sentiment', 'take', 'place', 'appear', 'act', 'wanton', 'deliberate', 'cruelty', 'make', 'attack'], ['mr', 'fremantle', 'cordially', 'concurred', 'motion'], ['amount', 'emolument', 'mr', 'jeffery', 'per', 'ann'], ['situation', 'officer', 'might', 'command', 'cavalry', 'regiment', 'difficult', 'one', 'required', 'considerable', 'experience', 'particular', 'service', 'experience', 'col'], ['aware', 'may', 'said', 'proportion', 'force', 'present', 'armed'], ['delicacy', 'withhold', 'censure', 'may', 'due', 'becoming', 'individual', 'house', 'pronounce', 'upon'], ['baronet', 'one', 'conscious', 'purity', 'motives', 'might', 'easily', 'despise', 'truth', 'always', 'proof', 'bad', 'cause', 'side', 'resorted', 'means', 'defence'], ['objection', 'great', 'difficulty', 'obtaining', 'returns', 'could', 'conceive', 'returns', 'could', 'easily', 'procured', 'every', 'regiment', 'service'], ['much', 'case', 'remembered', 'gentleman', 'made', 'proposals', 'family', 'several', 'daughters', 'father', 'inquired', 'daughters', 'honoured', 'choice', 'replied', 'please'], ['generally', 'estimates', 'acre', 'sometimes', 'barrel', 'usually', 'second', 'view', 'makes', 'bargain', 'tithe', 'occupier', 'spot', 'reducing', 'charge', 'certain', 'degree', 'farmer', 'passes', 'note'], [], ['absentees', 'greatly', 'increased', 'capital', 'deserted', 'nobility', 'almost', 'whole', 'great', 'landed', 'proprietors'], ['chancellor', 'exchequer', 'thought', 'royal', 'highness', 'innocent', 'therefore', 'declaration', 'duke', 'york', 'honour', 'prince', 'innocent', 'must', 'appear', 'perfectly', 'correct', 'lord', 'milton', 'however', 'contrary', 'opinion', 'found', 'difficult', 'get', 'conclusion', 'one', 'already', 'mentioned'], ['change', 'commanders', 'whole', 'system', 'altered', 'circumstance', 'necessarily', 'governed', 'subsequent', 'views'], ['field', 'train', 'fully', 'adequate', 'last', 'war', 'force', 'employed', 'great', 'britain', 'alone', 'already', 'increased', 'pieces', 'ordnance', 'completely', 'appointed', 'brigaded', 'experienced', 'officers'], ['general', 'principle', 'indeed', 'lay', 'independent', 'party', 'whenever', 'gross', 'indecent', 'attacks', 'made', 'proceedings', 'house', 'ought', 'punished', 'suitable', 'severity'], ['made', 'remark', 'wait', 'draw', 'inference'], ['price', 'service', 'plate', 'course', 'house', 'would', 'expect', 'mrs', 'statement', 'duke', 'payment', 'balance', 'viz'], ['slaves', 'could', 'smuggled', 'jamaica', 'st', 'domingo'], ['gen', 'loftus', 'recollected', 'evidence', 'given', 'witness', 'former', 'night', 'convinced', 'could', 'impeached'], ['two', 'papers', 'circulated', 'among', 'catholics', 'ireland', 'considered', 'proceeding', 'union', 'observable', 'papers', 'intended', 'public', 'eye'], ['even', 'potatoe', 'garden', 'peasant', 'escape', 'rigorous', 'exactions'], ['right'], ['needless', 'point', 'view', 'touch', 'upon', 'topic', 'even', 'delinquency', 'imputed', 'might', 'degree', 'extenuated', 'excused'], ['nothing', 'could', 'honourable', 'gallant', 'officer', 'dispatches', 'transmitted', 'believe', 'last', 'wish', 'government', 'use', 'discretion', 'regard', 'publication'], ['mr', 'francis', 'moved', 'th', 'clause', 'th', 'king', 'read', 'viz'], ['contained', 'reasons', 'brought', 'bill', 'hoped', 'would', 'pass'], ['charge', 'however', 'equally', 'applied', 'every', 'member', 'house'], ['ever', 'hear', 'said', 'lordship', 'buonapart', 'appointing', 'marshal', 'ney', 'command', 'army', 'midst', 'action', 'sending', 'general', 'soult', 'supersede', 'midst', 'battle', 'sending', 'massena', 'general', 'supersede'], ['proposed', 'give', 'catholics', 'ireland', 'bread', 'sweat', 'oftheir', 'brow', 'nothing'], ['ground', 'wish', 'enter', 'minute', 'discussion', 'explanation', 'circumstance', 'think', 'essential'], ['thought', 'every', 'thing', 'observed'], ['cannot', 'forget', 'general', 'tenour', 'questions', 'put', 'last', 'question', 'first', 'examination'], ['mr', 'adam', 'proceeded'], ['noble', 'lord', 'opposite', 'honour', 'call', 'countryman', 'also'], ['document', 'subject', 'b', 'en', 'laid', 'house', 'passage', 'majesty', 'speech', 'describes', 'terms', 'highest', 'satisfaction', 'general', 'change', 'disposition', 'deluded', 'subjects', 'ireland', 'gracious', 'confidence', 'corrected', 'judgment', 'misled'], ['whoever', 'speaks', 'possible', 'speak', 'without', 'admiring', 'great', 'abilities', 'whatever', 'may', 'thought', 'character', 'respects'], ['lord', 'hawkesbury', 'moved', 'order', 'day', 'commitment', 'english', 'militia', 'enlisting', 'bill'], ['present', 'ministers', 'therefore', 'either', 'fairor', 'claim', 'merit', 'services', 'others', 'solely', 'interested'], ['gent'], ['irish', 'catholics', 'renounce', 'temporary', 'supremacy', 'pope', 'renounce', 'admission', 'words', 'state', 'subject', 'alarm'], ['present', 'certainly', 'measure', 'en', 'tilled', 'fullest', 'discussion', 'considered', 'ruinous', 'appear', 'prosperity', 'tranquillity', 'whole', 'united', 'empire'], ['thought', 'house', 'appear', 'shrink', 'duty', 'perform', 'part', 'felt', 'bound', 'vote', 'motion'], ['stand', 'like', 'puny', 'child', 'margin', 'sea', 'fearful', 'wet', 'feet', 'though', 'conscious', 'soon', 'must', 'plunge'], ['replied', 'assertion', 'peasantry', 'ireland', 'cared', 'farthing', 'object', 'higher', 'orders', 'persuasion', 'seeking'], ['general', 'view', 'present', 'military', 'system', 'fully', 'convinced', 'absolute', 'necessity', 'immediately', 'undergoing', 'complete', 'revision'], ['gent'], ['said', 'respect', 'door', 'influence', 'far', 'disposed', 'ever', 'let', 'popular', 'cry', 'undue', 'influence', 'vote', 'house'], ['gordon', 'chancellor', 'exchequer'], ['shall', 'preface', 'remarks', 'sir', 'expressing', 'hope', 'subject', 'considered', 'utmost', 'coolness', 'impartiality'], ['proceeded', 'comment', 'parts', 'evidence'], ['formed', 'opinion', 'matter', 'upon', 'statement', 'mrs', 'alone', 'upon', 'statement', 'confirmed', 'evidence', 'mr', 'lowten', 'mr', 'wilkinson', 'called', 'prove', 'house'], ['motion', 'went', 'charge', 'government', 'abuses', 'could', 'prevent', 'seeking', 'reform', 'parliament', 'would', 'go', 'near', 'overturn', 'government'], ['house', 'composed', 'people', 'would', 'infinitely', 'better', 'auction', 'seats', 'public', 'mart', 'might', 'go', 'conduct', 'matters', 'openly'], ['thus', 'far', 'examined', 'nature', 'charges', 'let', 'us', 'inquire', 'little', 'whether', 'thing', 'bound', 'yield', 'authority', 'brought', 'forward'], ['falsehood', 'would', 'detected', 'would', 'softer', 'punishment', 'duplicity', 'would', 'richly', 'deserve'], ['may', 'find', 'cause', 'withdraw', 'barrier', 'insuperable', 'whilst', 'remains', 'force', 'divided', 'allegiance', 'obligation', 'papal', 'supremacy', 'noble', 'lord', 'forcibly', 'eloquently', 'render', 'vain', 'pretensions', 'equal', 'rights', 'want', 'equal', 'conditions'], ['see', 'reproach', 'attaching', 'result', 'force', 'arguments', 'friends', 'saw', 'disrespect', 'house', 'man', 'change', 'opinion', 'course', 'debate', 'thought', 'use', 'good', 'argument', 'convince', 'heard', 'hoped', 'never', 'arrogant', 'think', 'mind', 'perfect', 'incapable', 'receiving', 'minds', 'others'], ['noble', 'lord', 'accused', 'intention', 'entrap', 'house', 'motion', 'lie', 'made', 'inasmuch', 'mixed', 'motion', 'totally', 'distinct', 'separate']]\n",
      "[[]]\n"
     ]
    }
   ],
   "source": [
    "# Remove Stop Words\n",
    "print(data_words[0])\n",
    "data_words_nostops = remove_stopwords(data_words)\n",
    "print(data_words_nostops[:3])\n",
    "# Form Bigrams\n",
    "data_words_bigrams = make_bigrams(data_words_nostops)\n",
    "\n",
    "# Initialize spacy 'en' model, keeping only tagger component (for efficiency)\n",
    "import spacy\n",
    "nlp = spacy.load('en_core_web_sm', disable=['parser', 'ner'])\n",
    "\n",
    "# Do lemmatization keeping only noun, adj, vb, adv\n",
    "data_lemmatized = lemmatization(data_words_bigrams, allowed_postags=[\"NN\", \"NNS\", \"NNP\", \"NNPS\", \"JJ\", \"JJR\", \"JJS\", \"VB\", \"VBD\", \"VBG\", \"VBN\", \"VBP\", \"VBZ\", \"RB\", \"RBR\", \"RBS\"])\n",
    "\n",
    "print(data_lemmatized[:1])"
   ],
   "metadata": {
    "collapsed": false,
    "ExecuteTime": {
     "start_time": "2023-04-09T21:14:40.010783Z",
     "end_time": "2023-04-09T21:15:43.809896Z"
    }
   }
  },
  {
   "cell_type": "code",
   "execution_count": null,
   "outputs": [],
   "source": [
    "# Create Dictionary\n",
    "id2word = corpora.Dictionary(data_lemmatized)\n",
    "\n",
    "# Create Corpus\n",
    "texts = data_lemmatized\n",
    "\n",
    "# Term Document Frequency\n",
    "corpus = [id2word.doc2bow(text) for text in texts]\n",
    "\n",
    "# View\n",
    "print(corpus[:1])"
   ],
   "metadata": {
    "collapsed": false
   }
  },
  {
   "cell_type": "code",
   "execution_count": null,
   "outputs": [],
   "source": [
    "# Human readable format of corpus (term-frequency)\n",
    "[[(id2word[id], freq) for id, freq in cp] for cp in corpus[:1]]"
   ],
   "metadata": {
    "collapsed": false
   }
  },
  {
   "cell_type": "code",
   "execution_count": null,
   "outputs": [],
   "source": [
    "# Build LDA model\n",
    "lda_model = gensim.models.ldamodel.LdaModel(corpus=corpus,\n",
    "                                           id2word=id2word,\n",
    "                                           num_topics=20,\n",
    "                                           random_state=100,\n",
    "                                           update_every=1,\n",
    "                                           chunksize=100,\n",
    "                                           passes=10,\n",
    "                                           alpha='auto',\n",
    "                                           per_word_topics=True)"
   ],
   "metadata": {
    "collapsed": false
   }
  },
  {
   "cell_type": "code",
   "execution_count": null,
   "outputs": [],
   "source": [],
   "metadata": {
    "collapsed": false
   }
  },
  {
   "cell_type": "code",
   "execution_count": null,
   "outputs": [],
   "source": [],
   "metadata": {
    "collapsed": false
   }
  },
  {
   "cell_type": "code",
   "execution_count": null,
   "outputs": [],
   "source": [],
   "metadata": {
    "collapsed": false
   }
  },
  {
   "cell_type": "code",
   "execution_count": null,
   "outputs": [],
   "source": [],
   "metadata": {
    "collapsed": false
   }
  },
  {
   "cell_type": "code",
   "execution_count": null,
   "outputs": [],
   "source": [],
   "metadata": {
    "collapsed": false
   }
  },
  {
   "cell_type": "code",
   "execution_count": 6,
   "outputs": [
    {
     "data": {
      "text/plain": "  timePeriod  index                                            rawText\n0 1800-01-01      1                               The_DT hon_NN ._SENT\n1 1800-01-01      2  The_DT gallant_JJ general_NN who_WP commanded_...\n2 1800-01-01      3  But_CC ,_, Mr._NP Pitt_NP said_VBD ,_, he_PP d...\n3 1800-01-01      4  And_CC Dr._NP Hussey_NP ,_, who_WP informs_VBZ...\n4 1800-01-01      5  In_IN former_JJ times_NNS and_CC in_IN former_...",
      "text/html": "<div>\n<style scoped>\n    .dataframe tbody tr th:only-of-type {\n        vertical-align: middle;\n    }\n\n    .dataframe tbody tr th {\n        vertical-align: top;\n    }\n\n    .dataframe thead th {\n        text-align: right;\n    }\n</style>\n<table border=\"1\" class=\"dataframe\">\n  <thead>\n    <tr style=\"text-align: right;\">\n      <th></th>\n      <th>timePeriod</th>\n      <th>index</th>\n      <th>rawText</th>\n    </tr>\n  </thead>\n  <tbody>\n    <tr>\n      <th>0</th>\n      <td>1800-01-01</td>\n      <td>1</td>\n      <td>The_DT hon_NN ._SENT</td>\n    </tr>\n    <tr>\n      <th>1</th>\n      <td>1800-01-01</td>\n      <td>2</td>\n      <td>The_DT gallant_JJ general_NN who_WP commanded_...</td>\n    </tr>\n    <tr>\n      <th>2</th>\n      <td>1800-01-01</td>\n      <td>3</td>\n      <td>But_CC ,_, Mr._NP Pitt_NP said_VBD ,_, he_PP d...</td>\n    </tr>\n    <tr>\n      <th>3</th>\n      <td>1800-01-01</td>\n      <td>4</td>\n      <td>And_CC Dr._NP Hussey_NP ,_, who_WP informs_VBZ...</td>\n    </tr>\n    <tr>\n      <th>4</th>\n      <td>1800-01-01</td>\n      <td>5</td>\n      <td>In_IN former_JJ times_NNS and_CC in_IN former_...</td>\n    </tr>\n  </tbody>\n</table>\n</div>"
     },
     "execution_count": 6,
     "metadata": {},
     "output_type": "execute_result"
    }
   ],
   "source": [
    "papers['timePeriod'] = papers['timePeriod'].map(lambda x: x.rstrip('X.POS.rand'))\n",
    "papers['timePeriod'] = papers['timePeriod'].astype(str) + '0'\n",
    "papers['timePeriod'] = pd.to_datetime(papers['timePeriod'], format='%Y')\n",
    "papers['timePeriod'] = pd.DatetimeIndex(papers['timePeriod']) #.year\n",
    "papers.head()"
   ],
   "metadata": {
    "collapsed": false,
    "ExecuteTime": {
     "start_time": "2023-04-09T19:51:50.398830Z",
     "end_time": "2023-04-09T19:51:50.514769Z"
    }
   }
  },
  {
   "cell_type": "code",
   "execution_count": 50,
   "outputs": [
    {
     "data": {
      "text/plain": "  timePeriod  index                                            rawText\n0 1800-01-01      1                               The_DT hon_NN ._SENT\n1 1800-01-01      2  The_DT gallant_JJ general_NN who_WP commanded_...\n2 1800-01-01      3  But_CC ,_, Mr._NP Pitt_NP said_VBD ,_, he_PP d...\n3 1800-01-01      4  And_CC Dr._NP Hussey_NP ,_, who_WP informs_VBZ...\n4 1800-01-01      5  In_IN former_JJ times_NNS and_CC in_IN former_...",
      "text/html": "<div>\n<style scoped>\n    .dataframe tbody tr th:only-of-type {\n        vertical-align: middle;\n    }\n\n    .dataframe tbody tr th {\n        vertical-align: top;\n    }\n\n    .dataframe thead th {\n        text-align: right;\n    }\n</style>\n<table border=\"1\" class=\"dataframe\">\n  <thead>\n    <tr style=\"text-align: right;\">\n      <th></th>\n      <th>timePeriod</th>\n      <th>index</th>\n      <th>rawText</th>\n    </tr>\n  </thead>\n  <tbody>\n    <tr>\n      <th>0</th>\n      <td>1800-01-01</td>\n      <td>1</td>\n      <td>The_DT hon_NN ._SENT</td>\n    </tr>\n    <tr>\n      <th>1</th>\n      <td>1800-01-01</td>\n      <td>2</td>\n      <td>The_DT gallant_JJ general_NN who_WP commanded_...</td>\n    </tr>\n    <tr>\n      <th>2</th>\n      <td>1800-01-01</td>\n      <td>3</td>\n      <td>But_CC ,_, Mr._NP Pitt_NP said_VBD ,_, he_PP d...</td>\n    </tr>\n    <tr>\n      <th>3</th>\n      <td>1800-01-01</td>\n      <td>4</td>\n      <td>And_CC Dr._NP Hussey_NP ,_, who_WP informs_VBZ...</td>\n    </tr>\n    <tr>\n      <th>4</th>\n      <td>1800-01-01</td>\n      <td>5</td>\n      <td>In_IN former_JJ times_NNS and_CC in_IN former_...</td>\n    </tr>\n  </tbody>\n</table>\n</div>"
     },
     "execution_count": 50,
     "metadata": {},
     "output_type": "execute_result"
    }
   ],
   "source": [
    "#reducedPapers = papers[papers[\"timePeriod\"].isin(pd.date_range(\"1800-01-01\", \"1830-01-01\"))]\n",
    "#reducedPapers = papers[papers[\"timePeriod\"].isin(pd.date_range(\"1800-01-01\", \"1890-01-01\"))]\n",
    "reducedPapers = papers[papers[\"timePeriod\"].isin(pd.date_range(\"1800-01-01\", \"1820-01-01\"))]\n",
    "#reducedPapers = papers\n",
    "reducedPapers.head()\n",
    "#reducedPapers.tail()"
   ],
   "metadata": {
    "collapsed": false,
    "ExecuteTime": {
     "start_time": "2023-04-09T17:59:47.334384Z",
     "end_time": "2023-04-09T17:59:47.404232Z"
    }
   }
  },
  {
   "cell_type": "code",
   "execution_count": 38,
   "outputs": [
    {
     "name": "stderr",
     "output_type": "stream",
     "text": [
      "[nltk_data] Downloading package stopwords to\n",
      "[nltk_data]     C:\\Users\\sandr\\AppData\\Roaming\\nltk_data...\n",
      "[nltk_data]   Package stopwords is already up-to-date!\n",
      "[nltk_data] Downloading package wordnet to\n",
      "[nltk_data]     C:\\Users\\sandr\\AppData\\Roaming\\nltk_data...\n",
      "[nltk_data]   Package wordnet is already up-to-date!\n",
      "[nltk_data] Downloading package punkt to\n",
      "[nltk_data]     C:\\Users\\sandr\\AppData\\Roaming\\nltk_data...\n",
      "[nltk_data]   Package punkt is already up-to-date!\n"
     ]
    },
    {
     "data": {
      "text/plain": "  timePeriod  index                                            content   \n0 1800-01-01      1                               The_DT hon_NN ._SENT  \\\n1 1800-01-01      2  The_DT gallant_JJ general_NN who_WP commanded_...   \n2 1800-01-01      3  But_CC ,_, Mr._NP Pitt_NP said_VBD ,_, he_PP d...   \n3 1800-01-01      4  And_CC Dr._NP Hussey_NP ,_, who_WP informs_VBZ...   \n4 1800-01-01      5  In_IN former_JJ times_NNS and_CC in_IN former_...   \n\n                                       processedText  \n0                                                hon  \n1  gallant general commanded well knew reinforcem...  \n2  pitt said doubted whether would necessary inse...  \n3  hussey informs u romish bishop waterford appoi...  \n4  former time former war invasion often threaten...  ",
      "text/html": "<div>\n<style scoped>\n    .dataframe tbody tr th:only-of-type {\n        vertical-align: middle;\n    }\n\n    .dataframe tbody tr th {\n        vertical-align: top;\n    }\n\n    .dataframe thead th {\n        text-align: right;\n    }\n</style>\n<table border=\"1\" class=\"dataframe\">\n  <thead>\n    <tr style=\"text-align: right;\">\n      <th></th>\n      <th>timePeriod</th>\n      <th>index</th>\n      <th>content</th>\n      <th>processedText</th>\n    </tr>\n  </thead>\n  <tbody>\n    <tr>\n      <th>0</th>\n      <td>1800-01-01</td>\n      <td>1</td>\n      <td>The_DT hon_NN ._SENT</td>\n      <td>hon</td>\n    </tr>\n    <tr>\n      <th>1</th>\n      <td>1800-01-01</td>\n      <td>2</td>\n      <td>The_DT gallant_JJ general_NN who_WP commanded_...</td>\n      <td>gallant general commanded well knew reinforcem...</td>\n    </tr>\n    <tr>\n      <th>2</th>\n      <td>1800-01-01</td>\n      <td>3</td>\n      <td>But_CC ,_, Mr._NP Pitt_NP said_VBD ,_, he_PP d...</td>\n      <td>pitt said doubted whether would necessary inse...</td>\n    </tr>\n    <tr>\n      <th>3</th>\n      <td>1800-01-01</td>\n      <td>4</td>\n      <td>And_CC Dr._NP Hussey_NP ,_, who_WP informs_VBZ...</td>\n      <td>hussey informs u romish bishop waterford appoi...</td>\n    </tr>\n    <tr>\n      <th>4</th>\n      <td>1800-01-01</td>\n      <td>5</td>\n      <td>In_IN former_JJ times_NNS and_CC in_IN former_...</td>\n      <td>former time former war invasion often threaten...</td>\n    </tr>\n  </tbody>\n</table>\n</div>"
     },
     "execution_count": 38,
     "metadata": {},
     "output_type": "execute_result"
    }
   ],
   "source": [
    "import nltk\n",
    "from nltk.stem import WordNetLemmatizer\n",
    "nltk.download('stopwords')\n",
    "nltk.download('wordnet')\n",
    "nltk.download('punkt')\n",
    "\n",
    "stop_words = set(nltk.corpus.stopwords.words('english'))\n",
    "wn = WordNetLemmatizer()\n",
    "\n",
    "def preprocess_text(text):\n",
    "    tokens = [word.split('_')[0] for word in nltk.word_tokenize(text.lower())]\n",
    "    words = [word for word in tokens if word.isalpha()]\n",
    "    lemmas = [wn.lemmatize(word) for word in words if word not in stop_words]\n",
    "    return \" \".join(lemmas)\n",
    "\n",
    "reducedPapers = df\n",
    "\n",
    "reducedPapers.loc[:, 'processedText'] = reducedPapers['content'].apply(preprocess_text)\n",
    "reducedPapers.loc[:, 'processedText'] = reducedPapers['processedText'].astype(\"str\")\n",
    "\n",
    "\n",
    "\n",
    "reducedPapers.head()"
   ],
   "metadata": {
    "collapsed": false,
    "ExecuteTime": {
     "start_time": "2023-04-09T20:19:55.963093Z",
     "end_time": "2023-04-09T20:20:36.637658Z"
    }
   }
  },
  {
   "cell_type": "code",
   "execution_count": 52,
   "outputs": [],
   "source": [
    "reducedPapers.to_csv('./processedData/processedData.csv', sep=',')"
   ],
   "metadata": {
    "collapsed": false,
    "ExecuteTime": {
     "start_time": "2023-04-09T18:00:04.884788Z",
     "end_time": "2023-04-09T18:00:05.219839Z"
    }
   }
  },
  {
   "cell_type": "code",
   "execution_count": 53,
   "outputs": [
    {
     "data": {
      "text/plain": "       Unnamed: 0  timePeriod  index   \n21802       21802  1820-01-01   9981  \\\n21803       21803  1820-01-01   9982   \n21804       21804  1820-01-01   9983   \n21805       21805  1820-01-01   9984   \n21806       21806  1820-01-01   9985   \n\n                                                 rawText   \n21802  The_DT governor-general_NN of_IN India_NP had_...  \\\n21803  We_PP have_VBP disdained_VBN to_TO run_VB a_DT...   \n21804  Mr._NP Philips_NP thought_VBD it_PP quite_RB u...   \n21805  The_DT chief_JJ justice_NN sent_VBN into_IN th...   \n21806  _'' <lb/> Lord_NP Bacon_NP adds_VBZ this_DT br...   \n\n                                           processedText  \n21802  india applied individual punishment prescribed...  \n21803  disdained run race popularity nation order sec...  \n21804  philip thought quite unworthy house time occup...  \n21805  chief justice sent court common plea ask opini...  \n21806  lord bacon add brief sentence pregnant truth o...  ",
      "text/html": "<div>\n<style scoped>\n    .dataframe tbody tr th:only-of-type {\n        vertical-align: middle;\n    }\n\n    .dataframe tbody tr th {\n        vertical-align: top;\n    }\n\n    .dataframe thead th {\n        text-align: right;\n    }\n</style>\n<table border=\"1\" class=\"dataframe\">\n  <thead>\n    <tr style=\"text-align: right;\">\n      <th></th>\n      <th>Unnamed: 0</th>\n      <th>timePeriod</th>\n      <th>index</th>\n      <th>rawText</th>\n      <th>processedText</th>\n    </tr>\n  </thead>\n  <tbody>\n    <tr>\n      <th>21802</th>\n      <td>21802</td>\n      <td>1820-01-01</td>\n      <td>9981</td>\n      <td>The_DT governor-general_NN of_IN India_NP had_...</td>\n      <td>india applied individual punishment prescribed...</td>\n    </tr>\n    <tr>\n      <th>21803</th>\n      <td>21803</td>\n      <td>1820-01-01</td>\n      <td>9982</td>\n      <td>We_PP have_VBP disdained_VBN to_TO run_VB a_DT...</td>\n      <td>disdained run race popularity nation order sec...</td>\n    </tr>\n    <tr>\n      <th>21804</th>\n      <td>21804</td>\n      <td>1820-01-01</td>\n      <td>9983</td>\n      <td>Mr._NP Philips_NP thought_VBD it_PP quite_RB u...</td>\n      <td>philip thought quite unworthy house time occup...</td>\n    </tr>\n    <tr>\n      <th>21805</th>\n      <td>21805</td>\n      <td>1820-01-01</td>\n      <td>9984</td>\n      <td>The_DT chief_JJ justice_NN sent_VBN into_IN th...</td>\n      <td>chief justice sent court common plea ask opini...</td>\n    </tr>\n    <tr>\n      <th>21806</th>\n      <td>21806</td>\n      <td>1820-01-01</td>\n      <td>9985</td>\n      <td>_'' &lt;lb/&gt; Lord_NP Bacon_NP adds_VBZ this_DT br...</td>\n      <td>lord bacon add brief sentence pregnant truth o...</td>\n    </tr>\n  </tbody>\n</table>\n</div>"
     },
     "execution_count": 53,
     "metadata": {},
     "output_type": "execute_result"
    }
   ],
   "source": [
    "test = pd.read_csv(\n",
    "    \"./processedData/processedData.csv\",\n",
    "    sep=','\n",
    ")\n",
    "test.tail()"
   ],
   "metadata": {
    "collapsed": false,
    "ExecuteTime": {
     "start_time": "2023-04-09T18:00:05.903773Z",
     "end_time": "2023-04-09T18:00:06.093532Z"
    }
   }
  },
  {
   "cell_type": "code",
   "execution_count": null,
   "outputs": [],
   "source": [],
   "metadata": {
    "collapsed": false
   }
  }
 ],
 "metadata": {
  "kernelspec": {
   "display_name": "Python 3",
   "language": "python",
   "name": "python3"
  },
  "language_info": {
   "codemirror_mode": {
    "name": "ipython",
    "version": 2
   },
   "file_extension": ".py",
   "mimetype": "text/x-python",
   "name": "python",
   "nbconvert_exporter": "python",
   "pygments_lexer": "ipython2",
   "version": "2.7.6"
  }
 },
 "nbformat": 4,
 "nbformat_minor": 0
}
