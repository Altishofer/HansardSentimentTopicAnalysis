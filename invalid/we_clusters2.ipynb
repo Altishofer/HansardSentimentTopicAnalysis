{
 "cells": [
  {
   "cell_type": "code",
   "execution_count": 21,
   "outputs": [
    {
     "ename": "AttributeError",
     "evalue": "module 'pd' has no attribute 'read_csv'",
     "output_type": "error",
     "traceback": [
      "\u001B[1;31m---------------------------------------------------------------------------\u001B[0m",
      "\u001B[1;31mAttributeError\u001B[0m                            Traceback (most recent call last)",
      "Cell \u001B[1;32mIn[21], line 3\u001B[0m\n\u001B[0;32m      1\u001B[0m \u001B[38;5;28;01mimport\u001B[39;00m \u001B[38;5;21;01mpd\u001B[39;00m \u001B[38;5;28;01mas\u001B[39;00m \u001B[38;5;21;01mpd\u001B[39;00m\n\u001B[1;32m----> 3\u001B[0m reducedPapers \u001B[38;5;241m=\u001B[39m \u001B[43mpd\u001B[49m\u001B[38;5;241;43m.\u001B[39;49m\u001B[43mread_csv\u001B[49m(\n\u001B[0;32m      4\u001B[0m     \u001B[38;5;124m\"\u001B[39m\u001B[38;5;124m./processedData/processedData.csv\u001B[39m\u001B[38;5;124m\"\u001B[39m,\n\u001B[0;32m      5\u001B[0m     sep\u001B[38;5;241m=\u001B[39m\u001B[38;5;124m'\u001B[39m\u001B[38;5;124m,\u001B[39m\u001B[38;5;124m'\u001B[39m,\n\u001B[0;32m      6\u001B[0m     names\u001B[38;5;241m=\u001B[39m[\u001B[38;5;124m\"\u001B[39m\u001B[38;5;124mtimePeriod\u001B[39m\u001B[38;5;124m\"\u001B[39m, \u001B[38;5;124m\"\u001B[39m\u001B[38;5;124mindex\u001B[39m\u001B[38;5;124m\"\u001B[39m, \u001B[38;5;124m\"\u001B[39m\u001B[38;5;124mrawText\u001B[39m\u001B[38;5;124m\"\u001B[39m]\n\u001B[0;32m      7\u001B[0m )\n\u001B[0;32m      9\u001B[0m reducedPapers\u001B[38;5;241m.\u001B[39mhead(\u001B[38;5;241m100\u001B[39m)\n",
      "\u001B[1;31mAttributeError\u001B[0m: module 'pd' has no attribute 'read_csv'"
     ]
    }
   ],
   "source": [
    "import pd as pd\n",
    "\n",
    "reducedPapers = pd.read_csv(\n",
    "    \"./processedData/processedData.csv\",\n",
    "    sep=','\n",
    ")\n",
    "\n",
    "reducedPapers.head(100)"
   ],
   "metadata": {
    "collapsed": false
   }
  },
  {
   "cell_type": "code",
   "execution_count": 8,
   "outputs": [
    {
     "data": {
      "text/plain": "Batches:   0%|          | 0/916 [00:00<?, ?it/s]",
      "application/vnd.jupyter.widget-view+json": {
       "version_major": 2,
       "version_minor": 0,
       "model_id": "7c8b2c93fd4645dfb6797e24a93196e6"
      }
     },
     "metadata": {},
     "output_type": "display_data"
    },
    {
     "name": "stderr",
     "output_type": "stream",
     "text": [
      "2023-04-06 14:34:11,785 - BERTopic - Transformed documents to Embeddings\n",
      "2023-04-06 14:34:43,469 - BERTopic - Reduced dimensionality\n",
      "2023-04-06 14:34:52,042 - BERTopic - Clustered reduced embeddings\n",
      "2023-04-06 14:34:58,214 - BERTopic - Reduced number of topics from 53 to 50\n"
     ]
    }
   ],
   "source": [
    "from bertopic import BERTopic\n",
    "\n",
    "model = BERTopic(language=\"english\",\n",
    "                       calculate_probabilities=True,\n",
    "                       top_n_words=4,\n",
    "                       nr_topics=50,\n",
    "                       min_topic_size=50,\n",
    "                       n_gram_range=(1,2),\n",
    "                       verbose=True)\n",
    "topics, probs = model.fit_transform(reducedPapers['processedText'])"
   ],
   "metadata": {
    "collapsed": false,
    "ExecuteTime": {
     "start_time": "2023-04-06T14:30:59.999888Z",
     "end_time": "2023-04-06T14:34:58.845891Z"
    }
   }
  },
  {
   "cell_type": "code",
   "execution_count": 9,
   "outputs": [
    {
     "data": {
      "text/plain": "    Topic  Count                                               Name\n0      -1  15641                          -1_would_house_could_upon\n1       0   2375               0_ireland_catholic_church_protestant\n2       1   1536                      1_hon_hon hon_right hon_right\n3       2    617  2_gentleman_learned gentleman_learned_gentlema...\n4       3    479                       3_bank_note_circulation_fund\n5       4    469         4_friend_learned friend_learned_hon friend\n6       5    439            5_pergami_royal highness_highness_royal\n7       6    437                            6_would_house_could_hon\n8       7    433                             7_saw_time_nothing_day\n9       8    422         8_minister_majesty_prince_majesty minister\n10      9    409             9_petition_petitioner_presented_prayer\n11     10    389                 10_gent_gent gent_learned gent_gen\n12     11    376                   11_punishment_judge_offence_case\n13     12    365                 12_army_volunteer_militia_military\n14     13    345                  13_house_house would_motion_would\n15     14    280                 14_evil_danger_remedy_apprehension\n16     15    275  15_baronet_hon baronet_baronet member_baronet ...\n17     16    261                  16_bill_clause_would_present bill\n18     17    258  17_chancellor_chancellor exchequer_exchequer_e...\n19     18    250    18_member_hon member_member middlesex_middlesex\n20     19    190                     19_spain_portugal_spanish_army\n21     20    184               20_witness_testimony_evidence_demont\n22     21    173           21_parliament_parliamentary_reform_house\n23     22    169                  22_tax_taxation_reduction_revenue\n24     23    160                        23_ship_seaman_vessel_naval\n25     24    160   24_motion_present motion_motion would_motion hon\n26     25    152                 25_committee_report_finance_member\n27     26    146                     26_lordship_lord_evidence_upon\n28     27    144                  27_duke_noble duke_duke york_york\n29     28    132                   28_corn_price_wheat_agricultural\n30     29    130              29_noble lord_noble_lord_learned lord\n31     30    124                    30_slave_colony_slavery_jamaica\n32     31    121              31_trade_manufacture_commerce_country\n33     32    105                             32_li_li li_instead_le\n34     33    100          33_country_state_government_state country\n35     34     98                34_earl_noble earl_noble_earl would\n36     35     90                    35_france_french_europe_country\n37     36     88           36_vote_amendment_proposed_amendment hon\n38     37     88     37_libel_seditious_seditious libel_blasphemous\n39     38     83                         38_year_period_month_three\n40     39     82              39_measure_measure would_proposed_hon\n41     40     74                40_second_reading_bill_reading bill\n42     41     73            41_constitution_liberty_freedom_country\n43     42     56     42_corruption_bribery_bribe_bribery corruption\n44     43     55                43_pension_widow_list_widow pension\n45     44     52          44_charge_nature_hon charge_charge nature\n46     45     52        45_resolution_resolution agreed_read_agreed\n47     46     51                       46_landlord_tenant_rent_land\n48     47     50                  47_war_war war_unsuccessful_peace\n49     48     50              48_salary_judge_increase_salary judge",
      "text/html": "<div>\n<style scoped>\n    .dataframe tbody tr th:only-of-type {\n        vertical-align: middle;\n    }\n\n    .dataframe tbody tr th {\n        vertical-align: top;\n    }\n\n    .dataframe thead th {\n        text-align: right;\n    }\n</style>\n<table border=\"1\" class=\"dataframe\">\n  <thead>\n    <tr style=\"text-align: right;\">\n      <th></th>\n      <th>Topic</th>\n      <th>Count</th>\n      <th>Name</th>\n    </tr>\n  </thead>\n  <tbody>\n    <tr>\n      <th>0</th>\n      <td>-1</td>\n      <td>15641</td>\n      <td>-1_would_house_could_upon</td>\n    </tr>\n    <tr>\n      <th>1</th>\n      <td>0</td>\n      <td>2375</td>\n      <td>0_ireland_catholic_church_protestant</td>\n    </tr>\n    <tr>\n      <th>2</th>\n      <td>1</td>\n      <td>1536</td>\n      <td>1_hon_hon hon_right hon_right</td>\n    </tr>\n    <tr>\n      <th>3</th>\n      <td>2</td>\n      <td>617</td>\n      <td>2_gentleman_learned gentleman_learned_gentlema...</td>\n    </tr>\n    <tr>\n      <th>4</th>\n      <td>3</td>\n      <td>479</td>\n      <td>3_bank_note_circulation_fund</td>\n    </tr>\n    <tr>\n      <th>5</th>\n      <td>4</td>\n      <td>469</td>\n      <td>4_friend_learned friend_learned_hon friend</td>\n    </tr>\n    <tr>\n      <th>6</th>\n      <td>5</td>\n      <td>439</td>\n      <td>5_pergami_royal highness_highness_royal</td>\n    </tr>\n    <tr>\n      <th>7</th>\n      <td>6</td>\n      <td>437</td>\n      <td>6_would_house_could_hon</td>\n    </tr>\n    <tr>\n      <th>8</th>\n      <td>7</td>\n      <td>433</td>\n      <td>7_saw_time_nothing_day</td>\n    </tr>\n    <tr>\n      <th>9</th>\n      <td>8</td>\n      <td>422</td>\n      <td>8_minister_majesty_prince_majesty minister</td>\n    </tr>\n    <tr>\n      <th>10</th>\n      <td>9</td>\n      <td>409</td>\n      <td>9_petition_petitioner_presented_prayer</td>\n    </tr>\n    <tr>\n      <th>11</th>\n      <td>10</td>\n      <td>389</td>\n      <td>10_gent_gent gent_learned gent_gen</td>\n    </tr>\n    <tr>\n      <th>12</th>\n      <td>11</td>\n      <td>376</td>\n      <td>11_punishment_judge_offence_case</td>\n    </tr>\n    <tr>\n      <th>13</th>\n      <td>12</td>\n      <td>365</td>\n      <td>12_army_volunteer_militia_military</td>\n    </tr>\n    <tr>\n      <th>14</th>\n      <td>13</td>\n      <td>345</td>\n      <td>13_house_house would_motion_would</td>\n    </tr>\n    <tr>\n      <th>15</th>\n      <td>14</td>\n      <td>280</td>\n      <td>14_evil_danger_remedy_apprehension</td>\n    </tr>\n    <tr>\n      <th>16</th>\n      <td>15</td>\n      <td>275</td>\n      <td>15_baronet_hon baronet_baronet member_baronet ...</td>\n    </tr>\n    <tr>\n      <th>17</th>\n      <td>16</td>\n      <td>261</td>\n      <td>16_bill_clause_would_present bill</td>\n    </tr>\n    <tr>\n      <th>18</th>\n      <td>17</td>\n      <td>258</td>\n      <td>17_chancellor_chancellor exchequer_exchequer_e...</td>\n    </tr>\n    <tr>\n      <th>19</th>\n      <td>18</td>\n      <td>250</td>\n      <td>18_member_hon member_member middlesex_middlesex</td>\n    </tr>\n    <tr>\n      <th>20</th>\n      <td>19</td>\n      <td>190</td>\n      <td>19_spain_portugal_spanish_army</td>\n    </tr>\n    <tr>\n      <th>21</th>\n      <td>20</td>\n      <td>184</td>\n      <td>20_witness_testimony_evidence_demont</td>\n    </tr>\n    <tr>\n      <th>22</th>\n      <td>21</td>\n      <td>173</td>\n      <td>21_parliament_parliamentary_reform_house</td>\n    </tr>\n    <tr>\n      <th>23</th>\n      <td>22</td>\n      <td>169</td>\n      <td>22_tax_taxation_reduction_revenue</td>\n    </tr>\n    <tr>\n      <th>24</th>\n      <td>23</td>\n      <td>160</td>\n      <td>23_ship_seaman_vessel_naval</td>\n    </tr>\n    <tr>\n      <th>25</th>\n      <td>24</td>\n      <td>160</td>\n      <td>24_motion_present motion_motion would_motion hon</td>\n    </tr>\n    <tr>\n      <th>26</th>\n      <td>25</td>\n      <td>152</td>\n      <td>25_committee_report_finance_member</td>\n    </tr>\n    <tr>\n      <th>27</th>\n      <td>26</td>\n      <td>146</td>\n      <td>26_lordship_lord_evidence_upon</td>\n    </tr>\n    <tr>\n      <th>28</th>\n      <td>27</td>\n      <td>144</td>\n      <td>27_duke_noble duke_duke york_york</td>\n    </tr>\n    <tr>\n      <th>29</th>\n      <td>28</td>\n      <td>132</td>\n      <td>28_corn_price_wheat_agricultural</td>\n    </tr>\n    <tr>\n      <th>30</th>\n      <td>29</td>\n      <td>130</td>\n      <td>29_noble lord_noble_lord_learned lord</td>\n    </tr>\n    <tr>\n      <th>31</th>\n      <td>30</td>\n      <td>124</td>\n      <td>30_slave_colony_slavery_jamaica</td>\n    </tr>\n    <tr>\n      <th>32</th>\n      <td>31</td>\n      <td>121</td>\n      <td>31_trade_manufacture_commerce_country</td>\n    </tr>\n    <tr>\n      <th>33</th>\n      <td>32</td>\n      <td>105</td>\n      <td>32_li_li li_instead_le</td>\n    </tr>\n    <tr>\n      <th>34</th>\n      <td>33</td>\n      <td>100</td>\n      <td>33_country_state_government_state country</td>\n    </tr>\n    <tr>\n      <th>35</th>\n      <td>34</td>\n      <td>98</td>\n      <td>34_earl_noble earl_noble_earl would</td>\n    </tr>\n    <tr>\n      <th>36</th>\n      <td>35</td>\n      <td>90</td>\n      <td>35_france_french_europe_country</td>\n    </tr>\n    <tr>\n      <th>37</th>\n      <td>36</td>\n      <td>88</td>\n      <td>36_vote_amendment_proposed_amendment hon</td>\n    </tr>\n    <tr>\n      <th>38</th>\n      <td>37</td>\n      <td>88</td>\n      <td>37_libel_seditious_seditious libel_blasphemous</td>\n    </tr>\n    <tr>\n      <th>39</th>\n      <td>38</td>\n      <td>83</td>\n      <td>38_year_period_month_three</td>\n    </tr>\n    <tr>\n      <th>40</th>\n      <td>39</td>\n      <td>82</td>\n      <td>39_measure_measure would_proposed_hon</td>\n    </tr>\n    <tr>\n      <th>41</th>\n      <td>40</td>\n      <td>74</td>\n      <td>40_second_reading_bill_reading bill</td>\n    </tr>\n    <tr>\n      <th>42</th>\n      <td>41</td>\n      <td>73</td>\n      <td>41_constitution_liberty_freedom_country</td>\n    </tr>\n    <tr>\n      <th>43</th>\n      <td>42</td>\n      <td>56</td>\n      <td>42_corruption_bribery_bribe_bribery corruption</td>\n    </tr>\n    <tr>\n      <th>44</th>\n      <td>43</td>\n      <td>55</td>\n      <td>43_pension_widow_list_widow pension</td>\n    </tr>\n    <tr>\n      <th>45</th>\n      <td>44</td>\n      <td>52</td>\n      <td>44_charge_nature_hon charge_charge nature</td>\n    </tr>\n    <tr>\n      <th>46</th>\n      <td>45</td>\n      <td>52</td>\n      <td>45_resolution_resolution agreed_read_agreed</td>\n    </tr>\n    <tr>\n      <th>47</th>\n      <td>46</td>\n      <td>51</td>\n      <td>46_landlord_tenant_rent_land</td>\n    </tr>\n    <tr>\n      <th>48</th>\n      <td>47</td>\n      <td>50</td>\n      <td>47_war_war war_unsuccessful_peace</td>\n    </tr>\n    <tr>\n      <th>49</th>\n      <td>48</td>\n      <td>50</td>\n      <td>48_salary_judge_increase_salary judge</td>\n    </tr>\n  </tbody>\n</table>\n</div>"
     },
     "execution_count": 9,
     "metadata": {},
     "output_type": "execute_result"
    }
   ],
   "source": [
    "model.get_topic_freq()\n",
    "model.get_topic_info()"
   ],
   "metadata": {
    "collapsed": false,
    "ExecuteTime": {
     "start_time": "2023-04-06T14:35:08.791880Z",
     "end_time": "2023-04-06T14:35:08.819071Z"
    }
   }
  },
  {
   "cell_type": "code",
   "execution_count": 12,
   "outputs": [
    {
     "ename": "KeyboardInterrupt",
     "evalue": "",
     "output_type": "error",
     "traceback": [
      "\u001B[1;31m---------------------------------------------------------------------------\u001B[0m",
      "\u001B[1;31mKeyboardInterrupt\u001B[0m                         Traceback (most recent call last)",
      "Cell \u001B[1;32mIn[12], line 11\u001B[0m\n\u001B[0;32m      8\u001B[0m get_ipython()\u001B[38;5;241m.\u001B[39mrun_line_magic(\u001B[38;5;124m'\u001B[39m\u001B[38;5;124mmatplotlib\u001B[39m\u001B[38;5;124m'\u001B[39m, \u001B[38;5;124m'\u001B[39m\u001B[38;5;124minline\u001B[39m\u001B[38;5;124m'\u001B[39m)\n\u001B[0;32m     10\u001B[0m \u001B[38;5;66;03m# Prepare data for plotting\u001B[39;00m\n\u001B[1;32m---> 11\u001B[0m embeddings \u001B[38;5;241m=\u001B[39m \u001B[43mmodel\u001B[49m\u001B[38;5;241;43m.\u001B[39;49m\u001B[43m_extract_embeddings\u001B[49m\u001B[43m(\u001B[49m\u001B[43mreducedPapers\u001B[49m\u001B[43m[\u001B[49m\u001B[38;5;124;43m'\u001B[39;49m\u001B[38;5;124;43mprocessedText\u001B[39;49m\u001B[38;5;124;43m'\u001B[39;49m\u001B[43m]\u001B[49m\u001B[43m \u001B[49m\u001B[43m,\u001B[49m\u001B[43m \u001B[49m\u001B[43mmethod\u001B[49m\u001B[38;5;241;43m=\u001B[39;49m\u001B[38;5;124;43m\"\u001B[39;49m\u001B[38;5;124;43mdocument\u001B[39;49m\u001B[38;5;124;43m\"\u001B[39;49m\u001B[43m)\u001B[49m\n\u001B[0;32m     12\u001B[0m umap_model \u001B[38;5;241m=\u001B[39m UMAP(n_neighbors\u001B[38;5;241m=\u001B[39m\u001B[38;5;241m10\u001B[39m, n_components\u001B[38;5;241m=\u001B[39m\u001B[38;5;241m2\u001B[39m, min_dist\u001B[38;5;241m=\u001B[39m\u001B[38;5;241m0.0\u001B[39m, metric\u001B[38;5;241m=\u001B[39m\u001B[38;5;124m'\u001B[39m\u001B[38;5;124mcosine\u001B[39m\u001B[38;5;124m'\u001B[39m)\u001B[38;5;241m.\u001B[39mfit(embeddings)\n\u001B[0;32m     13\u001B[0m df \u001B[38;5;241m=\u001B[39m pd\u001B[38;5;241m.\u001B[39mDataFrame(umap_model\u001B[38;5;241m.\u001B[39membedding_, columns\u001B[38;5;241m=\u001B[39m[\u001B[38;5;124m\"\u001B[39m\u001B[38;5;124mx\u001B[39m\u001B[38;5;124m\"\u001B[39m, \u001B[38;5;124m\"\u001B[39m\u001B[38;5;124my\u001B[39m\u001B[38;5;124m\"\u001B[39m])\n",
      "File \u001B[1;32m~\\UnTrackedFolder\\textAnalytics\\venv\\lib\\site-packages\\bertopic\\_bertopic.py:2828\u001B[0m, in \u001B[0;36mBERTopic._extract_embeddings\u001B[1;34m(self, documents, method, verbose)\u001B[0m\n\u001B[0;32m   2826\u001B[0m     embeddings \u001B[38;5;241m=\u001B[39m \u001B[38;5;28mself\u001B[39m\u001B[38;5;241m.\u001B[39membedding_model\u001B[38;5;241m.\u001B[39membed_words(documents, verbose)\n\u001B[0;32m   2827\u001B[0m \u001B[38;5;28;01melif\u001B[39;00m method \u001B[38;5;241m==\u001B[39m \u001B[38;5;124m\"\u001B[39m\u001B[38;5;124mdocument\u001B[39m\u001B[38;5;124m\"\u001B[39m:\n\u001B[1;32m-> 2828\u001B[0m     embeddings \u001B[38;5;241m=\u001B[39m \u001B[38;5;28;43mself\u001B[39;49m\u001B[38;5;241;43m.\u001B[39;49m\u001B[43membedding_model\u001B[49m\u001B[38;5;241;43m.\u001B[39;49m\u001B[43membed_documents\u001B[49m\u001B[43m(\u001B[49m\u001B[43mdocuments\u001B[49m\u001B[43m,\u001B[49m\u001B[43m \u001B[49m\u001B[43mverbose\u001B[49m\u001B[43m)\u001B[49m\n\u001B[0;32m   2829\u001B[0m \u001B[38;5;28;01melse\u001B[39;00m:\n\u001B[0;32m   2830\u001B[0m     \u001B[38;5;28;01mraise\u001B[39;00m \u001B[38;5;167;01mValueError\u001B[39;00m(\u001B[38;5;124m\"\u001B[39m\u001B[38;5;124mWrong method for extracting document/word embeddings. \u001B[39m\u001B[38;5;124m\"\u001B[39m\n\u001B[0;32m   2831\u001B[0m                      \u001B[38;5;124m\"\u001B[39m\u001B[38;5;124mEither choose \u001B[39m\u001B[38;5;124m'\u001B[39m\u001B[38;5;124mword\u001B[39m\u001B[38;5;124m'\u001B[39m\u001B[38;5;124m or \u001B[39m\u001B[38;5;124m'\u001B[39m\u001B[38;5;124mdocument\u001B[39m\u001B[38;5;124m'\u001B[39m\u001B[38;5;124m as the method. \u001B[39m\u001B[38;5;124m\"\u001B[39m)\n",
      "File \u001B[1;32m~\\UnTrackedFolder\\textAnalytics\\venv\\lib\\site-packages\\bertopic\\backend\\_base.py:69\u001B[0m, in \u001B[0;36mBaseEmbedder.embed_documents\u001B[1;34m(self, document, verbose)\u001B[0m\n\u001B[0;32m     55\u001B[0m \u001B[38;5;28;01mdef\u001B[39;00m \u001B[38;5;21membed_documents\u001B[39m(\u001B[38;5;28mself\u001B[39m,\n\u001B[0;32m     56\u001B[0m                     document: List[\u001B[38;5;28mstr\u001B[39m],\n\u001B[0;32m     57\u001B[0m                     verbose: \u001B[38;5;28mbool\u001B[39m \u001B[38;5;241m=\u001B[39m \u001B[38;5;28;01mFalse\u001B[39;00m) \u001B[38;5;241m-\u001B[39m\u001B[38;5;241m>\u001B[39m np\u001B[38;5;241m.\u001B[39mndarray:\n\u001B[0;32m     58\u001B[0m \u001B[38;5;250m    \u001B[39m\u001B[38;5;124;03m\"\"\" Embed a list of n words into an n-dimensional\u001B[39;00m\n\u001B[0;32m     59\u001B[0m \u001B[38;5;124;03m    matrix of embeddings\u001B[39;00m\n\u001B[0;32m     60\u001B[0m \n\u001B[1;32m   (...)\u001B[0m\n\u001B[0;32m     67\u001B[0m \u001B[38;5;124;03m        that each have an embeddings size of `m`\u001B[39;00m\n\u001B[0;32m     68\u001B[0m \u001B[38;5;124;03m    \"\"\"\u001B[39;00m\n\u001B[1;32m---> 69\u001B[0m     \u001B[38;5;28;01mreturn\u001B[39;00m \u001B[38;5;28;43mself\u001B[39;49m\u001B[38;5;241;43m.\u001B[39;49m\u001B[43membed\u001B[49m\u001B[43m(\u001B[49m\u001B[43mdocument\u001B[49m\u001B[43m,\u001B[49m\u001B[43m \u001B[49m\u001B[43mverbose\u001B[49m\u001B[43m)\u001B[49m\n",
      "File \u001B[1;32m~\\UnTrackedFolder\\textAnalytics\\venv\\lib\\site-packages\\bertopic\\backend\\_sentencetransformers.py:63\u001B[0m, in \u001B[0;36mSentenceTransformerBackend.embed\u001B[1;34m(self, documents, verbose)\u001B[0m\n\u001B[0;32m     49\u001B[0m \u001B[38;5;28;01mdef\u001B[39;00m \u001B[38;5;21membed\u001B[39m(\u001B[38;5;28mself\u001B[39m,\n\u001B[0;32m     50\u001B[0m           documents: List[\u001B[38;5;28mstr\u001B[39m],\n\u001B[0;32m     51\u001B[0m           verbose: \u001B[38;5;28mbool\u001B[39m \u001B[38;5;241m=\u001B[39m \u001B[38;5;28;01mFalse\u001B[39;00m) \u001B[38;5;241m-\u001B[39m\u001B[38;5;241m>\u001B[39m np\u001B[38;5;241m.\u001B[39mndarray:\n\u001B[0;32m     52\u001B[0m \u001B[38;5;250m    \u001B[39m\u001B[38;5;124;03m\"\"\" Embed a list of n documents/words into an n-dimensional\u001B[39;00m\n\u001B[0;32m     53\u001B[0m \u001B[38;5;124;03m    matrix of embeddings\u001B[39;00m\n\u001B[0;32m     54\u001B[0m \n\u001B[1;32m   (...)\u001B[0m\n\u001B[0;32m     61\u001B[0m \u001B[38;5;124;03m        that each have an embeddings size of `m`\u001B[39;00m\n\u001B[0;32m     62\u001B[0m \u001B[38;5;124;03m    \"\"\"\u001B[39;00m\n\u001B[1;32m---> 63\u001B[0m     embeddings \u001B[38;5;241m=\u001B[39m \u001B[38;5;28;43mself\u001B[39;49m\u001B[38;5;241;43m.\u001B[39;49m\u001B[43membedding_model\u001B[49m\u001B[38;5;241;43m.\u001B[39;49m\u001B[43mencode\u001B[49m\u001B[43m(\u001B[49m\u001B[43mdocuments\u001B[49m\u001B[43m,\u001B[49m\u001B[43m \u001B[49m\u001B[43mshow_progress_bar\u001B[49m\u001B[38;5;241;43m=\u001B[39;49m\u001B[43mverbose\u001B[49m\u001B[43m)\u001B[49m\n\u001B[0;32m     64\u001B[0m     \u001B[38;5;28;01mreturn\u001B[39;00m embeddings\n",
      "File \u001B[1;32m~\\UnTrackedFolder\\textAnalytics\\venv\\lib\\site-packages\\sentence_transformers\\SentenceTransformer.py:165\u001B[0m, in \u001B[0;36mSentenceTransformer.encode\u001B[1;34m(self, sentences, batch_size, show_progress_bar, output_value, convert_to_numpy, convert_to_tensor, device, normalize_embeddings)\u001B[0m\n\u001B[0;32m    162\u001B[0m features \u001B[38;5;241m=\u001B[39m batch_to_device(features, device)\n\u001B[0;32m    164\u001B[0m \u001B[38;5;28;01mwith\u001B[39;00m torch\u001B[38;5;241m.\u001B[39mno_grad():\n\u001B[1;32m--> 165\u001B[0m     out_features \u001B[38;5;241m=\u001B[39m \u001B[38;5;28;43mself\u001B[39;49m\u001B[38;5;241;43m.\u001B[39;49m\u001B[43mforward\u001B[49m\u001B[43m(\u001B[49m\u001B[43mfeatures\u001B[49m\u001B[43m)\u001B[49m\n\u001B[0;32m    167\u001B[0m     \u001B[38;5;28;01mif\u001B[39;00m output_value \u001B[38;5;241m==\u001B[39m \u001B[38;5;124m'\u001B[39m\u001B[38;5;124mtoken_embeddings\u001B[39m\u001B[38;5;124m'\u001B[39m:\n\u001B[0;32m    168\u001B[0m         embeddings \u001B[38;5;241m=\u001B[39m []\n",
      "File \u001B[1;32m~\\UnTrackedFolder\\textAnalytics\\venv\\lib\\site-packages\\torch\\nn\\modules\\container.py:217\u001B[0m, in \u001B[0;36mSequential.forward\u001B[1;34m(self, input)\u001B[0m\n\u001B[0;32m    215\u001B[0m \u001B[38;5;28;01mdef\u001B[39;00m \u001B[38;5;21mforward\u001B[39m(\u001B[38;5;28mself\u001B[39m, \u001B[38;5;28minput\u001B[39m):\n\u001B[0;32m    216\u001B[0m     \u001B[38;5;28;01mfor\u001B[39;00m module \u001B[38;5;129;01min\u001B[39;00m \u001B[38;5;28mself\u001B[39m:\n\u001B[1;32m--> 217\u001B[0m         \u001B[38;5;28minput\u001B[39m \u001B[38;5;241m=\u001B[39m \u001B[43mmodule\u001B[49m\u001B[43m(\u001B[49m\u001B[38;5;28;43minput\u001B[39;49m\u001B[43m)\u001B[49m\n\u001B[0;32m    218\u001B[0m     \u001B[38;5;28;01mreturn\u001B[39;00m \u001B[38;5;28minput\u001B[39m\n",
      "File \u001B[1;32m~\\UnTrackedFolder\\textAnalytics\\venv\\lib\\site-packages\\torch\\nn\\modules\\module.py:1501\u001B[0m, in \u001B[0;36mModule._call_impl\u001B[1;34m(self, *args, **kwargs)\u001B[0m\n\u001B[0;32m   1496\u001B[0m \u001B[38;5;66;03m# If we don't have any hooks, we want to skip the rest of the logic in\u001B[39;00m\n\u001B[0;32m   1497\u001B[0m \u001B[38;5;66;03m# this function, and just call forward.\u001B[39;00m\n\u001B[0;32m   1498\u001B[0m \u001B[38;5;28;01mif\u001B[39;00m \u001B[38;5;129;01mnot\u001B[39;00m (\u001B[38;5;28mself\u001B[39m\u001B[38;5;241m.\u001B[39m_backward_hooks \u001B[38;5;129;01mor\u001B[39;00m \u001B[38;5;28mself\u001B[39m\u001B[38;5;241m.\u001B[39m_backward_pre_hooks \u001B[38;5;129;01mor\u001B[39;00m \u001B[38;5;28mself\u001B[39m\u001B[38;5;241m.\u001B[39m_forward_hooks \u001B[38;5;129;01mor\u001B[39;00m \u001B[38;5;28mself\u001B[39m\u001B[38;5;241m.\u001B[39m_forward_pre_hooks\n\u001B[0;32m   1499\u001B[0m         \u001B[38;5;129;01mor\u001B[39;00m _global_backward_pre_hooks \u001B[38;5;129;01mor\u001B[39;00m _global_backward_hooks\n\u001B[0;32m   1500\u001B[0m         \u001B[38;5;129;01mor\u001B[39;00m _global_forward_hooks \u001B[38;5;129;01mor\u001B[39;00m _global_forward_pre_hooks):\n\u001B[1;32m-> 1501\u001B[0m     \u001B[38;5;28;01mreturn\u001B[39;00m forward_call(\u001B[38;5;241m*\u001B[39margs, \u001B[38;5;241m*\u001B[39m\u001B[38;5;241m*\u001B[39mkwargs)\n\u001B[0;32m   1502\u001B[0m \u001B[38;5;66;03m# Do not call functions when jit is used\u001B[39;00m\n\u001B[0;32m   1503\u001B[0m full_backward_hooks, non_full_backward_hooks \u001B[38;5;241m=\u001B[39m [], []\n",
      "File \u001B[1;32m~\\UnTrackedFolder\\textAnalytics\\venv\\lib\\site-packages\\sentence_transformers\\models\\Transformer.py:66\u001B[0m, in \u001B[0;36mTransformer.forward\u001B[1;34m(self, features)\u001B[0m\n\u001B[0;32m     63\u001B[0m \u001B[38;5;28;01mif\u001B[39;00m \u001B[38;5;124m'\u001B[39m\u001B[38;5;124mtoken_type_ids\u001B[39m\u001B[38;5;124m'\u001B[39m \u001B[38;5;129;01min\u001B[39;00m features:\n\u001B[0;32m     64\u001B[0m     trans_features[\u001B[38;5;124m'\u001B[39m\u001B[38;5;124mtoken_type_ids\u001B[39m\u001B[38;5;124m'\u001B[39m] \u001B[38;5;241m=\u001B[39m features[\u001B[38;5;124m'\u001B[39m\u001B[38;5;124mtoken_type_ids\u001B[39m\u001B[38;5;124m'\u001B[39m]\n\u001B[1;32m---> 66\u001B[0m output_states \u001B[38;5;241m=\u001B[39m \u001B[38;5;28mself\u001B[39m\u001B[38;5;241m.\u001B[39mauto_model(\u001B[38;5;241m*\u001B[39m\u001B[38;5;241m*\u001B[39mtrans_features, return_dict\u001B[38;5;241m=\u001B[39m\u001B[38;5;28;01mFalse\u001B[39;00m)\n\u001B[0;32m     67\u001B[0m output_tokens \u001B[38;5;241m=\u001B[39m output_states[\u001B[38;5;241m0\u001B[39m]\n\u001B[0;32m     69\u001B[0m features\u001B[38;5;241m.\u001B[39mupdate({\u001B[38;5;124m'\u001B[39m\u001B[38;5;124mtoken_embeddings\u001B[39m\u001B[38;5;124m'\u001B[39m: output_tokens, \u001B[38;5;124m'\u001B[39m\u001B[38;5;124mattention_mask\u001B[39m\u001B[38;5;124m'\u001B[39m: features[\u001B[38;5;124m'\u001B[39m\u001B[38;5;124mattention_mask\u001B[39m\u001B[38;5;124m'\u001B[39m]})\n",
      "File \u001B[1;32m~\\UnTrackedFolder\\textAnalytics\\venv\\lib\\site-packages\\torch\\nn\\modules\\module.py:1501\u001B[0m, in \u001B[0;36mModule._call_impl\u001B[1;34m(self, *args, **kwargs)\u001B[0m\n\u001B[0;32m   1496\u001B[0m \u001B[38;5;66;03m# If we don't have any hooks, we want to skip the rest of the logic in\u001B[39;00m\n\u001B[0;32m   1497\u001B[0m \u001B[38;5;66;03m# this function, and just call forward.\u001B[39;00m\n\u001B[0;32m   1498\u001B[0m \u001B[38;5;28;01mif\u001B[39;00m \u001B[38;5;129;01mnot\u001B[39;00m (\u001B[38;5;28mself\u001B[39m\u001B[38;5;241m.\u001B[39m_backward_hooks \u001B[38;5;129;01mor\u001B[39;00m \u001B[38;5;28mself\u001B[39m\u001B[38;5;241m.\u001B[39m_backward_pre_hooks \u001B[38;5;129;01mor\u001B[39;00m \u001B[38;5;28mself\u001B[39m\u001B[38;5;241m.\u001B[39m_forward_hooks \u001B[38;5;129;01mor\u001B[39;00m \u001B[38;5;28mself\u001B[39m\u001B[38;5;241m.\u001B[39m_forward_pre_hooks\n\u001B[0;32m   1499\u001B[0m         \u001B[38;5;129;01mor\u001B[39;00m _global_backward_pre_hooks \u001B[38;5;129;01mor\u001B[39;00m _global_backward_hooks\n\u001B[0;32m   1500\u001B[0m         \u001B[38;5;129;01mor\u001B[39;00m _global_forward_hooks \u001B[38;5;129;01mor\u001B[39;00m _global_forward_pre_hooks):\n\u001B[1;32m-> 1501\u001B[0m     \u001B[38;5;28;01mreturn\u001B[39;00m forward_call(\u001B[38;5;241m*\u001B[39margs, \u001B[38;5;241m*\u001B[39m\u001B[38;5;241m*\u001B[39mkwargs)\n\u001B[0;32m   1502\u001B[0m \u001B[38;5;66;03m# Do not call functions when jit is used\u001B[39;00m\n\u001B[0;32m   1503\u001B[0m full_backward_hooks, non_full_backward_hooks \u001B[38;5;241m=\u001B[39m [], []\n",
      "File \u001B[1;32m~\\UnTrackedFolder\\textAnalytics\\venv\\lib\\site-packages\\transformers\\models\\bert\\modeling_bert.py:1020\u001B[0m, in \u001B[0;36mBertModel.forward\u001B[1;34m(self, input_ids, attention_mask, token_type_ids, position_ids, head_mask, inputs_embeds, encoder_hidden_states, encoder_attention_mask, past_key_values, use_cache, output_attentions, output_hidden_states, return_dict)\u001B[0m\n\u001B[0;32m   1011\u001B[0m head_mask \u001B[38;5;241m=\u001B[39m \u001B[38;5;28mself\u001B[39m\u001B[38;5;241m.\u001B[39mget_head_mask(head_mask, \u001B[38;5;28mself\u001B[39m\u001B[38;5;241m.\u001B[39mconfig\u001B[38;5;241m.\u001B[39mnum_hidden_layers)\n\u001B[0;32m   1013\u001B[0m embedding_output \u001B[38;5;241m=\u001B[39m \u001B[38;5;28mself\u001B[39m\u001B[38;5;241m.\u001B[39membeddings(\n\u001B[0;32m   1014\u001B[0m     input_ids\u001B[38;5;241m=\u001B[39minput_ids,\n\u001B[0;32m   1015\u001B[0m     position_ids\u001B[38;5;241m=\u001B[39mposition_ids,\n\u001B[1;32m   (...)\u001B[0m\n\u001B[0;32m   1018\u001B[0m     past_key_values_length\u001B[38;5;241m=\u001B[39mpast_key_values_length,\n\u001B[0;32m   1019\u001B[0m )\n\u001B[1;32m-> 1020\u001B[0m encoder_outputs \u001B[38;5;241m=\u001B[39m \u001B[38;5;28;43mself\u001B[39;49m\u001B[38;5;241;43m.\u001B[39;49m\u001B[43mencoder\u001B[49m\u001B[43m(\u001B[49m\n\u001B[0;32m   1021\u001B[0m \u001B[43m    \u001B[49m\u001B[43membedding_output\u001B[49m\u001B[43m,\u001B[49m\n\u001B[0;32m   1022\u001B[0m \u001B[43m    \u001B[49m\u001B[43mattention_mask\u001B[49m\u001B[38;5;241;43m=\u001B[39;49m\u001B[43mextended_attention_mask\u001B[49m\u001B[43m,\u001B[49m\n\u001B[0;32m   1023\u001B[0m \u001B[43m    \u001B[49m\u001B[43mhead_mask\u001B[49m\u001B[38;5;241;43m=\u001B[39;49m\u001B[43mhead_mask\u001B[49m\u001B[43m,\u001B[49m\n\u001B[0;32m   1024\u001B[0m \u001B[43m    \u001B[49m\u001B[43mencoder_hidden_states\u001B[49m\u001B[38;5;241;43m=\u001B[39;49m\u001B[43mencoder_hidden_states\u001B[49m\u001B[43m,\u001B[49m\n\u001B[0;32m   1025\u001B[0m \u001B[43m    \u001B[49m\u001B[43mencoder_attention_mask\u001B[49m\u001B[38;5;241;43m=\u001B[39;49m\u001B[43mencoder_extended_attention_mask\u001B[49m\u001B[43m,\u001B[49m\n\u001B[0;32m   1026\u001B[0m \u001B[43m    \u001B[49m\u001B[43mpast_key_values\u001B[49m\u001B[38;5;241;43m=\u001B[39;49m\u001B[43mpast_key_values\u001B[49m\u001B[43m,\u001B[49m\n\u001B[0;32m   1027\u001B[0m \u001B[43m    \u001B[49m\u001B[43muse_cache\u001B[49m\u001B[38;5;241;43m=\u001B[39;49m\u001B[43muse_cache\u001B[49m\u001B[43m,\u001B[49m\n\u001B[0;32m   1028\u001B[0m \u001B[43m    \u001B[49m\u001B[43moutput_attentions\u001B[49m\u001B[38;5;241;43m=\u001B[39;49m\u001B[43moutput_attentions\u001B[49m\u001B[43m,\u001B[49m\n\u001B[0;32m   1029\u001B[0m \u001B[43m    \u001B[49m\u001B[43moutput_hidden_states\u001B[49m\u001B[38;5;241;43m=\u001B[39;49m\u001B[43moutput_hidden_states\u001B[49m\u001B[43m,\u001B[49m\n\u001B[0;32m   1030\u001B[0m \u001B[43m    \u001B[49m\u001B[43mreturn_dict\u001B[49m\u001B[38;5;241;43m=\u001B[39;49m\u001B[43mreturn_dict\u001B[49m\u001B[43m,\u001B[49m\n\u001B[0;32m   1031\u001B[0m \u001B[43m\u001B[49m\u001B[43m)\u001B[49m\n\u001B[0;32m   1032\u001B[0m sequence_output \u001B[38;5;241m=\u001B[39m encoder_outputs[\u001B[38;5;241m0\u001B[39m]\n\u001B[0;32m   1033\u001B[0m pooled_output \u001B[38;5;241m=\u001B[39m \u001B[38;5;28mself\u001B[39m\u001B[38;5;241m.\u001B[39mpooler(sequence_output) \u001B[38;5;28;01mif\u001B[39;00m \u001B[38;5;28mself\u001B[39m\u001B[38;5;241m.\u001B[39mpooler \u001B[38;5;129;01mis\u001B[39;00m \u001B[38;5;129;01mnot\u001B[39;00m \u001B[38;5;28;01mNone\u001B[39;00m \u001B[38;5;28;01melse\u001B[39;00m \u001B[38;5;28;01mNone\u001B[39;00m\n",
      "File \u001B[1;32m~\\UnTrackedFolder\\textAnalytics\\venv\\lib\\site-packages\\torch\\nn\\modules\\module.py:1501\u001B[0m, in \u001B[0;36mModule._call_impl\u001B[1;34m(self, *args, **kwargs)\u001B[0m\n\u001B[0;32m   1496\u001B[0m \u001B[38;5;66;03m# If we don't have any hooks, we want to skip the rest of the logic in\u001B[39;00m\n\u001B[0;32m   1497\u001B[0m \u001B[38;5;66;03m# this function, and just call forward.\u001B[39;00m\n\u001B[0;32m   1498\u001B[0m \u001B[38;5;28;01mif\u001B[39;00m \u001B[38;5;129;01mnot\u001B[39;00m (\u001B[38;5;28mself\u001B[39m\u001B[38;5;241m.\u001B[39m_backward_hooks \u001B[38;5;129;01mor\u001B[39;00m \u001B[38;5;28mself\u001B[39m\u001B[38;5;241m.\u001B[39m_backward_pre_hooks \u001B[38;5;129;01mor\u001B[39;00m \u001B[38;5;28mself\u001B[39m\u001B[38;5;241m.\u001B[39m_forward_hooks \u001B[38;5;129;01mor\u001B[39;00m \u001B[38;5;28mself\u001B[39m\u001B[38;5;241m.\u001B[39m_forward_pre_hooks\n\u001B[0;32m   1499\u001B[0m         \u001B[38;5;129;01mor\u001B[39;00m _global_backward_pre_hooks \u001B[38;5;129;01mor\u001B[39;00m _global_backward_hooks\n\u001B[0;32m   1500\u001B[0m         \u001B[38;5;129;01mor\u001B[39;00m _global_forward_hooks \u001B[38;5;129;01mor\u001B[39;00m _global_forward_pre_hooks):\n\u001B[1;32m-> 1501\u001B[0m     \u001B[38;5;28;01mreturn\u001B[39;00m forward_call(\u001B[38;5;241m*\u001B[39margs, \u001B[38;5;241m*\u001B[39m\u001B[38;5;241m*\u001B[39mkwargs)\n\u001B[0;32m   1502\u001B[0m \u001B[38;5;66;03m# Do not call functions when jit is used\u001B[39;00m\n\u001B[0;32m   1503\u001B[0m full_backward_hooks, non_full_backward_hooks \u001B[38;5;241m=\u001B[39m [], []\n",
      "File \u001B[1;32m~\\UnTrackedFolder\\textAnalytics\\venv\\lib\\site-packages\\transformers\\models\\bert\\modeling_bert.py:610\u001B[0m, in \u001B[0;36mBertEncoder.forward\u001B[1;34m(self, hidden_states, attention_mask, head_mask, encoder_hidden_states, encoder_attention_mask, past_key_values, use_cache, output_attentions, output_hidden_states, return_dict)\u001B[0m\n\u001B[0;32m    601\u001B[0m     layer_outputs \u001B[38;5;241m=\u001B[39m torch\u001B[38;5;241m.\u001B[39mutils\u001B[38;5;241m.\u001B[39mcheckpoint\u001B[38;5;241m.\u001B[39mcheckpoint(\n\u001B[0;32m    602\u001B[0m         create_custom_forward(layer_module),\n\u001B[0;32m    603\u001B[0m         hidden_states,\n\u001B[1;32m   (...)\u001B[0m\n\u001B[0;32m    607\u001B[0m         encoder_attention_mask,\n\u001B[0;32m    608\u001B[0m     )\n\u001B[0;32m    609\u001B[0m \u001B[38;5;28;01melse\u001B[39;00m:\n\u001B[1;32m--> 610\u001B[0m     layer_outputs \u001B[38;5;241m=\u001B[39m \u001B[43mlayer_module\u001B[49m\u001B[43m(\u001B[49m\n\u001B[0;32m    611\u001B[0m \u001B[43m        \u001B[49m\u001B[43mhidden_states\u001B[49m\u001B[43m,\u001B[49m\n\u001B[0;32m    612\u001B[0m \u001B[43m        \u001B[49m\u001B[43mattention_mask\u001B[49m\u001B[43m,\u001B[49m\n\u001B[0;32m    613\u001B[0m \u001B[43m        \u001B[49m\u001B[43mlayer_head_mask\u001B[49m\u001B[43m,\u001B[49m\n\u001B[0;32m    614\u001B[0m \u001B[43m        \u001B[49m\u001B[43mencoder_hidden_states\u001B[49m\u001B[43m,\u001B[49m\n\u001B[0;32m    615\u001B[0m \u001B[43m        \u001B[49m\u001B[43mencoder_attention_mask\u001B[49m\u001B[43m,\u001B[49m\n\u001B[0;32m    616\u001B[0m \u001B[43m        \u001B[49m\u001B[43mpast_key_value\u001B[49m\u001B[43m,\u001B[49m\n\u001B[0;32m    617\u001B[0m \u001B[43m        \u001B[49m\u001B[43moutput_attentions\u001B[49m\u001B[43m,\u001B[49m\n\u001B[0;32m    618\u001B[0m \u001B[43m    \u001B[49m\u001B[43m)\u001B[49m\n\u001B[0;32m    620\u001B[0m hidden_states \u001B[38;5;241m=\u001B[39m layer_outputs[\u001B[38;5;241m0\u001B[39m]\n\u001B[0;32m    621\u001B[0m \u001B[38;5;28;01mif\u001B[39;00m use_cache:\n",
      "File \u001B[1;32m~\\UnTrackedFolder\\textAnalytics\\venv\\lib\\site-packages\\torch\\nn\\modules\\module.py:1501\u001B[0m, in \u001B[0;36mModule._call_impl\u001B[1;34m(self, *args, **kwargs)\u001B[0m\n\u001B[0;32m   1496\u001B[0m \u001B[38;5;66;03m# If we don't have any hooks, we want to skip the rest of the logic in\u001B[39;00m\n\u001B[0;32m   1497\u001B[0m \u001B[38;5;66;03m# this function, and just call forward.\u001B[39;00m\n\u001B[0;32m   1498\u001B[0m \u001B[38;5;28;01mif\u001B[39;00m \u001B[38;5;129;01mnot\u001B[39;00m (\u001B[38;5;28mself\u001B[39m\u001B[38;5;241m.\u001B[39m_backward_hooks \u001B[38;5;129;01mor\u001B[39;00m \u001B[38;5;28mself\u001B[39m\u001B[38;5;241m.\u001B[39m_backward_pre_hooks \u001B[38;5;129;01mor\u001B[39;00m \u001B[38;5;28mself\u001B[39m\u001B[38;5;241m.\u001B[39m_forward_hooks \u001B[38;5;129;01mor\u001B[39;00m \u001B[38;5;28mself\u001B[39m\u001B[38;5;241m.\u001B[39m_forward_pre_hooks\n\u001B[0;32m   1499\u001B[0m         \u001B[38;5;129;01mor\u001B[39;00m _global_backward_pre_hooks \u001B[38;5;129;01mor\u001B[39;00m _global_backward_hooks\n\u001B[0;32m   1500\u001B[0m         \u001B[38;5;129;01mor\u001B[39;00m _global_forward_hooks \u001B[38;5;129;01mor\u001B[39;00m _global_forward_pre_hooks):\n\u001B[1;32m-> 1501\u001B[0m     \u001B[38;5;28;01mreturn\u001B[39;00m forward_call(\u001B[38;5;241m*\u001B[39margs, \u001B[38;5;241m*\u001B[39m\u001B[38;5;241m*\u001B[39mkwargs)\n\u001B[0;32m   1502\u001B[0m \u001B[38;5;66;03m# Do not call functions when jit is used\u001B[39;00m\n\u001B[0;32m   1503\u001B[0m full_backward_hooks, non_full_backward_hooks \u001B[38;5;241m=\u001B[39m [], []\n",
      "File \u001B[1;32m~\\UnTrackedFolder\\textAnalytics\\venv\\lib\\site-packages\\transformers\\models\\bert\\modeling_bert.py:537\u001B[0m, in \u001B[0;36mBertLayer.forward\u001B[1;34m(self, hidden_states, attention_mask, head_mask, encoder_hidden_states, encoder_attention_mask, past_key_value, output_attentions)\u001B[0m\n\u001B[0;32m    534\u001B[0m     cross_attn_present_key_value \u001B[38;5;241m=\u001B[39m cross_attention_outputs[\u001B[38;5;241m-\u001B[39m\u001B[38;5;241m1\u001B[39m]\n\u001B[0;32m    535\u001B[0m     present_key_value \u001B[38;5;241m=\u001B[39m present_key_value \u001B[38;5;241m+\u001B[39m cross_attn_present_key_value\n\u001B[1;32m--> 537\u001B[0m layer_output \u001B[38;5;241m=\u001B[39m \u001B[43mapply_chunking_to_forward\u001B[49m\u001B[43m(\u001B[49m\n\u001B[0;32m    538\u001B[0m \u001B[43m    \u001B[49m\u001B[38;5;28;43mself\u001B[39;49m\u001B[38;5;241;43m.\u001B[39;49m\u001B[43mfeed_forward_chunk\u001B[49m\u001B[43m,\u001B[49m\u001B[43m \u001B[49m\u001B[38;5;28;43mself\u001B[39;49m\u001B[38;5;241;43m.\u001B[39;49m\u001B[43mchunk_size_feed_forward\u001B[49m\u001B[43m,\u001B[49m\u001B[43m \u001B[49m\u001B[38;5;28;43mself\u001B[39;49m\u001B[38;5;241;43m.\u001B[39;49m\u001B[43mseq_len_dim\u001B[49m\u001B[43m,\u001B[49m\u001B[43m \u001B[49m\u001B[43mattention_output\u001B[49m\n\u001B[0;32m    539\u001B[0m \u001B[43m\u001B[49m\u001B[43m)\u001B[49m\n\u001B[0;32m    540\u001B[0m outputs \u001B[38;5;241m=\u001B[39m (layer_output,) \u001B[38;5;241m+\u001B[39m outputs\n\u001B[0;32m    542\u001B[0m \u001B[38;5;66;03m# if decoder, return the attn key/values as the last output\u001B[39;00m\n",
      "File \u001B[1;32m~\\UnTrackedFolder\\textAnalytics\\venv\\lib\\site-packages\\transformers\\pytorch_utils.py:248\u001B[0m, in \u001B[0;36mapply_chunking_to_forward\u001B[1;34m(forward_fn, chunk_size, chunk_dim, *input_tensors)\u001B[0m\n\u001B[0;32m    245\u001B[0m     \u001B[38;5;66;03m# concatenate output at same dimension\u001B[39;00m\n\u001B[0;32m    246\u001B[0m     \u001B[38;5;28;01mreturn\u001B[39;00m torch\u001B[38;5;241m.\u001B[39mcat(output_chunks, dim\u001B[38;5;241m=\u001B[39mchunk_dim)\n\u001B[1;32m--> 248\u001B[0m \u001B[38;5;28;01mreturn\u001B[39;00m \u001B[43mforward_fn\u001B[49m\u001B[43m(\u001B[49m\u001B[38;5;241;43m*\u001B[39;49m\u001B[43minput_tensors\u001B[49m\u001B[43m)\u001B[49m\n",
      "File \u001B[1;32m~\\UnTrackedFolder\\textAnalytics\\venv\\lib\\site-packages\\transformers\\models\\bert\\modeling_bert.py:550\u001B[0m, in \u001B[0;36mBertLayer.feed_forward_chunk\u001B[1;34m(self, attention_output)\u001B[0m\n\u001B[0;32m    548\u001B[0m \u001B[38;5;28;01mdef\u001B[39;00m \u001B[38;5;21mfeed_forward_chunk\u001B[39m(\u001B[38;5;28mself\u001B[39m, attention_output):\n\u001B[0;32m    549\u001B[0m     intermediate_output \u001B[38;5;241m=\u001B[39m \u001B[38;5;28mself\u001B[39m\u001B[38;5;241m.\u001B[39mintermediate(attention_output)\n\u001B[1;32m--> 550\u001B[0m     layer_output \u001B[38;5;241m=\u001B[39m \u001B[38;5;28;43mself\u001B[39;49m\u001B[38;5;241;43m.\u001B[39;49m\u001B[43moutput\u001B[49m\u001B[43m(\u001B[49m\u001B[43mintermediate_output\u001B[49m\u001B[43m,\u001B[49m\u001B[43m \u001B[49m\u001B[43mattention_output\u001B[49m\u001B[43m)\u001B[49m\n\u001B[0;32m    551\u001B[0m     \u001B[38;5;28;01mreturn\u001B[39;00m layer_output\n",
      "File \u001B[1;32m~\\UnTrackedFolder\\textAnalytics\\venv\\lib\\site-packages\\torch\\nn\\modules\\module.py:1501\u001B[0m, in \u001B[0;36mModule._call_impl\u001B[1;34m(self, *args, **kwargs)\u001B[0m\n\u001B[0;32m   1496\u001B[0m \u001B[38;5;66;03m# If we don't have any hooks, we want to skip the rest of the logic in\u001B[39;00m\n\u001B[0;32m   1497\u001B[0m \u001B[38;5;66;03m# this function, and just call forward.\u001B[39;00m\n\u001B[0;32m   1498\u001B[0m \u001B[38;5;28;01mif\u001B[39;00m \u001B[38;5;129;01mnot\u001B[39;00m (\u001B[38;5;28mself\u001B[39m\u001B[38;5;241m.\u001B[39m_backward_hooks \u001B[38;5;129;01mor\u001B[39;00m \u001B[38;5;28mself\u001B[39m\u001B[38;5;241m.\u001B[39m_backward_pre_hooks \u001B[38;5;129;01mor\u001B[39;00m \u001B[38;5;28mself\u001B[39m\u001B[38;5;241m.\u001B[39m_forward_hooks \u001B[38;5;129;01mor\u001B[39;00m \u001B[38;5;28mself\u001B[39m\u001B[38;5;241m.\u001B[39m_forward_pre_hooks\n\u001B[0;32m   1499\u001B[0m         \u001B[38;5;129;01mor\u001B[39;00m _global_backward_pre_hooks \u001B[38;5;129;01mor\u001B[39;00m _global_backward_hooks\n\u001B[0;32m   1500\u001B[0m         \u001B[38;5;129;01mor\u001B[39;00m _global_forward_hooks \u001B[38;5;129;01mor\u001B[39;00m _global_forward_pre_hooks):\n\u001B[1;32m-> 1501\u001B[0m     \u001B[38;5;28;01mreturn\u001B[39;00m forward_call(\u001B[38;5;241m*\u001B[39margs, \u001B[38;5;241m*\u001B[39m\u001B[38;5;241m*\u001B[39mkwargs)\n\u001B[0;32m   1502\u001B[0m \u001B[38;5;66;03m# Do not call functions when jit is used\u001B[39;00m\n\u001B[0;32m   1503\u001B[0m full_backward_hooks, non_full_backward_hooks \u001B[38;5;241m=\u001B[39m [], []\n",
      "File \u001B[1;32m~\\UnTrackedFolder\\textAnalytics\\venv\\lib\\site-packages\\transformers\\models\\bert\\modeling_bert.py:462\u001B[0m, in \u001B[0;36mBertOutput.forward\u001B[1;34m(self, hidden_states, input_tensor)\u001B[0m\n\u001B[0;32m    461\u001B[0m \u001B[38;5;28;01mdef\u001B[39;00m \u001B[38;5;21mforward\u001B[39m(\u001B[38;5;28mself\u001B[39m, hidden_states: torch\u001B[38;5;241m.\u001B[39mTensor, input_tensor: torch\u001B[38;5;241m.\u001B[39mTensor) \u001B[38;5;241m-\u001B[39m\u001B[38;5;241m>\u001B[39m torch\u001B[38;5;241m.\u001B[39mTensor:\n\u001B[1;32m--> 462\u001B[0m     hidden_states \u001B[38;5;241m=\u001B[39m \u001B[38;5;28;43mself\u001B[39;49m\u001B[38;5;241;43m.\u001B[39;49m\u001B[43mdense\u001B[49m\u001B[43m(\u001B[49m\u001B[43mhidden_states\u001B[49m\u001B[43m)\u001B[49m\n\u001B[0;32m    463\u001B[0m     hidden_states \u001B[38;5;241m=\u001B[39m \u001B[38;5;28mself\u001B[39m\u001B[38;5;241m.\u001B[39mdropout(hidden_states)\n\u001B[0;32m    464\u001B[0m     hidden_states \u001B[38;5;241m=\u001B[39m \u001B[38;5;28mself\u001B[39m\u001B[38;5;241m.\u001B[39mLayerNorm(hidden_states \u001B[38;5;241m+\u001B[39m input_tensor)\n",
      "File \u001B[1;32m~\\UnTrackedFolder\\textAnalytics\\venv\\lib\\site-packages\\torch\\nn\\modules\\module.py:1501\u001B[0m, in \u001B[0;36mModule._call_impl\u001B[1;34m(self, *args, **kwargs)\u001B[0m\n\u001B[0;32m   1496\u001B[0m \u001B[38;5;66;03m# If we don't have any hooks, we want to skip the rest of the logic in\u001B[39;00m\n\u001B[0;32m   1497\u001B[0m \u001B[38;5;66;03m# this function, and just call forward.\u001B[39;00m\n\u001B[0;32m   1498\u001B[0m \u001B[38;5;28;01mif\u001B[39;00m \u001B[38;5;129;01mnot\u001B[39;00m (\u001B[38;5;28mself\u001B[39m\u001B[38;5;241m.\u001B[39m_backward_hooks \u001B[38;5;129;01mor\u001B[39;00m \u001B[38;5;28mself\u001B[39m\u001B[38;5;241m.\u001B[39m_backward_pre_hooks \u001B[38;5;129;01mor\u001B[39;00m \u001B[38;5;28mself\u001B[39m\u001B[38;5;241m.\u001B[39m_forward_hooks \u001B[38;5;129;01mor\u001B[39;00m \u001B[38;5;28mself\u001B[39m\u001B[38;5;241m.\u001B[39m_forward_pre_hooks\n\u001B[0;32m   1499\u001B[0m         \u001B[38;5;129;01mor\u001B[39;00m _global_backward_pre_hooks \u001B[38;5;129;01mor\u001B[39;00m _global_backward_hooks\n\u001B[0;32m   1500\u001B[0m         \u001B[38;5;129;01mor\u001B[39;00m _global_forward_hooks \u001B[38;5;129;01mor\u001B[39;00m _global_forward_pre_hooks):\n\u001B[1;32m-> 1501\u001B[0m     \u001B[38;5;28;01mreturn\u001B[39;00m forward_call(\u001B[38;5;241m*\u001B[39margs, \u001B[38;5;241m*\u001B[39m\u001B[38;5;241m*\u001B[39mkwargs)\n\u001B[0;32m   1502\u001B[0m \u001B[38;5;66;03m# Do not call functions when jit is used\u001B[39;00m\n\u001B[0;32m   1503\u001B[0m full_backward_hooks, non_full_backward_hooks \u001B[38;5;241m=\u001B[39m [], []\n",
      "File \u001B[1;32m~\\UnTrackedFolder\\textAnalytics\\venv\\lib\\site-packages\\torch\\nn\\modules\\linear.py:114\u001B[0m, in \u001B[0;36mLinear.forward\u001B[1;34m(self, input)\u001B[0m\n\u001B[0;32m    113\u001B[0m \u001B[38;5;28;01mdef\u001B[39;00m \u001B[38;5;21mforward\u001B[39m(\u001B[38;5;28mself\u001B[39m, \u001B[38;5;28minput\u001B[39m: Tensor) \u001B[38;5;241m-\u001B[39m\u001B[38;5;241m>\u001B[39m Tensor:\n\u001B[1;32m--> 114\u001B[0m     \u001B[38;5;28;01mreturn\u001B[39;00m \u001B[43mF\u001B[49m\u001B[38;5;241;43m.\u001B[39;49m\u001B[43mlinear\u001B[49m\u001B[43m(\u001B[49m\u001B[38;5;28;43minput\u001B[39;49m\u001B[43m,\u001B[49m\u001B[43m \u001B[49m\u001B[38;5;28;43mself\u001B[39;49m\u001B[38;5;241;43m.\u001B[39;49m\u001B[43mweight\u001B[49m\u001B[43m,\u001B[49m\u001B[43m \u001B[49m\u001B[38;5;28;43mself\u001B[39;49m\u001B[38;5;241;43m.\u001B[39;49m\u001B[43mbias\u001B[49m\u001B[43m)\u001B[49m\n",
      "\u001B[1;31mKeyboardInterrupt\u001B[0m: "
     ]
    }
   ],
   "source": [
    "import numpy as np\n",
    "import pandas as pd\n",
    "from umap import UMAP\n",
    "\n",
    "import matplotlib\n",
    "import matplotlib.pyplot as plt\n",
    "\n",
    "%matplotlib inline\n",
    "\n",
    "# Prepare data for plotting\n",
    "embeddings = model._extract_embeddings(reducedPapers['processedText'] , method=\"document\")\n",
    "umap_model = UMAP(n_neighbors=10, n_components=2, min_dist=0.0, metric='cosine').fit(embeddings)\n",
    "df = pd.DataFrame(umap_model.embedding_, columns=[\"x\", \"y\"])\n",
    "df[\"topic\"] = topics\n",
    "\n",
    "# Plot parameters\n",
    "top_n = 10\n",
    "fontsize = 12\n",
    "\n",
    "# Slice data\n",
    "to_plot = df.copy()\n",
    "to_plot[df.topic >= top_n] = -1\n",
    "outliers = to_plot.loc[to_plot.topic == -1]\n",
    "non_outliers = to_plot.loc[to_plot.topic != -1]\n",
    "\n",
    "# Visualize topics\n",
    "cmap = matplotlib.colors.ListedColormap(['#FF5722', # Red\n",
    "                                        '#03A9F4', # Blue\n",
    "                                        '#4CAF50', # Green\n",
    "                                        '#80CBC4', # FFEB3B\n",
    "                                        '#673AB7', # Purple\n",
    "                                        '#795548', # Brown\n",
    "                                        '#E91E63', # Pink\n",
    "                                        '#212121', # Black\n",
    "                                        '#00BCD4', # Light Blue\n",
    "                                        '#CDDC39', # Yellow/Red\n",
    "                                        '#AED581', # Light Green\n",
    "                                        '#FFE082', # Light Orange\n",
    "                                        '#BCAAA4', # Light Brown\n",
    "                                        '#B39DDB', # Light Purple\n",
    "                                        '#F48FB1', # Light Pink\n",
    "                                        ])\n",
    "\n",
    "# Visualize outliers + inliers\n",
    "fig, ax = plt.subplots(figsize=(15, 15))\n",
    "scatter_outliers = ax.scatter(outliers['x'], outliers['y'], c=\"#E0E0E0\", s=1, alpha=.3)\n",
    "scatter = ax.scatter(non_outliers['x'], non_outliers['y'], c=non_outliers['topic'], s=1, alpha=.3, cmap=cmap)\n",
    "\n",
    "# Add topic names to clusters\n",
    "centroids = to_plot.groupby(\"topic\").mean().reset_index().iloc[1:]\n",
    "for row in centroids.iterrows():\n",
    "   topic = int(row[1].topic)\n",
    "   text = f\"{topic}: \" + \"_\".join([x[0] for x in model.get_topic(topic)[:3]])\n",
    "   ax.text(row[1].x, row[1].y*1.01, text, fontsize=fontsize, horizontalalignment='center')\n",
    "\n",
    "ax.text(0.99, 0.01, f\"BERTopic - Top {top_n} topics\", transform=ax.transAxes, horizontalalignment=\"right\", color=\"black\")\n",
    "plt.xticks([], [])\n",
    "plt.yticks([], [])\n",
    "plt.savefig(\"BERTopic_Example_Cluster_Plot.png\")\n",
    "plt.show()"
   ],
   "metadata": {
    "collapsed": false,
    "ExecuteTime": {
     "start_time": "2023-04-06T14:35:41.239394Z",
     "end_time": "2023-04-06T14:39:08.187061Z"
    }
   }
  },
  {
   "cell_type": "code",
   "execution_count": 1,
   "outputs": [
    {
     "ename": "NameError",
     "evalue": "name 'model' is not defined",
     "output_type": "error",
     "traceback": [
      "\u001B[1;31m---------------------------------------------------------------------------\u001B[0m",
      "\u001B[1;31mNameError\u001B[0m                                 Traceback (most recent call last)",
      "Cell \u001B[1;32mIn[1], line 9\u001B[0m\n\u001B[0;32m      6\u001B[0m get_ipython()\u001B[38;5;241m.\u001B[39mrun_line_magic(\u001B[38;5;124m'\u001B[39m\u001B[38;5;124mmatplotlib\u001B[39m\u001B[38;5;124m'\u001B[39m, \u001B[38;5;124m'\u001B[39m\u001B[38;5;124minline\u001B[39m\u001B[38;5;124m'\u001B[39m)\n\u001B[0;32m      8\u001B[0m \u001B[38;5;66;03m# Prepare data for plotting\u001B[39;00m\n\u001B[1;32m----> 9\u001B[0m embeddings \u001B[38;5;241m=\u001B[39m \u001B[43mmodel\u001B[49m\u001B[38;5;241m.\u001B[39m_extract_embeddings(reducedPapers[\u001B[38;5;124m'\u001B[39m\u001B[38;5;124mprocessedText\u001B[39m\u001B[38;5;124m'\u001B[39m], method\u001B[38;5;241m=\u001B[39m\u001B[38;5;124m\"\u001B[39m\u001B[38;5;124mdocument\u001B[39m\u001B[38;5;124m\"\u001B[39m)\n\u001B[0;32m     10\u001B[0m umap_model \u001B[38;5;241m=\u001B[39m UMAP(n_neighbors\u001B[38;5;241m=\u001B[39m\u001B[38;5;241m10\u001B[39m, n_components\u001B[38;5;241m=\u001B[39m\u001B[38;5;241m2\u001B[39m, min_dist\u001B[38;5;241m=\u001B[39m\u001B[38;5;241m0.0\u001B[39m, metric\u001B[38;5;241m=\u001B[39m\u001B[38;5;124m'\u001B[39m\u001B[38;5;124mcosine\u001B[39m\u001B[38;5;124m'\u001B[39m)\u001B[38;5;241m.\u001B[39mfit(embeddings)\n\u001B[0;32m     11\u001B[0m df \u001B[38;5;241m=\u001B[39m pd\u001B[38;5;241m.\u001B[39mDataFrame(umap_model\u001B[38;5;241m.\u001B[39membedding_, columns\u001B[38;5;241m=\u001B[39m[\u001B[38;5;124m\"\u001B[39m\u001B[38;5;124mx\u001B[39m\u001B[38;5;124m\"\u001B[39m, \u001B[38;5;124m\"\u001B[39m\u001B[38;5;124my\u001B[39m\u001B[38;5;124m\"\u001B[39m])\n",
      "\u001B[1;31mNameError\u001B[0m: name 'model' is not defined"
     ]
    }
   ],
   "source": [
    "import numpy as np\n",
    "import pandas as pd\n",
    "from umap import UMAP\n",
    "import matplotlib.pyplot as plt\n",
    "import matplotlib\n",
    "%matplotlib inline\n",
    "\n",
    "# Prepare data for plotting\n",
    "embeddings = model._extract_embeddings(reducedPapers['processedText'], method=\"document\")\n",
    "umap_model = UMAP(n_neighbors=10, n_components=2, min_dist=0.0, metric='cosine').fit(embeddings)\n",
    "df = pd.DataFrame(umap_model.embedding_, columns=[\"x\", \"y\"])\n",
    "df[\"topic\"] = topics\n",
    "\n",
    "# Plot parameters\n",
    "top_n = 10\n",
    "fontsize = 12\n",
    "\n",
    "# Slice data\n",
    "to_plot = df.copy()\n",
    "to_plot[df.topic >= top_n] = -1\n",
    "outliers = to_plot.loc[to_plot.topic == -1]\n",
    "non_outliers = to_plot.loc[to_plot.topic != -1]\n",
    "\n",
    "# Dynamic color scale\n",
    "n_topics = len(np.unique(topics))\n",
    "cmap = plt.get_cmap('hsv_r', n_topics)\n",
    "\n",
    "# Visualize outliers + inliers\n",
    "fig, ax = plt.subplots(figsize=(20, 10))\n",
    "scatter_outliers = ax.scatter(outliers['x'], outliers['y'], c=\"#E0E0E0\", s=1, alpha=.3)\n",
    "scatter = ax.scatter(non_outliers['x'], non_outliers['y'], c=non_outliers['topic'], s=1, alpha=.3, cmap=cmap)\n",
    "\n",
    "# Add topic names to clusters\n",
    "centroids = to_plot.groupby(\"topic\").mean().reset_index().iloc[1:]\n",
    "for row in centroids.iterrows():\n",
    "   topic = int(row[1].topic)\n",
    "   text = f\"{topic}: \" + \"_\".join([x[0] for x in model.get_topic(topic)[:3]])\n",
    "   ax.text(row[1].x, row[1].y*1.01, text, fontsize=fontsize, horizontalalignment='center')\n",
    "\n",
    "ax.text(0.99, 0.01, f\"BERTopic - Top {top_n} topics\", transform=ax.transAxes, horizontalalignment=\"right\", color=\"black\")\n",
    "plt.xticks([], [])\n",
    "plt.yticks([], [])\n",
    "plt.colorbar(scatter)\n",
    "plt.savefig(\"./diagramOutput/mergeCluster.png\", dpi=600)\n",
    "plt.show(dpi=600)\n"
   ],
   "metadata": {
    "collapsed": false,
    "ExecuteTime": {
     "start_time": "2023-04-06T15:24:35.793443Z",
     "end_time": "2023-04-06T15:27:46.957376Z"
    }
   }
  },
  {
   "cell_type": "code",
   "execution_count": 16,
   "outputs": [
    {
     "data": {
      "text/plain": "<Figure size 640x480 with 0 Axes>"
     },
     "metadata": {},
     "output_type": "display_data"
    }
   ],
   "source": [
    "plt.savefig(\"./diagramOutput/mergeCluster.png\", dpi=600)"
   ],
   "metadata": {
    "collapsed": false,
    "ExecuteTime": {
     "start_time": "2023-04-06T15:22:22.154136Z",
     "end_time": "2023-04-06T15:22:22.620994Z"
    }
   }
  },
  {
   "cell_type": "code",
   "execution_count": null,
   "outputs": [],
   "source": [],
   "metadata": {
    "collapsed": false,
    "ExecuteTime": {
     "start_time": "2023-04-06T14:26:41.625108Z",
     "end_time": "2023-04-06T14:26:41.625108Z"
    }
   }
  },
  {
   "cell_type": "code",
   "execution_count": null,
   "outputs": [],
   "source": [],
   "metadata": {
    "collapsed": false,
    "ExecuteTime": {
     "start_time": "2023-04-06T14:26:43.747017Z",
     "end_time": "2023-04-06T14:26:43.778273Z"
    }
   }
  },
  {
   "cell_type": "code",
   "execution_count": null,
   "outputs": [],
   "source": [],
   "metadata": {
    "collapsed": false,
    "ExecuteTime": {
     "start_time": "2023-04-06T14:26:45.159166Z",
     "end_time": "2023-04-06T14:26:45.206035Z"
    }
   }
  },
  {
   "cell_type": "code",
   "execution_count": null,
   "outputs": [],
   "source": [],
   "metadata": {
    "collapsed": false,
    "ExecuteTime": {
     "start_time": "2023-04-06T14:26:48.820654Z",
     "end_time": "2023-04-06T14:26:48.836282Z"
    }
   }
  },
  {
   "cell_type": "code",
   "execution_count": null,
   "outputs": [],
   "source": [],
   "metadata": {
    "collapsed": false
   }
  }
 ],
 "metadata": {
  "kernelspec": {
   "display_name": "Python 3",
   "language": "python",
   "name": "python3"
  },
  "language_info": {
   "codemirror_mode": {
    "name": "ipython",
    "version": 2
   },
   "file_extension": ".py",
   "mimetype": "text/x-python",
   "name": "python",
   "nbconvert_exporter": "python",
   "pygments_lexer": "ipython2",
   "version": "2.7.6"
  }
 },
 "nbformat": 4,
 "nbformat_minor": 0
}
