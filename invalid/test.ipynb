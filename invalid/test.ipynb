{
 "cells": [
  {
   "cell_type": "code",
   "execution_count": 8,
   "metadata": {
    "collapsed": true
   },
   "outputs": [
    {
     "name": "stderr",
     "output_type": "stream",
     "text": [
      "Some weights of the model checkpoint at bert-base-uncased were not used when initializing BertModel: ['cls.predictions.transform.dense.weight', 'cls.seq_relationship.bias', 'cls.seq_relationship.weight', 'cls.predictions.decoder.weight', 'cls.predictions.transform.LayerNorm.bias', 'cls.predictions.transform.LayerNorm.weight', 'cls.predictions.bias', 'cls.predictions.transform.dense.bias']\n",
      "- This IS expected if you are initializing BertModel from the checkpoint of a model trained on another task or with another architecture (e.g. initializing a BertForSequenceClassification model from a BertForPreTraining model).\n",
      "- This IS NOT expected if you are initializing BertModel from the checkpoint of a model that you expect to be exactly identical (initializing a BertForSequenceClassification model from a BertForSequenceClassification model).\n"
     ]
    },
    {
     "ename": "AttributeError",
     "evalue": "'BertModel' object has no attribute 'checkpoint'",
     "output_type": "error",
     "traceback": [
      "\u001B[1;31m---------------------------------------------------------------------------\u001B[0m",
      "\u001B[1;31mAttributeError\u001B[0m                            Traceback (most recent call last)",
      "Cell \u001B[1;32mIn[8], line 39\u001B[0m\n\u001B[0;32m     37\u001B[0m     inputs \u001B[38;5;241m=\u001B[39m tokenizer(docs_batch, padding\u001B[38;5;241m=\u001B[39m\u001B[38;5;28;01mTrue\u001B[39;00m, truncation\u001B[38;5;241m=\u001B[39m\u001B[38;5;28;01mTrue\u001B[39;00m, return_tensors\u001B[38;5;241m=\u001B[39m\u001B[38;5;124m\"\u001B[39m\u001B[38;5;124mpt\u001B[39m\u001B[38;5;124m\"\u001B[39m)\n\u001B[0;32m     38\u001B[0m     inputs \u001B[38;5;241m=\u001B[39m {k: v\u001B[38;5;241m.\u001B[39mhalf() \u001B[38;5;28;01mfor\u001B[39;00m k, v \u001B[38;5;129;01min\u001B[39;00m inputs\u001B[38;5;241m.\u001B[39mitems()}  \u001B[38;5;66;03m# convert input tensors to half-precision format\u001B[39;00m\n\u001B[1;32m---> 39\u001B[0m     outputs \u001B[38;5;241m=\u001B[39m \u001B[43mmodel\u001B[49m\u001B[38;5;241;43m.\u001B[39;49m\u001B[43mcheckpoint\u001B[49m(forward, inputs[\u001B[38;5;124m\"\u001B[39m\u001B[38;5;124minput_ids\u001B[39m\u001B[38;5;124m\"\u001B[39m], inputs[\u001B[38;5;124m\"\u001B[39m\u001B[38;5;124mattention_mask\u001B[39m\u001B[38;5;124m\"\u001B[39m])\n\u001B[0;32m     40\u001B[0m     outputs_list\u001B[38;5;241m.\u001B[39mappend(outputs[\u001B[38;5;241m0\u001B[39m]\u001B[38;5;241m.\u001B[39mdetach()\u001B[38;5;241m.\u001B[39mfloat()\u001B[38;5;241m.\u001B[39mnumpy())\n\u001B[0;32m     42\u001B[0m outputs \u001B[38;5;241m=\u001B[39m np\u001B[38;5;241m.\u001B[39mconcatenate(outputs_list)\n",
      "File \u001B[1;32m~\\UnTrackedFolder\\textAnalytics\\venv\\lib\\site-packages\\torch\\nn\\modules\\module.py:1614\u001B[0m, in \u001B[0;36mModule.__getattr__\u001B[1;34m(self, name)\u001B[0m\n\u001B[0;32m   1612\u001B[0m     \u001B[38;5;28;01mif\u001B[39;00m name \u001B[38;5;129;01min\u001B[39;00m modules:\n\u001B[0;32m   1613\u001B[0m         \u001B[38;5;28;01mreturn\u001B[39;00m modules[name]\n\u001B[1;32m-> 1614\u001B[0m \u001B[38;5;28;01mraise\u001B[39;00m \u001B[38;5;167;01mAttributeError\u001B[39;00m(\u001B[38;5;124m\"\u001B[39m\u001B[38;5;124m'\u001B[39m\u001B[38;5;132;01m{}\u001B[39;00m\u001B[38;5;124m'\u001B[39m\u001B[38;5;124m object has no attribute \u001B[39m\u001B[38;5;124m'\u001B[39m\u001B[38;5;132;01m{}\u001B[39;00m\u001B[38;5;124m'\u001B[39m\u001B[38;5;124m\"\u001B[39m\u001B[38;5;241m.\u001B[39mformat(\n\u001B[0;32m   1615\u001B[0m     \u001B[38;5;28mtype\u001B[39m(\u001B[38;5;28mself\u001B[39m)\u001B[38;5;241m.\u001B[39m\u001B[38;5;18m__name__\u001B[39m, name))\n",
      "\u001B[1;31mAttributeError\u001B[0m: 'BertModel' object has no attribute 'checkpoint'"
     ]
    }
   ],
   "source": [
    "import pandas as pd\n",
    "import numpy as np\n",
    "import umap\n",
    "import hdbscan\n",
    "import torch\n",
    "from transformers import AutoTokenizer, AutoModel\n",
    "\n",
    "# Load the preprocessed data\n",
    "data = pd.read_csv(\"../processedData/processedData.csv\")\n",
    "\n",
    "# Convert the timePeriod column to datetime format\n",
    "data[\"timePeriod\"] = pd.to_datetime(data[\"timePeriod\"])\n",
    "\n",
    "# Extract the processedText and timePeriod columns\n",
    "docs = data[\"processedText\"].tolist()\n",
    "time_periods = data[\"timePeriod\"].tolist()\n",
    "\n",
    "# Initialize the BERT tokenizer and model\n",
    "tokenizer = AutoTokenizer.from_pretrained(\"bert-base-uncased\")\n",
    "model = AutoModel.from_pretrained(\"bert-base-uncased\", output_attentions=True, output_hidden_states=True)\n",
    "model.half()  # convert model to half-precision format\n",
    "\n",
    "# Define a forward function for checkpointing\n",
    "def forward(input_ids, attention_mask):\n",
    "    outputs = model(input_ids=input_ids, attention_mask=attention_mask)\n",
    "    last_hidden_state = outputs.last_hidden_state\n",
    "    attentions = outputs.attentions\n",
    "    hidden_states = outputs.hidden_states\n",
    "    return last_hidden_state, attentions, hidden_states\n",
    "\n",
    "# Encode the documents using BERT with gradient checkpointing and half-precision format\n",
    "batch_size = 16\n",
    "outputs_list = []\n",
    "\n",
    "for i in range(0, len(docs), batch_size):\n",
    "    docs_batch = docs[i:i+batch_size]\n",
    "    inputs = tokenizer(docs_batch, padding=True, truncation=True, return_tensors=\"pt\")\n",
    "    inputs = {k: v.half() for k, v in inputs.items()}  # convert input tensors to half-precision format\n",
    "    outputs = model.checkpoint(forward, inputs[\"input_ids\"], inputs[\"attention_mask\"])\n",
    "    outputs_list.append(outputs[0].detach().float().numpy())\n",
    "\n",
    "outputs = np.concatenate(outputs_list)\n",
    "\n",
    "# Project the document embeddings to a lower-dimensional space using UMAP\n",
    "umap_model = umap.UMAP(n_components=2, random_state=42)\n",
    "umap_embeddings = umap_model.fit_transform(outputs)\n",
    "\n",
    "# Cluster the documents using HDBSCAN\n",
    "hdbscan_model = hdbscan.HDBSCAN(min_samples=10, min_cluster_size=50)\n",
    "hdbscan_clusters = hdbscan_model.fit_predict(umap_embeddings)\n",
    "\n",
    "# Create a new dataframe with the UMAP embeddings and HDBSCAN clusters\n",
    "umap_df = pd.DataFrame(umap_embeddings, columns=[\"UMAP 1\", \"UMAP 2\"])\n",
    "umap_df[\"HDBSCAN Cluster\"] = hdbscan_clusters\n",
    "umap_df[\"Time Period\"] = time_periods\n",
    "\n",
    "# Plot the UMAP embeddings and HDBSCAN clusters by time period\n",
    "import seaborn as sns\n",
    "import matplotlib.pyplot as plt\n",
    "\n",
    "sns.scatterplot(data=umap_df, x=\"UMAP 1\", y=\"UMAP 2\", hue=\"HDBSCAN Cluster\", style=\"HDBSCAN Cluster\", alpha=0.5)\n",
    "plt.title(\"Topic Modeling Over Time\")\n",
    "plt.xlabel(\"UMAP 1\")\n",
    "plt.ylabel(\"UMAP 2\")\n",
    "plt.show()\n"
   ]
  },
  {
   "cell_type": "code",
   "execution_count": null,
   "outputs": [],
   "source": [],
   "metadata": {
    "collapsed": false
   }
  }
 ],
 "metadata": {
  "kernelspec": {
   "display_name": "Python 3",
   "language": "python",
   "name": "python3"
  },
  "language_info": {
   "codemirror_mode": {
    "name": "ipython",
    "version": 2
   },
   "file_extension": ".py",
   "mimetype": "text/x-python",
   "name": "python",
   "nbconvert_exporter": "python",
   "pygments_lexer": "ipython2",
   "version": "2.7.6"
  }
 },
 "nbformat": 4,
 "nbformat_minor": 0
}
